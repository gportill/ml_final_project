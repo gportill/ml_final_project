{
  "cells": [
    {
      "cell_type": "code",
      "execution_count": 1,
      "metadata": {
        "id": "lqyyyb6QMWHD"
      },
      "outputs": [],
      "source": [
        "import numpy as np\n",
        "import pandas as pd\n",
        "import matplotlib.pyplot as plt\n",
        "import os\n",
        "import math\n",
        "from datetime import datetime\n",
        "\n",
        "#print options to data exploration\n",
        "pd.set_option('display.max_columns', None)\n",
        "pd.set_option('display.max_rows', 25)"
      ]
    },
    {
      "cell_type": "code",
      "execution_count": 33,
      "metadata": {
        "colab": {
          "base_uri": "https://localhost:8080/"
        },
        "id": "8Cgbe4g5MWHH",
        "outputId": "0ebe5469-b261-4d9b-bdb6-fa732087a73c"
      },
      "outputs": [
        {
          "output_type": "execute_result",
          "data": {
            "text/plain": [
              "0.06854696327683615"
            ]
          },
          "metadata": {},
          "execution_count": 33
        }
      ],
      "source": [
        "#everyone can set their own while working. Personally I leave this blank because relative works for me\n",
        "personal_path = ''\n",
        "path_covid = os.path.join(personal_path, \"full.csv\")\n",
        "df = pd.read_csv(path_covid)\n",
        "df['new_cases_per_million'].isna().sum()/len(df['new_cases_per_million'])"
      ]
    },
    {
      "cell_type": "code",
      "execution_count": 34,
      "metadata": {
        "id": "MdM-2qyCMWHK",
        "colab": {
          "base_uri": "https://localhost:8080/",
          "height": 390
        },
        "outputId": "59dc1d9b-4255-46b2-b4ad-b093dd78d1be"
      },
      "outputs": [
        {
          "output_type": "display_data",
          "data": {
            "image/png": "[encoded data removed]",
            "text/plain": [
              "<Figure size 864x432 with 1 Axes>"
            ]
          },
          "metadata": {
            "needs_background": "light"
          }
        }
      ],
      "source": [
        "plt.figure(figsize=(12, 6))\n",
        "plt.bar(x=np.arange(0, len(df.columns)), height = np.sort(df.isna().sum() / len(df))[::-1])\n",
        "plt.title('Proportion of Missingness in Each Feature')\n",
        "plt.show()"
      ]
    },
    {
      "cell_type": "code",
      "execution_count": 35,
      "metadata": {
        "colab": {
          "base_uri": "https://localhost:8080/"
        },
        "id": "BNyuR9-mMWHL",
        "outputId": "528bfd09-c022-43b6-a587-9c3de42fea5a"
      },
      "outputs": [
        {
          "output_type": "execute_result",
          "data": {
            "text/plain": [
              "Index(['iso_code', 'date', 'continent', 'location', 'total_cases', 'new_cases',\n",
              "       'new_cases_smoothed', 'total_deaths', 'new_deaths',\n",
              "       'new_deaths_smoothed', 'total_cases_per_million',\n",
              "       'new_cases_per_million', 'new_cases_smoothed_per_million',\n",
              "       'total_deaths_per_million', 'new_deaths_per_million',\n",
              "       'new_deaths_smoothed_per_million', 'reproduction_rate', 'new_tests',\n",
              "       'total_tests', 'total_tests_per_thousand', 'new_tests_per_thousand',\n",
              "       'new_tests_smoothed', 'new_tests_smoothed_per_thousand',\n",
              "       'positive_rate', 'tests_per_case', 'tests_units',\n",
              "       'new_vaccinations_smoothed', 'new_vaccinations_smoothed_per_million',\n",
              "       'new_people_vaccinated_smoothed',\n",
              "       'new_people_vaccinated_smoothed_per_hundred', 'stringency_index',\n",
              "       'population', 'population_density', 'median_age', 'aged_65_older',\n",
              "       'aged_70_older', 'gdp_per_capita', 'extreme_poverty',\n",
              "       'cardiovasc_death_rate', 'diabetes_prevalence', 'female_smokers',\n",
              "       'male_smokers', 'handwashing_facilities', 'hospital_beds_per_thousand',\n",
              "       'life_expectancy', 'human_development_index', 'daily_people_vaccinated',\n",
              "       'daily_people_vaccinated_per_hundred', 'daily_vaccinations',\n",
              "       'daily_vaccinations_per_million'],\n",
              "      dtype='object')"
            ]
          },
          "metadata": {},
          "execution_count": 35
        }
      ],
      "source": [
        "df = df.loc[:, df.isna().sum() / len(df) < 0.65]\n",
        "df.columns"
      ]
    },
    {
      "cell_type": "code",
      "execution_count": 36,
      "metadata": {
        "id": "QW_NdiB3MWHM"
      },
      "outputs": [],
      "source": [
        "df['date'] = pd.to_datetime(df['date'])\n",
        "df['date_delta'] = (df['date'] - df['date'].min())  / np.timedelta64(1,'D')\n",
        "df_sub = df[['date_delta','new_tests',\n",
        "       'total_tests', 'total_tests_per_thousand', 'new_tests_per_thousand',\n",
        "       'new_tests_smoothed', 'new_tests_smoothed_per_thousand',\n",
        "       'positive_rate',\n",
        "       'new_vaccinations_smoothed', 'new_vaccinations_smoothed_per_million',\n",
        "       'new_people_vaccinated_smoothed',\n",
        "       'new_people_vaccinated_smoothed_per_hundred','daily_people_vaccinated',\n",
        "       'daily_people_vaccinated_per_hundred', 'daily_vaccinations',\n",
        "       'daily_vaccinations_per_million']]\n",
        "y = df[['new_cases_per_million']] #this is the field we want to predict"
      ]
    },
    {
      "cell_type": "code",
      "execution_count": 37,
      "metadata": {
        "colab": {
          "base_uri": "https://localhost:8080/",
          "height": 622
        },
        "id": "JGZRsA0_MWHN",
        "outputId": "483f87d8-da19-4046-c4fe-dee85b064d49"
      },
      "outputs": [
        {
          "output_type": "display_data",
          "data": {
            "image/png": "[encoded data removed]",
            "text/plain": [
              "<Figure size 864x432 with 1 Axes>"
            ]
          },
          "metadata": {
            "needs_background": "light"
          }
        }
      ],
      "source": [
        "plt.figure(figsize=(12, 6))\n",
        "plt.bar(x=df_sub.columns, height = df_sub.isna().sum() / len(df_sub))\n",
        "plt.title('Proportion of Missingness in Each Feature')\n",
        "plt.xticks(rotation=90)\n",
        "plt.show()"
      ]
    },
    {
      "cell_type": "code",
      "source": [
        ""
      ],
      "metadata": {
        "id": "wRYL9zOJT1B6"
      },
      "execution_count": 37,
      "outputs": []
    },
    {
      "cell_type": "code",
      "execution_count": 54,
      "metadata": {
        "id": "YQZ9_fVwMWHN"
      },
      "outputs": [],
      "source": [
        "from sklearn.model_selection import train_test_split\n",
        "from sklearn.experimental import enable_iterative_imputer\n",
        "from sklearn.impute import IterativeImputer\n",
        "from sklearn.linear_model import BayesianRidge\n",
        "import torch.nn as nn\n",
        "train_X, validtest_X, train_y, validtest_y = train_test_split(df_sub, y, train_size = 0.8, random_state = 42, shuffle=False)\n",
        "valid_X, test_X, valid_y, test_y = train_test_split(validtest_X, validtest_y, train_size = 0.5, random_state = 42, shuffle=False)"
      ]
    },
    {
      "cell_type": "code",
      "execution_count": 120,
      "metadata": {
        "colab": {
          "base_uri": "https://localhost:8080/"
        },
        "id": "qR11TK5SMWHO",
        "outputId": "bbd842db-3297-495e-f3e7-8f56d10fe93c"
      },
      "outputs": [
        {
          "output_type": "stream",
          "name": "stderr",
          "text": [
            "/usr/local/lib/python3.7/dist-packages/sklearn/impute/_iterative.py:701: ConvergenceWarning: [IterativeImputer] Early stopping criterion not reached.\n",
            "  ConvergenceWarning,\n"
          ]
        }
      ],
      "source": [
        "imputer_split = IterativeImputer(estimator = BayesianRidge(), max_iter = 20, min_value = df_sub.min(axis=0), max_value = df_sub.max(axis=0), random_state=42)\n",
        "train_X_imputed = pd.DataFrame(imputer_split.fit_transform(train_X))\n",
        "valid_X_imputed = pd.DataFrame(imputer_split.transform(valid_X))\n",
        "test_X_imputed = pd.DataFrame(imputer_split.transform(test_X))\n",
        "train_X_imputed.columns = df_sub.columns\n",
        "valid_X_imputed.columns = df_sub.columns\n",
        "test_X_imputed.columns = df_sub.columns\n",
        "# is it ok to impute on test with train  data\n",
        "# use an easy imputer\n"
      ]
    },
    {
      "cell_type": "code",
      "source": [
        "train_y_imputed = train_y.fillna(method='ffill').fillna(0)\n",
        "valid_y_imputed = valid_y.fillna(method='ffill')\n",
        "test_y_imputed = test_y.fillna(method='ffill').fillna(0)"
      ],
      "metadata": {
        "id": "veaNgvzxipge"
      },
      "execution_count": 153,
      "outputs": []
    },
    {
      "cell_type": "code",
      "source": [
        "from sklearn.preprocessing import MinMaxScaler\n",
        "scaler = MinMaxScaler()\n",
        "X_train_arr = pd.DataFrame(scaler.fit_transform(train_X_imputed))\n",
        "X_val_arr = pd.DataFrame(scaler.transform(valid_X_imputed))\n",
        "X_test_arr = pd.DataFrame(scaler.transform(test_X_imputed))"
      ],
      "metadata": {
        "id": "XgjYDiOFT4PA"
      },
      "execution_count": 154,
      "outputs": []
    },
    {
      "cell_type": "code",
      "source": [
        "y_train_arr = scaler.fit_transform(train_y_imputed)\n",
        "y_val_arr = scaler.transform(valid_y_imputed)\n",
        "y_test_arr = scaler.transform(test_y_imputed)"
      ],
      "metadata": {
        "id": "rDT3ygHCT-GN"
      },
      "execution_count": 155,
      "outputs": []
    },
    {
      "cell_type": "code",
      "source": [
        "print(np.any(np.isnan(X_train_arr)))\n",
        "print(np.any(np.isnan(y_train_arr)))"
      ],
      "metadata": {
        "colab": {
          "base_uri": "https://localhost:8080/"
        },
        "id": "GEw8Rd7kdQb6",
        "outputId": "3d5a118f-e00f-4771-eb04-3a98c0a9a375"
      },
      "execution_count": 156,
      "outputs": [
        {
          "output_type": "stream",
          "name": "stdout",
          "text": [
            "False\n",
            "False\n"
          ]
        }
      ]
    },
    {
      "cell_type": "code",
      "source": [
        "X_train_arr.columns = df_sub.columns\n",
        "X_val_arr.columns = df_sub.columns\n",
        "X_test_arr.columns = df_sub.columns"
      ],
      "metadata": {
        "id": "nnYZ9-mWT_dg"
      },
      "execution_count": 157,
      "outputs": []
    },
    {
      "cell_type": "code",
      "execution_count": 158,
      "metadata": {
        "id": "eyvyF_1KMWHP"
      },
      "outputs": [],
      "source": [
        "def make_time_stepped(X, X_old, y, t):\n",
        "    X_new = []\n",
        "    y_new = []\n",
        "    for i in range(math.floor(len(y) / t)):\n",
        "        start_date = X_old.iloc[t*i]['date_delta']\n",
        "        data_side = X_old.iloc[t*i:t*i + t]['date_delta']\n",
        "        check_side = [start_date + j for j in range(t)]\n",
        "        equality_condition = (data_side == check_side).all()\n",
        "        if len(X.iloc[t*i:t*i + t]) == t:\n",
        "            if equality_condition:\n",
        "                y_new.append(y[t*i:t*i + t].sum()) #delta cases\n",
        "                X_new.append(X[t*i:t*i + t])\n",
        "    return X_new, np.array(y_new)"
      ]
    },
    {
      "cell_type": "code",
      "execution_count": 159,
      "metadata": {
        "id": "CAtouWUTMWHP"
      },
      "outputs": [],
      "source": [
        "t = 5\n",
        "train_X_timed, train_y_timed = make_time_stepped(X_train_arr, train_X_imputed, y_train_arr, t)\n",
        "valid_X_timed, valid_y_timed = make_time_stepped(X_val_arr, valid_X_imputed,y_val_arr, t)\n",
        "test_X_timed, test_y_timed = make_time_stepped(X_test_arr, test_X_imputed, y_test_arr, t)"
      ]
    },
    {
      "cell_type": "code",
      "execution_count": 160,
      "metadata": {
        "id": "GdbhRSQ9MWHQ"
      },
      "outputs": [],
      "source": [
        "train_X_timed = np.moveaxis(np.dstack(train_X_timed), 2, 0)\n",
        "valid_X_timed = np.moveaxis(np.dstack(valid_X_timed), 2, 0)\n",
        "test_X_timed = np.moveaxis(np.dstack(test_X_timed), 2, 0)"
      ]
    },
    {
      "cell_type": "code",
      "execution_count": 177,
      "metadata": {
        "id": "hNPhLsfGMWHQ"
      },
      "outputs": [],
      "source": [
        "from torch.utils.data import TensorDataset, DataLoader\n",
        "import torch\n",
        "\n",
        "# TODO might want to change batch size\n",
        "batch_size = 64\n",
        "\n",
        "# Convert all feature and outcome numpy arrays into tensors\n",
        "train_features = torch.Tensor(train_X_timed)\n",
        "train_targets = torch.Tensor(train_y_timed)\n",
        "val_features = torch.Tensor(valid_X_timed)\n",
        "val_targets = torch.Tensor(valid_y_timed)\n",
        "test_features = torch.Tensor(test_X_timed)\n",
        "test_targets = torch.Tensor(test_y_timed)\n",
        "\n",
        "# Combine feature and outcome tensors into TensorDatasets\n",
        "train = TensorDataset(train_features, train_targets)\n",
        "val = TensorDataset(val_features, val_targets)\n",
        "test = TensorDataset(test_features, test_targets)\n",
        "\n",
        "# Load TensorDatasets into DataLoader\n",
        "train_loader = DataLoader(train, batch_size=batch_size, shuffle=False, drop_last=True)\n",
        "train_loader_one = DataLoader(train, batch_size=1, shuffle=False, drop_last=True)\n",
        "val_loader = DataLoader(val, batch_size=batch_size, shuffle=False, drop_last=True)\n",
        "test_loader = DataLoader(test, batch_size=batch_size, shuffle=False, drop_last=True)\n",
        "# Extra DataLoader with batch size 1\n",
        "test_loader_one = DataLoader(test, batch_size=1, shuffle=False, drop_last=True)"
      ]
    },
    {
      "cell_type": "code",
      "execution_count": 162,
      "metadata": {
        "id": "X2h2fgNBMWHR"
      },
      "outputs": [],
      "source": [
        "class RNNModel(nn.Module):\n",
        "    def __init__(self, input_dim, hidden_dim, layer_dim, output_dim, dropout_prob):\n",
        "        super(RNNModel, self).__init__()\n",
        "        self.hidden_dim = hidden_dim\n",
        "        self.layer_dim = layer_dim\n",
        "        self.rnn = nn.RNN(\n",
        "            input_dim, hidden_dim, layer_dim, batch_first=True, dropout=dropout_prob\n",
        "        )\n",
        "        self.fc = nn.Linear(hidden_dim, output_dim)\n",
        "    def forward(self, x):\n",
        "        # Initialize hidden state for first input with zeros\n",
        "        h0 = torch.zeros(self.layer_dim, x.size(0), self.hidden_dim, device=device).requires_grad_()\n",
        "\n",
        "        # Forward propagation by passing in the input and hidden state into the model\n",
        "        out, h0 = self.rnn(x, h0.detach())\n",
        "\n",
        "        # Reshaping the outputs in the shape of (batch_size, seq_length, hidden_size)\n",
        "        # so that it can fit into the fully connected layer\n",
        "        out = out[:, -1, :]\n",
        "\n",
        "        # Convert the final state to our desired output shape (batch_size, output_dim)\n",
        "        out = self.fc(out)\n",
        "        return out"
      ]
    },
    {
      "cell_type": "code",
      "execution_count": 163,
      "metadata": {
        "id": "g9AOR15cMWHR"
      },
      "outputs": [],
      "source": [
        "class LSTMModel(nn.Module):\n",
        "    def __init__(self, input_dim, hidden_dim, layer_dim, output_dim, dropout_prob, device):\n",
        "        super(LSTMModel, self).__init__()\n",
        "\n",
        "        # Defining the number of layers and the nodes in each layer\n",
        "        self.hidden_dim = hidden_dim\n",
        "        self.layer_dim = layer_dim\n",
        "\n",
        "        # LSTM layers\n",
        "        self.lstm = nn.LSTM(\n",
        "            input_dim, hidden_dim, layer_dim, batch_first=True, dropout=dropout_prob\n",
        "        )\n",
        "\n",
        "        # Fully connected layer\n",
        "        self.fc = nn.Linear(hidden_dim, output_dim)\n",
        "\n",
        "    def forward(self, x):\n",
        "        # Initializing hidden state for first input with zeros\n",
        "        h0 = torch.zeros(self.layer_dim, x.size(0), self.hidden_dim, device=device).requires_grad_()\n",
        "\n",
        "        # Initializing cell state for first input with zeros\n",
        "        c0 = torch.zeros(self.layer_dim, x.size(0), self.hidden_dim, device=device).requires_grad_()\n",
        "\n",
        "        # We need to detach as we are doing truncated backpropagation through time (BPTT)\n",
        "        # If we don't, we'll backprop all the way to the start even after going through another batch\n",
        "        # Forward propagation by passing in the input, hidden state, and cell state into the model\n",
        "        out, (hn, cn) = self.lstm(x, (h0.detach(), c0.detach()))\n",
        "\n",
        "        # Reshaping the outputs in the shape of (batch_size, seq_length, hidden_size)\n",
        "        # so that it can fit into the fully connected layer\n",
        "        out = out[:, -1, :]\n",
        "\n",
        "        # Convert the final state to our desired output shape (batch_size, output_dim)\n",
        "        out = self.fc(out)\n",
        "\n",
        "        return out"
      ]
    },
    {
      "cell_type": "code",
      "execution_count": 164,
      "metadata": {
        "id": "1ELwlNbiMWHR"
      },
      "outputs": [],
      "source": [
        "def get_model(model, model_params):\n",
        "    models = {\n",
        "        \"rnn\": RNNModel,\n",
        "        \"lstm\": LSTMModel,\n",
        "    }\n",
        "    return models.get(model.lower())(**model_params)"
      ]
    },
    {
      "cell_type": "code",
      "execution_count": 165,
      "metadata": {
        "id": "GOfSIiiRMWHR"
      },
      "outputs": [],
      "source": [
        "device = \"cuda\" if torch.cuda.is_available() else \"cpu\""
      ]
    },
    {
      "cell_type": "code",
      "execution_count": 173,
      "metadata": {
        "id": "ouK-rlJhMWHS"
      },
      "outputs": [],
      "source": [
        "class Optimization:\n",
        "    def __init__(self, model, loss_fn, optimizer):\n",
        "        self.model = model\n",
        "        self.loss_fn = loss_fn\n",
        "        self.optimizer = optimizer\n",
        "        self.train_losses = []\n",
        "        self.val_losses = []\n",
        "    \n",
        "    def train_step(self, x, yreal):\n",
        "        self.model.train()\n",
        "        yhat = self.model(x)\n",
        "        loss = self.loss_fn(yreal.view(-1,1), yhat)\n",
        "        loss.backward() # backprop \n",
        "        self.optimizer.step() # update params\n",
        "        self.optimizer.zero_grad()\n",
        "        return loss.item()\n",
        "    \n",
        "    def train(self, train_loader, val_loader, model_path, batch_size=64, n_epochs=50, n_features=1):\n",
        "        for epoch in range(1, n_epochs + 1):\n",
        "            batch_losses = []\n",
        "            for x_batch, y_batch in train_loader:\n",
        "                x_batch = x_batch.view([batch_size, -1, n_features]).to(device)\n",
        "                y_batch = y_batch.to(device)\n",
        "                loss = self.train_step(x_batch, y_batch)\n",
        "                batch_losses.append(loss)\n",
        "            training_loss = np.mean(batch_losses)\n",
        "            self.train_losses.append(training_loss)\n",
        "\n",
        "            with torch.no_grad():\n",
        "                batch_val_losses = []\n",
        "                for x_val, y_val in val_loader:\n",
        "                    x_val = x_val.view([batch_size, -1, n_features]).to(device)\n",
        "                    y_val = y_val.to(device)\n",
        "                    self.model.eval()\n",
        "                    yhat = self.model(x_val)\n",
        "                    val_loss = self.loss_fn(y_val.view(-1,1), yhat).item()\n",
        "                    batch_val_losses.append(val_loss)\n",
        "                validation_loss = np.mean(batch_val_losses)\n",
        "                self.val_losses.append(validation_loss)\n",
        "\n",
        "            if (epoch % 50 == 0):\n",
        "                print(\n",
        "                    f\"[{epoch}/{n_epochs}] Training loss: {training_loss:.4f}\\t Validation loss: {validation_loss:.4f}\"\n",
        "                )\n",
        "\n",
        "        torch.save(self.model.state_dict(), model_path)\n",
        "    \n",
        "    def evaluate(self, test_loader, batch_size=1, n_features=1):\n",
        "        with torch.no_grad():\n",
        "            predictions = []\n",
        "            values = []\n",
        "            for x_test, y_test in test_loader:\n",
        "                x_test = x_test.view([batch_size, -1, n_features]).to(device)\n",
        "                y_test = y_test.to(device)\n",
        "                self.model.eval()\n",
        "                yhat = self.model(x_test)\n",
        "                predictions.append(yhat.cpu().numpy())\n",
        "                values.append(y_test.cpu().numpy())\n",
        "\n",
        "        return predictions, values\n",
        "    \n",
        "    def plot_losses(self):\n",
        "        plt.plot(self.train_losses, label=\"Training loss\")\n",
        "        plt.plot(self.val_losses, label=\"Validation loss\")\n",
        "        plt.legend()\n",
        "        plt.title(\"Losses\")\n",
        "        plt.show()\n",
        "        plt.close()"
      ]
    },
    {
      "cell_type": "code",
      "execution_count": null,
      "metadata": {
        "id": "SUR-wQUvMWHS",
        "outputId": "ce47359c-a7e1-433c-d5d1-ddf365c5865c",
        "colab": {
          "base_uri": "https://localhost:8080/"
        }
      },
      "outputs": [
        {
          "output_type": "stream",
          "name": "stdout",
          "text": [
            "[1/300] Training loss: 0.2059\t Validation loss: 0.0221\n",
            "[2/300] Training loss: 0.0116\t Validation loss: 0.0213\n",
            "[3/300] Training loss: 0.0105\t Validation loss: 0.0213\n",
            "[4/300] Training loss: 0.0103\t Validation loss: 0.0213\n",
            "[5/300] Training loss: 0.0101\t Validation loss: 0.0213\n",
            "[6/300] Training loss: 0.0100\t Validation loss: 0.0213\n",
            "[7/300] Training loss: 0.0099\t Validation loss: 0.0213\n",
            "[8/300] Training loss: 0.0098\t Validation loss: 0.0212\n",
            "[9/300] Training loss: 0.0098\t Validation loss: 0.0212\n",
            "[10/300] Training loss: 0.0098\t Validation loss: 0.0212\n",
            "[50/300] Training loss: 0.0077\t Validation loss: 0.0176\n",
            "[100/300] Training loss: 0.0072\t Validation loss: 0.0170\n"
          ]
        }
      ],
      "source": [
        "import torch.optim as optim\n",
        "\n",
        "input_dim = len(train_X.columns)\n",
        "output_dim = 1\n",
        "hidden_dim = 24\n",
        "layer_dim = 2\n",
        "dropout = 0.3\n",
        "n_epochs = 300 #train for more epochs\n",
        "learning_rate = 1e-3\n",
        "weight_decay = 1e-6\n",
        "\n",
        "model_params = {'input_dim': input_dim,\n",
        "                'hidden_dim' : hidden_dim,\n",
        "                'layer_dim' : layer_dim,\n",
        "                'output_dim' : output_dim,\n",
        "                'dropout_prob' : dropout}\n",
        "\n",
        "model = get_model('rnn', model_params)\n",
        "model = model.to(device)  # Change this line if you want a different model ('rnn')\n",
        "\n",
        "loss_fn = nn.MSELoss(reduction=\"mean\")\n",
        "optimizer = optim.Adam(model.parameters(), lr=learning_rate, weight_decay=weight_decay)\n",
        "\n",
        "opt = Optimization(model=model, loss_fn=loss_fn, optimizer=optimizer)\n",
        "opt.train(train_loader, val_loader, 'models/rnn_start.pt', batch_size=batch_size, n_epochs=n_epochs, n_features=input_dim)\n",
        "opt.plot_losses()\n",
        "\n",
        "predictions, values = opt.evaluate(test_loader_one, batch_size=1, n_features=input_dim)"
      ]
    },
    {
      "cell_type": "code",
      "source": [
        "predictions, values = opt.evaluate(train_loader_one, batch_size=1, n_features=input_dim)"
      ],
      "metadata": {
        "id": "wyJFuOm9wsUf"
      },
      "execution_count": 186,
      "outputs": []
    },
    {
      "cell_type": "code",
      "execution_count": 187,
      "metadata": {
        "id": "mXfqUGXQMWHT"
      },
      "outputs": [],
      "source": [
        "from sklearn.metrics import mean_absolute_error, mean_squared_error, r2_score\n",
        "def inverse_transform(scaler, df, columns):\n",
        "   for col in columns:\n",
        "       df[col] = scaler.inverse_transform(df[col])\n",
        "   return df\n",
        "\n",
        "def format_predictions(predictions, values, df_test):\n",
        "    vals = np.concatenate(values, axis=0).ravel()\n",
        "    preds = np.concatenate(predictions, axis=0).ravel()\n",
        "    df_result = pd.DataFrame(data={\"value\": vals, \"prediction\": preds}, index=df_test.head(len(vals)).index)\n",
        "    df_result = df_result.sort_index()\n",
        "    df_result = inverse_transform(scaler, df_result, [[\"value\", \"prediction\"]])\n",
        "    return df_result\n",
        "\n",
        "def calculate_metrics(df):\n",
        "    return {'mae' : mean_absolute_error(df.value, df.prediction),\n",
        "            'rmse' : mean_squared_error(df.value, df.prediction) ** 0.5,\n",
        "            'r2' : r2_score(df.value, df.prediction)}\n",
        "\n",
        "df_result = format_predictions(predictions, values, train_X)\n",
        "result_metrics = calculate_metrics(df_result)"
      ]
    },
    {
      "cell_type": "code",
      "execution_count": 188,
      "metadata": {
        "id": "RDbEAhacMWHT",
        "outputId": "9d05f601-f237-490c-bddd-09b644761b98",
        "colab": {
          "base_uri": "https://localhost:8080/"
        }
      },
      "outputs": [
        {
          "output_type": "execute_result",
          "data": {
            "text/plain": [
              "{'mae': 372.96283, 'r2': 0.4536041221641294, 'rmse': 637.1476967705369}"
            ]
          },
          "metadata": {},
          "execution_count": 188
        }
      ],
      "source": [
        "result_metrics #rnn"
      ]
    },
    {
      "cell_type": "code",
      "execution_count": null,
      "metadata": {
        "id": "CBHeZ_7RMWHT",
        "outputId": "a135f19a-4f39-4a45-96bc-ff53e66e8961"
      },
      "outputs": [
        {
          "data": {
            "text/plain": [
              "22107"
            ]
          },
          "execution_count": 167,
          "metadata": {},
          "output_type": "execute_result"
        }
      ],
      "source": [
        "len(train_X_timed)"
      ]
    },
    {
      "cell_type": "code",
      "execution_count": null,
      "metadata": {
        "id": "Vc2645ddMWHU",
        "outputId": "723d24d1-e17a-4534-84c5-11402c782584"
      },
      "outputs": [
        {
          "data": {
            "text/plain": [
              "2762"
            ]
          },
          "execution_count": 168,
          "metadata": {},
          "output_type": "execute_result"
        }
      ],
      "source": [
        "len(test_X_timed)"
      ]
    },
    {
      "cell_type": "code",
      "execution_count": null,
      "metadata": {
        "id": "XA6ZBoZgMWHU",
        "outputId": "28c39530-dd16-4cbd-c94e-2a258a9bcf24"
      },
      "outputs": [
        {
          "data": {
            "text/plain": [
              "2760"
            ]
          },
          "execution_count": 169,
          "metadata": {},
          "output_type": "execute_result"
        }
      ],
      "source": [
        "len(valid_X_timed)"
      ]
    }
  ],
  "metadata": {
    "accelerator": "GPU",
    "colab": {
      "name": "TimeSeries.ipynb",
      "provenance": []
    },
    "kernelspec": {
      "display_name": "Python 3",
      "language": "python",
      "name": "python3"
    },
    "language_info": {
      "codemirror_mode": {
        "name": "ipython",
        "version": 3
      },
      "file_extension": ".py",
      "mimetype": "text/x-python",
      "name": "python",
      "nbconvert_exporter": "python",
      "pygments_lexer": "ipython3",
      "version": "3.8.10"
    }
  },
  "nbformat": 4,
  "nbformat_minor": 0
}