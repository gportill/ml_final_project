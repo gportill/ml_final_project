{
  "nbformat": 4,
  "nbformat_minor": 0,
  "metadata": {
    "colab": {
      "name": "Linear_Regression.ipynb",
      "provenance": [],
      "collapsed_sections": []
    },
    "kernelspec": {
      "name": "python3",
      "display_name": "Python 3"
    },
    "language_info": {
      "name": "python"
    }
  },
  "cells": [
    {
      "cell_type": "code",
      "execution_count": 15,
      "metadata": {
        "colab": {
          "base_uri": "https://localhost:8080/"
        },
        "id": "Vp3TYOHCd2LC",
        "outputId": "21932f8c-23af-48ae-92a4-87ff343630e8"
      },
      "outputs": [
        {
          "output_type": "stream",
          "name": "stdout",
          "text": [
            "Drive already mounted at /content/drive; to attempt to forcibly remount, call drive.mount(\"/content/drive\", force_remount=True).\n"
          ]
        }
      ],
      "source": [
        "import numpy as np\n",
        "import pandas as pd\n",
        "import matplotlib.pyplot as plt\n",
        "import os\n",
        "\n",
        "#print options to data exploration\n",
        "pd.set_option('display.max_columns', None)\n",
        "pd.set_option('display.max_rows', 200)\n",
        "\n",
        "from google.colab import drive\n",
        "drive.mount('/content/drive')"
      ]
    },
    {
      "cell_type": "markdown",
      "source": [
        "To begin forming our linear regression models we load in our imputed data set."
      ],
      "metadata": {
        "id": "dXkdQeXIlVrO"
      }
    },
    {
      "cell_type": "code",
      "source": [
        "personal_path = '/content/drive/My Drive/'\n",
        "path_full = os.path.join(personal_path, \"biweekly_imputed_old.csv\")\n",
        "df = pd.read_csv(path_full)"
      ],
      "metadata": {
        "id": "g8gbwEcmd-Fl"
      },
      "execution_count": 34,
      "outputs": []
    },
    {
      "cell_type": "markdown",
      "source": [
        "For our first model the reponse will be the number of new Covid cases per million people on a particular day in a particular country. For now we not interested in predicting the reponse of future data points, rather we are interested in direct interpretation of the regression coefficients. Therefore, we forgo splitting the data into a train and test set. \n",
        "\n",
        "Therefore, we also drop irrelevant/unineteresting features. For example, having the positive rate of Covid tests on a particular day will indeed be useful for predicting the number of new cases but this relationship is fundamentally obvious.\n",
        "\n",
        "We hope most of the predictor names are sufficiently descriptive. One point of clarification is for the variant predictors such as Alpha, Mu, Delta, etc. the values correspond to proportion of cases in a specific country on a specific date attributed to each variant. Thus, the sum of the variant data should be 1 for every country on every date."
      ],
      "metadata": {
        "id": "4osV4fjCmR4g"
      }
    },
    {
      "cell_type": "code",
      "source": [
        "y = df['new_cases_smoothed_per_million']\n",
        "X = df.drop(['Unnamed: 0', 'new_cases_smoothed_per_million', 'date', 'total_cases_per_million','total_deaths_per_million','new_deaths_smoothed_per_million','total_tests_per_thousand','positive_rate','tests_per_case','hospital_beds_per_thousand','icu_patients_per_million','hosp_patients_per_million','iso_code','month_yr','population','reproduction_rate','new_tests_smoothed_per_thousand'], axis = 1)"
      ],
      "metadata": {
        "id": "ZtuAMPbNeRzT"
      },
      "execution_count": 35,
      "outputs": []
    },
    {
      "cell_type": "markdown",
      "source": [
        "Next, we examine the correlation between features in our data set. Recall that in a an Ordinary Least Squares Linear Regression we assume $Y_i = \\beta_0 + \\beta_1x_1 + \\beta_1x_1 +\\ldots + \\beta_kx_k + ϵ_i$ where we have $k$ features and $\\epsilon ~ \\sim \\mathcal{N}(0, \\sigma^2)$. Under these assumptions the associated likelihhod is $\\prod_i^n p(\\vec{x_i})\\cdot \\frac{1}{(2\\sigma^2\\pi)^{\\frac{1}{2}}} \\cdot exp\\{-\\frac{(y_i-(\\beta_0 + \\sum_{j=1}^k\\beta_jx_{ij}))^2}{2\\sigma^2}\\}$ and it can be shown that maximing this expression as a function of $\\vec{\\beta}$ is equivalent to minimizing $\\sum_{i=1}^n(y_i-(\\beta_0 + \\sum_{j=1}^k\\beta_jx_{ij}))^2$ in terms of $\\vec{\\beta}$. From here it follows that the regression coefficients can solved in closed form as $\\hat{\\vec{\\beta}} = (X^TX)^{-1}X^TY$ where $X$ is our design matrix (matrix of predictors + a column of 1s for an intercept term) and $Y$ is our vector of responses. Note that $\\hat{\\vec{\\beta}}$ depends on $(X^TX)^{-1}$ and that the latter expression will not be invertible if the columns of features are linearly dependent. Thus, if the columns of the design matrix are linearly dependent the OLS estimates for the coefficients cannot be solved for. Furthermore, by noting that $\\hat{\\vec{\\beta}} \\sim \\mathcal{N}(0, (X^TX)^{-1}\\sigma^2)$ we see that large values in $(X^TX)^{-1}$ will cause our coefficient estimates to be highly variable. Thus, we must also be careful to ensure that our design matrix is not near singluar as such a design matrix would yeild abnormally large values in $(X^TX)^{-1}$ and cause our estimates to be highly variable. To avoid this situation we analyze a correlation matrix of our features. Having features that are highly correlated will result in $(X^TX)^{-1}$ being near singular and so if a pair of features is highly correlated we will remove one of them. The plot below visualizes our correlation matrix. We are concerned about off-diagonal cells which are light green/yellow."
      ],
      "metadata": {
        "id": "jNRx1TFWn06P"
      }
    },
    {
      "cell_type": "code",
      "source": [
        "plt.figure(figsize=(8, 8))\n",
        "plt.matshow(X.corr(), fignum = 1)\n",
        "plt.colorbar()\n",
        "plt.title('Correlation Matrix of Features')\n",
        "plt.show()"
      ],
      "metadata": {
        "colab": {
          "base_uri": "https://localhost:8080/",
          "height": 481
        },
        "id": "gIerbPNznm_P",
        "outputId": "d481a130-d908-42e2-9419-895d6e986794"
      },
      "execution_count": 36,
      "outputs": [
        {
          "output_type": "display_data",
          "data": {
            "image/png": "[encoded data removed]",
            "text/plain": [
              "<Figure size 576x576 with 2 Axes>"
            ]
          },
          "metadata": {
            "needs_background": "light"
          }
        }
      ]
    },
    {
      "cell_type": "markdown",
      "source": [
        "We now drop the highly correlated predictors from our design matrix. We use a threshold of 0.8 to identify highly correlated pairs."
      ],
      "metadata": {
        "id": "LknXvHnqz1n6"
      }
    },
    {
      "cell_type": "code",
      "source": [
        "X.drop(['non_who','people_vaccinated_per_hundred','people_fully_vaccinated_per_hundred','daily_vaccinations_per_million','new_people_vaccinated_smoothed_per_hundred','life_expectancy','aged_70_older','human_development_index'], axis = 1, inplace = True)"
      ],
      "metadata": {
        "id": "V4ex1m_fnn9e"
      },
      "execution_count": 37,
      "outputs": []
    },
    {
      "cell_type": "markdown",
      "source": [
        "We now fit our initial linear regression model. We display some verbose output from the regression below and analyze it in proceeding cell."
      ],
      "metadata": {
        "id": "osSkWPZl31UC"
      }
    },
    {
      "cell_type": "code",
      "source": [
        "import statsmodels.api as sm\n",
        "\n",
        "#add a column of ones for the intercept term\n",
        "X_full = sm.add_constant(X)\n",
        "est_full = sm.OLS(y, X_full)\n",
        "est_full_fit = est_full.fit()\n",
        "print(est_full_fit.summary())"
      ],
      "metadata": {
        "colab": {
          "base_uri": "https://localhost:8080/"
        },
        "id": "bYbVwSd81WBH",
        "outputId": "1fa0585f-8829-4e2a-c21d-7b9fa07a8fae"
      },
      "execution_count": 38,
      "outputs": [
        {
          "output_type": "stream",
          "name": "stdout",
          "text": [
            "                                  OLS Regression Results                                  \n",
            "==========================================================================================\n",
            "Dep. Variable:     new_cases_smoothed_per_million   R-squared:                       0.156\n",
            "Model:                                        OLS   Adj. R-squared:                  0.147\n",
            "Method:                             Least Squares   F-statistic:                     17.58\n",
            "Date:                            Fri, 10 Dec 2021   Prob (F-statistic):           7.25e-65\n",
            "Time:                                    00:48:28   Log-Likelihood:                -14732.\n",
            "No. Observations:                            2211   AIC:                         2.951e+04\n",
            "Df Residuals:                                2187   BIC:                         2.965e+04\n",
            "Df Model:                                      23                                         \n",
            "Covariance Type:                        nonrobust                                         \n",
            "=========================================================================================================\n",
            "                                            coef    std err          t      P>|t|      [0.025      0.975]\n",
            "---------------------------------------------------------------------------------------------------------\n",
            "const                                  -323.1052     40.635     -7.951      0.000    -402.793    -243.417\n",
            "total_vaccinations_per_hundred           -0.0257      0.163     -0.158      0.875      -0.344       0.293\n",
            "new_vaccinations_smoothed_per_million    -0.0031      0.002     -1.739      0.082      -0.007       0.000\n",
            "stringency_index                          3.0666      0.299     10.242      0.000       2.479       3.654\n",
            "population_density                       -0.0128      0.004     -3.382      0.001      -0.020      -0.005\n",
            "median_age                                5.6473      1.553      3.637      0.000       2.602       8.693\n",
            "aged_65_older                            -4.4384      1.887     -2.351      0.019      -8.140      -0.737\n",
            "gdp_per_capita                            0.0011      0.000      4.279      0.000       0.001       0.002\n",
            "extreme_poverty                          -0.1373      0.162     -0.849      0.396      -0.455       0.180\n",
            "cardiovasc_death_rate                     0.1543      0.056      2.776      0.006       0.045       0.263\n",
            "diabetes_prevalence                       0.4849      1.556      0.312      0.755      -2.567       3.537\n",
            "female_smokers                            3.8998      0.462      8.434      0.000       2.993       4.806\n",
            "male_smokers                             -0.4755      0.381     -1.249      0.212      -1.222       0.271\n",
            "daily_people_vaccinated_per_hundred      16.9692     15.651      1.084      0.278     -13.724      47.662\n",
            "Beta                                      0.4412      0.320      1.377      0.169      -0.187       1.069\n",
            "Epsilon                                   6.2110      3.097      2.005      0.045       0.137      12.285\n",
            "Gamma                                     1.9398      0.391      4.962      0.000       1.173       2.706\n",
            "Kappa                                    -2.3535      2.068     -1.138      0.255      -6.408       1.701\n",
            "Iota                                     -0.2564      2.240     -0.114      0.909      -4.648       4.136\n",
            "Eta                                       0.0592      1.425      0.042      0.967      -2.736       2.854\n",
            "Delta                                     1.0494      0.176      5.971      0.000       0.705       1.394\n",
            "Alpha                                     0.5255      0.166      3.170      0.002       0.200       0.851\n",
            "Lambda                                    0.3681      0.750      0.491      0.624      -1.103       1.839\n",
            "Mu                                       -2.1953      4.481     -0.490      0.624     -10.984       6.593\n",
            "==============================================================================\n",
            "Omnibus:                     1225.757   Durbin-Watson:                   0.532\n",
            "Prob(Omnibus):                  0.000   Jarque-Bera (JB):            10177.341\n",
            "Skew:                           2.523   Prob(JB):                         0.00\n",
            "Kurtosis:                      12.220   Cond. No.                     3.90e+05\n",
            "==============================================================================\n",
            "\n",
            "Warnings:\n",
            "[1] Standard Errors assume that the covariance matrix of the errors is correctly specified.\n",
            "[2] The condition number is large, 3.9e+05. This might indicate that there are\n",
            "strong multicollinearity or other numerical problems.\n"
          ]
        }
      ]
    },
    {
      "cell_type": "markdown",
      "source": [
        "The first value to consider is the $R^2$ value. This is a measure of goodeness of fit and is defined as $R^2=1-\\frac{\\sum_{i=1}^n(y_i-\\hat{y_i})^2}{\\sum_{i=1}^n(y_i-\\bar{y})^2}$. Evidently the closer $R^2$ is to 1 the better the model is at explaining the response. We will consider the adjusted $R^2$ value which penalizes for having many predictors. Such a penalty is logical since adding predictors to a linear regression model will only help its explanatory abaility even if the added predictor is completly irrelavent. For our model $Adj. R^2 = 0.147$ which is rather low. Such a value can roughly be interpreted as meaning that the predictor variables account for 14.7% of the variability in the response variable. Nonetheless the model is not worthless. The $F-Test$ for overall model utility which as null hypothesis $H_0:$ our model and a model consisting of only an intercept term have the same explanatory capability, as a near zero p-value. Thus, we can conclude that the predictors do indeed have an effect on the response but they do not tell the entire story. We can always examine $t-tests$ for individual predictors. Each such test has the null hypothesis $H_0:$ the coefficient associated with the predictor is 0. Thus, if the p-value of such a test is large the predictor may not have any influence on the response and may be able to be removed without hindering the model. In our model, if we conduct the test at a 95% confidence level, the insignificant predictors are total vaccinations per hundred, new vaccinations smoothed per million, extreme poverty, diabetes prevalence, male smokers, daily people vaccinated per hundred, Beta, Kappa, Iota, Eta, Alpha, Lambda, and Mu. we now fit a model with these predictors removed and check to see if we can safetly justify their removal."
      ],
      "metadata": {
        "id": "TLWTJwhL5VuF"
      }
    },
    {
      "cell_type": "code",
      "source": [
        "from statsmodels.stats.anova import anova_lm\n",
        "X_nested = X.drop(['total_vaccinations_per_hundred','new_vaccinations_smoothed_per_million','extreme_poverty','diabetes_prevalence','male_smokers','daily_people_vaccinated_per_hundred','Beta','Kappa','Iota','Eta','Alpha','Lambda','Mu'], axis = 1)\n",
        "X_nested = sm.add_constant(X_nested)\n",
        "est_nested = sm.OLS(y, X_nested)\n",
        "est_nested_fit = est_nested.fit()\n",
        "print(anova_lm(est_nested_fit, est_full_fit))"
      ],
      "metadata": {
        "colab": {
          "base_uri": "https://localhost:8080/"
        },
        "id": "52HXed6GsHgv",
        "outputId": "134efc07-d3a3-46ef-ac68-9fc6d12088be"
      },
      "execution_count": 39,
      "outputs": [
        {
          "output_type": "stream",
          "name": "stdout",
          "text": [
            "   df_resid           ssr  df_diff        ss_diff         F    Pr(>F)\n",
            "0    2200.0  7.991258e+07      0.0            NaN       NaN       NaN\n",
            "1    2187.0  7.932728e+07     13.0  585299.198178  1.241254  0.242846\n"
          ]
        }
      ]
    },
    {
      "cell_type": "markdown",
      "source": [
        "The above output details an $F-Test$ for nested linear regression models. The null hypothesis is $H_0:$ all coeffcients present in the full model but not the nested model are 0$. In other words the hypothesis test is detirmining if the nested model accounts for the just as much variance in the reponse as the full model. In our case the p-value is 0.243 and so we fail to reject th null hypothesis and we can justifiably reduce the model. We now exmaine the coefficients of this nested model.\n"
      ],
      "metadata": {
        "id": "tFtpYzdbsFzS"
      }
    },
    {
      "cell_type": "code",
      "source": [
        "print(est_nested_fit.summary())"
      ],
      "metadata": {
        "colab": {
          "base_uri": "https://localhost:8080/"
        },
        "id": "OoD_ZzHPwFcz",
        "outputId": "ede87e34-5392-40a4-f00a-e6e0aa1bef0f"
      },
      "execution_count": 40,
      "outputs": [
        {
          "output_type": "stream",
          "name": "stdout",
          "text": [
            "                                  OLS Regression Results                                  \n",
            "==========================================================================================\n",
            "Dep. Variable:     new_cases_smoothed_per_million   R-squared:                       0.150\n",
            "Model:                                        OLS   Adj. R-squared:                  0.146\n",
            "Method:                             Least Squares   F-statistic:                     38.76\n",
            "Date:                            Fri, 10 Dec 2021   Prob (F-statistic):           9.69e-71\n",
            "Time:                                    00:49:57   Log-Likelihood:                -14740.\n",
            "No. Observations:                            2211   AIC:                         2.950e+04\n",
            "Df Residuals:                                2200   BIC:                         2.956e+04\n",
            "Df Model:                                      10                                         \n",
            "Covariance Type:                        nonrobust                                         \n",
            "=========================================================================================\n",
            "                            coef    std err          t      P>|t|      [0.025      0.975]\n",
            "-----------------------------------------------------------------------------------------\n",
            "const                  -312.0285     36.014     -8.664      0.000    -382.654    -241.403\n",
            "stringency_index          3.0802      0.286     10.754      0.000       2.519       3.642\n",
            "population_density       -0.0127      0.004     -3.365      0.001      -0.020      -0.005\n",
            "median_age                5.2171      1.317      3.961      0.000       2.634       7.800\n",
            "aged_65_older            -4.3350      1.557     -2.785      0.005      -7.387      -1.283\n",
            "gdp_per_capita            0.0012      0.000      4.617      0.000       0.001       0.002\n",
            "cardiovasc_death_rate     0.1420      0.044      3.213      0.001       0.055       0.229\n",
            "female_smokers            4.0176      0.457      8.801      0.000       3.122       4.913\n",
            "Epsilon                   5.5091      3.010      1.831      0.067      -0.393      11.411\n",
            "Gamma                     1.7426      0.357      4.881      0.000       1.042       2.443\n",
            "Delta                     0.8123      0.104      7.816      0.000       0.609       1.016\n",
            "==============================================================================\n",
            "Omnibus:                     1214.525   Durbin-Watson:                   0.532\n",
            "Prob(Omnibus):                  0.000   Jarque-Bera (JB):             9929.450\n",
            "Skew:                           2.500   Prob(JB):                         0.00\n",
            "Kurtosis:                      12.099   Cond. No.                     3.45e+05\n",
            "==============================================================================\n",
            "\n",
            "Warnings:\n",
            "[1] Standard Errors assume that the covariance matrix of the errors is correctly specified.\n",
            "[2] The condition number is large, 3.45e+05. This might indicate that there are\n",
            "strong multicollinearity or other numerical problems.\n"
          ]
        }
      ]
    },
    {
      "cell_type": "markdown",
      "source": [
        "Interpreting regression coefficients can be tricky. One needs to resist the temptation to fit a narraive to explain the why the coefficients take on certain values. For example, strigency_index is a metric developed by Our World in Data, that attempts to quantify how many restrictions a country has put in place to slow the spread of Covid-19. Countries with mask mandates, travel bans, and mandatory quarantines will have a higher strigency index than those countries which do not. The regression coefficient associated with strigency index is 3.0802, suggesting that the more restrictions a government puts in place the more Covid-19 spreads. Of course the true relationship is likely that the governments of countries in which there is a COVID-19 outbreak, and thus lots of new cases, are more likely to implement restrictive measures to slow the spread. Other interesting"
      ],
      "metadata": {
        "id": "DM4WD8o7wPmm"
      }
    }
  ]
}