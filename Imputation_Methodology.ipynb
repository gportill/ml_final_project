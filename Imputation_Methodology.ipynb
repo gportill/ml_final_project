{
  "nbformat": 4,
  "nbformat_minor": 0,
  "metadata": {
    "colab": {
      "name": "Imputation.ipynb",
      "provenance": [],
      "collapsed_sections": []
    },
    "kernelspec": {
      "name": "python3",
      "display_name": "Python 3"
    },
    "language_info": {
      "name": "python"
    }
  },
  "cells": [
    {
      "cell_type": "code",
      "metadata": {
        "colab": {
          "base_uri": "https://localhost:8080/"
        },
        "id": "-wjOrPGXSEq-",
        "outputId": "714de64e-c476-489a-83f0-6dd1d7c0fabe"
      },
      "source": [
        "import numpy as np\n",
        "import pandas as pd\n",
        "import matplotlib.pyplot as plt\n",
        "import os\n",
        "\n",
        "#print options to data exploration\n",
        "pd.set_option('display.max_columns', None)\n",
        "pd.set_option('display.max_rows', 200)\n",
        "\n",
        "from google.colab import drive\n",
        "drive.mount('/content/drive')"
      ],
      "execution_count": 2,
      "outputs": [
        {
          "output_type": "stream",
          "name": "stdout",
          "text": [
            "Mounted at /content/drive\n"
          ]
        }
      ]
    },
    {
      "cell_type": "markdown",
      "metadata": {
        "id": "xHhR8SJC7PIX"
      },
      "source": [
        "Our goal is to form two linear regression models, one which predicts the number of new cases per million and another which predicts the number of new deaths per million in a given country. We are particularly interested in understanding the influence which the prevalence of specific variants has on our response variables. Thus, we limit our analysis to only those rows containing variant level data which is published on a roughly biweekly basis. We load in the data set in the cell below, removing columns that are redunadant and not scaled by the country's population size."
      ]
    },
    {
      "cell_type": "code",
      "metadata": {
        "id": "6mVl3Jb3R0cN"
      },
      "source": [
        "personal_path = '/content/drive/My Drive/ML Final Project/'\n",
        "path_full = os.path.join(personal_path, \"Data/full.csv\")\n",
        "df = pd.read_csv(path_full)\n",
        "df = df.iloc[:, 1:]\n",
        "df.head()\n",
        "df.drop(['continent','location','total_cases','new_cases','new_cases_smoothed','total_deaths','new_deaths',\n",
        "         'new_deaths_smoothed','new_cases_per_million','new_deaths_per_million',\n",
        "         'icu_patients','hosp_patients','weekly_icu_admissions','total_tests','new_tests',\n",
        "         'new_tests_per_thousand','new_tests_smoothed','total_vaccinations','weekly_hosp_admissions',\n",
        "         'people_vaccinated','people_fully_vaccinated','total_boosters','new_vaccinations',\n",
        "         'new_vaccinations_smoothed','new_people_vaccinated_smoothed','excess_mortality_cumulative',\n",
        "         'excess_mortality_cumulative_absolute','daily_people_vaccinated','daily_vaccinations',\n",
        "         'daily_vaccinations_raw','tests_units','Year'], axis=1, inplace=True)\n",
        "df = df[df['Alpha'].notna()]"
      ],
      "execution_count": 84,
      "outputs": []
    },
    {
      "cell_type": "markdown",
      "metadata": {
        "id": "UA3ZEV2C9nYj"
      },
      "source": [
        "Prior to model creation we must first examine the role which missing data plays in our data set. We begin this analysis by first examining the proportion of rows which contain missing data for each feature. "
      ]
    },
    {
      "cell_type": "code",
      "metadata": {
        "colab": {
          "base_uri": "https://localhost:8080/",
          "height": 390
        },
        "id": "2OJUOmIiSRXz",
        "outputId": "bbcea832-1149-460b-c656-b2bb575007bf"
      },
      "source": [
        "plt.figure(figsize=(12, 6))\n",
        "plt.bar(x=np.arange(0, len(df.columns)), height = np.sort(df.isna().sum() / len(df))[::-1])\n",
        "plt.title('Proportion of Missingness in Each Feature')\n",
        "plt.show()"
      ],
      "execution_count": 85,
      "outputs": [
        {
          "output_type": "display_data",
          "data": {
            "image/png": "[encoded data removed]",
            "text/plain": [
              "<Figure size 864x432 with 1 Axes>"
            ]
          },
          "metadata": {
            "needs_background": "light"
          }
        }
      ]
    },
    {
      "cell_type": "markdown",
      "metadata": {
        "id": "7-ozlXcrTy11"
      },
      "source": [
        "We see that a number of features are almost entirely missing. These features should be removed from consideration as dropping all rows in which the feature is missing will result in a substantial reduction in our data set's size and imputation methods will likely be wildly inaccurate. Observing the bar chart we see a substantial drop off in the proportion of missingness between the sixth and seventh most missing features. To drop the 6 most missing features we use a threshold of 65%."
      ]
    },
    {
      "cell_type": "code",
      "metadata": {
        "id": "2LXkL3WWU-cF"
      },
      "source": [
        "df = df.loc[:, df.isna().sum() / len(df) < 0.65]"
      ],
      "execution_count": 86,
      "outputs": []
    },
    {
      "cell_type": "markdown",
      "metadata": {
        "id": "d7Q6KVqrU3vG"
      },
      "source": [
        "Now we must determine if the data is Missing Completly at Random (MCAR). If it is we can safetly drop the rows containing missing data and conduct our analysis on the rows which remain. To make this detirmination we first a create a binary column for each feature which denotes missingness. Using our notation from lecture these columns encode the $R_i$."
      ]
    },
    {
      "cell_type": "code",
      "metadata": {
        "colab": {
          "base_uri": "https://localhost:8080/"
        },
        "id": "Hdc3BF2caK1h",
        "outputId": "ac73b627-a7c3-450a-846c-55102bcdaaef"
      },
      "source": [
        "df_missing = df.copy()\n",
        "\n",
        "#create the R_i columns\n",
        "Ri = []\n",
        "for column in df_missing.columns:\n",
        "  df_missing[str(column) + '_na'] = pd.isna(df[column]).astype(int)\n",
        "\n",
        "#remove Ri columns corresponding to non-missing/fully observed features\n",
        "df_missing = df_missing.loc[:, (df_missing != 0).any(axis=0)]\n",
        "Ri = df_missing.columns[46:]\n",
        "print(Ri)"
      ],
      "execution_count": 92,
      "outputs": [
        {
          "output_type": "stream",
          "name": "stdout",
          "text": [
            "Index(['total_cases_per_million_na', 'new_cases_smoothed_per_million_na',\n",
            "       'total_deaths_per_million_na', 'new_deaths_smoothed_per_million_na',\n",
            "       'reproduction_rate_na', 'icu_patients_per_million_na',\n",
            "       'hosp_patients_per_million_na', 'total_tests_per_thousand_na',\n",
            "       'new_tests_smoothed_per_thousand_na', 'positive_rate_na',\n",
            "       'tests_per_case_na', 'total_vaccinations_per_hundred_na',\n",
            "       'people_vaccinated_per_hundred_na',\n",
            "       'people_fully_vaccinated_per_hundred_na',\n",
            "       'new_vaccinations_smoothed_per_million_na',\n",
            "       'new_people_vaccinated_smoothed_per_hundred_na', 'stringency_index_na',\n",
            "       'population_na', 'population_density_na', 'median_age_na',\n",
            "       'aged_65_older_na', 'aged_70_older_na', 'gdp_per_capita_na',\n",
            "       'extreme_poverty_na', 'cardiovasc_death_rate_na',\n",
            "       'diabetes_prevalence_na', 'female_smokers_na', 'male_smokers_na',\n",
            "       'hospital_beds_per_thousand_na', 'life_expectancy_na',\n",
            "       'human_development_index_na', 'daily_people_vaccinated_per_hundred_na',\n",
            "       'daily_vaccinations_per_million_na'],\n",
            "      dtype='object')\n"
          ]
        }
      ]
    },
    {
      "cell_type": "markdown",
      "metadata": {
        "id": "iY9RYRRDcRUQ"
      },
      "source": [
        "Next we look to see if there is a correlation between the country and what data is missing. Since both the country and the $R_i$ are categorical variables this can be done with a hypothesis test known as a $\\chi^2$-contigency test. The null hypothesis of this test is $H_0$: the variables are independent. In the below cell we perform 32 such tests, one for every $R_i$."
      ]
    },
    {
      "cell_type": "code",
      "metadata": {
        "colab": {
          "base_uri": "https://localhost:8080/"
        },
        "id": "SKPHhwtGcHBi",
        "outputId": "bc5b56fe-3b66-4a54-b834-0b997e414381"
      },
      "source": [
        "import scipy.stats as ss\n",
        "\n",
        "p_vals = []\n",
        "for col in Ri:\n",
        "  M = pd.crosstab(df_missing['iso_code'], df_missing[col])\n",
        "  p_vals.append(ss.chi2_contingency(M)[1])\n",
        "print(len(p_vals))"
      ],
      "execution_count": 93,
      "outputs": [
        {
          "output_type": "stream",
          "name": "stdout",
          "text": [
            "33\n"
          ]
        }
      ]
    },
    {
      "cell_type": "markdown",
      "metadata": {
        "id": "AgHK3RbUhcON"
      },
      "source": [
        "All of the p-values are extraordinarily small, practically zero. This means that every feature's missingness is correlated with the country. To be more formal we should utilize a Bonferroni Correction for simulatenous inference. Thus, instead of conducting the test at a 95% confidence level which corresponds to $\\alpha = 0.05$ we instead use $\\alpha = \\frac{0.05}{32} = 0.0016.$ However, even with this correction every p-value falls below the 0.0016 threshold."
      ]
    },
    {
      "cell_type": "markdown",
      "metadata": {
        "id": "aYo_M4hWmjTC"
      },
      "source": [
        "We are also interested in detirmining if any of the continuous features are correlated with missingness. To make this detirmination we employ a Kruskal-Wallace test which takes in a quantitative and categorigal variable, splits the quantitative variable into groups based on the categorical variable's value and attempts to determine if the medians of the quantitative variables in each group differ significantly from each other. The null hypohtesis is $H_0$: medians of the groups are the same."
      ]
    },
    {
      "cell_type": "code",
      "metadata": {
        "colab": {
          "base_uri": "https://localhost:8080/",
          "height": 472
        },
        "id": "RmQ4sqjM633c",
        "outputId": "4ee0074c-f305-4dda-97d4-8f0ef6ae7183"
      },
      "source": [
        "#drop categorical features\n",
        "df_missing.drop(['iso_code','date'], axis=1, inplace = True)\n",
        "#columns of quantitative features\n",
        "quant_cols = df_missing.columns[:44]\n",
        "\n",
        "#initialize data structure to hold p-values\n",
        "arr = np.zeros((len(Ri), len(quant_cols)))\n",
        "for i, missing_col in enumerate(Ri):\n",
        "  for j, old_col in enumerate(quant_cols):\n",
        "    #remove rows in which the quantitative predictor is missing\n",
        "    df_sub = df_missing[df_missing[old_col].notna()]\n",
        "    #group by the R_i into those rows with 0 and those with 1\n",
        "    g = df_sub.groupby(missing_col)\n",
        "    val_list = []\n",
        "    for val in df_sub[missing_col].unique():\n",
        "      #get the quantitative column of interest for each group\n",
        "      val_list.append(g.get_group(val)[old_col])\n",
        "    #if neither group is empty\n",
        "    if len(val_list) > 1: arr[i,j] = ss.kruskal(*val_list).pvalue\n",
        "    else: arr[i,j] = -1\n",
        "\n",
        "missingness_corr = pd.DataFrame(arr)\n",
        "\n",
        "plt.figure(figsize=(8, 8))\n",
        "plt.imshow(missingness_corr, cmap =\"RdYlBu\")\n",
        "plt.colorbar()\n",
        "plt.title('Heatmap of Kruskal-Wallace P-Values')\n",
        "plt.show()"
      ],
      "execution_count": 94,
      "outputs": [
        {
          "output_type": "display_data",
          "data": {
            "image/png": "[encoded data removed]",
            "text/plain": [
              "<Figure size 576x576 with 2 Axes>"
            ]
          },
          "metadata": {
            "needs_background": "light"
          }
        }
      ]
    },
    {
      "cell_type": "markdown",
      "metadata": {
        "id": "XSKeSAzdtdA4"
      },
      "source": [
        "In the above heat map each cell corresponds to the p-value of a single Kruskal-Wallace test between a quantitative feature and an $R_i$. The dark red cells correspond to p-values of -1 which denote instances where the Kruskal-Wallace test could not be completed because the $R_i$ was always 0 or always 1 when the quantitative feature was present. The pale yellow cells denote near zero p-values of which there are many. These cells denote combinations of quantititave features and $R_i$ which are highly correlated. Thus, through quick visual inspection we can detirmine that there is a lot of correlation between the $R_i$ and observed data in the data set."
      ]
    },
    {
      "cell_type": "markdown",
      "metadata": {
        "id": "O7iHwObJv6oW"
      },
      "source": [
        "Through the above analysis we can firmly conclude that our data is not MCAR and so we cannot drop rows which contain missing data. This is because the data's missingness is highly correlated with the observed data. Instead we will assume for the purposes of our further analysis that our data is MAR and leverage imputation techniques to make educated guesses about the values of the underlying $X_i^{(1)}$"
      ]
    },
    {
      "cell_type": "markdown",
      "metadata": {
        "id": "RtldgNUkOErE"
      },
      "source": [
        "Simple imputation techniques such as filling in missing values with the feature's mean, median, or mode are unlikely to sufficient given the complexity and amount of missingness present in the data set. Feed-forward imputation in which missing data is imputed with the feature's value in the last row it was present could potentially yeild usable results since our data has a time series component. However, such a technique fails to leverage information about the observed data which could have strong predictive capabilities. K-Nearest Neighbors imputation, in which missing data is filled with the data of similar/nearby points was also considered. However, while such a technique does indeed leverage observed data KNN, is not ideal in high dimensional situations such as ours since \"all points in high dimensions are lonely,\" the curse of dimensionality strikes again! Finally, we considered a iterative linear regression imputation approach in which each feature with missing data is fitted with a linear regression model which uses the other features as predicters. This is done iteratively, over many rounds, until convergence. This approach allows us to leverage our observed data while not succumbing to the curse of dimensionality."
      ]
    },
    {
      "cell_type": "markdown",
      "metadata": {
        "id": "GwF74nIlRGOj"
      },
      "source": [
        "The iterative linear regression approach is implmented in the cell below. Note that dummy variables are created for country and month/year to give the imputation model more predictive ability. Furthermore, we use our knowledge about vaccine rollout to make educated desicions about some features. For example, all values for the feature \"total_vaccinations_per_hundred\" in rows corresponding to dates prior to December, 2020 are manually set to 0. We impute the data set in its entirety and also training and testing sets, being to sure to fit the imputer using the training set prior to imputing the testing set to prevent data leakage."
      ]
    },
    {
      "cell_type": "code",
      "metadata": {
        "colab": {
          "base_uri": "https://localhost:8080/"
        },
        "id": "CRRHblqY7JK5",
        "outputId": "5279f49c-58d2-4ded-b0eb-d387c49589d8"
      },
      "source": [
        "from sklearn.model_selection import train_test_split\n",
        "from sklearn.experimental import enable_iterative_imputer\n",
        "from sklearn.impute import IterativeImputer\n",
        "from sklearn.linear_model import BayesianRidge\n",
        "\n",
        "df['date'] = pd.to_datetime(df['date'])\n",
        "df.loc[df['date'] < pd.Timestamp('2020-12-01 12:00:00'), ['total_vaccinations_per_hundred', \n",
        "                                                          'people_vaccinated_per_hundred',\n",
        "                                                          'people_fully_vaccinated_per_hundred',\n",
        "                                                          'new_vaccinations_smoothed_per_million',\n",
        "                                                          'new_people_vaccinated_smoothed_per_hundred',\n",
        "                                                          'daily_people_vaccinated_per_hundred',\n",
        "                                                         'daily_vaccinations_per_million']] = 0\n",
        "\n",
        "df['month_yr'] = df['date'].apply(lambda x: x.strftime('%m-%Y'))\n",
        "\n",
        "train, test = train_test_split(df, train_size = 0.8, random_state = 42)\n",
        "df.reset_index(drop=True, inplace = True)\n",
        "train.reset_index(drop=True, inplace = True)\n",
        "test.reset_index(drop=True, inplace = True)\n",
        "\n",
        "date = df['date']\n",
        "iso_code = df['iso_code']\n",
        "\n",
        "train_date = train['date']\n",
        "train_iso_code = train['iso_code']\n",
        "\n",
        "test_date = test['date']\n",
        "test_iso_code = test['iso_code']\n",
        "\n",
        "df.drop('date', axis=1, inplace=True)\n",
        "train.drop('date', axis=1, inplace=True)\n",
        "test.drop('date', axis=1, inplace=True)\n",
        "\n",
        "df_dummy = pd.get_dummies(df, drop_first=True)\n",
        "train_dummy = pd.get_dummies(train, drop_first=True)\n",
        "test_dummy = pd.get_dummies(test, drop_first=True)\n",
        "\n",
        "test_dummy.drop(list(set(test_dummy.columns.tolist()) - set(train_dummy.columns.tolist())), axis = 1, inplace = True)\n",
        "train_dummy.drop(list(set(train_dummy.columns.tolist()) - set(test_dummy.columns.tolist())), axis = 1, inplace = True)\n",
        "\n",
        "imputer = IterativeImputer(estimator = BayesianRidge(), max_iter = 100, min_value = df_dummy.min(axis=0), max_value = df_dummy.max(axis=0), random_state=42)\n",
        "df_imputed_full = pd.DataFrame(imputer.fit_transform(df_dummy))\n",
        "\n",
        "imputer_split = IterativeImputer(estimator = BayesianRidge(), max_iter = 10, min_value = train_dummy.min(axis=0), max_value = train_dummy.max(axis=0), random_state=42)\n",
        "train_imputed_full = pd.DataFrame(imputer_split.fit_transform(train_dummy))\n",
        "test_imputed_full = pd.DataFrame(imputer_split.transform(test_dummy))"
      ],
      "execution_count": 95,
      "outputs": [
        {
          "output_type": "stream",
          "name": "stdout",
          "text": [
            "Int64Index([     0,      1,      2,      3,     11,     25,     39,     53,\n",
            "                67,     81,\n",
            "            ...\n",
            "            135207, 135249, 135377, 135405, 135615, 135622, 135636, 135650,\n",
            "            135804, 135818],\n",
            "           dtype='int64', length=2211)\n"
          ]
        }
      ]
    },
    {
      "cell_type": "code",
      "source": [
        "df_imputed_full = df_imputed_full.iloc[:,:44]\n",
        "df_imputed_full.columns = df_dummy.columns[:44]\n",
        "df_imputed_full['date'] = date\n",
        "df_imputed_full['date'] = pd.to_datetime(df_imputed_full['date'])\n",
        "df_imputed_full['iso_code'] = iso_code\n",
        "df_imputed_full['month_yr'] = df_imputed_full['date'].apply(lambda x: x.strftime('%m-%Y'))\n",
        "df_imputed_full.to_csv('/content/drive/My Drive/biweekly_imputed_old.csv')\n",
        "\n",
        "train_imputed_full = train_imputed_full.iloc[:,:44]\n",
        "train_imputed_full.columns = train_dummy.columns[:44]\n",
        "train_imputed_full['date'] = train_date\n",
        "train_imputed_full['date'] = pd.to_datetime(train_imputed_full['date'])\n",
        "train_imputed_full['iso_code'] = train_iso_code\n",
        "train_imputed_full['month_yr'] = train_imputed_full['date'].apply(lambda x: x.strftime('%m-%Y'))\n",
        "train_imputed_full.to_csv('/content/drive/My Drive/biweekly_train_imputed_old.csv')\n",
        "\n",
        "test_imputed_full = test_imputed_full.iloc[:,:44]\n",
        "test_imputed_full.columns = test_dummy.columns[:44]\n",
        "test_imputed_full['date'] = test_date\n",
        "test_imputed_full['date'] = pd.to_datetime(test_imputed_full['date'])\n",
        "test_imputed_full['iso_code'] = test_iso_code\n",
        "test_imputed_full['month_yr'] = test_imputed_full['date'].apply(lambda x: x.strftime('%m-%Y'))\n",
        "test_imputed_full.to_csv('/content/drive/My Drive/biweekly_test_imputed_old.csv')"
      ],
      "metadata": {
        "id": "rn65HDOoJ1rL"
      },
      "execution_count": 99,
      "outputs": []
    }
  ]
}