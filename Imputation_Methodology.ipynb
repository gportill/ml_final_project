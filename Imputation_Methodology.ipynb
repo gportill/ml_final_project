{
  "nbformat": 4,
  "nbformat_minor": 0,
  "metadata": {
    "colab": {
      "name": "Imputation.ipynb",
      "provenance": [],
      "collapsed_sections": []
    },
    "kernelspec": {
      "name": "python3",
      "display_name": "Python 3"
    },
    "language_info": {
      "name": "python"
    }
  },
  "cells": [
    {
      "cell_type": "code",
      "metadata": {
        "colab": {
          "base_uri": "https://localhost:8080/"
        },
        "id": "-wjOrPGXSEq-",
        "outputId": "b793724f-012b-4e36-da9e-48c31614fcd4"
      },
      "source": [
        "import numpy as np\n",
        "import pandas as pd\n",
        "import matplotlib.pyplot as plt\n",
        "import os\n",
        "\n",
        "#print options to data exploration\n",
        "pd.set_option('display.max_columns', None)\n",
        "pd.set_option('display.max_rows', 200)\n",
        "\n",
        "from google.colab import drive\n",
        "drive.mount('/content/drive')"
      ],
      "execution_count": 110,
      "outputs": [
        {
          "output_type": "stream",
          "name": "stdout",
          "text": [
            "Drive already mounted at /content/drive; to attempt to forcibly remount, call drive.mount(\"/content/drive\", force_remount=True).\n"
          ]
        }
      ]
    },
    {
      "cell_type": "markdown",
      "metadata": {
        "id": "xHhR8SJC7PIX"
      },
      "source": [
        "Our goal is to form two linear regression models, one which predicts the number of new cases per million and another which predicts the number of new deaths per million in a given country. We are particularly interested in understanding the influence which the prevalence of specific variants has on our response variables. Thus, we limit our analysis to only those rows containing variant level data which is published on a roughly biweekly basis. We load in this data set in the cell below, removing columns that are redunadant and not scaled by the country's population size."
      ]
    },
    {
      "cell_type": "code",
      "metadata": {
        "id": "6mVl3Jb3R0cN"
      },
      "source": [
        "personal_path = '/content/drive/My Drive/ML Final Project/'\n",
        "path_full = os.path.join(personal_path, \"Data/logan_biweekly_new.csv\")\n",
        "df = pd.read_csv(path_full)\n",
        "df = df.iloc[:, 1:]\n",
        "df.head()\n",
        "df.drop(['continent','location','total_cases','new_cases','new_cases_smoothed','total_deaths','new_deaths',\n",
        "         'new_deaths_smoothed','new_cases_per_million','new_deaths_per_million',\n",
        "         'icu_patients','hosp_patients','weekly_icu_admissions','total_tests','new_tests',\n",
        "         'new_tests_per_thousand','new_tests_smoothed','total_vaccinations','weekly_hosp_admissions',\n",
        "         'people_vaccinated','people_fully_vaccinated','total_boosters','new_vaccinations',\n",
        "         'new_vaccinations_smoothed','new_people_vaccinated_smoothed','excess_mortality_cumulative',\n",
        "         'excess_mortality_cumulative_absolute','daily_people_vaccinated','daily_vaccinations',\n",
        "         'daily_vaccinations_raw','tests_units'], axis=1, inplace=True)"
      ],
      "execution_count": 111,
      "outputs": []
    },
    {
      "cell_type": "markdown",
      "metadata": {
        "id": "UA3ZEV2C9nYj"
      },
      "source": [
        "Prior to model creation we must first examine the role which missing data plays in our data set. We begin this analysis by first examining the proportion of rows which contain missing data for each feature. "
      ]
    },
    {
      "cell_type": "code",
      "metadata": {
        "colab": {
          "base_uri": "https://localhost:8080/",
          "height": 390
        },
        "id": "2OJUOmIiSRXz",
        "outputId": "58c9157a-8a68-427f-8c5b-5aed86a04d49"
      },
      "source": [
        "plt.figure(figsize=(12, 6))\n",
        "plt.bar(x=np.arange(0, len(df.columns)), height = np.sort(df.isna().sum() / len(df))[::-1])\n",
        "plt.title('Proportion of Missingness in Each Feature')\n",
        "plt.show()"
      ],
      "execution_count": 112,
      "outputs": [
        {
          "output_type": "display_data",
          "data": {
            "image/png": "[encoded data removed]",
            "text/plain": [
              "<Figure size 864x432 with 1 Axes>"
            ]
          },
          "metadata": {
            "needs_background": "light"
          }
        }
      ]
    },
    {
      "cell_type": "markdown",
      "metadata": {
        "id": "7-ozlXcrTy11"
      },
      "source": [
        "We see that a number of features are almost entirely missing. These features should be removed from consideration as dropping all rows in which the feature is missing will result in a substantial reduction in our data set's size and imputation methods will likely be wildly inaccurate. Observing the bar chart we see a substantial drop off in the proportion of missingness between the sixth and seventh most missing features. To drop the 6 most missing features we use a threshold of 65%."
      ]
    },
    {
      "cell_type": "code",
      "metadata": {
        "id": "2LXkL3WWU-cF"
      },
      "source": [
        "df = df.loc[:, df.isna().sum() / len(df) < 0.65]"
      ],
      "execution_count": 113,
      "outputs": []
    },
    {
      "cell_type": "markdown",
      "metadata": {
        "id": "d7Q6KVqrU3vG"
      },
      "source": [
        "Now we must determine if the data is Missing Completly at Random (MCAR). If it is we can safetly drop the rows containing missing data and conduct our analysis on the rows which remain. To make this detirmination we first a create a binary column for each feature which denotes missingness. Using our notation from lecture these columns encode the $R_i$."
      ]
    },
    {
      "cell_type": "code",
      "metadata": {
        "id": "Hdc3BF2caK1h"
      },
      "source": [
        "df_missing = df.copy()\n",
        "\n",
        "#create the R_i columns\n",
        "Ri = []\n",
        "for column in df_missing.columns:\n",
        "  df_missing[str(column) + '_na'] = pd.isna(df[column]).astype(int)\n",
        "\n",
        "#remove Ri columns corresponding to non-missing/fully observed features\n",
        "df_missing = df_missing.loc[:, (df_missing != 0).any(axis=0)]\n",
        "Ri = df_missing.columns[48:]"
      ],
      "execution_count": 114,
      "outputs": []
    },
    {
      "cell_type": "markdown",
      "metadata": {
        "id": "iY9RYRRDcRUQ"
      },
      "source": [
        "Next we look to see if there is a correlation between the country and what data is missing. Since both the country and the $R_i$ are categorical variables this can be done with a hypothesis test known as a $\\chi^2$-contigency test. The null hypothesis of this test is $H_0$: the variables are independent. In the below cell we perform 32 such tests, one for every $R_i$."
      ]
    },
    {
      "cell_type": "code",
      "metadata": {
        "colab": {
          "base_uri": "https://localhost:8080/"
        },
        "id": "SKPHhwtGcHBi",
        "outputId": "619dbd63-5564-4cf2-94c3-7ab6d46e849c"
      },
      "source": [
        "import scipy.stats as ss\n",
        "\n",
        "p_vals = []\n",
        "for col in Ri:\n",
        "  M = pd.crosstab(df_missing['iso_code'], df_missing[col])\n",
        "  p_vals.append(ss.chi2_contingency(M)[1])\n",
        "print(p_vals)"
      ],
      "execution_count": 115,
      "outputs": [
        {
          "output_type": "stream",
          "name": "stdout",
          "text": [
            "[0.0, 0.0, 0.0, 0.0, 0.0, 0.0, 7.53013068001512e-302, 6.779702855753779e-288, 0.0, 0.0, 7.496500968475715e-53, 7.703264465335046e-63, 4.119139543475199e-62, 1.3284995912755743e-21, 1.2479933281426553e-21, 2.7844364558876055e-276, 2.257329704476877e-46, 2.257329704476877e-46, 0.0, 0.0, 0.0, 4.589581473455763e-294, 0.0, 0.0, 0.0, 0.0, 0.0, 0.0, 1.0720778505841745e-210, 0.0, 1.2479933281426553e-21, 1.3284995912755743e-21]\n"
          ]
        }
      ]
    },
    {
      "cell_type": "markdown",
      "metadata": {
        "id": "AgHK3RbUhcON"
      },
      "source": [
        "All of the p-values are extraordinarily small, practically zero. This means that every feature's missingness is correlated with the country. To be more formal we should utilize a Bonferroni Correction for simulatenous inference. Thus, instead of conducting the test at a 95% confidence level which corresponds to $\\alpha = 0.05$ we instead use $\\alpha = \\frac{0.05}{34} = 0.0015.$ However, even with this correction every p-value falls below the 0.0015 threshold."
      ]
    },
    {
      "cell_type": "markdown",
      "metadata": {
        "id": "aYo_M4hWmjTC"
      },
      "source": [
        "We are also interested in detirmining if any of the continuous features are correlated with missingness. To make this detirmination we employ a Kruskal-Wallace test which takes in a quantitative and categorigal variable, splits the quantitative variable into groups based on the categorical variable's value and attempts to determine if the medians of the quantitative variables in each group differ significantly from each other. The null hypohtesis is $H_0$: medians of the groups are the same."
      ]
    },
    {
      "cell_type": "code",
      "metadata": {
        "colab": {
          "base_uri": "https://localhost:8080/",
          "height": 472
        },
        "id": "RmQ4sqjM633c",
        "outputId": "f6fcdd1a-0137-49cb-b61a-bf834ca9c41d"
      },
      "source": [
        "#drop categorical features\n",
        "df_missing.drop(['iso_code','date'], axis=1, inplace = True)\n",
        "#columns of quantitative features\n",
        "quant_cols = df_missing.columns[:45]\n",
        "\n",
        "#initialize data structure to hold p-values\n",
        "arr = np.zeros((len(Ri), len(quant_cols)))\n",
        "for i, missing_col in enumerate(Ri):\n",
        "  for j, old_col in enumerate(quant_cols):\n",
        "    #remove rows in which the quantitative predictor is missing\n",
        "    df_sub = df_missing[df_missing[old_col].notna()]\n",
        "    #group by the R_i into those rows with 0 and those with 1\n",
        "    g = df_sub.groupby(missing_col)\n",
        "    val_list = []\n",
        "    for val in df_sub[missing_col].unique():\n",
        "      #get the quantitative column of interest for each group\n",
        "      val_list.append(g.get_group(val)[old_col])\n",
        "    #if neither group is empty\n",
        "    if len(val_list) > 1: arr[i,j] = ss.kruskal(*val_list).pvalue\n",
        "    else: arr[i,j] = -1\n",
        "\n",
        "missingness_corr = pd.DataFrame(arr)\n",
        "\n",
        "plt.figure(figsize=(8, 8))\n",
        "plt.imshow(missingness_corr, cmap =\"RdYlBu\")\n",
        "plt.colorbar()\n",
        "plt.title('Heatmap of Kruskal-Wallace P-Values')\n",
        "plt.show()"
      ],
      "execution_count": 116,
      "outputs": [
        {
          "output_type": "display_data",
          "data": {
            "image/png": "[encoded data removed]",
            "text/plain": [
              "<Figure size 576x576 with 2 Axes>"
            ]
          },
          "metadata": {
            "needs_background": "light"
          }
        }
      ]
    },
    {
      "cell_type": "markdown",
      "metadata": {
        "id": "XSKeSAzdtdA4"
      },
      "source": [
        "In the above heat map each cell corresponds to the p-value of a single Kruskal-Wallace test between a quantitative feature and an $R_i$. The dark red cells correspond to p-values of -1 which denote instances where the Kruskal-Wallace test could not be completed because the $R_i$ was always 0 or always 1 when the quantitative feature was present. The pale yellow cells denote near zero p-values of which there are many. These cells denote combinations of quantititave features and $R_i$ which are highly correlated. Thus, through quick visual inspection we can detirmine that there is a lot of correlation between the $R_i$ and observed data in the data set."
      ]
    },
    {
      "cell_type": "markdown",
      "metadata": {
        "id": "O7iHwObJv6oW"
      },
      "source": [
        "Through the above analysis we can firmly conclude that our data is not MCAR and so we cannot drop rows which contain missing data. This is because the data's missingness is highly correlated with the observed data. Instead we will assume for the purposes of our further analysis that our data is MAR and leverage imputation techniques to make educated guesses about the values of the underlying $X_i^{(1)}$"
      ]
    },
    {
      "cell_type": "markdown",
      "metadata": {
        "id": "RtldgNUkOErE"
      },
      "source": [
        "Simple imputation techniques such as filling in missing values with the feature's mean, median, or mode are unlikely to sufficient given the complexity and amount of missingness present in the data set. Feed-forward imputation in which missing data is imputed with the feature's value in the last row it was present could potentially yeild usable results since our data has a time series component. However, such a technique fails to leverage information about the observed data which could have strong predictive capabilities. K-Nearest Neighbors imputation, in which missing data is filled with the data of similar/nearby points was also considered. However, while such a technique does indeed leverage observed data KNN, is not ideal in high dimensional situations such as ours since \"all points in high dimensions are lonely,\" the curse of dimensionality strikes again! Finally, we considered a iterative linear regression imputation approach in which each feature with missing data is fitted with a linear regression model which uses the other features as predicters. This is done iteratively, over many rounds, until convergence. This approach allows us to leverage our observed data while not succumbing to the curse of dimensionality."
      ]
    },
    {
      "cell_type": "markdown",
      "metadata": {
        "id": "GwF74nIlRGOj"
      },
      "source": [
        "The iterative linear regression approach is implmented in the cell below. Note that dummy variables are created for country and month/year to give the imputation model more predictive ability. Furthermore, we use our knowledge about vaccine rollout to make educated desicions about some features. For example, all values for the feature \"total_vaccinations_per_hundred\" in rows corresponding to dates prior to December, 2020 are manually set to 0. We impute the data set in its entirety and also training and testing sets, being to sure to fit the imputer using the training set prior to imputing the testing set to prevent data leakage."
      ]
    },
    {
      "cell_type": "code",
      "metadata": {
        "colab": {
          "base_uri": "https://localhost:8080/"
        },
        "id": "CRRHblqY7JK5",
        "outputId": "fc3c35c2-3a7c-4796-d3c5-91c92c94a94a"
      },
      "source": [
        "from sklearn.model_selection import train_test_split\n",
        "from sklearn.experimental import enable_iterative_imputer\n",
        "from sklearn.impute import IterativeImputer\n",
        "from sklearn.linear_model import BayesianRidge\n",
        "\n",
        "df['date'] = pd.to_datetime(df['date'])\n",
        "df.loc[df['date'] < pd.Timestamp('2020-12-01 12:00:00'), ['total_vaccinations_per_hundred', \n",
        "                                                          'people_vaccinated_per_hundred',\n",
        "                                                          'people_fully_vaccinated_per_hundred',\n",
        "                                                          'new_vaccinations_smoothed_per_million',\n",
        "                                                          'new_people_vaccinated_smoothed_per_hundred',\n",
        "                                                          'daily_people_vaccinated_per_hundred',\n",
        "                                                         'daily_vaccinations_per_million']] = 0\n",
        "\n",
        "df['month_yr'] = df['date'].apply(lambda x: x.strftime('%m-%Y'))\n",
        "\n",
        "train, test = train_test_split(df, train_size = 0.8, random_state = 42)\n",
        "\n",
        "date = df['date']\n",
        "iso_code = df['iso_code']\n",
        "train_date = train['date']\n",
        "train_iso_code = train['iso_code']\n",
        "test_date = test['date']\n",
        "test_iso_code = test['iso_code']\n",
        "df.drop('date', axis=1, inplace=True)\n",
        "train.drop('date', axis=1, inplace=True)\n",
        "test.drop('date', axis=1, inplace=True)\n",
        "\n",
        "df_dummy = pd.get_dummies(df, drop_first=True)\n",
        "train_dummy = pd.get_dummies(train, drop_first=True)\n",
        "test_dummy = pd.get_dummies(test, drop_first=True)\n",
        "\n",
        "test_dummy.drop(list(set(test_dummy.columns.tolist()) - set(train_dummy.columns.tolist())), axis = 1, inplace = True)\n",
        "train_dummy.drop(list(set(train_dummy.columns.tolist()) - set(test_dummy.columns.tolist())), axis = 1, inplace = True)\n",
        "\n",
        "imputer = IterativeImputer(estimator = BayesianRidge(), max_iter = 100, min_value = df_dummy.min(axis=0), max_value = df_dummy.max(axis=0), random_state=42)\n",
        "df_imputed_full = pd.DataFrame(imputer.fit_transform(df_dummy))\n",
        "\n",
        "imputer_split = IterativeImputer(estimator = BayesianRidge(), max_iter = 10, min_value = train_dummy.min(axis=0), max_value = train_dummy.max(axis=0), random_state=42)\n",
        "train_imputed_full = pd.DataFrame(imputer_split.fit_transform(train_dummy))\n",
        "test_imputed_full = pd.DataFrame(imputer_split.transform(test_dummy))"
      ],
      "execution_count": 117,
      "outputs": [
        {
          "output_type": "stream",
          "name": "stderr",
          "text": [
            "/usr/local/lib/python3.7/dist-packages/sklearn/impute/_iterative.py:701: ConvergenceWarning: [IterativeImputer] Early stopping criterion not reached.\n",
            "  ConvergenceWarning,\n"
          ]
        }
      ]
    },
    {
      "cell_type": "code",
      "source": [
        "df_imputed_full = df_imputed_full.iloc[:,:45]\n",
        "df_imputed_full.columns = df_dummy.columns[:45]\n",
        "df_imputed_full['date'] = date\n",
        "df_imputed_full['date'] = pd.to_datetime(df_imputed_full['date'])\n",
        "df_imputed_full['iso_code'] = iso_code\n",
        "df_imputed_full['month_yr'] = df_imputed['date'].apply(lambda x: x.strftime('%m-%Y'))\n",
        "print(df_imputed_full.isna().sum())\n",
        "df_imputed_full.to_csv('/content/drive/My Drive/biweekly_imputed.csv')\n",
        "\n",
        "train_imputed_full = train_imputed_full.iloc[:,:45]\n",
        "train_imputed_full.columns = train_dummy.columns[:45]\n",
        "train_imputed_full['date'] = train_date\n",
        "train_imputed_full['date'] = pd.to_datetime(train_imputed_full['date'])\n",
        "train_imputed_full['iso_code'] = train_iso_code\n",
        "print(train_imputed_full['date'])\n",
        "train_imputed_full['month_yr'] = train_imputed_full['date'].apply(lambda x: x.strftime('%m-%Y'))\n",
        "\n",
        "test_imputed_full = test_imputed_full.iloc[:,:45]\n",
        "test_imputed_full.columns = test_dummy.columns[:45]\n",
        "test_imputed_full['date'] = test_date\n",
        "test_imputed_full['date'] = pd.to_datetime(test_imputed_full['date'])\n",
        "test_imputed_full['iso_code'] = test_iso_code\n",
        "test_imputed_full['month_yr'] = test_imputed_full['date'].apply(lambda x: x.strftime('%m-%Y'))"
      ],
      "metadata": {
        "colab": {
          "base_uri": "https://localhost:8080/",
          "height": 1000
        },
        "id": "rn65HDOoJ1rL",
        "outputId": "d367541e-8c5a-42b0-e6d0-80fbf4beb032"
      },
      "execution_count": 125,
      "outputs": [
        {
          "output_type": "stream",
          "name": "stdout",
          "text": [
            "total_cases_per_million                       0\n",
            "new_cases_smoothed_per_million                0\n",
            "total_deaths_per_million                      0\n",
            "new_deaths_smoothed_per_million               0\n",
            "reproduction_rate                             0\n",
            "icu_patients_per_million                      0\n",
            "hosp_patients_per_million                     0\n",
            "total_tests_per_thousand                      0\n",
            "new_tests_smoothed_per_thousand               0\n",
            "positive_rate                                 0\n",
            "tests_per_case                                0\n",
            "total_vaccinations_per_hundred                0\n",
            "people_vaccinated_per_hundred                 0\n",
            "people_fully_vaccinated_per_hundred           0\n",
            "new_vaccinations_smoothed_per_million         0\n",
            "new_people_vaccinated_smoothed_per_hundred    0\n",
            "stringency_index                              0\n",
            "population                                    0\n",
            "population_density                            0\n",
            "median_age                                    0\n",
            "aged_65_older                                 0\n",
            "aged_70_older                                 0\n",
            "gdp_per_capita                                0\n",
            "extreme_poverty                               0\n",
            "cardiovasc_death_rate                         0\n",
            "diabetes_prevalence                           0\n",
            "female_smokers                                0\n",
            "male_smokers                                  0\n",
            "hospital_beds_per_thousand                    0\n",
            "life_expectancy                               0\n",
            "human_development_index                       0\n",
            "daily_people_vaccinated_per_hundred           0\n",
            "daily_vaccinations_per_million                0\n",
            "Beta                                          0\n",
            "Epsilon                                       0\n",
            "Gamma                                         0\n",
            "Kappa                                         0\n",
            "Iota                                          0\n",
            "Eta                                           0\n",
            "Delta                                         0\n",
            "Alpha                                         0\n",
            "non_who                                       0\n",
            "Lambda                                        0\n",
            "Mu                                            0\n",
            "Omicron                                       0\n",
            "date                                          0\n",
            "iso_code                                      0\n",
            "month_yr                                      0\n",
            "dtype: int64\n",
            "0      2021-02-08\n",
            "1      2021-02-22\n",
            "2      2021-03-08\n",
            "3      2021-03-22\n",
            "4      2021-04-05\n",
            "          ...    \n",
            "1855   2021-01-04\n",
            "1856          NaT\n",
            "1857          NaT\n",
            "1858   2021-03-08\n",
            "1859   2021-03-22\n",
            "Name: date, Length: 1860, dtype: datetime64[ns]\n"
          ]
        },
        {
          "output_type": "error",
          "ename": "ValueError",
          "evalue": "ignored",
          "traceback": [
            "\u001b[0;31m---------------------------------------------------------------------------\u001b[0m",
            "\u001b[0;31mValueError\u001b[0m                                Traceback (most recent call last)",
            "\u001b[0;32m<ipython-input-125-8e908ff6c1e8>\u001b[0m in \u001b[0;36m<module>\u001b[0;34m()\u001b[0m\n\u001b[1;32m     14\u001b[0m \u001b[0mtrain_imputed_full\u001b[0m\u001b[0;34m[\u001b[0m\u001b[0;34m'iso_code'\u001b[0m\u001b[0;34m]\u001b[0m \u001b[0;34m=\u001b[0m \u001b[0mtrain_iso_code\u001b[0m\u001b[0;34m\u001b[0m\u001b[0;34m\u001b[0m\u001b[0m\n\u001b[1;32m     15\u001b[0m \u001b[0mprint\u001b[0m\u001b[0;34m(\u001b[0m\u001b[0mtrain_imputed_full\u001b[0m\u001b[0;34m[\u001b[0m\u001b[0;34m'date'\u001b[0m\u001b[0;34m]\u001b[0m\u001b[0;34m)\u001b[0m\u001b[0;34m\u001b[0m\u001b[0;34m\u001b[0m\u001b[0m\n\u001b[0;32m---> 16\u001b[0;31m \u001b[0mtrain_imputed_full\u001b[0m\u001b[0;34m[\u001b[0m\u001b[0;34m'month_yr'\u001b[0m\u001b[0;34m]\u001b[0m \u001b[0;34m=\u001b[0m \u001b[0mtrain_imputed_full\u001b[0m\u001b[0;34m[\u001b[0m\u001b[0;34m'date'\u001b[0m\u001b[0;34m]\u001b[0m\u001b[0;34m.\u001b[0m\u001b[0mapply\u001b[0m\u001b[0;34m(\u001b[0m\u001b[0;32mlambda\u001b[0m \u001b[0mx\u001b[0m\u001b[0;34m:\u001b[0m \u001b[0mx\u001b[0m\u001b[0;34m.\u001b[0m\u001b[0mstrftime\u001b[0m\u001b[0;34m(\u001b[0m\u001b[0;34m'%m-%Y'\u001b[0m\u001b[0;34m)\u001b[0m\u001b[0;34m)\u001b[0m\u001b[0;34m\u001b[0m\u001b[0;34m\u001b[0m\u001b[0m\n\u001b[0m\u001b[1;32m     17\u001b[0m \u001b[0;34m\u001b[0m\u001b[0m\n\u001b[1;32m     18\u001b[0m \u001b[0mtest_imputed_full\u001b[0m \u001b[0;34m=\u001b[0m \u001b[0mtest_imputed_full\u001b[0m\u001b[0;34m.\u001b[0m\u001b[0miloc\u001b[0m\u001b[0;34m[\u001b[0m\u001b[0;34m:\u001b[0m\u001b[0;34m,\u001b[0m\u001b[0;34m:\u001b[0m\u001b[0;36m45\u001b[0m\u001b[0;34m]\u001b[0m\u001b[0;34m\u001b[0m\u001b[0;34m\u001b[0m\u001b[0m\n",
            "\u001b[0;32m/usr/local/lib/python3.7/dist-packages/pandas/core/series.py\u001b[0m in \u001b[0;36mapply\u001b[0;34m(self, func, convert_dtype, args, **kwds)\u001b[0m\n\u001b[1;32m   4211\u001b[0m             \u001b[0;32melse\u001b[0m\u001b[0;34m:\u001b[0m\u001b[0;34m\u001b[0m\u001b[0;34m\u001b[0m\u001b[0m\n\u001b[1;32m   4212\u001b[0m                 \u001b[0mvalues\u001b[0m \u001b[0;34m=\u001b[0m \u001b[0mself\u001b[0m\u001b[0;34m.\u001b[0m\u001b[0mastype\u001b[0m\u001b[0;34m(\u001b[0m\u001b[0mobject\u001b[0m\u001b[0;34m)\u001b[0m\u001b[0;34m.\u001b[0m\u001b[0m_values\u001b[0m\u001b[0;34m\u001b[0m\u001b[0;34m\u001b[0m\u001b[0m\n\u001b[0;32m-> 4213\u001b[0;31m                 \u001b[0mmapped\u001b[0m \u001b[0;34m=\u001b[0m \u001b[0mlib\u001b[0m\u001b[0;34m.\u001b[0m\u001b[0mmap_infer\u001b[0m\u001b[0;34m(\u001b[0m\u001b[0mvalues\u001b[0m\u001b[0;34m,\u001b[0m \u001b[0mf\u001b[0m\u001b[0;34m,\u001b[0m \u001b[0mconvert\u001b[0m\u001b[0;34m=\u001b[0m\u001b[0mconvert_dtype\u001b[0m\u001b[0;34m)\u001b[0m\u001b[0;34m\u001b[0m\u001b[0;34m\u001b[0m\u001b[0m\n\u001b[0m\u001b[1;32m   4214\u001b[0m \u001b[0;34m\u001b[0m\u001b[0m\n\u001b[1;32m   4215\u001b[0m         \u001b[0;32mif\u001b[0m \u001b[0mlen\u001b[0m\u001b[0;34m(\u001b[0m\u001b[0mmapped\u001b[0m\u001b[0;34m)\u001b[0m \u001b[0;32mand\u001b[0m \u001b[0misinstance\u001b[0m\u001b[0;34m(\u001b[0m\u001b[0mmapped\u001b[0m\u001b[0;34m[\u001b[0m\u001b[0;36m0\u001b[0m\u001b[0;34m]\u001b[0m\u001b[0;34m,\u001b[0m \u001b[0mSeries\u001b[0m\u001b[0;34m)\u001b[0m\u001b[0;34m:\u001b[0m\u001b[0;34m\u001b[0m\u001b[0;34m\u001b[0m\u001b[0m\n",
            "\u001b[0;32mpandas/_libs/lib.pyx\u001b[0m in \u001b[0;36mpandas._libs.lib.map_infer\u001b[0;34m()\u001b[0m\n",
            "\u001b[0;32m<ipython-input-125-8e908ff6c1e8>\u001b[0m in \u001b[0;36m<lambda>\u001b[0;34m(x)\u001b[0m\n\u001b[1;32m     14\u001b[0m \u001b[0mtrain_imputed_full\u001b[0m\u001b[0;34m[\u001b[0m\u001b[0;34m'iso_code'\u001b[0m\u001b[0;34m]\u001b[0m \u001b[0;34m=\u001b[0m \u001b[0mtrain_iso_code\u001b[0m\u001b[0;34m\u001b[0m\u001b[0;34m\u001b[0m\u001b[0m\n\u001b[1;32m     15\u001b[0m \u001b[0mprint\u001b[0m\u001b[0;34m(\u001b[0m\u001b[0mtrain_imputed_full\u001b[0m\u001b[0;34m[\u001b[0m\u001b[0;34m'date'\u001b[0m\u001b[0;34m]\u001b[0m\u001b[0;34m)\u001b[0m\u001b[0;34m\u001b[0m\u001b[0;34m\u001b[0m\u001b[0m\n\u001b[0;32m---> 16\u001b[0;31m \u001b[0mtrain_imputed_full\u001b[0m\u001b[0;34m[\u001b[0m\u001b[0;34m'month_yr'\u001b[0m\u001b[0;34m]\u001b[0m \u001b[0;34m=\u001b[0m \u001b[0mtrain_imputed_full\u001b[0m\u001b[0;34m[\u001b[0m\u001b[0;34m'date'\u001b[0m\u001b[0;34m]\u001b[0m\u001b[0;34m.\u001b[0m\u001b[0mapply\u001b[0m\u001b[0;34m(\u001b[0m\u001b[0;32mlambda\u001b[0m \u001b[0mx\u001b[0m\u001b[0;34m:\u001b[0m \u001b[0mx\u001b[0m\u001b[0;34m.\u001b[0m\u001b[0mstrftime\u001b[0m\u001b[0;34m(\u001b[0m\u001b[0;34m'%m-%Y'\u001b[0m\u001b[0;34m)\u001b[0m\u001b[0;34m)\u001b[0m\u001b[0;34m\u001b[0m\u001b[0;34m\u001b[0m\u001b[0m\n\u001b[0m\u001b[1;32m     17\u001b[0m \u001b[0;34m\u001b[0m\u001b[0m\n\u001b[1;32m     18\u001b[0m \u001b[0mtest_imputed_full\u001b[0m \u001b[0;34m=\u001b[0m \u001b[0mtest_imputed_full\u001b[0m\u001b[0;34m.\u001b[0m\u001b[0miloc\u001b[0m\u001b[0;34m[\u001b[0m\u001b[0;34m:\u001b[0m\u001b[0;34m,\u001b[0m\u001b[0;34m:\u001b[0m\u001b[0;36m45\u001b[0m\u001b[0;34m]\u001b[0m\u001b[0;34m\u001b[0m\u001b[0;34m\u001b[0m\u001b[0m\n",
            "\u001b[0;32mpandas/_libs/tslibs/nattype.pyx\u001b[0m in \u001b[0;36mpandas._libs.tslibs.nattype._make_error_func.f\u001b[0;34m()\u001b[0m\n",
            "\u001b[0;31mValueError\u001b[0m: NaTType does not support strftime"
          ]
        }
      ]
    }
  ]
}