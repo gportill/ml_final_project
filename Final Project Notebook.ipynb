{
 "cells": [
  {
   "cell_type": "markdown",
   "metadata": {},
   "source": [
    "# Introduction"
   ]
  },
  {
   "cell_type": "code",
   "execution_count": null,
   "metadata": {},
   "outputs": [],
   "source": []
  },
  {
   "cell_type": "markdown",
   "metadata": {},
   "source": [
    "We obtain our data from Our World In Data: https://ourworldindata.org/coronavirus. Our three datasets pertain to worldwide Covid-19 cases and deaths, vaccinations, and variants. We perform a number of analyses predicting the number of covid cases and deaths via regressions (fixed-time point methods) and recurrent neural networks (time-dependent methods). "
   ]
  },
  {
   "cell_type": "markdown",
   "metadata": {},
   "source": [
    "### Initial Data Cleaning"
   ]
  },
  {
   "cell_type": "code",
   "execution_count": 50,
   "metadata": {},
   "outputs": [],
   "source": [
    "import numpy as np\n",
    "import pandas as pd\n",
    "import matplotlib.pyplot as plt\n",
    "import os\n",
    "\n",
    "#csv files were pulled at 12:30pm 11/21/2021\n",
    "\n",
    "#set if needed\n",
    "personal_path = ''\n",
    "\n",
    "#get paths to csv files in google drive\n",
    "path_vaccine = os.path.join(personal_path, \"Data/vaccinations.csv\")\n",
    "path_covid = os.path.join(personal_path, \"Data/owid-covid-data.csv\")\n",
    "path_variant = os.path.join(personal_path, \"Data/covid-variants-area.csv\")\n",
    "\n",
    "#load csv files to dataframes\n",
    "vaccine = pd.read_csv(path_vaccine)\n",
    "covid = pd.read_csv(path_covid)\n",
    "variant = pd.read_csv(path_variant)\n",
    "\n",
    "#change date columns to datetime objects\n",
    "vaccine['date'] = vaccine['date'].astype('datetime64[ns]')\n",
    "covid['date'] = covid['date'].astype('datetime64[ns]')\n",
    "variant['Day'] = variant['Day'].astype('datetime64[ns]')\n",
    "\n",
    "#set multi-level indices, remove duplicate dates in variant data frame\n",
    "vaccine.set_index(['iso_code','date'], inplace = True)\n",
    "covid.set_index(['iso_code','date'], inplace = True)\n",
    "variant.rename(columns = {'Code':'iso_code', 'Day':'date'}, inplace=True)\n",
    "variant = variant.groupby(['iso_code','date'], as_index=False).mean()\n",
    "variant.set_index(['iso_code','date'], inplace = True)\n",
    "\n",
    "#join data frames\n",
    "non_dupes = vaccine.columns.difference(covid.columns)\n",
    "full = covid.join(vaccine[non_dupes], how='outer', lsuffix='_covid', rsuffix='_vaccine')\n",
    "full = full.join(variant, how='outer')\n",
    "\n",
    "#sort data frame using multi-level index\n",
    "full.sort_values(by = ['iso_code','date'], ascending=True, inplace = True)\n",
    "\n",
    "#save joined data set to a csv\n",
    "full.to_csv(os.path.join(personal_path, 'Data/full.csv'), sep=',')"
   ]
  },
  {
   "cell_type": "markdown",
   "metadata": {},
   "source": [
    "# Part 1: Regression Models"
   ]
  },
  {
   "cell_type": "markdown",
   "metadata": {},
   "source": [
    "### Imputation Methodology"
   ]
  },
  {
   "cell_type": "markdown",
   "metadata": {},
   "source": [
    "Our goal is to form two linear regression models, one which predicts the number of new cases per million and another which predicts the number of new deaths per million in a given country. We are particularly interested in understanding the influence which the prevalence of specific variants has on our response variables. Thus, we limit our analysis to only those rows containing variant level data which is published on a roughly biweekly basis. We load in the data set in the cell below, removing columns that are redunadant and not scaled by the country's population size."
   ]
  },
  {
   "cell_type": "code",
   "execution_count": 51,
   "metadata": {
    "tags": []
   },
   "outputs": [],
   "source": [
    "path_full = os.path.join(personal_path, \"Data/full.csv\")\n",
    "df = pd.read_csv(path_full)\n",
    "full.reset_index(inplace = True)\n",
    "df.head()\n",
    "df.drop(['continent','location','total_cases','new_cases','new_cases_smoothed','total_deaths','new_deaths',\n",
    "         'new_deaths_smoothed','new_cases_per_million','new_deaths_per_million',\n",
    "         'icu_patients','hosp_patients','weekly_icu_admissions','total_tests','new_tests',\n",
    "         'new_tests_per_thousand','new_tests_smoothed','total_vaccinations','weekly_hosp_admissions',\n",
    "         'people_vaccinated','people_fully_vaccinated','total_boosters','new_vaccinations',\n",
    "         'new_vaccinations_smoothed','new_people_vaccinated_smoothed','excess_mortality_cumulative',\n",
    "         'excess_mortality_cumulative_absolute','daily_people_vaccinated','daily_vaccinations',\n",
    "         'daily_vaccinations_raw','tests_units','Year'], axis=1, inplace=True)\n",
    "\n",
    "#get biweekly data\n",
    "df = df[df['Alpha'].notna()]"
   ]
  },
  {
   "cell_type": "markdown",
   "metadata": {},
   "source": [
    "Prior to model creation we must first examine the role which missing data plays in our data set. We begin this analysis by first examining the proportion of rows which contain missing data for each feature. "
   ]
  },
  {
   "cell_type": "code",
   "execution_count": 52,
   "metadata": {},
   "outputs": [
    {
     "data": {
      "image/png": "[encoded data removed]",
      "text/plain": [
       "<Figure size 864x432 with 1 Axes>"
      ]
     },
     "metadata": {
      "needs_background": "light"
     },
     "output_type": "display_data"
    }
   ],
   "source": [
    "plt.figure(figsize=(12, 6))\n",
    "plt.bar(x=np.arange(0, len(df.columns)), height = np.sort(df.isna().sum() / len(df))[::-1])\n",
    "plt.title('Proportion of Missingness in Each Feature')\n",
    "plt.show()"
   ]
  },
  {
   "cell_type": "markdown",
   "metadata": {},
   "source": [
    "We see that a number of features are almost entirely missing. These features should be removed from consideration as dropping all rows in which the feature is missing will result in a substantial reduction in our data set's size and imputation methods will likely be wildly inaccurate. Observing the bar chart we see a substantial drop off in the proportion of missingness between the sixth and seventh most missing features. To drop the 6 most missing features we use a threshold of 65%."
   ]
  },
  {
   "cell_type": "code",
   "execution_count": 53,
   "metadata": {},
   "outputs": [],
   "source": [
    "df = df.loc[:, df.isna().sum() / len(df) < 0.65]"
   ]
  },
  {
   "cell_type": "markdown",
   "metadata": {},
   "source": [
    "Now we must determine if the data is Missing Completly at Random (MCAR). If it is we can safetly drop the rows containing missing data and conduct our analysis on the rows which remain. To make this detirmination we first a create a binary column for each feature which denotes missingness. Using our notation from lecture these columns encode the $R_i$."
   ]
  },
  {
   "cell_type": "code",
   "execution_count": 5,
   "metadata": {
    "tags": []
   },
   "outputs": [],
   "source": [
    "df_missing = df.copy()\n",
    "\n",
    "#create the R_i columns\n",
    "Ri = []\n",
    "for column in df_missing.columns:\n",
    "    df_missing[str(column) + '_na'] = pd.isna(df[column]).astype(int)\n",
    "\n",
    "#remove Ri columns corresponding to non-missing/fully observed features\n",
    "df_missing = df_missing.loc[:, (df_missing != 0).any(axis=0)]\n",
    "Ri = df_missing.columns[46:]"
   ]
  },
  {
   "cell_type": "markdown",
   "metadata": {},
   "source": [
    "Next we look to see if there is a correlation between the country and what data is missing. Since both the country and the $R_i$ are categorical variables this can be done with a hypothesis test known as a $\\chi^2$-contigency test. The null hypothesis of this test is $H_0$: the variables are independent. In the below cell we perform 33 such tests, one for every $R_i$."
   ]
  },
  {
   "cell_type": "code",
   "execution_count": 6,
   "metadata": {},
   "outputs": [
    {
     "name": "stdout",
     "output_type": "stream",
     "text": [
      "[0.0, 0.0, 0.0, 0.0, 4.2864243497420654e-262, 0.0, 0.0, 2.119028712327211e-289, 5.824784229582191e-288, 0.0, 0.0, 2.768530927737676e-47, 4.558514093853946e-57, 2.1018706060787444e-55, 7.335415174573336e-19, 1.4935869467241454e-19, 1.347144515122251e-301, 3.001463581317831e-45, 3.001463581317831e-45, 3.524780348645179e-298, 3.524780348645179e-298, 3.524780348645179e-298, 2.9254958800787275e-274, 0.0, 0.0, 3.524780348645179e-298, 0.0, 0.0, 0.0, 2.807667089726142e-166, 0.0, 1.4935869467241454e-19, 7.335415174573336e-19]\n"
     ]
    }
   ],
   "source": [
    "import scipy.stats as ss\n",
    "\n",
    "p_vals = []\n",
    "for col in Ri:\n",
    "    M = pd.crosstab(df_missing['iso_code'], df_missing[col])\n",
    "    p_vals.append(ss.chi2_contingency(M)[1])\n",
    "print(p_vals)"
   ]
  },
  {
   "cell_type": "markdown",
   "metadata": {},
   "source": [
    "All of the p-values are extraordinarily small, practically zero. This means that every feature's missingness is correlated with the country. To be more formal we should utilize a Bonferroni Correction for simulatenous inference. Thus, instead of conducting the test at a 95% confidence level which corresponds to $\\alpha = 0.05$ we instead use $\\alpha = \\frac{0.05}{33} = 0.0016.$ However, even with this correction every p-value falls below the 0.0016 threshold."
   ]
  },
  {
   "cell_type": "markdown",
   "metadata": {},
   "source": [
    "We are also interested in detirmining if any of the continuous features are correlated with missingness. To make this detirmination we employ a Kruskal-Wallace test which takes in a quantitative and categorigal variable, splits the quantitative variable into groups based on the categorical variable's value and attempts to determine if the medians of the quantitative variables in each group differ significantly from each other. The null hypohtesis is $H_0$: medians of the groups are the same."
   ]
  },
  {
   "cell_type": "code",
   "execution_count": 7,
   "metadata": {},
   "outputs": [
    {
     "data": {
      "image/png": "[encoded data removed]",
      "text/plain": [
       "<Figure size 576x576 with 2 Axes>"
      ]
     },
     "metadata": {
      "needs_background": "light"
     },
     "output_type": "display_data"
    }
   ],
   "source": [
    "#drop categorical features\n",
    "df_missing.drop(['iso_code','date'], axis=1, inplace = True)\n",
    "#columns of quantitative features\n",
    "quant_cols = df_missing.columns[:44]\n",
    "#initialize data structure to hold p-values\n",
    "arr = np.zeros((len(Ri), len(quant_cols)))\n",
    "for i, missing_col in enumerate(Ri):\n",
    "    for j, old_col in enumerate(quant_cols):\n",
    "        #remove rows in which the quantitative predictor is missing\n",
    "        df_sub = df_missing[df_missing[old_col].notna()]\n",
    "        #group by the R_i into those rows with 0 and those with 1\n",
    "        g = df_sub.groupby(missing_col)\n",
    "        val_list = []\n",
    "        for val in df_sub[missing_col].unique():\n",
    "          #get the quantitative column of interest for each group\n",
    "          val_list.append(g.get_group(val)[old_col])\n",
    "        #if neither group is empty\n",
    "        if len(val_list) > 1: arr[i,j] = ss.kruskal(*val_list).pvalue\n",
    "        else: arr[i,j] = -1\n",
    "\n",
    "missingness_corr = pd.DataFrame(arr)\n",
    "\n",
    "plt.figure(figsize=(8, 8))\n",
    "plt.imshow(missingness_corr, cmap =\"RdYlBu\")\n",
    "plt.colorbar()\n",
    "plt.title('Heatmap of Kruskal-Wallace P-Values')\n",
    "plt.show()"
   ]
  },
  {
   "cell_type": "markdown",
   "metadata": {},
   "source": [
    "In the above heat map each cell corresponds to the p-value of a single Kruskal-Wallace test between a quantitative feature and an $R_i$. The dark red cells correspond to p-values of -1 which denote instances where the Kruskal-Wallace test could not be completed because the $R_i$ was always 0 or always 1 when the quantitative feature was present. The pale yellow cells denote near zero p-values of which there are many. These cells denote combinations of quantititave features and $R_i$ which are highly correlated. Thus, through quick visual inspection we can detirmine that there is a lot of correlation between the $R_i$ and observed data in the data set."
   ]
  },
  {
   "cell_type": "markdown",
   "metadata": {},
   "source": [
    "Through the above analysis we can firmly conclude that our data is not MCAR and so we cannot drop rows which contain missing data. This is because the data's missingness is highly correlated with the observed data. Instead we will assume for the purposes of our further analysis that our data is MAR and leverage imputation techniques to make educated guesses about the values of the underlying $X_i^{(1)}$"
   ]
  },
  {
   "cell_type": "markdown",
   "metadata": {},
   "source": [
    "Simple imputation techniques such as filling in missing values with the feature's mean, median, or mode are unlikely to sufficient given the complexity and amount of missingness present in the data set. Feed-forward imputation in which missing data is imputed with the feature's value in the last row it was present could potentially yeild usable results since our data has a time series component. However, such a technique fails to leverage information about the observed data which could have strong predictive capabilities. K-Nearest Neighbors imputation, in which missing data is filled with the data of similar/nearby points was also considered. However, while such a technique does indeed leverage observed data KNN, is not ideal in high dimensional situations such as ours since \"all points in high dimensions are lonely,\" the curse of dimensionality strikes again! Finally, we considered a iterative linear regression imputation approach in which each feature with missing data is fitted with a linear regression model which uses the other features as predicters. This is done iteratively, over many rounds, until convergence. This approach allows us to leverage our observed data while not succumbing to the curse of dimensionality."
   ]
  },
  {
   "cell_type": "markdown",
   "metadata": {},
   "source": [
    "The iterative linear regression approach is implmented in the cell below. Note that dummy variables are created for country and month/year to give the imputation model more predictive ability. Furthermore, we use our knowledge about vaccine rollout to make educated desicions about some features. For example, all values for the feature \"total_vaccinations_per_hundred\" in rows corresponding to dates prior to December, 2020 are manually set to 0. We impute the data set in its entirety and also training and testing sets, being to sure to fit the imputer using the training set prior to imputing the testing set to prevent data leakage. Lastly, because this data will be used in a linear regression model we drop any columns associated with the response to ensure that are predictors are not imputed with information from the response and vice versa."
   ]
  },
  {
   "cell_type": "code",
   "execution_count": 8,
   "metadata": {},
   "outputs": [],
   "source": [
    "#remove rows with missing response\n",
    "df = df[df['new_cases_smoothed_per_million'].notna()]\n",
    "df = df[df['new_deaths_smoothed_per_million'].notna()]\n",
    "\n",
    "#set vaccine data for dates prior to December, 2020 to 0\n",
    "df['date'] = pd.to_datetime(df['date'])\n",
    "df.loc[df['date'] < pd.Timestamp('2020-12-01 12:00:00'), ['total_vaccinations_per_hundred', \n",
    "                                                          'people_vaccinated_per_hundred',\n",
    "                                                          'people_fully_vaccinated_per_hundred',\n",
    "                                                          'new_vaccinations_smoothed_per_million',\n",
    "                                                          'new_people_vaccinated_smoothed_per_hundred',\n",
    "                                                          'daily_people_vaccinated_per_hundred',\n",
    "                                                         'daily_vaccinations_per_million']] = 0\n",
    "\n",
    "#create a column denoting month/year\n",
    "df['month_yr'] = df['date'].apply(lambda x: x.strftime('%m-%Y'))\n",
    "\n",
    "#drop columns associated with response\n",
    "df = df.drop(['total_cases_per_million','total_deaths_per_million','total_tests_per_thousand',\n",
    "              'positive_rate','tests_per_case','hospital_beds_per_thousand','icu_patients_per_million',\n",
    "              'hosp_patients_per_million','month_yr','population','reproduction_rate','new_tests_smoothed_per_thousand'], axis = 1)"
   ]
  },
  {
   "cell_type": "code",
   "execution_count": 9,
   "metadata": {},
   "outputs": [
    {
     "name": "stderr",
     "output_type": "stream",
     "text": [
      "/home/neha/.local/lib/python3.8/site-packages/sklearn/impute/_iterative.py:699: ConvergenceWarning: [IterativeImputer] Early stopping criterion not reached.\n",
      "  warnings.warn(\n",
      "/home/neha/.local/lib/python3.8/site-packages/sklearn/impute/_iterative.py:699: ConvergenceWarning: [IterativeImputer] Early stopping criterion not reached.\n",
      "  warnings.warn(\n"
     ]
    }
   ],
   "source": [
    "from sklearn.model_selection import train_test_split\n",
    "from sklearn.experimental import enable_iterative_imputer\n",
    "from sklearn.impute import IterativeImputer\n",
    "from sklearn.linear_model import BayesianRidge\n",
    "\n",
    "#split into a training and testing set\n",
    "train, test = train_test_split(df, train_size = 0.8, random_state = 42)\n",
    "df.reset_index(drop=True, inplace = True)\n",
    "train.reset_index(drop=True, inplace = True)\n",
    "test.reset_index(drop=True, inplace = True)\n",
    "\n",
    "#save these columns for later\n",
    "date = df['date']\n",
    "iso_code = df['iso_code']\n",
    "cases = df['new_cases_smoothed_per_million']\n",
    "deaths = df['new_deaths_smoothed_per_million'] \n",
    "\n",
    "train_date = train['date']\n",
    "train_iso_code = train['iso_code']\n",
    "train_cases = train['new_cases_smoothed_per_million']\n",
    "train_deaths = train['new_deaths_smoothed_per_million'] \n",
    "\n",
    "test_date = test['date']\n",
    "test_iso_code = test['iso_code']\n",
    "test_cases = test['new_cases_smoothed_per_million']\n",
    "test_deaths = test['new_deaths_smoothed_per_million'] \n",
    "                   \n",
    "#drop response columns\n",
    "df = df.drop(['new_cases_smoothed_per_million', 'new_deaths_smoothed_per_million'], axis = 1)\n",
    "train = train.drop(['new_cases_smoothed_per_million', 'new_deaths_smoothed_per_million'], axis = 1)\n",
    "test = test.drop(['new_cases_smoothed_per_million', 'new_deaths_smoothed_per_million'], axis = 1)\n",
    "\n",
    "#drop date columns\n",
    "df.drop('date', axis=1, inplace=True)\n",
    "train.drop('date', axis=1, inplace=True)\n",
    "test.drop('date', axis=1, inplace=True)\n",
    "\n",
    "#create dummy variables for categorical variables\n",
    "df_dummy = pd.get_dummies(df, drop_first=True)\n",
    "train_dummy = pd.get_dummies(train, drop_first=True)\n",
    "test_dummy = pd.get_dummies(test, drop_first=True)\n",
    "\n",
    "#drop dummy variables that do not appear in both train and test set\n",
    "test_dummy.drop(list(set(test_dummy.columns.tolist()) - set(train_dummy.columns.tolist())), axis = 1, inplace = True)\n",
    "train_dummy.drop(list(set(train_dummy.columns.tolist()) - set(test_dummy.columns.tolist())), axis = 1, inplace = True)\n",
    "\n",
    "#imputed full data set\n",
    "imputer = IterativeImputer(estimator = BayesianRidge(), max_iter = 10, min_value = df_dummy.min(axis=0), max_value = df_dummy.max(axis=0), random_state=42)\n",
    "df_imputed_full = pd.DataFrame(imputer.fit_transform(df_dummy))\n",
    "\n",
    "#imputed train/test split data\n",
    "imputer_split = IterativeImputer(estimator = BayesianRidge(), max_iter = 10, min_value = train_dummy.min(axis=0), max_value = train_dummy.max(axis=0), random_state=42)\n",
    "train_imputed_full = pd.DataFrame(imputer_split.fit_transform(train_dummy))\n",
    "test_imputed_full = pd.DataFrame(imputer_split.transform(test_dummy))"
   ]
  },
  {
   "cell_type": "code",
   "execution_count": 10,
   "metadata": {},
   "outputs": [],
   "source": [
    "df_imputed_full = df_imputed_full.iloc[:,:31]\n",
    "df_imputed_full.columns = df_dummy.columns[:31]\n",
    "df_imputed_full['date'] = date\n",
    "df_imputed_full['date'] = pd.to_datetime(df_imputed_full['date'])\n",
    "df_imputed_full['iso_code'] = iso_code\n",
    "df_imputed_full['new_cases_smoothed_per_million'] = cases\n",
    "df_imputed_full['new_deaths_smoothed_per_million']  = deaths\n",
    "df_imputed_full['month_yr'] = df_imputed_full['date'].apply(lambda x: x.strftime('%m-%Y'))\n",
    "df_imputed_full.to_csv(os.path.join(personal_path, 'Data/biweekly_imputed_old_fixed.csv'))\n",
    "\n",
    "train_imputed_full = train_imputed_full.iloc[:,:31]\n",
    "train_imputed_full.columns = train_dummy.columns[:31]\n",
    "train_imputed_full['date'] = train_date\n",
    "train_imputed_full['date'] = pd.to_datetime(train_imputed_full['date'])\n",
    "train_imputed_full['iso_code'] = train_iso_code\n",
    "train_imputed_full['new_cases_smoothed_per_million'] = train_cases\n",
    "train_imputed_full['new_deaths_smoothed_per_million']  = train_deaths\n",
    "train_imputed_full['month_yr'] = train_imputed_full['date'].apply(lambda x: x.strftime('%m-%Y'))\n",
    "train_imputed_full.to_csv(os.path.join(personal_path, 'Data/biweekly_train_imputed_old_fixed.csv'))\n",
    "\n",
    "test_imputed_full = test_imputed_full.iloc[:,:31]\n",
    "test_imputed_full.columns = test_dummy.columns[:31]\n",
    "test_imputed_full['date'] = test_date\n",
    "test_imputed_full['date'] = pd.to_datetime(test_imputed_full['date'])\n",
    "test_imputed_full['iso_code'] = test_iso_code\n",
    "test_imputed_full['new_cases_smoothed_per_million'] = test_cases\n",
    "test_imputed_full['new_deaths_smoothed_per_million']  = test_deaths\n",
    "test_imputed_full['month_yr'] = test_imputed_full['date'].apply(lambda x: x.strftime('%m-%Y'))\n",
    "test_imputed_full.to_csv(os.path.join(personal_path, 'Data/biweekly_test_imputed_old_fixed.csv'))"
   ]
  },
  {
   "cell_type": "markdown",
   "metadata": {},
   "source": [
    "### Ordinary Least Squares Linear Regression Models"
   ]
  },
  {
   "cell_type": "markdown",
   "metadata": {},
   "source": [
    "To begin forming our linear regression models we load in our imputed data set."
   ]
  },
  {
   "cell_type": "code",
   "execution_count": 11,
   "metadata": {},
   "outputs": [],
   "source": [
    "path_full = os.path.join(personal_path, \"Data/biweekly_imputed_old_fixed.csv\")\n",
    "df = pd.read_csv(path_full)"
   ]
  },
  {
   "cell_type": "markdown",
   "metadata": {},
   "source": [
    "For our first model the reponse will be the number of new Covid cases per million people on a particular day in a particular country. For now we not interested in predicting the reponse of future data points, rather we are interested in direct interpretation of the regression coefficients. Therefore, we forgo splitting the data into a train and test set. \n",
    "\n",
    "Prior to imputing we dropped irrelevant/unineteresting features. For example, having the positive rate of Covid tests on a particular day will indeed be useful for predicting the number of new cases, but this relationship is fundamentally obvious. We want to uncover less intutive relationships.\n",
    "\n",
    "We hope most of the predictor names are sufficiently descriptive. One point of clarification is for the variant predictors such as Alpha, Mu, Delta, etc. correspond to proportion of cases in a specific country on a specific date attributed to each variant. Thus, the sum of the variant data should be 1 for every country on every date."
   ]
  },
  {
   "cell_type": "code",
   "execution_count": 12,
   "metadata": {},
   "outputs": [],
   "source": [
    "y = df['new_cases_smoothed_per_million']\n",
    "X = df.drop(['Unnamed: 0', 'date', 'iso_code','month_yr','new_cases_smoothed_per_million', 'new_deaths_smoothed_per_million'], axis = 1)"
   ]
  },
  {
   "cell_type": "markdown",
   "metadata": {},
   "source": [
    "Next, we examine the correlation between features in our data set. Recall that in a an Ordinary Least Squares Linear Regression we assume $Y_i = \\beta_0 + \\beta_1x_1 + \\beta_1x_1 +\\ldots + \\beta_kx_k + ϵ_i$ where we have $k$ features, the n data points are independent, and $\\epsilon ~ \\sim \\mathcal{N}(0, \\sigma^2)$. Under these assumptions the associated likelihhod is $\\prod_i^n p(\\vec{x_i})\\cdot \\frac{1}{(2\\sigma^2\\pi)^{\\frac{1}{2}}} \\cdot exp\\{-\\frac{(y_i-(\\beta_0 + \\sum_{j=1}^k\\beta_jx_{ij}))^2}{2\\sigma^2}\\}$ and it can be shown that maximing this expression as a function of $\\vec{\\beta}$ is equivalent to minimizing $\\sum_{i=1}^n(y_i-(\\beta_0 + \\sum_{j=1}^k\\beta_jx_{ij}))^2$ in terms of $\\vec{\\beta}$. From here it follows that the regression coefficients can solved in closed form as $\\hat{\\vec{\\beta}} = (X^TX)^{-1}X^TY$ where $X$ is our design matrix (matrix of predictors + a column of 1s for an intercept term) and $Y$ is our vector of responses. Note that $\\hat{\\vec{\\beta}}$ depends on $(X^TX)^{-1}$ and that the latter expression will not be invertible if the columns of features are linearly dependent. Thus, if the columns of the design matrix are linearly dependent the OLS estimates for the coefficients cannot be solved for. Furthermore, by noting that $\\hat{\\vec{\\beta}} \\sim \\mathcal{N}(0, (X^TX)^{-1}\\sigma^2)$ we see that large values in $(X^TX)^{-1}$ will cause our coefficient estimates to be highly variable. Thus, we must also be careful to ensure that our design matrix is not near singluar as such a design matrix would yeild abnormally large values in $(X^TX)^{-1}$ and cause our estimates to be highly variable. To avoid this situation we analyze a correlation matrix of our features. Having features that are highly correlated will result in $(X^TX)^{-1}$ being near singular and so if a pair of features is highly correlated we will remove one of them. The plot below visualizes our correlation matrix. We are concerned about off-diagonal cells which are light green/yellow."
   ]
  },
  {
   "cell_type": "code",
   "execution_count": 13,
   "metadata": {},
   "outputs": [
    {
     "data": {
      "image/png": "[encoded data removed]",
      "text/plain": [
       "<Figure size 576x576 with 2 Axes>"
      ]
     },
     "metadata": {
      "needs_background": "light"
     },
     "output_type": "display_data"
    }
   ],
   "source": [
    "plt.figure(figsize=(8, 8))\n",
    "plt.matshow(X.corr(), fignum = 1)\n",
    "plt.colorbar()\n",
    "plt.title('Correlation Matrix of Features')\n",
    "plt.show()"
   ]
  },
  {
   "cell_type": "markdown",
   "metadata": {},
   "source": [
    "We now drop the highly correlated predictors from our design matrix. We use a threshold of 0.8 to identify highly correlated pairs."
   ]
  },
  {
   "cell_type": "code",
   "execution_count": 14,
   "metadata": {},
   "outputs": [],
   "source": [
    "X.drop(['non_who','daily_people_vaccinated_per_hundred','people_vaccinated_per_hundred',\n",
    "        'people_fully_vaccinated_per_hundred','daily_vaccinations_per_million',\n",
    "        'new_people_vaccinated_smoothed_per_hundred','life_expectancy','aged_70_older',\n",
    "        'human_development_index'], axis = 1, inplace = True)"
   ]
  },
  {
   "cell_type": "markdown",
   "metadata": {},
   "source": [
    "We now fit our initial linear regression model. We display some verbose output from the regression below and analyze it in the proceeding cell."
   ]
  },
  {
   "cell_type": "code",
   "execution_count": 15,
   "metadata": {},
   "outputs": [
    {
     "name": "stdout",
     "output_type": "stream",
     "text": [
      "                                  OLS Regression Results                                  \n",
      "==========================================================================================\n",
      "Dep. Variable:     new_cases_smoothed_per_million   R-squared:                       0.150\n",
      "Model:                                        OLS   Adj. R-squared:                  0.141\n",
      "Method:                             Least Squares   F-statistic:                     17.20\n",
      "Date:                            Mon, 13 Dec 2021   Prob (F-statistic):           7.37e-61\n",
      "Time:                                    00:09:46   Log-Likelihood:                -14432.\n",
      "No. Observations:                            2164   AIC:                         2.891e+04\n",
      "Df Residuals:                                2141   BIC:                         2.904e+04\n",
      "Df Model:                                      22                                         \n",
      "Covariance Type:                        nonrobust                                         \n",
      "=========================================================================================================\n",
      "                                            coef    std err          t      P>|t|      [0.025      0.975]\n",
      "---------------------------------------------------------------------------------------------------------\n",
      "const                                  -347.4484     42.437     -8.187      0.000    -430.671    -264.226\n",
      "total_vaccinations_per_hundred           -0.1446      0.151     -0.957      0.339      -0.441       0.152\n",
      "new_vaccinations_smoothed_per_million     0.0031      0.001      2.877      0.004       0.001       0.005\n",
      "stringency_index                          2.9487      0.311      9.478      0.000       2.339       3.559\n",
      "population_density                       -0.0140      0.004     -3.400      0.001      -0.022      -0.006\n",
      "median_age                                6.1713      1.908      3.234      0.001       2.429       9.913\n",
      "aged_65_older                            -3.9438      2.335     -1.689      0.091      -8.522       0.635\n",
      "gdp_per_capita                            0.0010      0.000      3.439      0.001       0.000       0.002\n",
      "extreme_poverty                           0.0750      0.175      0.428      0.669      -0.269       0.419\n",
      "cardiovasc_death_rate                     0.2169      0.055      3.959      0.000       0.109       0.324\n",
      "diabetes_prevalence                      -0.8374      1.651     -0.507      0.612      -4.075       2.400\n",
      "female_smokers                            3.4732      0.560      6.199      0.000       2.374       4.572\n",
      "male_smokers                             -0.1611      0.342     -0.472      0.637      -0.831       0.509\n",
      "Beta                                      0.3857      0.322      1.200      0.230      -0.245       1.016\n",
      "Epsilon                                   6.7914      3.262      2.082      0.037       0.395      13.188\n",
      "Gamma                                     1.7439      0.387      4.504      0.000       0.985       2.503\n",
      "Kappa                                    -2.2016      2.085     -1.056      0.291      -6.290       1.887\n",
      "Iota                                     -1.3226      2.442     -0.542      0.588      -6.112       3.467\n",
      "Eta                                       0.5445      1.426      0.382      0.703      -2.253       3.342\n",
      "Delta                                     0.9407      0.163      5.757      0.000       0.620       1.261\n",
      "Alpha                                     0.2500      0.156      1.606      0.108      -0.055       0.555\n",
      "Lambda                                    0.6291      0.794      0.792      0.428      -0.928       2.186\n",
      "Mu                                       -1.7045      4.537     -0.376      0.707     -10.603       7.194\n",
      "==============================================================================\n",
      "Omnibus:                     1193.750   Durbin-Watson:                   0.541\n",
      "Prob(Omnibus):                  0.000   Jarque-Bera (JB):             9763.976\n",
      "Skew:                           2.512   Prob(JB):                         0.00\n",
      "Kurtosis:                      12.113   Cond. No.                     3.95e+05\n",
      "==============================================================================\n",
      "\n",
      "Notes:\n",
      "[1] Standard Errors assume that the covariance matrix of the errors is correctly specified.\n",
      "[2] The condition number is large, 3.95e+05. This might indicate that there are\n",
      "strong multicollinearity or other numerical problems.\n"
     ]
    }
   ],
   "source": [
    "import statsmodels.api as sm\n",
    "\n",
    "#add a column of ones for the intercept term\n",
    "X_full = sm.add_constant(X)\n",
    "est_full = sm.OLS(y, X_full)\n",
    "est_full_fit = est_full.fit()\n",
    "print(est_full_fit.summary())"
   ]
  },
  {
   "cell_type": "markdown",
   "metadata": {},
   "source": [
    "The first value to consider is the $R^2$ value. This is a measure of goodeness of fit and is defined as $R^2=1-\\frac{\\sum_{i=1}^n(y_i-\\hat{y_i})^2}{\\sum_{i=1}^n(y_i-\\bar{y})^2}$. Evidently the closer $R^2$ is to 1 the better the model is at explaining the response. We will consider the adjusted $R^2$ value which penalizes for having many predictors. Such a penalty is logical since adding predictors to a linear regression model will only help its explanatory ability even if the added predictor is completly irrelavent. For our model $Adj. R^2 = 0.131$ which is rather low. Such a value can roughly be interpreted as meaning that the predictor variables account for 13.1% of the variability in the response variable. Nonetheless the model is not worthless. The $F-Test$ for overall model utility which has null hypothesis $H_0:$ our model and a model consisting of only an intercept term have the same explanatory capability, has a near zero p-value. Thus, we can conclude that the predictors do indeed have an effect on the response but they do not tell the entire story. We can also examine $t-tests$ for individual predictors. Each such test has the null hypothesis $H_0:$ the coefficient associated with the predictor is 0. Thus, if the p-value of such a test is large the predictor may not have any influence on the response and may be able to be removed without hindering the model. In our model, if we conduct the test at a 95% confidence level, the insignificant predictors are aged 65 older, extreme poverty, cardio vasc death rate, diabetes prevalence, male smokers, Beta, Kappa, Iota, Eta, Lambda, Epsilon and Mu. we now fit a model with these predictors removed and check to see if we can safetly justify their removal."
   ]
  },
  {
   "cell_type": "code",
   "execution_count": 16,
   "metadata": {},
   "outputs": [
    {
     "name": "stdout",
     "output_type": "stream",
     "text": [
      "   df_resid           ssr  df_diff       ss_diff         F    Pr(>F)\n",
      "0    2153.0  7.982698e+07      0.0           NaN       NaN       NaN\n",
      "1    2141.0  7.864620e+07     12.0  1.180779e+06  2.678713  0.001394\n"
     ]
    }
   ],
   "source": [
    "from statsmodels.stats.anova import anova_lm\n",
    "X_nested = X.drop(['aged_65_older','extreme_poverty','cardiovasc_death_rate','diabetes_prevalence','male_smokers','Beta','Kappa','Iota','Eta','Lambda','Mu','Epsilon'], axis = 1)\n",
    "X_nested_const = sm.add_constant(X_nested)\n",
    "est_nested = sm.OLS(y, X_nested_const)\n",
    "est_nested_fit = est_nested.fit()\n",
    "print(anova_lm(est_nested_fit, est_full_fit))"
   ]
  },
  {
   "cell_type": "markdown",
   "metadata": {},
   "source": [
    "The above output details an $F-Test$ for nested linear regression models. The null hypothesis is $H_0:$ all coeffcients present in the full model but not the nested model are 0. In other words the hypothesis test is detirmining if the nested model accounts for the just as much variance in the reponse as the full model. In our case the p-value is 0.04604 and so we reject the null hypothesis at the 95% confidence level and cannot reduce the model. We try again but this time retaining the Epislon predictor since the associated $t-test$ was nearly significant. We recognize that such a procedure may not be the most mathematically sound, a better approach for model reduction is employed in when constructing Generalized Linear Models later in this section."
   ]
  },
  {
   "cell_type": "code",
   "execution_count": 17,
   "metadata": {},
   "outputs": [
    {
     "name": "stdout",
     "output_type": "stream",
     "text": [
      "   df_resid           ssr  df_diff       ss_diff         F    Pr(>F)\n",
      "0    2152.0  7.972439e+07      0.0           NaN       NaN       NaN\n",
      "1    2141.0  7.864620e+07     11.0  1.078189e+06  2.668339  0.002103\n"
     ]
    }
   ],
   "source": [
    "from statsmodels.stats.anova import anova_lm\n",
    "X_nested = X.drop(['aged_65_older','extreme_poverty','cardiovasc_death_rate','diabetes_prevalence','male_smokers','Beta','Kappa','Iota','Eta','Lambda','Mu'], axis = 1)\n",
    "X_nested_const = sm.add_constant(X_nested)\n",
    "est_nested = sm.OLS(y, X_nested_const)\n",
    "est_nested_fit = est_nested.fit()\n",
    "print(anova_lm(est_nested_fit, est_full_fit))"
   ]
  },
  {
   "cell_type": "markdown",
   "metadata": {},
   "source": [
    "Noe the p-value associated with model reduction in 0.106 and so we can justfiably reduce the model at the 95% confidence level. We now examine the coefficients of this nested model."
   ]
  },
  {
   "cell_type": "code",
   "execution_count": 18,
   "metadata": {},
   "outputs": [
    {
     "name": "stdout",
     "output_type": "stream",
     "text": [
      "                                  OLS Regression Results                                  \n",
      "==========================================================================================\n",
      "Dep. Variable:     new_cases_smoothed_per_million   R-squared:                       0.139\n",
      "Model:                                        OLS   Adj. R-squared:                  0.134\n",
      "Method:                             Least Squares   F-statistic:                     31.47\n",
      "Date:                            Mon, 13 Dec 2021   Prob (F-statistic):           2.35e-62\n",
      "Time:                                    00:09:46   Log-Likelihood:                -14447.\n",
      "No. Observations:                            2164   AIC:                         2.892e+04\n",
      "Df Residuals:                                2152   BIC:                         2.899e+04\n",
      "Df Model:                                      11                                         \n",
      "Covariance Type:                        nonrobust                                         \n",
      "=========================================================================================================\n",
      "                                            coef    std err          t      P>|t|      [0.025      0.975]\n",
      "---------------------------------------------------------------------------------------------------------\n",
      "const                                  -212.0878     29.937     -7.084      0.000    -270.797    -153.378\n",
      "total_vaccinations_per_hundred           -0.2280      0.146     -1.566      0.118      -0.514       0.058\n",
      "new_vaccinations_smoothed_per_million     0.0031      0.001      2.884      0.004       0.001       0.005\n",
      "stringency_index                          2.8741      0.298      9.647      0.000       2.290       3.458\n",
      "population_density                       -0.0134      0.004     -3.379      0.001      -0.021      -0.006\n",
      "median_age                                2.1985      0.752      2.924      0.003       0.724       3.673\n",
      "gdp_per_capita                            0.0008      0.000      3.185      0.001       0.000       0.001\n",
      "female_smokers                            3.5663      0.522      6.826      0.000       2.542       4.591\n",
      "Epsilon                                   5.3277      3.202      1.664      0.096      -0.951      11.606\n",
      "Gamma                                     1.7263      0.370      4.662      0.000       1.000       2.452\n",
      "Delta                                     1.0127      0.156      6.507      0.000       0.708       1.318\n",
      "Alpha                                     0.3212      0.152      2.109      0.035       0.023       0.620\n",
      "==============================================================================\n",
      "Omnibus:                     1213.635   Durbin-Watson:                   0.543\n",
      "Prob(Omnibus):                  0.000   Jarque-Bera (JB):            10278.666\n",
      "Skew:                           2.552   Prob(JB):                         0.00\n",
      "Kurtosis:                      12.378   Cond. No.                     2.77e+05\n",
      "==============================================================================\n",
      "\n",
      "Notes:\n",
      "[1] Standard Errors assume that the covariance matrix of the errors is correctly specified.\n",
      "[2] The condition number is large, 2.77e+05. This might indicate that there are\n",
      "strong multicollinearity or other numerical problems.\n"
     ]
    }
   ],
   "source": [
    "print(est_nested_fit.summary())"
   ]
  },
  {
   "cell_type": "markdown",
   "metadata": {},
   "source": [
    "Interpreting regression coefficients can be tricky. One needs to resist the temptation to fit a narraive to explain the why the coefficients take on certain values. For example, strigency_index is a metric developed by Our World in Data, that attempts to quantify how many restrictions a country has put in place to slow the spread of Covid-19. Countries with mask mandates, travel bans, and mandatory quarantines will have a higher strigency index than those countries which do not. The regression coefficient associated with strigency index is 2.86, suggesting that the more restrictions a government puts in place the more Covid-19 spreads. Of course the true relationship is likely that the governments of countries in which there is a COVID-19 outbreak, and thus lots of new cases, are more likely to implement restrictive measures to slow the spread. Other interesting findings are that the only significant variants were Epsilon, Gamma, Delta, and Alpha, all of which have positive coefficients. This could possibly suggest that these variants are more contagious. However, in the case of the Gamma and Epsilon variants the data is limited and so any conclusions should be take with a grain of salt. Another interesting note is that the female smoker predictor was significant but the male smoker predictor was not. We are hesistant to hypothesize why this is the case but perhaps the amount of female smokers in a country is a proxy for the nation's underlying ideology about government interventions. Lastly, it seems counter intuitive that the amont of new vaccinations administered on a day would be posivelty associated with the number of new cases. This may be due to more people being convinced to receive vaccines during particularly bad Covid outbreaks."
   ]
  },
  {
   "cell_type": "markdown",
   "metadata": {},
   "source": [
    "We are also interested in directly comparing the magnitide of the effect of each predictor. To do this we standardize the predictors and re-fit the regression model. Note that with the scaled data no intercept term is necessary."
   ]
  },
  {
   "cell_type": "code",
   "execution_count": 19,
   "metadata": {},
   "outputs": [
    {
     "name": "stdout",
     "output_type": "stream",
     "text": [
      "                                 OLS Regression Results                                \n",
      "=======================================================================================\n",
      "Dep. Variable:                      y   R-squared (uncentered):                   0.139\n",
      "Model:                            OLS   Adj. R-squared (uncentered):              0.134\n",
      "Method:                 Least Squares   F-statistic:                              31.49\n",
      "Date:                Mon, 13 Dec 2021   Prob (F-statistic):                    2.18e-62\n",
      "Time:                        00:09:46   Log-Likelihood:                         -2909.2\n",
      "No. Observations:                2164   AIC:                                      5840.\n",
      "Df Residuals:                    2153   BIC:                                      5903.\n",
      "Df Model:                          11                                                  \n",
      "Covariance Type:            nonrobust                                                  \n",
      "=========================================================================================================\n",
      "                                            coef    std err          t      P>|t|      [0.025      0.975]\n",
      "---------------------------------------------------------------------------------------------------------\n",
      "total_vaccinations_per_hundred           -0.0494      0.032     -1.566      0.118      -0.111       0.012\n",
      "new_vaccinations_smoothed_per_million     0.0664      0.023      2.885      0.004       0.021       0.111\n",
      "stringency_index                          0.2163      0.022      9.650      0.000       0.172       0.260\n",
      "population_density                       -0.0754      0.022     -3.379      0.001      -0.119      -0.032\n",
      "median_age                                0.0876      0.030      2.925      0.003       0.029       0.146\n",
      "gdp_per_capita                            0.0818      0.026      3.186      0.001       0.031       0.132\n",
      "female_smokers                            0.1849      0.027      6.828      0.000       0.132       0.238\n",
      "Epsilon                                   0.0337      0.020      1.664      0.096      -0.006       0.073\n",
      "Gamma                                     0.0983      0.021      4.663      0.000       0.057       0.140\n",
      "Delta                                     0.2085      0.032      6.509      0.000       0.146       0.271\n",
      "Alpha                                     0.0474      0.022      2.110      0.035       0.003       0.092\n",
      "==============================================================================\n",
      "Omnibus:                     1213.635   Durbin-Watson:                   0.543\n",
      "Prob(Omnibus):                  0.000   Jarque-Bera (JB):            10278.666\n",
      "Skew:                           2.552   Prob(JB):                         0.00\n",
      "Kurtosis:                      12.378   Cond. No.                         3.30\n",
      "==============================================================================\n",
      "\n",
      "Notes:\n",
      "[1] R² is computed without centering (uncentered) since the model does not contain a constant.\n",
      "[2] Standard Errors assume that the covariance matrix of the errors is correctly specified.\n"
     ]
    }
   ],
   "source": [
    "from sklearn.preprocessing import StandardScaler\n",
    "\n",
    "scaler = StandardScaler()\n",
    "scaler_y = StandardScaler()\n",
    "y_scaled = scaler_y.fit_transform(np.array(y).reshape(-1,1))\n",
    "cols = X_nested.columns\n",
    "X_nested_scaled = pd.DataFrame(scaler.fit_transform(X_nested))\n",
    "X_nested_scaled.columns = cols\n",
    "est_nested_scaled = sm.OLS(y_scaled, X_nested_scaled)\n",
    "est_nested_scaled_fit = est_nested_scaled.fit()\n",
    "print(est_nested_scaled_fit.summary())"
   ]
  },
  {
   "cell_type": "markdown",
   "metadata": {},
   "source": [
    "From this output we can see that we see that the two non-variant related predictors with greatest positive affect on the number of cases on a given day were strigency index and female smokers. Furthermore, we can now see that the Delta variant seems to be the most contagious."
   ]
  },
  {
   "cell_type": "markdown",
   "metadata": {},
   "source": [
    "The last analysis we will perform on this model will be the addition of categorical predictors. These added predictors correspond to the country and the month-year combination corresponding to each row."
   ]
  },
  {
   "cell_type": "code",
   "execution_count": 20,
   "metadata": {},
   "outputs": [
    {
     "name": "stdout",
     "output_type": "stream",
     "text": [
      "                                  OLS Regression Results                                  \n",
      "==========================================================================================\n",
      "Dep. Variable:     new_cases_smoothed_per_million   R-squared:                       0.471\n",
      "Model:                                        OLS   Adj. R-squared:                  0.436\n",
      "Method:                             Least Squares   F-statistic:                     13.68\n",
      "Date:                            Mon, 13 Dec 2021   Prob (F-statistic):          5.00e-197\n",
      "Time:                                    00:09:46   Log-Likelihood:                -13920.\n",
      "No. Observations:                            2164   AIC:                         2.811e+04\n",
      "Df Residuals:                                2031   BIC:                         2.886e+04\n",
      "Df Model:                                     132                                         \n",
      "Covariance Type:                        nonrobust                                         \n",
      "=========================================================================================================\n",
      "                                            coef    std err          t      P>|t|      [0.025      0.975]\n",
      "---------------------------------------------------------------------------------------------------------\n",
      "const                                  -261.4821     85.646     -3.053      0.002    -429.445     -93.519\n",
      "total_vaccinations_per_hundred           -0.7213      0.152     -4.756      0.000      -1.019      -0.424\n",
      "new_vaccinations_smoothed_per_million     0.0033      0.001      3.126      0.002       0.001       0.005\n",
      "stringency_index                          4.4006      0.350     12.568      0.000       3.714       5.087\n",
      "population_density                       -0.0213      0.004     -5.163      0.000      -0.029      -0.013\n",
      "median_age                                5.2247      2.197      2.378      0.018       0.915       9.534\n",
      "gdp_per_capita                            0.0005      0.000      1.621      0.105      -0.000       0.001\n",
      "female_smokers                            2.3681      0.785      3.015      0.003       0.828       3.908\n",
      "Epsilon                                   1.2815      3.062      0.419      0.676      -4.724       7.287\n",
      "Gamma                                     2.8606      0.475      6.018      0.000       1.928       3.793\n",
      "Delta                                     1.8988      0.328      5.796      0.000       1.256       2.541\n",
      "Alpha                                     0.0877      0.234      0.375      0.707      -0.371       0.546\n",
      "iso_code_ARE                             -0.8114     44.098     -0.018      0.985     -87.294      85.671\n",
      "iso_code_ARG                            -33.6155     31.169     -1.079      0.281     -94.741      27.510\n",
      "iso_code_AUS                           -205.7146     25.204     -8.162      0.000    -255.142    -156.287\n",
      "iso_code_AUT                            -80.9089     30.115     -2.687      0.007    -139.968     -21.850\n",
      "iso_code_BEL                             19.9151     26.181      0.761      0.447     -31.430      71.260\n",
      "iso_code_BGD                           -113.0684     37.257     -3.035      0.002    -186.134     -40.003\n",
      "iso_code_BGR                            -36.2020     38.158     -0.949      0.343    -111.035      38.631\n",
      "iso_code_BHR                            186.5934     44.085      4.233      0.000     100.137     273.050\n",
      "iso_code_BIH                            -22.5179    107.929     -0.209      0.835    -234.181     189.145\n",
      "iso_code_BLZ                             17.3291     94.841      0.183      0.855    -168.666     203.324\n",
      "iso_code_BRA                            -44.9947     30.355     -1.482      0.138    -104.525      14.535\n",
      "iso_code_BWA                            232.9647     51.802      4.497      0.000     131.375     334.555\n",
      "iso_code_CAN                           -159.1707     25.484     -6.246      0.000    -209.148    -109.194\n",
      "iso_code_CHE                              0.9770     26.527      0.037      0.971     -51.045      53.000\n",
      "iso_code_CHL                           -113.8737     31.390     -3.628      0.000    -175.433     -52.314\n",
      "iso_code_CMR                             67.5619     82.726      0.817      0.414     -94.674     229.798\n",
      "iso_code_COL                             88.2749     37.799      2.335      0.020      14.146     162.404\n",
      "iso_code_CRI                            121.2874     38.317      3.165      0.002      46.142     196.433\n",
      "iso_code_CZE                            175.2791     33.847      5.179      0.000     108.900     241.658\n",
      "iso_code_DEU                           -168.7256     30.578     -5.518      0.000    -228.693    -108.758\n",
      "iso_code_DJI                            111.9777     83.075      1.348      0.178     -50.943     274.898\n",
      "iso_code_DNK                            -33.7748     25.310     -1.334      0.182     -83.410      15.861\n",
      "iso_code_DOM                            -65.0226     81.559     -0.797      0.425    -224.970      94.925\n",
      "iso_code_ECU                            -28.1202     50.377     -0.558      0.577    -126.916      70.676\n",
      "iso_code_EGY                            -41.7193     54.339     -0.768      0.443    -148.284      64.846\n",
      "iso_code_ESP                            -68.8663     29.903     -2.303      0.021    -127.510     -10.223\n",
      "iso_code_EST                            252.8455     34.917      7.241      0.000     184.368     321.323\n",
      "iso_code_ETH                            -11.6771     99.195     -0.118      0.906    -206.212     182.857\n",
      "iso_code_FIN                           -107.9801     28.576     -3.779      0.000    -164.022     -51.938\n",
      "iso_code_FJI                            177.0959     93.111      1.902      0.057      -5.508     359.699\n",
      "iso_code_FRA                            -36.5674     27.461     -1.332      0.183     -90.421      17.287\n",
      "iso_code_GBR                             32.9931     25.124      1.313      0.189     -16.278      82.264\n",
      "iso_code_GEO                            587.5722     87.894      6.685      0.000     415.201     759.944\n",
      "iso_code_GHA                             40.9595     53.282      0.769      0.442     -63.535     145.453\n",
      "iso_code_GMB                             68.8667     71.705      0.960      0.337     -71.756     209.490\n",
      "iso_code_GRC                           -166.5095     37.374     -4.455      0.000    -239.806     -93.213\n",
      "iso_code_GTM                            -66.1842     54.658     -1.211      0.226    -173.377      41.008\n",
      "iso_code_HKG                            -78.9307     30.698     -2.571      0.010    -139.134     -18.728\n",
      "iso_code_HRV                              1.4537     39.742      0.037      0.971     -76.485      79.392\n",
      "iso_code_HUN                             16.4488     89.462      0.184      0.854    -158.998     191.895\n",
      "iso_code_IDN                           -125.7609     37.222     -3.379      0.001    -198.759     -52.763\n",
      "iso_code_IND                           -116.6798     34.503     -3.382      0.001    -184.345     -49.014\n",
      "iso_code_IRL                            -47.8135     26.670     -1.793      0.073    -100.117       4.490\n",
      "iso_code_IRQ                             -4.8641    138.402     -0.035      0.972    -276.289     266.560\n",
      "iso_code_ISL                            -49.1946     31.207     -1.576      0.115    -110.396      12.007\n",
      "iso_code_ISR                            179.3390     36.162      4.959      0.000     108.420     250.258\n",
      "iso_code_ITA                           -153.9996     32.206     -4.782      0.000    -217.160     -90.840\n",
      "iso_code_JAM                            -27.5965    110.525     -0.250      0.803    -244.351     189.158\n",
      "iso_code_JOR                             72.9929     65.392      1.116      0.264     -55.250     201.236\n",
      "iso_code_JPN                           -112.5926     32.275     -3.489      0.000    -175.889     -49.297\n",
      "iso_code_KAZ                             34.8767     72.510      0.481      0.631    -107.325     177.078\n",
      "iso_code_KEN                            -50.8365     47.941     -1.060      0.289    -144.856      43.182\n",
      "iso_code_KHM                            -60.1720     49.553     -1.214      0.225    -157.352      37.008\n",
      "iso_code_KOR                           -130.4875     27.937     -4.671      0.000    -185.275     -75.700\n",
      "iso_code_KWT                             83.2156     69.231      1.202      0.230     -52.555     218.986\n",
      "iso_code_LBN                             96.7010     51.346      1.883      0.060      -3.996     197.398\n",
      "iso_code_LKA                           -117.0233     39.872     -2.935      0.003    -195.217     -38.830\n",
      "iso_code_LTU                            203.6814     32.938      6.184      0.000     139.086     268.276\n",
      "iso_code_LUX                             74.4561     29.902      2.490      0.013      15.814     133.098\n",
      "iso_code_LVA                             45.5730     43.956      1.037      0.300     -40.630     131.776\n",
      "iso_code_MAR                            -17.3486    110.736     -0.157      0.876    -234.516     199.819\n",
      "iso_code_MDG                            -43.7177     61.625     -0.709      0.478    -164.572      77.136\n",
      "iso_code_MDV                             61.7422     65.275      0.946      0.344     -66.272     189.756\n",
      "iso_code_MEX                            -66.4463     32.955     -2.016      0.044    -131.076      -1.817\n",
      "iso_code_MKD                            -34.9518     62.758     -0.557      0.578    -158.029      88.125\n",
      "iso_code_MLT                           -134.7945     69.351     -1.944      0.052    -270.801       1.212\n",
      "iso_code_MNE                            300.8070     75.503      3.984      0.000     152.735     448.879\n",
      "iso_code_MOZ                            -17.9422     65.553     -0.274      0.784    -146.500     110.615\n",
      "iso_code_MWI                             27.7612     72.679      0.382      0.703    -114.771     170.293\n",
      "iso_code_MYS                              0.4282     38.832      0.011      0.991     -75.726      76.582\n",
      "iso_code_NGA                            -20.1412     57.473     -0.350      0.726    -132.854      92.572\n",
      "iso_code_NLD                             28.9193     26.441      1.094      0.274     -22.935      80.774\n",
      "iso_code_NOR                            -92.3430     25.764     -3.584      0.000    -142.869     -41.817\n",
      "iso_code_NPL                           -105.1495     94.884     -1.108      0.268    -291.229      80.930\n",
      "iso_code_NZL                           -224.5506     43.241     -5.193      0.000    -309.351    -139.750\n",
      "iso_code_OMN                            111.7510     80.346      1.391      0.164     -45.819     269.321\n",
      "iso_code_OWID_KOS                       173.2340     63.264      2.738      0.006      49.165     297.303\n",
      "iso_code_PAK                            -79.2651     52.004     -1.524      0.128    -181.252      22.722\n",
      "iso_code_PER                            -60.6423     35.275     -1.719      0.086    -129.822       8.537\n",
      "iso_code_PHL                            -72.0043     42.519     -1.693      0.091    -155.389      11.381\n",
      "iso_code_PNG                            -60.3587     65.301     -0.924      0.355    -188.423      67.705\n",
      "iso_code_POL                            -60.9474     31.987     -1.905      0.057    -123.679       1.784\n",
      "iso_code_PRT                            -32.3773     32.812     -0.987      0.324     -96.725      31.971\n",
      "iso_code_PRY                            -20.1935     82.481     -0.245      0.807    -181.950     141.563\n",
      "iso_code_QAT                             19.0717     43.683      0.437      0.662     -66.596     104.739\n",
      "iso_code_ROU                            -53.6526     30.635     -1.751      0.080    -113.733       6.428\n",
      "iso_code_RUS                            -71.9236     26.232     -2.742      0.006    -123.368     -20.479\n",
      "iso_code_RWA                            -27.7421     69.659     -0.398      0.690    -164.354     108.869\n",
      "iso_code_SEN                             56.4650     72.995      0.774      0.439     -86.688     199.618\n",
      "iso_code_SGP                             66.7866     25.775      2.591      0.010      16.239     117.334\n",
      "iso_code_SUR                            -41.9664     51.398     -0.817      0.414    -142.764      58.832\n",
      "iso_code_SVK                            224.9077     32.958      6.824      0.000     160.272     289.543\n",
      "iso_code_SVN                            133.0757     29.322      4.538      0.000      75.572     190.579\n",
      "iso_code_SWE                             14.0241     24.929      0.563      0.574     -34.865      62.913\n",
      "iso_code_SYC                            483.2968     64.189      7.529      0.000     357.414     609.180\n",
      "iso_code_TGO                             54.0957     88.021      0.615      0.539    -118.525     226.717\n",
      "iso_code_THA                            -76.0802     34.897     -2.180      0.029    -144.519      -7.642\n",
      "iso_code_TTO                           -135.4939     67.013     -2.022      0.043    -266.916      -4.072\n",
      "iso_code_TUR                             29.7586     34.208      0.870      0.384     -37.327      96.844\n",
      "iso_code_UGA                            -10.0383     78.992     -0.127      0.899    -164.953     144.876\n",
      "iso_code_UKR                            -60.5108     58.234     -1.039      0.299    -174.715      53.694\n",
      "iso_code_URY                             85.3572     61.012      1.399      0.162     -34.295     205.009\n",
      "iso_code_USA                             38.8822     27.489      1.414      0.157     -15.028      92.793\n",
      "iso_code_VNM                           -176.5077     60.731     -2.906      0.004    -295.609     -57.407\n",
      "iso_code_ZAF                              2.9788     34.524      0.086      0.931     -64.727      70.685\n",
      "iso_code_ZMB                             85.1808     65.229      1.306      0.192     -42.742     213.103\n",
      "iso_code_ZWE                            -48.6290     68.666     -0.708      0.479    -183.292      86.034\n",
      "month_year_02-2021                      -77.7562     18.516     -4.199      0.000    -114.068     -41.444\n",
      "month_year_03-2021                      -69.7384     20.005     -3.486      0.001    -108.971     -30.505\n",
      "month_year_04-2021                      -64.1778     21.171     -3.031      0.002    -105.697     -22.659\n",
      "month_year_05-2020                     -212.9286     23.168     -9.190      0.000    -258.365    -167.492\n",
      "month_year_05-2021                     -113.3113     21.376     -5.301      0.000    -155.233     -71.389\n",
      "month_year_06-2020                     -162.6801     24.296     -6.696      0.000    -210.329    -115.031\n",
      "month_year_06-2021                     -190.6721     26.294     -7.252      0.000    -242.238    -139.107\n",
      "month_year_07-2020                     -160.8388     23.631     -6.806      0.000    -207.183    -114.495\n",
      "month_year_07-2021                     -205.6755     31.805     -6.467      0.000    -268.050    -143.301\n",
      "month_year_08-2020                     -151.2371     20.774     -7.280      0.000    -191.979    -110.496\n",
      "month_year_08-2021                     -166.3129     34.629     -4.803      0.000    -234.226     -98.400\n",
      "month_year_09-2020                     -131.5525     23.264     -5.655      0.000    -177.176     -85.929\n",
      "month_year_09-2021                     -154.0276     36.329     -4.240      0.000    -225.273     -82.782\n",
      "month_year_10-2020                      -21.9726     22.443     -0.979      0.328     -65.987      22.041\n",
      "month_year_10-2021                     -137.7282     37.750     -3.648      0.000    -211.762     -63.695\n",
      "month_year_11-2020                       19.8329     22.252      0.891      0.373     -23.806      63.472\n",
      "month_year_11-2021                        2.5845     39.919      0.065      0.948     -75.701      80.870\n",
      "month_year_12-2020                      -14.3163     22.091     -0.648      0.517     -57.641      29.008\n",
      "==============================================================================\n",
      "Omnibus:                      870.741   Durbin-Watson:                   0.785\n",
      "Prob(Omnibus):                  0.000   Jarque-Bera (JB):             6253.372\n",
      "Skew:                           1.727   Prob(JB):                         0.00\n",
      "Kurtosis:                      10.578   Cond. No.                     1.46e+20\n",
      "==============================================================================\n",
      "\n",
      "Notes:\n",
      "[1] Standard Errors assume that the covariance matrix of the errors is correctly specified.\n",
      "[2] The smallest eigenvalue is 1.49e-28. This might indicate that there are\n",
      "strong multicollinearity problems or that the design matrix is singular.\n"
     ]
    }
   ],
   "source": [
    "X_nested['iso_code'], X_nested['month_year'] = df['iso_code'], df['month_yr']\n",
    "X_nested_dummy = pd.get_dummies(X_nested, drop_first=True)\n",
    "X_nested_dummy_const = sm.add_constant(X_nested_dummy)\n",
    "est_dummy = sm.OLS(y, X_nested_dummy_const)\n",
    "est_dummy_fit_cases = est_dummy.fit()\n",
    "print(est_dummy_fit_cases.summary())"
   ]
  },
  {
   "cell_type": "markdown",
   "metadata": {},
   "source": [
    "Including information about country and month/year drastically increases the model's explanatory ability. The model has $Adj. R^2 = 0.437$. Observing the p-values associated with the $t-tests$ for these new coeficients reveals two things. First, COVID-19 has affected some countries much more than others. It is evident that there differences between countreies which affect the number of COVID-19 cases which are not present in the data set. Second, the Covid-19 pandemic has increased and decreased in severity with November, 2020 being perhaps the worst month of the pandemic from a perspective of the amount of new cases worldwide."
   ]
  },
  {
   "cell_type": "markdown",
   "metadata": {},
   "source": [
    "We now conduct an entirely anaologous procedure, the only difference being that the response variable will now be new deaths smoothed per million rather than cases."
   ]
  },
  {
   "cell_type": "code",
   "execution_count": 21,
   "metadata": {},
   "outputs": [
    {
     "name": "stdout",
     "output_type": "stream",
     "text": [
      "                                   OLS Regression Results                                  \n",
      "===========================================================================================\n",
      "Dep. Variable:     new_deaths_smoothed_per_million   R-squared:                       0.293\n",
      "Model:                                         OLS   Adj. R-squared:                  0.285\n",
      "Method:                              Least Squares   F-statistic:                     40.26\n",
      "Date:                             Mon, 13 Dec 2021   Prob (F-statistic):          2.91e-143\n",
      "Time:                                     00:09:47   Log-Likelihood:                -5503.7\n",
      "No. Observations:                             2164   AIC:                         1.105e+04\n",
      "Df Residuals:                                 2141   BIC:                         1.118e+04\n",
      "Df Model:                                       22                                         \n",
      "Covariance Type:                         nonrobust                                         \n",
      "=========================================================================================================\n",
      "                                            coef    std err          t      P>|t|      [0.025      0.975]\n",
      "---------------------------------------------------------------------------------------------------------\n",
      "const                                    -7.4286      0.685    -10.841      0.000      -8.772      -6.085\n",
      "total_vaccinations_per_hundred           -0.0124      0.002     -5.071      0.000      -0.017      -0.008\n",
      "new_vaccinations_smoothed_per_million  6.119e-05   1.72e-05      3.559      0.000    2.75e-05    9.49e-05\n",
      "stringency_index                          0.0640      0.005     12.746      0.000       0.054       0.074\n",
      "population_density                       -0.0002   6.64e-05     -2.581      0.010      -0.000   -4.12e-05\n",
      "median_age                                0.1625      0.031      5.273      0.000       0.102       0.223\n",
      "aged_65_older                            -0.0923      0.038     -2.448      0.014      -0.166      -0.018\n",
      "gdp_per_capita                        -2.055e-05    4.6e-06     -4.463      0.000   -2.96e-05   -1.15e-05\n",
      "extreme_poverty                           0.0020      0.003      0.696      0.487      -0.004       0.008\n",
      "cardiovasc_death_rate                     0.0046      0.001      5.185      0.000       0.003       0.006\n",
      "diabetes_prevalence                      -0.0244      0.027     -0.917      0.359      -0.077       0.028\n",
      "female_smokers                            0.0607      0.009      6.712      0.000       0.043       0.078\n",
      "male_smokers                              0.0049      0.006      0.883      0.377      -0.006       0.016\n",
      "Beta                                      0.0045      0.005      0.874      0.382      -0.006       0.015\n",
      "Epsilon                                   0.2074      0.053      3.938      0.000       0.104       0.311\n",
      "Gamma                                     0.0412      0.006      6.584      0.000       0.029       0.053\n",
      "Kappa                                    -0.0575      0.034     -1.707      0.088      -0.123       0.009\n",
      "Iota                                     -0.0437      0.039     -1.107      0.268      -0.121       0.034\n",
      "Eta                                       0.0049      0.023      0.211      0.833      -0.040       0.050\n",
      "Delta                                     0.0083      0.003      3.158      0.002       0.003       0.014\n",
      "Alpha                                     0.0040      0.003      1.596      0.111      -0.001       0.009\n",
      "Lambda                                    0.1382      0.013     10.780      0.000       0.113       0.163\n",
      "Mu                                       -0.0605      0.073     -0.826      0.409      -0.204       0.083\n",
      "==============================================================================\n",
      "Omnibus:                      949.008   Durbin-Watson:                   0.453\n",
      "Prob(Omnibus):                  0.000   Jarque-Bera (JB):             5170.456\n",
      "Skew:                           2.030   Prob(JB):                         0.00\n",
      "Kurtosis:                       9.392   Cond. No.                     3.95e+05\n",
      "==============================================================================\n",
      "\n",
      "Notes:\n",
      "[1] Standard Errors assume that the covariance matrix of the errors is correctly specified.\n",
      "[2] The condition number is large, 3.95e+05. This might indicate that there are\n",
      "strong multicollinearity or other numerical problems.\n"
     ]
    }
   ],
   "source": [
    "y = df['new_deaths_smoothed_per_million']\n",
    "#add a column of ones for the intercept term\n",
    "X_full = sm.add_constant(X)\n",
    "est_full = sm.OLS(y, X_full)\n",
    "est_full_fit = est_full.fit()\n",
    "print(est_full_fit.summary())"
   ]
  },
  {
   "cell_type": "markdown",
   "metadata": {},
   "source": [
    "Compared to the initial regression on new cases the regression on new deaths provides a moderatly better fit. We have $ADJ. R^2 = 0.283$ and a near zero p-value corresponding to the $F-Test$ for overall model utility. Examining the $t-tests$ for individual coefficients we see that the following are insignificant at a $95\\%$ confidence level: diabetes prevalence, extreme poverty, Beta, Iota, Eta, and Mu. One interesting finind is that the total number of vaccinations adminitered by a country was not significant in predicting new cases but IS significant in predicting new deaths. This suggests that the vaccines may not be effective at preventing infection but are effective at limiting extreme cases. We now attempt to remove the insignificant predictors."
   ]
  },
  {
   "cell_type": "code",
   "execution_count": 22,
   "metadata": {},
   "outputs": [
    {
     "name": "stdout",
     "output_type": "stream",
     "text": [
      "   df_resid           ssr  df_diff    ss_diff         F    Pr(>F)\n",
      "0    2147.0  20548.127910      0.0        NaN       NaN       NaN\n",
      "1    2141.0  20505.084968      6.0  43.042941  0.749041  0.610176\n"
     ]
    }
   ],
   "source": [
    "from statsmodels.stats.anova import anova_lm\n",
    "X_nested = X.drop(['diabetes_prevalence','Beta','Iota','Eta','Mu','extreme_poverty'], axis = 1)\n",
    "X_nested_const = sm.add_constant(X_nested)\n",
    "est_nested = sm.OLS(y, X_nested_const)\n",
    "est_nested_fit = est_nested.fit()\n",
    "print(anova_lm(est_nested_fit, est_full_fit))"
   ]
  },
  {
   "cell_type": "markdown",
   "metadata": {},
   "source": [
    "The removal of predictors is again justified by the large p-value of 0.345 in the $F-Test$ for nested linear regression models shown above. We now examine the values of the estimated parameters in the reduced model."
   ]
  },
  {
   "cell_type": "code",
   "execution_count": 23,
   "metadata": {},
   "outputs": [
    {
     "name": "stdout",
     "output_type": "stream",
     "text": [
      "                                   OLS Regression Results                                  \n",
      "===========================================================================================\n",
      "Dep. Variable:     new_deaths_smoothed_per_million   R-squared:                       0.291\n",
      "Model:                                         OLS   Adj. R-squared:                  0.286\n",
      "Method:                              Least Squares   F-statistic:                     55.12\n",
      "Date:                             Mon, 13 Dec 2021   Prob (F-statistic):          2.18e-147\n",
      "Time:                                     00:09:47   Log-Likelihood:                -5506.0\n",
      "No. Observations:                             2164   AIC:                         1.105e+04\n",
      "Df Residuals:                                 2147   BIC:                         1.114e+04\n",
      "Df Model:                                       16                                         \n",
      "Covariance Type:                         nonrobust                                         \n",
      "=========================================================================================================\n",
      "                                            coef    std err          t      P>|t|      [0.025      0.975]\n",
      "---------------------------------------------------------------------------------------------------------\n",
      "const                                    -7.1320      0.640    -11.142      0.000      -8.387      -5.877\n",
      "total_vaccinations_per_hundred           -0.0123      0.002     -5.134      0.000      -0.017      -0.008\n",
      "new_vaccinations_smoothed_per_million   5.92e-05   1.71e-05      3.456      0.001    2.56e-05    9.28e-05\n",
      "stringency_index                          0.0631      0.005     12.700      0.000       0.053       0.073\n",
      "population_density                       -0.0002    6.6e-05     -2.634      0.008      -0.000   -4.45e-05\n",
      "median_age                                0.1440      0.028      5.231      0.000       0.090       0.198\n",
      "aged_65_older                            -0.0760      0.033     -2.312      0.021      -0.140      -0.012\n",
      "gdp_per_capita                        -1.981e-05   4.52e-06     -4.380      0.000   -2.87e-05   -1.09e-05\n",
      "cardiovasc_death_rate                     0.0045      0.001      5.132      0.000       0.003       0.006\n",
      "female_smokers                            0.0628      0.009      7.066      0.000       0.045       0.080\n",
      "male_smokers                              0.0066      0.005      1.223      0.221      -0.004       0.017\n",
      "Epsilon                                   0.1888      0.052      3.659      0.000       0.088       0.290\n",
      "Gamma                                     0.0408      0.006      6.570      0.000       0.029       0.053\n",
      "Kappa                                    -0.0568      0.034     -1.689      0.091      -0.123       0.009\n",
      "Delta                                     0.0080      0.003      3.169      0.002       0.003       0.013\n",
      "Alpha                                     0.0043      0.002      1.720      0.086      -0.001       0.009\n",
      "Lambda                                    0.1352      0.013     10.722      0.000       0.110       0.160\n",
      "==============================================================================\n",
      "Omnibus:                      949.640   Durbin-Watson:                   0.454\n",
      "Prob(Omnibus):                  0.000   Jarque-Bera (JB):             5151.728\n",
      "Skew:                           2.034   Prob(JB):                         0.00\n",
      "Kurtosis:                       9.371   Cond. No.                     3.69e+05\n",
      "==============================================================================\n",
      "\n",
      "Notes:\n",
      "[1] Standard Errors assume that the covariance matrix of the errors is correctly specified.\n",
      "[2] The condition number is large, 3.69e+05. This might indicate that there are\n",
      "strong multicollinearity or other numerical problems.\n"
     ]
    }
   ],
   "source": [
    "print(est_nested_fit.summary())"
   ]
  },
  {
   "cell_type": "markdown",
   "metadata": {},
   "source": [
    "We see many of the same phenomena which were present in the new cases model such as a positive coefficient associated with the stringency index. One interesting thing to note is that diabetes prevalence is not signficantly associated with new deaths despite diabetes commonly being referred to as a comorbitity. We hypothesize that this may be the case because diabetes is more prevalent in wealthier countries with better healthcare systems. This would also align with the fact that GDP per capita is also negatively associated with new deaths. Lastly, we note that Delta, Alpha, Lambda, Gamma, and Epsilon variants may be more deadly while Kappa may be less deadly though there is limited data for all but the Alpha and Delta variants."
   ]
  },
  {
   "cell_type": "markdown",
   "metadata": {},
   "source": [
    "Next we standardize the coefficients to allow for a direct comparison of their magnitude."
   ]
  },
  {
   "cell_type": "code",
   "execution_count": 24,
   "metadata": {},
   "outputs": [
    {
     "name": "stdout",
     "output_type": "stream",
     "text": [
      "                                 OLS Regression Results                                \n",
      "=======================================================================================\n",
      "Dep. Variable:                      y   R-squared (uncentered):                   0.291\n",
      "Model:                            OLS   Adj. R-squared (uncentered):              0.286\n",
      "Method:                 Least Squares   F-statistic:                              55.15\n",
      "Date:                Mon, 13 Dec 2021   Prob (F-statistic):                   1.84e-147\n",
      "Time:                        00:09:47   Log-Likelihood:                         -2698.2\n",
      "No. Observations:                2164   AIC:                                      5428.\n",
      "Df Residuals:                    2148   BIC:                                      5519.\n",
      "Df Model:                          16                                                  \n",
      "Covariance Type:            nonrobust                                                  \n",
      "=========================================================================================================\n",
      "                                            coef    std err          t      P>|t|      [0.025      0.975]\n",
      "---------------------------------------------------------------------------------------------------------\n",
      "total_vaccinations_per_hundred           -0.1500      0.029     -5.136      0.000      -0.207      -0.093\n",
      "new_vaccinations_smoothed_per_million     0.0723      0.021      3.456      0.001       0.031       0.113\n",
      "stringency_index                          0.2684      0.021     12.703      0.000       0.227       0.310\n",
      "population_density                       -0.0552      0.021     -2.635      0.008      -0.096      -0.014\n",
      "median_age                                0.3241      0.062      5.232      0.000       0.203       0.446\n",
      "aged_65_older                            -0.1391      0.060     -2.313      0.021      -0.257      -0.021\n",
      "gdp_per_capita                           -0.1187      0.027     -4.381      0.000      -0.172      -0.066\n",
      "cardiovasc_death_rate                     0.1250      0.024      5.133      0.000       0.077       0.173\n",
      "female_smokers                            0.1839      0.026      7.067      0.000       0.133       0.235\n",
      "male_smokers                              0.0269      0.022      1.224      0.221      -0.016       0.070\n",
      "Epsilon                                   0.0674      0.018      3.660      0.000       0.031       0.104\n",
      "Gamma                                     0.1312      0.020      6.572      0.000       0.092       0.170\n",
      "Kappa                                    -0.0310      0.018     -1.690      0.091      -0.067       0.005\n",
      "Delta                                     0.0935      0.030      3.170      0.002       0.036       0.151\n",
      "Alpha                                     0.0357      0.021      1.721      0.085      -0.005       0.076\n",
      "Lambda                                    0.2189      0.020     10.725      0.000       0.179       0.259\n",
      "==============================================================================\n",
      "Omnibus:                      949.640   Durbin-Watson:                   0.454\n",
      "Prob(Omnibus):                  0.000   Jarque-Bera (JB):             5151.728\n",
      "Skew:                           2.034   Prob(JB):                         0.00\n",
      "Kurtosis:                       9.371   Cond. No.                         8.39\n",
      "==============================================================================\n",
      "\n",
      "Notes:\n",
      "[1] R² is computed without centering (uncentered) since the model does not contain a constant.\n",
      "[2] Standard Errors assume that the covariance matrix of the errors is correctly specified.\n"
     ]
    }
   ],
   "source": [
    "scaler = StandardScaler()\n",
    "scaler_y = StandardScaler()\n",
    "y_scaled = scaler_y.fit_transform(np.array(y).reshape(-1,1))\n",
    "cols = X_nested.columns\n",
    "X_nested_scaled = pd.DataFrame(scaler.fit_transform(X_nested))\n",
    "X_nested_scaled.columns = cols\n",
    "est_nested_scaled = sm.OLS(y_scaled, X_nested_scaled)\n",
    "est_nested_scaled_fit = est_nested_scaled.fit()\n",
    "print(est_nested_scaled_fit.summary())"
   ]
  },
  {
   "cell_type": "markdown",
   "metadata": {},
   "source": [
    "With the data now standardized we see that the features with the greatest affect on increasing predictions about new deaths are: strigency index and median age. The features with the greatest affect on decreasing predictions about new deaths are: proportion of population older than 65 and total vaccinations per hundred. The seemingly contradictery coefficients associated with median age and aged 65 or older are perplexing. We note that the Lambda variant may be substantially more deadly than others, though the large positive coefficient could also be due to the variant being most prevalent in under-developed countries. Lastly, these regression coefficients support the notion that the more people in a population who receive vaccines the fewer deaths that population will experience."
   ]
  },
  {
   "cell_type": "markdown",
   "metadata": {},
   "source": [
    "Finally, we redo the regression and include categorical variables signifying country and month/year."
   ]
  },
  {
   "cell_type": "code",
   "execution_count": 25,
   "metadata": {},
   "outputs": [
    {
     "name": "stdout",
     "output_type": "stream",
     "text": [
      "                                   OLS Regression Results                                  \n",
      "===========================================================================================\n",
      "Dep. Variable:     new_deaths_smoothed_per_million   R-squared:                       0.552\n",
      "Model:                                         OLS   Adj. R-squared:                  0.522\n",
      "Method:                              Least Squares   F-statistic:                     18.64\n",
      "Date:                             Mon, 13 Dec 2021   Prob (F-statistic):          9.35e-265\n",
      "Time:                                     00:09:47   Log-Likelihood:                -5009.9\n",
      "No. Observations:                             2164   AIC:                         1.029e+04\n",
      "Df Residuals:                                 2029   BIC:                         1.106e+04\n",
      "Df Model:                                      134                                         \n",
      "Covariance Type:                         nonrobust                                         \n",
      "=========================================================================================================\n",
      "                                            coef    std err          t      P>|t|      [0.025      0.975]\n",
      "---------------------------------------------------------------------------------------------------------\n",
      "const                                    -5.4329      0.740     -7.346      0.000      -6.883      -3.982\n",
      "total_vaccinations_per_hundred           -0.0211      0.002     -8.524      0.000      -0.026      -0.016\n",
      "new_vaccinations_smoothed_per_million  6.255e-05   1.72e-05      3.634      0.000    2.88e-05    9.63e-05\n",
      "stringency_index                          0.0867      0.006     15.186      0.000       0.076       0.098\n",
      "population_density                       -0.0002   6.81e-05     -3.348      0.001      -0.000   -9.44e-05\n",
      "median_age                                0.0973      0.043      2.268      0.023       0.013       0.182\n",
      "aged_65_older                             0.0178      0.042      0.420      0.675      -0.065       0.101\n",
      "gdp_per_capita                         -2.02e-05   6.27e-06     -3.222      0.001   -3.25e-05    -7.9e-06\n",
      "cardiovasc_death_rate                     0.0038      0.001      4.012      0.000       0.002       0.006\n",
      "female_smokers                            0.0527      0.012      4.264      0.000       0.028       0.077\n",
      "male_smokers                             -0.0059      0.011     -0.521      0.602      -0.028       0.016\n",
      "Epsilon                                   0.0238      0.050      0.476      0.634      -0.074       0.122\n",
      "Gamma                                     0.0574      0.008      7.338      0.000       0.042       0.073\n",
      "Kappa                                     0.0015      0.030      0.049      0.961      -0.056       0.059\n",
      "Delta                                     0.0314      0.005      5.786      0.000       0.021       0.042\n",
      "Alpha                                     0.0051      0.004      1.293      0.196      -0.003       0.013\n",
      "Lambda                                    0.0865      0.013      6.428      0.000       0.060       0.113\n",
      "iso_code_ARE                             -1.0482      0.641     -1.634      0.102      -2.306       0.210\n",
      "iso_code_ARG                             -0.5998      0.467     -1.285      0.199      -1.515       0.315\n",
      "iso_code_AUS                             -2.6279      0.416     -6.322      0.000      -3.443      -1.813\n",
      "iso_code_AUT                             -1.3686      0.440     -3.108      0.002      -2.232      -0.505\n",
      "iso_code_BEL                              0.3399      0.407      0.835      0.404      -0.458       1.138\n",
      "iso_code_BGD                             -2.8169      0.489     -5.765      0.000      -3.775      -1.859\n",
      "iso_code_BGR                              3.2016      0.557      5.751      0.000       2.110       4.293\n",
      "iso_code_BHR                              2.4267      0.678      3.580      0.000       1.097       3.756\n",
      "iso_code_BIH                              5.8485      1.725      3.391      0.001       2.466       9.231\n",
      "iso_code_BLZ                             -0.0228      1.516     -0.015      0.988      -2.995       2.950\n",
      "iso_code_BRA                              0.9151      0.511      1.792      0.073      -0.086       1.916\n",
      "iso_code_BWA                              2.5453      0.712      3.577      0.000       1.150       3.941\n",
      "iso_code_CAN                             -2.0333      0.440     -4.617      0.000      -2.897      -1.170\n",
      "iso_code_CHE                              0.3069      0.413      0.743      0.457      -0.503       1.117\n",
      "iso_code_CHL                             -1.6504      0.528     -3.125      0.002      -2.686      -0.615\n",
      "iso_code_CMR                              1.5882      1.357      1.170      0.242      -1.073       4.250\n",
      "iso_code_COL                              3.3683      0.624      5.399      0.000       2.145       4.592\n",
      "iso_code_CRI                              1.1713      0.621      1.886      0.059      -0.046       2.389\n",
      "iso_code_CZE                              2.8159      0.506      5.561      0.000       1.823       3.809\n",
      "iso_code_DEU                             -2.1190      0.404     -5.249      0.000      -2.911      -1.327\n",
      "iso_code_DJI                              1.7997      1.256      1.432      0.152      -0.664       4.264\n",
      "iso_code_DNK                             -1.0856      0.401     -2.709      0.007      -1.871      -0.300\n",
      "iso_code_DOM                             -2.3189      1.264     -1.835      0.067      -4.798       0.160\n",
      "iso_code_ECU                              0.0973      0.740      0.131      0.895      -1.353       1.548\n",
      "iso_code_EGY                             -1.5362      0.761     -2.020      0.044      -3.028      -0.045\n",
      "iso_code_ESP                             -1.3226      0.418     -3.167      0.002      -2.142      -0.504\n",
      "iso_code_EST                              0.8896      0.539      1.649      0.099      -0.168       1.947\n",
      "iso_code_ETH                              0.1827      1.414      0.129      0.897      -2.591       2.956\n",
      "iso_code_FIN                             -1.6850      0.444     -3.795      0.000      -2.556      -0.814\n",
      "iso_code_FJI                             -2.2469      1.441     -1.559      0.119      -5.074       0.580\n",
      "iso_code_FRA                             -0.8415      0.433     -1.941      0.052      -1.692       0.009\n",
      "iso_code_GBR                              0.0632      0.404      0.156      0.876      -0.729       0.856\n",
      "iso_code_GEO                              4.9363      1.384      3.566      0.000       2.221       7.651\n",
      "iso_code_GHA                              0.3276      0.618      0.530      0.596      -0.884       1.539\n",
      "iso_code_GMB                              1.5705      0.919      1.708      0.088      -0.233       3.373\n",
      "iso_code_GRC                             -1.9794      0.523     -3.783      0.000      -3.005      -0.953\n",
      "iso_code_GTM                             -1.0005      0.834     -1.200      0.230      -2.635       0.634\n",
      "iso_code_HKG                             -0.6445      0.471     -1.368      0.172      -1.569       0.280\n",
      "iso_code_HRV                              0.4704      0.583      0.807      0.420      -0.673       1.614\n",
      "iso_code_HUN                              0.5162      1.440      0.358      0.720      -2.308       3.341\n",
      "iso_code_IDN                             -1.7473      0.638     -2.739      0.006      -2.998      -0.496\n",
      "iso_code_IND                             -2.7636      0.468     -5.903      0.000      -3.682      -1.845\n",
      "iso_code_IRL                             -1.0610      0.436     -2.435      0.015      -1.916      -0.206\n",
      "iso_code_IRQ                             -1.9878      2.167     -0.917      0.359      -6.237       2.261\n",
      "iso_code_ISL                             -0.6223      0.495     -1.256      0.209      -1.594       0.349\n",
      "iso_code_ISR                              1.1027      0.577      1.911      0.056      -0.029       2.235\n",
      "iso_code_ITA                             -1.3866      0.442     -3.140      0.002      -2.252      -0.521\n",
      "iso_code_JAM                             -0.2563      1.766     -0.145      0.885      -3.720       3.208\n",
      "iso_code_JOR                              1.3483      1.082      1.246      0.213      -0.775       3.471\n",
      "iso_code_JPN                             -1.2358      0.456     -2.708      0.007      -2.131      -0.341\n",
      "iso_code_KAZ                              2.9638      1.099      2.696      0.007       0.808       5.120\n",
      "iso_code_KEN                             -1.1800      0.450     -2.621      0.009      -2.063      -0.297\n",
      "iso_code_KHM                             -0.6075      0.664     -0.915      0.360      -1.909       0.694\n",
      "iso_code_KOR                             -1.3812      0.466     -2.964      0.003      -2.295      -0.467\n",
      "iso_code_KWT                              1.1028      1.032      1.069      0.285      -0.920       3.126\n",
      "iso_code_LBN                              0.4645      0.824      0.564      0.573      -1.150       2.080\n",
      "iso_code_LKA                             -1.1027      0.631     -1.748      0.081      -2.340       0.135\n",
      "iso_code_LTU                              2.7357      0.513      5.332      0.000       1.730       3.742\n",
      "iso_code_LUX                              1.6839      0.494      3.410      0.001       0.716       2.652\n",
      "iso_code_LVA                              0.6389      0.682      0.936      0.349      -0.699       1.977\n",
      "iso_code_MAR                             -0.7534      1.735     -0.434      0.664      -4.155       2.649\n",
      "iso_code_MDG                             -2.1634      0.904     -2.392      0.017      -3.937      -0.390\n",
      "iso_code_MDV                             -0.3644      0.992     -0.368      0.713      -2.309       1.580\n",
      "iso_code_MEX                              2.0953      0.427      4.903      0.000       1.257       2.934\n",
      "iso_code_MKD                              3.4491      1.083      3.186      0.001       1.326       5.572\n",
      "iso_code_MLT                             -1.9809      1.108     -1.788      0.074      -4.153       0.191\n",
      "iso_code_MNE                              0.5509      1.195      0.461      0.645      -1.792       2.894\n",
      "iso_code_MOZ                             -0.9236      0.827     -1.117      0.264      -2.545       0.698\n",
      "iso_code_MWI                              0.6338      0.966      0.656      0.512      -1.261       2.529\n",
      "iso_code_MYS                             -0.6033      0.529     -1.141      0.254      -1.640       0.434\n",
      "iso_code_NGA                             -0.4089      0.604     -0.677      0.499      -1.594       0.776\n",
      "iso_code_NLD                             -1.1937      0.399     -2.994      0.003      -1.976      -0.412\n",
      "iso_code_NOR                             -0.9620      0.414     -2.323      0.020      -1.774      -0.150\n",
      "iso_code_NPL                             -1.3658      1.479     -0.923      0.356      -4.267       1.535\n",
      "iso_code_NZL                             -2.7526      0.703     -3.915      0.000      -4.131      -1.374\n",
      "iso_code_OMN                              1.3116      1.221      1.074      0.283      -1.083       3.707\n",
      "iso_code_OWID_KOS                         0.8551      0.955      0.896      0.370      -1.017       2.727\n",
      "iso_code_PAK                             -1.8094      0.675     -2.682      0.007      -3.132      -0.487\n",
      "iso_code_PER                              5.2861      0.781      6.768      0.000       3.754       6.818\n",
      "iso_code_PHL                             -2.2136      0.561     -3.946      0.000      -3.314      -1.113\n",
      "iso_code_PNG                             -2.4137      0.964     -2.503      0.012      -4.305      -0.523\n",
      "iso_code_POL                              0.6946      0.507      1.369      0.171      -0.300       1.689\n",
      "iso_code_PRT                             -0.2424      0.484     -0.501      0.616      -1.191       0.706\n",
      "iso_code_PRY                              1.2192      1.253      0.973      0.331      -1.238       3.677\n",
      "iso_code_QAT                              0.9552      0.520      1.836      0.067      -0.065       1.976\n",
      "iso_code_ROU                              0.6759      0.484      1.396      0.163      -0.274       1.625\n",
      "iso_code_RUS                             -0.6867      0.469     -1.463      0.144      -1.607       0.234\n",
      "iso_code_RWA                             -0.7249      0.945     -0.767      0.443      -2.578       1.128\n",
      "iso_code_SEN                              0.8908      0.942      0.946      0.344      -0.956       2.738\n",
      "iso_code_SGP                              1.4886      0.443      3.363      0.001       0.621       2.357\n",
      "iso_code_SUR                              0.0296      0.780      0.038      0.970      -1.500       1.559\n",
      "iso_code_SVK                              3.1272      0.534      5.861      0.000       2.081       4.174\n",
      "iso_code_SVN                              1.4658      0.458      3.200      0.001       0.567       2.364\n",
      "iso_code_SWE                             -0.2995      0.404     -0.742      0.458      -1.091       0.492\n",
      "iso_code_SYC                             -2.8995      1.025     -2.829      0.005      -4.909      -0.890\n",
      "iso_code_TGO                              0.5972      1.229      0.486      0.627      -1.814       3.008\n",
      "iso_code_THA                             -1.4081      0.588     -2.397      0.017      -2.560      -0.256\n",
      "iso_code_TTO                             -0.5009      1.129     -0.444      0.657      -2.715       1.713\n",
      "iso_code_TUR                             -0.1315      0.523     -0.251      0.802      -1.158       0.895\n",
      "iso_code_UGA                             -0.6076      1.024     -0.593      0.553      -2.615       1.400\n",
      "iso_code_UKR                             -1.3327      0.920     -1.448      0.148      -3.138       0.472\n",
      "iso_code_URY                             -0.3687      0.985     -0.375      0.708      -2.300       1.562\n",
      "iso_code_USA                              1.3144      0.448      2.935      0.003       0.436       2.193\n",
      "iso_code_VNM                             -2.3707      0.942     -2.517      0.012      -4.218      -0.524\n",
      "iso_code_ZAF                              1.3058      0.422      3.095      0.002       0.478       2.133\n",
      "iso_code_ZMB                              1.4515      0.792      1.833      0.067      -0.101       3.004\n",
      "iso_code_ZWE                             -0.8695      0.911     -0.955      0.340      -2.656       0.917\n",
      "month_year_02-2021                       -0.8386      0.302     -2.773      0.006      -1.432      -0.245\n",
      "month_year_03-2021                       -1.7964      0.330     -5.440      0.000      -2.444      -1.149\n",
      "month_year_04-2021                       -1.7132      0.354     -4.833      0.000      -2.408      -1.018\n",
      "month_year_05-2020                       -3.0580      0.379     -8.073      0.000      -3.801      -2.315\n",
      "month_year_05-2021                       -2.4198      0.357     -6.769      0.000      -3.121      -1.719\n",
      "month_year_06-2020                       -2.6043      0.397     -6.565      0.000      -3.382      -1.826\n",
      "month_year_06-2021                       -3.3103      0.437     -7.579      0.000      -4.167      -2.454\n",
      "month_year_07-2020                       -2.5569      0.386     -6.626      0.000      -3.314      -1.800\n",
      "month_year_07-2021                       -4.0189      0.526     -7.644      0.000      -5.050      -2.988\n",
      "month_year_08-2020                       -2.6237      0.340     -7.724      0.000      -3.290      -1.958\n",
      "month_year_08-2021                       -3.5978      0.572     -6.294      0.000      -4.719      -2.477\n",
      "month_year_09-2020                       -2.6463      0.380     -6.958      0.000      -3.392      -1.900\n",
      "month_year_09-2021                       -2.8701      0.599     -4.789      0.000      -4.045      -1.695\n",
      "month_year_10-2020                       -2.0272      0.367     -5.530      0.000      -2.746      -1.308\n",
      "month_year_10-2021                       -2.4014      0.622     -3.862      0.000      -3.621      -1.182\n",
      "month_year_11-2020                       -0.1631      0.363     -0.449      0.653      -0.876       0.549\n",
      "month_year_11-2021                       -1.6409      0.656     -2.500      0.013      -2.928      -0.354\n",
      "month_year_12-2020                        0.3428      0.360      0.951      0.342      -0.364       1.050\n",
      "==============================================================================\n",
      "Omnibus:                      724.813   Durbin-Watson:                   0.655\n",
      "Prob(Omnibus):                  0.000   Jarque-Bera (JB):             4557.675\n",
      "Skew:                           1.431   Prob(JB):                         0.00\n",
      "Kurtosis:                       9.508   Cond. No.                     4.04e+16\n",
      "==============================================================================\n",
      "\n",
      "Notes:\n",
      "[1] Standard Errors assume that the covariance matrix of the errors is correctly specified.\n",
      "[2] The smallest eigenvalue is 1.94e-21. This might indicate that there are\n",
      "strong multicollinearity problems or that the design matrix is singular.\n"
     ]
    }
   ],
   "source": [
    "X_nested['iso_code'], X_nested['month_year'] = df['iso_code'], df['month_yr']\n",
    "X_nested_dummy = pd.get_dummies(X_nested, drop_first=True)\n",
    "X_nested_dummy_const = sm.add_constant(X_nested_dummy)\n",
    "est_dummy = sm.OLS(y, X_nested_dummy_const)\n",
    "est_dummy_fit_deaths = est_dummy.fit()\n",
    "print(est_dummy_fit_deaths.summary())"
   ]
  },
  {
   "cell_type": "markdown",
   "metadata": {},
   "source": [
    "Again we see that the including information about countries and month/year greatly improves the model. We now have $Adj. R^2 = 0.527$, meanig that 52.7% of the variance in the response can be explained by the predictors. This again suggests that the pandemic has been worse in some countries than others. Furthermore, it seems as if there remain meaningful differences between countries which are unaccounted for by country-specific quantitative variables in the data set. Finally, we can observe the coefficients for the month/year combinations and note that December, 2020 seems to have been the most deadly month in the pandemic worldwide."
   ]
  },
  {
   "cell_type": "markdown",
   "metadata": {},
   "source": [
    "The last piece of analysis we will do concering the OLS Linear Regression models is to check the validity of the assumptions associated with the model. Recall that in addition to assuming that the correct relationship between the predictors and response was linear (inductive bias) we also assumed... \n",
    "\n",
    "1.) the observations are independent\n",
    "\n",
    "2.) the error terms $\\epsilon_i$ follow a normal disribution with mean $0$\n",
    "\n",
    "3.) the error terms $\\epsilon_i$ have a constant variance equal to $\\sigma^2$\n",
    "\n",
    "We now check each of these assumptions for both of our models. We will use the models containing dummy variables for the country and month/year to check the validity of the assumptions. Our methods for checking the assumptions rely on the residuals of our model which are actual minus the fitted values, or more formally, $e_i = Y_i-\\hat{Y_i}$."
   ]
  },
  {
   "cell_type": "code",
   "execution_count": 26,
   "metadata": {},
   "outputs": [
    {
     "name": "stdout",
     "output_type": "stream",
     "text": [
      "Durbin-Watson Test Statistic - Cases Model: 0.7852789186985129\n",
      "Durbin-Watson Test Statistic - Deaths Model: 0.6548652523013568\n"
     ]
    }
   ],
   "source": [
    "from statsmodels.stats.stattools import durbin_watson\n",
    "print('Durbin-Watson Test Statistic - Cases Model: ' + str(durbin_watson(est_dummy_fit_cases.resid)))\n",
    "print('Durbin-Watson Test Statistic - Deaths Model: ' + str(durbin_watson(est_dummy_fit_deaths.resid)))"
   ]
  },
  {
   "cell_type": "markdown",
   "metadata": {},
   "source": [
    "Above are the test statistics for Durbin-Watson Tests for both of our linear regression models. Durbin-Watson tests are used to detirmine is a sample has autocorrelation/serial correlation. The null hypothesis is $H_0:$ no serial correlation is present. This is one way of detirmining if assumption #1, that are observations are independent holds. The test statistic for the Durbin-Watson test looks like, $\\frac{\\sum_{i=2}^{N}(e_i-e_{i-1})^2}{\\sum_{i=1}^{N}e_i^2}$. A rule of thumb is that a Durbin-Watson test statistic value in the range $[1.5,2.5]$ signals no autocorrelation. Since both of our test statistic fall outside of this range we conclude that our data is serially correlated and thus likely to not be independent. This makes sense since our response is time series data and the number of new cases and new deaths on one day will be dependent on the number of new cases and new deaths on the previous day."
   ]
  },
  {
   "cell_type": "code",
   "execution_count": 27,
   "metadata": {},
   "outputs": [
    {
     "data": {
      "image/png": "[encoded data removed]",
      "text/plain": [
       "<Figure size 1152x576 with 2 Axes>"
      ]
     },
     "metadata": {
      "needs_background": "light"
     },
     "output_type": "display_data"
    }
   ],
   "source": [
    "import scipy.stats as stats\n",
    "figure, ax = plt.subplots(1, 2,figsize=(16,8))\n",
    "figure.figsize=(8, 8)\n",
    "sm.qqplot(est_dummy_fit_cases.resid, stats.norm, fit=True, line=\"45\", ax = ax[0])\n",
    "ax[0].set_title('Residual vs. Normal Quantile-Quantile Plot - Cases Model')\n",
    "ax[0].set_ylabel('Sample Residual Quantiles')\n",
    "ax[0].set_xlabel('Theoretical Normal Quantiles')\n",
    "sm.qqplot(est_dummy_fit_deaths.resid, stats.norm, fit=True, line=\"45\", ax = ax[1])\n",
    "ax[1].set_title('Residual vs. Normal Quantile-Quantile Plot - Deaths Model')\n",
    "ax[1].set_ylabel('Sample Residual Quantiles')\n",
    "ax[1].set_xlabel('Theoretical Normal Quantiles')\n",
    "plt.show()"
   ]
  },
  {
   "cell_type": "markdown",
   "metadata": {},
   "source": [
    "The plots above can be used to detirmine the validity of assumption #2. More specifically such Quantile Quantile plots can be used as a visual guide to detirmine if a sample of points follows a given probabaility distribution. QQ-Plots accomplish this by comparing the quantiles of the sampled points with the quantiles of the given distribution. If the sample does indeed follow the distribution the points in the QQ-Plot will closely follow the $45^\\circ$ line. Here we are interested in detirmining if the residuals follow a normal distribution. It appears they do not. The points lying above the line suggest that the response variables are skewed right, rather than bell-shaped. This makes sense as the pandemic has impacted some countries to an extraordinary degree."
   ]
  },
  {
   "cell_type": "code",
   "execution_count": 28,
   "metadata": {},
   "outputs": [
    {
     "data": {
      "image/png": "[encoded data removed]",
      "text/plain": [
       "<Figure size 1152x576 with 2 Axes>"
      ]
     },
     "metadata": {
      "needs_background": "light"
     },
     "output_type": "display_data"
    }
   ],
   "source": [
    "figure, ax = plt.subplots(1, 2,figsize=(16,8))\n",
    "figure.figsize=(8, 8)\n",
    "ax[0].scatter(x = est_dummy_fit_cases.fittedvalues, y = est_dummy_fit_cases.resid, s=8, alpha=0.5)\n",
    "ax[0].set_title('Residual vs. Fitted Value - Cases Model')\n",
    "ax[0].set_ylabel('Residual Value')\n",
    "ax[0].set_xlabel('Fitted Value')\n",
    "ax[1].scatter(x = est_dummy_fit_deaths.fittedvalues, y = est_dummy_fit_deaths.resid, s=8, alpha=0.5)\n",
    "ax[1].set_title('Residual vs. Fitted Value - Deaths Model')\n",
    "ax[1].set_ylabel('Residual Value')\n",
    "ax[1].set_xlabel('Fitted Value')\n",
    "plt.show()"
   ]
  },
  {
   "cell_type": "markdown",
   "metadata": {},
   "source": [
    "The above plots can be used to check for the validity of assumption #3. We are primarily concerned about the presence of heteroscedasticity, or non-constant variance, in which case $\\epsilon_i$ do not all have the same variance of $\\sigma^2$. If the assumption is valid the residuals will look like a random scattering of points that deviate from 0 by approximately the same amount as the fitted value changes. However, the plots above do not show a random scattering, instead we see a predominant straight line, which is odd. We suspect this may be due to the response variable being constant for over some domain of our predictors. For example, just as an unfounded hypothesis, there could be issues with data reliability such that countries report the same amount of new cases/new deaths multiple days in a row."
   ]
  },
  {
   "cell_type": "markdown",
   "metadata": {},
   "source": [
    "We see that to varying degrees none of the assumptions associated with linear regression hold. While this does not completely invlidate the model it does mean that any conclusions drawn should be taken with a grain of salt. We now explore generalized linear models (GLM) which make less assumptions to see if we can acheive better results."
   ]
  },
  {
   "cell_type": "markdown",
   "metadata": {},
   "source": [
    "### Generalized Linear Models"
   ]
  },
  {
   "cell_type": "markdown",
   "metadata": {},
   "source": [
    "# Part 2: Recurrent Neural Networks"
   ]
  },
  {
   "cell_type": "markdown",
   "metadata": {},
   "source": [
    "### Data Preparation"
   ]
  },
  {
   "cell_type": "code",
   "execution_count": 46,
   "metadata": {},
   "outputs": [],
   "source": [
    "from sklearn.model_selection import train_test_split\n",
    "from sklearn.experimental import enable_iterative_imputer\n",
    "from sklearn.impute import IterativeImputer\n",
    "from sklearn.linear_model import BayesianRidge\n",
    "import math\n",
    "from torch.utils.data import TensorDataset, DataLoader\n",
    "import torch\n",
    "import torch.nn as nn\n",
    "import torch.optim as optim"
   ]
  },
  {
   "cell_type": "markdown",
   "metadata": {},
   "source": [
    "Given the time-stepped granularity of the covid data available, we experiment with recurrent neural networks in order to determine if there's any relation between features collected over a time period and the change in COVID caases over the same time period. We use RNNs to model these temporal relationships. First, we visualize the missing data present in the dataset over each individual date rather than sampled biweekly:"
   ]
  },
  {
   "cell_type": "code",
   "execution_count": 55,
   "metadata": {},
   "outputs": [
    {
     "data": {
      "image/png": "[encoded data removed]",
      "text/plain": [
       "<Figure size 864x432 with 1 Axes>"
      ]
     },
     "metadata": {
      "needs_background": "light"
     },
     "output_type": "display_data"
    }
   ],
   "source": [
    "path_covid = os.path.join(personal_path, \"Data/full.csv\")\n",
    "df = pd.read_csv(path_covid)\n",
    "plt.figure(figsize=(12, 6))\n",
    "plt.bar(x=np.arange(0, len(df.columns)), height = np.sort(df.isna().sum() / len(df))[::-1])\n",
    "plt.title('Proportion of Missingness in Each Feature')\n",
    "plt.show()"
   ]
  },
  {
   "cell_type": "code",
   "execution_count": 56,
   "metadata": {},
   "outputs": [
    {
     "data": {
      "text/plain": [
       "Index(['iso_code', 'date', 'continent', 'location', 'total_cases', 'new_cases',\n",
       "       'new_cases_smoothed', 'total_deaths', 'new_deaths',\n",
       "       'new_deaths_smoothed', 'total_cases_per_million',\n",
       "       'new_cases_per_million', 'new_cases_smoothed_per_million',\n",
       "       'total_deaths_per_million', 'new_deaths_per_million',\n",
       "       'new_deaths_smoothed_per_million', 'reproduction_rate', 'new_tests',\n",
       "       'total_tests', 'total_tests_per_thousand', 'new_tests_per_thousand',\n",
       "       'new_tests_smoothed', 'new_tests_smoothed_per_thousand',\n",
       "       'positive_rate', 'tests_per_case', 'tests_units',\n",
       "       'new_vaccinations_smoothed', 'new_vaccinations_smoothed_per_million',\n",
       "       'new_people_vaccinated_smoothed',\n",
       "       'new_people_vaccinated_smoothed_per_hundred', 'stringency_index',\n",
       "       'population', 'population_density', 'median_age', 'aged_65_older',\n",
       "       'aged_70_older', 'gdp_per_capita', 'extreme_poverty',\n",
       "       'cardiovasc_death_rate', 'diabetes_prevalence', 'female_smokers',\n",
       "       'male_smokers', 'handwashing_facilities', 'hospital_beds_per_thousand',\n",
       "       'life_expectancy', 'human_development_index', 'daily_people_vaccinated',\n",
       "       'daily_people_vaccinated_per_hundred', 'daily_vaccinations',\n",
       "       'daily_vaccinations_per_million'],\n",
       "      dtype='object')"
      ]
     },
     "execution_count": 56,
     "metadata": {},
     "output_type": "execute_result"
    }
   ],
   "source": [
    "# look at only columns with less than 65% missing data, for imputation viability\n",
    "df = df.loc[:, df.isna().sum() / len(df) < 0.65]\n",
    "df.columns"
   ]
  },
  {
   "cell_type": "code",
   "execution_count": 57,
   "metadata": {},
   "outputs": [],
   "source": [
    "# prepare datetime, create date_delta float variable, and select relevant features.\n",
    "df['date'] = pd.to_datetime(df['date'])\n",
    "df['date_delta'] = (df['date'] - df['date'].min())  / np.timedelta64(1,'D')\n",
    "df_sub = df[['date_delta','new_tests',\n",
    "       'total_tests', 'total_tests_per_thousand', 'new_tests_per_thousand',\n",
    "       'new_tests_smoothed', 'new_tests_smoothed_per_thousand',\n",
    "       'positive_rate',\n",
    "       'new_vaccinations_smoothed', 'new_vaccinations_smoothed_per_million',\n",
    "       'new_people_vaccinated_smoothed',\n",
    "       'new_people_vaccinated_smoothed_per_hundred','daily_people_vaccinated',\n",
    "       'daily_people_vaccinated_per_hundred', 'daily_vaccinations',\n",
    "       'daily_vaccinations_per_million']]\n",
    "y = df[['new_cases_per_million']] #this is the field we want to predict"
   ]
  },
  {
   "cell_type": "code",
   "execution_count": 36,
   "metadata": {},
   "outputs": [
    {
     "data": {
      "image/png": "[encoded data removed]",
      "text/plain": [
       "<Figure size 864x432 with 1 Axes>"
      ]
     },
     "metadata": {
      "needs_background": "light"
     },
     "output_type": "display_data"
    }
   ],
   "source": [
    "plt.figure(figsize=(12, 6))\n",
    "plt.bar(x=df_sub.columns, height = df_sub.isna().sum() / len(df_sub))\n",
    "plt.title('Proportion of Missingness in Each Feature')\n",
    "plt.xticks(rotation=90)\n",
    "plt.show()"
   ]
  },
  {
   "cell_type": "markdown",
   "metadata": {},
   "source": [
    "We now use similar imputation methods from earlier on our features, and fill the small percentage of missing y variables with a simple forward fill. We also create an 80/10/10 training/dev/test split for our time-stepped dataset"
   ]
  },
  {
   "cell_type": "code",
   "execution_count": 58,
   "metadata": {},
   "outputs": [
    {
     "name": "stderr",
     "output_type": "stream",
     "text": [
      "/home/neha/.local/lib/python3.8/site-packages/sklearn/impute/_iterative.py:699: ConvergenceWarning: [IterativeImputer] Early stopping criterion not reached.\n",
      "  warnings.warn(\n"
     ]
    }
   ],
   "source": [
    "train_X, validtest_X, train_y, validtest_y = train_test_split(df_sub, y, train_size = 0.8, random_state = 42, shuffle=False)\n",
    "valid_X, test_X, valid_y, test_y = train_test_split(validtest_X, validtest_y, train_size = 0.5, random_state = 42, shuffle=False)\n",
    "\n",
    "imputer_split = IterativeImputer(estimator = BayesianRidge(), max_iter = 30, min_value = df_sub.min(axis=0), max_value = df_sub.max(axis=0), random_state=42)\n",
    "train_X_imputed = pd.DataFrame(imputer_split.fit_transform(train_X))\n",
    "valid_X_imputed = pd.DataFrame(imputer_split.transform(valid_X))\n",
    "test_X_imputed = pd.DataFrame(imputer_split.transform(test_X))\n",
    "train_X_imputed.columns = df_sub.columns\n",
    "valid_X_imputed.columns = df_sub.columns\n",
    "test_X_imputed.columns = df_sub.columns\n",
    "# is it ok to impute on test with train  data\n",
    "# use an easy imputer\n",
    "train_y_imputed = train_y.fillna(method='ffill')\n",
    "valid_y_imputed = valid_y.fillna(method='ffill')\n",
    "test_y_imputed = test_y.fillna(method='ffill')"
   ]
  },
  {
   "cell_type": "code",
   "execution_count": 41,
   "metadata": {},
   "outputs": [],
   "source": [
    "def make_time_stepped(X, y, t):\n",
    "    X_new = []\n",
    "    y_new = []\n",
    "    for i in range(math.floor(len(y) / t)):\n",
    "        start_date = X.iloc[t*i]['date_delta']\n",
    "        data_side = X.iloc[t*i:t*i + t]['date_delta']\n",
    "        check_side = [start_date + j for j in range(t)]\n",
    "        equality_condition = (data_side == check_side).all()\n",
    "        if len(X.iloc[t*i:t*i + t]) == t:\n",
    "            if equality_condition:\n",
    "                y_new.append(y[t*i:t*i + t].sum()) #delta cases\n",
    "                X_new.append(X[t*i:t*i + t])\n",
    "    return X_new, y_new\n",
    "\n",
    "t = 5\n",
    "train_X_timed, train_y_timed = make_time_stepped(train_X_imputed, train_y_imputed, t)\n",
    "valid_X_timed, valid_y_timed = make_time_stepped(valid_X_imputed, valid_y_imputed, t)\n",
    "test_X_timed, test_y_timed = make_time_stepped(test_X_imputed, test_y_imputed, t)\n",
    "\n",
    "train_X_timed = np.moveaxis(np.dstack(train_X_timed), 2, 0)\n",
    "valid_X_timed = np.moveaxis(np.dstack(valid_X_timed), 2, 0)\n",
    "test_X_timed = np.moveaxis(np.dstack(test_X_timed), 2, 0)"
   ]
  },
  {
   "cell_type": "markdown",
   "metadata": {},
   "source": [
    "Our RNN code is adapted from: https://towardsdatascience.com/building-rnn-lstm-and-gru-for-time-series-using-pytorch-a46e5b094e7b"
   ]
  },
  {
   "cell_type": "code",
   "execution_count": 59,
   "metadata": {},
   "outputs": [],
   "source": [
    "batch_size = 64\n",
    "\n",
    "# Convert all feature and outcome numpy arrays into tensors\n",
    "train_features = torch.Tensor(train_X_timed)\n",
    "train_targets = torch.Tensor(train_y_timed)\n",
    "val_features = torch.Tensor(valid_X_timed)\n",
    "val_targets = torch.Tensor(valid_y_timed)\n",
    "test_features = torch.Tensor(test_X_timed)\n",
    "test_targets = torch.Tensor(test_y_timed)\n",
    "\n",
    "# Combine feature and outcome tensors into TensorDatasets\n",
    "train = TensorDataset(train_features, train_targets)\n",
    "val = TensorDataset(val_features, val_targets)\n",
    "test = TensorDataset(test_features, test_targets)\n",
    "\n",
    "# Load TensorDatasets into DataLoader\n",
    "train_loader = DataLoader(train, batch_size=batch_size, shuffle=False, drop_last=True)\n",
    "val_loader = DataLoader(val, batch_size=batch_size, shuffle=False, drop_last=True)\n",
    "test_loader = DataLoader(test, batch_size=batch_size, shuffle=False, drop_last=True)\n",
    "# Extra DataLoader with batch size 1\n",
    "test_loader_one = DataLoader(test, batch_size=1, shuffle=False, drop_last=True)"
   ]
  },
  {
   "cell_type": "code",
   "execution_count": 49,
   "metadata": {},
   "outputs": [],
   "source": [
    "class RNNModel(nn.Module):\n",
    "    def __init__(self, input_dim, hidden_dim, layer_dim, output_dim, dropout_prob):\n",
    "        super(RNNModel, self).__init__()\n",
    "        self.hidden_dim = hidden_dim\n",
    "        self.layer_dim = layer_dim\n",
    "        self.rnn = nn.RNN(input_dim, hidden_dim, layer_dim, batch_first=True, dropout=dropout_prob)\n",
    "        self.fc = nn.Linear(hidden_dim, output_dim)\n",
    "    def forward(self, x):\n",
    "        h0 = torch.zeros(self.layer_dim, x.size(0), self.hidden_dim, device=device).requires_grad_()\n",
    "        out, h0 = self.rnn(x, h0.detach())\n",
    "        out = out[:, -1, :] #last hidden goes thru\n",
    "        out = self.fc(out)\n",
    "        return out\n",
    "    \n",
    "class LSTMModel(nn.Module):\n",
    "    def __init__(self, input_dim, hidden_dim, layer_dim, output_dim, dropout_prob, device):\n",
    "        super(LSTMModel, self).__init__()\n",
    "        self.hidden_dim = hidden_dim\n",
    "        self.layer_dim = layer_dim\n",
    "        self.lstm = nn.LSTM(input_dim, hidden_dim, layer_dim, batch_first=True, dropout=dropout_prob)\n",
    "        self.fc = nn.Linear(hidden_dim, output_dim)\n",
    "\n",
    "    def forward(self, x):\n",
    "        h0 = torch.zeros(self.layer_dim, x.size(0), self.hidden_dim, device=device).requires_grad_()\n",
    "        c0 = torch.zeros(self.layer_dim, x.size(0), self.hidden_dim, device=device).requires_grad_()\n",
    "        out, (hn, cn) = self.lstm(x, (h0.detach(), c0.detach()))\n",
    "        out = out[:, -1, :]\n",
    "        out = self.fc(out)\n",
    "        return out\n",
    "\n",
    "def get_model(model, model_params):\n",
    "    models = {\n",
    "        \"rnn\": RNNModel,\n",
    "        \"lstm\": LSTMModel,\n",
    "    }\n",
    "    return models.get(model.lower())(**model_params)"
   ]
  },
  {
   "cell_type": "code",
   "execution_count": 60,
   "metadata": {},
   "outputs": [],
   "source": [
    "class Optimization:\n",
    "    def __init__(self, model, loss_fn, optimizer):\n",
    "        self.model = model\n",
    "        self.loss_fn = loss_fn\n",
    "        self.optimizer = optimizer\n",
    "        self.train_losses = []\n",
    "        self.val_losses = []\n",
    "    \n",
    "    def train_step(self, x, y):\n",
    "        self.model.train()\n",
    "        yhat = self.model(x)\n",
    "        loss = self.loss_fn(y, yhat)\n",
    "        loss.backward() # backprop \n",
    "        self.optimizer.step() # update params\n",
    "        self.optimizer.zero_grad()\n",
    "        return loss.item()\n",
    "    \n",
    "    def train(self, train_loader, val_loader, model_path, batch_size=64, n_epochs=50, n_features=1):\n",
    "        for epoch in range(1, n_epochs + 1):\n",
    "            batch_losses = []\n",
    "            for x_batch, y_batch in train_loader:\n",
    "                x_batch = x_batch.view([batch_size, -1, n_features]).to(device)\n",
    "                y_batch = y_batch.to(device)\n",
    "                loss = self.train_step(x_batch, y_batch)\n",
    "                batch_losses.append(loss)\n",
    "            training_loss = np.mean(batch_losses)\n",
    "            self.train_losses.append(training_loss)\n",
    "\n",
    "            with torch.no_grad():\n",
    "                batch_val_losses = []\n",
    "                for x_val, y_val in val_loader:\n",
    "                    x_val = x_val.view([batch_size, -1, n_features]).to(device)\n",
    "                    y_val = y_val.to(device)\n",
    "                    self.model.eval()\n",
    "                    yhat = self.model(x_val)\n",
    "                    val_loss = self.loss_fn(y_val, yhat).item()\n",
    "                    batch_val_losses.append(val_loss)\n",
    "                validation_loss = np.mean(batch_val_losses)\n",
    "                self.val_losses.append(validation_loss)\n",
    "\n",
    "            if (epoch % 50 == 0):\n",
    "                print(\n",
    "                    f\"[{epoch}/{n_epochs}] Training loss: {training_loss:.4f}\\t Validation loss: {validation_loss:.4f}\"\n",
    "                )\n",
    "\n",
    "        torch.save(self.model.state_dict(), model_path)\n",
    "    \n",
    "    def evaluate(self, test_loader, batch_size=1, n_features=1):\n",
    "        with torch.no_grad():\n",
    "            predictions = []\n",
    "            values = []\n",
    "            for x_test, y_test in test_loader:\n",
    "                x_test = x_test.view([batch_size, -1, n_features]).to(device)\n",
    "                y_test = y_test.to(device)\n",
    "                self.model.eval()\n",
    "                yhat = self.model(x_test)\n",
    "                predictions.append(yhat.to(device).detach().numpy())\n",
    "                values.append(y_test.to(device).detach().numpy())\n",
    "\n",
    "        return predictions, values\n",
    "    \n",
    "    def plot_losses(self):\n",
    "        plt.plot(self.train_losses, label=\"Training loss\")\n",
    "        plt.plot(self.val_losses, label=\"Validation loss\")\n",
    "        plt.legend()\n",
    "        plt.title(\"Losses\")\n",
    "        plt.show()"
   ]
  },
  {
   "cell_type": "code",
   "execution_count": null,
   "metadata": {},
   "outputs": [],
   "source": [
    "input_dim = len(train_X.columns)\n",
    "output_dim = 1\n",
    "hidden_dim = 24\n",
    "layer_dim = 1\n",
    "dropout = 0.2\n",
    "n_epochs = 10000 #train for more epochs\n",
    "learning_rate = 1e-3\n",
    "weight_decay = 1e-6\n",
    "\n",
    "model_params = {'input_dim': input_dim,\n",
    "                'hidden_dim' : hidden_dim,\n",
    "                'layer_dim' : layer_dim,\n",
    "                'output_dim' : output_dim,\n",
    "                'dropout_prob' : dropout}\n",
    "\n",
    "model = get_model('rnn', model_params)\n",
    "model = model.to(device)  # Change this line if you want a different model ('rnn')\n",
    "\n",
    "loss_fn = nn.MSELoss(reduction=\"mean\")\n",
    "optimizer = optim.Adam(model.parameters(), lr=learning_rate, weight_decay=weight_decay)\n",
    "\n",
    "opt = Optimization(model=model, loss_fn=loss_fn, optimizer=optimizer)\n",
    "opt.train(train_loader, val_loader, 'models/rnn_start.pt', batch_size=batch_size, n_epochs=n_epochs, n_features=input_dim)\n",
    "opt.plot_losses()\n",
    "\n",
    "predictions, values = opt.evaluate(test_loader_one, batch_size=1, n_features=input_dim)"
   ]
  },
  {
   "cell_type": "code",
   "execution_count": null,
   "metadata": {},
   "outputs": [],
   "source": [
    "input_dim = len(train_X.columns)\n",
    "output_dim = 1\n",
    "hidden_dim = 24\n",
    "layer_dim = 1\n",
    "dropout = 0.2\n",
    "n_epochs = 10000 #train for more epochs\n",
    "learning_rate = 1e-3\n",
    "weight_decay = 1e-6\n",
    "\n",
    "model_params = {'input_dim': input_dim,\n",
    "                'hidden_dim' : hidden_dim,\n",
    "                'layer_dim' : layer_dim,\n",
    "                'output_dim' : output_dim,\n",
    "                'dropout_prob' : dropout}\n",
    "\n",
    "model = get_model('lstm', model_params)\n",
    "model = model.to(device)  # Change this line if you want a different model ('rnn')\n",
    "\n",
    "loss_fn = nn.MSELoss(reduction=\"mean\")\n",
    "optimizer = optim.Adam(model.parameters(), lr=learning_rate, weight_decay=weight_decay)\n",
    "\n",
    "opt = Optimization(model=model, loss_fn=loss_fn, optimizer=optimizer)\n",
    "opt.train(train_loader, val_loader, 'models/rnn_start.pt', batch_size=batch_size, n_epochs=n_epochs, n_features=input_dim)\n",
    "opt.plot_losses()\n",
    "\n",
    "predictions, values = opt.evaluate(test_loader_one, batch_size=1, n_features=input_dim)"
   ]
  },
  {
   "cell_type": "markdown",
   "metadata": {},
   "source": [
    "# Conclusions"
   ]
  },
  {
   "cell_type": "code",
   "execution_count": null,
   "metadata": {},
   "outputs": [],
   "source": []
  },
  {
   "cell_type": "markdown",
   "metadata": {},
   "source": []
  },
  {
   "cell_type": "code",
   "execution_count": null,
   "metadata": {},
   "outputs": [],
   "source": []
  }
 ],
 "metadata": {
  "interpreter": {
   "hash": "f57d059d73ef4c451aada0e88ab41d26f66829c8e281233aea39c2964aa7cb46"
  },
  "kernelspec": {
   "display_name": "Python 3",
   "language": "python",
   "name": "python3"
  },
  "language_info": {
   "codemirror_mode": {
    "name": "ipython",
    "version": 3
   },
   "file_extension": ".py",
   "mimetype": "text/x-python",
   "name": "python",
   "nbconvert_exporter": "python",
   "pygments_lexer": "ipython3",
   "version": "3.8.10"
  }
 },
 "nbformat": 4,
 "nbformat_minor": 4
}
