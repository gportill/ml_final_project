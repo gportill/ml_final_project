{
 "cells": [
  {
   "cell_type": "markdown",
   "metadata": {},
   "source": [
    "# Introduction"
   ]
  },
  {
   "cell_type": "markdown",
   "metadata": {},
   "source": [
    "Effectively combating the global COVID-19 pandemic, a public health crisis which has thus far claimed over 5 million lives, remains among humanity’s foremost challenges over a year since its onset [1]. A leading cause of the pandemic’s endurance has been the virus’ ability to mutate. Current vaccines exploit the virus’ spike glycoprotein to produce immunity [2]. As the virus mutates, and the spike glycoprotein alters, the vaccine’s efficacy may erode [2]. Indeed, numerous studies suggest the Pfizer vaccine is less efficacious against the Delta variant thereby resulting in more breakthrough cases [2, 3]. Every infection is an opportunity for further mutation so understanding these variant’s unique characteristics is critical to humanity’s ability to make proactive decisions that minimize cases and deaths.\n",
    "\n",
    "In this project, we study the relationship between vaccines and the severity of variants using a combination of 1) generalized linear regression models for fixed-time point COVID severity prediction tasks and 2) recurrent neural network models for modelling COVID severity with respect to time.\n",
    "\n",
    "## Data Sources\n",
    "We obtain our data from [Our World In Data [1]](https://ourworldindata.org/coronavirus) (OWID) and download the datasets from [OWID's Github [4]](https://github.com/owid/covid-19-data/tree/master/public/data). Our three datasets pertain to worldwide Covid-19 cases and deaths, vaccinations, and variants. We perform a number of analyses predicting the number of covid cases and deaths via regressions (fixed-time point methods) and recurrent neural networks (time-dependent methods). "
   ]
  },
  {
   "cell_type": "markdown",
   "metadata": {},
   "source": [
    "### Initial Data Cleaning"
   ]
  },
  {
   "cell_type": "code",
   "execution_count": 2,
   "metadata": {},
   "outputs": [],
   "source": [
    "import numpy as np\n",
    "import pandas as pd\n",
    "import matplotlib.pyplot as plt\n",
    "import os\n",
    "\n",
    "#csv files were pulled at 12:30pm 11/21/2021\n",
    "\n",
    "#set if needed\n",
    "personal_path = '/Users/dprinster/Documents/JHU_2021Fall/MachineLearning/ml_final_project-main/'\n",
    "\n",
    "#get paths to csv files in google drive\n",
    "path_vaccine = os.path.join(personal_path, \"Data/vaccinations.csv\")\n",
    "path_covid = os.path.join(personal_path, \"Data/owid-covid-data.csv\")\n",
    "path_variant = os.path.join(personal_path, \"Data/covid-variants-area.csv\")\n",
    "\n",
    "#load csv files to dataframes\n",
    "vaccine = pd.read_csv(path_vaccine)\n",
    "covid = pd.read_csv(path_covid)\n",
    "variant = pd.read_csv(path_variant)\n",
    "\n",
    "#change date columns to datetime objects\n",
    "vaccine['date'] = vaccine['date'].astype('datetime64[ns]')\n",
    "covid['date'] = covid['date'].astype('datetime64[ns]')\n",
    "variant['Day'] = variant['Day'].astype('datetime64[ns]')\n",
    "\n",
    "#set multi-level indices, remove duplicate dates in variant data frame\n",
    "vaccine.set_index(['iso_code','date'], inplace = True)\n",
    "covid.set_index(['iso_code','date'], inplace = True)\n",
    "variant.rename(columns = {'Code':'iso_code', 'Day':'date'}, inplace=True)\n",
    "variant = variant.groupby(['iso_code','date'], as_index=False).mean()\n",
    "variant.set_index(['iso_code','date'], inplace = True)\n",
    "\n",
    "#join data frames\n",
    "non_dupes = vaccine.columns.difference(covid.columns)\n",
    "full = covid.join(vaccine[non_dupes], how='outer', lsuffix='_covid', rsuffix='_vaccine')\n",
    "full = full.join(variant, how='outer')\n",
    "\n",
    "#sort data frame using multi-level index\n",
    "full.sort_values(by = ['iso_code','date'], ascending=True, inplace = True)\n",
    "\n",
    "#save joined data set to a csv\n",
    "full.to_csv(os.path.join(personal_path, 'Data/full.csv'), sep=',')"
   ]
  },
  {
   "cell_type": "markdown",
   "metadata": {},
   "source": [
    "# Part 1: Regression Models"
   ]
  },
  {
   "cell_type": "markdown",
   "metadata": {},
   "source": [
    "### 1.1 Imputation Methodology"
   ]
  },
  {
   "cell_type": "markdown",
   "metadata": {},
   "source": [
    "Our goal is to form two linear regression models, one which predicts the number of new cases per million and another which predicts the number of new deaths per million in a given country. We are particularly interested in understanding the influence which the prevalence of specific variants has on our response variables. Thus, we limit our analysis to only those rows containing variant level data which is published on a roughly biweekly basis. We load in the data set in the cell below, removing columns that are redunadant and not scaled by the country's population size."
   ]
  },
  {
   "cell_type": "code",
   "execution_count": 3,
   "metadata": {
    "tags": []
   },
   "outputs": [],
   "source": [
    "path_full = os.path.join(personal_path, \"Data/full.csv\")\n",
    "df = pd.read_csv(path_full)\n",
    "full.reset_index(inplace = True)\n",
    "df.head()\n",
    "df.drop(['continent','location','total_cases','new_cases','new_cases_smoothed','total_deaths','new_deaths',\n",
    "         'new_deaths_smoothed','new_cases_per_million','new_deaths_per_million',\n",
    "         'icu_patients','hosp_patients','weekly_icu_admissions','total_tests','new_tests',\n",
    "         'new_tests_per_thousand','new_tests_smoothed','total_vaccinations','weekly_hosp_admissions',\n",
    "         'people_vaccinated','people_fully_vaccinated','total_boosters','new_vaccinations',\n",
    "         'new_vaccinations_smoothed','new_people_vaccinated_smoothed','excess_mortality_cumulative',\n",
    "         'excess_mortality_cumulative_absolute','daily_people_vaccinated','daily_vaccinations',\n",
    "         'daily_vaccinations_raw','tests_units','Year'], axis=1, inplace=True)\n",
    "\n",
    "#get biweekly data\n",
    "df = df[df['Alpha'].notna()]"
   ]
  },
  {
   "cell_type": "markdown",
   "metadata": {},
   "source": [
    "Prior to model creation we must first examine the role which missing data plays in our data set. We begin this analysis by first examining the proportion of rows which contain missing data for each feature. "
   ]
  },
  {
   "cell_type": "code",
   "execution_count": 4,
   "metadata": {},
   "outputs": [
    {
     "data": {
      "image/png": "[encoded data removed]",
      "text/plain": [
       "<Figure size 864x432 with 1 Axes>"
      ]
     },
     "metadata": {
      "needs_background": "light"
     },
     "output_type": "display_data"
    }
   ],
   "source": [
    "plt.figure(figsize=(12, 6))\n",
    "plt.bar(x=np.arange(0, len(df.columns)), height = np.sort(df.isna().sum() / len(df))[::-1])\n",
    "plt.title('Proportion of Missingness in Each Feature')\n",
    "plt.show()"
   ]
  },
  {
   "cell_type": "markdown",
   "metadata": {},
   "source": [
    "We see that a number of features are almost entirely missing. These features should be removed from consideration as dropping all rows in which the feature is missing will result in a substantial reduction in our data set's size and imputation methods will likely be wildly inaccurate. Observing the bar chart we see a substantial drop off in the proportion of missingness between the sixth and seventh most missing features. To drop the 6 most missing features we use a threshold of 65%."
   ]
  },
  {
   "cell_type": "code",
   "execution_count": 5,
   "metadata": {},
   "outputs": [],
   "source": [
    "df = df.loc[:, df.isna().sum() / len(df) < 0.65]"
   ]
  },
  {
   "cell_type": "markdown",
   "metadata": {},
   "source": [
    "Now we must determine if the data is Missing Completly at Random (MCAR). If it is we can safetly drop the rows containing missing data and conduct our analysis on the rows which remain. To make this detirmination we first a create a binary column for each feature which denotes missingness. Using our notation from lecture these columns encode the $R_i$."
   ]
  },
  {
   "cell_type": "code",
   "execution_count": 6,
   "metadata": {
    "tags": []
   },
   "outputs": [],
   "source": [
    "df_missing = df.copy()\n",
    "\n",
    "#create the R_i columns\n",
    "Ri = []\n",
    "for column in df_missing.columns:\n",
    "    df_missing[str(column) + '_na'] = pd.isna(df[column]).astype(int)\n",
    "\n",
    "#remove Ri columns corresponding to non-missing/fully observed features\n",
    "df_missing = df_missing.loc[:, (df_missing != 0).any(axis=0)]\n",
    "Ri = df_missing.columns[46:]"
   ]
  },
  {
   "cell_type": "markdown",
   "metadata": {},
   "source": [
    "Next we look to see if there is a correlation between the country and what data is missing. Since both the country and the $R_i$ are categorical variables this can be done with a hypothesis test known as a $\\chi^2$-contigency test. The null hypothesis of this test is $H_0$: the variables are independent. In the below cell we perform 33 such tests, one for every $R_i$."
   ]
  },
  {
   "cell_type": "code",
   "execution_count": 7,
   "metadata": {},
   "outputs": [
    {
     "name": "stdout",
     "output_type": "stream",
     "text": [
      "[0.0, 0.0, 0.0, 0.0, 4.2864243497420654e-262, 0.0, 0.0, 2.119028712327211e-289, 5.824784229582191e-288, 0.0, 0.0, 2.768530927737676e-47, 4.558514093853946e-57, 2.1018706060787444e-55, 7.335415174573336e-19, 1.4935869467241454e-19, 1.347144515122251e-301, 3.001463581317831e-45, 3.001463581317831e-45, 3.524780348645179e-298, 3.524780348645179e-298, 3.524780348645179e-298, 2.9254958800787275e-274, 0.0, 0.0, 3.524780348645179e-298, 0.0, 0.0, 0.0, 2.807667089726142e-166, 0.0, 1.4935869467241454e-19, 7.335415174573336e-19]\n"
     ]
    }
   ],
   "source": [
    "import scipy.stats as ss\n",
    "\n",
    "p_vals = []\n",
    "for col in Ri:\n",
    "    M = pd.crosstab(df_missing['iso_code'], df_missing[col])\n",
    "    p_vals.append(ss.chi2_contingency(M)[1])\n",
    "print(p_vals)"
   ]
  },
  {
   "cell_type": "markdown",
   "metadata": {},
   "source": [
    "All of the p-values are extraordinarily small, practically zero. This means that every feature's missingness is correlated with the country. To be more formal we should utilize a Bonferroni Correction for simulatenous inference. Thus, instead of conducting the test at a 95% confidence level which corresponds to $\\alpha = 0.05$ we instead use $\\alpha = \\frac{0.05}{33} = 0.0016.$ However, even with this correction every p-value falls below the 0.0016 threshold."
   ]
  },
  {
   "cell_type": "markdown",
   "metadata": {},
   "source": [
    "We are also interested in detirmining if any of the continuous features are correlated with missingness. To make this detirmination we employ a Kruskal-Wallace test which takes in a quantitative and categorigal variable, splits the quantitative variable into groups based on the categorical variable's value and attempts to determine if the medians of the quantitative variables in each group differ significantly from each other. The null hypohtesis is $H_0$: medians of the groups are the same."
   ]
  },
  {
   "cell_type": "code",
   "execution_count": 8,
   "metadata": {},
   "outputs": [
    {
     "data": {
      "image/png": "[encoded data removed]",
      "text/plain": [
       "<Figure size 576x576 with 2 Axes>"
      ]
     },
     "metadata": {
      "needs_background": "light"
     },
     "output_type": "display_data"
    }
   ],
   "source": [
    "#drop categorical features\n",
    "df_missing.drop(['iso_code','date'], axis=1, inplace = True)\n",
    "#columns of quantitative features\n",
    "quant_cols = df_missing.columns[:44]\n",
    "#initialize data structure to hold p-values\n",
    "arr = np.zeros((len(Ri), len(quant_cols)))\n",
    "for i, missing_col in enumerate(Ri):\n",
    "    for j, old_col in enumerate(quant_cols):\n",
    "        #remove rows in which the quantitative predictor is missing\n",
    "        df_sub = df_missing[df_missing[old_col].notna()]\n",
    "        #group by the R_i into those rows with 0 and those with 1\n",
    "        g = df_sub.groupby(missing_col)\n",
    "        val_list = []\n",
    "        for val in df_sub[missing_col].unique():\n",
    "          #get the quantitative column of interest for each group\n",
    "          val_list.append(g.get_group(val)[old_col])\n",
    "        #if neither group is empty\n",
    "        if len(val_list) > 1: arr[i,j] = ss.kruskal(*val_list).pvalue\n",
    "        else: arr[i,j] = -1\n",
    "\n",
    "missingness_corr = pd.DataFrame(arr)\n",
    "\n",
    "plt.figure(figsize=(8, 8))\n",
    "plt.imshow(missingness_corr, cmap =\"RdYlBu\")\n",
    "plt.colorbar()\n",
    "plt.title('Heatmap of Kruskal-Wallace P-Values')\n",
    "plt.show()"
   ]
  },
  {
   "cell_type": "markdown",
   "metadata": {},
   "source": [
    "In the above heat map each cell corresponds to the p-value of a single Kruskal-Wallace test between a quantitative feature and an $R_i$. The dark red cells correspond to p-values of -1 which denote instances where the Kruskal-Wallace test could not be completed because the $R_i$ was always 0 or always 1 when the quantitative feature was present. The pale yellow cells denote near zero p-values of which there are many. These cells denote combinations of quantititave features and $R_i$ which are highly correlated. Thus, through quick visual inspection we can detirmine that there is a lot of correlation between the $R_i$ and observed data in the data set."
   ]
  },
  {
   "cell_type": "markdown",
   "metadata": {},
   "source": [
    "Through the above analysis we can firmly conclude that our data is not MCAR and so we cannot drop rows which contain missing data. This is because the data's missingness is highly correlated with the observed data. Instead we will assume for the purposes of our further analysis that our data is MAR and leverage imputation techniques to make educated guesses about the values of the underlying $X_i^{(1)}$"
   ]
  },
  {
   "cell_type": "markdown",
   "metadata": {},
   "source": [
    "Simple imputation techniques such as filling in missing values with the feature's mean, median, or mode are unlikely to sufficient given the complexity and amount of missingness present in the data set. Feed-forward imputation in which missing data is imputed with the feature's value in the last row it was present could potentially yeild usable results since our data has a time series component. However, such a technique fails to leverage information about the observed data which could have strong predictive capabilities. K-Nearest Neighbors imputation, in which missing data is filled with the data of similar/nearby points was also considered. However, while such a technique does indeed leverage observed data KNN, is not ideal in high dimensional situations such as ours since \"all points in high dimensions are lonely,\" the curse of dimensionality strikes again! Finally, we considered a iterative linear regression imputation approach in which each feature with missing data is fitted with a linear regression model which uses the other features as predicters. This is done iteratively, over many rounds, until convergence. This approach allows us to leverage our observed data while not succumbing to the curse of dimensionality."
   ]
  },
  {
   "cell_type": "markdown",
   "metadata": {},
   "source": [
    "The iterative linear regression approach is implmented in the cell below. Note that dummy variables are created for country and month/year to give the imputation model more predictive ability. Furthermore, we use our knowledge about vaccine rollout to make educated desicions about some features. For example, all values for the feature \"total_vaccinations_per_hundred\" in rows corresponding to dates prior to December, 2020 are manually set to 0. We impute the data set in its entirety and also training and testing sets, being to sure to fit the imputer using the training set prior to imputing the testing set to prevent data leakage. Lastly, because this data will be used in a linear regression model we drop any columns associated with the response to ensure that are predictors are not imputed with information from the response and vice versa."
   ]
  },
  {
   "cell_type": "code",
   "execution_count": 9,
   "metadata": {},
   "outputs": [],
   "source": [
    "#remove rows with missing response\n",
    "df = df[df['new_cases_smoothed_per_million'].notna()]\n",
    "df = df[df['new_deaths_smoothed_per_million'].notna()]\n",
    "\n",
    "#set vaccine data for dates prior to December, 2020 to 0\n",
    "df['date'] = pd.to_datetime(df['date'])\n",
    "df.loc[df['date'] < pd.Timestamp('2020-12-01 12:00:00'), ['total_vaccinations_per_hundred', \n",
    "                                                          'people_vaccinated_per_hundred',\n",
    "                                                          'people_fully_vaccinated_per_hundred',\n",
    "                                                          'new_vaccinations_smoothed_per_million',\n",
    "                                                          'new_people_vaccinated_smoothed_per_hundred',\n",
    "                                                          'daily_people_vaccinated_per_hundred',\n",
    "                                                         'daily_vaccinations_per_million']] = 0\n",
    "\n",
    "#create a column denoting month/year\n",
    "df['month_yr'] = df['date'].apply(lambda x: x.strftime('%m-%Y'))\n",
    "\n",
    "#drop columns associated with response\n",
    "df = df.drop(['total_cases_per_million','total_deaths_per_million','total_tests_per_thousand',\n",
    "              'positive_rate','tests_per_case','hospital_beds_per_thousand','icu_patients_per_million',\n",
    "              'hosp_patients_per_million','month_yr','population','reproduction_rate','new_tests_smoothed_per_thousand'], axis = 1)"
   ]
  },
  {
   "cell_type": "code",
   "execution_count": 10,
   "metadata": {},
   "outputs": [
    {
     "name": "stderr",
     "output_type": "stream",
     "text": [
      "/Users/dprinster/anaconda3/envs/MachineLearning/lib/python3.9/site-packages/sklearn/impute/_iterative.py:699: ConvergenceWarning: [IterativeImputer] Early stopping criterion not reached.\n",
      "  warnings.warn(\n",
      "/Users/dprinster/anaconda3/envs/MachineLearning/lib/python3.9/site-packages/sklearn/impute/_iterative.py:699: ConvergenceWarning: [IterativeImputer] Early stopping criterion not reached.\n",
      "  warnings.warn(\n"
     ]
    }
   ],
   "source": [
    "from sklearn.model_selection import train_test_split\n",
    "from sklearn.experimental import enable_iterative_imputer\n",
    "from sklearn.impute import IterativeImputer\n",
    "from sklearn.linear_model import BayesianRidge\n",
    "\n",
    "#split into a training and testing set\n",
    "train, test = train_test_split(df, train_size = 0.8, random_state = 42)\n",
    "df.reset_index(drop=True, inplace = True)\n",
    "train.reset_index(drop=True, inplace = True)\n",
    "test.reset_index(drop=True, inplace = True)\n",
    "\n",
    "#save these columns for later\n",
    "date = df['date']\n",
    "iso_code = df['iso_code']\n",
    "cases = df['new_cases_smoothed_per_million']\n",
    "deaths = df['new_deaths_smoothed_per_million'] \n",
    "\n",
    "train_date = train['date']\n",
    "train_iso_code = train['iso_code']\n",
    "train_cases = train['new_cases_smoothed_per_million']\n",
    "train_deaths = train['new_deaths_smoothed_per_million'] \n",
    "\n",
    "test_date = test['date']\n",
    "test_iso_code = test['iso_code']\n",
    "test_cases = test['new_cases_smoothed_per_million']\n",
    "test_deaths = test['new_deaths_smoothed_per_million'] \n",
    "                   \n",
    "#drop response columns\n",
    "df = df.drop(['new_cases_smoothed_per_million', 'new_deaths_smoothed_per_million'], axis = 1)\n",
    "train = train.drop(['new_cases_smoothed_per_million', 'new_deaths_smoothed_per_million'], axis = 1)\n",
    "test = test.drop(['new_cases_smoothed_per_million', 'new_deaths_smoothed_per_million'], axis = 1)\n",
    "\n",
    "#drop date columns\n",
    "df.drop('date', axis=1, inplace=True)\n",
    "train.drop('date', axis=1, inplace=True)\n",
    "test.drop('date', axis=1, inplace=True)\n",
    "\n",
    "#create dummy variables for categorical variables\n",
    "df_dummy = pd.get_dummies(df, drop_first=True)\n",
    "train_dummy = pd.get_dummies(train, drop_first=True)\n",
    "test_dummy = pd.get_dummies(test, drop_first=True)\n",
    "\n",
    "#drop dummy variables that do not appear in both train and test set\n",
    "test_dummy.drop(list(set(test_dummy.columns.tolist()) - set(train_dummy.columns.tolist())), axis = 1, inplace = True)\n",
    "train_dummy.drop(list(set(train_dummy.columns.tolist()) - set(test_dummy.columns.tolist())), axis = 1, inplace = True)\n",
    "\n",
    "#imputed full data set\n",
    "imputer = IterativeImputer(estimator = BayesianRidge(), max_iter = 10, min_value = df_dummy.min(axis=0), max_value = df_dummy.max(axis=0), random_state=42)\n",
    "df_imputed_full = pd.DataFrame(imputer.fit_transform(df_dummy))\n",
    "\n",
    "#imputed train/test split data\n",
    "imputer_split = IterativeImputer(estimator = BayesianRidge(), max_iter = 10, min_value = train_dummy.min(axis=0), max_value = train_dummy.max(axis=0), random_state=42)\n",
    "train_imputed_full = pd.DataFrame(imputer_split.fit_transform(train_dummy))\n",
    "test_imputed_full = pd.DataFrame(imputer_split.transform(test_dummy))"
   ]
  },
  {
   "cell_type": "code",
   "execution_count": 11,
   "metadata": {},
   "outputs": [],
   "source": [
    "df_imputed_full = df_imputed_full.iloc[:,:31]\n",
    "df_imputed_full.columns = df_dummy.columns[:31]\n",
    "df_imputed_full['date'] = date\n",
    "df_imputed_full['date'] = pd.to_datetime(df_imputed_full['date'])\n",
    "df_imputed_full['iso_code'] = iso_code\n",
    "df_imputed_full['new_cases_smoothed_per_million'] = cases\n",
    "df_imputed_full['new_deaths_smoothed_per_million']  = deaths\n",
    "df_imputed_full['month_yr'] = df_imputed_full['date'].apply(lambda x: x.strftime('%m-%Y'))\n",
    "df_imputed_full.to_csv(os.path.join(personal_path, 'Data/biweekly_imputed_old_fixed.csv'))\n",
    "\n",
    "train_imputed_full = train_imputed_full.iloc[:,:31]\n",
    "train_imputed_full.columns = train_dummy.columns[:31]\n",
    "train_imputed_full['date'] = train_date\n",
    "train_imputed_full['date'] = pd.to_datetime(train_imputed_full['date'])\n",
    "train_imputed_full['iso_code'] = train_iso_code\n",
    "train_imputed_full['new_cases_smoothed_per_million'] = train_cases\n",
    "train_imputed_full['new_deaths_smoothed_per_million']  = train_deaths\n",
    "train_imputed_full['month_yr'] = train_imputed_full['date'].apply(lambda x: x.strftime('%m-%Y'))\n",
    "train_imputed_full.to_csv(os.path.join(personal_path, 'Data/biweekly_train_imputed_old_fixed.csv'))\n",
    "\n",
    "test_imputed_full = test_imputed_full.iloc[:,:31]\n",
    "test_imputed_full.columns = test_dummy.columns[:31]\n",
    "test_imputed_full['date'] = test_date\n",
    "test_imputed_full['date'] = pd.to_datetime(test_imputed_full['date'])\n",
    "test_imputed_full['iso_code'] = test_iso_code\n",
    "test_imputed_full['new_cases_smoothed_per_million'] = test_cases\n",
    "test_imputed_full['new_deaths_smoothed_per_million']  = test_deaths\n",
    "test_imputed_full['month_yr'] = test_imputed_full['date'].apply(lambda x: x.strftime('%m-%Y'))\n",
    "test_imputed_full.to_csv(os.path.join(personal_path, 'Data/biweekly_test_imputed_old_fixed.csv'))"
   ]
  },
  {
   "cell_type": "markdown",
   "metadata": {},
   "source": [
    "### 1.2 Ordinary Least Squares Linear Regression Models"
   ]
  },
  {
   "cell_type": "markdown",
   "metadata": {},
   "source": [
    "To begin forming our linear regression models we load in our imputed data set."
   ]
  },
  {
   "cell_type": "code",
   "execution_count": 12,
   "metadata": {},
   "outputs": [],
   "source": [
    "path_full = os.path.join(personal_path, \"Data/biweekly_imputed_old_fixed.csv\")\n",
    "df = pd.read_csv(path_full)"
   ]
  },
  {
   "cell_type": "markdown",
   "metadata": {},
   "source": [
    "For our first model the reponse will be the number of new Covid cases per million people on a particular day in a particular country. For now we not interested in predicting the reponse of future data points, rather we are interested in direct interpretation of the regression coefficients. Therefore, we forgo splitting the data into a train and test set. \n",
    "\n",
    "Prior to imputing we dropped irrelevant/unineteresting features. For example, having the positive rate of Covid tests on a particular day will indeed be useful for predicting the number of new cases, but this relationship is fundamentally obvious. We want to uncover less intutive relationships.\n",
    "\n",
    "We hope most of the predictor names are sufficiently descriptive. One point of clarification is for the variant predictors such as Alpha, Mu, Delta, etc. correspond to proportion of cases in a specific country on a specific date attributed to each variant. Thus, the sum of the variant data should be 1 for every country on every date."
   ]
  },
  {
   "cell_type": "code",
   "execution_count": 13,
   "metadata": {},
   "outputs": [],
   "source": [
    "y = df['new_cases_smoothed_per_million']\n",
    "X = df.drop(['Unnamed: 0', 'date', 'iso_code','month_yr','new_cases_smoothed_per_million', 'new_deaths_smoothed_per_million'], axis = 1)"
   ]
  },
  {
   "cell_type": "markdown",
   "metadata": {},
   "source": [
    "Next, we examine the correlation between features in our data set. Recall that in a an Ordinary Least Squares Linear Regression we assume $Y_i = \\beta_0 + \\beta_1x_1 + \\beta_1x_1 +\\ldots + \\beta_kx_k + ϵ_i$ where we have $k$ features, the n data points are independent, and $\\epsilon ~ \\sim \\mathcal{N}(0, \\sigma^2)$. Under these assumptions the associated likelihhod is $\\prod_i^n p(\\vec{x_i})\\cdot \\frac{1}{(2\\sigma^2\\pi)^{\\frac{1}{2}}} \\cdot exp\\{-\\frac{(y_i-(\\beta_0 + \\sum_{j=1}^k\\beta_jx_{ij}))^2}{2\\sigma^2}\\}$ and it can be shown that maximing this expression as a function of $\\vec{\\beta}$ is equivalent to minimizing $\\sum_{i=1}^n(y_i-(\\beta_0 + \\sum_{j=1}^k\\beta_jx_{ij}))^2$ in terms of $\\vec{\\beta}$. From here it follows that the regression coefficients can solved in closed form as $\\hat{\\vec{\\beta}} = (X^TX)^{-1}X^TY$ where $X$ is our design matrix (matrix of predictors + a column of 1s for an intercept term) and $Y$ is our vector of responses. Note that $\\hat{\\vec{\\beta}}$ depends on $(X^TX)^{-1}$ and that the latter expression will not be invertible if the columns of features are linearly dependent. Thus, if the columns of the design matrix are linearly dependent the OLS estimates for the coefficients cannot be solved for. Furthermore, by noting that $\\hat{\\vec{\\beta}} \\sim \\mathcal{N}(0, (X^TX)^{-1}\\sigma^2)$ we see that large values in $(X^TX)^{-1}$ will cause our coefficient estimates to be highly variable. Thus, we must also be careful to ensure that our design matrix is not near singluar as such a design matrix would yeild abnormally large values in $(X^TX)^{-1}$ and cause our estimates to be highly variable. To avoid this situation we analyze a correlation matrix of our features. Having features that are highly correlated will result in $(X^TX)^{-1}$ being near singular and so if a pair of features is highly correlated we will remove one of them. The plot below visualizes our correlation matrix. We are concerned about off-diagonal cells which are light green/yellow."
   ]
  },
  {
   "cell_type": "code",
   "execution_count": 14,
   "metadata": {},
   "outputs": [
    {
     "data": {
      "image/png": "[encoded data removed]",
      "text/plain": [
       "<Figure size 576x576 with 2 Axes>"
      ]
     },
     "metadata": {
      "needs_background": "light"
     },
     "output_type": "display_data"
    }
   ],
   "source": [
    "plt.figure(figsize=(8, 8))\n",
    "plt.matshow(X.corr(), fignum = 1)\n",
    "plt.colorbar()\n",
    "plt.title('Correlation Matrix of Features')\n",
    "plt.show()"
   ]
  },
  {
   "cell_type": "markdown",
   "metadata": {},
   "source": [
    "We now drop the highly correlated predictors from our design matrix. We use a threshold of 0.8 to identify highly correlated pairs."
   ]
  },
  {
   "cell_type": "code",
   "execution_count": 15,
   "metadata": {},
   "outputs": [],
   "source": [
    "X.drop(['non_who','daily_people_vaccinated_per_hundred','people_vaccinated_per_hundred',\n",
    "        'people_fully_vaccinated_per_hundred','daily_vaccinations_per_million',\n",
    "        'new_people_vaccinated_smoothed_per_hundred','life_expectancy','aged_70_older',\n",
    "        'human_development_index'], axis = 1, inplace = True)"
   ]
  },
  {
   "cell_type": "markdown",
   "metadata": {},
   "source": [
    "We now fit our initial linear regression model. We display some verbose output from the regression below and analyze it in the proceeding cell."
   ]
  },
  {
   "cell_type": "code",
   "execution_count": 16,
   "metadata": {},
   "outputs": [
    {
     "name": "stdout",
     "output_type": "stream",
     "text": [
      "                                  OLS Regression Results                                  \n",
      "==========================================================================================\n",
      "Dep. Variable:     new_cases_smoothed_per_million   R-squared:                       0.149\n",
      "Model:                                        OLS   Adj. R-squared:                  0.140\n",
      "Method:                             Least Squares   F-statistic:                     17.06\n",
      "Date:                            Mon, 13 Dec 2021   Prob (F-statistic):           2.60e-60\n",
      "Time:                                    05:25:56   Log-Likelihood:                -14434.\n",
      "No. Observations:                            2164   AIC:                         2.891e+04\n",
      "Df Residuals:                                2141   BIC:                         2.904e+04\n",
      "Df Model:                                      22                                         \n",
      "Covariance Type:                        nonrobust                                         \n",
      "=========================================================================================================\n",
      "                                            coef    std err          t      P>|t|      [0.025      0.975]\n",
      "---------------------------------------------------------------------------------------------------------\n",
      "const                                  -395.0759     41.679     -9.479      0.000    -476.812    -313.340\n",
      "total_vaccinations_per_hundred            0.0962      0.159      0.603      0.546      -0.216       0.409\n",
      "new_vaccinations_smoothed_per_million    -0.0025      0.001     -1.660      0.097      -0.005       0.000\n",
      "stringency_index                          3.1147      0.305     10.196      0.000       2.516       3.714\n",
      "population_density                       -0.0176      0.004     -4.404      0.000      -0.025      -0.010\n",
      "median_age                                9.9915      1.769      5.649      0.000       6.523      13.460\n",
      "aged_65_older                            -7.8762      2.217     -3.553      0.000     -12.223      -3.529\n",
      "gdp_per_capita                            0.0007      0.000      2.619      0.009       0.000       0.001\n",
      "extreme_poverty                           0.1471      0.179      0.822      0.411      -0.204       0.498\n",
      "cardiovasc_death_rate                     0.2534      0.054      4.691      0.000       0.147       0.359\n",
      "diabetes_prevalence                      -0.9320      1.660     -0.562      0.574      -4.186       2.323\n",
      "female_smokers                            3.4815      0.565      6.167      0.000       2.374       4.589\n",
      "male_smokers                             -1.5959      0.394     -4.053      0.000      -2.368      -0.824\n",
      "Beta                                      0.3216      0.322      0.998      0.318      -0.310       0.953\n",
      "Epsilon                                   8.2953      3.281      2.529      0.012       1.862      14.729\n",
      "Gamma                                     1.5600      0.399      3.914      0.000       0.778       2.342\n",
      "Kappa                                    -2.4961      2.085     -1.197      0.231      -6.585       1.593\n",
      "Iota                                     -2.1282      2.443     -0.871      0.384      -6.919       2.662\n",
      "Eta                                      -0.3820      1.427     -0.268      0.789      -3.180       2.416\n",
      "Delta                                     0.9220      0.178      5.183      0.000       0.573       1.271\n",
      "Alpha                                     0.4551      0.169      2.696      0.007       0.124       0.786\n",
      "Lambda                                    1.8347      0.801      2.290      0.022       0.264       3.406\n",
      "Mu                                       -3.0203      4.540     -0.665      0.506     -11.923       5.883\n",
      "==============================================================================\n",
      "Omnibus:                     1190.069   Durbin-Watson:                   0.535\n",
      "Prob(Omnibus):                  0.000   Jarque-Bera (JB):             9621.005\n",
      "Skew:                           2.507   Prob(JB):                         0.00\n",
      "Kurtosis:                      12.031   Cond. No.                     3.87e+05\n",
      "==============================================================================\n",
      "\n",
      "Notes:\n",
      "[1] Standard Errors assume that the covariance matrix of the errors is correctly specified.\n",
      "[2] The condition number is large, 3.87e+05. This might indicate that there are\n",
      "strong multicollinearity or other numerical problems.\n"
     ]
    },
    {
     "name": "stderr",
     "output_type": "stream",
     "text": [
      "/Users/dprinster/anaconda3/envs/MachineLearning/lib/python3.9/site-packages/statsmodels/tsa/tsatools.py:142: FutureWarning: In a future version of pandas all arguments of concat except for the argument 'objs' will be keyword-only\n",
      "  x = pd.concat(x[::order], 1)\n"
     ]
    }
   ],
   "source": [
    "import statsmodels.api as sm\n",
    "\n",
    "#add a column of ones for the intercept term\n",
    "X_full = sm.add_constant(X)\n",
    "est_full = sm.OLS(y, X_full)\n",
    "est_full_fit = est_full.fit()\n",
    "print(est_full_fit.summary())"
   ]
  },
  {
   "cell_type": "markdown",
   "metadata": {},
   "source": [
    "The first value to consider is the $R^2$ value. This is a measure of goodeness of fit and is defined as $R^2=1-\\frac{\\sum_{i=1}^n(y_i-\\hat{y_i})^2}{\\sum_{i=1}^n(y_i-\\bar{y})^2}$. Evidently the closer $R^2$ is to 1 the better the model is at explaining the response. We will consider the adjusted $R^2$ value which penalizes for having many predictors. Such a penalty is logical since adding predictors to a linear regression model will only help its explanatory ability even if the added predictor is completly irrelavent. For our model $Adj. R^2 = 0.131$ which is rather low. Such a value can roughly be interpreted as meaning that the predictor variables account for 13.1% of the variability in the response variable. Nonetheless the model is not worthless. The $F-Test$ for overall model utility which has null hypothesis $H_0:$ our model and a model consisting of only an intercept term have the same explanatory capability, has a near zero p-value. Thus, we can conclude that the predictors do indeed have an effect on the response but they do not tell the entire story. We can also examine $t-tests$ for individual predictors. Each such test has the null hypothesis $H_0:$ the coefficient associated with the predictor is 0. Thus, if the p-value of such a test is large the predictor may not have any influence on the response and may be able to be removed without hindering the model. In our model, if we conduct the test at a 95% confidence level, the insignificant predictors are aged 65 older, extreme poverty, cardio vasc death rate, diabetes prevalence, male smokers, Beta, Kappa, Iota, Eta, Lambda, Epsilon and Mu. we now fit a model with these predictors removed and check to see if we can safetly justify their removal."
   ]
  },
  {
   "cell_type": "code",
   "execution_count": 17,
   "metadata": {},
   "outputs": [
    {
     "name": "stdout",
     "output_type": "stream",
     "text": [
      "   df_resid           ssr  df_diff       ss_diff         F        Pr(>F)\n",
      "0    2153.0  8.063773e+07      0.0           NaN       NaN           NaN\n",
      "1    2141.0  7.874408e+07     12.0  1.893656e+06  4.290605  9.328434e-07\n"
     ]
    },
    {
     "name": "stderr",
     "output_type": "stream",
     "text": [
      "/Users/dprinster/anaconda3/envs/MachineLearning/lib/python3.9/site-packages/statsmodels/tsa/tsatools.py:142: FutureWarning: In a future version of pandas all arguments of concat except for the argument 'objs' will be keyword-only\n",
      "  x = pd.concat(x[::order], 1)\n"
     ]
    }
   ],
   "source": [
    "from statsmodels.stats.anova import anova_lm\n",
    "X_nested = X.drop(['aged_65_older','extreme_poverty','cardiovasc_death_rate','diabetes_prevalence','male_smokers','Beta','Kappa','Iota','Eta','Lambda','Mu','Epsilon'], axis = 1)\n",
    "X_nested_const = sm.add_constant(X_nested)\n",
    "est_nested = sm.OLS(y, X_nested_const)\n",
    "est_nested_fit = est_nested.fit()\n",
    "print(anova_lm(est_nested_fit, est_full_fit))"
   ]
  },
  {
   "cell_type": "markdown",
   "metadata": {},
   "source": [
    "The above output details an $F-Test$ for nested linear regression models. The null hypothesis is $H_0:$ all coeffcients present in the full model but not the nested model are 0. In other words the hypothesis test is detirmining if the nested model accounts for the just as much variance in the reponse as the full model. In our case the p-value is 0.04604 and so we reject the null hypothesis at the 95% confidence level and cannot reduce the model. We try again but this time retaining the Epislon predictor since the associated $t-test$ was nearly significant. We recognize that such a procedure may not be the most mathematically sound, a better approach for model reduction is employed in when constructing Generalized Linear Models later in this section."
   ]
  },
  {
   "cell_type": "code",
   "execution_count": 18,
   "metadata": {},
   "outputs": [
    {
     "name": "stdout",
     "output_type": "stream",
     "text": [
      "   df_resid           ssr  df_diff       ss_diff         F    Pr(>F)\n",
      "0    2152.0  8.044403e+07      0.0           NaN       NaN       NaN\n",
      "1    2141.0  7.874408e+07     11.0  1.699954e+06  4.201875  0.000003\n"
     ]
    },
    {
     "name": "stderr",
     "output_type": "stream",
     "text": [
      "/Users/dprinster/anaconda3/envs/MachineLearning/lib/python3.9/site-packages/statsmodels/tsa/tsatools.py:142: FutureWarning: In a future version of pandas all arguments of concat except for the argument 'objs' will be keyword-only\n",
      "  x = pd.concat(x[::order], 1)\n"
     ]
    }
   ],
   "source": [
    "from statsmodels.stats.anova import anova_lm\n",
    "X_nested = X.drop(['aged_65_older','extreme_poverty','cardiovasc_death_rate','diabetes_prevalence','male_smokers','Beta','Kappa','Iota','Eta','Lambda','Mu'], axis = 1)\n",
    "X_nested_const = sm.add_constant(X_nested)\n",
    "est_nested = sm.OLS(y, X_nested_const)\n",
    "est_nested_fit = est_nested.fit()\n",
    "print(anova_lm(est_nested_fit, est_full_fit))"
   ]
  },
  {
   "cell_type": "markdown",
   "metadata": {},
   "source": [
    "Note the p-value associated with model reduction is 0.106, so we can justfiably reduce the model at the 95% confidence level. We now examine the coefficients of this nested model."
   ]
  },
  {
   "cell_type": "code",
   "execution_count": 19,
   "metadata": {},
   "outputs": [
    {
     "name": "stdout",
     "output_type": "stream",
     "text": [
      "                                  OLS Regression Results                                  \n",
      "==========================================================================================\n",
      "Dep. Variable:     new_cases_smoothed_per_million   R-squared:                       0.131\n",
      "Model:                                        OLS   Adj. R-squared:                  0.126\n",
      "Method:                             Least Squares   F-statistic:                     29.44\n",
      "Date:                            Mon, 13 Dec 2021   Prob (F-statistic):           2.87e-58\n",
      "Time:                                    05:25:56   Log-Likelihood:                -14457.\n",
      "No. Observations:                            2164   AIC:                         2.894e+04\n",
      "Df Residuals:                                2152   BIC:                         2.901e+04\n",
      "Df Model:                                      11                                         \n",
      "Covariance Type:                        nonrobust                                         \n",
      "=========================================================================================================\n",
      "                                            coef    std err          t      P>|t|      [0.025      0.975]\n",
      "---------------------------------------------------------------------------------------------------------\n",
      "const                                  -245.9244     29.776     -8.259      0.000    -304.317    -187.531\n",
      "total_vaccinations_per_hundred           -0.0056      0.157     -0.036      0.972      -0.313       0.301\n",
      "new_vaccinations_smoothed_per_million    -0.0028      0.001     -1.900      0.058      -0.006       9e-05\n",
      "stringency_index                          3.0501      0.298     10.252      0.000       2.467       3.634\n",
      "population_density                       -0.0204      0.004     -5.378      0.000      -0.028      -0.013\n",
      "median_age                                3.3471      0.736      4.547      0.000       1.904       4.791\n",
      "gdp_per_capita                            0.0009      0.000      3.619      0.000       0.000       0.001\n",
      "female_smokers                            2.3152      0.469      4.931      0.000       1.395       3.236\n",
      "Epsilon                                   7.3700      3.238      2.276      0.023       1.021      13.719\n",
      "Gamma                                     1.8659      0.384      4.865      0.000       1.114       2.618\n",
      "Delta                                     1.0417      0.171      6.095      0.000       0.706       1.377\n",
      "Alpha                                     0.5665      0.164      3.456      0.001       0.245       0.888\n",
      "==============================================================================\n",
      "Omnibus:                     1208.942   Durbin-Watson:                   0.534\n",
      "Prob(Omnibus):                  0.000   Jarque-Bera (JB):            10024.448\n",
      "Skew:                           2.549   Prob(JB):                         0.00\n",
      "Kurtosis:                      12.230   Cond. No.                     2.74e+05\n",
      "==============================================================================\n",
      "\n",
      "Notes:\n",
      "[1] Standard Errors assume that the covariance matrix of the errors is correctly specified.\n",
      "[2] The condition number is large, 2.74e+05. This might indicate that there are\n",
      "strong multicollinearity or other numerical problems.\n"
     ]
    }
   ],
   "source": [
    "print(est_nested_fit.summary())"
   ]
  },
  {
   "cell_type": "markdown",
   "metadata": {},
   "source": [
    "Interpreting regression coefficients can be tricky. One needs to resist the temptation to fit a narraive to explain the why the coefficients take on certain values. For example, strigency_index is a metric developed by Our World in Data, that attempts to quantify how many restrictions a country has put in place to slow the spread of Covid-19. Countries with mask mandates, travel bans, and mandatory quarantines will have a higher strigency index than those countries which do not. The regression coefficient associated with strigency index is 2.86, suggesting that the more restrictions a government puts in place the more Covid-19 spreads. Of course the true relationship is likely that the governments of countries in which there is a COVID-19 outbreak, and thus lots of new cases, are more likely to implement restrictive measures to slow the spread. Other interesting findings are that the only significant variants were Epsilon, Gamma, Delta, and Alpha, all of which have positive coefficients. This could possibly suggest that these variants are more contagious. However, in the case of the Gamma and Epsilon variants the data is limited and so any conclusions should be take with a grain of salt. Another interesting note is that the female smoker predictor was significant but the male smoker predictor was not. We are hesistant to hypothesize why this is the case but perhaps the amount of female smokers in a country is a proxy for the nation's underlying ideology about government interventions. Lastly, it seems counter intuitive that the amont of new vaccinations administered on a day would be posivelty associated with the number of new cases. This may be due to more people being convinced to receive vaccines during particularly bad Covid outbreaks."
   ]
  },
  {
   "cell_type": "markdown",
   "metadata": {},
   "source": [
    "We are also interested in directly comparing the magnitide of the effect of each predictor. To do this we standardize the predictors and re-fit the regression model. Note that with the scaled data no intercept term is necessary."
   ]
  },
  {
   "cell_type": "code",
   "execution_count": 20,
   "metadata": {},
   "outputs": [
    {
     "name": "stdout",
     "output_type": "stream",
     "text": [
      "                                 OLS Regression Results                                \n",
      "=======================================================================================\n",
      "Dep. Variable:                      y   R-squared (uncentered):                   0.131\n",
      "Model:                            OLS   Adj. R-squared (uncentered):              0.126\n",
      "Method:                 Least Squares   F-statistic:                              29.45\n",
      "Date:                Mon, 13 Dec 2021   Prob (F-statistic):                    2.68e-58\n",
      "Time:                        05:25:56   Log-Likelihood:                         -2918.9\n",
      "No. Observations:                2164   AIC:                                      5860.\n",
      "Df Residuals:                    2153   BIC:                                      5922.\n",
      "Df Model:                          11                                                  \n",
      "Covariance Type:            nonrobust                                                  \n",
      "=========================================================================================================\n",
      "                                            coef    std err          t      P>|t|      [0.025      0.975]\n",
      "---------------------------------------------------------------------------------------------------------\n",
      "total_vaccinations_per_hundred           -0.0012      0.034     -0.036      0.972      -0.069       0.066\n",
      "new_vaccinations_smoothed_per_million    -0.0488      0.026     -1.900      0.058      -0.099       0.002\n",
      "stringency_index                          0.2295      0.022     10.254      0.000       0.186       0.273\n",
      "population_density                       -0.1143      0.021     -5.379      0.000      -0.156      -0.073\n",
      "median_age                                0.1333      0.029      4.548      0.000       0.076       0.191\n",
      "gdp_per_capita                            0.0947      0.026      3.620      0.000       0.043       0.146\n",
      "female_smokers                            0.1249      0.025      4.933      0.000       0.075       0.175\n",
      "Epsilon                                   0.0466      0.020      2.277      0.023       0.006       0.087\n",
      "Gamma                                     0.1063      0.022      4.867      0.000       0.063       0.149\n",
      "Delta                                     0.2145      0.035      6.096      0.000       0.145       0.284\n",
      "Alpha                                     0.0837      0.024      3.457      0.001       0.036       0.131\n",
      "==============================================================================\n",
      "Omnibus:                     1208.942   Durbin-Watson:                   0.534\n",
      "Prob(Omnibus):                  0.000   Jarque-Bera (JB):            10024.448\n",
      "Skew:                           2.549   Prob(JB):                         0.00\n",
      "Kurtosis:                      12.230   Cond. No.                         3.65\n",
      "==============================================================================\n",
      "\n",
      "Notes:\n",
      "[1] R² is computed without centering (uncentered) since the model does not contain a constant.\n",
      "[2] Standard Errors assume that the covariance matrix of the errors is correctly specified.\n"
     ]
    }
   ],
   "source": [
    "from sklearn.preprocessing import StandardScaler\n",
    "\n",
    "scaler = StandardScaler()\n",
    "scaler_y = StandardScaler()\n",
    "y_scaled = scaler_y.fit_transform(np.array(y).reshape(-1,1))\n",
    "cols = X_nested.columns\n",
    "X_nested_scaled = pd.DataFrame(scaler.fit_transform(X_nested))\n",
    "X_nested_scaled.columns = cols\n",
    "est_nested_scaled = sm.OLS(y_scaled, X_nested_scaled)\n",
    "est_nested_scaled_fit = est_nested_scaled.fit()\n",
    "print(est_nested_scaled_fit.summary())"
   ]
  },
  {
   "cell_type": "markdown",
   "metadata": {},
   "source": [
    "From this output we can see that we see that the two non-variant related predictors with greatest positive affect on the number of cases on a given day were strigency index and female smokers. Furthermore, we can now see that the Delta variant seems to be the most contagious."
   ]
  },
  {
   "cell_type": "markdown",
   "metadata": {},
   "source": [
    "The last analysis we will perform on this model will be the addition of categorical predictors. These added predictors correspond to the country and the month-year combination corresponding to each row."
   ]
  },
  {
   "cell_type": "code",
   "execution_count": 21,
   "metadata": {},
   "outputs": [
    {
     "name": "stdout",
     "output_type": "stream",
     "text": [
      "                                  OLS Regression Results                                  \n",
      "==========================================================================================\n",
      "Dep. Variable:     new_cases_smoothed_per_million   R-squared:                       0.467\n",
      "Model:                                        OLS   Adj. R-squared:                  0.432\n",
      "Method:                             Least Squares   F-statistic:                     13.47\n",
      "Date:                            Mon, 13 Dec 2021   Prob (F-statistic):          4.05e-194\n",
      "Time:                                    05:25:56   Log-Likelihood:                -13928.\n",
      "No. Observations:                            2164   AIC:                         2.812e+04\n",
      "Df Residuals:                                2031   BIC:                         2.888e+04\n",
      "Df Model:                                     132                                         \n",
      "Covariance Type:                        nonrobust                                         \n",
      "=========================================================================================================\n",
      "                                            coef    std err          t      P>|t|      [0.025      0.975]\n",
      "---------------------------------------------------------------------------------------------------------\n",
      "const                                  -303.5473     40.178     -7.555      0.000    -382.342    -224.753\n",
      "total_vaccinations_per_hundred           -0.5703      0.167     -3.417      0.001      -0.898      -0.243\n",
      "new_vaccinations_smoothed_per_million     0.0026      0.001      1.878      0.061      -0.000       0.005\n",
      "stringency_index                          4.5859      0.348     13.160      0.000       3.902       5.269\n",
      "population_density                       -0.0269      0.003     -7.985      0.000      -0.033      -0.020\n",
      "median_age                                7.1162      1.318      5.399      0.000       4.531       9.701\n",
      "gdp_per_capita                            0.0005      0.000      1.666      0.096   -8.58e-05       0.001\n",
      "female_smokers                           -0.3898      0.913     -0.427      0.669      -2.181       1.401\n",
      "Epsilon                                   0.9723      3.100      0.314      0.754      -5.107       7.051\n",
      "Gamma                                     2.7986      0.477      5.868      0.000       1.863       3.734\n",
      "Delta                                     1.8286      0.328      5.571      0.000       1.185       2.472\n",
      "Alpha                                     0.0508      0.239      0.213      0.832      -0.418       0.519\n",
      "iso_code_ARE                            -28.1444     39.624     -0.710      0.478    -105.852      49.563\n",
      "iso_code_ARG                            -25.7204     28.824     -0.892      0.372     -82.249      30.808\n",
      "iso_code_AUS                           -210.6512     24.709     -8.525      0.000    -259.108    -162.194\n",
      "iso_code_AUT                            -59.9295     27.204     -2.203      0.028    -113.281      -6.579\n",
      "iso_code_BEL                             36.9439     25.177      1.467      0.142     -12.432      86.320\n",
      "iso_code_BGD                           -134.5092     30.394     -4.426      0.000    -194.115     -74.903\n",
      "iso_code_BGR                             -9.2251     33.924     -0.272      0.786     -75.755      57.305\n",
      "iso_code_BHR                            172.1339     41.553      4.143      0.000      90.643     253.625\n",
      "iso_code_BIH                             14.2729    107.526      0.133      0.894    -196.599     225.145\n",
      "iso_code_BLZ                             10.0206     97.684      0.103      0.918    -181.550     201.591\n",
      "iso_code_BRA                            -58.7056     28.335     -2.072      0.038    -114.274      -3.138\n",
      "iso_code_BWA                            222.0180     43.639      5.088      0.000     136.436     307.600\n",
      "iso_code_CAN                           -182.5379     26.210     -6.964      0.000    -233.939    -131.137\n",
      "iso_code_CHE                              9.5754     25.628      0.374      0.709     -40.685      59.836\n",
      "iso_code_CHL                            -67.9479     34.005     -1.998      0.046    -134.635      -1.260\n",
      "iso_code_CMR                             79.5764     83.971      0.948      0.343     -85.102     244.255\n",
      "iso_code_COL                             58.3834     35.570      1.641      0.101     -11.374     128.140\n",
      "iso_code_CRI                            101.1004     36.880      2.741      0.006      28.775     173.426\n",
      "iso_code_CZE                            203.8390     31.482      6.475      0.000     142.099     265.579\n",
      "iso_code_DEU                           -152.4882     24.876     -6.130      0.000    -201.274    -103.702\n",
      "iso_code_DJI                             87.2511     77.653      1.124      0.261     -65.037     239.539\n",
      "iso_code_DNK                            -35.2719     24.789     -1.423      0.155     -83.887      13.344\n",
      "iso_code_DOM                            -78.4421     78.217     -1.003      0.316    -231.835      74.951\n",
      "iso_code_ECU                            -52.6749     45.034     -1.170      0.242    -140.993      35.643\n",
      "iso_code_EGY                            -68.0136     45.198     -1.505      0.133    -156.653      20.625\n",
      "iso_code_ESP                            -55.2472     25.020     -2.208      0.027    -104.314      -6.180\n",
      "iso_code_EST                            267.9345     33.475      8.004      0.000     202.287     333.582\n",
      "iso_code_ETH                            -14.8017     89.087     -0.166      0.868    -189.513     159.910\n",
      "iso_code_FIN                           -111.9443     27.980     -4.001      0.000    -166.817     -57.072\n",
      "iso_code_FJI                            176.4081     90.638      1.946      0.052      -1.346     354.162\n",
      "iso_code_FRA                             -9.4344     26.088     -0.362      0.718     -60.596      41.727\n",
      "iso_code_GBR                             35.2267     24.936      1.413      0.158     -13.676      84.130\n",
      "iso_code_GEO                            562.4889     89.833      6.262      0.000     386.315     738.663\n",
      "iso_code_GHA                             22.4805     37.741      0.596      0.551     -51.535      96.496\n",
      "iso_code_GMB                             66.4151     55.576      1.195      0.232     -42.577     175.407\n",
      "iso_code_GRC                           -131.2776     31.616     -4.152      0.000    -193.282     -69.274\n",
      "iso_code_GTM                             18.3840     47.598      0.386      0.699     -74.962     111.730\n",
      "iso_code_HKG                            -73.9539     30.331     -2.438      0.015    -133.438     -14.470\n",
      "iso_code_HRV                             41.2792     36.316      1.137      0.256     -29.941     112.500\n",
      "iso_code_HUN                             35.9355     88.752      0.405      0.686    -138.120     209.991\n",
      "iso_code_IDN                           -152.5613     31.161     -4.896      0.000    -213.673     -91.450\n",
      "iso_code_IND                           -143.1408     26.426     -5.417      0.000    -194.966     -91.315\n",
      "iso_code_IRL                            -32.8490     27.184     -1.208      0.227     -86.161      20.463\n",
      "iso_code_IRQ                             90.4143    163.757      0.552      0.581    -230.736     411.564\n",
      "iso_code_ISL                            -49.9644     30.622     -1.632      0.103    -110.019      10.090\n",
      "iso_code_ISR                            184.8410     33.131      5.579      0.000     119.866     249.816\n",
      "iso_code_ITA                           -164.9275     27.466     -6.005      0.000    -218.792    -111.063\n",
      "iso_code_JAM                            -65.3751    109.449     -0.597      0.550    -280.020     149.270\n",
      "iso_code_JOR                             71.3204     68.597      1.040      0.299     -63.207     205.847\n",
      "iso_code_JPN                           -143.1213     31.122     -4.599      0.000    -204.156     -82.086\n",
      "iso_code_KAZ                             20.9421     69.828      0.300      0.764    -116.000     157.884\n",
      "iso_code_KEN                            -64.2030     27.755     -2.313      0.021    -118.634      -9.772\n",
      "iso_code_KHM                            -80.9902     40.997     -1.976      0.048    -161.391      -0.590\n",
      "iso_code_KOR                           -170.5571     30.693     -5.557      0.000    -230.750    -110.364\n",
      "iso_code_KWT                             68.7697     66.377      1.036      0.300     -61.405     198.944\n",
      "iso_code_LBN                            130.5261     52.880      2.468      0.014      26.822     234.230\n",
      "iso_code_LKA                           -157.1714     39.622     -3.967      0.000    -234.875     -79.468\n",
      "iso_code_LTU                            208.1596     31.260      6.659      0.000     146.854     269.465\n",
      "iso_code_LUX                             87.7904     30.151      2.912      0.004      28.659     146.921\n",
      "iso_code_LVA                             61.2595     41.733      1.468      0.142     -20.584     143.103\n",
      "iso_code_MAR                            -47.5760    108.687     -0.438      0.662    -260.725     165.573\n",
      "iso_code_MDG                             34.4331     55.284      0.623      0.533     -73.986     142.852\n",
      "iso_code_MDV                             59.9346     63.101      0.950      0.342     -63.814     183.684\n",
      "iso_code_MEX                            -78.5286     25.737     -3.051      0.002    -129.003     -28.054\n",
      "iso_code_MKD                             13.6248     65.604      0.208      0.835    -115.032     142.282\n",
      "iso_code_MLT                           -128.0834     68.994     -1.856      0.064    -263.390       7.223\n",
      "iso_code_MNE                            368.7872     79.364      4.647      0.000     213.144     524.430\n",
      "iso_code_MOZ                            -26.0536     50.353     -0.517      0.605    -124.802      72.694\n",
      "iso_code_MWI                             22.0084     59.495      0.370      0.711     -94.669     138.686\n",
      "iso_code_MYS                            -20.5430     31.480     -0.653      0.514     -82.279      41.193\n",
      "iso_code_NGA                            -34.4728     37.825     -0.911      0.362    -108.653      39.707\n",
      "iso_code_NLD                             43.2588     24.633      1.756      0.079      -5.050      91.568\n",
      "iso_code_NOR                            -87.6956     25.914     -3.384      0.001    -138.516     -36.876\n",
      "iso_code_NPL                           -103.6428     90.690     -1.143      0.253    -281.498      74.212\n",
      "iso_code_NZL                           -228.5696     43.358     -5.272      0.000    -313.600    -143.539\n",
      "iso_code_OMN                             77.1311     76.889      1.003      0.316     -73.658     227.921\n",
      "iso_code_OWID_KOS                       134.9207     61.909      2.179      0.029      13.509     256.332\n",
      "iso_code_PAK                            -86.0056     40.916     -2.102      0.036    -166.247      -5.764\n",
      "iso_code_PER                            -84.0540     28.755     -2.923      0.004    -140.447     -27.661\n",
      "iso_code_PHL                            -79.0276     33.636     -2.350      0.019    -144.992     -13.063\n",
      "iso_code_PNG                            -22.0342     63.331     -0.348      0.728    -146.235     102.166\n",
      "iso_code_POL                            -48.9253     30.900     -1.583      0.114    -109.525      11.675\n",
      "iso_code_PRT                            -51.4202     30.697     -1.675      0.094    -111.621       8.780\n",
      "iso_code_PRY                            -26.1482     77.672     -0.337      0.736    -178.474     126.177\n",
      "iso_code_QAT                            -15.8619     31.629     -0.502      0.616     -77.890      46.166\n",
      "iso_code_ROU                            -43.4505     28.645     -1.517      0.129     -99.627      12.726\n",
      "iso_code_RUS                            -54.6499     25.957     -2.105      0.035    -105.554      -3.745\n",
      "iso_code_RWA                            -36.1251     58.806     -0.614      0.539    -151.452      79.202\n",
      "iso_code_SEN                             35.9937     58.796      0.612      0.540     -79.312     151.300\n",
      "iso_code_SGP                             76.0724     27.150      2.802      0.005      22.827     129.317\n",
      "iso_code_SUR                            -55.1291     47.421     -1.163      0.245    -148.129      37.871\n",
      "iso_code_SVK                            242.3323     32.480      7.461      0.000     178.634     306.031\n",
      "iso_code_SVN                            131.9480     27.033      4.881      0.000      78.933     184.963\n",
      "iso_code_SWE                             22.9652     24.828      0.925      0.355     -25.726      71.657\n",
      "iso_code_SYC                            458.3208     64.417      7.115      0.000     331.990     584.652\n",
      "iso_code_TGO                             28.5899     76.994      0.371      0.710    -122.405     179.585\n",
      "iso_code_THA                           -126.7002     37.880     -3.345      0.001    -200.987     -52.413\n",
      "iso_code_TTO                           -160.3028     71.564     -2.240      0.025    -300.649     -19.957\n",
      "iso_code_TUR                             32.0738     31.350      1.023      0.306     -29.408      93.555\n",
      "iso_code_UGA                            -17.6824     64.027     -0.276      0.782    -143.247     107.883\n",
      "iso_code_UKR                            -75.0604     58.817     -1.276      0.202    -190.408      40.287\n",
      "iso_code_URY                             86.6539     61.974      1.398      0.162     -34.886     208.194\n",
      "iso_code_USA                             43.3476     27.553      1.573      0.116     -10.687      97.382\n",
      "iso_code_VNM                           -204.9383     59.890     -3.422      0.001    -322.391     -87.485\n",
      "iso_code_ZAF                             -5.2010     25.543     -0.204      0.839     -55.293      44.891\n",
      "iso_code_ZMB                             83.1446     48.410      1.717      0.086     -11.794     178.084\n",
      "iso_code_ZWE                            -70.9583     55.200     -1.285      0.199    -179.214      37.297\n",
      "month_year_02-2021                      -75.9140     18.566     -4.089      0.000    -112.323     -39.505\n",
      "month_year_03-2021                      -62.8518     19.992     -3.144      0.002    -102.060     -23.644\n",
      "month_year_04-2021                      -56.5622     21.228     -2.665      0.008     -98.193     -14.932\n",
      "month_year_05-2020                     -208.4876     23.035     -9.051      0.000    -253.662    -163.313\n",
      "month_year_05-2021                     -105.0619     21.656     -4.851      0.000    -147.532     -62.591\n",
      "month_year_06-2020                     -156.2061     24.144     -6.470      0.000    -203.555    -108.857\n",
      "month_year_06-2021                     -181.9709     26.914     -6.761      0.000    -234.754    -129.188\n",
      "month_year_07-2020                     -154.3040     23.452     -6.580      0.000    -200.296    -108.312\n",
      "month_year_07-2021                     -197.2680     32.571     -6.057      0.000    -261.144    -133.392\n",
      "month_year_08-2020                     -144.7371     20.564     -7.038      0.000    -185.066    -104.408\n",
      "month_year_08-2021                     -159.7512     35.557     -4.493      0.000    -229.482     -90.020\n",
      "month_year_09-2020                     -124.5002     23.076     -5.395      0.000    -169.754     -79.246\n",
      "month_year_09-2021                     -150.1840     37.347     -4.021      0.000    -223.427     -76.941\n",
      "month_year_10-2020                      -15.1043     22.238     -0.679      0.497     -58.716      28.508\n",
      "month_year_10-2021                     -135.5530     38.900     -3.485      0.001    -211.840     -59.266\n",
      "month_year_11-2020                       25.7824     22.058      1.169      0.243     -17.476      69.041\n",
      "month_year_11-2021                        3.3874     41.096      0.082      0.934     -77.206      83.981\n",
      "month_year_12-2020                        3.4639     20.678      0.168      0.867     -37.089      44.017\n",
      "==============================================================================\n",
      "Omnibus:                      872.849   Durbin-Watson:                   0.778\n",
      "Prob(Omnibus):                  0.000   Jarque-Bera (JB):             6243.207\n",
      "Skew:                           1.733   Prob(JB):                         0.00\n",
      "Kurtosis:                      10.565   Cond. No.                     1.81e+20\n",
      "==============================================================================\n",
      "\n",
      "Notes:\n",
      "[1] Standard Errors assume that the covariance matrix of the errors is correctly specified.\n",
      "[2] The smallest eigenvalue is 9.73e-29. This might indicate that there are\n",
      "strong multicollinearity problems or that the design matrix is singular.\n"
     ]
    },
    {
     "name": "stderr",
     "output_type": "stream",
     "text": [
      "/Users/dprinster/anaconda3/envs/MachineLearning/lib/python3.9/site-packages/statsmodels/tsa/tsatools.py:142: FutureWarning: In a future version of pandas all arguments of concat except for the argument 'objs' will be keyword-only\n",
      "  x = pd.concat(x[::order], 1)\n"
     ]
    }
   ],
   "source": [
    "X_nested['iso_code'], X_nested['month_year'] = df['iso_code'], df['month_yr']\n",
    "X_nested_dummy = pd.get_dummies(X_nested, drop_first=True)\n",
    "X_nested_dummy_const = sm.add_constant(X_nested_dummy)\n",
    "est_dummy = sm.OLS(y, X_nested_dummy_const)\n",
    "est_dummy_fit_cases = est_dummy.fit()\n",
    "print(est_dummy_fit_cases.summary())"
   ]
  },
  {
   "cell_type": "markdown",
   "metadata": {},
   "source": [
    "Including information about country and month/year drastically increases the model's explanatory ability. The model has $Adj. R^2 = 0.437$. Observing the p-values associated with the $t-tests$ for these new coeficients reveals two things. First, COVID-19 has affected some countries much more than others. It is evident that there differences between countreies which affect the number of COVID-19 cases which are not present in the data set. Second, the Covid-19 pandemic has increased and decreased in severity with November, 2020 being perhaps the worst month of the pandemic from a perspective of the amount of new cases worldwide."
   ]
  },
  {
   "cell_type": "markdown",
   "metadata": {},
   "source": [
    "We now conduct an entirely anaologous procedure, the only difference being that the response variable will now be new deaths smoothed per million rather than cases."
   ]
  },
  {
   "cell_type": "code",
   "execution_count": 22,
   "metadata": {},
   "outputs": [
    {
     "name": "stderr",
     "output_type": "stream",
     "text": [
      "/Users/dprinster/anaconda3/envs/MachineLearning/lib/python3.9/site-packages/statsmodels/tsa/tsatools.py:142: FutureWarning: In a future version of pandas all arguments of concat except for the argument 'objs' will be keyword-only\n",
      "  x = pd.concat(x[::order], 1)\n"
     ]
    },
    {
     "name": "stdout",
     "output_type": "stream",
     "text": [
      "                                   OLS Regression Results                                  \n",
      "===========================================================================================\n",
      "Dep. Variable:     new_deaths_smoothed_per_million   R-squared:                       0.287\n",
      "Model:                                         OLS   Adj. R-squared:                  0.280\n",
      "Method:                              Least Squares   F-statistic:                     39.18\n",
      "Date:                             Mon, 13 Dec 2021   Prob (F-statistic):          1.10e-139\n",
      "Time:                                     05:25:56   Log-Likelihood:                -5512.2\n",
      "No. Observations:                             2164   AIC:                         1.107e+04\n",
      "Df Residuals:                                 2141   BIC:                         1.120e+04\n",
      "Df Model:                                       22                                         \n",
      "Covariance Type:                         nonrobust                                         \n",
      "=========================================================================================================\n",
      "                                            coef    std err          t      P>|t|      [0.025      0.975]\n",
      "---------------------------------------------------------------------------------------------------------\n",
      "const                                    -8.3541      0.675    -12.372      0.000      -9.678      -7.030\n",
      "total_vaccinations_per_hundred           -0.0095      0.003     -3.678      0.000      -0.015      -0.004\n",
      "new_vaccinations_smoothed_per_million -7.676e-05   2.41e-05     -3.181      0.001      -0.000   -2.94e-05\n",
      "stringency_index                          0.0682      0.005     13.789      0.000       0.059       0.078\n",
      "population_density                       -0.0002   6.47e-05     -3.836      0.000      -0.000      -0.000\n",
      "median_age                                0.2091      0.029      7.297      0.000       0.153       0.265\n",
      "aged_65_older                            -0.1128      0.036     -3.141      0.002      -0.183      -0.042\n",
      "gdp_per_capita                        -1.933e-05   4.53e-06     -4.271      0.000   -2.82e-05   -1.05e-05\n",
      "extreme_poverty                           0.0011      0.003      0.365      0.715      -0.005       0.007\n",
      "cardiovasc_death_rate                     0.0053      0.001      6.080      0.000       0.004       0.007\n",
      "diabetes_prevalence                      -0.0255      0.027     -0.950      0.342      -0.078       0.027\n",
      "female_smokers                            0.0372      0.009      4.062      0.000       0.019       0.055\n",
      "male_smokers                             -0.0112      0.006     -1.759      0.079      -0.024       0.001\n",
      "Beta                                      0.0033      0.005      0.639      0.523      -0.007       0.014\n",
      "Epsilon                                   0.2442      0.053      4.594      0.000       0.140       0.348\n",
      "Gamma                                     0.0449      0.006      6.960      0.000       0.032       0.058\n",
      "Kappa                                    -0.0606      0.034     -1.795      0.073      -0.127       0.006\n",
      "Iota                                     -0.0482      0.040     -1.219      0.223      -0.126       0.029\n",
      "Eta                                      -0.0118      0.023     -0.510      0.610      -0.057       0.034\n",
      "Delta                                     0.0116      0.003      4.015      0.000       0.006       0.017\n",
      "Alpha                                     0.0105      0.003      3.836      0.000       0.005       0.016\n",
      "Lambda                                    0.1564      0.013     12.047      0.000       0.131       0.182\n",
      "Mu                                       -0.0822      0.074     -1.118      0.264      -0.226       0.062\n",
      "==============================================================================\n",
      "Omnibus:                      968.066   Durbin-Watson:                   0.461\n",
      "Prob(Omnibus):                  0.000   Jarque-Bera (JB):             5370.469\n",
      "Skew:                           2.072   Prob(JB):                         0.00\n",
      "Kurtosis:                       9.510   Cond. No.                     3.87e+05\n",
      "==============================================================================\n",
      "\n",
      "Notes:\n",
      "[1] Standard Errors assume that the covariance matrix of the errors is correctly specified.\n",
      "[2] The condition number is large, 3.87e+05. This might indicate that there are\n",
      "strong multicollinearity or other numerical problems.\n"
     ]
    }
   ],
   "source": [
    "y = df['new_deaths_smoothed_per_million']\n",
    "#add a column of ones for the intercept term\n",
    "X_full = sm.add_constant(X)\n",
    "est_full = sm.OLS(y, X_full)\n",
    "est_full_fit = est_full.fit()\n",
    "print(est_full_fit.summary())"
   ]
  },
  {
   "cell_type": "markdown",
   "metadata": {},
   "source": [
    "Compared to the initial regression on new cases the regression on new deaths provides a moderatly better fit. We have $ADJ. R^2 = 0.283$ and a near zero p-value corresponding to the $F-Test$ for overall model utility. Examining the $t-tests$ for individual coefficients we see that the following are insignificant at a $95\\%$ confidence level: diabetes prevalence, extreme poverty, Beta, Iota, Eta, and Mu. One interesting finind is that the total number of vaccinations adminitered by a country was not significant in predicting new cases but IS significant in predicting new deaths. This suggests that the vaccines may not be effective at preventing infection but are effective at limiting extreme cases. We now attempt to remove the insignificant predictors."
   ]
  },
  {
   "cell_type": "code",
   "execution_count": 23,
   "metadata": {},
   "outputs": [
    {
     "name": "stderr",
     "output_type": "stream",
     "text": [
      "/Users/dprinster/anaconda3/envs/MachineLearning/lib/python3.9/site-packages/statsmodels/tsa/tsatools.py:142: FutureWarning: In a future version of pandas all arguments of concat except for the argument 'objs' will be keyword-only\n",
      "  x = pd.concat(x[::order], 1)\n"
     ]
    },
    {
     "name": "stdout",
     "output_type": "stream",
     "text": [
      "   df_resid           ssr  df_diff    ss_diff        F    Pr(>F)\n",
      "0    2147.0  20713.863804      0.0        NaN      NaN       NaN\n",
      "1    2141.0  20667.253869      6.0  46.609935  0.80475  0.566112\n"
     ]
    }
   ],
   "source": [
    "from statsmodels.stats.anova import anova_lm\n",
    "X_nested = X.drop(['diabetes_prevalence','Beta','Iota','Eta','Mu','extreme_poverty'], axis = 1)\n",
    "X_nested_const = sm.add_constant(X_nested)\n",
    "est_nested = sm.OLS(y, X_nested_const)\n",
    "est_nested_fit = est_nested.fit()\n",
    "print(anova_lm(est_nested_fit, est_full_fit))"
   ]
  },
  {
   "cell_type": "markdown",
   "metadata": {},
   "source": [
    "The removal of predictors is again justified by the large p-value of 0.345 in the $F-Test$ for nested linear regression models shown above. We now examine the values of the estimated parameters in the reduced model."
   ]
  },
  {
   "cell_type": "code",
   "execution_count": 24,
   "metadata": {},
   "outputs": [
    {
     "name": "stdout",
     "output_type": "stream",
     "text": [
      "                                   OLS Regression Results                                  \n",
      "===========================================================================================\n",
      "Dep. Variable:     new_deaths_smoothed_per_million   R-squared:                       0.285\n",
      "Model:                                         OLS   Adj. R-squared:                  0.280\n",
      "Method:                              Least Squares   F-statistic:                     53.61\n",
      "Date:                             Mon, 13 Dec 2021   Prob (F-statistic):          1.06e-143\n",
      "Time:                                     05:25:56   Log-Likelihood:                -5514.7\n",
      "No. Observations:                             2164   AIC:                         1.106e+04\n",
      "Df Residuals:                                 2147   BIC:                         1.116e+04\n",
      "Df Model:                                       16                                         \n",
      "Covariance Type:                         nonrobust                                         \n",
      "=========================================================================================================\n",
      "                                            coef    std err          t      P>|t|      [0.025      0.975]\n",
      "---------------------------------------------------------------------------------------------------------\n",
      "const                                    -8.1972      0.622    -13.172      0.000      -9.418      -6.977\n",
      "total_vaccinations_per_hundred           -0.0098      0.003     -3.829      0.000      -0.015      -0.005\n",
      "new_vaccinations_smoothed_per_million -7.797e-05    2.4e-05     -3.243      0.001      -0.000   -3.08e-05\n",
      "stringency_index                          0.0676      0.005     13.843      0.000       0.058       0.077\n",
      "population_density                       -0.0003   6.43e-05     -3.964      0.000      -0.000      -0.000\n",
      "median_age                                0.1932      0.025      7.635      0.000       0.144       0.243\n",
      "aged_65_older                            -0.0948      0.031     -3.053      0.002      -0.156      -0.034\n",
      "gdp_per_capita                        -1.867e-05   4.45e-06     -4.192      0.000   -2.74e-05   -9.94e-06\n",
      "cardiovasc_death_rate                     0.0052      0.001      6.075      0.000       0.004       0.007\n",
      "female_smokers                            0.0377      0.009      4.184      0.000       0.020       0.055\n",
      "male_smokers                             -0.0095      0.006     -1.503      0.133      -0.022       0.003\n",
      "Epsilon                                   0.2277      0.052      4.368      0.000       0.125       0.330\n",
      "Gamma                                     0.0448      0.006      6.977      0.000       0.032       0.057\n",
      "Kappa                                    -0.0606      0.034     -1.795      0.073      -0.127       0.006\n",
      "Delta                                     0.0118      0.003      4.211      0.000       0.006       0.017\n",
      "Alpha                                     0.0106      0.003      3.929      0.000       0.005       0.016\n",
      "Lambda                                    0.1540      0.013     12.041      0.000       0.129       0.179\n",
      "==============================================================================\n",
      "Omnibus:                      967.180   Durbin-Watson:                   0.462\n",
      "Prob(Omnibus):                  0.000   Jarque-Bera (JB):             5327.960\n",
      "Skew:                           2.073   Prob(JB):                         0.00\n",
      "Kurtosis:                       9.473   Cond. No.                     3.57e+05\n",
      "==============================================================================\n",
      "\n",
      "Notes:\n",
      "[1] Standard Errors assume that the covariance matrix of the errors is correctly specified.\n",
      "[2] The condition number is large, 3.57e+05. This might indicate that there are\n",
      "strong multicollinearity or other numerical problems.\n"
     ]
    }
   ],
   "source": [
    "print(est_nested_fit.summary())"
   ]
  },
  {
   "cell_type": "markdown",
   "metadata": {},
   "source": [
    "We see many of the same phenomena which were present in the new cases model such as a positive coefficient associated with the stringency index. One interesting thing to note is that diabetes prevalence is not signficantly associated with new deaths despite diabetes commonly being referred to as a comorbitity. We hypothesize that this may be the case because diabetes is more prevalent in wealthier countries with better healthcare systems. This would also align with the fact that GDP per capita is also negatively associated with new deaths. Lastly, we note that Delta, Alpha, Lambda, Gamma, and Epsilon variants may be more deadly while Kappa may be less deadly though there is limited data for all but the Alpha and Delta variants."
   ]
  },
  {
   "cell_type": "markdown",
   "metadata": {},
   "source": [
    "Next we standardize the coefficients to allow for a direct comparison of their magnitude."
   ]
  },
  {
   "cell_type": "code",
   "execution_count": 25,
   "metadata": {},
   "outputs": [
    {
     "name": "stdout",
     "output_type": "stream",
     "text": [
      "                                 OLS Regression Results                                \n",
      "=======================================================================================\n",
      "Dep. Variable:                      y   R-squared (uncentered):                   0.285\n",
      "Model:                            OLS   Adj. R-squared (uncentered):              0.280\n",
      "Method:                 Least Squares   F-statistic:                              53.63\n",
      "Date:                Mon, 13 Dec 2021   Prob (F-statistic):                   8.97e-144\n",
      "Time:                        05:25:56   Log-Likelihood:                         -2706.9\n",
      "No. Observations:                2164   AIC:                                      5446.\n",
      "Df Residuals:                    2148   BIC:                                      5537.\n",
      "Df Model:                          16                                                  \n",
      "Covariance Type:            nonrobust                                                  \n",
      "=========================================================================================================\n",
      "                                            coef    std err          t      P>|t|      [0.025      0.975]\n",
      "---------------------------------------------------------------------------------------------------------\n",
      "total_vaccinations_per_hundred           -0.1212      0.032     -3.830      0.000      -0.183      -0.059\n",
      "new_vaccinations_smoothed_per_million    -0.0767      0.024     -3.243      0.001      -0.123      -0.030\n",
      "stringency_index                          0.2874      0.021     13.847      0.000       0.247       0.328\n",
      "population_density                       -0.0809      0.020     -3.965      0.000      -0.121      -0.041\n",
      "median_age                                0.4347      0.057      7.636      0.000       0.323       0.546\n",
      "aged_65_older                            -0.1733      0.057     -3.054      0.002      -0.285      -0.062\n",
      "gdp_per_capita                           -0.1119      0.027     -4.193      0.000      -0.164      -0.060\n",
      "cardiovasc_death_rate                     0.1437      0.024      6.077      0.000       0.097       0.190\n",
      "female_smokers                            0.1149      0.027      4.185      0.000       0.061       0.169\n",
      "male_smokers                             -0.0384      0.026     -1.503      0.133      -0.089       0.012\n",
      "Epsilon                                   0.0813      0.019      4.369      0.000       0.045       0.118\n",
      "Gamma                                     0.1440      0.021      6.979      0.000       0.104       0.185\n",
      "Kappa                                    -0.0330      0.018     -1.795      0.073      -0.069       0.003\n",
      "Delta                                     0.1370      0.033      4.212      0.000       0.073       0.201\n",
      "Alpha                                     0.0888      0.023      3.930      0.000       0.044       0.133\n",
      "Lambda                                    0.2494      0.021     12.044      0.000       0.209       0.290\n",
      "==============================================================================\n",
      "Omnibus:                      967.180   Durbin-Watson:                   0.462\n",
      "Prob(Omnibus):                  0.000   Jarque-Bera (JB):             5327.960\n",
      "Skew:                           2.073   Prob(JB):                         0.00\n",
      "Kurtosis:                       9.473   Cond. No.                         7.88\n",
      "==============================================================================\n",
      "\n",
      "Notes:\n",
      "[1] R² is computed without centering (uncentered) since the model does not contain a constant.\n",
      "[2] Standard Errors assume that the covariance matrix of the errors is correctly specified.\n"
     ]
    }
   ],
   "source": [
    "scaler = StandardScaler()\n",
    "scaler_y = StandardScaler()\n",
    "y_scaled = scaler_y.fit_transform(np.array(y).reshape(-1,1))\n",
    "cols = X_nested.columns\n",
    "X_nested_scaled = pd.DataFrame(scaler.fit_transform(X_nested))\n",
    "X_nested_scaled.columns = cols\n",
    "est_nested_scaled = sm.OLS(y_scaled, X_nested_scaled)\n",
    "est_nested_scaled_fit = est_nested_scaled.fit()\n",
    "print(est_nested_scaled_fit.summary())"
   ]
  },
  {
   "cell_type": "markdown",
   "metadata": {},
   "source": [
    "With the data now standardized we see that the features with the greatest affect on increasing predictions about new deaths are: strigency index and median age. The features with the greatest affect on decreasing predictions about new deaths are: proportion of population older than 65 and total vaccinations per hundred. The seemingly contradictery coefficients associated with median age and aged 65 or older are perplexing. We note that the Lambda variant may be substantially more deadly than others, though the large positive coefficient could also be due to the variant being most prevalent in under-developed countries. Lastly, these regression coefficients support the notion that the more people in a population who receive vaccines the fewer deaths that population will experience."
   ]
  },
  {
   "cell_type": "markdown",
   "metadata": {},
   "source": [
    "Finally, we redo the regression and include categorical variables signifying country and month/year."
   ]
  },
  {
   "cell_type": "code",
   "execution_count": 26,
   "metadata": {},
   "outputs": [
    {
     "name": "stderr",
     "output_type": "stream",
     "text": [
      "/Users/dprinster/anaconda3/envs/MachineLearning/lib/python3.9/site-packages/statsmodels/tsa/tsatools.py:142: FutureWarning: In a future version of pandas all arguments of concat except for the argument 'objs' will be keyword-only\n",
      "  x = pd.concat(x[::order], 1)\n"
     ]
    },
    {
     "name": "stdout",
     "output_type": "stream",
     "text": [
      "                                   OLS Regression Results                                  \n",
      "===========================================================================================\n",
      "Dep. Variable:     new_deaths_smoothed_per_million   R-squared:                       0.546\n",
      "Model:                                         OLS   Adj. R-squared:                  0.516\n",
      "Method:                              Least Squares   F-statistic:                     18.21\n",
      "Date:                             Mon, 13 Dec 2021   Prob (F-statistic):          2.41e-259\n",
      "Time:                                     05:25:56   Log-Likelihood:                -5024.0\n",
      "No. Observations:                             2164   AIC:                         1.032e+04\n",
      "Df Residuals:                                 2029   BIC:                         1.108e+04\n",
      "Df Model:                                      134                                         \n",
      "Covariance Type:                         nonrobust                                         \n",
      "=========================================================================================================\n",
      "                                            coef    std err          t      P>|t|      [0.025      0.975]\n",
      "---------------------------------------------------------------------------------------------------------\n",
      "const                                    -6.7304      0.649    -10.367      0.000      -8.004      -5.457\n",
      "total_vaccinations_per_hundred           -0.0194      0.003     -7.116      0.000      -0.025      -0.014\n",
      "new_vaccinations_smoothed_per_million  2.045e-05   2.28e-05      0.897      0.370   -2.43e-05    6.52e-05\n",
      "stringency_index                          0.0914      0.006     16.024      0.000       0.080       0.103\n",
      "population_density                       -0.0003   6.05e-05     -4.862      0.000      -0.000      -0.000\n",
      "median_age                                0.1670      0.032      5.139      0.000       0.103       0.231\n",
      "aged_65_older                            -0.0180      0.033     -0.548      0.583      -0.082       0.046\n",
      "gdp_per_capita                        -2.417e-05   5.44e-06     -4.444      0.000   -3.48e-05   -1.35e-05\n",
      "cardiovasc_death_rate                     0.0041      0.001      4.617      0.000       0.002       0.006\n",
      "female_smokers                            0.0221      0.013      1.753      0.080      -0.003       0.047\n",
      "male_smokers                             -0.0272      0.008     -3.265      0.001      -0.043      -0.011\n",
      "Epsilon                                   0.0283      0.051      0.558      0.577      -0.071       0.128\n",
      "Gamma                                     0.0563      0.008      7.162      0.000       0.041       0.072\n",
      "Kappa                                     0.0017      0.030      0.058      0.954      -0.057       0.060\n",
      "Delta                                     0.0300      0.005      5.496      0.000       0.019       0.041\n",
      "Alpha                                     0.0056      0.004      1.386      0.166      -0.002       0.014\n",
      "Lambda                                    0.0875      0.014      6.461      0.000       0.061       0.114\n",
      "iso_code_ARE                             -1.1572      0.644     -1.798      0.072      -2.419       0.105\n",
      "iso_code_ARG                             -0.5184      0.471     -1.101      0.271      -1.442       0.405\n",
      "iso_code_AUS                             -2.8069      0.416     -6.744      0.000      -3.623      -1.991\n",
      "iso_code_AUT                             -1.2252      0.441     -2.776      0.006      -2.091      -0.360\n",
      "iso_code_BEL                              0.5434      0.406      1.337      0.181      -0.253       1.340\n",
      "iso_code_BGD                             -2.8954      0.491     -5.897      0.000      -3.858      -1.932\n",
      "iso_code_BGR                              3.4324      0.563      6.097      0.000       2.328       4.536\n",
      "iso_code_BHR                              2.3379      0.683      3.423      0.001       0.999       3.677\n",
      "iso_code_BIH                              6.2811      1.745      3.599      0.000       2.859       9.703\n",
      "iso_code_BLZ                             -0.2824      1.562     -0.181      0.857      -3.345       2.780\n",
      "iso_code_BRA                              0.3485      0.487      0.715      0.474      -0.607       1.304\n",
      "iso_code_BWA                              2.4246      0.712      3.406      0.001       1.029       3.821\n",
      "iso_code_CAN                             -2.6364      0.434     -6.077      0.000      -3.487      -1.786\n",
      "iso_code_CHE                              0.4069      0.416      0.979      0.328      -0.408       1.222\n",
      "iso_code_CHL                             -0.9319      0.535     -1.742      0.082      -1.981       0.117\n",
      "iso_code_CMR                              1.7089      1.369      1.248      0.212      -0.976       4.394\n",
      "iso_code_COL                              2.4896      0.607      4.104      0.000       1.300       3.679\n",
      "iso_code_CRI                              0.6261      0.613      1.021      0.307      -0.576       1.828\n",
      "iso_code_CZE                              3.1550      0.510      6.192      0.000       2.156       4.154\n",
      "iso_code_DEU                             -2.0122      0.404     -4.977      0.000      -2.805      -1.219\n",
      "iso_code_DJI                              1.3211      1.267      1.043      0.297      -1.164       3.806\n",
      "iso_code_DNK                             -1.2973      0.402     -3.223      0.001      -2.087      -0.508\n",
      "iso_code_DOM                             -2.6851      1.266     -2.121      0.034      -5.168      -0.203\n",
      "iso_code_ECU                             -0.4698      0.742     -0.633      0.527      -1.926       0.986\n",
      "iso_code_EGY                             -1.4470      0.739     -1.957      0.050      -2.897       0.003\n",
      "iso_code_ESP                             -1.3136      0.411     -3.195      0.001      -2.120      -0.507\n",
      "iso_code_EST                              1.1508      0.545      2.112      0.035       0.082       2.219\n",
      "iso_code_ETH                             -0.1609      1.427     -0.113      0.910      -2.960       2.638\n",
      "iso_code_FIN                             -1.8264      0.450     -4.061      0.000      -2.708      -0.944\n",
      "iso_code_FJI                             -2.2058      1.449     -1.522      0.128      -5.048       0.636\n",
      "iso_code_FRA                             -0.4088      0.422     -0.968      0.333      -1.237       0.419\n",
      "iso_code_GBR                              0.0086      0.406      0.021      0.983      -0.788       0.805\n",
      "iso_code_GEO                              4.8690      1.343      3.625      0.000       2.235       7.503\n",
      "iso_code_GHA                             -0.3108      0.612     -0.508      0.611      -1.510       0.889\n",
      "iso_code_GMB                              1.8554      0.910      2.038      0.042       0.070       3.641\n",
      "iso_code_GRC                             -1.3805      0.516     -2.674      0.008      -2.393      -0.368\n",
      "iso_code_GTM                              0.7137      0.772      0.924      0.356      -0.801       2.228\n",
      "iso_code_HKG                             -0.8720      0.496     -1.758      0.079      -1.844       0.101\n",
      "iso_code_HRV                              0.9114      0.583      1.563      0.118      -0.232       2.055\n",
      "iso_code_HUN                              0.6608      1.439      0.459      0.646      -2.161       3.482\n",
      "iso_code_IDN                             -1.2650      0.545     -2.320      0.020      -2.334      -0.196\n",
      "iso_code_IND                             -3.3542      0.457     -7.340      0.000      -4.250      -2.458\n",
      "iso_code_IRL                             -0.8814      0.438     -2.013      0.044      -1.740      -0.023\n",
      "iso_code_IRQ                              0.6485      2.672      0.243      0.808      -4.592       5.889\n",
      "iso_code_ISL                             -0.8124      0.498     -1.631      0.103      -1.790       0.165\n",
      "iso_code_ISR                              1.5899      0.546      2.914      0.004       0.520       2.660\n",
      "iso_code_ITA                             -1.7337      0.441     -3.935      0.000      -2.598      -0.870\n",
      "iso_code_JAM                             -1.1669      1.783     -0.655      0.513      -4.663       2.329\n",
      "iso_code_JOR                              1.2483      1.110      1.125      0.261      -0.928       3.425\n",
      "iso_code_JPN                             -1.4678      0.471     -3.115      0.002      -2.392      -0.544\n",
      "iso_code_KAZ                              2.9242      1.104      2.649      0.008       0.760       5.089\n",
      "iso_code_KEN                             -1.4159      0.450     -3.149      0.002      -2.298      -0.534\n",
      "iso_code_KHM                             -0.7104      0.669     -1.062      0.288      -2.022       0.601\n",
      "iso_code_KOR                             -1.7666      0.486     -3.637      0.000      -2.719      -0.814\n",
      "iso_code_KWT                              1.2432      1.038      1.198      0.231      -0.792       3.279\n",
      "iso_code_LBN                              0.7705      0.843      0.914      0.361      -0.883       2.424\n",
      "iso_code_LKA                             -1.7923      0.638     -2.809      0.005      -3.044      -0.541\n",
      "iso_code_LTU                              2.7701      0.517      5.363      0.000       1.757       3.783\n",
      "iso_code_LUX                              1.9510      0.491      3.970      0.000       0.987       2.915\n",
      "iso_code_LVA                              1.0590      0.684      1.548      0.122      -0.282       2.400\n",
      "iso_code_MAR                             -0.8470      1.717     -0.493      0.622      -4.214       2.520\n",
      "iso_code_MDG                             -0.5893      0.874     -0.674      0.500      -2.304       1.126\n",
      "iso_code_MDV                              0.1511      0.985      0.153      0.878      -1.780       2.082\n",
      "iso_code_MEX                              1.7931      0.427      4.200      0.000       0.956       2.630\n",
      "iso_code_MKD                              4.1956      1.077      3.894      0.000       2.083       6.309\n",
      "iso_code_MLT                             -1.8258      1.116     -1.636      0.102      -4.014       0.363\n",
      "iso_code_MNE                              1.3318      1.217      1.094      0.274      -1.055       3.719\n",
      "iso_code_MOZ                             -0.9666      0.821     -1.177      0.239      -2.577       0.644\n",
      "iso_code_MWI                              0.5773      0.964      0.599      0.549      -1.314       2.468\n",
      "iso_code_MYS                             -0.5435      0.509     -1.068      0.286      -1.541       0.454\n",
      "iso_code_NGA                             -0.8051      0.608     -1.325      0.185      -1.997       0.386\n",
      "iso_code_NLD                             -1.1378      0.400     -2.845      0.004      -1.922      -0.353\n",
      "iso_code_NOR                             -0.9741      0.419     -2.325      0.020      -1.796      -0.152\n",
      "iso_code_NPL                             -1.2008      1.482     -0.810      0.418      -4.107       1.705\n",
      "iso_code_NZL                             -2.9585      0.708     -4.179      0.000      -4.347      -1.570\n",
      "iso_code_OMN                              0.3946      1.212      0.326      0.745      -1.982       2.772\n",
      "iso_code_OWID_KOS                         1.5725      0.715      2.198      0.028       0.170       2.976\n",
      "iso_code_PAK                             -1.7316      0.674     -2.571      0.010      -3.052      -0.411\n",
      "iso_code_PER                              5.9553      0.601      9.905      0.000       4.776       7.134\n",
      "iso_code_PHL                             -2.1794      0.558     -3.906      0.000      -3.274      -1.085\n",
      "iso_code_PNG                             -1.6944      0.982     -1.726      0.084      -3.619       0.231\n",
      "iso_code_POL                              0.6859      0.505      1.357      0.175      -0.305       1.677\n",
      "iso_code_PRT                             -0.6036      0.485     -1.243      0.214      -1.556       0.348\n",
      "iso_code_PRY                              1.1341      1.263      0.898      0.369      -1.342       3.610\n",
      "iso_code_QAT                              0.6479      0.512      1.266      0.206      -0.356       1.652\n",
      "iso_code_ROU                              0.6220      0.480      1.295      0.196      -0.320       1.564\n",
      "iso_code_RUS                             -0.1305      0.469     -0.278      0.781      -1.051       0.790\n",
      "iso_code_RWA                             -0.9853      0.948     -1.039      0.299      -2.844       0.874\n",
      "iso_code_SEN                              0.4401      0.951      0.463      0.643      -1.424       2.305\n",
      "iso_code_SGP                              1.6916      0.446      3.793      0.000       0.817       2.566\n",
      "iso_code_SUR                              0.0580      0.782      0.074      0.941      -1.475       1.591\n",
      "iso_code_SVK                              3.2534      0.534      6.094      0.000       2.206       4.300\n",
      "iso_code_SVN                              1.1640      0.446      2.610      0.009       0.290       2.038\n",
      "iso_code_SWE                             -0.1961      0.406     -0.483      0.629      -0.992       0.600\n",
      "iso_code_SYC                             -3.4185      1.041     -3.285      0.001      -5.459      -1.378\n",
      "iso_code_TGO                             -0.0965      1.240     -0.078      0.938      -2.529       2.336\n",
      "iso_code_THA                             -2.2448      0.600     -3.740      0.000      -3.422      -1.068\n",
      "iso_code_TTO                             -1.1880      1.167     -1.018      0.309      -3.477       1.101\n",
      "iso_code_TUR                              0.1531      0.514      0.298      0.766      -0.856       1.162\n",
      "iso_code_UGA                             -0.8040      1.028     -0.782      0.434      -2.820       1.212\n",
      "iso_code_UKR                             -1.6268      0.919     -1.770      0.077      -3.429       0.175\n",
      "iso_code_URY                             -0.0990      1.008     -0.098      0.922      -2.076       1.878\n",
      "iso_code_USA                              1.2938      0.449      2.881      0.004       0.413       2.175\n",
      "iso_code_VNM                             -2.5835      0.947     -2.729      0.006      -4.440      -0.727\n",
      "iso_code_ZAF                              1.2344      0.418      2.950      0.003       0.414       2.055\n",
      "iso_code_ZMB                              1.5707      0.785      2.000      0.046       0.031       3.111\n",
      "iso_code_ZWE                             -1.1177      0.904     -1.237      0.216      -2.890       0.655\n",
      "month_year_02-2021                       -0.7696      0.304     -2.530      0.011      -1.366      -0.173\n",
      "month_year_03-2021                       -1.5956      0.331     -4.817      0.000      -2.245      -0.946\n",
      "month_year_04-2021                       -1.4654      0.357     -4.107      0.000      -2.165      -0.766\n",
      "month_year_05-2020                       -2.9464      0.378     -7.802      0.000      -3.687      -2.206\n",
      "month_year_05-2021                       -2.0907      0.363     -5.755      0.000      -2.803      -1.378\n",
      "month_year_06-2020                       -2.4416      0.395     -6.177      0.000      -3.217      -1.666\n",
      "month_year_06-2021                       -2.8828      0.448     -6.433      0.000      -3.762      -2.004\n",
      "month_year_07-2020                       -2.3890      0.384     -6.222      0.000      -3.142      -1.636\n",
      "month_year_07-2021                       -3.5534      0.540     -6.584      0.000      -4.612      -2.495\n",
      "month_year_08-2020                       -2.4490      0.337     -7.264      0.000      -3.110      -1.788\n",
      "month_year_08-2021                       -3.1418      0.588     -5.341      0.000      -4.296      -1.988\n",
      "month_year_09-2020                       -2.4671      0.378     -6.522      0.000      -3.209      -1.725\n",
      "month_year_09-2021                       -2.4758      0.618     -4.009      0.000      -3.687      -1.265\n",
      "month_year_10-2020                       -1.8511      0.364     -5.082      0.000      -2.565      -1.137\n",
      "month_year_10-2021                       -2.0364      0.642     -3.171      0.002      -3.296      -0.777\n",
      "month_year_11-2020                       -0.0064      0.361     -0.018      0.986      -0.715       0.702\n",
      "month_year_11-2021                       -1.3125      0.678     -1.937      0.053      -2.641       0.016\n",
      "month_year_12-2020                        0.6830      0.338      2.018      0.044       0.019       1.347\n",
      "==============================================================================\n",
      "Omnibus:                      730.219   Durbin-Watson:                   0.654\n",
      "Prob(Omnibus):                  0.000   Jarque-Bera (JB):             4509.311\n",
      "Skew:                           1.450   Prob(JB):                         0.00\n",
      "Kurtosis:                       9.450   Cond. No.                     5.44e+16\n",
      "==============================================================================\n",
      "\n",
      "Notes:\n",
      "[1] Standard Errors assume that the covariance matrix of the errors is correctly specified.\n",
      "[2] The smallest eigenvalue is 1.07e-21. This might indicate that there are\n",
      "strong multicollinearity problems or that the design matrix is singular.\n"
     ]
    }
   ],
   "source": [
    "X_nested['iso_code'], X_nested['month_year'] = df['iso_code'], df['month_yr']\n",
    "X_nested_dummy = pd.get_dummies(X_nested, drop_first=True)\n",
    "X_nested_dummy_const = sm.add_constant(X_nested_dummy)\n",
    "est_dummy = sm.OLS(y, X_nested_dummy_const)\n",
    "est_dummy_fit_deaths = est_dummy.fit()\n",
    "print(est_dummy_fit_deaths.summary())"
   ]
  },
  {
   "cell_type": "markdown",
   "metadata": {},
   "source": [
    "Again we see that the including information about countries and month/year greatly improves the model. We now have $Adj. R^2 = 0.527$, meanig that 52.7% of the variance in the response can be explained by the predictors. This again suggests that the pandemic has been worse in some countries than others. Furthermore, it seems as if there remain meaningful differences between countries which are unaccounted for by country-specific quantitative variables in the data set. Finally, we can observe the coefficients for the month/year combinations and note that December, 2020 seems to have been the most deadly month in the pandemic worldwide."
   ]
  },
  {
   "cell_type": "markdown",
   "metadata": {},
   "source": [
    "The last piece of analysis we will do concering the OLS Linear Regression models is to check the validity of the assumptions associated with the model. Recall that in addition to assuming that the correct relationship between the predictors and response was linear (inductive bias) we also assumed... \n",
    "\n",
    "1.) the observations are independent\n",
    "\n",
    "2.) the error terms $\\epsilon_i$ follow a normal disribution with mean $0$\n",
    "\n",
    "3.) the error terms $\\epsilon_i$ have a constant variance equal to $\\sigma^2$\n",
    "\n",
    "We now check each of these assumptions for both of our models. We will use the models containing dummy variables for the country and month/year to check the validity of the assumptions. Our methods for checking the assumptions rely on the residuals of our model which are actual minus the fitted values, or more formally, $e_i = Y_i-\\hat{Y_i}$."
   ]
  },
  {
   "cell_type": "code",
   "execution_count": 27,
   "metadata": {},
   "outputs": [
    {
     "name": "stdout",
     "output_type": "stream",
     "text": [
      "Durbin-Watson Test Statistic - Cases Model: 0.7779617121070759\n",
      "Durbin-Watson Test Statistic - Deaths Model: 0.6542500607764681\n"
     ]
    }
   ],
   "source": [
    "from statsmodels.stats.stattools import durbin_watson\n",
    "print('Durbin-Watson Test Statistic - Cases Model: ' + str(durbin_watson(est_dummy_fit_cases.resid)))\n",
    "print('Durbin-Watson Test Statistic - Deaths Model: ' + str(durbin_watson(est_dummy_fit_deaths.resid)))"
   ]
  },
  {
   "cell_type": "markdown",
   "metadata": {},
   "source": [
    "Above are the test statistics for Durbin-Watson Tests for both of our linear regression models. Durbin-Watson tests are used to detirmine is a sample has autocorrelation/serial correlation. The null hypothesis is $H_0:$ no serial correlation is present. This is one way of detirmining if assumption #1, that are observations are independent holds. The test statistic for the Durbin-Watson test looks like, $\\frac{\\sum_{i=2}^{N}(e_i-e_{i-1})^2}{\\sum_{i=1}^{N}e_i^2}$. A rule of thumb is that a Durbin-Watson test statistic value in the range $[1.5,2.5]$ signals no autocorrelation. Since both of our test statistic fall outside of this range we conclude that our data is serially correlated and thus likely to not be independent. This makes sense since our response is time series data and the number of new cases and new deaths on one day will be dependent on the number of new cases and new deaths on the previous day."
   ]
  },
  {
   "cell_type": "code",
   "execution_count": 28,
   "metadata": {},
   "outputs": [
    {
     "name": "stderr",
     "output_type": "stream",
     "text": [
      "/Users/dprinster/anaconda3/envs/MachineLearning/lib/python3.9/site-packages/statsmodels/graphics/gofplots.py:993: UserWarning: marker is redundantly defined by the 'marker' keyword argument and the fmt string \"bo\" (-> marker='o'). The keyword argument will take precedence.\n",
      "  ax.plot(x, y, fmt, **plot_style)\n",
      "/Users/dprinster/anaconda3/envs/MachineLearning/lib/python3.9/site-packages/statsmodels/graphics/gofplots.py:993: UserWarning: marker is redundantly defined by the 'marker' keyword argument and the fmt string \"bo\" (-> marker='o'). The keyword argument will take precedence.\n",
      "  ax.plot(x, y, fmt, **plot_style)\n"
     ]
    },
    {
     "data": {
      "image/png": "[encoded data removed]",
      "text/plain": [
       "<Figure size 1152x576 with 2 Axes>"
      ]
     },
     "metadata": {
      "needs_background": "light"
     },
     "output_type": "display_data"
    }
   ],
   "source": [
    "import scipy.stats as stats\n",
    "figure, ax = plt.subplots(1, 2,figsize=(16,8))\n",
    "figure.figsize=(8, 8)\n",
    "sm.qqplot(est_dummy_fit_cases.resid, stats.norm, fit=True, line=\"45\", ax = ax[0])\n",
    "ax[0].set_title('Residual vs. Normal Quantile-Quantile Plot - Cases Model')\n",
    "ax[0].set_ylabel('Sample Residual Quantiles')\n",
    "ax[0].set_xlabel('Theoretical Normal Quantiles')\n",
    "sm.qqplot(est_dummy_fit_deaths.resid, stats.norm, fit=True, line=\"45\", ax = ax[1])\n",
    "ax[1].set_title('Residual vs. Normal Quantile-Quantile Plot - Deaths Model')\n",
    "ax[1].set_ylabel('Sample Residual Quantiles')\n",
    "ax[1].set_xlabel('Theoretical Normal Quantiles')\n",
    "plt.show()"
   ]
  },
  {
   "cell_type": "markdown",
   "metadata": {},
   "source": [
    "The plots above can be used to detirmine the validity of assumption #2. More specifically such Quantile Quantile plots can be used as a visual guide to detirmine if a sample of points follows a given probabaility distribution. QQ-Plots accomplish this by comparing the quantiles of the sampled points with the quantiles of the given distribution. If the sample does indeed follow the distribution the points in the QQ-Plot will closely follow the $45^\\circ$ line. Here we are interested in detirmining if the residuals follow a normal distribution. It appears they do not. The points lying above the line suggest that the response variables are skewed right, rather than bell-shaped. This makes sense as the pandemic has impacted some countries to an extraordinary degree."
   ]
  },
  {
   "cell_type": "code",
   "execution_count": 29,
   "metadata": {},
   "outputs": [
    {
     "data": {
      "image/png": "[encoded data removed]",
      "text/plain": [
       "<Figure size 1152x576 with 2 Axes>"
      ]
     },
     "metadata": {
      "needs_background": "light"
     },
     "output_type": "display_data"
    }
   ],
   "source": [
    "figure, ax = plt.subplots(1, 2,figsize=(16,8))\n",
    "figure.figsize=(8, 8)\n",
    "ax[0].scatter(x = est_dummy_fit_cases.fittedvalues, y = est_dummy_fit_cases.resid, s=8, alpha=0.5)\n",
    "ax[0].set_title('Residual vs. Fitted Value - Cases Model')\n",
    "ax[0].set_ylabel('Residual Value')\n",
    "ax[0].set_xlabel('Fitted Value')\n",
    "ax[1].scatter(x = est_dummy_fit_deaths.fittedvalues, y = est_dummy_fit_deaths.resid, s=8, alpha=0.5)\n",
    "ax[1].set_title('Residual vs. Fitted Value - Deaths Model')\n",
    "ax[1].set_ylabel('Residual Value')\n",
    "ax[1].set_xlabel('Fitted Value')\n",
    "plt.show()"
   ]
  },
  {
   "cell_type": "markdown",
   "metadata": {},
   "source": [
    "The above plots can be used to check for the validity of assumption #3. We are primarily concerned about the presence of heteroscedasticity, or non-constant variance, in which case $\\epsilon_i$ do not all have the same variance of $\\sigma^2$. If the assumption is valid the residuals will look like a random scattering of points that deviate from 0 by approximately the same amount as the fitted value changes. However, the plots above do not show a random scattering, instead we see a predominant straight line, which is odd. We suspect this may be due to the response variable being constant for over some domain of our predictors. For example, just as an unfounded hypothesis, there could be issues with data reliability such that countries report the same amount of new cases/new deaths multiple days in a row."
   ]
  },
  {
   "cell_type": "markdown",
   "metadata": {},
   "source": [
    "We see that to varying degrees none of the assumptions associated with linear regression hold. While this does not completely invlidate the model it does mean that any conclusions drawn should be taken with a grain of salt. We now explore generalized linear models (GLM) which make less assumptions to see if we can acheive better results."
   ]
  },
  {
   "cell_type": "markdown",
   "metadata": {},
   "source": [
    "### 1.3 Generalized Linear Models"
   ]
  },
  {
   "cell_type": "markdown",
   "metadata": {},
   "source": [
    "#### 1.3.1 Base model for COVID-19 cases: Negative binomial regression with VIFs for assessing multicollinearity and AIC for model selection"
   ]
  },
  {
   "cell_type": "code",
   "execution_count": 30,
   "metadata": {},
   "outputs": [],
   "source": [
    "import pandas as pd\n",
    "import numpy as np\n",
    "import os\n",
    "from patsy import dmatrices\n",
    "import statsmodels.api as sm\n",
    "from statsmodels.stats.outliers_influence import variance_inflation_factor"
   ]
  },
  {
   "cell_type": "markdown",
   "metadata": {},
   "source": [
    "The link function \"links\" the predictors to the response variable, and it is sensitive to the distribution of the response variable. So, we plot the response variable distirbution below to decide what link function to use for the GLM. The histogram for the response variable \"new_cases_smoothed_per_million\" looks like a Poisson or Negative Binomial distribution, both of which are used for modeling counts data (where the outcomes are natural numbers), so at first glance either a Poisson or Negative Binomial regression might be worth exploring. However, the Poisson regression makes a strict assumption that the mean and the variance of the response are equal (which is often not true in practice), whereas the Negative Binomial distribution is more flexible by lacking this assumption. So, we proceed with a Negative Binomial regression.\n",
    "\n"
   ]
  },
  {
   "cell_type": "code",
   "execution_count": 31,
   "metadata": {},
   "outputs": [
    {
     "data": {
      "text/plain": [
       "<AxesSubplot:>"
      ]
     },
     "execution_count": 31,
     "metadata": {},
     "output_type": "execute_result"
    },
    {
     "data": {
      "image/png": "[encoded data removed]",
      "text/plain": [
       "<Figure size 432x288 with 1 Axes>"
      ]
     },
     "metadata": {
      "needs_background": "light"
     },
     "output_type": "display_data"
    }
   ],
   "source": [
    "## GLM for naive model\n",
    "\n",
    "\n",
    "## Load data like for OLS\n",
    "path_full = os.path.join(personal_path, \"Data/biweekly_imputed_old_fixed.csv\")\n",
    "df = pd.read_csv(path_full)\n",
    "df.replace([np.inf, -np.inf], np.nan, inplace=True)\n",
    "\n",
    "df.dropna(inplace=True)\n",
    "y_cases = df['new_cases_smoothed_per_million']\n",
    "X_cases = df.drop(['non_who', 'Unnamed: 0', 'date', 'iso_code','month_yr','new_cases_smoothed_per_million', 'new_deaths_smoothed_per_million'], axis = 1)\n",
    "\n",
    "## Only samples with outcomes greater than 0 make sense for Negative Binomial GLM, which assumes that outcome is counts data\n",
    "df.replace([np.inf, -np.inf], np.nan, inplace=True)\n",
    "X_cases = X_cases.loc[y_cases>0,:]\n",
    "y_cases = y_cases.loc[y_cases>0]\n",
    "\n",
    "y_cases.hist(bins=30)\n"
   ]
  },
  {
   "cell_type": "markdown",
   "metadata": {},
   "source": [
    "While pairwise correlations between variables are adequate for reducing collinearity between predictors in regression, such pairwise correlations as done with OLS may not capture multicolinearity, which is when multiple outcomes may be jointly correlated. Specifically, three outcomes may be correlated in a way so that a pairwise correlation is not evident, which would make such correlations difficult to pick up on with the pairwise correlation method. Variance inflation factors (VIFs) allow for assessing multicollinearity in the data."
   ]
  },
  {
   "cell_type": "code",
   "execution_count": 32,
   "metadata": {},
   "outputs": [
    {
     "data": {
      "text/html": [
       "<div>\n",
       "<style scoped>\n",
       "    .dataframe tbody tr th:only-of-type {\n",
       "        vertical-align: middle;\n",
       "    }\n",
       "\n",
       "    .dataframe tbody tr th {\n",
       "        vertical-align: top;\n",
       "    }\n",
       "\n",
       "    .dataframe thead th {\n",
       "        text-align: right;\n",
       "    }\n",
       "</style>\n",
       "<table border=\"1\" class=\"dataframe\">\n",
       "  <thead>\n",
       "    <tr style=\"text-align: right;\">\n",
       "      <th></th>\n",
       "      <th>VIF Factor</th>\n",
       "      <th>features</th>\n",
       "    </tr>\n",
       "  </thead>\n",
       "  <tbody>\n",
       "    <tr>\n",
       "      <th>2</th>\n",
       "      <td>4.113730</td>\n",
       "      <td>people_fully_vaccinated_per_hundred</td>\n",
       "    </tr>\n",
       "    <tr>\n",
       "      <th>3</th>\n",
       "      <td>6.727115</td>\n",
       "      <td>new_vaccinations_smoothed_per_million</td>\n",
       "    </tr>\n",
       "    <tr>\n",
       "      <th>6</th>\n",
       "      <td>1.395745</td>\n",
       "      <td>population_density</td>\n",
       "    </tr>\n",
       "    <tr>\n",
       "      <th>9</th>\n",
       "      <td>8.697057</td>\n",
       "      <td>aged_70_older</td>\n",
       "    </tr>\n",
       "    <tr>\n",
       "      <th>10</th>\n",
       "      <td>5.111803</td>\n",
       "      <td>gdp_per_capita</td>\n",
       "    </tr>\n",
       "    <tr>\n",
       "      <th>11</th>\n",
       "      <td>1.688542</td>\n",
       "      <td>extreme_poverty</td>\n",
       "    </tr>\n",
       "    <tr>\n",
       "      <th>12</th>\n",
       "      <td>6.344914</td>\n",
       "      <td>cardiovasc_death_rate</td>\n",
       "    </tr>\n",
       "    <tr>\n",
       "      <th>13</th>\n",
       "      <td>6.830437</td>\n",
       "      <td>diabetes_prevalence</td>\n",
       "    </tr>\n",
       "    <tr>\n",
       "      <th>14</th>\n",
       "      <td>7.105730</td>\n",
       "      <td>female_smokers</td>\n",
       "    </tr>\n",
       "    <tr>\n",
       "      <th>15</th>\n",
       "      <td>9.598580</td>\n",
       "      <td>male_smokers</td>\n",
       "    </tr>\n",
       "    <tr>\n",
       "      <th>18</th>\n",
       "      <td>4.586042</td>\n",
       "      <td>daily_people_vaccinated_per_hundred</td>\n",
       "    </tr>\n",
       "    <tr>\n",
       "      <th>20</th>\n",
       "      <td>1.212149</td>\n",
       "      <td>Beta</td>\n",
       "    </tr>\n",
       "    <tr>\n",
       "      <th>21</th>\n",
       "      <td>1.099302</td>\n",
       "      <td>Epsilon</td>\n",
       "    </tr>\n",
       "    <tr>\n",
       "      <th>22</th>\n",
       "      <td>1.314766</td>\n",
       "      <td>Gamma</td>\n",
       "    </tr>\n",
       "    <tr>\n",
       "      <th>23</th>\n",
       "      <td>1.025449</td>\n",
       "      <td>Kappa</td>\n",
       "    </tr>\n",
       "    <tr>\n",
       "      <th>24</th>\n",
       "      <td>1.064342</td>\n",
       "      <td>Iota</td>\n",
       "    </tr>\n",
       "    <tr>\n",
       "      <th>25</th>\n",
       "      <td>1.062111</td>\n",
       "      <td>Eta</td>\n",
       "    </tr>\n",
       "    <tr>\n",
       "      <th>26</th>\n",
       "      <td>4.546349</td>\n",
       "      <td>Delta</td>\n",
       "    </tr>\n",
       "    <tr>\n",
       "      <th>27</th>\n",
       "      <td>2.052438</td>\n",
       "      <td>Alpha</td>\n",
       "    </tr>\n",
       "    <tr>\n",
       "      <th>28</th>\n",
       "      <td>1.331993</td>\n",
       "      <td>Lambda</td>\n",
       "    </tr>\n",
       "    <tr>\n",
       "      <th>29</th>\n",
       "      <td>1.007701</td>\n",
       "      <td>Mu</td>\n",
       "    </tr>\n",
       "  </tbody>\n",
       "</table>\n",
       "</div>"
      ],
      "text/plain": [
       "    VIF Factor                               features\n",
       "2     4.113730    people_fully_vaccinated_per_hundred\n",
       "3     6.727115  new_vaccinations_smoothed_per_million\n",
       "6     1.395745                     population_density\n",
       "9     8.697057                          aged_70_older\n",
       "10    5.111803                         gdp_per_capita\n",
       "11    1.688542                        extreme_poverty\n",
       "12    6.344914                  cardiovasc_death_rate\n",
       "13    6.830437                    diabetes_prevalence\n",
       "14    7.105730                         female_smokers\n",
       "15    9.598580                           male_smokers\n",
       "18    4.586042    daily_people_vaccinated_per_hundred\n",
       "20    1.212149                                   Beta\n",
       "21    1.099302                                Epsilon\n",
       "22    1.314766                                  Gamma\n",
       "23    1.025449                                  Kappa\n",
       "24    1.064342                                   Iota\n",
       "25    1.062111                                    Eta\n",
       "26    4.546349                                  Delta\n",
       "27    2.052438                                  Alpha\n",
       "28    1.331993                                 Lambda\n",
       "29    1.007701                                     Mu"
      ]
     },
     "execution_count": 32,
     "metadata": {},
     "output_type": "execute_result"
    }
   ],
   "source": [
    "## Use variance inflation factors to remove variables with multicollinearity\n",
    "\n",
    "vif = pd.DataFrame()\n",
    "vif[\"VIF Factor\"] = [variance_inflation_factor(X_cases.values, i) for i in range(X_cases.shape[1])]\n",
    "vif[\"features\"] = X_cases.columns\n",
    "\n",
    "## Use variance inflation factor threshold of 10\n",
    "while max(vif['VIF Factor']) > 10:\n",
    "    ## Drop the variable with highest VIF value\n",
    "    X_cases.drop([vif.loc[vif['VIF Factor'].idxmax(),'features']], axis=1, inplace = True)\n",
    "    vif.drop([vif['VIF Factor'].idxmax()], axis=0, inplace = True)\n",
    "    vif[\"VIF Factor\"] = [variance_inflation_factor(X_cases.values, i) for i in range(X_cases.shape[1])]\n",
    "    \n",
    "vif\n",
    "\n"
   ]
  },
  {
   "cell_type": "markdown",
   "metadata": {},
   "source": [
    "Backwards AIC is used for model selection to balance model fit and parsimony. AIC allows for choosing a good fitting, parsimonious model without removing variables based on their significance, which could cause issues with multiple comparison problems. AIC is used for model selection with the \"stepAIC\" package in R. "
   ]
  },
  {
   "cell_type": "code",
   "execution_count": 33,
   "metadata": {},
   "outputs": [],
   "source": [
    "## AIC is used for model selection with the \"stepAIC\" package in R. \n",
    "\n",
    "X_cases.to_csv(personal_path + 'Data/GLM_Xcases_before_selection.csv')\n",
    "y_cases.to_csv(personal_path + 'Data/GLM_ycases_before_selection.csv')\n",
    "\n",
    "## Model selection using AIC in R\n",
    "X_cases_selected = X_cases[['new_vaccinations_smoothed_per_million', 'population_density', 'aged_70_older', 'gdp_per_capita', 'cardiovasc_death_rate', 'diabetes_prevalence', 'female_smokers', 'male_smokers', 'daily_people_vaccinated_per_hundred', 'Epsilon', 'Gamma', 'Eta', 'Delta', 'Alpha', 'Lambda']]\n"
   ]
  },
  {
   "cell_type": "code",
   "execution_count": 34,
   "metadata": {},
   "outputs": [
    {
     "name": "stdout",
     "output_type": "stream",
     "text": [
      "Base model AIC: 25597.887507892276\n",
      "Base model Summary:\n",
      "                        Generalized Linear Model Regression Results                        \n",
      "==========================================================================================\n",
      "Dep. Variable:     new_cases_smoothed_per_million   No. Observations:                 2162\n",
      "Model:                                        GLM   Df Residuals:                     2146\n",
      "Model Family:                    NegativeBinomial   Df Model:                           15\n",
      "Link Function:                                log   Scale:                          1.0000\n",
      "Method:                                      IRLS   Log-Likelihood:                -12783.\n",
      "Date:                            Mon, 13 Dec 2021   Deviance:                       3522.7\n",
      "Time:                                    05:25:57   Pearson chi2:                 3.81e+03\n",
      "No. Iterations:                                13                                         \n",
      "Covariance Type:                        nonrobust                                         \n",
      "=========================================================================================================\n",
      "                                            coef    std err          z      P>|z|      [0.025      0.975]\n",
      "---------------------------------------------------------------------------------------------------------\n",
      "const                                     3.1639      0.110     28.796      0.000       2.949       3.379\n",
      "new_vaccinations_smoothed_per_million -2.994e-05   1.22e-05     -2.452      0.014   -5.39e-05   -6.01e-06\n",
      "population_density                       -0.0002   2.09e-05     -9.184      0.000      -0.000      -0.000\n",
      "aged_70_older                             0.0408      0.007      5.825      0.000       0.027       0.054\n",
      "gdp_per_capita                         9.831e-06   1.31e-06      7.490      0.000    7.26e-06    1.24e-05\n",
      "cardiovasc_death_rate                     0.0004      0.000      1.449      0.147      -0.000       0.001\n",
      "diabetes_prevalence                       0.0678      0.008      8.990      0.000       0.053       0.083\n",
      "female_smokers                            0.0237      0.003      7.984      0.000       0.018       0.029\n",
      "male_smokers                             -0.0019      0.002     -1.006      0.314      -0.006       0.002\n",
      "daily_people_vaccinated_per_hundred       0.5288      0.152      3.470      0.001       0.230       0.828\n",
      "Epsilon                                   0.0150      0.017      0.881      0.379      -0.018       0.048\n",
      "Gamma                                     0.0147      0.002      7.193      0.000       0.011       0.019\n",
      "Eta                                      -0.0534      0.008     -6.452      0.000      -0.070      -0.037\n",
      "Delta                                     0.0056      0.001      8.773      0.000       0.004       0.007\n",
      "Alpha                                     0.0041      0.001      4.684      0.000       0.002       0.006\n",
      "Lambda                                    0.0128      0.004      3.107      0.002       0.005       0.021\n",
      "=========================================================================================================\n"
     ]
    },
    {
     "name": "stderr",
     "output_type": "stream",
     "text": [
      "/Users/dprinster/anaconda3/envs/MachineLearning/lib/python3.9/site-packages/statsmodels/tsa/tsatools.py:142: FutureWarning: In a future version of pandas all arguments of concat except for the argument 'objs' will be keyword-only\n",
      "  x = pd.concat(x[::order], 1)\n"
     ]
    }
   ],
   "source": [
    "#add a column of ones for the intercept term\n",
    "\n",
    "X_cases_selected = sm.add_constant(X_cases_selected)\n",
    "est_full = sm.GLM(y_cases, X_cases_selected, family=sm.families.NegativeBinomial())\n",
    "est_full_fit = est_full.fit()\n",
    "print('Base model AIC:', est_full_fit.aic)\n",
    "print('Base model Summary:\\n', est_full_fit.summary())"
   ]
  },
  {
   "cell_type": "markdown",
   "metadata": {},
   "source": [
    "#### 1.3.2 COVID-19 cases model with added date and country information"
   ]
  },
  {
   "cell_type": "markdown",
   "metadata": {},
   "source": [
    "#### 1.3.3 COVID-19 cases model with log-ratio transformed variants data to account for compositionality"
   ]
  },
  {
   "cell_type": "markdown",
   "metadata": {},
   "source": [
    "#### 1.3.4 Base model for COVID-19 deaths: Negative binomial regression with VIFs for assessing multicollinearity and AIC for model selection"
   ]
  },
  {
   "cell_type": "code",
   "execution_count": 37,
   "metadata": {},
   "outputs": [
    {
     "data": {
      "text/plain": [
       "<AxesSubplot:>"
      ]
     },
     "execution_count": 37,
     "metadata": {},
     "output_type": "execute_result"
    },
    {
     "data": {
      "image/png": "[encoded data removed]",
      "text/plain": [
       "<Figure size 432x288 with 1 Axes>"
      ]
     },
     "metadata": {
      "needs_background": "light"
     },
     "output_type": "display_data"
    }
   ],
   "source": [
    "## GLM for naive model\n",
    "\n",
    "\n",
    "## Load data like for OLS\n",
    "path_full = os.path.join(personal_path, \"Data/biweekly_imputed_old_fixed.csv\")\n",
    "df = pd.read_csv(path_full)\n",
    "df.replace([np.inf, -np.inf], np.nan, inplace=True)\n",
    "\n",
    "df.dropna(inplace=True)\n",
    "y_deaths = df['new_deaths_smoothed_per_million']\n",
    "X_deaths = df.drop(['non_who', 'Unnamed: 0', 'date', 'iso_code','month_yr','new_cases_smoothed_per_million', 'new_deaths_smoothed_per_million'], axis = 1)\n",
    "\n",
    "## Only samples with outcomes greater than 0 make sense for Negative Binomial GLM, which assumes that outcome is counts data\n",
    "df.replace([np.inf, -np.inf], np.nan, inplace=True)\n",
    "X_deaths = X_deaths.loc[y_deaths>0,:]\n",
    "y_deaths = y_deaths.loc[y_deaths>0]\n",
    "\n",
    "y_deaths.hist(bins=30)\n",
    "\n"
   ]
  },
  {
   "cell_type": "code",
   "execution_count": 38,
   "metadata": {},
   "outputs": [
    {
     "data": {
      "text/html": [
       "<div>\n",
       "<style scoped>\n",
       "    .dataframe tbody tr th:only-of-type {\n",
       "        vertical-align: middle;\n",
       "    }\n",
       "\n",
       "    .dataframe tbody tr th {\n",
       "        vertical-align: top;\n",
       "    }\n",
       "\n",
       "    .dataframe thead th {\n",
       "        text-align: right;\n",
       "    }\n",
       "</style>\n",
       "<table border=\"1\" class=\"dataframe\">\n",
       "  <thead>\n",
       "    <tr style=\"text-align: right;\">\n",
       "      <th></th>\n",
       "      <th>VIF Factor</th>\n",
       "      <th>features</th>\n",
       "    </tr>\n",
       "  </thead>\n",
       "  <tbody>\n",
       "    <tr>\n",
       "      <th>2</th>\n",
       "      <td>4.213517</td>\n",
       "      <td>people_fully_vaccinated_per_hundred</td>\n",
       "    </tr>\n",
       "    <tr>\n",
       "      <th>3</th>\n",
       "      <td>6.826195</td>\n",
       "      <td>new_vaccinations_smoothed_per_million</td>\n",
       "    </tr>\n",
       "    <tr>\n",
       "      <th>6</th>\n",
       "      <td>1.290195</td>\n",
       "      <td>population_density</td>\n",
       "    </tr>\n",
       "    <tr>\n",
       "      <th>9</th>\n",
       "      <td>8.708496</td>\n",
       "      <td>aged_70_older</td>\n",
       "    </tr>\n",
       "    <tr>\n",
       "      <th>10</th>\n",
       "      <td>4.960619</td>\n",
       "      <td>gdp_per_capita</td>\n",
       "    </tr>\n",
       "    <tr>\n",
       "      <th>11</th>\n",
       "      <td>1.694263</td>\n",
       "      <td>extreme_poverty</td>\n",
       "    </tr>\n",
       "    <tr>\n",
       "      <th>12</th>\n",
       "      <td>6.406257</td>\n",
       "      <td>cardiovasc_death_rate</td>\n",
       "    </tr>\n",
       "    <tr>\n",
       "      <th>13</th>\n",
       "      <td>6.706414</td>\n",
       "      <td>diabetes_prevalence</td>\n",
       "    </tr>\n",
       "    <tr>\n",
       "      <th>14</th>\n",
       "      <td>7.048154</td>\n",
       "      <td>female_smokers</td>\n",
       "    </tr>\n",
       "    <tr>\n",
       "      <th>15</th>\n",
       "      <td>9.480840</td>\n",
       "      <td>male_smokers</td>\n",
       "    </tr>\n",
       "    <tr>\n",
       "      <th>18</th>\n",
       "      <td>4.687530</td>\n",
       "      <td>daily_people_vaccinated_per_hundred</td>\n",
       "    </tr>\n",
       "    <tr>\n",
       "      <th>20</th>\n",
       "      <td>1.217753</td>\n",
       "      <td>Beta</td>\n",
       "    </tr>\n",
       "    <tr>\n",
       "      <th>21</th>\n",
       "      <td>1.096262</td>\n",
       "      <td>Epsilon</td>\n",
       "    </tr>\n",
       "    <tr>\n",
       "      <th>22</th>\n",
       "      <td>1.323992</td>\n",
       "      <td>Gamma</td>\n",
       "    </tr>\n",
       "    <tr>\n",
       "      <th>23</th>\n",
       "      <td>1.032502</td>\n",
       "      <td>Kappa</td>\n",
       "    </tr>\n",
       "    <tr>\n",
       "      <th>24</th>\n",
       "      <td>1.066042</td>\n",
       "      <td>Iota</td>\n",
       "    </tr>\n",
       "    <tr>\n",
       "      <th>25</th>\n",
       "      <td>1.061339</td>\n",
       "      <td>Eta</td>\n",
       "    </tr>\n",
       "    <tr>\n",
       "      <th>26</th>\n",
       "      <td>4.533718</td>\n",
       "      <td>Delta</td>\n",
       "    </tr>\n",
       "    <tr>\n",
       "      <th>27</th>\n",
       "      <td>2.061351</td>\n",
       "      <td>Alpha</td>\n",
       "    </tr>\n",
       "    <tr>\n",
       "      <th>28</th>\n",
       "      <td>1.341178</td>\n",
       "      <td>Lambda</td>\n",
       "    </tr>\n",
       "    <tr>\n",
       "      <th>29</th>\n",
       "      <td>1.007858</td>\n",
       "      <td>Mu</td>\n",
       "    </tr>\n",
       "  </tbody>\n",
       "</table>\n",
       "</div>"
      ],
      "text/plain": [
       "    VIF Factor                               features\n",
       "2     4.213517    people_fully_vaccinated_per_hundred\n",
       "3     6.826195  new_vaccinations_smoothed_per_million\n",
       "6     1.290195                     population_density\n",
       "9     8.708496                          aged_70_older\n",
       "10    4.960619                         gdp_per_capita\n",
       "11    1.694263                        extreme_poverty\n",
       "12    6.406257                  cardiovasc_death_rate\n",
       "13    6.706414                    diabetes_prevalence\n",
       "14    7.048154                         female_smokers\n",
       "15    9.480840                           male_smokers\n",
       "18    4.687530    daily_people_vaccinated_per_hundred\n",
       "20    1.217753                                   Beta\n",
       "21    1.096262                                Epsilon\n",
       "22    1.323992                                  Gamma\n",
       "23    1.032502                                  Kappa\n",
       "24    1.066042                                   Iota\n",
       "25    1.061339                                    Eta\n",
       "26    4.533718                                  Delta\n",
       "27    2.061351                                  Alpha\n",
       "28    1.341178                                 Lambda\n",
       "29    1.007858                                     Mu"
      ]
     },
     "execution_count": 38,
     "metadata": {},
     "output_type": "execute_result"
    }
   ],
   "source": [
    "## Use variance inflation factors to remove variables with multicollinearity\n",
    "\n",
    "vif = pd.DataFrame()\n",
    "vif[\"VIF Factor\"] = [variance_inflation_factor(X_deaths.values, i) for i in range(X_deaths.shape[1])]\n",
    "vif[\"features\"] = X_deaths.columns\n",
    "\n",
    "## Use variance inflation factor threshold of 10\n",
    "while max(vif['VIF Factor']) > 10:\n",
    "    ## Drop the variable with highest VIF value\n",
    "    X_deaths.drop([vif.loc[vif['VIF Factor'].idxmax(),'features']], axis=1, inplace = True)\n",
    "    vif.drop([vif['VIF Factor'].idxmax()], axis=0, inplace = True)\n",
    "    vif[\"VIF Factor\"] = [variance_inflation_factor(X_deaths.values, i) for i in range(X_deaths.shape[1])]\n",
    "    \n",
    "vif"
   ]
  },
  {
   "cell_type": "code",
   "execution_count": 40,
   "metadata": {},
   "outputs": [],
   "source": [
    "## AIC is used for model selection with the \"stepAIC\" package in R. \n",
    "\n",
    "X_deaths.to_csv(personal_path + 'Data/GLM_Xdeaths_before_selection.csv')\n",
    "y_deaths.to_csv(personal_path + 'Data/GLM_ydeaths_before_selection.csv')\n",
    "\n",
    "## Model selection using AIC in R\n",
    "X_deaths_selected = X_deaths[['people_fully_vaccinated_per_hundred', 'new_vaccinations_smoothed_per_million', 'population_density', 'aged_70_older', 'gdp_per_capita', 'cardiovasc_death_rate', 'diabetes_prevalence', 'female_smokers', 'daily_people_vaccinated_per_hundred', 'Epsilon', 'Gamma', 'Eta', 'Alpha', 'Lambda']]\n"
   ]
  },
  {
   "cell_type": "code",
   "execution_count": 41,
   "metadata": {},
   "outputs": [
    {
     "name": "stdout",
     "output_type": "stream",
     "text": [
      "Base model AIC: 8278.44651083182\n",
      "Base model Summary:\n",
      "                         Generalized Linear Model Regression Results                        \n",
      "===========================================================================================\n",
      "Dep. Variable:     new_deaths_smoothed_per_million   No. Observations:                 2039\n",
      "Model:                                         GLM   Df Residuals:                     2024\n",
      "Model Family:                     NegativeBinomial   Df Model:                           14\n",
      "Link Function:                                 log   Scale:                          1.0000\n",
      "Method:                                       IRLS   Log-Likelihood:                -4124.2\n",
      "Date:                             Mon, 13 Dec 2021   Deviance:                       1815.5\n",
      "Time:                                     05:36:33   Pearson chi2:                 3.74e+04\n",
      "No. Iterations:                                 13                                         \n",
      "Covariance Type:                         nonrobust                                         \n",
      "=========================================================================================================\n",
      "                                            coef    std err          z      P>|z|      [0.025      0.975]\n",
      "---------------------------------------------------------------------------------------------------------\n",
      "const                                     0.0018      0.132      0.013      0.989      -0.256       0.260\n",
      "people_fully_vaccinated_per_hundred      -0.0097      0.002     -6.052      0.000      -0.013      -0.007\n",
      "new_vaccinations_smoothed_per_million -3.068e-05   1.61e-05     -1.902      0.057   -6.23e-05    9.43e-07\n",
      "population_density                       -0.0003   5.32e-05     -5.070      0.000      -0.000      -0.000\n",
      "aged_70_older                             0.0454      0.008      5.343      0.000       0.029       0.062\n",
      "gdp_per_capita                        -7.728e-06   1.73e-06     -4.461      0.000   -1.11e-05   -4.33e-06\n",
      "cardiovasc_death_rate                     0.0006      0.000      1.950      0.051   -3.14e-06       0.001\n",
      "diabetes_prevalence                       0.0512      0.009      5.544      0.000       0.033       0.069\n",
      "female_smokers                            0.0195      0.003      6.109      0.000       0.013       0.026\n",
      "daily_people_vaccinated_per_hundred       0.4856      0.203      2.398      0.016       0.089       0.883\n",
      "Epsilon                                   0.0461      0.019      2.450      0.014       0.009       0.083\n",
      "Gamma                                     0.0127      0.002      5.828      0.000       0.008       0.017\n",
      "Eta                                      -0.2696      0.054     -5.003      0.000      -0.375      -0.164\n",
      "Alpha                                     0.0031      0.001      3.103      0.002       0.001       0.005\n",
      "Lambda                                    0.0267      0.004      6.524      0.000       0.019       0.035\n",
      "=========================================================================================================\n"
     ]
    },
    {
     "name": "stderr",
     "output_type": "stream",
     "text": [
      "/Users/dprinster/anaconda3/envs/MachineLearning/lib/python3.9/site-packages/statsmodels/tsa/tsatools.py:142: FutureWarning: In a future version of pandas all arguments of concat except for the argument 'objs' will be keyword-only\n",
      "  x = pd.concat(x[::order], 1)\n"
     ]
    }
   ],
   "source": [
    "#add a column of ones for the intercept term\n",
    "\n",
    "X_deaths_selected = sm.add_constant(X_deaths_selected)\n",
    "est_full = sm.GLM(y_deaths, X_deaths_selected, family=sm.families.NegativeBinomial())\n",
    "est_full_fit = est_full.fit()\n",
    "print('Base model AIC:', est_full_fit.aic)\n",
    "print('Base model Summary:\\n', est_full_fit.summary())"
   ]
  },
  {
   "cell_type": "markdown",
   "metadata": {},
   "source": [
    "#### 1.3.5 COVID-19 deaths model with added date and country information"
   ]
  },
  {
   "cell_type": "markdown",
   "metadata": {},
   "source": [
    "#### 1.3.6 COVID-19 deaths model with log-ratio transformed variants data to account for compositionality"
   ]
  },
  {
   "cell_type": "markdown",
   "metadata": {},
   "source": [
    "## Part 2: Recurrent Neural Networks"
   ]
  },
  {
   "cell_type": "markdown",
   "metadata": {},
   "source": [
    "Given the time-stepped granularity of the COVID-19 data available, we experiment with recurrent neural networks in order to determine if there is a relationship between features collected over a certain time period and the change in COVID cases over the same time period. \n",
    "\n",
    "We use RNNs to model these temporal relationships. We choose RNNs because they are a class of neural network models that are applicable to time series forecasting, a machine learning task where training occurs over a set time period and prediction occurs over a separate time period following training [5]. \n",
    "\n",
    "We now use an RNN to examine if daily COVID-19 outcomes, specifically the number of new cases per million, can be forecasted using COVID-19 data from previous days. "
   ]
  },
  {
   "cell_type": "markdown",
   "metadata": {},
   "source": [
    "### 2.1 Imputation Methodology"
   ]
  },
  {
   "cell_type": "code",
   "execution_count": 19,
   "metadata": {},
   "outputs": [],
   "source": [
    "from sklearn.model_selection import train_test_split\n",
    "from sklearn.experimental import enable_iterative_imputer\n",
    "from sklearn.impute import IterativeImputer\n",
    "from sklearn.linear_model import BayesianRidge\n",
    "import math\n",
    "from torch.utils.data import TensorDataset, DataLoader\n",
    "import torch\n",
    "import torch.nn as nn\n",
    "import torch.optim as optim"
   ]
  },
  {
   "cell_type": "markdown",
   "metadata": {},
   "source": [
    "Since variant data is available only for biweekly time increments and is missing for many countries, we exclude it. The other variables in our datasets are available for each individual day, so by considering these daily variables, we will be able to provide our models are larger data sample to learn from, instead of being greatly limited by the limited amount of variant data. \n",
    "\n",
    "Below, we visualize the missing data present in the dataset over each individual date rather than sampled biweekly."
   ]
  },
  {
   "cell_type": "code",
   "execution_count": 20,
   "metadata": {},
   "outputs": [
    {
     "data": {
      "image/png": "[encoded data removed]",
      "text/plain": [
       "<Figure size 864x432 with 1 Axes>"
      ]
     },
     "metadata": {
      "needs_background": "light"
     },
     "output_type": "display_data"
    }
   ],
   "source": [
    "# Read data \n",
    "path_covid = os.path.join(personal_path, \"Data/full.csv\")\n",
    "df = pd.read_csv(path_covid)\n",
    "\n",
    "# Create plot showing the missingness of each feature\n",
    "plt.figure(figsize=(12, 6))\n",
    "plt.bar(x=np.arange(0, len(df.columns)), height = np.sort(df.isna().sum() / len(df))[::-1])\n",
    "plt.title('Proportion of Missingness in Each Feature')\n",
    "plt.show()"
   ]
  },
  {
   "cell_type": "markdown",
   "metadata": {},
   "source": [
    "As we found during development of the linear regression models, there are quite a few features that are almost entirely missing or have a high proportion of their data missing. We once again choose to remove these variables from our analysis because imputation is unlikely to provide accurate values for these features considering how much data is missing. We look at the drop off in missingness between the 34rd and 35th variable, which have about 80% and 60% missing data, respectively. As a result, we again choose a threshold of 65% missingness to remove variables with a lot of missing data. "
   ]
  },
  {
   "cell_type": "code",
   "execution_count": 13,
   "metadata": {},
   "outputs": [
    {
     "data": {
      "text/plain": [
       "Index(['iso_code', 'date', 'continent', 'location', 'total_cases', 'new_cases',\n",
       "       'new_cases_smoothed', 'total_deaths', 'new_deaths',\n",
       "       'new_deaths_smoothed', 'total_cases_per_million',\n",
       "       'new_cases_per_million', 'new_cases_smoothed_per_million',\n",
       "       'total_deaths_per_million', 'new_deaths_per_million',\n",
       "       'new_deaths_smoothed_per_million', 'reproduction_rate', 'new_tests',\n",
       "       'total_tests', 'total_tests_per_thousand', 'new_tests_per_thousand',\n",
       "       'new_tests_smoothed', 'new_tests_smoothed_per_thousand',\n",
       "       'positive_rate', 'tests_per_case', 'tests_units',\n",
       "       'new_vaccinations_smoothed', 'new_vaccinations_smoothed_per_million',\n",
       "       'new_people_vaccinated_smoothed',\n",
       "       'new_people_vaccinated_smoothed_per_hundred', 'stringency_index',\n",
       "       'population', 'population_density', 'median_age', 'aged_65_older',\n",
       "       'aged_70_older', 'gdp_per_capita', 'extreme_poverty',\n",
       "       'cardiovasc_death_rate', 'diabetes_prevalence', 'female_smokers',\n",
       "       'male_smokers', 'handwashing_facilities', 'hospital_beds_per_thousand',\n",
       "       'life_expectancy', 'human_development_index', 'daily_people_vaccinated',\n",
       "       'daily_people_vaccinated_per_hundred', 'daily_vaccinations',\n",
       "       'daily_vaccinations_per_million'],\n",
       "      dtype='object')"
      ]
     },
     "execution_count": 13,
     "metadata": {},
     "output_type": "execute_result"
    }
   ],
   "source": [
    "# Consider only columns with less than 65% missing data, for imputation viability\n",
    "df = df.loc[:, df.isna().sum() / len(df) < 0.65]\n",
    "df.columns"
   ]
  },
  {
   "cell_type": "markdown",
   "metadata": {},
   "source": [
    "We prepare some additional columns to help with the construction of time series data that our RNN will need. The date column will now contain a DateTime object to represent the date that is already in the dataframe, and the date_delta column calculates the number of dates between each date and the earliest date in the dataframe."
   ]
  },
  {
   "cell_type": "code",
   "execution_count": 14,
   "metadata": {},
   "outputs": [],
   "source": [
    "# Prepare datetime and create date_delta float variable.\n",
    "df['date'] = pd.to_datetime(df['date'])\n",
    "df['date_delta'] = (df['date'] - df['date'].min())  / np.timedelta64(1,'D')\n",
    "\n",
    "# Select the relevant predictors.\n",
    "df_sub = df[['date_delta','new_tests',\n",
    "       'total_tests', 'total_tests_per_thousand', 'new_tests_per_thousand',\n",
    "       'new_tests_smoothed', 'new_tests_smoothed_per_thousand',\n",
    "       'positive_rate',\n",
    "       'new_vaccinations_smoothed', 'new_vaccinations_smoothed_per_million',\n",
    "       'new_people_vaccinated_smoothed',\n",
    "       'new_people_vaccinated_smoothed_per_hundred','daily_people_vaccinated',\n",
    "       'daily_people_vaccinated_per_hundred', 'daily_vaccinations',\n",
    "       'daily_vaccinations_per_million']]\n",
    "y = df[['new_cases_per_million']] # This is the field we want to predict"
   ]
  },
  {
   "cell_type": "markdown",
   "metadata": {},
   "source": [
    "We provide a visualization of the missingness of features we include in the RNN. Each of these features has under 60% missingness, so imputation will be required to fill in the missing values. "
   ]
  },
  {
   "cell_type": "code",
   "execution_count": 15,
   "metadata": {},
   "outputs": [
    {
     "data": {
      "image/png": "[encoded data removed]",
      "text/plain": [
       "<Figure size 864x432 with 1 Axes>"
      ]
     },
     "metadata": {
      "needs_background": "light"
     },
     "output_type": "display_data"
    }
   ],
   "source": [
    "# Create a plot of the missingness of each feature in our list of predictors.\n",
    "plt.figure(figsize=(12, 6))\n",
    "plt.bar(x=df_sub.columns, height = df_sub.isna().sum() / len(df_sub))\n",
    "plt.title('Proportion of Missingness in Each Feature')\n",
    "plt.xticks(rotation=90)\n",
    "plt.show()"
   ]
  },
  {
   "cell_type": "markdown",
   "metadata": {},
   "source": [
    "We create an 80/10/10 training/dev/test split for our time-stepped dataset.\n",
    "\n",
    "We also use similar imputation methods that are similar to the ones we used for the linear regression models. This includes an IterativeImputer to impute the predictor variables. We then fill the small percentage of missing y variables with a simple forward fill. "
   ]
  },
  {
   "cell_type": "code",
   "execution_count": 58,
   "metadata": {},
   "outputs": [
    {
     "name": "stderr",
     "output_type": "stream",
     "text": [
      "/home/neha/.local/lib/python3.8/site-packages/sklearn/impute/_iterative.py:699: ConvergenceWarning: [IterativeImputer] Early stopping criterion not reached.\n",
      "  warnings.warn(\n"
     ]
    }
   ],
   "source": [
    "from sklearn.model_selection import train_test_split\n",
    "from sklearn.experimental import enable_iterative_imputer\n",
    "from sklearn.impute import IterativeImputer\n",
    "from sklearn.linear_model import BayesianRidge\n",
    "import torch.nn as nn\n",
    "\n",
    "# Test-train split\n",
    "train_X, validtest_X, train_y, validtest_y = train_test_split(df_sub, y, train_size = 0.8, random_state = 42, shuffle=False)\n",
    "valid_X, test_X, valid_y, test_y = train_test_split(validtest_X, validtest_y, train_size = 0.5, random_state = 42, shuffle=False)\n",
    "\n",
    "# Impute predictor variables using IterativeImputer\n",
    "imputer_split = IterativeImputer(estimator = BayesianRidge(), max_iter = 30, min_value = df_sub.min(axis=0), max_value = df_sub.max(axis=0), random_state=42)\n",
    "train_X_imputed = pd.DataFrame(imputer_split.fit_transform(train_X))\n",
    "valid_X_imputed = pd.DataFrame(imputer_split.transform(valid_X))\n",
    "test_X_imputed = pd.DataFrame(imputer_split.transform(test_X))\n",
    "train_X_imputed.columns = df_sub.columns\n",
    "valid_X_imputed.columns = df_sub.columns\n",
    "test_X_imputed.columns = df_sub.columns"
   ]
  },
  {
   "cell_type": "code",
   "execution_count": null,
   "metadata": {},
   "outputs": [],
   "source": [
    "# Impute response variable using forward fill.\n",
    "train_y_imputed = train_y.fillna(method='ffill').fillna(0)\n",
    "valid_y_imputed = valid_y.fillna(method='ffill')\n",
    "test_y_imputed = test_y.fillna(method='ffill').fillna(0)"
   ]
  },
  {
   "cell_type": "markdown",
   "metadata": {},
   "source": [
    "Now that the data has been imputed, we scale the data using a MinMaxScaler. "
   ]
  },
  {
   "cell_type": "code",
   "execution_count": null,
   "metadata": {},
   "outputs": [],
   "source": [
    "from sklearn.preprocessing import MinMaxScaler\n",
    "scaler = MinMaxScaler()\n",
    "X_train_arr = pd.DataFrame(scaler.fit_transform(train_X_imputed))\n",
    "X_val_arr = pd.DataFrame(scaler.transform(valid_X_imputed))\n",
    "X_test_arr = pd.DataFrame(scaler.transform(test_X_imputed))"
   ]
  },
  {
   "cell_type": "code",
   "execution_count": null,
   "metadata": {},
   "outputs": [],
   "source": [
    "y_train_arr = scaler.fit_transform(train_y_imputed)\n",
    "y_val_arr = scaler.transform(valid_y_imputed)\n",
    "y_test_arr = scaler.transform(test_y_imputed)"
   ]
  },
  {
   "cell_type": "code",
   "execution_count": null,
   "metadata": {},
   "outputs": [],
   "source": [
    "print(np.any(np.isnan(X_train_arr)))\n",
    "print(np.any(np.isnan(y_train_arr)))"
   ]
  },
  {
   "cell_type": "code",
   "execution_count": null,
   "metadata": {},
   "outputs": [],
   "source": [
    "X_train_arr.columns = df_sub.columns\n",
    "X_val_arr.columns = df_sub.columns\n",
    "X_test_arr.columns = df_sub.columns"
   ]
  },
  {
   "cell_type": "markdown",
   "metadata": {},
   "source": [
    "We split the data into time series data that our RNN model will be able to use. We provide the model with sequences of 5 days of data, so the function `make_time_stepped()` takes a parameter of t=5. "
   ]
  },
  {
   "cell_type": "code",
   "execution_count": 41,
   "metadata": {},
   "outputs": [],
   "source": [
    "# Function to organize the data into time series data for a given number of timesteps `t`\n",
    "def make_time_stepped(X, X_old, y, t):\n",
    "    X_new = []\n",
    "    y_new = []\n",
    "    for i in range(math.floor(len(y) / t)):\n",
    "        start_date = X_old.iloc[t*i]['date_delta']\n",
    "        data_side = X_old.iloc[t*i:t*i + t]['date_delta']\n",
    "        check_side = [start_date + j for j in range(t)]\n",
    "        equality_condition = (data_side == check_side).all()\n",
    "        if len(X.iloc[t*i:t*i + t]) == t:\n",
    "            if equality_condition:\n",
    "                y_new.append(y[t*i:t*i + t].sum()) #delta cases\n",
    "                X_new.append(X[t*i:t*i + t])\n",
    "    return X_new, np.array(y_new)"
   ]
  },
  {
   "cell_type": "code",
   "execution_count": null,
   "metadata": {},
   "outputs": [],
   "source": [
    "t = 5\n",
    "train_X_timed, train_y_timed = make_time_stepped(X_train_arr, train_X_imputed, y_train_arr, t)\n",
    "valid_X_timed, valid_y_timed = make_time_stepped(X_val_arr, valid_X_imputed,y_val_arr, t)\n",
    "test_X_timed, test_y_timed = make_time_stepped(X_test_arr, test_X_imputed, y_test_arr, t)"
   ]
  },
  {
   "cell_type": "code",
   "execution_count": null,
   "metadata": {},
   "outputs": [],
   "source": [
    "train_X_timed = np.moveaxis(np.dstack(train_X_timed), 2, 0)\n",
    "valid_X_timed = np.moveaxis(np.dstack(valid_X_timed), 2, 0)\n",
    "test_X_timed = np.moveaxis(np.dstack(test_X_timed), 2, 0)"
   ]
  },
  {
   "cell_type": "markdown",
   "metadata": {},
   "source": [
    "Our dataset is finally prepared for training our models. "
   ]
  },
  {
   "cell_type": "markdown",
   "metadata": {},
   "source": [
    "### 2.2 Recurrent Neural Network Models\n",
    "\n",
    "Our RNN code is adapted from [this tutorial [6]](https://towardsdatascience.com/building-rnn-lstm-and-gru-for-time-series-using-pytorch-a46e5b094e7b).\n",
    "\n",
    "Our first step is to make the training, validation, and test sets into tensors. We then combine the predictor variable tensors and response variable tensors into TensorDatasets and load the TensorDatasets into a DataLoader."
   ]
  },
  {
   "cell_type": "code",
   "execution_count": 59,
   "metadata": {},
   "outputs": [],
   "source": [
    "from torch.utils.data import TensorDataset, DataLoader\n",
    "import torch\n",
    "\n",
    "batch_size = 64\n",
    "\n",
    "# Convert all feature and outcome numpy arrays into tensors\n",
    "train_features = torch.Tensor(train_X_timed)\n",
    "train_targets = torch.Tensor(train_y_timed)\n",
    "val_features = torch.Tensor(valid_X_timed)\n",
    "val_targets = torch.Tensor(valid_y_timed)\n",
    "test_features = torch.Tensor(test_X_timed)\n",
    "test_targets = torch.Tensor(test_y_timed)\n",
    "\n",
    "# Combine feature and outcome tensors into TensorDatasets\n",
    "train = TensorDataset(train_features, train_targets)\n",
    "val = TensorDataset(val_features, val_targets)\n",
    "test = TensorDataset(test_features, test_targets)\n",
    "\n",
    "# Load TensorDatasets into DataLoader\n",
    "train_loader = DataLoader(train, batch_size=batch_size, shuffle=False, drop_last=True)\n",
    "val_loader = DataLoader(val, batch_size=batch_size, shuffle=False, drop_last=True)\n",
    "test_loader = DataLoader(test, batch_size=batch_size, shuffle=False, drop_last=True)\n",
    "test_loader_one = DataLoader(test, batch_size=1, shuffle=False, drop_last=True)"
   ]
  },
  {
   "cell_type": "markdown",
   "metadata": {},
   "source": [
    "We then define the RNN model class, which includes parameters including an input dimension, output dimension (which will be 1 for us, since we are predicting one response variable, the # of new cases per million people), hidden dimension, layer dimension, and a dropout rate. The LSTM class takes similar parameters. We also define forward propagation methods for both classes."
   ]
  },
  {
   "cell_type": "code",
   "execution_count": 18,
   "metadata": {},
   "outputs": [
    {
     "ename": "NameError",
     "evalue": "name 'nn' is not defined",
     "output_type": "error",
     "traceback": [
      "\u001b[0;31m---------------------------------------------------------------------------\u001b[0m",
      "\u001b[0;31mNameError\u001b[0m                                 Traceback (most recent call last)",
      "\u001b[0;32m<ipython-input-18-75d949d70bb7>\u001b[0m in \u001b[0;36m<module>\u001b[0;34m\u001b[0m\n\u001b[1;32m      2\u001b[0m \u001b[0mRNN\u001b[0m \u001b[0mModel\u001b[0m \u001b[0;32mclass\u001b[0m\u001b[0;34m\u001b[0m\u001b[0;34m\u001b[0m\u001b[0m\n\u001b[1;32m      3\u001b[0m \"\"\"\n\u001b[0;32m----> 4\u001b[0;31m \u001b[0;32mclass\u001b[0m \u001b[0mRNNModel\u001b[0m\u001b[0;34m(\u001b[0m\u001b[0mnn\u001b[0m\u001b[0;34m.\u001b[0m\u001b[0mModule\u001b[0m\u001b[0;34m)\u001b[0m\u001b[0;34m:\u001b[0m\u001b[0;34m\u001b[0m\u001b[0;34m\u001b[0m\u001b[0m\n\u001b[0m\u001b[1;32m      5\u001b[0m     \u001b[0;32mdef\u001b[0m \u001b[0m__init__\u001b[0m\u001b[0;34m(\u001b[0m\u001b[0mself\u001b[0m\u001b[0;34m,\u001b[0m \u001b[0minput_dim\u001b[0m\u001b[0;34m,\u001b[0m \u001b[0mhidden_dim\u001b[0m\u001b[0;34m,\u001b[0m \u001b[0mlayer_dim\u001b[0m\u001b[0;34m,\u001b[0m \u001b[0moutput_dim\u001b[0m\u001b[0;34m,\u001b[0m \u001b[0mdropout_prob\u001b[0m\u001b[0;34m)\u001b[0m\u001b[0;34m:\u001b[0m\u001b[0;34m\u001b[0m\u001b[0;34m\u001b[0m\u001b[0m\n\u001b[1;32m      6\u001b[0m         \u001b[0msuper\u001b[0m\u001b[0;34m(\u001b[0m\u001b[0mRNNModel\u001b[0m\u001b[0;34m,\u001b[0m \u001b[0mself\u001b[0m\u001b[0;34m)\u001b[0m\u001b[0;34m.\u001b[0m\u001b[0m__init__\u001b[0m\u001b[0;34m(\u001b[0m\u001b[0;34m)\u001b[0m\u001b[0;34m\u001b[0m\u001b[0;34m\u001b[0m\u001b[0m\n",
      "\u001b[0;31mNameError\u001b[0m: name 'nn' is not defined"
     ]
    }
   ],
   "source": [
    "\"\"\"\n",
    "RNN Model class\n",
    "\"\"\"\n",
    "class RNNModel(nn.Module):\n",
    "    def __init__(self, input_dim, hidden_dim, layer_dim, output_dim, dropout_prob):\n",
    "        super(RNNModel, self).__init__()\n",
    "        # Set hidden dimension and layer dimension\n",
    "        self.hidden_dim = hidden_dim\n",
    "        self.layer_dim = layer_dim\n",
    "        self.rnn = nn.RNN(input_dim, hidden_dim, layer_dim, batch_first=True, dropout=dropout_prob) # RNN layer\n",
    "        self.fc = nn.Linear(hidden_dim, output_dim)  # Fully connected layer\n",
    "    def forward(self, x):\n",
    "        h0 = torch.zeros(self.layer_dim, x.size(0), self.hidden_dim, device=device).requires_grad_()\n",
    "        out, h0 = self.rnn(x, h0.detach())\n",
    "        out = out[:, -1, :] # Last hidden goes thru\n",
    "        out = self.fc(out)\n",
    "        return out\n",
    "  \n",
    "\"\"\"\n",
    "LSTM Model class\n",
    "\"\"\"\n",
    "class LSTMModel(nn.Module):\n",
    "    def __init__(self, input_dim, hidden_dim, layer_dim, output_dim, dropout_prob, device):\n",
    "        super(LSTMModel, self).__init__()\n",
    "        # Set hidden dimension and layer dimension\n",
    "        self.hidden_dim = hidden_dim  \n",
    "        self.layer_dim = layer_dim  \n",
    "        self.lstm = nn.LSTM(input_dim, hidden_dim, layer_dim, batch_first=True, dropout=dropout_prob) # LSTM layer\n",
    "        self.fc = nn.Linear(hidden_dim, output_dim)  # Fully connected layer\n",
    "\n",
    "    def forward(self, x):\n",
    "        # Initialize hidden state and cell state with zeros\n",
    "        h0 = torch.zeros(self.layer_dim, x.size(0), self.hidden_dim, device=device).requires_grad_()\n",
    "        c0 = torch.zeros(self.layer_dim, x.size(0), self.hidden_dim, device=device).requires_grad_()\n",
    "        # Detach in order to allow for truncated backprop\n",
    "        out, (hn, cn) = self.lstm(x, (h0.detach(), c0.detach()))\n",
    "        out = out[:, -1, :]\n",
    "        out = self.fc(out)\n",
    "        return out"
   ]
  },
  {
   "cell_type": "code",
   "execution_count": null,
   "metadata": {},
   "outputs": [],
   "source": [
    "# Function to return the model corresponding to the provided string (either 'rnn' or 'lstm')\n",
    "def get_model(model, model_params):\n",
    "    models = {\n",
    "        \"rnn\": RNNModel,\n",
    "        \"lstm\": LSTMModel,\n",
    "    }\n",
    "    return models.get(model.lower())(**model_params)"
   ]
  },
  {
   "cell_type": "markdown",
   "metadata": {},
   "source": [
    "We set up GPU access. "
   ]
  },
  {
   "cell_type": "code",
   "execution_count": null,
   "metadata": {},
   "outputs": [],
   "source": [
    "device = \"cuda\" if torch.cuda.is_available() else \"cpu\""
   ]
  },
  {
   "cell_type": "markdown",
   "metadata": {},
   "source": [
    "We create an Optimization class to examine the loss (given a loss function `loss_fn`, which will be mean squared error), perform back propagation, and update the parameters. It also zeros the gradients before finishing the training step between batches. In the `train()` function, the loss on training data is used to update parameters, and then the model at each epoch is evaluated used validation data. We define the `evaluate()` function so that predictions can be made for the test set of data. "
   ]
  },
  {
   "cell_type": "code",
   "execution_count": 17,
   "metadata": {},
   "outputs": [],
   "source": [
    "class Optimization:\n",
    "    def __init__(self, model, loss_fn, optimizer):\n",
    "        self.model = model\n",
    "        self.loss_fn = loss_fn  # Loss function\n",
    "        self.optimizer = optimizer\n",
    "        # Variables to store training and validation losses\n",
    "        self.train_losses = []\n",
    "        self.val_losses = []\n",
    "    \n",
    "    def train_step(self, x, y):\n",
    "        self.model.train()\n",
    "        yhat = self.model(x)  # Prediction\n",
    "        loss = self.loss_fn(y, yhat)  # Calculate loss\n",
    "        loss.backward()  # Backprop \n",
    "        self.optimizer.step()  # Update params\n",
    "        self.optimizer.zero_grad()  # Zero gradients\n",
    "        return loss.item()\n",
    "    \n",
    "    def train(self, train_loader, val_loader, model_path, batch_size=64, n_epochs=50, n_features=1):\n",
    "        for epoch in range(1, n_epochs + 1):\n",
    "            batch_losses = []\n",
    "            # Use training data\n",
    "            for x_batch, y_batch in train_loader:\n",
    "                x_batch = x_batch.view([batch_size, -1, n_features]).to(device)\n",
    "                y_batch = y_batch.to(device)\n",
    "                loss = self.train_step(x_batch, y_batch)  # Calculate loss for this train step\n",
    "                batch_losses.append(loss)\n",
    "            training_loss = np.mean(batch_losses)\n",
    "            self.train_losses.append(training_loss)\n",
    "\n",
    "            with torch.no_grad():\n",
    "                batch_val_losses = []\n",
    "                # Use validation data\n",
    "                for x_val, y_val in val_loader:\n",
    "                    x_val = x_val.view([batch_size, -1, n_features]).to(device)\n",
    "                    y_val = y_val.to(device)\n",
    "                    self.model.eval()\n",
    "                    yhat = self.model(x_val)  # Make prediction\n",
    "                    val_loss = self.loss_fn(y_val, yhat).item()  \n",
    "                    batch_val_losses.append(val_loss)\n",
    "                validation_loss = np.mean(batch_val_losses)  # Find average loss for vlidation data\n",
    "                self.val_losses.append(validation_loss)\n",
    "\n",
    "            if (epoch % 50 == 0):\n",
    "                print(\n",
    "                    f\"[{epoch}/{n_epochs}] Training loss: {training_loss:.4f}\\t Validation loss: {validation_loss:.4f}\"\n",
    "                )\n",
    "\n",
    "        torch.save(self.model.state_dict(), model_path)\n",
    "    \n",
    "    # Get predictions and values for evaluating perforance on test data\n",
    "    def evaluate(self, test_loader, batch_size=1, n_features=1):\n",
    "        with torch.no_grad():\n",
    "            predictions = []\n",
    "            values = []\n",
    "            # Use test data\n",
    "            for x_test, y_test in test_loader:\n",
    "                x_test = x_test.view([batch_size, -1, n_features]).to(device)\n",
    "                y_test = y_test.to(device)\n",
    "                self.model.eval()\n",
    "                yhat = self.model(x_test)  # Make prediction\n",
    "                predictions.append(yhat.to(device).detach().numpy())\n",
    "                values.append(y_test.to(device).detach().numpy())\n",
    "\n",
    "        return predictions, values\n",
    "    \n",
    "    # Create a line plot of training and validation loss for the training process\n",
    "    def plot_losses(self):\n",
    "        plt.plot(self.train_losses, label=\"Training loss\")\n",
    "        plt.plot(self.val_losses, label=\"Validation loss\")\n",
    "        plt.legend()\n",
    "        plt.title(\"Losses\")\n",
    "        plt.show()"
   ]
  },
  {
   "cell_type": "markdown",
   "metadata": {},
   "source": [
    "We experimented with a variety of settings for the model's parameters: `hidden_dim`, `layer_dim`, `dropout`, `n_epochs`, `learning_rate`, and `weight_decay`. For each model parameter setting, we passed the parameters to an RNN model. \n",
    "\n",
    "We used mean square error as our loss function, `loss_fn`, because it is a standard loss function for regression problems like ours. This loss function was used in the `Optimization` class. As part of training, we called the methods belonging to the `Optimization` class, including `train()`, which then executed the `train_step()` function to tune the model parameters. \n",
    "\n",
    "After training, we generate a plot of the losses over the epochs to show how training loss and validation loss changed with additional training. "
   ]
  },
  {
   "cell_type": "code",
   "execution_count": null,
   "metadata": {},
   "outputs": [],
   "source": [
    "input_dim = len(train_X.columns)\n",
    "output_dim = 1\n",
    "hidden_dim = 24\n",
    "layer_dim = 2\n",
    "dropout = 0.3\n",
    "n_epochs = 300 # Train for more epochs\n",
    "learning_rate = 1e-3\n",
    "weight_decay = 1e-6\n",
    "\n",
    "model_params = {'input_dim': input_dim,\n",
    "                'hidden_dim' : hidden_dim,\n",
    "                'layer_dim' : layer_dim,\n",
    "                'output_dim' : output_dim,\n",
    "                'dropout_prob' : dropout}\n",
    "\n",
    "model = get_model('rnn', model_params)  # Pass the params to RNN model\n",
    "model = model.to(device)  # Change this line if you want a different model ('rnn')\n",
    "\n",
    "loss_fn = nn.MSELoss(reduction=\"mean\")\n",
    "optimizer = optim.Adam(model.parameters(), lr=learning_rate, weight_decay=weight_decay)\n",
    "\n",
    "opt = Optimization(model=model, loss_fn=loss_fn, optimizer=optimizer)\n",
    "opt.train(train_loader, val_loader, 'models/rnn_start.pt', batch_size=batch_size, n_epochs=n_epochs, n_features=input_dim)\n",
    "opt.plot_losses()"
   ]
  },
  {
   "cell_type": "markdown",
   "metadata": {},
   "source": [
    "We obtain predictions on the test data using the final, trained model. With these predictions, we can then further examine the performance of the model by looking at its performance on data it has never seen before. "
   ]
  },
  {
   "cell_type": "code",
   "execution_count": null,
   "metadata": {},
   "outputs": [],
   "source": [
    "predictions, values = opt.evaluate(test_loader_one, batch_size=1, n_features=input_dim)"
   ]
  },
  {
   "cell_type": "code",
   "execution_count": null,
   "metadata": {},
   "outputs": [],
   "source": [
    "input_dim = len(train_X.columns)\n",
    "output_dim = 1\n",
    "hidden_dim = 24\n",
    "layer_dim = 1\n",
    "dropout = 0.2\n",
    "n_epochs = 10000 #train for more epochs\n",
    "learning_rate = 1e-3\n",
    "weight_decay = 1e-6\n",
    "\n",
    "model_params = {'input_dim': input_dim,\n",
    "                'hidden_dim' : hidden_dim,\n",
    "                'layer_dim' : layer_dim,\n",
    "                'output_dim' : output_dim,\n",
    "                'dropout_prob' : dropout}\n",
    "\n",
    "model = get_model('lstm', model_params)\n",
    "model = model.to(device)  # Change this line if you want a different model ('rnn')\n",
    "\n",
    "loss_fn = nn.MSELoss(reduction=\"mean\")\n",
    "optimizer = optim.Adam(model.parameters(), lr=learning_rate, weight_decay=weight_decay)\n",
    "\n",
    "opt = Optimization(model=model, loss_fn=loss_fn, optimizer=optimizer)\n",
    "opt.train(train_loader, val_loader, 'models/rnn_start.pt', batch_size=batch_size, n_epochs=n_epochs, n_features=input_dim)\n",
    "opt.plot_losses()\n",
    "\n",
    "predictions, values = opt.evaluate(test_loader_one, batch_size=1, n_features=input_dim)"
   ]
  },
  {
   "cell_type": "markdown",
   "metadata": {},
   "source": [
    "We calculate a few metrics to assess model performance: mean absolute error, mean squared error, and $r^2$."
   ]
  },
  {
   "cell_type": "code",
   "execution_count": null,
   "metadata": {},
   "outputs": [],
   "source": [
    "from sklearn.metrics import mean_absolute_error, mean_squared_error, r2_score\n",
    "def inverse_transform(scaler, df, columns):\n",
    "   for col in columns:\n",
    "       df[col] = scaler.inverse_transform(df[col])\n",
    "   return df\n",
    "\n",
    "def format_predictions(predictions, values, df_test):\n",
    "    vals = np.concatenate(values, axis=0).ravel()\n",
    "    preds = np.concatenate(predictions, axis=0).ravel()\n",
    "    df_result = pd.DataFrame(data={\"value\": vals, \"prediction\": preds}, index=df_test.head(len(vals)).index)\n",
    "    df_result = df_result.sort_index()\n",
    "    df_result = inverse_transform(scaler, df_result, [[\"value\", \"prediction\"]])\n",
    "    return df_result\n",
    "\n",
    "def calculate_metrics(df):\n",
    "    return {'mae' : mean_absolute_error(df.value, df.prediction),\n",
    "            'rmse' : mean_squared_error(df.value, df.prediction) ** 0.5,\n",
    "            'r2' : r2_score(df.value, df.prediction)}\n",
    "\n",
    "df_result = format_predictions(predictions, values, train_X)\n",
    "result_metrics = calculate_metrics(df_result)"
   ]
  },
  {
   "cell_type": "code",
   "execution_count": 22,
   "metadata": {},
   "outputs": [
    {
     "ename": "NameError",
     "evalue": "name 'result_metrics' is not defined",
     "output_type": "error",
     "traceback": [
      "\u001b[0;31m---------------------------------------------------------------------------\u001b[0m",
      "\u001b[0;31mNameError\u001b[0m                                 Traceback (most recent call last)",
      "\u001b[0;32m<ipython-input-22-ec695707b783>\u001b[0m in \u001b[0;36m<module>\u001b[0;34m\u001b[0m\n\u001b[0;32m----> 1\u001b[0;31m \u001b[0mresult_metrics\u001b[0m \u001b[0;31m#rnn\u001b[0m\u001b[0;34m\u001b[0m\u001b[0;34m\u001b[0m\u001b[0m\n\u001b[0m",
      "\u001b[0;31mNameError\u001b[0m: name 'result_metrics' is not defined"
     ]
    }
   ],
   "source": [
    "result_metrics #rnn"
   ]
  },
  {
   "cell_type": "code",
   "execution_count": null,
   "metadata": {},
   "outputs": [],
   "source": [
    "len(train_X_timed)"
   ]
  },
  {
   "cell_type": "code",
   "execution_count": null,
   "metadata": {},
   "outputs": [],
   "source": [
    "len(test_X_timed)"
   ]
  },
  {
   "cell_type": "code",
   "execution_count": null,
   "metadata": {},
   "outputs": [],
   "source": [
    "len(valid_X_timed)"
   ]
  },
  {
   "cell_type": "markdown",
   "metadata": {},
   "source": [
    "# Conclusions"
   ]
  },
  {
   "cell_type": "markdown",
   "metadata": {},
   "source": []
  },
  {
   "cell_type": "markdown",
   "metadata": {},
   "source": [
    "# References\n",
    "[1] Lucas Rodés-Guirao Cameron Appel Charlie Giattino Esteban Ortiz-Ospina Joe Hasell Bobbie Macdonald Diana Beltekian Hannah Ritchie,Edouard Mathieu and Max Roser. Coronavirus pandemic (COVID-19). Our World in Data, 2020. https://ourworldindata.org/coronavirus.\n",
    "\n",
    "[2] Alistair C Darby and Julian A Hiscox. COVID-19: variants and vaccination. BMJ, 372, 2021.\n",
    "\n",
    "[3] Chris Davis, Nicola Logan, Grace Tyson, Richard Orton, William Harvey, John Haughney, Jon Perkins, The COVID-19 Genomics UK (COG-UK) Consortium, Thomas P. Peacock, Wendy S. Barclay, Peter Cherepanov, Massimo Palmarini, Pablo R. Murcia, Arvind H. Patel, David L. Robertson, Emma C. Thomson, Brian J. Willett, and on behalf of the COVID-19 Deployed Vaccine (DOVE) Cohort Study investigators. Reduced neutralisation of the delta (b.1.617.2) Sars-cov-2 variant of concern following vaccination. medRxiv, 2021.\n",
    "\n",
    "[4] Our World in Data. (2021). owid/covid-19-data. GitHub. Retrieved November 7, 2021, from https://github.com/owid/covid-19-data/tree/master/public/data. \n",
    "\n",
    "[5] Ahmed Tealab. Time series forecasting using artificial neural networks methodologies: A systematic review. Future Computing and InformaticsJournal, 3(2):334–340, 2018.\n",
    "\n",
    "[6] Kuguoglu, K. (2021, April 14). Building RNN, LSTM, and GRU for time series using pytorch. Towards Data Science. Retrieved December 4, 2021, from https://towardsdatascience.com/building-rnn-lstm-and-gru-for-time-series-using-pytorch-a46e5b094e7b. "
   ]
  }
 ],
 "metadata": {
  "interpreter": {
   "hash": "f57d059d73ef4c451aada0e88ab41d26f66829c8e281233aea39c2964aa7cb46"
  },
  "kernelspec": {
   "display_name": "Python 3",
   "language": "python",
   "name": "python3"
  },
  "language_info": {
   "codemirror_mode": {
    "name": "ipython",
    "version": 3
   },
   "file_extension": ".py",
   "mimetype": "text/x-python",
   "name": "python",
   "nbconvert_exporter": "python",
   "pygments_lexer": "ipython3",
   "version": "3.8.8"
  }
 },
 "nbformat": 4,
 "nbformat_minor": 4
}
