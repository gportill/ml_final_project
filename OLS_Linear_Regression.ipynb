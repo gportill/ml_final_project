{
  "nbformat": 4,
  "nbformat_minor": 0,
  "metadata": {
    "colab": {
      "name": "Linear_Regression.ipynb",
      "provenance": [],
      "collapsed_sections": []
    },
    "kernelspec": {
      "name": "python3",
      "display_name": "Python 3"
    },
    "language_info": {
      "name": "python"
    }
  },
  "cells": [
    {
      "cell_type": "code",
      "execution_count": 52,
      "metadata": {
        "colab": {
          "base_uri": "https://localhost:8080/"
        },
        "id": "Vp3TYOHCd2LC",
        "outputId": "00271150-b760-4e3c-9238-6cc89426dccc"
      },
      "outputs": [
        {
          "output_type": "stream",
          "name": "stdout",
          "text": [
            "Drive already mounted at /content/drive; to attempt to forcibly remount, call drive.mount(\"/content/drive\", force_remount=True).\n"
          ]
        }
      ],
      "source": [
        "import numpy as np\n",
        "import pandas as pd\n",
        "import matplotlib.pyplot as plt\n",
        "import os\n",
        "\n",
        "#print options to data exploration\n",
        "pd.set_option('display.max_columns', None)\n",
        "pd.set_option('display.max_rows', 200)\n",
        "\n",
        "from google.colab import drive\n",
        "drive.mount('/content/drive')"
      ]
    },
    {
      "cell_type": "markdown",
      "source": [
        "To begin forming our linear regression models we load in our imputed data set."
      ],
      "metadata": {
        "id": "dXkdQeXIlVrO"
      }
    },
    {
      "cell_type": "code",
      "source": [
        "personal_path = '/content/drive/My Drive/'\n",
        "path_full = os.path.join(personal_path, \"biweekly_imputed_old.csv\")\n",
        "df = pd.read_csv(path_full)"
      ],
      "metadata": {
        "id": "g8gbwEcmd-Fl"
      },
      "execution_count": 63,
      "outputs": []
    },
    {
      "cell_type": "markdown",
      "source": [
        "For our first model the reponse will be the number of new Covid cases per million people on a particular day in a particular country. For now we not interested in predicting the reponse of future data points, rather we are interested in direct interpretation of the regression coefficients. Therefore, we forgo splitting the data into a train and test set. \n",
        "\n",
        "We also drop irrelevant/unineteresting features. For example, having the positive rate of Covid tests on a particular day will indeed be useful for predicting the number of new cases, but this relationship is fundamentally obvious. We want to uncover less intutive relationships.\n",
        "\n",
        "We hope most of the predictor names are sufficiently descriptive. One point of clarification is for the variant predictors such as Alpha, Mu, Delta, etc. correspond to proportion of cases in a specific country on a specific date attributed to each variant. Thus, the sum of the variant data should be 1 for every country on every date."
      ],
      "metadata": {
        "id": "4osV4fjCmR4g"
      }
    },
    {
      "cell_type": "code",
      "source": [
        "y = df['new_cases_smoothed_per_million']\n",
        "X = df.drop(['Unnamed: 0', 'new_cases_smoothed_per_million', 'date', 'total_cases_per_million','total_deaths_per_million','new_deaths_smoothed_per_million','total_tests_per_thousand','positive_rate','tests_per_case','hospital_beds_per_thousand','icu_patients_per_million','hosp_patients_per_million','iso_code','month_yr','population','reproduction_rate','new_tests_smoothed_per_thousand'], axis = 1)"
      ],
      "metadata": {
        "id": "ZtuAMPbNeRzT"
      },
      "execution_count": 64,
      "outputs": []
    },
    {
      "cell_type": "markdown",
      "source": [
        "Next, we examine the correlation between features in our data set. Recall that in a an Ordinary Least Squares Linear Regression we assume $Y_i = \\beta_0 + \\beta_1x_1 + \\beta_1x_1 +\\ldots + \\beta_kx_k + ϵ_i$ where we have $k$ features and $\\epsilon ~ \\sim \\mathcal{N}(0, \\sigma^2)$. Under these assumptions the associated likelihhod is $\\prod_i^n p(\\vec{x_i})\\cdot \\frac{1}{(2\\sigma^2\\pi)^{\\frac{1}{2}}} \\cdot exp\\{-\\frac{(y_i-(\\beta_0 + \\sum_{j=1}^k\\beta_jx_{ij}))^2}{2\\sigma^2}\\}$ and it can be shown that maximing this expression as a function of $\\vec{\\beta}$ is equivalent to minimizing $\\sum_{i=1}^n(y_i-(\\beta_0 + \\sum_{j=1}^k\\beta_jx_{ij}))^2$ in terms of $\\vec{\\beta}$. From here it follows that the regression coefficients can solved in closed form as $\\hat{\\vec{\\beta}} = (X^TX)^{-1}X^TY$ where $X$ is our design matrix (matrix of predictors + a column of 1s for an intercept term) and $Y$ is our vector of responses. Note that $\\hat{\\vec{\\beta}}$ depends on $(X^TX)^{-1}$ and that the latter expression will not be invertible if the columns of features are linearly dependent. Thus, if the columns of the design matrix are linearly dependent the OLS estimates for the coefficients cannot be solved for. Furthermore, by noting that $\\hat{\\vec{\\beta}} \\sim \\mathcal{N}(0, (X^TX)^{-1}\\sigma^2)$ we see that large values in $(X^TX)^{-1}$ will cause our coefficient estimates to be highly variable. Thus, we must also be careful to ensure that our design matrix is not near singluar as such a design matrix would yeild abnormally large values in $(X^TX)^{-1}$ and cause our estimates to be highly variable. To avoid this situation we analyze a correlation matrix of our features. Having features that are highly correlated will result in $(X^TX)^{-1}$ being near singular and so if a pair of features is highly correlated we will remove one of them. The plot below visualizes our correlation matrix. We are concerned about off-diagonal cells which are light green/yellow."
      ],
      "metadata": {
        "id": "jNRx1TFWn06P"
      }
    },
    {
      "cell_type": "code",
      "source": [
        "plt.figure(figsize=(8, 8))\n",
        "plt.matshow(X.corr(), fignum = 1)\n",
        "plt.colorbar()\n",
        "plt.title('Correlation Matrix of Features')\n",
        "plt.show()"
      ],
      "metadata": {
        "colab": {
          "base_uri": "https://localhost:8080/",
          "height": 481
        },
        "id": "gIerbPNznm_P",
        "outputId": "db95329c-1266-4b5a-8eb6-eb4393ccd245"
      },
      "execution_count": 65,
      "outputs": [
        {
          "output_type": "display_data",
          "data": {
            "image/png": "[encoded data removed]",
            "text/plain": [
              "<Figure size 576x576 with 2 Axes>"
            ]
          },
          "metadata": {
            "needs_background": "light"
          }
        }
      ]
    },
    {
      "cell_type": "markdown",
      "source": [
        "We now drop the highly correlated predictors from our design matrix. We use a threshold of 0.8 to identify highly correlated pairs."
      ],
      "metadata": {
        "id": "LknXvHnqz1n6"
      }
    },
    {
      "cell_type": "code",
      "source": [
        "X.drop(['non_who','people_vaccinated_per_hundred','people_fully_vaccinated_per_hundred','daily_vaccinations_per_million','new_people_vaccinated_smoothed_per_hundred','life_expectancy','aged_70_older','human_development_index'], axis = 1, inplace = True)"
      ],
      "metadata": {
        "id": "V4ex1m_fnn9e"
      },
      "execution_count": 66,
      "outputs": []
    },
    {
      "cell_type": "markdown",
      "source": [
        "We now fit our initial linear regression model. We display some verbose output from the regression below and analyze it in the proceeding cell."
      ],
      "metadata": {
        "id": "osSkWPZl31UC"
      }
    },
    {
      "cell_type": "code",
      "source": [
        "import statsmodels.api as sm\n",
        "\n",
        "#add a column of ones for the intercept term\n",
        "X_full = sm.add_constant(X)\n",
        "est_full = sm.OLS(y, X_full)\n",
        "est_full_fit = est_full.fit()\n",
        "print(est_full_fit.summary())"
      ],
      "metadata": {
        "colab": {
          "base_uri": "https://localhost:8080/"
        },
        "id": "bYbVwSd81WBH",
        "outputId": "cb83e986-8571-44a9-bb87-e9b3a86de05e"
      },
      "execution_count": 67,
      "outputs": [
        {
          "output_type": "stream",
          "name": "stdout",
          "text": [
            "                                  OLS Regression Results                                  \n",
            "==========================================================================================\n",
            "Dep. Variable:     new_cases_smoothed_per_million   R-squared:                       0.156\n",
            "Model:                                        OLS   Adj. R-squared:                  0.147\n",
            "Method:                             Least Squares   F-statistic:                     17.58\n",
            "Date:                            Fri, 10 Dec 2021   Prob (F-statistic):           7.25e-65\n",
            "Time:                                    19:52:35   Log-Likelihood:                -14732.\n",
            "No. Observations:                            2211   AIC:                         2.951e+04\n",
            "Df Residuals:                                2187   BIC:                         2.965e+04\n",
            "Df Model:                                      23                                         \n",
            "Covariance Type:                        nonrobust                                         \n",
            "=========================================================================================================\n",
            "                                            coef    std err          t      P>|t|      [0.025      0.975]\n",
            "---------------------------------------------------------------------------------------------------------\n",
            "const                                  -323.1052     40.635     -7.951      0.000    -402.793    -243.417\n",
            "total_vaccinations_per_hundred           -0.0257      0.163     -0.158      0.875      -0.344       0.293\n",
            "new_vaccinations_smoothed_per_million    -0.0031      0.002     -1.739      0.082      -0.007       0.000\n",
            "stringency_index                          3.0666      0.299     10.242      0.000       2.479       3.654\n",
            "population_density                       -0.0128      0.004     -3.382      0.001      -0.020      -0.005\n",
            "median_age                                5.6473      1.553      3.637      0.000       2.602       8.693\n",
            "aged_65_older                            -4.4384      1.887     -2.351      0.019      -8.140      -0.737\n",
            "gdp_per_capita                            0.0011      0.000      4.279      0.000       0.001       0.002\n",
            "extreme_poverty                          -0.1373      0.162     -0.849      0.396      -0.455       0.180\n",
            "cardiovasc_death_rate                     0.1543      0.056      2.776      0.006       0.045       0.263\n",
            "diabetes_prevalence                       0.4849      1.556      0.312      0.755      -2.567       3.537\n",
            "female_smokers                            3.8998      0.462      8.434      0.000       2.993       4.806\n",
            "male_smokers                             -0.4755      0.381     -1.249      0.212      -1.222       0.271\n",
            "daily_people_vaccinated_per_hundred      16.9692     15.651      1.084      0.278     -13.724      47.662\n",
            "Beta                                      0.4412      0.320      1.377      0.169      -0.187       1.069\n",
            "Epsilon                                   6.2110      3.097      2.005      0.045       0.137      12.285\n",
            "Gamma                                     1.9398      0.391      4.962      0.000       1.173       2.706\n",
            "Kappa                                    -2.3535      2.068     -1.138      0.255      -6.408       1.701\n",
            "Iota                                     -0.2564      2.240     -0.114      0.909      -4.648       4.136\n",
            "Eta                                       0.0592      1.425      0.042      0.967      -2.736       2.854\n",
            "Delta                                     1.0494      0.176      5.971      0.000       0.705       1.394\n",
            "Alpha                                     0.5255      0.166      3.170      0.002       0.200       0.851\n",
            "Lambda                                    0.3681      0.750      0.491      0.624      -1.103       1.839\n",
            "Mu                                       -2.1953      4.481     -0.490      0.624     -10.984       6.593\n",
            "==============================================================================\n",
            "Omnibus:                     1225.757   Durbin-Watson:                   0.532\n",
            "Prob(Omnibus):                  0.000   Jarque-Bera (JB):            10177.341\n",
            "Skew:                           2.523   Prob(JB):                         0.00\n",
            "Kurtosis:                      12.220   Cond. No.                     3.90e+05\n",
            "==============================================================================\n",
            "\n",
            "Warnings:\n",
            "[1] Standard Errors assume that the covariance matrix of the errors is correctly specified.\n",
            "[2] The condition number is large, 3.9e+05. This might indicate that there are\n",
            "strong multicollinearity or other numerical problems.\n"
          ]
        }
      ]
    },
    {
      "cell_type": "markdown",
      "source": [
        "The first value to consider is the $R^2$ value. This is a measure of goodeness of fit and is defined as $R^2=1-\\frac{\\sum_{i=1}^n(y_i-\\hat{y_i})^2}{\\sum_{i=1}^n(y_i-\\bar{y})^2}$. Evidently the closer $R^2$ is to 1 the better the model is at explaining the response. We will consider the adjusted $R^2$ value which penalizes for having many predictors. Such a penalty is logical since adding predictors to a linear regression model will only help its explanatory ability even if the added predictor is completly irrelavent. For our model $Adj. R^2 = 0.147$ which is rather low. Such a value can roughly be interpreted as meaning that the predictor variables account for 14.7% of the variability in the response variable. Nonetheless the model is not worthless. The $F-Test$ for overall model utility which has null hypothesis $H_0:$ our model and a model consisting of only an intercept term have the same explanatory capability, has a near zero p-value. Thus, we can conclude that the predictors do indeed have an effect on the response but they do not tell the entire story. We can also examine $t-tests$ for individual predictors. Each such test has the null hypothesis $H_0:$ the coefficient associated with the predictor is 0. Thus, if the p-value of such a test is large the predictor may not have any influence on the response and may be able to be removed without hindering the model. In our model, if we conduct the test at a 95% confidence level, the insignificant predictors are total vaccinations per hundred, new vaccinations smoothed per million, extreme poverty, diabetes prevalence, male smokers, daily people vaccinated per hundred, Beta, Kappa, Iota, Eta, Alpha, Lambda, and Mu. we now fit a model with these predictors removed and check to see if we can safetly justify their removal."
      ],
      "metadata": {
        "id": "TLWTJwhL5VuF"
      }
    },
    {
      "cell_type": "code",
      "source": [
        "from statsmodels.stats.anova import anova_lm\n",
        "X_nested = X.drop(['total_vaccinations_per_hundred','new_vaccinations_smoothed_per_million','extreme_poverty','diabetes_prevalence','male_smokers','daily_people_vaccinated_per_hundred','Beta','Kappa','Iota','Eta','Alpha','Lambda','Mu'], axis = 1)\n",
        "X_nested_const = sm.add_constant(X_nested)\n",
        "est_nested = sm.OLS(y, X_nested_const)\n",
        "est_nested_fit = est_nested.fit()\n",
        "print(anova_lm(est_nested_fit, est_full_fit))"
      ],
      "metadata": {
        "colab": {
          "base_uri": "https://localhost:8080/"
        },
        "id": "52HXed6GsHgv",
        "outputId": "da6b3db6-fe18-402e-af6a-a447cf7d633d"
      },
      "execution_count": 57,
      "outputs": [
        {
          "output_type": "stream",
          "name": "stdout",
          "text": [
            "   df_resid           ssr  df_diff       ss_diff         F    Pr(>F)\n",
            "0    2192.0  7.679890e+07      0.0           NaN       NaN       NaN\n",
            "1    2179.0  7.512923e+07     13.0  1.669668e+06  3.725075  0.000007\n"
          ]
        }
      ]
    },
    {
      "cell_type": "markdown",
      "source": [
        "The above output details an $F-Test$ for nested linear regression models. The null hypothesis is $H_0:$ all coeffcients present in the full model but not the nested model are 0. In other words the hypothesis test is detirmining if the nested model accounts for the just as much variance in the reponse as the full model. In our case the p-value is 0.243 and so we fail to reject th null hypothesis and we can justifiably reduce the model. It is interesting to note that the number of vaccinations administered in a country does not seem to significantly influence the number of cases in the country. This may suggest that vaccinations are not particularly effective at preventing infections. We now exmaine the coefficients of this nested model.\n"
      ],
      "metadata": {
        "id": "tFtpYzdbsFzS"
      }
    },
    {
      "cell_type": "code",
      "source": [
        "print(est_nested_fit.summary())"
      ],
      "metadata": {
        "colab": {
          "base_uri": "https://localhost:8080/"
        },
        "id": "OoD_ZzHPwFcz",
        "outputId": "fe054965-3889-4322-ce35-eca46b1be3d1"
      },
      "execution_count": 58,
      "outputs": [
        {
          "output_type": "stream",
          "name": "stdout",
          "text": [
            "                                  OLS Regression Results                                  \n",
            "==========================================================================================\n",
            "Dep. Variable:     new_cases_smoothed_per_million   R-squared:                       0.183\n",
            "Model:                                        OLS   Adj. R-squared:                  0.176\n",
            "Method:                             Least Squares   F-statistic:                     27.26\n",
            "Date:                            Fri, 10 Dec 2021   Prob (F-statistic):           4.90e-83\n",
            "Time:                                    19:45:23   Log-Likelihood:                -14696.\n",
            "No. Observations:                            2211   AIC:                         2.943e+04\n",
            "Df Residuals:                                2192   BIC:                         2.954e+04\n",
            "Df Model:                                      18                                         \n",
            "Covariance Type:                        nonrobust                                         \n",
            "==============================================================================================================\n",
            "                                                 coef    std err          t      P>|t|      [0.025      0.975]\n",
            "--------------------------------------------------------------------------------------------------------------\n",
            "const                                       -242.2255     87.245     -2.776      0.006    -413.318     -71.133\n",
            "people_vaccinated_per_hundred                 -3.3016      0.668     -4.945      0.000      -4.611      -1.992\n",
            "people_fully_vaccinated_per_hundred            3.2375      0.683      4.737      0.000       1.897       4.578\n",
            "new_people_vaccinated_smoothed_per_hundred    40.9209      9.969      4.105      0.000      21.371      60.471\n",
            "stringency_index                               3.1158      0.301     10.354      0.000       2.526       3.706\n",
            "population_density                            -0.0123      0.004     -3.276      0.001      -0.020      -0.005\n",
            "median_age                                     5.5698      1.420      3.922      0.000       2.785       8.354\n",
            "aged_65_older                                 -7.9292      2.799     -2.833      0.005     -13.418      -2.440\n",
            "aged_70_older                                  4.7969      3.204      1.497      0.134      -1.485      11.079\n",
            "gdp_per_capita                                 0.0008      0.000      2.919      0.004       0.000       0.001\n",
            "cardiovasc_death_rate                          0.2081      0.052      4.007      0.000       0.106       0.310\n",
            "female_smokers                                 3.0714      0.499      6.158      0.000       2.093       4.049\n",
            "life_expectancy                               -4.4668      1.300     -3.435      0.001      -7.017      -1.917\n",
            "human_development_index                      393.6795     75.462      5.217      0.000     245.696     541.663\n",
            "daily_vaccinations_per_million                -0.0003      0.002     -0.151      0.880      -0.004       0.003\n",
            "Epsilon                                        7.0901      3.001      2.363      0.018       1.206      12.974\n",
            "Gamma                                          1.8596      0.380      4.889      0.000       1.114       2.605\n",
            "Delta                                          0.5942      0.169      3.507      0.000       0.262       0.926\n",
            "non_who                                       -0.6974      0.149     -4.681      0.000      -0.990      -0.405\n",
            "==============================================================================\n",
            "Omnibus:                     1186.949   Durbin-Watson:                   0.550\n",
            "Prob(Omnibus):                  0.000   Jarque-Bera (JB):             9495.064\n",
            "Skew:                           2.434   Prob(JB):                         0.00\n",
            "Kurtosis:                      11.909   Cond. No.                     8.85e+05\n",
            "==============================================================================\n",
            "\n",
            "Warnings:\n",
            "[1] Standard Errors assume that the covariance matrix of the errors is correctly specified.\n",
            "[2] The condition number is large, 8.85e+05. This might indicate that there are\n",
            "strong multicollinearity or other numerical problems.\n"
          ]
        }
      ]
    },
    {
      "cell_type": "markdown",
      "source": [
        "Interpreting regression coefficients can be tricky. One needs to resist the temptation to fit a narraive to explain the why the coefficients take on certain values. For example, strigency_index is a metric developed by Our World in Data, that attempts to quantify how many restrictions a country has put in place to slow the spread of Covid-19. Countries with mask mandates, travel bans, and mandatory quarantines will have a higher strigency index than those countries which do not. The regression coefficient associated with strigency index is 3.0802, suggesting that the more restrictions a government puts in place the more Covid-19 spreads. Of course the true relationship is likely that the governments of countries in which there is a COVID-19 outbreak, and thus lots of new cases, are more likely to implement restrictive measures to slow the spread. Other interesting findings are that the only significant variants were Epsilon, Gamma, and Delta, all of which have positive coefficients. This could possibly suggest that these variants are more contagious. However, in the case of the Epsilon and Gamma variants the data is limited and so any conclusions should be take with a grain of salt. Another interesting note is that the female smoker predictor was significant but the male smoker predictor was not. We are hesistant to hypothesize why this is the case but perhaps the amount of female smokers in a country is a proxy for the nation's underlying ideology about government interventions. Lastly, it seems counter intuitive that median age is positively associated why aged 65 older is negatively associated."
      ],
      "metadata": {
        "id": "DM4WD8o7wPmm"
      }
    },
    {
      "cell_type": "markdown",
      "source": [
        "We are also interested in directly comparing the magnitide of the effect of each predictor. To do this we standardize the predictors and re-fit the regression model. Note that with the scaled data no intercept term is necessary."
      ],
      "metadata": {
        "id": "3OcNvFDHLH8B"
      }
    },
    {
      "cell_type": "code",
      "source": [
        "from sklearn.preprocessing import StandardScaler\n",
        "\n",
        "scaler = StandardScaler()\n",
        "scaler_y = StandardScaler()\n",
        "y_scaled = scalery.fit_transform(np.array(y).reshape(-1,1))\n",
        "cols = X_nested.columns\n",
        "X_nested_scaled = pd.DataFrame(scaler.fit_transform(X_nested))\n",
        "X_nested_scaled.columns = cols\n",
        "est_nested_scaled = sm.OLS(y_scaled, X_nested_scaled)\n",
        "est_nested_scaled_fit = est_nested_scaled.fit()\n",
        "print(est_nested_scaled_fit.summary())"
      ],
      "metadata": {
        "colab": {
          "base_uri": "https://localhost:8080/"
        },
        "id": "gJXA2fArMdrK",
        "outputId": "1e896299-4087-4fbb-d6f6-dbcae17c2076"
      },
      "execution_count": 59,
      "outputs": [
        {
          "output_type": "stream",
          "name": "stdout",
          "text": [
            "                                 OLS Regression Results                                \n",
            "=======================================================================================\n",
            "Dep. Variable:                      y   R-squared (uncentered):                   0.183\n",
            "Model:                            OLS   Adj. R-squared (uncentered):              0.176\n",
            "Method:                 Least Squares   F-statistic:                              27.27\n",
            "Date:                Fri, 10 Dec 2021   Prob (F-statistic):                    4.45e-83\n",
            "Time:                        19:45:25   Log-Likelihood:                         -2914.0\n",
            "No. Observations:                2211   AIC:                                      5864.\n",
            "Df Residuals:                    2193   BIC:                                      5967.\n",
            "Df Model:                          18                                                  \n",
            "Covariance Type:            nonrobust                                                  \n",
            "==============================================================================================================\n",
            "                                                 coef    std err          t      P>|t|      [0.025      0.975]\n",
            "--------------------------------------------------------------------------------------------------------------\n",
            "people_vaccinated_per_hundred                 -0.3908      0.079     -4.947      0.000      -0.546      -0.236\n",
            "people_fully_vaccinated_per_hundred            0.3324      0.070      4.738      0.000       0.195       0.470\n",
            "new_people_vaccinated_smoothed_per_hundred     0.0903      0.022      4.106      0.000       0.047       0.133\n",
            "stringency_index                               0.2395      0.023     10.357      0.000       0.194       0.285\n",
            "population_density                            -0.0731      0.022     -3.277      0.001      -0.117      -0.029\n",
            "median_age                                     0.2252      0.057      3.923      0.000       0.113       0.338\n",
            "aged_65_older                                 -0.2591      0.091     -2.833      0.005      -0.438      -0.080\n",
            "aged_70_older                                  0.1110      0.074      1.498      0.134      -0.034       0.256\n",
            "gdp_per_capita                                 0.0919      0.031      2.920      0.004       0.030       0.154\n",
            "cardiovasc_death_rate                          0.1096      0.027      4.008      0.000       0.056       0.163\n",
            "female_smokers                                 0.1680      0.027      6.160      0.000       0.114       0.221\n",
            "life_expectancy                               -0.1394      0.041     -3.436      0.001      -0.219      -0.060\n",
            "human_development_index                        0.2449      0.047      5.218      0.000       0.153       0.337\n",
            "daily_vaccinations_per_million                -0.0047      0.031     -0.151      0.880      -0.065       0.056\n",
            "Epsilon                                        0.0471      0.020      2.363      0.018       0.008       0.086\n",
            "Gamma                                          0.1055      0.022      4.890      0.000       0.063       0.148\n",
            "Delta                                          0.1233      0.035      3.508      0.000       0.054       0.192\n",
            "non_who                                       -0.1502      0.032     -4.682      0.000      -0.213      -0.087\n",
            "==============================================================================\n",
            "Omnibus:                     1186.949   Durbin-Watson:                   0.550\n",
            "Prob(Omnibus):                  0.000   Jarque-Bera (JB):             9495.064\n",
            "Skew:                           2.434   Prob(JB):                         0.00\n",
            "Kurtosis:                      11.909   Cond. No.                         14.1\n",
            "==============================================================================\n",
            "\n",
            "Warnings:\n",
            "[1] Standard Errors assume that the covariance matrix of the errors is correctly specified.\n"
          ]
        }
      ]
    },
    {
      "cell_type": "markdown",
      "source": [
        "From this output we can see that we see that the three predictors with greatest positive affect on the number of cases on a given day were strigency index, median age, and female smokers. Furthermore, we can now see that the Delta variant seems to be the most contagious."
      ],
      "metadata": {
        "id": "OCgndFPdQyxQ"
      }
    },
    {
      "cell_type": "markdown",
      "source": [
        "The last analysis we will perform on this model will be the addition of categorical predictors. These added predictors correspond to the country and the month-year combination corresponding to each row."
      ],
      "metadata": {
        "id": "xcEATxUeUmug"
      }
    },
    {
      "cell_type": "code",
      "source": [
        "X_nested['iso_code'], X_nested['month_year'] = df['iso_code'], df['month_yr']\n",
        "X_nested_dummy = pd.get_dummies(X_nested, drop_first=True)\n",
        "X_nested_dummy_const = sm.add_constant(X_nested_dummy)\n",
        "est_dummy = sm.OLS(y, X_nested_dummy_const)\n",
        "est_dummy_fit = est_dummy.fit()\n",
        "print(est_dummy_fit.summary())"
      ],
      "metadata": {
        "colab": {
          "base_uri": "https://localhost:8080/"
        },
        "id": "rXmME29CVGPD",
        "outputId": "cc993eea-6d69-42fb-c530-d428e956d46c"
      },
      "execution_count": 60,
      "outputs": [
        {
          "output_type": "stream",
          "name": "stdout",
          "text": [
            "                                  OLS Regression Results                                  \n",
            "==========================================================================================\n",
            "Dep. Variable:     new_cases_smoothed_per_million   R-squared:                       0.486\n",
            "Model:                                        OLS   Adj. R-squared:                  0.451\n",
            "Method:                             Least Squares   F-statistic:                     13.96\n",
            "Date:                            Fri, 10 Dec 2021   Prob (F-statistic):          2.07e-210\n",
            "Time:                                    19:45:27   Log-Likelihood:                -14184.\n",
            "No. Observations:                            2211   AIC:                         2.865e+04\n",
            "Df Residuals:                                2070   BIC:                         2.945e+04\n",
            "Df Model:                                     140                                         \n",
            "Covariance Type:                        nonrobust                                         \n",
            "==============================================================================================================\n",
            "                                                 coef    std err          t      P>|t|      [0.025      0.975]\n",
            "--------------------------------------------------------------------------------------------------------------\n",
            "const                                        -91.0096     42.044     -2.165      0.031    -173.463      -8.557\n",
            "people_vaccinated_per_hundred                 -5.6820      0.898     -6.326      0.000      -7.444      -3.920\n",
            "people_fully_vaccinated_per_hundred            4.0676      0.897      4.534      0.000       2.308       5.827\n",
            "new_people_vaccinated_smoothed_per_hundred   -16.5727     10.923     -1.517      0.129     -37.993       4.848\n",
            "stringency_index                               4.4420      0.339     13.104      0.000       3.777       5.107\n",
            "population_density                             0.0441      0.016      2.681      0.007       0.012       0.076\n",
            "median_age                                    10.9653      1.583      6.926      0.000       7.861      14.070\n",
            "aged_65_older                                -21.5318      5.075     -4.243      0.000     -31.484     -11.579\n",
            "aged_70_older                                 25.6226      6.324      4.052      0.000      13.221      38.024\n",
            "gdp_per_capita                                 0.0007      0.001      1.162      0.246      -0.000       0.002\n",
            "cardiovasc_death_rate                          0.3290      0.062      5.294      0.000       0.207       0.451\n",
            "female_smokers                                 4.2800      0.875      4.894      0.000       2.565       5.995\n",
            "life_expectancy                               -4.4723      1.051     -4.257      0.000      -6.533      -2.412\n",
            "human_development_index                      -54.3935     62.257     -0.874      0.382    -176.487      67.700\n",
            "daily_vaccinations_per_million                 0.0117      0.002      5.458      0.000       0.007       0.016\n",
            "Epsilon                                        0.3386      2.932      0.116      0.908      -5.411       6.088\n",
            "Gamma                                          2.8574      0.435      6.575      0.000       2.005       3.710\n",
            "Delta                                          1.5687      0.280      5.601      0.000       1.019       2.118\n",
            "non_who                                       -0.5520      0.243     -2.272      0.023      -1.029      -0.075\n",
            "iso_code_AGO                                 -14.0910     45.981     -0.306      0.759    -104.265      76.084\n",
            "iso_code_ARE                                 -28.9495     53.201     -0.544      0.586    -133.282      75.383\n",
            "iso_code_ARG                                  20.3469     28.535      0.713      0.476     -35.614      76.308\n",
            "iso_code_AUS                                -107.9602     27.359     -3.946      0.000    -161.613     -54.307\n",
            "iso_code_AUT                                 -99.7366     27.884     -3.577      0.000    -154.421     -45.052\n",
            "iso_code_BEL                                  23.5710     25.009      0.942      0.346     -25.475      72.617\n",
            "iso_code_BGD                                -202.9937     37.915     -5.354      0.000    -277.350    -128.638\n",
            "iso_code_BGR                                -154.2418     38.680     -3.988      0.000    -230.098     -78.385\n",
            "iso_code_BHR                                  59.8869     46.235      1.295      0.195     -30.784     150.558\n",
            "iso_code_BIH                                -113.3550    108.349     -1.046      0.296    -325.840      99.130\n",
            "iso_code_BLZ                                 119.8341     87.819      1.365      0.173     -52.389     292.057\n",
            "iso_code_BRA                                  -0.9634     28.553     -0.034      0.973     -56.960      55.033\n",
            "iso_code_BWA                                 231.5966     43.342      5.344      0.000     146.599     316.594\n",
            "iso_code_CAN                                 -60.9944     28.995     -2.104      0.036    -117.857      -4.132\n",
            "iso_code_CHE                                  21.9036     26.250      0.834      0.404     -29.576      73.383\n",
            "iso_code_CHL                                -104.4080     33.070     -3.157      0.002    -169.263     -39.553\n",
            "iso_code_CMR                                  50.8462     67.753      0.750      0.453     -82.025     183.717\n",
            "iso_code_COL                                 159.7081     34.949      4.570      0.000      91.169     228.247\n",
            "iso_code_CRI                                 226.3196     37.965      5.961      0.000     151.865     300.774\n",
            "iso_code_CUW                                -323.6756     61.856     -5.233      0.000    -444.982    -202.369\n",
            "iso_code_CZE                                 164.1270     31.167      5.266      0.000     103.004     225.250\n",
            "iso_code_DEU                                -217.2096     27.559     -7.882      0.000    -271.255    -163.164\n",
            "iso_code_DJI                                  97.2783     76.760      1.267      0.205     -53.257     247.814\n",
            "iso_code_DNK                                  23.6221     25.497      0.926      0.354     -26.380      73.624\n",
            "iso_code_DOM                                 -44.9407     76.572     -0.587      0.557    -195.106     105.225\n",
            "iso_code_ECU                                  52.6267     44.556      1.181      0.238     -34.752     140.005\n",
            "iso_code_EGY                                 -90.2067     46.445     -1.942      0.052    -181.290       0.877\n",
            "iso_code_ESP                                 -66.4367     26.027     -2.553      0.011    -117.478     -15.395\n",
            "iso_code_EST                                 220.4933     33.419      6.598      0.000     154.954     286.032\n",
            "iso_code_ETH                                  21.7689     86.874      0.251      0.802    -148.601     192.138\n",
            "iso_code_FIN                                  -1.7292     30.865     -0.056      0.955     -62.258      58.800\n",
            "iso_code_FJI                                 105.5693     87.008      1.213      0.225     -65.062     276.201\n",
            "iso_code_FRA                                   7.9853     25.407      0.314      0.753     -41.840      57.811\n",
            "iso_code_GBR                                  82.3724     24.888      3.310      0.001      33.564     131.181\n",
            "iso_code_GEO                                 485.1244     86.415      5.614      0.000     315.656     654.593\n",
            "iso_code_GHA                                  28.5477     37.008      0.771      0.441     -44.028     101.124\n",
            "iso_code_GMB                                  32.7060     54.325      0.602      0.547     -73.831     139.243\n",
            "iso_code_GRC                                -210.1580     35.620     -5.900      0.000    -280.012    -140.304\n",
            "iso_code_GTM                                 -74.1726     54.272     -1.367      0.172    -180.605      32.260\n",
            "iso_code_HKG                                -427.8600     97.277     -4.398      0.000    -618.630    -237.090\n",
            "iso_code_HRV                                 -48.1292     37.821     -1.273      0.203    -122.301      26.042\n",
            "iso_code_HUN                                 -24.2517     87.258     -0.278      0.781    -195.373     146.870\n",
            "iso_code_IDN                                -144.2845     31.772     -4.541      0.000    -206.594     -81.975\n",
            "iso_code_IND                                -112.5560     28.131     -4.001      0.000    -167.724     -57.388\n",
            "iso_code_IRL                                  -4.3297     31.606     -0.137      0.891     -66.313      57.654\n",
            "iso_code_IRQ                                -514.5643    181.156     -2.840      0.005    -869.831    -159.297\n",
            "iso_code_ISL                                  33.0187     32.628      1.012      0.312     -30.968      97.006\n",
            "iso_code_ISR                                 247.3701     34.371      7.197      0.000     179.964     314.776\n",
            "iso_code_ITA                                -143.2521     27.139     -5.278      0.000    -196.475     -90.029\n",
            "iso_code_JAM                                 -29.9625    107.540     -0.279      0.781    -240.861     180.936\n",
            "iso_code_JOR                                 127.9776     54.669      2.341      0.019      20.765     235.191\n",
            "iso_code_JPN                                 -61.2661     29.263     -2.094      0.036    -118.654      -3.878\n",
            "iso_code_KAZ                                 -42.2527     66.913     -0.631      0.528    -173.476      88.971\n",
            "iso_code_KEN                                 -28.1517     27.291     -1.032      0.302     -81.672      25.369\n",
            "iso_code_KHM                                 -93.3441     40.812     -2.287      0.022    -173.382     -13.307\n",
            "iso_code_KOR                                 -67.7060     27.970     -2.421      0.016    -122.558     -12.854\n",
            "iso_code_KWT                                 128.0711     76.115      1.683      0.093     -21.200     277.342\n",
            "iso_code_LBN                                  21.1565     54.443      0.389      0.698     -85.612     127.925\n",
            "iso_code_LKA                                 -58.4024     39.615     -1.474      0.141    -136.092      19.288\n",
            "iso_code_LTU                                 109.6295     33.729      3.250      0.001      43.482     175.777\n",
            "iso_code_LUX                                  84.3286     42.283      1.994      0.046       1.408     167.250\n",
            "iso_code_LVA                                 -56.9395     43.738     -1.302      0.193    -142.714      28.835\n",
            "iso_code_MAR                                 -59.2201    107.441     -0.551      0.582    -269.924     151.484\n",
            "iso_code_MDG                                -168.7654     60.153     -2.806      0.005    -286.733     -50.798\n",
            "iso_code_MDV                                  49.7835     63.012      0.790      0.430     -73.791     173.358\n",
            "iso_code_MEX                                  -5.6312     27.115     -0.208      0.836     -58.807      47.545\n",
            "iso_code_MKD                                -129.6203     65.085     -1.992      0.047    -257.259      -1.982\n",
            "iso_code_MLT                                -140.2571     71.494     -1.962      0.050    -280.465      -0.050\n",
            "iso_code_MNE                                 212.9085     76.897      2.769      0.006      62.105     363.712\n",
            "iso_code_MOZ                                 -80.7150     48.817     -1.653      0.098    -176.450      15.020\n",
            "iso_code_MWI                                   8.6182     57.839      0.149      0.882    -104.811     122.048\n",
            "iso_code_MYS                                  44.2005     32.158      1.374      0.169     -18.864     107.265\n",
            "iso_code_NGA                                 -28.3840     37.469     -0.758      0.449    -101.864      45.096\n",
            "iso_code_NLD                                  60.5013     24.323      2.487      0.013      12.800     108.202\n",
            "iso_code_NOR                                 -19.5018     30.675     -0.636      0.525     -79.659      40.656\n",
            "iso_code_NPL                                -108.5850     89.077     -1.219      0.223    -283.275      66.105\n",
            "iso_code_NZL                                -145.4886     43.361     -3.355      0.001    -230.525     -60.453\n",
            "iso_code_OMN                                 119.4287     77.261      1.546      0.122     -32.090     270.947\n",
            "iso_code_OWID_KOS                           -165.0525     64.382     -2.564      0.010    -291.313     -38.792\n",
            "iso_code_PAK                                -140.2158     43.062     -3.256      0.001    -224.666     -55.766\n",
            "iso_code_PER                                  11.1611     29.393      0.380      0.704     -46.481      68.804\n",
            "iso_code_PHL                                -125.0164     34.166     -3.659      0.000    -192.021     -58.012\n",
            "iso_code_PNG                                -195.0200     61.249     -3.184      0.001    -315.137     -74.903\n",
            "iso_code_POL                                 -64.8569     30.788     -2.107      0.035    -125.236      -4.478\n",
            "iso_code_PRT                                 -15.7570     29.725     -0.530      0.596     -74.051      42.537\n",
            "iso_code_PRY                                  39.3334     76.687      0.513      0.608    -111.058     189.725\n",
            "iso_code_QAT                                  26.7141     66.117      0.404      0.686    -102.949     156.378\n",
            "iso_code_ROU                                -144.0259     31.788     -4.531      0.000    -206.365     -81.687\n",
            "iso_code_RUS                                -181.7368     29.101     -6.245      0.000    -238.807    -124.666\n",
            "iso_code_RWA                                 -31.6038     58.071     -0.544      0.586    -145.488      82.281\n",
            "iso_code_SEN                                  82.5635     58.506      1.411      0.158     -32.172     197.299\n",
            "iso_code_SGP                                -347.1734     99.445     -3.491      0.000    -542.196    -152.151\n",
            "iso_code_SUR                                 -24.7739     46.750     -0.530      0.596    -116.456      66.908\n",
            "iso_code_SVK                                 190.5716     32.134      5.930      0.000     127.553     253.591\n",
            "iso_code_SVN                                 142.4334     26.122      5.453      0.000      91.205     193.662\n",
            "iso_code_SWE                                  78.0282     25.321      3.082      0.002      28.371     127.686\n",
            "iso_code_SXM                                -305.6450    115.792     -2.640      0.008    -532.725     -78.565\n",
            "iso_code_SYC                                 471.4772     63.150      7.466      0.000     347.632     595.322\n",
            "iso_code_TGO                                  44.9983     76.014      0.592      0.554    -104.074     194.071\n",
            "iso_code_THA                                 -35.8426     35.115     -1.021      0.308    -104.708      33.023\n",
            "iso_code_TTO                                -144.1276     66.460     -2.169      0.030    -274.463     -13.792\n",
            "iso_code_TUR                                  74.7306     31.098      2.403      0.016      13.744     135.717\n",
            "iso_code_UGA                                  -4.9720     61.810     -0.080      0.936    -126.189     116.245\n",
            "iso_code_UKR                                -218.5288     61.094     -3.577      0.000    -338.341     -98.717\n",
            "iso_code_URY                                 143.9906     60.211      2.391      0.017      25.910     262.071\n",
            "iso_code_USA                                  88.4258     30.938      2.858      0.004      27.752     149.099\n",
            "iso_code_VNM                                -168.1972     58.532     -2.874      0.004    -282.984     -53.410\n",
            "iso_code_ZAF                                 -22.8765     26.568     -0.861      0.389     -74.980      29.226\n",
            "iso_code_ZMB                                  91.1067     46.596      1.955      0.051      -0.273     182.486\n",
            "iso_code_ZWE                                -107.0307     54.288     -1.972      0.049    -213.496      -0.565\n",
            "month_year_02-2021                           -90.9618     18.412     -4.940      0.000    -127.070     -54.853\n",
            "month_year_03-2021                           -89.3437     21.139     -4.226      0.000    -130.801     -47.887\n",
            "month_year_04-2021                           -85.6282     22.965     -3.729      0.000    -130.666     -40.590\n",
            "month_year_05-2020                          -210.1575     23.242     -9.042      0.000    -255.738    -164.577\n",
            "month_year_05-2021                          -122.2074     23.241     -5.258      0.000    -167.786     -76.628\n",
            "month_year_06-2020                          -160.0989     24.358     -6.573      0.000    -207.867    -112.330\n",
            "month_year_06-2021                          -194.7989     28.217     -6.904      0.000    -250.136    -139.462\n",
            "month_year_07-2020                          -157.1508     23.692     -6.633      0.000    -203.613    -110.689\n",
            "month_year_07-2021                          -202.1065     33.654     -6.005      0.000    -268.105    -136.108\n",
            "month_year_08-2020                          -146.5227     20.912     -7.007      0.000    -187.532    -105.513\n",
            "month_year_08-2021                          -161.0529     36.753     -4.382      0.000    -233.130     -88.976\n",
            "month_year_09-2020                          -128.0978     23.208     -5.519      0.000    -173.612     -82.583\n",
            "month_year_09-2021                          -147.8454     38.491     -3.841      0.000    -223.331     -72.360\n",
            "month_year_10-2020                           -19.0344     22.405     -0.850      0.396     -62.973      24.904\n",
            "month_year_10-2021                          -131.1383     39.863     -3.290      0.001    -209.314     -52.963\n",
            "month_year_11-2020                            21.4188     22.159      0.967      0.334     -22.037      64.874\n",
            "month_year_11-2021                             3.1364     41.826      0.075      0.940     -78.889      85.162\n",
            "month_year_12-2020                            19.9861     21.485      0.930      0.352     -22.148      62.120\n",
            "==============================================================================\n",
            "Omnibus:                      896.071   Durbin-Watson:                   0.790\n",
            "Prob(Omnibus):                  0.000   Jarque-Bera (JB):             6551.085\n",
            "Skew:                           1.736   Prob(JB):                         0.00\n",
            "Kurtosis:                      10.685   Cond. No.                     3.55e+19\n",
            "==============================================================================\n",
            "\n",
            "Warnings:\n",
            "[1] Standard Errors assume that the covariance matrix of the errors is correctly specified.\n",
            "[2] The smallest eigenvalue is 2.65e-27. This might indicate that there are\n",
            "strong multicollinearity problems or that the design matrix is singular.\n"
          ]
        }
      ]
    },
    {
      "cell_type": "markdown",
      "source": [
        "Including information about country and month/year drastically increases the model's explanatory ability. The model has $Adj. R^2 = 0.437$. Observing the p-values associated with the $t-tests$ for these new coeficients reveals two things. First, COVID-19 has affected some countries much more than others. It is evident that there differences between countreies which affect the number of COVID-19 cases which are not present in the data set. Second, the Covid-19 pandemic has increased and decreased in severity with November, 2020 being perhaps the worst month of the pandemic from a worldwide perspective."
      ],
      "metadata": {
        "id": "ReqnWOBfYBkB"
      }
    },
    {
      "cell_type": "markdown",
      "source": [
        "We now conduct an entirely anaologous procedure, the only difference being that the response variable will now be new deaths smoothed per million rather than cases."
      ],
      "metadata": {
        "id": "inJqaXNcsY56"
      }
    },
    {
      "cell_type": "code",
      "source": [
        "y = df['new_deaths_smoothed_per_million']\n",
        "#add a column of ones for the intercept term\n",
        "X_full = sm.add_constant(X)\n",
        "est_full = sm.OLS(y, X_full)\n",
        "est_full_fit = est_full.fit()\n",
        "print(est_full_fit.summary())"
      ],
      "metadata": {
        "colab": {
          "base_uri": "https://localhost:8080/"
        },
        "id": "M4staKXH4U1t",
        "outputId": "4b241ed8-8683-4697-e0f3-c0d7143f2c33"
      },
      "execution_count": 68,
      "outputs": [
        {
          "output_type": "stream",
          "name": "stdout",
          "text": [
            "                                   OLS Regression Results                                  \n",
            "===========================================================================================\n",
            "Dep. Variable:     new_deaths_smoothed_per_million   R-squared:                       0.295\n",
            "Model:                                         OLS   Adj. R-squared:                  0.287\n",
            "Method:                              Least Squares   F-statistic:                     39.74\n",
            "Date:                             Fri, 10 Dec 2021   Prob (F-statistic):          2.80e-147\n",
            "Time:                                     19:53:05   Log-Likelihood:                -5610.3\n",
            "No. Observations:                             2211   AIC:                         1.127e+04\n",
            "Df Residuals:                                 2187   BIC:                         1.141e+04\n",
            "Df Model:                                       23                                         \n",
            "Covariance Type:                         nonrobust                                         \n",
            "=========================================================================================================\n",
            "                                            coef    std err          t      P>|t|      [0.025      0.975]\n",
            "---------------------------------------------------------------------------------------------------------\n",
            "const                                    -8.2069      0.657    -12.500      0.000      -9.494      -6.919\n",
            "total_vaccinations_per_hundred           -0.0104      0.003     -3.970      0.000      -0.016      -0.005\n",
            "new_vaccinations_smoothed_per_million -3.707e-05   2.91e-05     -1.276      0.202   -9.41e-05    1.99e-05\n",
            "stringency_index                          0.0647      0.005     13.372      0.000       0.055       0.074\n",
            "population_density                       -0.0002   6.14e-05     -3.665      0.000      -0.000      -0.000\n",
            "median_age                                0.2293      0.025      9.141      0.000       0.180       0.279\n",
            "aged_65_older                            -0.1233      0.030     -4.043      0.000      -0.183      -0.063\n",
            "gdp_per_capita                        -2.084e-05   4.23e-06     -4.924      0.000   -2.91e-05   -1.25e-05\n",
            "extreme_poverty                          -0.0032      0.003     -1.208      0.227      -0.008       0.002\n",
            "cardiovasc_death_rate                     0.0064      0.001      7.146      0.000       0.005       0.008\n",
            "diabetes_prevalence                      -0.0638      0.025     -2.539      0.011      -0.113      -0.015\n",
            "female_smokers                            0.0327      0.007      4.377      0.000       0.018       0.047\n",
            "male_smokers                             -0.0196      0.006     -3.191      0.001      -0.032      -0.008\n",
            "daily_people_vaccinated_per_hundred      -0.5049      0.253     -1.997      0.046      -1.001      -0.009\n",
            "Beta                                      0.0068      0.005      1.314      0.189      -0.003       0.017\n",
            "Epsilon                                   0.2176      0.050      4.348      0.000       0.119       0.316\n",
            "Gamma                                     0.0493      0.006      7.808      0.000       0.037       0.062\n",
            "Kappa                                    -0.0610      0.033     -1.826      0.068      -0.127       0.005\n",
            "Iota                                     -0.0518      0.036     -1.431      0.153      -0.123       0.019\n",
            "Eta                                      -0.0023      0.023     -0.100      0.921      -0.047       0.043\n",
            "Delta                                     0.0103      0.003      3.627      0.000       0.005       0.016\n",
            "Alpha                                     0.0083      0.003      3.110      0.002       0.003       0.014\n",
            "Lambda                                    0.1430      0.012     11.799      0.000       0.119       0.167\n",
            "Mu                                       -0.0821      0.072     -1.134      0.257      -0.224       0.060\n",
            "==============================================================================\n",
            "Omnibus:                      960.010   Durbin-Watson:                   0.457\n",
            "Prob(Omnibus):                  0.000   Jarque-Bera (JB):             5202.778\n",
            "Skew:                           2.009   Prob(JB):                         0.00\n",
            "Kurtosis:                       9.350   Cond. No.                     3.90e+05\n",
            "==============================================================================\n",
            "\n",
            "Warnings:\n",
            "[1] Standard Errors assume that the covariance matrix of the errors is correctly specified.\n",
            "[2] The condition number is large, 3.9e+05. This might indicate that there are\n",
            "strong multicollinearity or other numerical problems.\n"
          ]
        }
      ]
    },
    {
      "cell_type": "markdown",
      "source": [
        "Compared to the initial regression on new cases the regression on new deaths provides a moderatly better fit. We have $ADJ. R^2 = 0.287$ and a near zero p-value corresponding to the $F-Test$ for overall model utility. Examining the $t-tests$ for individual coefficients we see that the following are insignificant at a $95\\%$ confidence level: new vaccinations smothed per million, extreme poverty, Beta, Iota, Eta, and Mu. One interesting finind is that the total number of vaccinations adminitered by a country was not significant in predicting new cases but IS significant in predicting new deaths. This suggests that the vaccines may not be effective at preventing infection but are effective at limiting extreme cases. After some testing all the insiginificant predictors could be removed simulatenously, therefore the predictior \"daily people vaccinated per hundred\" remains in the reduced model."
      ],
      "metadata": {
        "id": "1b7sHk9e5JYx"
      }
    },
    {
      "cell_type": "code",
      "source": [
        "from statsmodels.stats.anova import anova_lm\n",
        "X_nested = X.drop(['new_vaccinations_smoothed_per_million','extreme_poverty','Beta','Kappa','Iota','Eta','Mu'], axis = 1)\n",
        "X_nested_const = sm.add_constant(X_nested)\n",
        "est_nested = sm.OLS(y, X_nested_const)\n",
        "est_nested_fit = est_nested.fit()\n",
        "print(anova_lm(est_nested_fit, est_full_fit))"
      ],
      "metadata": {
        "colab": {
          "base_uri": "https://localhost:8080/"
        },
        "id": "oAvUH82b7ua9",
        "outputId": "82fc2244-01f4-46ef-9a05-0d2975487c36"
      },
      "execution_count": 70,
      "outputs": [
        {
          "output_type": "stream",
          "name": "stdout",
          "text": [
            "   df_resid           ssr  df_diff     ss_diff        F    Pr(>F)\n",
            "0    2194.0  20817.700643      0.0         NaN      NaN       NaN\n",
            "1    2187.0  20707.427754      7.0  110.272889  1.66377  0.113447\n"
          ]
        }
      ]
    },
    {
      "cell_type": "markdown",
      "source": [
        "The removal of predictors is again justified by the large p-value of 0.113 in the $F-Test$ for nested linear regression models shown above. We now examine the values of the estimated parameters in the reduced model."
      ],
      "metadata": {
        "id": "LqtoXd6W8gdm"
      }
    },
    {
      "cell_type": "code",
      "source": [
        "print(est_nested_fit.summary())"
      ],
      "metadata": {
        "colab": {
          "base_uri": "https://localhost:8080/"
        },
        "id": "gwRNzkW188Jv",
        "outputId": "ec38b9a2-b587-4bae-dab6-6a1155a9e161"
      },
      "execution_count": 71,
      "outputs": [
        {
          "output_type": "stream",
          "name": "stdout",
          "text": [
            "                                   OLS Regression Results                                  \n",
            "===========================================================================================\n",
            "Dep. Variable:     new_deaths_smoothed_per_million   R-squared:                       0.291\n",
            "Model:                                         OLS   Adj. R-squared:                  0.286\n",
            "Method:                              Least Squares   F-statistic:                     56.28\n",
            "Date:                             Fri, 10 Dec 2021   Prob (F-statistic):          9.89e-151\n",
            "Time:                                     20:05:55   Log-Likelihood:                -5616.2\n",
            "No. Observations:                             2211   AIC:                         1.127e+04\n",
            "Df Residuals:                                 2194   BIC:                         1.136e+04\n",
            "Df Model:                                       16                                         \n",
            "Covariance Type:                         nonrobust                                         \n",
            "=======================================================================================================\n",
            "                                          coef    std err          t      P>|t|      [0.025      0.975]\n",
            "-------------------------------------------------------------------------------------------------------\n",
            "const                                  -8.2216      0.596    -13.806      0.000      -9.389      -7.054\n",
            "total_vaccinations_per_hundred         -0.0113      0.002     -4.541      0.000      -0.016      -0.006\n",
            "stringency_index                        0.0647      0.005     13.566      0.000       0.055       0.074\n",
            "population_density                     -0.0002   6.12e-05     -3.778      0.000      -0.000      -0.000\n",
            "median_age                              0.2281      0.024      9.413      0.000       0.181       0.276\n",
            "aged_65_older                          -0.1262      0.030     -4.248      0.000      -0.184      -0.068\n",
            "gdp_per_capita                      -2.018e-05   4.22e-06     -4.777      0.000   -2.85e-05   -1.19e-05\n",
            "cardiovasc_death_rate                   0.0064      0.001      7.146      0.000       0.005       0.008\n",
            "diabetes_prevalence                    -0.0651      0.025     -2.622      0.009      -0.114      -0.016\n",
            "female_smokers                          0.0339      0.007      4.560      0.000       0.019       0.049\n",
            "male_smokers                           -0.0182      0.006     -3.010      0.003      -0.030      -0.006\n",
            "daily_people_vaccinated_per_hundred    -0.7180      0.215     -3.342      0.001      -1.139      -0.297\n",
            "Epsilon                                 0.2015      0.049      4.089      0.000       0.105       0.298\n",
            "Gamma                                   0.0479      0.006      7.700      0.000       0.036       0.060\n",
            "Delta                                   0.0096      0.003      3.514      0.000       0.004       0.015\n",
            "Alpha                                   0.0068      0.003      2.713      0.007       0.002       0.012\n",
            "Lambda                                  0.1408      0.012     11.695      0.000       0.117       0.164\n",
            "==============================================================================\n",
            "Omnibus:                      959.576   Durbin-Watson:                   0.456\n",
            "Prob(Omnibus):                  0.000   Jarque-Bera (JB):             5147.703\n",
            "Skew:                           2.013   Prob(JB):                         0.00\n",
            "Kurtosis:                       9.299   Cond. No.                     3.53e+05\n",
            "==============================================================================\n",
            "\n",
            "Warnings:\n",
            "[1] Standard Errors assume that the covariance matrix of the errors is correctly specified.\n",
            "[2] The condition number is large, 3.53e+05. This might indicate that there are\n",
            "strong multicollinearity or other numerical problems.\n"
          ]
        }
      ]
    },
    {
      "cell_type": "markdown",
      "source": [
        "We see many of the same phenomena which were present in the new cases model such as a positive coefficient associated with the stringency index. One interesting thing to note is that diabetes prevalence is negatively associated with new deaths despite diabetes commonly being referred to as a co-morbitity. We hypothesize that this may be the case because diabetes is more prevalent in wealthier countries with bettwe healthcare systems. This would also align with the fact that GDP per capita is also negatively associated with new deaths. Lastly, we note that Delta, Alpha, Lambda, Gamma, and Epsilon variants may be more deadly though there is limited data for the latter three."
      ],
      "metadata": {
        "id": "ADw8YOFaBDTL"
      }
    },
    {
      "cell_type": "markdown",
      "source": [
        "Next we standardize the coefficients to allow for a direct comparison of their magnitude."
      ],
      "metadata": {
        "id": "CkCVq0vqCwf5"
      }
    },
    {
      "cell_type": "code",
      "source": [
        "scaler = StandardScaler()\n",
        "scaler_y = StandardScaler()\n",
        "y_scaled = scalery.fit_transform(np.array(y).reshape(-1,1))\n",
        "cols = X_nested.columns\n",
        "X_nested_scaled = pd.DataFrame(scaler.fit_transform(X_nested))\n",
        "X_nested_scaled.columns = cols\n",
        "est_nested_scaled = sm.OLS(y_scaled, X_nested_scaled)\n",
        "est_nested_scaled_fit = est_nested_scaled.fit()\n",
        "print(est_nested_scaled_fit.summary())"
      ],
      "metadata": {
        "colab": {
          "base_uri": "https://localhost:8080/"
        },
        "id": "sW3bqfHrC2tu",
        "outputId": "1c7d692f-5583-4921-81b7-12b1234e4a89"
      },
      "execution_count": 72,
      "outputs": [
        {
          "output_type": "stream",
          "name": "stdout",
          "text": [
            "                                 OLS Regression Results                                \n",
            "=======================================================================================\n",
            "Dep. Variable:                      y   R-squared (uncentered):                   0.291\n",
            "Model:                            OLS   Adj. R-squared (uncentered):              0.286\n",
            "Method:                 Least Squares   F-statistic:                              56.31\n",
            "Date:                Fri, 10 Dec 2021   Prob (F-statistic):                   8.35e-151\n",
            "Time:                        20:32:53   Log-Likelihood:                         -2757.1\n",
            "No. Observations:                2211   AIC:                                      5546.\n",
            "Df Residuals:                    2195   BIC:                                      5637.\n",
            "Df Model:                          16                                                  \n",
            "Covariance Type:            nonrobust                                                  \n",
            "=======================================================================================================\n",
            "                                          coef    std err          t      P>|t|      [0.025      0.975]\n",
            "-------------------------------------------------------------------------------------------------------\n",
            "total_vaccinations_per_hundred         -0.1406      0.031     -4.542      0.000      -0.201      -0.080\n",
            "stringency_index                        0.2813      0.021     13.569      0.000       0.241       0.322\n",
            "population_density                     -0.0778      0.021     -3.779      0.000      -0.118      -0.037\n",
            "median_age                              0.5217      0.055      9.415      0.000       0.413       0.630\n",
            "aged_65_older                          -0.2333      0.055     -4.249      0.000      -0.341      -0.126\n",
            "gdp_per_capita                         -0.1250      0.026     -4.778      0.000      -0.176      -0.074\n",
            "cardiovasc_death_rate                   0.1907      0.027      7.147      0.000       0.138       0.243\n",
            "diabetes_prevalence                    -0.0619      0.024     -2.622      0.009      -0.108      -0.016\n",
            "female_smokers                          0.1050      0.023      4.561      0.000       0.060       0.150\n",
            "male_smokers                           -0.0716      0.024     -3.011      0.003      -0.118      -0.025\n",
            "daily_people_vaccinated_per_hundred    -0.0641      0.019     -3.343      0.001      -0.102      -0.026\n",
            "Epsilon                                 0.0758      0.019      4.090      0.000       0.039       0.112\n",
            "Gamma                                   0.1538      0.020      7.702      0.000       0.115       0.193\n",
            "Delta                                   0.1133      0.032      3.515      0.000       0.050       0.176\n",
            "Alpha                                   0.0576      0.021      2.714      0.007       0.016       0.099\n",
            "Lambda                                  0.2266      0.019     11.698      0.000       0.189       0.265\n",
            "==============================================================================\n",
            "Omnibus:                      959.576   Durbin-Watson:                   0.456\n",
            "Prob(Omnibus):                  0.000   Jarque-Bera (JB):             5147.703\n",
            "Skew:                           2.013   Prob(JB):                         0.00\n",
            "Kurtosis:                       9.299   Cond. No.                         7.49\n",
            "==============================================================================\n",
            "\n",
            "Warnings:\n",
            "[1] Standard Errors assume that the covariance matrix of the errors is correctly specified.\n"
          ]
        }
      ]
    },
    {
      "cell_type": "markdown",
      "source": [
        "With the data now standardized we see that the features with the greatest affect on increasing predictions about new deaths are: strigency index and median age. The features with the greatest affect on decreasing predictions about new deaths are: proportion of population older than 65 and total vaccinations per hundred. The seemingly contradicty coefficients associated with median age and aged 65 or older are again perplexing. Finally, we note that the Lambda variant may be substantially more deadly than others, though the large positive coefficient could also be due to the variant being most prevalent in under-developed countries."
      ],
      "metadata": {
        "id": "PpLwxc6HD-0d"
      }
    },
    {
      "cell_type": "markdown",
      "source": [
        "Finally, we redo the regression and include categorical variables signifying country and month/year."
      ],
      "metadata": {
        "id": "3hZJ9FnCFigK"
      }
    },
    {
      "cell_type": "code",
      "source": [
        "X_nested['iso_code'], X_nested['month_year'] = df['iso_code'], df['month_yr']\n",
        "X_nested_dummy = pd.get_dummies(X_nested, drop_first=True)\n",
        "X_nested_dummy_const = sm.add_constant(X_nested_dummy)\n",
        "est_dummy = sm.OLS(y, X_nested_dummy_const)\n",
        "est_dummy_fit = est_dummy.fit()\n",
        "print(est_dummy_fit.summary())"
      ],
      "metadata": {
        "colab": {
          "base_uri": "https://localhost:8080/"
        },
        "id": "yG7jsywfF0VW",
        "outputId": "ef6ea780-e6b1-4549-ca42-e031b1e0b289"
      },
      "execution_count": 73,
      "outputs": [
        {
          "output_type": "stream",
          "name": "stdout",
          "text": [
            "                                   OLS Regression Results                                  \n",
            "===========================================================================================\n",
            "Dep. Variable:     new_deaths_smoothed_per_million   R-squared:                       0.553\n",
            "Model:                                         OLS   Adj. R-squared:                  0.523\n",
            "Method:                              Least Squares   F-statistic:                     18.46\n",
            "Date:                             Fri, 10 Dec 2021   Prob (F-statistic):          1.52e-270\n",
            "Time:                                     20:44:44   Log-Likelihood:                -5105.4\n",
            "No. Observations:                             2211   AIC:                         1.049e+04\n",
            "Df Residuals:                                 2071   BIC:                         1.129e+04\n",
            "Df Model:                                      139                                         \n",
            "Covariance Type:                         nonrobust                                         \n",
            "=======================================================================================================\n",
            "                                          coef    std err          t      P>|t|      [0.025      0.975]\n",
            "-------------------------------------------------------------------------------------------------------\n",
            "const                                  -8.8358      0.716    -12.346      0.000     -10.239      -7.432\n",
            "total_vaccinations_per_hundred         -0.0207      0.003     -7.342      0.000      -0.026      -0.015\n",
            "stringency_index                        0.0911      0.006     16.336      0.000       0.080       0.102\n",
            "population_density                     -0.0002      0.000     -0.792      0.428      -0.001       0.000\n",
            "median_age                              0.3371      0.047      7.197      0.000       0.245       0.429\n",
            "aged_65_older                          -0.2376      0.057     -4.146      0.000      -0.350      -0.125\n",
            "gdp_per_capita                      -1.228e-05   1.13e-05     -1.085      0.278   -3.45e-05    9.93e-06\n",
            "cardiovasc_death_rate                   0.0050      0.002      3.106      0.002       0.002       0.008\n",
            "diabetes_prevalence                    -0.2562      0.052     -4.966      0.000      -0.357      -0.155\n",
            "female_smokers                         -0.0173      0.018     -0.938      0.348      -0.054       0.019\n",
            "male_smokers                        -5.585e-05      0.009     -0.006      0.995      -0.017       0.017\n",
            "daily_people_vaccinated_per_hundred    -0.6782      0.208     -3.260      0.001      -1.086      -0.270\n",
            "Epsilon                                 0.0302      0.048      0.627      0.531      -0.064       0.125\n",
            "Gamma                                   0.0573      0.008      7.392      0.000       0.042       0.072\n",
            "Delta                                   0.0279      0.005      5.239      0.000       0.017       0.038\n",
            "Alpha                                   0.0075      0.004      1.938      0.053    -8.8e-05       0.015\n",
            "Lambda                                  0.0867      0.013      6.486      0.000       0.060       0.113\n",
            "iso_code_AGO                           -0.5164      0.826     -0.625      0.532      -2.137       1.104\n",
            "iso_code_ARE                           -2.0384      0.928     -2.197      0.028      -3.858      -0.219\n",
            "iso_code_ARG                           -0.3054      0.462     -0.662      0.508      -1.211       0.600\n",
            "iso_code_AUS                           -2.8972      0.447     -6.478      0.000      -3.774      -2.020\n",
            "iso_code_AUT                           -1.0436      0.451     -2.315      0.021      -1.927      -0.160\n",
            "iso_code_BEL                            0.3990      0.408      0.978      0.328      -0.401       1.199\n",
            "iso_code_BGD                           -3.6413      0.587     -6.204      0.000      -4.792      -2.490\n",
            "iso_code_BGR                            3.3333      0.705      4.728      0.000       1.951       4.716\n",
            "iso_code_BHR                            2.3344      0.756      3.088      0.002       0.852       3.817\n",
            "iso_code_BIH                            6.5993      1.810      3.646      0.000       3.050      10.149\n",
            "iso_code_BLZ                            1.4898      1.381      1.079      0.281      -1.219       4.198\n",
            "iso_code_BRA                            0.5579      0.508      1.098      0.272      -0.439       1.555\n",
            "iso_code_BWA                            1.1830      0.733      1.614      0.107      -0.255       2.621\n",
            "iso_code_CAN                           -2.3246      0.449     -5.181      0.000      -3.204      -1.445\n",
            "iso_code_CHE                            0.1426      0.447      0.319      0.750      -0.734       1.019\n",
            "iso_code_CHL                           -0.1005      0.603     -0.167      0.868      -1.283       1.082\n",
            "iso_code_CMR                            1.7216      1.152      1.495      0.135      -0.537       3.980\n",
            "iso_code_COL                            2.3174      0.670      3.457      0.001       1.003       3.632\n",
            "iso_code_CRI                            1.0281      0.638      1.611      0.107      -0.223       2.280\n",
            "iso_code_CUW                           -0.3723      1.138     -0.327      0.744      -2.604       1.859\n",
            "iso_code_CZE                            3.5275      0.552      6.387      0.000       2.444       4.611\n",
            "iso_code_DEU                           -1.2955      0.444     -2.919      0.004      -2.166      -0.425\n",
            "iso_code_DJI                            0.8445      1.261      0.670      0.503      -1.628       3.317\n",
            "iso_code_DNK                           -0.6455      0.404     -1.598      0.110      -1.438       0.147\n",
            "iso_code_DOM                           -1.8133      1.257     -1.442      0.149      -4.279       0.652\n",
            "iso_code_ECU                           -0.4698      0.795     -0.591      0.555      -2.029       1.090\n",
            "iso_code_EGY                            0.2759      1.077      0.256      0.798      -1.835       2.387\n",
            "iso_code_ESP                           -0.8971      0.415     -2.163      0.031      -1.710      -0.084\n",
            "iso_code_EST                            0.7593      0.546      1.391      0.164      -0.311       1.830\n",
            "iso_code_ETH                            0.6838      1.431      0.478      0.633      -2.122       3.490\n",
            "iso_code_FIN                           -1.1751      0.462     -2.544      0.011      -2.081      -0.269\n",
            "iso_code_FJI                           -0.7398      1.515     -0.488      0.625      -3.710       2.231\n",
            "iso_code_FRA                            0.0033      0.440      0.008      0.994      -0.860       0.867\n",
            "iso_code_GBR                            0.1464      0.405      0.361      0.718      -0.649       0.941\n",
            "iso_code_GEO                            3.8377      1.543      2.487      0.013       0.812       6.864\n",
            "iso_code_GHA                           -0.3154      0.622     -0.507      0.612      -1.535       0.904\n",
            "iso_code_GMB                            0.8159      0.874      0.934      0.351      -0.898       2.529\n",
            "iso_code_GRC                           -1.6379      0.536     -3.058      0.002      -2.688      -0.587\n",
            "iso_code_GTM                            2.9519      1.092      2.703      0.007       0.810       5.094\n",
            "iso_code_HKG                           -3.1650      1.338     -2.366      0.018      -5.788      -0.542\n",
            "iso_code_HRV                            1.1677      0.625      1.869      0.062      -0.058       2.393\n",
            "iso_code_HUN                            1.1295      1.457      0.775      0.438      -1.728       3.987\n",
            "iso_code_IDN                           -3.5003      0.613     -5.707      0.000      -4.703      -2.298\n",
            "iso_code_IND                           -2.6483      0.471     -5.617      0.000      -3.573      -1.724\n",
            "iso_code_IRL                           -1.9921      0.630     -3.160      0.002      -3.228      -0.756\n",
            "iso_code_IRQ                            3.2680      2.351      1.390      0.165      -1.342       7.878\n",
            "iso_code_ISL                           -0.8351      0.533     -1.566      0.118      -1.881       0.211\n",
            "iso_code_ISR                            2.2061      0.563      3.920      0.000       1.102       3.310\n",
            "iso_code_ITA                           -1.8064      0.475     -3.800      0.000      -2.739      -0.874\n",
            "iso_code_JAM                           -0.4519      1.769     -0.255      0.798      -3.921       3.017\n",
            "iso_code_JOR                            1.9507      0.884      2.207      0.027       0.218       3.684\n",
            "iso_code_JPN                           -0.8625      0.580     -1.486      0.137      -2.001       0.276\n",
            "iso_code_KAZ                            1.6629      1.183      1.405      0.160      -0.658       3.984\n",
            "iso_code_KEN                           -2.0513      0.487     -4.210      0.000      -3.007      -1.096\n",
            "iso_code_KHM                           -1.9004      0.702     -2.706      0.007      -3.278      -0.523\n",
            "iso_code_KOR                           -3.5128      0.601     -5.842      0.000      -4.692      -2.333\n",
            "iso_code_KWT                            0.3313      1.216      0.272      0.785      -2.054       2.716\n",
            "iso_code_LBN                            2.1047      0.993      2.120      0.034       0.158       4.052\n",
            "iso_code_LKA                           -1.4317      0.667     -2.146      0.032      -2.740      -0.123\n",
            "iso_code_LTU                            1.9008      0.544      3.494      0.000       0.834       2.968\n",
            "iso_code_LUX                            0.6156      0.822      0.749      0.454      -0.997       2.228\n",
            "iso_code_LVA                            0.4468      0.732      0.610      0.542      -0.990       1.883\n",
            "iso_code_MAR                           -1.9597      1.784     -1.098      0.272      -5.459       1.539\n",
            "iso_code_MDG                           -0.0027      1.128     -0.002      0.998      -2.216       2.210\n",
            "iso_code_MDV                           -1.6237      1.040     -1.561      0.119      -3.664       0.417\n",
            "iso_code_MEX                            3.3297      0.453      7.344      0.000       2.441       4.219\n",
            "iso_code_MKD                            5.5266      1.199      4.607      0.000       3.174       7.879\n",
            "iso_code_MLT                           -0.6519      1.190     -0.548      0.584      -2.985       1.681\n",
            "iso_code_MNE                            3.3456      1.425      2.347      0.019       0.550       6.141\n",
            "iso_code_MOZ                           -1.0202      0.795     -1.284      0.199      -2.579       0.539\n",
            "iso_code_MWI                            0.6365      0.946      0.673      0.501      -1.219       2.492\n",
            "iso_code_MYS                            0.7481      0.627      1.192      0.233      -0.482       1.979\n",
            "iso_code_NGA                           -0.7686      0.643     -1.195      0.232      -2.030       0.493\n",
            "iso_code_NLD                           -1.1895      0.401     -2.964      0.003      -1.977      -0.402\n",
            "iso_code_NOR                           -1.0431      0.514     -2.031      0.042      -2.050      -0.036\n",
            "iso_code_NPL                           -1.1508      1.468     -0.784      0.433      -4.030       1.728\n",
            "iso_code_NZL                           -1.9020      0.697     -2.729      0.006      -3.269      -0.535\n",
            "iso_code_OMN                            0.0375      1.271      0.029      0.976      -2.455       2.530\n",
            "iso_code_OWID_KOS                      -0.0292      1.025     -0.029      0.977      -2.038       1.980\n",
            "iso_code_PAK                           -1.9111      0.737     -2.591      0.010      -3.357      -0.465\n",
            "iso_code_PER                            4.3010      0.691      6.226      0.000       2.946       5.656\n",
            "iso_code_PHL                           -2.3841      0.595     -4.010      0.000      -3.550      -1.218\n",
            "iso_code_PNG                            1.0599      1.467      0.723      0.470      -1.817       3.937\n",
            "iso_code_POL                            0.4612      0.501      0.920      0.358      -0.522       1.444\n",
            "iso_code_PRT                            0.5073      0.542      0.936      0.349      -0.555       1.570\n",
            "iso_code_PRY                            1.6205      1.255      1.292      0.197      -0.840       4.081\n",
            "iso_code_QAT                           -0.1081      1.187     -0.091      0.927      -2.436       2.219\n",
            "iso_code_ROU                            1.1944      0.611      1.956      0.051      -0.003       2.392\n",
            "iso_code_RUS                           -1.2268      0.574     -2.138      0.033      -2.352      -0.101\n",
            "iso_code_RWA                           -1.3022      0.950     -1.371      0.170      -3.165       0.560\n",
            "iso_code_SEN                            0.0532      0.943      0.056      0.955      -1.796       1.903\n",
            "iso_code_SGP                           -0.0945      1.280     -0.074      0.941      -2.606       2.417\n",
            "iso_code_SUR                            0.6339      0.795      0.797      0.425      -0.925       2.193\n",
            "iso_code_SVK                            2.8578      0.548      5.211      0.000       1.782       3.933\n",
            "iso_code_SVN                            1.4931      0.444      3.360      0.001       0.622       2.365\n",
            "iso_code_SWE                            0.1906      0.412      0.462      0.644      -0.618       0.999\n",
            "iso_code_SXM                           -0.6500      1.256     -0.517      0.605      -3.113       1.813\n",
            "iso_code_SYC                           -3.4766      1.041     -3.339      0.001      -5.519      -1.435\n",
            "iso_code_TGO                            0.0818      1.230      0.066      0.947      -2.331       2.494\n",
            "iso_code_THA                           -3.5806      0.753     -4.753      0.000      -5.058      -2.103\n",
            "iso_code_TTO                           -1.9017      1.099     -1.731      0.084      -4.057       0.253\n",
            "iso_code_TUR                            0.9652      0.564      1.712      0.087      -0.141       2.071\n",
            "iso_code_UGA                           -0.8265      1.009     -0.819      0.413      -2.805       1.152\n",
            "iso_code_UKR                           -2.4084      1.080     -2.230      0.026      -4.526      -0.291\n",
            "iso_code_URY                            1.0264      0.982      1.045      0.296      -0.900       2.953\n",
            "iso_code_USA                            2.5598      0.532      4.808      0.000       1.516       3.604\n",
            "iso_code_VNM                           -4.2609      1.014     -4.201      0.000      -6.250      -2.272\n",
            "iso_code_ZAF                            0.4954      0.441      1.123      0.262      -0.370       1.361\n",
            "iso_code_ZMB                            1.4729      0.763      1.930      0.054      -0.024       2.970\n",
            "iso_code_ZWE                           -2.2402      0.887     -2.526      0.012      -3.980      -0.501\n",
            "month_year_02-2021                     -0.8597      0.301     -2.861      0.004      -1.449      -0.270\n",
            "month_year_03-2021                     -1.6850      0.328     -5.130      0.000      -2.329      -1.041\n",
            "month_year_04-2021                     -1.5617      0.349     -4.477      0.000      -2.246      -0.878\n",
            "month_year_05-2020                     -3.1395      0.375     -8.365      0.000      -3.875      -2.403\n",
            "month_year_05-2021                     -2.0320      0.357     -5.697      0.000      -2.731      -1.333\n",
            "month_year_06-2020                     -2.6412      0.393     -6.721      0.000      -3.412      -1.871\n",
            "month_year_06-2021                     -2.6264      0.435     -6.036      0.000      -3.480      -1.773\n",
            "month_year_07-2020                     -2.5827      0.382     -6.764      0.000      -3.331      -1.834\n",
            "month_year_07-2021                     -3.1952      0.525     -6.084      0.000      -4.225      -2.165\n",
            "month_year_08-2020                     -2.6318      0.335     -7.845      0.000      -3.290      -1.974\n",
            "month_year_08-2021                     -2.7739      0.577     -4.806      0.000      -3.906      -1.642\n",
            "month_year_09-2020                     -2.6599      0.376     -7.077      0.000      -3.397      -1.923\n",
            "month_year_09-2021                     -2.1357      0.612     -3.490      0.000      -3.336      -0.935\n",
            "month_year_10-2020                     -2.0404      0.362     -5.637      0.000      -2.750      -1.331\n",
            "month_year_10-2021                     -1.7064      0.640     -2.666      0.008      -2.961      -0.451\n",
            "month_year_11-2020                     -0.2035      0.359     -0.566      0.571      -0.908       0.501\n",
            "month_year_11-2021                     -0.9841      0.677     -1.453      0.146      -2.312       0.344\n",
            "month_year_12-2020                      0.6655      0.334      1.991      0.047       0.010       1.321\n",
            "==============================================================================\n",
            "Omnibus:                      761.952   Durbin-Watson:                   0.655\n",
            "Prob(Omnibus):                  0.000   Jarque-Bera (JB):             4944.839\n",
            "Skew:                           1.469   Prob(JB):                         0.00\n",
            "Kurtosis:                       9.711   Cond. No.                     5.41e+20\n",
            "==============================================================================\n",
            "\n",
            "Warnings:\n",
            "[1] Standard Errors assume that the covariance matrix of the errors is correctly specified.\n",
            "[2] The smallest eigenvalue is 1.14e-29. This might indicate that there are\n",
            "strong multicollinearity problems or that the design matrix is singular.\n"
          ]
        }
      ]
    },
    {
      "cell_type": "markdown",
      "source": [
        "Again we see that the including information about countries and month/year greatly improves the model. We now have $Adj. R^2 = 0.523$, meanig that 52.3% of the variance in the response can be explained by the predictors. This again suggests that the pandemic has been worse in some countries than others. Furthermore, it seems as if there remain meaningful differences between countries which are unaccounted for by country-specific quantitative variables in the data set. Finally, we can observe the coefficients for the month/year combinations and note that December, 2020 seems to have been the most deadly month in the pandemic worldwide."
      ],
      "metadata": {
        "id": "9gmYPq69GyYN"
      }
    }
  ]
}