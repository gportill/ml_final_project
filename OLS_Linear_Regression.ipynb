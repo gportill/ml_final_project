{
  "nbformat": 4,
  "nbformat_minor": 0,
  "metadata": {
    "colab": {
      "name": "Linear_Regression.ipynb",
      "provenance": [],
      "collapsed_sections": []
    },
    "kernelspec": {
      "name": "python3",
      "display_name": "Python 3"
    },
    "language_info": {
      "name": "python"
    }
  },
  "cells": [
    {
      "cell_type": "code",
      "execution_count": 246,
      "metadata": {
        "colab": {
          "base_uri": "https://localhost:8080/"
        },
        "id": "Vp3TYOHCd2LC",
        "outputId": "ac2d999e-ee10-4fac-fd10-c69419239599"
      },
      "outputs": [
        {
          "output_type": "stream",
          "name": "stdout",
          "text": [
            "Drive already mounted at /content/drive; to attempt to forcibly remount, call drive.mount(\"/content/drive\", force_remount=True).\n"
          ]
        }
      ],
      "source": [
        "import numpy as np\n",
        "import pandas as pd\n",
        "import matplotlib.pyplot as plt\n",
        "import os\n",
        "\n",
        "#print options to data exploration\n",
        "pd.set_option('display.max_columns', None)\n",
        "pd.set_option('display.max_rows', 200)\n",
        "\n",
        "from google.colab import drive\n",
        "drive.mount('/content/drive')"
      ]
    },
    {
      "cell_type": "markdown",
      "source": [
        "To begin forming our linear regression models we load in our imputed data set."
      ],
      "metadata": {
        "id": "dXkdQeXIlVrO"
      }
    },
    {
      "cell_type": "code",
      "source": [
        "personal_path = '/content/drive/My Drive/'\n",
        "path_full = os.path.join(personal_path, \"biweekly_imputed_old_fixed.csv\")\n",
        "df = pd.read_csv(path_full)"
      ],
      "metadata": {
        "id": "g8gbwEcmd-Fl"
      },
      "execution_count": 247,
      "outputs": []
    },
    {
      "cell_type": "markdown",
      "source": [
        "For our first model the reponse will be the number of new Covid cases per million people on a particular day in a particular country. For now we not interested in predicting the reponse of future data points, rather we are interested in direct interpretation of the regression coefficients. Therefore, we forgo splitting the data into a train and test set. \n",
        "\n",
        "Prior to imputing we dropped irrelevant/unineteresting features. For example, having the positive rate of Covid tests on a particular day will indeed be useful for predicting the number of new cases, but this relationship is fundamentally obvious. We want to uncover less intutive relationships.\n",
        "\n",
        "We hope most of the predictor names are sufficiently descriptive. One point of clarification is for the variant predictors such as Alpha, Mu, Delta, etc. correspond to proportion of cases in a specific country on a specific date attributed to each variant. Thus, the sum of the variant data should be 1 for every country on every date."
      ],
      "metadata": {
        "id": "4osV4fjCmR4g"
      }
    },
    {
      "cell_type": "code",
      "source": [
        "y = df['new_cases_smoothed_per_million']\n",
        "X = df.drop(['Unnamed: 0', 'date', 'iso_code','month_yr','new_cases_smoothed_per_million', 'new_deaths_smoothed_per_million'], axis = 1)"
      ],
      "metadata": {
        "id": "ZtuAMPbNeRzT"
      },
      "execution_count": 248,
      "outputs": []
    },
    {
      "cell_type": "markdown",
      "source": [
        "Next, we examine the correlation between features in our data set. Recall that in a an Ordinary Least Squares Linear Regression we assume $Y_i = \\beta_0 + \\beta_1x_1 + \\beta_1x_1 +\\ldots + \\beta_kx_k + ϵ_i$ where we have $k$ features, the n data points are independent, and $\\epsilon ~ \\sim \\mathcal{N}(0, \\sigma^2)$. Under these assumptions the associated likelihhod is $\\prod_i^n p(\\vec{x_i})\\cdot \\frac{1}{(2\\sigma^2\\pi)^{\\frac{1}{2}}} \\cdot exp\\{-\\frac{(y_i-(\\beta_0 + \\sum_{j=1}^k\\beta_jx_{ij}))^2}{2\\sigma^2}\\}$ and it can be shown that maximing this expression as a function of $\\vec{\\beta}$ is equivalent to minimizing $\\sum_{i=1}^n(y_i-(\\beta_0 + \\sum_{j=1}^k\\beta_jx_{ij}))^2$ in terms of $\\vec{\\beta}$. From here it follows that the regression coefficients can solved in closed form as $\\hat{\\vec{\\beta}} = (X^TX)^{-1}X^TY$ where $X$ is our design matrix (matrix of predictors + a column of 1s for an intercept term) and $Y$ is our vector of responses. Note that $\\hat{\\vec{\\beta}}$ depends on $(X^TX)^{-1}$ and that the latter expression will not be invertible if the columns of features are linearly dependent. Thus, if the columns of the design matrix are linearly dependent the OLS estimates for the coefficients cannot be solved for. Furthermore, by noting that $\\hat{\\vec{\\beta}} \\sim \\mathcal{N}(0, (X^TX)^{-1}\\sigma^2)$ we see that large values in $(X^TX)^{-1}$ will cause our coefficient estimates to be highly variable. Thus, we must also be careful to ensure that our design matrix is not near singluar as such a design matrix would yeild abnormally large values in $(X^TX)^{-1}$ and cause our estimates to be highly variable. To avoid this situation we analyze a correlation matrix of our features. Having features that are highly correlated will result in $(X^TX)^{-1}$ being near singular and so if a pair of features is highly correlated we will remove one of them. The plot below visualizes our correlation matrix. We are concerned about off-diagonal cells which are light green/yellow."
      ],
      "metadata": {
        "id": "jNRx1TFWn06P"
      }
    },
    {
      "cell_type": "code",
      "source": [
        "plt.figure(figsize=(8, 8))\n",
        "plt.matshow(X.corr(), fignum = 1)\n",
        "plt.colorbar()\n",
        "plt.title('Correlation Matrix of Features')\n",
        "plt.show()"
      ],
      "metadata": {
        "colab": {
          "base_uri": "https://localhost:8080/",
          "height": 481
        },
        "id": "gIerbPNznm_P",
        "outputId": "9e123825-1a75-4f16-8989-c60d6c101b1f"
      },
      "execution_count": 249,
      "outputs": [
        {
          "output_type": "display_data",
          "data": {
            "image/png": "[encoded data removed]",
            "text/plain": [
              "<Figure size 576x576 with 2 Axes>"
            ]
          },
          "metadata": {
            "needs_background": "light"
          }
        }
      ]
    },
    {
      "cell_type": "markdown",
      "source": [
        "We now drop the highly correlated predictors from our design matrix. We use a threshold of 0.8 to identify highly correlated pairs."
      ],
      "metadata": {
        "id": "LknXvHnqz1n6"
      }
    },
    {
      "cell_type": "code",
      "source": [
        "X.drop(['non_who','daily_people_vaccinated_per_hundred','people_vaccinated_per_hundred','people_fully_vaccinated_per_hundred','daily_vaccinations_per_million','new_people_vaccinated_smoothed_per_hundred','life_expectancy','aged_70_older','human_development_index'], axis = 1, inplace = True)"
      ],
      "metadata": {
        "id": "V4ex1m_fnn9e"
      },
      "execution_count": 250,
      "outputs": []
    },
    {
      "cell_type": "markdown",
      "source": [
        "We now fit our initial linear regression model. We display some verbose output from the regression below and analyze it in the proceeding cell."
      ],
      "metadata": {
        "id": "osSkWPZl31UC"
      }
    },
    {
      "cell_type": "code",
      "source": [
        "import statsmodels.api as sm\n",
        "\n",
        "#add a column of ones for the intercept term\n",
        "X_full = sm.add_constant(X)\n",
        "est_full = sm.OLS(y, X_full)\n",
        "est_full_fit = est_full.fit()\n",
        "print(est_full_fit.summary())"
      ],
      "metadata": {
        "colab": {
          "base_uri": "https://localhost:8080/"
        },
        "id": "bYbVwSd81WBH",
        "outputId": "c7865320-8937-4dc9-aa39-3dea6242e555"
      },
      "execution_count": 251,
      "outputs": [
        {
          "output_type": "stream",
          "name": "stdout",
          "text": [
            "                                  OLS Regression Results                                  \n",
            "==========================================================================================\n",
            "Dep. Variable:     new_cases_smoothed_per_million   R-squared:                       0.144\n",
            "Model:                                        OLS   Adj. R-squared:                  0.135\n",
            "Method:                             Least Squares   F-statistic:                     16.34\n",
            "Date:                            Sat, 11 Dec 2021   Prob (F-statistic):           1.59e-57\n",
            "Time:                                    23:46:09   Log-Likelihood:                -14441.\n",
            "No. Observations:                            2164   AIC:                         2.893e+04\n",
            "Df Residuals:                                2141   BIC:                         2.906e+04\n",
            "Df Model:                                      22                                         \n",
            "Covariance Type:                        nonrobust                                         \n",
            "=========================================================================================================\n",
            "                                            coef    std err          t      P>|t|      [0.025      0.975]\n",
            "---------------------------------------------------------------------------------------------------------\n",
            "const                                  -365.3785     42.434     -8.610      0.000    -448.595    -282.162\n",
            "total_vaccinations_per_hundred           -0.1443      0.170     -0.849      0.396      -0.478       0.189\n",
            "new_vaccinations_smoothed_per_million     0.0012      0.001      1.470      0.142      -0.000       0.003\n",
            "stringency_index                          2.9083      0.308      9.455      0.000       2.305       3.512\n",
            "population_density                       -0.0190      0.004     -4.533      0.000      -0.027      -0.011\n",
            "median_age                                7.5940      1.787      4.250      0.000       4.090      11.098\n",
            "aged_65_older                            -4.9742      2.260     -2.201      0.028      -9.406      -0.543\n",
            "gdp_per_capita                            0.0011      0.000      4.049      0.000       0.001       0.002\n",
            "extreme_poverty                          -0.4020      0.173     -2.323      0.020      -0.741      -0.063\n",
            "cardiovasc_death_rate                     0.2200      0.055      4.026      0.000       0.113       0.327\n",
            "diabetes_prevalence                       0.0076      1.715      0.004      0.996      -3.356       3.372\n",
            "female_smokers                            2.6453      0.493      5.364      0.000       1.678       3.612\n",
            "male_smokers                             -0.4698      0.354     -1.328      0.184      -1.164       0.224\n",
            "Beta                                      0.3831      0.325      1.178      0.239      -0.254       1.021\n",
            "Epsilon                                   6.0920      3.295      1.849      0.065      -0.369      12.553\n",
            "Gamma                                     1.6967      0.398      4.260      0.000       0.916       2.478\n",
            "Kappa                                    -2.4193      2.091     -1.157      0.247      -6.519       1.680\n",
            "Iota                                     -1.5911      2.452     -0.649      0.516      -6.399       3.217\n",
            "Eta                                       0.4233      1.450      0.292      0.770      -2.420       3.267\n",
            "Delta                                     1.0187      0.182      5.584      0.000       0.661       1.376\n",
            "Alpha                                     0.3846      0.155      2.480      0.013       0.080       0.689\n",
            "Lambda                                    0.9864      0.799      1.235      0.217      -0.580       2.553\n",
            "Mu                                       -2.4027      4.553     -0.528      0.598     -11.331       6.526\n",
            "==============================================================================\n",
            "Omnibus:                     1202.422   Durbin-Watson:                   0.529\n",
            "Prob(Omnibus):                  0.000   Jarque-Bera (JB):             9876.618\n",
            "Skew:                           2.534   Prob(JB):                         0.00\n",
            "Kurtosis:                      12.157   Cond. No.                     3.94e+05\n",
            "==============================================================================\n",
            "\n",
            "Warnings:\n",
            "[1] Standard Errors assume that the covariance matrix of the errors is correctly specified.\n",
            "[2] The condition number is large, 3.94e+05. This might indicate that there are\n",
            "strong multicollinearity or other numerical problems.\n"
          ]
        }
      ]
    },
    {
      "cell_type": "markdown",
      "source": [
        "The first value to consider is the $R^2$ value. This is a measure of goodeness of fit and is defined as $R^2=1-\\frac{\\sum_{i=1}^n(y_i-\\hat{y_i})^2}{\\sum_{i=1}^n(y_i-\\bar{y})^2}$. Evidently the closer $R^2$ is to 1 the better the model is at explaining the response. We will consider the adjusted $R^2$ value which penalizes for having many predictors. Such a penalty is logical since adding predictors to a linear regression model will only help its explanatory ability even if the added predictor is completly irrelavent. For our model $Adj. R^2 = 0.141$ which is rather low. Such a value can roughly be interpreted as meaning that the predictor variables account for 14.1% of the variability in the response variable. Nonetheless the model is not worthless. The $F-Test$ for overall model utility which has null hypothesis $H_0:$ our model and a model consisting of only an intercept term have the same explanatory capability, has a near zero p-value. Thus, we can conclude that the predictors do indeed have an effect on the response but they do not tell the entire story. We can also examine $t-tests$ for individual predictors. Each such test has the null hypothesis $H_0:$ the coefficient associated with the predictor is 0. Thus, if the p-value of such a test is large the predictor may not have any influence on the response and may be able to be removed without hindering the model. In our model, if we conduct the test at a 95% confidence level, the insignificant predictors are total vaccinations per hundred, new vaccinaitions smoothed per million, diabetes prevalence, male smokers, Beta, Kappa, Iota, Eta, Lambda, Epsilon and Mu. we now fit a model with these predictors removed and check to see if we can safetly justify their removal."
      ],
      "metadata": {
        "id": "TLWTJwhL5VuF"
      }
    },
    {
      "cell_type": "code",
      "source": [
        "from statsmodels.stats.anova import anova_lm\n",
        "X_nested = X.drop(['total_vaccinations_per_hundred','new_vaccinations_smoothed_per_million','diabetes_prevalence','male_smokers','Beta','Kappa','Iota','Eta','Lambda','Mu','Epsilon'], axis = 1)\n",
        "X_nested_const = sm.add_constant(X_nested)\n",
        "est_nested = sm.OLS(y, X_nested_const)\n",
        "est_nested_fit = est_nested.fit()\n",
        "print(anova_lm(est_nested_fit, est_full_fit))"
      ],
      "metadata": {
        "colab": {
          "base_uri": "https://localhost:8080/"
        },
        "id": "52HXed6GsHgv",
        "outputId": "4407ed95-c76f-4020-b87f-3f489dc8346a"
      },
      "execution_count": 252,
      "outputs": [
        {
          "output_type": "stream",
          "name": "stdout",
          "text": [
            "   df_resid           ssr  df_diff        ss_diff         F    Pr(>F)\n",
            "0    2152.0  7.968454e+07      0.0            NaN       NaN       NaN\n",
            "1    2141.0  7.924465e+07     11.0  439895.052423  1.080446  0.372965\n"
          ]
        }
      ]
    },
    {
      "cell_type": "markdown",
      "source": [
        "The above output details an $F-Test$ for nested linear regression models. The null hypothesis is $H_0:$ all coeffcients present in the full model but not the nested model are 0. In other words the hypothesis test is detirmining if the nested model accounts for the just as much variance in the reponse as the full model. In our case the p-value is 0.596 and so we fail to reject th null hypothesis and we can justifiably reduce the model. It is interesting to note that the number of vaccinations administered in a country does not seem to significantly influence the number of cases in the country. This may suggest that vaccinations are not particularly effective at preventing infections. We now exmaine the coefficients of this nested model.\n"
      ],
      "metadata": {
        "id": "tFtpYzdbsFzS"
      }
    },
    {
      "cell_type": "code",
      "source": [
        "print(est_nested_fit.summary())"
      ],
      "metadata": {
        "colab": {
          "base_uri": "https://localhost:8080/"
        },
        "id": "OoD_ZzHPwFcz",
        "outputId": "ef61f804-7da0-4520-b6e8-3d18cf0f449f"
      },
      "execution_count": 253,
      "outputs": [
        {
          "output_type": "stream",
          "name": "stdout",
          "text": [
            "                                  OLS Regression Results                                  \n",
            "==========================================================================================\n",
            "Dep. Variable:     new_cases_smoothed_per_million   R-squared:                       0.139\n",
            "Model:                                        OLS   Adj. R-squared:                  0.135\n",
            "Method:                             Least Squares   F-statistic:                     31.59\n",
            "Date:                            Sat, 11 Dec 2021   Prob (F-statistic):           1.39e-62\n",
            "Time:                                    23:46:13   Log-Likelihood:                -14447.\n",
            "No. Observations:                            2164   AIC:                         2.892e+04\n",
            "Df Residuals:                                2152   BIC:                         2.899e+04\n",
            "Df Model:                                      11                                         \n",
            "Covariance Type:                        nonrobust                                         \n",
            "=========================================================================================\n",
            "                            coef    std err          t      P>|t|      [0.025      0.975]\n",
            "-----------------------------------------------------------------------------------------\n",
            "const                  -343.9486     39.285     -8.755      0.000    -420.990    -266.907\n",
            "stringency_index          2.8844      0.301      9.581      0.000       2.294       3.475\n",
            "population_density       -0.0189      0.004     -4.534      0.000      -0.027      -0.011\n",
            "median_age                6.9430      1.517      4.577      0.000       3.968       9.918\n",
            "aged_65_older            -4.6149      1.861     -2.480      0.013      -8.264      -0.966\n",
            "gdp_per_capita            0.0011      0.000      4.209      0.000       0.001       0.002\n",
            "extreme_poverty          -0.4070      0.165     -2.473      0.013      -0.730      -0.084\n",
            "cardiovasc_death_rate     0.1908      0.050      3.844      0.000       0.093       0.288\n",
            "female_smokers            2.4564      0.467      5.261      0.000       1.541       3.372\n",
            "Gamma                     1.7548      0.365      4.804      0.000       1.038       2.471\n",
            "Delta                     0.8553      0.111      7.687      0.000       0.637       1.074\n",
            "Alpha                     0.3686      0.147      2.502      0.012       0.080       0.658\n",
            "==============================================================================\n",
            "Omnibus:                     1199.698   Durbin-Watson:                   0.529\n",
            "Prob(Omnibus):                  0.000   Jarque-Bera (JB):             9751.773\n",
            "Skew:                           2.532   Prob(JB):                         0.00\n",
            "Kurtosis:                      12.084   Cond. No.                     3.63e+05\n",
            "==============================================================================\n",
            "\n",
            "Warnings:\n",
            "[1] Standard Errors assume that the covariance matrix of the errors is correctly specified.\n",
            "[2] The condition number is large, 3.63e+05. This might indicate that there are\n",
            "strong multicollinearity or other numerical problems.\n"
          ]
        }
      ]
    },
    {
      "cell_type": "markdown",
      "source": [
        "Interpreting regression coefficients can be tricky. One needs to resist the temptation to fit a narraive to explain the why the coefficients take on certain values. For example, strigency_index is a metric developed by Our World in Data, that attempts to quantify how many restrictions a country has put in place to slow the spread of Covid-19. Countries with mask mandates, travel bans, and mandatory quarantines will have a higher strigency index than those countries which do not. The regression coefficient associated with strigency index is 2.884, suggesting that the more restrictions a government puts in place the more Covid-19 spreads. Of course the true relationship is likely that the governments of countries in which there is a COVID-19 outbreak, and thus lots of new cases, are more likely to implement restrictive measures to slow the spread. Other interesting findings are that the only significant variants were Gamma, Delta, and Alpha, all of which have positive coefficients. This could possibly suggest that these variants are more contagious. However, in the case of the Gamma variant the data is limited and so any conclusions should be take with a grain of salt. Another interesting note is that the female smoker predictor was significant but the male smoker predictor was not. We are hesistant to hypothesize why this is the case but perhaps the amount of female smokers in a country is a proxy for the nation's underlying ideology about government interventions. Lastly, it seems counter intuitive that median age is positively associated why aged 65 older is negatively associated."
      ],
      "metadata": {
        "id": "DM4WD8o7wPmm"
      }
    },
    {
      "cell_type": "markdown",
      "source": [
        "We are also interested in directly comparing the magnitide of the effect of each predictor. To do this we standardize the predictors and re-fit the regression model. Note that with the scaled data no intercept term is necessary."
      ],
      "metadata": {
        "id": "3OcNvFDHLH8B"
      }
    },
    {
      "cell_type": "code",
      "source": [
        "from sklearn.preprocessing import StandardScaler\n",
        "\n",
        "scaler = StandardScaler()\n",
        "scaler_y = StandardScaler()\n",
        "y_scaled = scaler_y.fit_transform(np.array(y).reshape(-1,1))\n",
        "cols = X_nested.columns\n",
        "X_nested_scaled = pd.DataFrame(scaler.fit_transform(X_nested))\n",
        "X_nested_scaled.columns = cols\n",
        "est_nested_scaled = sm.OLS(y_scaled, X_nested_scaled)\n",
        "est_nested_scaled_fit = est_nested_scaled.fit()\n",
        "print(est_nested_scaled_fit.summary())"
      ],
      "metadata": {
        "colab": {
          "base_uri": "https://localhost:8080/"
        },
        "id": "gJXA2fArMdrK",
        "outputId": "1ae9b51e-05ad-4caa-f3af-3099ccacb8c5"
      },
      "execution_count": 254,
      "outputs": [
        {
          "output_type": "stream",
          "name": "stdout",
          "text": [
            "                                 OLS Regression Results                                \n",
            "=======================================================================================\n",
            "Dep. Variable:                      y   R-squared (uncentered):                   0.139\n",
            "Model:                            OLS   Adj. R-squared (uncentered):              0.135\n",
            "Method:                 Least Squares   F-statistic:                              31.60\n",
            "Date:                Sat, 11 Dec 2021   Prob (F-statistic):                    1.29e-62\n",
            "Time:                        23:46:15   Log-Likelihood:                         -2908.6\n",
            "No. Observations:                2164   AIC:                                      5839.\n",
            "Df Residuals:                    2153   BIC:                                      5902.\n",
            "Df Model:                          11                                                  \n",
            "Covariance Type:            nonrobust                                                  \n",
            "=========================================================================================\n",
            "                            coef    std err          t      P>|t|      [0.025      0.975]\n",
            "-----------------------------------------------------------------------------------------\n",
            "stringency_index          0.2170      0.023      9.583      0.000       0.173       0.261\n",
            "population_density       -0.1061      0.023     -4.535      0.000      -0.152      -0.060\n",
            "median_age                0.2765      0.060      4.578      0.000       0.158       0.395\n",
            "aged_65_older            -0.1491      0.060     -2.481      0.013      -0.267      -0.031\n",
            "gdp_per_capita            0.1191      0.028      4.210      0.000       0.064       0.175\n",
            "extreme_poverty          -0.0557      0.023     -2.473      0.013      -0.100      -0.012\n",
            "cardiovasc_death_rate     0.0931      0.024      3.845      0.000       0.046       0.141\n",
            "female_smokers            0.1339      0.025      5.262      0.000       0.084       0.184\n",
            "Gamma                     0.0999      0.021      4.805      0.000       0.059       0.141\n",
            "Delta                     0.1761      0.023      7.689      0.000       0.131       0.221\n",
            "Alpha                     0.0544      0.022      2.502      0.012       0.012       0.097\n",
            "==============================================================================\n",
            "Omnibus:                     1199.698   Durbin-Watson:                   0.529\n",
            "Prob(Omnibus):                  0.000   Jarque-Bera (JB):             9751.773\n",
            "Skew:                           2.532   Prob(JB):                         0.00\n",
            "Kurtosis:                      12.084   Cond. No.                         7.34\n",
            "==============================================================================\n",
            "\n",
            "Warnings:\n",
            "[1] Standard Errors assume that the covariance matrix of the errors is correctly specified.\n"
          ]
        }
      ]
    },
    {
      "cell_type": "markdown",
      "source": [
        "From this output we can see that we see that the three predictors with greatest positive affect on the number of cases on a given day were strigency index and median age. Furthermore, we can now see that the Delta variant seems to be the most contagious."
      ],
      "metadata": {
        "id": "OCgndFPdQyxQ"
      }
    },
    {
      "cell_type": "markdown",
      "source": [
        "The last analysis we will perform on this model will be the addition of categorical predictors. These added predictors correspond to the country and the month-year combination corresponding to each row."
      ],
      "metadata": {
        "id": "xcEATxUeUmug"
      }
    },
    {
      "cell_type": "code",
      "source": [
        "X_nested['iso_code'], X_nested['month_year'] = df['iso_code'], df['month_yr']\n",
        "X_nested_dummy = pd.get_dummies(X_nested, drop_first=True)\n",
        "X_nested_dummy_const = sm.add_constant(X_nested_dummy)\n",
        "est_dummy = sm.OLS(y, X_nested_dummy_const)\n",
        "est_dummy_fit_cases = est_dummy.fit()\n",
        "print(est_dummy_fit_cases.summary())"
      ],
      "metadata": {
        "colab": {
          "base_uri": "https://localhost:8080/"
        },
        "id": "rXmME29CVGPD",
        "outputId": "387e825c-e4ca-41fe-9283-5124dcc801ea"
      },
      "execution_count": 255,
      "outputs": [
        {
          "output_type": "stream",
          "name": "stdout",
          "text": [
            "                                  OLS Regression Results                                  \n",
            "==========================================================================================\n",
            "Dep. Variable:     new_cases_smoothed_per_million   R-squared:                       0.463\n",
            "Model:                                        OLS   Adj. R-squared:                  0.429\n",
            "Method:                             Least Squares   F-statistic:                     13.60\n",
            "Date:                            Sat, 11 Dec 2021   Prob (F-statistic):          4.61e-193\n",
            "Time:                                    23:46:18   Log-Likelihood:                -13935.\n",
            "No. Observations:                            2164   AIC:                         2.813e+04\n",
            "Df Residuals:                                2034   BIC:                         2.887e+04\n",
            "Df Model:                                     129                                         \n",
            "Covariance Type:                        nonrobust                                         \n",
            "=========================================================================================\n",
            "                            coef    std err          t      P>|t|      [0.025      0.975]\n",
            "-----------------------------------------------------------------------------------------\n",
            "const                  -342.7246     36.390     -9.418      0.000    -414.091    -271.358\n",
            "stringency_index          4.7695      0.345     13.821      0.000       4.093       5.446\n",
            "population_density       -0.0202      0.004     -4.934      0.000      -0.028      -0.012\n",
            "median_age                7.4351      1.564      4.754      0.000       4.368      10.502\n",
            "aged_65_older            -3.0706      1.824     -1.684      0.092      -6.647       0.506\n",
            "gdp_per_capita            0.0009      0.000      3.003      0.003       0.000       0.001\n",
            "extreme_poverty          -0.7389      0.228     -3.245      0.001      -1.186      -0.292\n",
            "cardiovasc_death_rate     0.2020      0.053      3.782      0.000       0.097       0.307\n",
            "female_smokers            0.2415      0.844      0.286      0.775      -1.414       1.897\n",
            "Gamma                     2.7234      0.477      5.715      0.000       1.789       3.658\n",
            "Delta                     1.7088      0.327      5.224      0.000       1.067       2.350\n",
            "Alpha                     0.0984      0.232      0.424      0.671      -0.356       0.553\n",
            "iso_code_ARE            -41.0324     38.961     -1.053      0.292    -117.441      35.376\n",
            "iso_code_ARG            -33.9806     28.555     -1.190      0.234     -89.980      22.019\n",
            "iso_code_AUS           -195.8685     25.188     -7.776      0.000    -245.265    -146.472\n",
            "iso_code_AUT            -62.2395     26.988     -2.306      0.021    -115.166      -9.313\n",
            "iso_code_BEL             40.4777     24.803      1.632      0.103      -8.165      89.120\n",
            "iso_code_BGD           -155.0566     30.804     -5.034      0.000    -215.467     -94.647\n",
            "iso_code_BGR            -37.3585     34.382     -1.087      0.277    -104.787      30.070\n",
            "iso_code_BHR            166.1238     41.401      4.013      0.000      84.931     247.316\n",
            "iso_code_BIH             15.0749    107.007      0.141      0.888    -194.779     224.929\n",
            "iso_code_BLZ             34.4056     97.106      0.354      0.723    -156.031     224.842\n",
            "iso_code_BRA            -60.1040     28.479     -2.110      0.035    -115.956      -4.252\n",
            "iso_code_BWA            206.6179     43.331      4.768      0.000     121.640     291.596\n",
            "iso_code_CAN           -172.5408     26.519     -6.506      0.000    -224.548    -120.534\n",
            "iso_code_CHE             16.7727     25.501      0.658      0.511     -33.238      66.783\n",
            "iso_code_CHL            -91.2345     31.759     -2.873      0.004    -153.518     -28.951\n",
            "iso_code_CMR             75.0691     79.001      0.950      0.342     -79.862     230.000\n",
            "iso_code_COL             68.5751     35.562      1.928      0.054      -1.166     138.317\n",
            "iso_code_CRI            111.2315     36.778      3.024      0.003      39.104     183.358\n",
            "iso_code_CZE            247.3642     34.642      7.141      0.000     179.426     315.302\n",
            "iso_code_DEU            -94.6876     28.132     -3.366      0.001    -149.858     -39.517\n",
            "iso_code_DJI             75.9388     77.801      0.976      0.329     -76.639     228.517\n",
            "iso_code_DNK            -24.6899     24.787     -0.996      0.319     -73.301      23.922\n",
            "iso_code_DOM           -103.8685     77.871     -1.334      0.182    -256.583      48.846\n",
            "iso_code_ECU            -40.9939     45.007     -0.911      0.362    -129.259      47.271\n",
            "iso_code_EGY           -144.6411     45.400     -3.186      0.001    -233.677     -55.605\n",
            "iso_code_ESP            -41.3923     25.069     -1.651      0.099     -90.556       7.771\n",
            "iso_code_EST            259.3046     33.290      7.789      0.000     194.018     324.591\n",
            "iso_code_ETH             25.6793     88.023      0.292      0.771    -146.945     198.303\n",
            "iso_code_FIN            -38.7062     29.279     -1.322      0.186     -96.126      18.713\n",
            "iso_code_FJI            131.6233     88.658      1.485      0.138     -42.247     305.494\n",
            "iso_code_FRA              3.9118     25.376      0.154      0.878     -45.854      53.677\n",
            "iso_code_GBR             37.5603     24.913      1.508      0.132     -11.296      86.417\n",
            "iso_code_GEO            548.4426     85.433      6.420      0.000     380.897     715.988\n",
            "iso_code_GHA             -0.9600     37.780     -0.025      0.980     -75.051      73.131\n",
            "iso_code_GMB             36.8972     54.921      0.672      0.502     -70.810     144.605\n",
            "iso_code_GRC           -132.9713     31.294     -4.249      0.000    -194.343     -71.600\n",
            "iso_code_GTM             24.4095     56.401      0.433      0.665     -86.199     135.018\n",
            "iso_code_HKG            -67.9652     29.380     -2.313      0.021    -125.583     -10.347\n",
            "iso_code_HRV             31.6627     36.067      0.878      0.380     -39.068     102.394\n",
            "iso_code_HUN             20.8684     88.637      0.235      0.814    -152.961     194.697\n",
            "iso_code_IDN           -185.7403     31.714     -5.857      0.000    -247.936    -123.545\n",
            "iso_code_IND           -150.8479     26.516     -5.689      0.000    -202.850     -98.846\n",
            "iso_code_IRL            -52.9240     26.688     -1.983      0.047    -105.262      -0.586\n",
            "iso_code_IRQ             -0.4976    151.092     -0.003      0.997    -296.809     295.813\n",
            "iso_code_ISL            -37.9587     30.495     -1.245      0.213     -97.763      21.846\n",
            "iso_code_ISR            164.4022     31.211      5.267      0.000     103.193     225.611\n",
            "iso_code_ITA           -142.8777     27.266     -5.240      0.000    -196.350     -89.405\n",
            "iso_code_JAM            -30.4605    104.049     -0.293      0.770    -234.514     173.593\n",
            "iso_code_JOR             33.0894     62.420      0.530      0.596     -89.324     155.503\n",
            "iso_code_JPN            -30.0419     29.639     -1.014      0.311     -88.168      28.084\n",
            "iso_code_KAZ            -55.1730     67.309     -0.820      0.412    -187.175      76.829\n",
            "iso_code_KEN            -50.4916     28.164     -1.793      0.073    -105.724       4.741\n",
            "iso_code_KHM           -116.2021     40.859     -2.844      0.004    -196.331     -36.073\n",
            "iso_code_KOR           -147.1012     30.679     -4.795      0.000    -207.267     -86.935\n",
            "iso_code_KWT            103.0452     62.705      1.643      0.100     -19.928     226.019\n",
            "iso_code_LBN            142.3862     54.594      2.608      0.009      35.321     249.452\n",
            "iso_code_LKA           -154.3558     39.767     -3.881      0.000    -232.345     -76.367\n",
            "iso_code_LTU            178.5204     31.798      5.614      0.000     116.160     240.881\n",
            "iso_code_LUX             60.5373     29.596      2.045      0.041       2.495     118.580\n",
            "iso_code_LVA             39.1964     41.788      0.938      0.348     -42.756     121.148\n",
            "iso_code_MAR            -98.5457    106.687     -0.924      0.356    -307.773     110.681\n",
            "iso_code_MDG             28.5394     54.854      0.520      0.603     -79.037     136.116\n",
            "iso_code_MDV             75.0554     60.816      1.234      0.217     -44.212     194.323\n",
            "iso_code_MEX            -76.5489     25.699     -2.979      0.003    -126.948     -26.150\n",
            "iso_code_MKD             17.1342     64.941      0.264      0.792    -110.224     144.492\n",
            "iso_code_MLT           -141.5627     68.084     -2.079      0.038    -275.084      -8.042\n",
            "iso_code_MNE            339.2513     77.216      4.394      0.000     187.820     490.683\n",
            "iso_code_MOZ            -18.6604     50.941     -0.366      0.714    -118.563      81.242\n",
            "iso_code_MWI             60.8817     59.747      1.019      0.308     -56.289     178.052\n",
            "iso_code_MYS            -47.8217     32.161     -1.487      0.137    -110.893      15.249\n",
            "iso_code_NGA             16.3848     39.362      0.416      0.677     -60.809      93.578\n",
            "iso_code_NLD             45.1620     24.543      1.840      0.066      -2.970      93.294\n",
            "iso_code_NOR            -88.9500     25.657     -3.467      0.001    -139.267     -38.633\n",
            "iso_code_NPL           -116.7332     90.653     -1.288      0.198    -294.516      61.049\n",
            "iso_code_NZL           -207.8186     43.154     -4.816      0.000    -292.449    -123.188\n",
            "iso_code_OMN             26.9373     74.478      0.362      0.718    -119.125     172.999\n",
            "iso_code_OWID_KOS       157.6185     55.262      2.852      0.004      49.242     265.995\n",
            "iso_code_PAK           -128.6282     41.054     -3.133      0.002    -209.141     -48.116\n",
            "iso_code_PER            -66.4884     29.167     -2.280      0.023    -123.689      -9.287\n",
            "iso_code_PHL           -129.0448     34.058     -3.789      0.000    -195.837     -62.253\n",
            "iso_code_PNG            -65.5074     62.895     -1.042      0.298    -188.853      57.839\n",
            "iso_code_POL            -61.0307     30.952     -1.972      0.049    -121.731      -0.331\n",
            "iso_code_PRT            -31.5044     30.111     -1.046      0.296     -90.555      27.546\n",
            "iso_code_PRY            -21.2373     77.328     -0.275      0.784    -172.888     130.413\n",
            "iso_code_QAT            -33.4253     31.922     -1.047      0.295     -96.029      29.178\n",
            "iso_code_ROU            -69.3240     29.420     -2.356      0.019    -127.021     -11.627\n",
            "iso_code_RUS           -105.2175     27.913     -3.769      0.000    -159.959     -50.476\n",
            "iso_code_RWA             -6.2754     59.001     -0.106      0.915    -121.984     109.433\n",
            "iso_code_SEN             50.1038     58.769      0.853      0.394     -65.149     165.357\n",
            "iso_code_SGP             68.6638     27.656      2.483      0.013      14.427     122.901\n",
            "iso_code_SUR            -20.3263     47.775     -0.425      0.671    -114.020      73.367\n",
            "iso_code_SVK            214.0037     32.782      6.528      0.000     149.714     278.294\n",
            "iso_code_SVN            142.0632     26.917      5.278      0.000      89.276     194.850\n",
            "iso_code_SWE             36.7142     25.099      1.463      0.144     -12.509      85.937\n",
            "iso_code_SYC            441.9748     63.723      6.936      0.000     317.006     566.944\n",
            "iso_code_TGO             30.9776     76.959      0.403      0.687    -119.950     181.905\n",
            "iso_code_THA            -97.7773     37.479     -2.609      0.009    -171.278     -24.277\n",
            "iso_code_TTO           -136.3772     72.684     -1.876      0.061    -278.919       6.165\n",
            "iso_code_TUR             13.4182     31.185      0.430      0.667     -47.740      74.577\n",
            "iso_code_UGA              0.8529     63.797      0.013      0.989    -124.261     125.966\n",
            "iso_code_UKR           -112.8185     56.596     -1.993      0.046    -223.810      -1.827\n",
            "iso_code_URY            114.5144     59.952      1.910      0.056      -3.060     232.089\n",
            "iso_code_USA             34.5388     24.858      1.389      0.165     -14.212      83.289\n",
            "iso_code_VNM           -193.9381     59.302     -3.270      0.001    -310.236     -77.640\n",
            "iso_code_ZAF             -3.2833     25.792     -0.127      0.899     -53.865      47.298\n",
            "iso_code_ZMB            108.2852     48.885      2.215      0.027      12.415     204.155\n",
            "iso_code_ZWE            -91.7424     55.286     -1.659      0.097    -200.166      16.681\n",
            "month_year_02-2021      -76.0083     18.589     -4.089      0.000    -112.465     -39.552\n",
            "month_year_03-2021      -63.8679     20.019     -3.190      0.001    -103.128     -24.608\n",
            "month_year_04-2021      -58.6965     21.263     -2.761      0.006    -100.396     -16.997\n",
            "month_year_05-2020     -206.5771     22.786     -9.066      0.000    -251.263    -161.892\n",
            "month_year_05-2021     -109.6278     21.448     -5.111      0.000    -151.690     -67.566\n",
            "month_year_06-2020     -152.8270     23.886     -6.398      0.000    -199.671    -105.983\n",
            "month_year_06-2021     -188.2387     26.056     -7.224      0.000    -239.337    -137.140\n",
            "month_year_07-2020     -150.3195     23.182     -6.484      0.000    -195.782    -104.857\n",
            "month_year_07-2021     -206.8826     31.379     -6.593      0.000    -268.421    -145.345\n",
            "month_year_08-2020     -141.3330     20.273     -6.971      0.000    -181.091    -101.575\n",
            "month_year_08-2021     -176.2625     33.941     -5.193      0.000    -242.826    -109.699\n",
            "month_year_09-2020     -119.5321     22.791     -5.245      0.000    -164.228     -74.836\n",
            "month_year_09-2021     -176.7007     35.441     -4.986      0.000    -246.205    -107.197\n",
            "month_year_10-2020      -10.2182     21.921     -0.466      0.641     -53.208      32.771\n",
            "month_year_10-2021     -169.9920     36.555     -4.650      0.000    -241.682     -98.302\n",
            "month_year_11-2020       29.5384     21.821      1.354      0.176     -13.256      72.332\n",
            "month_year_11-2021      -36.4595     38.573     -0.945      0.345    -112.107      39.188\n",
            "month_year_12-2020       -1.5630     20.573     -0.076      0.939     -41.909      38.783\n",
            "==============================================================================\n",
            "Omnibus:                      869.465   Durbin-Watson:                   0.768\n",
            "Prob(Omnibus):                  0.000   Jarque-Bera (JB):             6218.410\n",
            "Skew:                           1.725   Prob(JB):                         0.00\n",
            "Kurtosis:                      10.554   Cond. No.                     7.31e+16\n",
            "==============================================================================\n",
            "\n",
            "Warnings:\n",
            "[1] Standard Errors assume that the covariance matrix of the errors is correctly specified.\n",
            "[2] The smallest eigenvalue is 5.91e-22. This might indicate that there are\n",
            "strong multicollinearity problems or that the design matrix is singular.\n"
          ]
        }
      ]
    },
    {
      "cell_type": "markdown",
      "source": [
        "Including information about country and month/year drastically increases the model's explanatory ability. The model has $Adj. R^2 = 0.429$. Observing the p-values associated with the $t-tests$ for these new coeficients reveals two things. First, COVID-19 has affected some countries much more than others. It is evident that there differences between countreies which affect the number of COVID-19 cases which are not present in the data set. Second, the Covid-19 pandemic has increased and decreased in severity with November, 2020 being perhaps the worst month of the pandemic from a perspective of the amount of new cases worldwide."
      ],
      "metadata": {
        "id": "ReqnWOBfYBkB"
      }
    },
    {
      "cell_type": "markdown",
      "source": [
        "We now conduct an entirely anaologous procedure, the only difference being that the response variable will now be new deaths smoothed per million rather than cases."
      ],
      "metadata": {
        "id": "inJqaXNcsY56"
      }
    },
    {
      "cell_type": "code",
      "source": [
        "y = df['new_deaths_smoothed_per_million']\n",
        "#add a column of ones for the intercept term\n",
        "X_full = sm.add_constant(X)\n",
        "est_full = sm.OLS(y, X_full)\n",
        "est_full_fit = est_full.fit()\n",
        "print(est_full_fit.summary())"
      ],
      "metadata": {
        "colab": {
          "base_uri": "https://localhost:8080/"
        },
        "id": "M4staKXH4U1t",
        "outputId": "e94caf2c-d91e-4534-b2f4-37e000b725e0"
      },
      "execution_count": 256,
      "outputs": [
        {
          "output_type": "stream",
          "name": "stdout",
          "text": [
            "                                   OLS Regression Results                                  \n",
            "===========================================================================================\n",
            "Dep. Variable:     new_deaths_smoothed_per_million   R-squared:                       0.289\n",
            "Model:                                         OLS   Adj. R-squared:                  0.281\n",
            "Method:                              Least Squares   F-statistic:                     39.49\n",
            "Date:                             Sat, 11 Dec 2021   Prob (F-statistic):          1.07e-140\n",
            "Time:                                     23:46:20   Log-Likelihood:                -5509.8\n",
            "No. Observations:                             2164   AIC:                         1.107e+04\n",
            "Df Residuals:                                 2141   BIC:                         1.120e+04\n",
            "Df Model:                                       22                                         \n",
            "Covariance Type:                         nonrobust                                         \n",
            "=========================================================================================================\n",
            "                                            coef    std err          t      P>|t|      [0.025      0.975]\n",
            "---------------------------------------------------------------------------------------------------------\n",
            "const                                    -7.9879      0.685    -11.669      0.000      -9.330      -6.645\n",
            "total_vaccinations_per_hundred           -0.0153      0.003     -5.592      0.000      -0.021      -0.010\n",
            "new_vaccinations_smoothed_per_million  3.232e-05   1.27e-05      2.549      0.011    7.46e-06    5.72e-05\n",
            "stringency_index                          0.0642      0.005     12.934      0.000       0.054       0.074\n",
            "population_density                       -0.0002   6.77e-05     -3.518      0.000      -0.000      -0.000\n",
            "median_age                                0.1815      0.029      6.295      0.000       0.125       0.238\n",
            "aged_65_older                            -0.0910      0.036     -2.495      0.013      -0.162      -0.019\n",
            "gdp_per_capita                        -1.544e-05   4.48e-06     -3.446      0.001   -2.42e-05   -6.65e-06\n",
            "extreme_poverty                          -0.0055      0.003     -1.953      0.051      -0.011    2.16e-05\n",
            "cardiovasc_death_rate                     0.0050      0.001      5.645      0.000       0.003       0.007\n",
            "diabetes_prevalence                      -0.0127      0.028     -0.460      0.645      -0.067       0.042\n",
            "female_smokers                            0.0422      0.008      5.311      0.000       0.027       0.058\n",
            "male_smokers                              0.0001      0.006      0.024      0.981      -0.011       0.011\n",
            "Beta                                      0.0029      0.005      0.545      0.586      -0.007       0.013\n",
            "Epsilon                                   0.1911      0.053      3.596      0.000       0.087       0.295\n",
            "Gamma                                     0.0441      0.006      6.861      0.000       0.031       0.057\n",
            "Kappa                                    -0.0607      0.034     -1.801      0.072      -0.127       0.005\n",
            "Iota                                     -0.0421      0.040     -1.066      0.287      -0.120       0.035\n",
            "Eta                                      -0.0011      0.023     -0.045      0.964      -0.047       0.045\n",
            "Delta                                     0.0129      0.003      4.393      0.000       0.007       0.019\n",
            "Alpha                                     0.0072      0.003      2.884      0.004       0.002       0.012\n",
            "Lambda                                    0.1466      0.013     11.377      0.000       0.121       0.172\n",
            "Mu                                       -0.0721      0.073     -0.982      0.326      -0.216       0.072\n",
            "==============================================================================\n",
            "Omnibus:                      957.148   Durbin-Watson:                   0.446\n",
            "Prob(Omnibus):                  0.000   Jarque-Bera (JB):             5227.387\n",
            "Skew:                           2.051   Prob(JB):                         0.00\n",
            "Kurtosis:                       9.415   Cond. No.                     3.94e+05\n",
            "==============================================================================\n",
            "\n",
            "Warnings:\n",
            "[1] Standard Errors assume that the covariance matrix of the errors is correctly specified.\n",
            "[2] The condition number is large, 3.94e+05. This might indicate that there are\n",
            "strong multicollinearity or other numerical problems.\n"
          ]
        }
      ]
    },
    {
      "cell_type": "markdown",
      "source": [
        "Compared to the initial regression on new cases the regression on new deaths provides a moderatly better fit. We have $ADJ. R^2 = 0.281$ and a near zero p-value corresponding to the $F-Test$ for overall model utility. Examining the $t-tests$ for individual coefficients we see that the following are insignificant at a $95\\%$ confidence level: diabetes prevalence, extreme poverty, males smokers, Beta, Iota, Eta, Kappa, and Mu. One interesting finind is that the total number of vaccinations adminitered by a country was not significant in predicting new cases but IS significant in predicting new deaths. This suggests that the vaccines may not be effective at preventing infection but are effective at limiting extreme cases. We now attempt to remove the insignificant predictors."
      ],
      "metadata": {
        "id": "1b7sHk9e5JYx"
      }
    },
    {
      "cell_type": "code",
      "source": [
        "from statsmodels.stats.anova import anova_lm\n",
        "X_nested = X.drop(['diabetes_prevalence','male_smokers','Beta','Iota','Eta','Kappa','Mu','extreme_poverty'], axis = 1)\n",
        "X_nested_const = sm.add_constant(X_nested)\n",
        "est_nested = sm.OLS(y, X_nested_const)\n",
        "est_nested_fit = est_nested.fit()\n",
        "print(anova_lm(est_nested_fit, est_full_fit))"
      ],
      "metadata": {
        "colab": {
          "base_uri": "https://localhost:8080/"
        },
        "id": "oAvUH82b7ua9",
        "outputId": "0bcfa809-5e1a-433a-db82-15d9119deccb"
      },
      "execution_count": 257,
      "outputs": [
        {
          "output_type": "stream",
          "name": "stdout",
          "text": [
            "   df_resid           ssr  df_diff    ss_diff         F    Pr(>F)\n",
            "0    2149.0  20720.887906      0.0        NaN       NaN       NaN\n",
            "1    2141.0  20621.287341      8.0  99.600565  1.292625  0.242587\n"
          ]
        }
      ]
    },
    {
      "cell_type": "markdown",
      "source": [
        "The removal of predictors is again justified by the large p-value of 0.243 in the $F-Test$ for nested linear regression models shown above. We now examine the values of the estimated parameters in the reduced model."
      ],
      "metadata": {
        "id": "LqtoXd6W8gdm"
      }
    },
    {
      "cell_type": "code",
      "source": [
        "print(est_nested_fit.summary())"
      ],
      "metadata": {
        "colab": {
          "base_uri": "https://localhost:8080/"
        },
        "id": "gwRNzkW188Jv",
        "outputId": "fc2172dc-a710-4667-f67b-6eaaa0e117d2"
      },
      "execution_count": 258,
      "outputs": [
        {
          "output_type": "stream",
          "name": "stdout",
          "text": [
            "                                   OLS Regression Results                                  \n",
            "===========================================================================================\n",
            "Dep. Variable:     new_deaths_smoothed_per_million   R-squared:                       0.285\n",
            "Model:                                         OLS   Adj. R-squared:                  0.281\n",
            "Method:                              Least Squares   F-statistic:                     61.25\n",
            "Date:                             Sat, 11 Dec 2021   Prob (F-statistic):          2.46e-145\n",
            "Time:                                     23:46:24   Log-Likelihood:                -5515.0\n",
            "No. Observations:                             2164   AIC:                         1.106e+04\n",
            "Df Residuals:                                 2149   BIC:                         1.115e+04\n",
            "Df Model:                                       14                                         \n",
            "Covariance Type:                         nonrobust                                         \n",
            "=========================================================================================================\n",
            "                                            coef    std err          t      P>|t|      [0.025      0.975]\n",
            "---------------------------------------------------------------------------------------------------------\n",
            "const                                    -8.2592      0.625    -13.221      0.000      -9.484      -7.034\n",
            "total_vaccinations_per_hundred           -0.0152      0.003     -5.624      0.000      -0.020      -0.010\n",
            "new_vaccinations_smoothed_per_million  3.313e-05   1.25e-05      2.658      0.008    8.68e-06    5.76e-05\n",
            "stringency_index                          0.0645      0.005     13.231      0.000       0.055       0.074\n",
            "population_density                       -0.0003   6.25e-05     -4.741      0.000      -0.000      -0.000\n",
            "median_age                                0.1834      0.024      7.610      0.000       0.136       0.231\n",
            "aged_65_older                            -0.0874      0.030     -2.916      0.004      -0.146      -0.029\n",
            "gdp_per_capita                         -1.68e-05   4.35e-06     -3.863      0.000   -2.53e-05   -8.27e-06\n",
            "cardiovasc_death_rate                     0.0049      0.001      5.974      0.000       0.003       0.007\n",
            "female_smokers                            0.0437      0.008      5.765      0.000       0.029       0.059\n",
            "Epsilon                                   0.1878      0.052      3.621      0.000       0.086       0.289\n",
            "Gamma                                     0.0429      0.006      6.848      0.000       0.031       0.055\n",
            "Delta                                     0.0129      0.003      4.485      0.000       0.007       0.019\n",
            "Alpha                                     0.0071      0.002      2.864      0.004       0.002       0.012\n",
            "Lambda                                    0.1472      0.012     12.191      0.000       0.124       0.171\n",
            "==============================================================================\n",
            "Omnibus:                      954.238   Durbin-Watson:                   0.445\n",
            "Prob(Omnibus):                  0.000   Jarque-Bera (JB):             5146.079\n",
            "Skew:                           2.049   Prob(JB):                         0.00\n",
            "Kurtosis:                       9.347   Cond. No.                     3.59e+05\n",
            "==============================================================================\n",
            "\n",
            "Warnings:\n",
            "[1] Standard Errors assume that the covariance matrix of the errors is correctly specified.\n",
            "[2] The condition number is large, 3.59e+05. This might indicate that there are\n",
            "strong multicollinearity or other numerical problems.\n"
          ]
        }
      ]
    },
    {
      "cell_type": "markdown",
      "source": [
        "We see many of the same phenomena which were present in the new cases model such as a positive coefficient associated with the stringency index. One interesting thing to note is that diabetes prevalence is not signficantly associated with new deaths despite diabetes commonly being referred to as a co-morbitity. We hypothesize that this may be the case because diabetes is more prevalent in wealthier countries with better healthcare systems. This would also align with the fact that GDP per capita is also negatively associated with new deaths. Lastly, we note that Delta, Alpha, Lambda, Gamma, and Epsilon variants may be more deadly though there is limited data for the latter three."
      ],
      "metadata": {
        "id": "ADw8YOFaBDTL"
      }
    },
    {
      "cell_type": "markdown",
      "source": [
        "Next we standardize the coefficients to allow for a direct comparison of their magnitude."
      ],
      "metadata": {
        "id": "CkCVq0vqCwf5"
      }
    },
    {
      "cell_type": "code",
      "source": [
        "scaler = StandardScaler()\n",
        "scaler_y = StandardScaler()\n",
        "y_scaled = scaler_y.fit_transform(np.array(y).reshape(-1,1))\n",
        "cols = X_nested.columns\n",
        "X_nested_scaled = pd.DataFrame(scaler.fit_transform(X_nested))\n",
        "X_nested_scaled.columns = cols\n",
        "est_nested_scaled = sm.OLS(y_scaled, X_nested_scaled)\n",
        "est_nested_scaled_fit = est_nested_scaled.fit()\n",
        "print(est_nested_scaled_fit.summary())"
      ],
      "metadata": {
        "colab": {
          "base_uri": "https://localhost:8080/"
        },
        "id": "sW3bqfHrC2tu",
        "outputId": "5cdf4832-1fc3-41de-f533-0b91005761b7"
      },
      "execution_count": 259,
      "outputs": [
        {
          "output_type": "stream",
          "name": "stdout",
          "text": [
            "                                 OLS Regression Results                                \n",
            "=======================================================================================\n",
            "Dep. Variable:                      y   R-squared (uncentered):                   0.285\n",
            "Model:                            OLS   Adj. R-squared (uncentered):              0.281\n",
            "Method:                 Least Squares   F-statistic:                              61.28\n",
            "Date:                Sat, 11 Dec 2021   Prob (F-statistic):                   2.09e-145\n",
            "Time:                        23:46:26   Log-Likelihood:                         -2707.3\n",
            "No. Observations:                2164   AIC:                                      5443.\n",
            "Df Residuals:                    2150   BIC:                                      5522.\n",
            "Df Model:                          14                                                  \n",
            "Covariance Type:            nonrobust                                                  \n",
            "=========================================================================================================\n",
            "                                            coef    std err          t      P>|t|      [0.025      0.975]\n",
            "---------------------------------------------------------------------------------------------------------\n",
            "total_vaccinations_per_hundred           -0.1847      0.033     -5.626      0.000      -0.249      -0.120\n",
            "new_vaccinations_smoothed_per_million     0.0535      0.020      2.658      0.008       0.014       0.093\n",
            "stringency_index                          0.2742      0.021     13.234      0.000       0.234       0.315\n",
            "population_density                       -0.0940      0.020     -4.742      0.000      -0.133      -0.055\n",
            "median_age                                0.4127      0.054      7.612      0.000       0.306       0.519\n",
            "aged_65_older                            -0.1595      0.055     -2.916      0.004      -0.267      -0.052\n",
            "gdp_per_capita                           -0.1007      0.026     -3.864      0.000      -0.152      -0.050\n",
            "cardiovasc_death_rate                     0.1351      0.023      5.975      0.000       0.091       0.179\n",
            "female_smokers                            0.1346      0.023      5.767      0.000       0.089       0.180\n",
            "Epsilon                                   0.0670      0.019      3.622      0.000       0.031       0.103\n",
            "Gamma                                     0.1380      0.020      6.849      0.000       0.099       0.178\n",
            "Delta                                     0.1500      0.033      4.486      0.000       0.084       0.216\n",
            "Alpha                                     0.0592      0.021      2.865      0.004       0.019       0.100\n",
            "Lambda                                    0.2385      0.020     12.194      0.000       0.200       0.277\n",
            "==============================================================================\n",
            "Omnibus:                      954.238   Durbin-Watson:                   0.445\n",
            "Prob(Omnibus):                  0.000   Jarque-Bera (JB):             5146.079\n",
            "Skew:                           2.049   Prob(JB):                         0.00\n",
            "Kurtosis:                       9.347   Cond. No.                         7.35\n",
            "==============================================================================\n",
            "\n",
            "Warnings:\n",
            "[1] Standard Errors assume that the covariance matrix of the errors is correctly specified.\n"
          ]
        }
      ]
    },
    {
      "cell_type": "markdown",
      "source": [
        "With the data now standardized we see that the features with the greatest affect on increasing predictions about new deaths are: strigency index and median age. The features with the greatest affect on decreasing predictions about new deaths are: proportion of population older than 65 and total vaccinations per hundred. The seemingly contradictery coefficients associated with median age and aged 65 or older are again perplexing. Finally, we note that the Lambda variant may be substantially more deadly than others, though the large positive coefficient could also be due to the variant being most prevalent in under-developed countries."
      ],
      "metadata": {
        "id": "PpLwxc6HD-0d"
      }
    },
    {
      "cell_type": "markdown",
      "source": [
        "Finally, we redo the regression and include categorical variables signifying country and month/year."
      ],
      "metadata": {
        "id": "3hZJ9FnCFigK"
      }
    },
    {
      "cell_type": "code",
      "source": [
        "X_nested['iso_code'], X_nested['month_year'] = df['iso_code'], df['month_yr']\n",
        "X_nested_dummy = pd.get_dummies(X_nested, drop_first=True)\n",
        "X_nested_dummy_const = sm.add_constant(X_nested_dummy)\n",
        "est_dummy = sm.OLS(y, X_nested_dummy_const)\n",
        "est_dummy_fit_deaths = est_dummy.fit()\n",
        "print(est_dummy_fit_deaths.summary())"
      ],
      "metadata": {
        "colab": {
          "base_uri": "https://localhost:8080/"
        },
        "id": "yG7jsywfF0VW",
        "outputId": "6b18d02d-36e6-4c61-cab8-b035ad7b3250"
      },
      "execution_count": 260,
      "outputs": [
        {
          "output_type": "stream",
          "name": "stdout",
          "text": [
            "                                   OLS Regression Results                                  \n",
            "===========================================================================================\n",
            "Dep. Variable:     new_deaths_smoothed_per_million   R-squared:                       0.549\n",
            "Model:                                         OLS   Adj. R-squared:                  0.519\n",
            "Method:                              Least Squares   F-statistic:                     18.55\n",
            "Date:                             Sat, 11 Dec 2021   Prob (F-statistic):          2.40e-262\n",
            "Time:                                     23:46:28   Log-Likelihood:                -5017.8\n",
            "No. Observations:                             2164   AIC:                         1.030e+04\n",
            "Df Residuals:                                 2030   BIC:                         1.106e+04\n",
            "Df Model:                                      133                                         \n",
            "Covariance Type:                         nonrobust                                         \n",
            "=========================================================================================================\n",
            "                                            coef    std err          t      P>|t|      [0.025      0.975]\n",
            "---------------------------------------------------------------------------------------------------------\n",
            "const                                    -6.7704      0.658    -10.290      0.000      -8.061      -5.480\n",
            "total_vaccinations_per_hundred           -0.0205      0.003     -6.842      0.000      -0.026      -0.015\n",
            "new_vaccinations_smoothed_per_million -1.492e-05   1.34e-05     -1.115      0.265   -4.12e-05    1.13e-05\n",
            "stringency_index                          0.0903      0.006     15.949      0.000       0.079       0.101\n",
            "population_density                       -0.0004   5.73e-05     -6.180      0.000      -0.000      -0.000\n",
            "median_age                                0.1494      0.027      5.598      0.000       0.097       0.202\n",
            "aged_65_older                             0.0310      0.030      1.017      0.309      -0.029       0.091\n",
            "gdp_per_capita                         -2.18e-05   5.05e-06     -4.320      0.000   -3.17e-05   -1.19e-05\n",
            "cardiovasc_death_rate                     0.0030      0.001      3.432      0.001       0.001       0.005\n",
            "female_smokers                           -0.0044      0.016     -0.285      0.776      -0.035       0.026\n",
            "Epsilon                                   0.0335      0.050      0.669      0.504      -0.065       0.132\n",
            "Gamma                                     0.0575      0.008      7.330      0.000       0.042       0.073\n",
            "Delta                                     0.0299      0.005      5.500      0.000       0.019       0.041\n",
            "Alpha                                     0.0072      0.004      1.824      0.068      -0.001       0.015\n",
            "Lambda                                    0.0870      0.013      6.448      0.000       0.061       0.113\n",
            "iso_code_ARE                             -1.1634      0.636     -1.830      0.067      -2.410       0.084\n",
            "iso_code_ARG                             -0.3291      0.471     -0.699      0.485      -1.253       0.595\n",
            "iso_code_AUS                             -2.7312      0.410     -6.662      0.000      -3.535      -1.927\n",
            "iso_code_AUT                             -1.1067      0.440     -2.515      0.012      -1.970      -0.244\n",
            "iso_code_BEL                              0.5315      0.404      1.315      0.189      -0.261       1.324\n",
            "iso_code_BGD                             -3.1616      0.496     -6.373      0.000      -4.135      -2.189\n",
            "iso_code_BGR                              3.3572      0.563      5.967      0.000       2.254       4.461\n",
            "iso_code_BHR                              2.5170      0.679      3.705      0.000       1.185       3.849\n",
            "iso_code_BIH                              6.2587      1.746      3.585      0.000       2.835       9.682\n",
            "iso_code_BLZ                             -0.4861      1.568     -0.310      0.757      -3.561       2.589\n",
            "iso_code_BRA                              0.7934      0.465      1.707      0.088      -0.118       1.705\n",
            "iso_code_BWA                              2.3996      0.713      3.367      0.001       1.002       3.797\n",
            "iso_code_CAN                             -2.5272      0.431     -5.860      0.000      -3.373      -1.681\n",
            "iso_code_CHE                              0.3306      0.413      0.800      0.424      -0.480       1.141\n",
            "iso_code_CHL                             -0.5797      0.568     -1.020      0.308      -1.694       0.535\n",
            "iso_code_CMR                              1.4757      1.370      1.078      0.281      -1.210       4.162\n",
            "iso_code_COL                              2.8830      0.579      4.978      0.000       1.747       4.019\n",
            "iso_code_CRI                              0.8960      0.598      1.497      0.134      -0.277       2.069\n",
            "iso_code_CZE                              3.1990      0.511      6.260      0.000       2.197       4.201\n",
            "iso_code_DEU                             -1.9997      0.403     -4.965      0.000      -2.790      -1.210\n",
            "iso_code_DJI                              1.7616      1.271      1.386      0.166      -0.730       4.253\n",
            "iso_code_DNK                             -1.2030      0.401     -3.002      0.003      -1.989      -0.417\n",
            "iso_code_DOM                             -2.0518      1.275     -1.610      0.108      -4.552       0.448\n",
            "iso_code_ECU                             -0.1042      0.732     -0.142      0.887      -1.540       1.332\n",
            "iso_code_EGY                             -1.7122      0.734     -2.333      0.020      -3.152      -0.273\n",
            "iso_code_ESP                             -1.2288      0.408     -3.010      0.003      -2.030      -0.428\n",
            "iso_code_EST                              0.9895      0.541      1.829      0.067      -0.071       2.050\n",
            "iso_code_ETH                              0.0540      1.442      0.037      0.970      -2.774       2.882\n",
            "iso_code_FIN                             -1.8705      0.454     -4.121      0.000      -2.761      -0.980\n",
            "iso_code_FJI                             -1.8545      1.451     -1.278      0.201      -4.699       0.990\n",
            "iso_code_FRA                             -0.4731      0.418     -1.133      0.257      -1.292       0.346\n",
            "iso_code_GBR                              0.0641      0.405      0.158      0.874      -0.731       0.859\n",
            "iso_code_GEO                              4.1558      1.398      2.973      0.003       1.415       6.897\n",
            "iso_code_GHA                              0.2996      0.616      0.487      0.627      -0.908       1.507\n",
            "iso_code_GMB                              1.7914      0.903      1.983      0.048       0.020       3.563\n",
            "iso_code_GRC                             -1.6031      0.513     -3.124      0.002      -2.610      -0.597\n",
            "iso_code_GTM                              1.3424      1.015      1.322      0.186      -0.649       3.334\n",
            "iso_code_HKG                             -1.0605      0.497     -2.133      0.033      -2.036      -0.085\n",
            "iso_code_HRV                              0.9985      0.591      1.691      0.091      -0.160       2.157\n",
            "iso_code_HUN                              0.8243      1.441      0.572      0.567      -2.002       3.651\n",
            "iso_code_IDN                             -2.3302      0.510     -4.565      0.000      -3.331      -1.329\n",
            "iso_code_IND                             -2.9866      0.432     -6.919      0.000      -3.833      -2.140\n",
            "iso_code_IRL                             -0.7021      0.442     -1.587      0.113      -1.570       0.165\n",
            "iso_code_IRQ                              0.0783      2.501      0.031      0.975      -4.827       4.983\n",
            "iso_code_ISL                             -0.5509      0.496     -1.112      0.266      -1.523       0.421\n",
            "iso_code_ISR                              1.4226      0.534      2.663      0.008       0.375       2.470\n",
            "iso_code_ITA                             -1.8610      0.453     -4.104      0.000      -2.750      -0.972\n",
            "iso_code_JAM                             -1.1790      1.776     -0.664      0.507      -4.661       2.303\n",
            "iso_code_JOR                              1.0682      1.124      0.950      0.342      -1.136       3.273\n",
            "iso_code_JPN                             -2.2376      0.535     -4.181      0.000      -3.287      -1.188\n",
            "iso_code_KAZ                              2.8161      1.099      2.561      0.010       0.660       4.972\n",
            "iso_code_KEN                             -1.1907      0.455     -2.615      0.009      -2.084      -0.298\n",
            "iso_code_KHM                             -0.6727      0.670     -1.005      0.315      -1.986       0.641\n",
            "iso_code_KOR                             -2.2594      0.502     -4.498      0.000      -3.244      -1.274\n",
            "iso_code_KWT                              0.9080      1.036      0.876      0.381      -1.124       2.940\n",
            "iso_code_LBN                              1.0342      0.863      1.199      0.231      -0.658       2.726\n",
            "iso_code_LKA                             -1.8679      0.644     -2.899      0.004      -3.132      -0.604\n",
            "iso_code_LTU                              2.7392      0.517      5.297      0.000       1.725       3.753\n",
            "iso_code_LUX                              1.9912      0.489      4.076      0.000       1.033       2.949\n",
            "iso_code_LVA                              0.7364      0.679      1.085      0.278      -0.595       2.067\n",
            "iso_code_MAR                             -1.1353      1.736     -0.654      0.513      -4.540       2.269\n",
            "iso_code_MDG                              0.2210      0.900      0.246      0.806      -1.543       1.985\n",
            "iso_code_MDV                             -0.4892      1.012     -0.483      0.629      -2.474       1.496\n",
            "iso_code_MEX                              1.9961      0.424      4.712      0.000       1.165       2.827\n",
            "iso_code_MKD                              5.4735      1.083      5.053      0.000       3.349       7.598\n",
            "iso_code_MLT                             -1.6165      1.111     -1.455      0.146      -3.796       0.563\n",
            "iso_code_MNE                              2.0890      1.287      1.624      0.105      -0.434       4.612\n",
            "iso_code_MOZ                             -0.6212      0.818     -0.759      0.448      -2.226       0.983\n",
            "iso_code_MWI                              0.8942      0.965      0.926      0.354      -0.999       2.788\n",
            "iso_code_MYS                             -0.7470      0.517     -1.446      0.148      -1.760       0.266\n",
            "iso_code_NGA                             -0.3356      0.615     -0.546      0.585      -1.541       0.870\n",
            "iso_code_NLD                             -1.0352      0.398     -2.603      0.009      -1.815      -0.255\n",
            "iso_code_NOR                             -0.8962      0.417     -2.150      0.032      -1.714      -0.079\n",
            "iso_code_NPL                             -1.2774      1.478     -0.864      0.387      -4.175       1.620\n",
            "iso_code_NZL                             -2.6322      0.703     -3.744      0.000      -4.011      -1.253\n",
            "iso_code_OMN                              0.8812      1.216      0.725      0.469      -1.504       3.266\n",
            "iso_code_OWID_KOS                         1.6095      0.911      1.767      0.077      -0.177       3.396\n",
            "iso_code_PAK                             -1.8194      0.671     -2.710      0.007      -3.136      -0.503\n",
            "iso_code_PER                              4.6179      0.578      7.993      0.000       3.485       5.751\n",
            "iso_code_PHL                             -2.0626      0.556     -3.708      0.000      -3.153      -0.972\n",
            "iso_code_PNG                             -1.2301      1.007     -1.222      0.222      -3.205       0.745\n",
            "iso_code_POL                              0.7644      0.503      1.519      0.129      -0.223       1.751\n",
            "iso_code_PRT                             -0.8145      0.502     -1.623      0.105      -1.799       0.170\n",
            "iso_code_PRY                              1.3541      1.263      1.072      0.284      -1.123       3.831\n",
            "iso_code_QAT                              0.7503      0.515      1.457      0.145      -0.260       1.761\n",
            "iso_code_ROU                              0.6955      0.479      1.453      0.146      -0.243       1.634\n",
            "iso_code_RUS                             -0.4147      0.454     -0.914      0.361      -1.305       0.476\n",
            "iso_code_RWA                             -0.6201      0.954     -0.650      0.516      -2.491       1.251\n",
            "iso_code_SEN                              0.9500      0.956      0.994      0.320      -0.924       2.824\n",
            "iso_code_SGP                              1.9111      0.447      4.277      0.000       1.035       2.787\n",
            "iso_code_SUR                             -0.2412      0.781     -0.309      0.758      -1.773       1.291\n",
            "iso_code_SVK                              3.3121      0.534      6.202      0.000       2.265       4.359\n",
            "iso_code_SVN                              1.2565      0.438      2.869      0.004       0.398       2.115\n",
            "iso_code_SWE                             -0.3115      0.410     -0.761      0.447      -1.115       0.492\n",
            "iso_code_SYC                             -3.5178      1.035     -3.399      0.001      -5.547      -1.488\n",
            "iso_code_TGO                              0.6361      1.256      0.507      0.613      -1.827       3.099\n",
            "iso_code_THA                             -2.6016      0.618     -4.212      0.000      -3.813      -1.390\n",
            "iso_code_TTO                             -1.5259      1.168     -1.307      0.191      -3.816       0.764\n",
            "iso_code_TUR                              0.0482      0.513      0.094      0.925      -0.959       1.055\n",
            "iso_code_UGA                             -0.3065      1.035     -0.296      0.767      -2.337       1.724\n",
            "iso_code_UKR                             -1.7854      0.923     -1.935      0.053      -3.595       0.024\n",
            "iso_code_URY                              0.2013      0.978      0.206      0.837      -1.716       2.119\n",
            "iso_code_USA                              1.3810      0.447      3.090      0.002       0.504       2.258\n",
            "iso_code_VNM                             -3.0241      0.966     -3.129      0.002      -4.919      -1.129\n",
            "iso_code_ZAF                              1.2607      0.421      2.991      0.003       0.434       2.087\n",
            "iso_code_ZMB                              1.7133      0.785      2.183      0.029       0.174       3.253\n",
            "iso_code_ZWE                             -0.9389      0.903     -1.040      0.298      -2.709       0.831\n",
            "month_year_02-2021                       -0.8334      0.304     -2.737      0.006      -1.431      -0.236\n",
            "month_year_03-2021                       -1.7646      0.340     -5.190      0.000      -2.431      -1.098\n",
            "month_year_04-2021                       -1.6167      0.362     -4.461      0.000      -2.327      -0.906\n",
            "month_year_05-2020                       -3.1368      0.384     -8.158      0.000      -3.891      -2.383\n",
            "month_year_05-2021                       -2.1862      0.368     -5.936      0.000      -2.908      -1.464\n",
            "month_year_06-2020                       -2.6475      0.403     -6.564      0.000      -3.439      -1.857\n",
            "month_year_06-2021                       -2.8942      0.444     -6.520      0.000      -3.765      -2.024\n",
            "month_year_07-2020                       -2.5911      0.392     -6.612      0.000      -3.360      -1.823\n",
            "month_year_07-2021                       -3.5262      0.534     -6.606      0.000      -4.573      -2.479\n",
            "month_year_08-2020                       -2.6510      0.346     -7.664      0.000      -3.329      -1.973\n",
            "month_year_08-2021                       -3.0857      0.584     -5.285      0.000      -4.231      -1.941\n",
            "month_year_09-2020                       -2.6729      0.386     -6.932      0.000      -3.429      -1.917\n",
            "month_year_09-2021                       -2.4295      0.621     -3.912      0.000      -3.648      -1.211\n",
            "month_year_10-2020                       -2.0558      0.372     -5.527      0.000      -2.785      -1.326\n",
            "month_year_10-2021                       -1.9972      0.651     -3.066      0.002      -3.275      -0.720\n",
            "month_year_11-2020                       -0.2119      0.369     -0.574      0.566      -0.936       0.512\n",
            "month_year_11-2021                       -1.2837      0.690     -1.861      0.063      -2.636       0.069\n",
            "month_year_12-2020                        0.7698      0.348      2.214      0.027       0.088       1.452\n",
            "==============================================================================\n",
            "Omnibus:                      739.240   Durbin-Watson:                   0.656\n",
            "Prob(Omnibus):                  0.000   Jarque-Bera (JB):             4684.232\n",
            "Skew:                           1.462   Prob(JB):                         0.00\n",
            "Kurtosis:                       9.588   Cond. No.                     6.19e+16\n",
            "==============================================================================\n",
            "\n",
            "Warnings:\n",
            "[1] Standard Errors assume that the covariance matrix of the errors is correctly specified.\n",
            "[2] The smallest eigenvalue is 8.3e-22. This might indicate that there are\n",
            "strong multicollinearity problems or that the design matrix is singular.\n"
          ]
        }
      ]
    },
    {
      "cell_type": "markdown",
      "source": [
        "Again we see that the including information about countries and month/year greatly improves the model. We now have $Adj. R^2 = 0.519$, meanig that 51.9% of the variance in the response can be explained by the predictors. This again suggests that the pandemic has been worse in some countries than others. Furthermore, it seems as if there remain meaningful differences between countries which are unaccounted for by country-specific quantitative variables in the data set. Finally, we can observe the coefficients for the month/year combinations and note that December, 2020 seems to have been the most deadly month in the pandemic worldwide."
      ],
      "metadata": {
        "id": "9gmYPq69GyYN"
      }
    },
    {
      "cell_type": "markdown",
      "source": [
        "The last piece of analysis we will do concering the OLS Linear Regression models is to check the validity of the assumptions associated with the model. Recall that in addition to assuming that the correct relationship between the predictors and response was linear (inductive bias) we also assumed... \n",
        "\n",
        "1.) the observations are independent\n",
        "\n",
        "2.) the error terms $\\epsilon_i$ follow a normal disribution with mean $0$\n",
        "\n",
        "3.) the error terms $\\epsilon_i$ have a constant variance equal to $\\sigma^2$\n",
        "\n",
        "We now check each of these assumptions for both of our models. We will use the models containing dummy variables for the country and month/year to check the validity of the assumptions. Our methods for checking the assumptions rely on the residuals of our model which are actual minus the fitted values, or more formally, $e_i = Y_i-\\hat{Y_i}$."
      ],
      "metadata": {
        "id": "eTL_tu0L6ijM"
      }
    },
    {
      "cell_type": "code",
      "source": [
        "from statsmodels.stats.stattools import durbin_watson\n",
        "print('Durbin-Watson Test Statistic - Cases Model: ' + str(durbin_watson(est_dummy_fit_cases.resid)))\n",
        "print('Durbin-Watson Test Statistic - Deaths Model: ' + str(durbin_watson(est_dummy_fit_deaths.resid)))"
      ],
      "metadata": {
        "colab": {
          "base_uri": "https://localhost:8080/"
        },
        "id": "aoNfvkEnBOAT",
        "outputId": "fb8405f7-1661-4d6a-c0f7-7865d584daab"
      },
      "execution_count": 283,
      "outputs": [
        {
          "output_type": "stream",
          "name": "stdout",
          "text": [
            "Durbin-Watson Test Statistic - Cases Model: 0.7683924007997106\n",
            "Durbin-Watson Test Statistic - Deaths Model: 0.6555863989712584\n"
          ]
        }
      ]
    },
    {
      "cell_type": "markdown",
      "source": [
        "Above are the test statistics for Durbin-Watson Tests for both of our linear regression models. Durbin-Watson tests are used to detirmine is a sample has autocorrelation/serial correlation. The null hypothesis is $H_0:$ no serial correlation is present. This is one way of detirmining if assumption #1, that are observations are independent holds. The test statistic for the Durbin-Watson test looks like, $\\frac{\\sum_{i=2}^{N}(e_i-e_{i-1})^2}{\\sum_{i=1}^{N}e_i^2}$. A rule of thumb is that a Durbin-Watson test statistic value in the range $[1.5,2.5]$ signals no autocorrelation. Since both of our test statistic fall outside of this range we conclude that our data is serially correlated and thus likely to not be independent. This makes sense since our response is time series data and the number of new cases and new deaths on one day will be dependent on the number of new cases and new deaths on the previous day."
      ],
      "metadata": {
        "id": "QuOdRCUmDfFw"
      }
    },
    {
      "cell_type": "code",
      "source": [
        "import scipy.stats as stats\n",
        "figure, ax = plt.subplots(1, 2,figsize=(16,8))\n",
        "figure.figsize=(8, 8)\n",
        "sm.qqplot(est_dummy_fit_cases.resid, stats.norm, fit=True, line=\"45\", ax = ax[0])\n",
        "ax[0].set_title('Residual vs. Normal Quantile-Quantile Plot - Cases Model')\n",
        "ax[0].set_ylabel('Sample Residual Quantiles')\n",
        "ax[0].set_xlabel('Theoretical Normal Quantiles')\n",
        "sm.qqplot(est_dummy_fit_deaths.resid, stats.norm, fit=True, line=\"45\", ax = ax[1])\n",
        "ax[1].set_title('Residual vs. Normal Quantile-Quantile Plot - Deaths Model')\n",
        "ax[1].set_ylabel('Sample Residual Quantiles')\n",
        "ax[1].set_xlabel('Theoretical Normal Quantiles')\n",
        "plt.show()"
      ],
      "metadata": {
        "colab": {
          "base_uri": "https://localhost:8080/",
          "height": 513
        },
        "id": "Ir_uZQ_V73O1",
        "outputId": "95819d11-6a48-464f-a733-f82e7fb664d5"
      },
      "execution_count": 278,
      "outputs": [
        {
          "output_type": "display_data",
          "data": {
            "image/png": "[encoded data removed]",
            "text/plain": [
              "<Figure size 1152x576 with 2 Axes>"
            ]
          },
          "metadata": {
            "needs_background": "light"
          }
        }
      ]
    },
    {
      "cell_type": "markdown",
      "source": [
        "The plots above can be used to detirmine the validity of assumption #2. More specifically such Quantile Quantile plots can be used as a visual guide to detirmine if a sample of points follows a given probabaility distribution. QQ-Plots accomplish this by comparing the quantiles of the sampled points with the quantiles of the given distribution. If the sample does indeed follow the distribution the points in the QQ-Plot will closely follow the $45^\\circ$ line. Here we are interested in detirmining if the residuals follow a normal distribution. It appears they do not. The points lying above the line suggest that the response variables are skewed right, rather than bell-shaped. This makes sense as the pandemic has impacted some countries to an extraordinary degree."
      ],
      "metadata": {
        "id": "HMk9CPOQ96_b"
      }
    },
    {
      "cell_type": "code",
      "source": [
        "figure, ax = plt.subplots(1, 2,figsize=(16,8))\n",
        "figure.figsize=(8, 8)\n",
        "ax[0].scatter(x = est_dummy_fit_cases.fittedvalues, y = est_dummy_fit_cases.resid, s=8, alpha=0.5)\n",
        "ax[0].set_title('Residual vs. Fitted Value - Cases Model')\n",
        "ax[0].set_ylabel('Residual Value')\n",
        "ax[0].set_xlabel('Fitted Value')\n",
        "ax[1].scatter(x = est_dummy_fit_deaths.fittedvalues, y = est_dummy_fit_deaths.resid, s=8, alpha=0.5)\n",
        "ax[1].set_title('Residual vs. Fitted Value - Deaths Model')\n",
        "ax[1].set_ylabel('Residual Value')\n",
        "ax[1].set_xlabel('Fitted Value')\n",
        "plt.show()"
      ],
      "metadata": {
        "colab": {
          "base_uri": "https://localhost:8080/",
          "height": 513
        },
        "id": "_UslLAx09CS-",
        "outputId": "ebc5b0ac-55d1-4279-fbe4-fd6250866af0"
      },
      "execution_count": 265,
      "outputs": [
        {
          "output_type": "display_data",
          "data": {
            "image/png": "[encoded data removed]",
            "text/plain": [
              "<Figure size 1152x576 with 2 Axes>"
            ]
          },
          "metadata": {
            "needs_background": "light"
          }
        }
      ]
    },
    {
      "cell_type": "markdown",
      "source": [
        "The above plots can be used to check for the validity of assumption #3. We are primarily concerned about the presence of heteroscedasticity, or non-constant variance, in which case $\\epsilon_i$ do not all have the same variance of $\\sigma^2$. If the assumption is valid the residuals will look like a random scattering of points that deviate from 0 by approximately the same amount as the fitted value changes. However, the plots above do not show a random scattering, instead we see a predominant straight line, which is odd. We suspect this may be due to the response variable being constant for over some domain of our predictors. For example, just as an unfounded hypothesis, there could be issues with data reliability such that countries report the same amount of new cases/new deaths multiple days in a row."
      ],
      "metadata": {
        "id": "Q40e5NNsD3lv"
      }
    },
    {
      "cell_type": "markdown",
      "source": [
        "We see that to varying degrees none of the assumptions associated with linear regression hold. While this does not completely invlidate the model it does mean that any conclusions drawn should be taken with a grain of salt. We now explore generalized linear models (GLM) which make less assumptions to see if we can acheive better results."
      ],
      "metadata": {
        "id": "qdVM0Ih7Gcy_"
      }
    }
  ]
}