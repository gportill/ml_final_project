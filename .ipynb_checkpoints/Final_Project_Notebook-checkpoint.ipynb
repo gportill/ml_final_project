{
 "cells": [
  {
   "cell_type": "markdown",
   "metadata": {},
   "source": [
    "# Machine Learning Final Project\n",
    "Drew Prinster, Neha Verma, Gwenyth Portillo Wightman, Logan Donaldson"
   ]
  },
  {
   "cell_type": "markdown",
   "metadata": {},
   "source": [
    "## Table of contents:\n",
    "\n",
    "#### 0. Introduction\n",
    "\n",
    "- 0.1 Data sources\n",
    "- 0.2 Initial data cleaning\n",
    "\n",
    "#### 1. Part 1: Regressions\n",
    "- 1.1 Imputation methodology\n",
    "- 1.2 Ordinary least squares (OLS) regression models\n",
    "    - 1.2.1 OLS model of new COVID-19 *cases* per million using pairwise correlations to remove variables and p-values for variable selection\n",
    "    - 1.2.2 Similar model as 1.2.1 + month and country information\n",
    "    - 1.2.3 OLS model of new COVID-19 *deaths* per million using pairwise correlations to remove variables and p-values for variable selection\n",
    "    - 1.2.4 Similar model as 1.2.3 + month and country information\n",
    "    - 1.2.5 Evaluation of OLS model assumptions \n",
    "- 1.3 Generalized linear model (GLM) regression models\n",
    "    - 1.3.1 Negative binomial GLM of new COVID-19 *cases* per million with VIFs for assessing multicollinearity and AIC for model selection\n",
    "    - 1.3.2 Similar model as 1.3.1 + month information\n",
    "    - 1.3.3 Similar model as 1.3.2 + centered-log ratio transformed variants data to account for compositionality\n",
    "    - 1.3.4 Negative binomial GLM of new COVID-19 *deaths* per million with VIFs for assessing multicollinearity and AIC for model selection\n",
    "    - 1.3.5 Similar model as 1.3.4 + month information\n",
    "    - 1.3.6 Similar model as 1.3.5 + centered-log ratio transformed variants data to account for compositionality\n",
    "\n",
    "#### 2. Part 2: Neural networks\n",
    "\n",
    "- 2.1 Imputation methodology\n",
    "- 2.2 Recurrent neural network model\n"
   ]
  },
  {
   "cell_type": "markdown",
   "metadata": {
    "id": "P72Qi2hQ-MNN"
   },
   "source": [
    "# 0. Introduction"
   ]
  },
  {
   "cell_type": "markdown",
   "metadata": {
    "id": "GTWhcv6f-MNQ"
   },
   "source": [
    "Effectively combating the global COVID-19 pandemic, a public health crisis which has thus far claimed over 5 million lives, remains among humanity’s foremost challenges over a year since its onset [1]. A leading cause of the pandemic’s endurance has been the virus’ ability to mutate. Current vaccines exploit the virus’ spike glycoprotein to produce immunity [2]. As the virus mutates, and the spike glycoprotein alters, the vaccine’s efficacy may erode [2]. Indeed, numerous studies suggest the Pfizer vaccine is less efficacious against the Delta variant thereby resulting in more breakthrough cases [2, 3]. Every infection is an opportunity for further mutation so understanding these variant’s unique characteristics is critical to humanity’s ability to make proactive decisions that minimize cases and deaths.\n",
    "\n",
    "In this project, we study the relationship between vaccines and the severity of variants using a combination of 1) generalized linear regression models for fixed-time point COVID severity prediction tasks and 2) recurrent neural network models for modelling COVID severity with respect to time.\n",
    "\n",
    "## 0.1 Data Sources\n",
    "We obtain our data from [Our World In Data [1]](https://ourworldindata.org/coronavirus) (OWID) and download the datasets from [OWID's Github [4]](https://github.com/owid/covid-19-data/tree/master/public/data). Our three datasets pertain to worldwide Covid-19 cases and deaths, vaccinations, and variants. We perform a number of analyses predicting the number of covid cases and deaths via regressions (fixed-time point methods) and recurrent neural networks (time-dependent methods). "
   ]
  },
  {
   "cell_type": "markdown",
   "metadata": {
    "id": "Fu3v0yfd-MNU"
   },
   "source": [
    "## 0.2 Initial Data Cleaning"
   ]
  },
  {
   "cell_type": "code",
   "execution_count": 1,
   "metadata": {
    "id": "E_0LjN7tDzc-"
   },
   "outputs": [],
   "source": [
    "import numpy as np\n",
    "import pandas as pd\n",
    "import matplotlib.pyplot as plt\n",
    "import os"
   ]
  },
  {
   "cell_type": "code",
   "execution_count": 2,
   "metadata": {
    "colab": {
     "base_uri": "https://localhost:8080/",
     "height": 450
    },
    "id": "JXbsfLLb-MNU",
    "outputId": "4477e1b3-2909-4b8d-e939-cbdd32446f1c"
   },
   "outputs": [],
   "source": [
    "\n",
    "#csv files were pulled at 12:30pm 11/21/2021\n",
    "#set if needed\n",
    "personal_path = ''\n",
    "\n",
    "#get paths to csv files in google drive\n",
    "path_vaccine = os.path.join(personal_path, \"Data/vaccinations.csv\")\n",
    "path_covid = os.path.join(personal_path, \"Data/owid-covid-data.csv\")\n",
    "path_variant = os.path.join(personal_path, \"Data/covid-variants-area.csv\")\n",
    "\n",
    "#load csv files to dataframes\n",
    "vaccine = pd.read_csv(path_vaccine)\n",
    "covid = pd.read_csv(path_covid)\n",
    "variant = pd.read_csv(path_variant)\n",
    "\n",
    "#change date columns to datetime objects\n",
    "vaccine['date'] = vaccine['date'].astype('datetime64[ns]')\n",
    "covid['date'] = covid['date'].astype('datetime64[ns]')\n",
    "variant['Day'] = variant['Day'].astype('datetime64[ns]')\n",
    "\n",
    "#set multi-level indices, remove duplicate dates in variant data frame\n",
    "vaccine.set_index(['iso_code','date'], inplace = True)\n",
    "covid.set_index(['iso_code','date'], inplace = True)\n",
    "variant.rename(columns = {'Code':'iso_code', 'Day':'date'}, inplace=True)\n",
    "variant = variant.groupby(['iso_code','date'], as_index=False).mean()\n",
    "variant.set_index(['iso_code','date'], inplace = True)\n",
    "\n",
    "#join data frames\n",
    "non_dupes = vaccine.columns.difference(covid.columns)\n",
    "full = covid.join(vaccine[non_dupes], how='outer', lsuffix='_covid', rsuffix='_vaccine')\n",
    "full = full.join(variant, how='outer')\n",
    "\n",
    "#sort data frame using multi-level index\n",
    "full.sort_values(by = ['iso_code','date'], ascending=True, inplace = True)\n",
    "\n",
    "#save joined data set to a csv\n",
    "full.to_csv(os.path.join(personal_path, 'Data/full.csv'), sep=',')"
   ]
  },
  {
   "cell_type": "markdown",
   "metadata": {
    "id": "nAMTcCbY-MNX"
   },
   "source": [
    "# Part 1: Regression Models"
   ]
  },
  {
   "cell_type": "markdown",
   "metadata": {
    "id": "SJ16694Z-MNY"
   },
   "source": [
    "### 1.1 Imputation Methodology"
   ]
  },
  {
   "cell_type": "markdown",
   "metadata": {
    "id": "TbvoF795-MNY"
   },
   "source": [
    "Our goal is to form two linear regression models, one which predicts the number of new cases per million and another which predicts the number of new deaths per million in a given country. We are particularly interested in understanding the influence which the prevalence of specific variants has on our response variables. Thus, we limit our analysis to only those rows containing variant level data which is published on a roughly biweekly basis. We load in the data set in the cell below, removing columns that are redunadant and not scaled by the country's population size."
   ]
  },
  {
   "cell_type": "code",
   "execution_count": 3,
   "metadata": {
    "id": "y9wiy285-MNa",
    "tags": []
   },
   "outputs": [],
   "source": [
    "path_full = os.path.join(personal_path, \"Data/full.csv\")\n",
    "df = pd.read_csv(path_full)\n",
    "full.reset_index(inplace = True)\n",
    "df.head()\n",
    "df.drop(['continent','location','total_cases','new_cases','new_cases_smoothed','total_deaths','new_deaths',\n",
    "         'new_deaths_smoothed','new_cases_per_million','new_deaths_per_million',\n",
    "         'icu_patients','hosp_patients','weekly_icu_admissions','total_tests','new_tests',\n",
    "         'new_tests_per_thousand','new_tests_smoothed','total_vaccinations','weekly_hosp_admissions',\n",
    "         'people_vaccinated','people_fully_vaccinated','total_boosters','new_vaccinations',\n",
    "         'new_vaccinations_smoothed','new_people_vaccinated_smoothed','excess_mortality_cumulative',\n",
    "         'excess_mortality_cumulative_absolute','daily_people_vaccinated','daily_vaccinations',\n",
    "         'daily_vaccinations_raw','tests_units','Year'], axis=1, inplace=True)\n",
    "\n",
    "#get biweekly data\n",
    "df = df[df['Alpha'].notna()]"
   ]
  },
  {
   "cell_type": "markdown",
   "metadata": {
    "id": "vvCI7ZzD-MNb"
   },
   "source": [
    "Prior to model creation we must first examine the role which missing data plays in our data set. We begin this analysis by first examining the proportion of rows which contain missing data for each feature. "
   ]
  },
  {
   "cell_type": "code",
   "execution_count": 4,
   "metadata": {
    "id": "fWPm-1y_-MNc",
    "outputId": "7c7f3417-b8db-48f2-fcf1-bc2721eafe1c"
   },
   "outputs": [
    {
     "data": {
      "image/png": "[encoded data removed]",
      "text/plain": [
       "<Figure size 864x432 with 1 Axes>"
      ]
     },
     "metadata": {
      "needs_background": "light"
     },
     "output_type": "display_data"
    }
   ],
   "source": [
    "plt.figure(figsize=(12, 6))\n",
    "plt.bar(x=np.arange(0, len(df.columns)), height = np.sort(df.isna().sum() / len(df))[::-1])\n",
    "plt.title('Proportion of Missingness in Each Feature')\n",
    "plt.show()"
   ]
  },
  {
   "cell_type": "markdown",
   "metadata": {
    "id": "SLIdojlm-MNf"
   },
   "source": [
    "We see that a number of features are almost entirely missing. These features should be removed from consideration as dropping all rows in which the feature is missing will result in a substantial reduction in our data set's size and imputation methods will likely be wildly inaccurate. Observing the bar chart we see a substantial drop off in the proportion of missingness between the sixth and seventh most missing features. To drop the 6 most missing features we use a threshold of 65%."
   ]
  },
  {
   "cell_type": "code",
   "execution_count": 5,
   "metadata": {
    "id": "aLzbgJGJ-MNf"
   },
   "outputs": [],
   "source": [
    "df = df.loc[:, df.isna().sum() / len(df) < 0.65]"
   ]
  },
  {
   "cell_type": "markdown",
   "metadata": {
    "id": "vlUsoTaK-MNg"
   },
   "source": [
    "Now we must determine if the data is Missing Completly at Random (MCAR). If it is we can safetly drop the rows containing missing data and conduct our analysis on the rows which remain. To make this detirmination we first a create a binary column for each feature which denotes missingness. Using our notation from lecture these columns encode the $R_i$."
   ]
  },
  {
   "cell_type": "code",
   "execution_count": 6,
   "metadata": {
    "id": "Q29ibDKq-MNh",
    "tags": []
   },
   "outputs": [],
   "source": [
    "df_missing = df.copy()\n",
    "\n",
    "#create the R_i columns\n",
    "Ri = []\n",
    "for column in df_missing.columns:\n",
    "    df_missing[str(column) + '_na'] = pd.isna(df[column]).astype(int)\n",
    "\n",
    "#remove Ri columns corresponding to non-missing/fully observed features\n",
    "df_missing = df_missing.loc[:, (df_missing != 0).any(axis=0)]\n",
    "Ri = df_missing.columns[46:]"
   ]
  },
  {
   "cell_type": "markdown",
   "metadata": {
    "id": "jNYZ24p7-MNi"
   },
   "source": [
    "Next we look to see if there is a correlation between the country and what data is missing. Since both the country and the $R_i$ are categorical variables this can be done with a hypothesis test known as a $\\chi^2$-contigency test. The null hypothesis of this test is $H_0$: the variables are independent. In the below cell we perform 33 such tests, one for every $R_i$."
   ]
  },
  {
   "cell_type": "code",
   "execution_count": 7,
   "metadata": {
    "id": "rJY0GRhU-MNi",
    "outputId": "bcaadec3-4543-4db0-c3b0-945fe0fc01d0"
   },
   "outputs": [
    {
     "name": "stdout",
     "output_type": "stream",
     "text": [
      "[0.0, 0.0, 0.0, 0.0, 4.2864243497420654e-262, 0.0, 0.0, 2.119028712327211e-289, 5.824784229582191e-288, 0.0, 0.0, 2.768530927737676e-47, 4.558514093853946e-57, 2.1018706060787444e-55, 7.335415174573336e-19, 1.4935869467241454e-19, 1.347144515122251e-301, 3.001463581317831e-45, 3.001463581317831e-45, 3.524780348645179e-298, 3.524780348645179e-298, 3.524780348645179e-298, 2.9254958800787275e-274, 0.0, 0.0, 3.524780348645179e-298, 0.0, 0.0, 0.0, 2.807667089726142e-166, 0.0, 1.4935869467241454e-19, 7.335415174573336e-19]\n"
     ]
    }
   ],
   "source": [
    "import scipy.stats as ss\n",
    "\n",
    "p_vals = []\n",
    "for col in Ri:\n",
    "    M = pd.crosstab(df_missing['iso_code'], df_missing[col])\n",
    "    p_vals.append(ss.chi2_contingency(M)[1])\n",
    "print(p_vals)"
   ]
  },
  {
   "cell_type": "markdown",
   "metadata": {
    "id": "IweNx7P9-MNk"
   },
   "source": [
    "All of the p-values are extraordinarily small, practically zero. This means that every feature's missingness is correlated with the country. To be more formal we should utilize a Bonferroni Correction for simulatenous inference. Thus, instead of conducting the test at a 95% confidence level which corresponds to $\\alpha = 0.05$ we instead use $\\alpha = \\frac{0.05}{33} = 0.0016.$ However, even with this correction every p-value falls below the 0.0016 threshold."
   ]
  },
  {
   "cell_type": "markdown",
   "metadata": {
    "id": "Ia7LOAF7-MNl"
   },
   "source": [
    "We are also interested in detirmining if any of the continuous features are correlated with missingness. To make this detirmination we employ a Kruskal-Wallace test which takes in a quantitative and categorigal variable, splits the quantitative variable into groups based on the categorical variable's value and attempts to determine if the medians of the quantitative variables in each group differ significantly from each other. The null hypohtesis is $H_0$: medians of the groups are the same."
   ]
  },
  {
   "cell_type": "code",
   "execution_count": 8,
   "metadata": {
    "id": "VAtiXOBI-MNm",
    "outputId": "50ffbbf0-a1e7-4d6d-d220-d7eafc4b8f92"
   },
   "outputs": [
    {
     "data": {
      "image/png": "[encoded data removed]",
      "text/plain": [
       "<Figure size 576x576 with 2 Axes>"
      ]
     },
     "metadata": {
      "needs_background": "light"
     },
     "output_type": "display_data"
    }
   ],
   "source": [
    "#drop categorical features\n",
    "df_missing.drop(['iso_code','date'], axis=1, inplace = True)\n",
    "#columns of quantitative features\n",
    "quant_cols = df_missing.columns[:44]\n",
    "#initialize data structure to hold p-values\n",
    "arr = np.zeros((len(Ri), len(quant_cols)))\n",
    "for i, missing_col in enumerate(Ri):\n",
    "    for j, old_col in enumerate(quant_cols):\n",
    "        #remove rows in which the quantitative predictor is missing\n",
    "        df_sub = df_missing[df_missing[old_col].notna()]\n",
    "        #group by the R_i into those rows with 0 and those with 1\n",
    "        g = df_sub.groupby(missing_col)\n",
    "        val_list = []\n",
    "        for val in df_sub[missing_col].unique():\n",
    "          #get the quantitative column of interest for each group\n",
    "          val_list.append(g.get_group(val)[old_col])\n",
    "        #if neither group is empty\n",
    "        if len(val_list) > 1: arr[i,j] = ss.kruskal(*val_list).pvalue\n",
    "        else: arr[i,j] = -1\n",
    "\n",
    "missingness_corr = pd.DataFrame(arr)\n",
    "\n",
    "plt.figure(figsize=(8, 8))\n",
    "plt.imshow(missingness_corr, cmap =\"RdYlBu\")\n",
    "plt.colorbar()\n",
    "plt.title('Heatmap of Kruskal-Wallace P-Values')\n",
    "plt.show()"
   ]
  },
  {
   "cell_type": "markdown",
   "metadata": {
    "id": "UObklZRX-MNn"
   },
   "source": [
    "In the above heat map each cell corresponds to the p-value of a single Kruskal-Wallace test between a quantitative feature and an $R_i$. The dark red cells correspond to p-values of -1 which denote instances where the Kruskal-Wallace test could not be completed because the $R_i$ was always 0 or always 1 when the quantitative feature was present. The pale yellow cells denote near zero p-values of which there are many. These cells denote combinations of quantititave features and $R_i$ which are highly correlated. Thus, through quick visual inspection we can detirmine that there is a lot of correlation between the $R_i$ and observed data in the data set."
   ]
  },
  {
   "cell_type": "markdown",
   "metadata": {
    "id": "3ifiVMuO-MNp"
   },
   "source": [
    "Through the above analysis we can firmly conclude that our data is not MCAR and so we cannot drop rows which contain missing data. This is because the data's missingness is highly correlated with the observed data. Instead we will assume for the purposes of our further analysis that our data is MAR and leverage imputation techniques to make educated guesses about the values of the underlying $X_i^{(1)}$"
   ]
  },
  {
   "cell_type": "markdown",
   "metadata": {
    "id": "XoBZw48u-MNr"
   },
   "source": [
    "Simple imputation techniques such as filling in missing values with the feature's mean, median, or mode are unlikely to be sufficient given the complexity and amount of missingness present in the data set. Feed-forward imputation in which missing data is imputed with the feature's value in the last row it was present could potentially yeild usable results since our data has a time series component. However, such a technique fails to leverage information about the observed data which could have strong predictive capabilities. K-Nearest Neighbors imputation, in which missing data is filled with the data of similar/nearby points was also considered. However, while such a technique does indeed leverage observed data, KNN is not ideal in high dimensional situations such as ours since \"all points in high dimensions are lonely,\" the curse of dimensionality strikes again! Finally, we considered a iterative linear regression imputation approach in which each feature with missing data is fitted with a linear regression model which uses the other features as predicters. This is done iteratively, over many rounds, until convergence or a maximum number of iterations has been completed. This approach allows us to leverage our observed data while not succumbing to the curse of dimensionality."
   ]
  },
  {
   "cell_type": "markdown",
   "metadata": {
    "id": "47bAWxSd-MNt"
   },
   "source": [
    "The iterative linear regression approach is implmented in the cell below. Note that dummy variables are created for country and month/year to give the imputation model more predictive ability. Furthermore, we use our knowledge about vaccine rollout to make educated desicions about some features. For example, all values for the feature \"total_vaccinations_per_hundred\" in rows corresponding to dates prior to December, 2020 are manually set to 0. We impute the data set in its entirety and also training and testing sets, being to sure to fit the imputer using the training set prior to imputing the testing set to prevent data leakage. Lastly, because this data will be used in a linear regression model we drop any columns associated with the response to ensure that are predictors are not imputed with information from the response and vice versa."
   ]
  },
  {
   "cell_type": "code",
   "execution_count": 9,
   "metadata": {
    "id": "Fq_tHUX2-MNu"
   },
   "outputs": [],
   "source": [
    "#remove rows with missing response\n",
    "df = df[df['new_cases_smoothed_per_million'].notna()]\n",
    "df = df[df['new_deaths_smoothed_per_million'].notna()]\n",
    "\n",
    "#set vaccine data for dates prior to December, 2020 to 0\n",
    "df['date'] = pd.to_datetime(df['date'])\n",
    "df.loc[df['date'] < pd.Timestamp('2020-12-01 12:00:00'), ['total_vaccinations_per_hundred', \n",
    "                                                          'people_vaccinated_per_hundred',\n",
    "                                                          'people_fully_vaccinated_per_hundred',\n",
    "                                                          'new_vaccinations_smoothed_per_million',\n",
    "                                                          'new_people_vaccinated_smoothed_per_hundred',\n",
    "                                                          'daily_people_vaccinated_per_hundred',\n",
    "                                                         'daily_vaccinations_per_million']] = 0\n",
    "\n",
    "#create a column denoting month/year\n",
    "df['month_yr'] = df['date'].apply(lambda x: x.strftime('%m-%Y'))\n",
    "\n",
    "#drop columns associated with response\n",
    "df = df.drop(['total_cases_per_million','total_deaths_per_million','total_tests_per_thousand',\n",
    "              'positive_rate','tests_per_case','hospital_beds_per_thousand','icu_patients_per_million',\n",
    "              'hosp_patients_per_million','month_yr','population','reproduction_rate','new_tests_smoothed_per_thousand'], axis = 1)"
   ]
  },
  {
   "cell_type": "code",
   "execution_count": 10,
   "metadata": {
    "id": "jFnYWPXv-MNv",
    "outputId": "ab98d01e-a744-4901-aaa8-f4bfaaac4747"
   },
   "outputs": [
    {
     "name": "stderr",
     "output_type": "stream",
     "text": [
      "C:\\Users\\tropi\\anaconda3\\lib\\site-packages\\sklearn\\impute\\_iterative.py:685: ConvergenceWarning: [IterativeImputer] Early stopping criterion not reached.\n",
      "  warnings.warn(\"[IterativeImputer] Early stopping criterion not\"\n",
      "C:\\Users\\tropi\\anaconda3\\lib\\site-packages\\sklearn\\impute\\_iterative.py:685: ConvergenceWarning: [IterativeImputer] Early stopping criterion not reached.\n",
      "  warnings.warn(\"[IterativeImputer] Early stopping criterion not\"\n"
     ]
    }
   ],
   "source": [
    "from sklearn.model_selection import train_test_split\n",
    "from sklearn.experimental import enable_iterative_imputer\n",
    "from sklearn.impute import IterativeImputer\n",
    "from sklearn.linear_model import BayesianRidge\n",
    "\n",
    "#split into a training and testing set\n",
    "train, test = train_test_split(df, train_size = 0.8, random_state = 42)\n",
    "df.reset_index(drop=True, inplace = True)\n",
    "train.reset_index(drop=True, inplace = True)\n",
    "test.reset_index(drop=True, inplace = True)\n",
    "\n",
    "#save these columns for later\n",
    "date = df['date']\n",
    "iso_code = df['iso_code']\n",
    "cases = df['new_cases_smoothed_per_million']\n",
    "deaths = df['new_deaths_smoothed_per_million'] \n",
    "\n",
    "train_date = train['date']\n",
    "train_iso_code = train['iso_code']\n",
    "train_cases = train['new_cases_smoothed_per_million']\n",
    "train_deaths = train['new_deaths_smoothed_per_million'] \n",
    "\n",
    "test_date = test['date']\n",
    "test_iso_code = test['iso_code']\n",
    "test_cases = test['new_cases_smoothed_per_million']\n",
    "test_deaths = test['new_deaths_smoothed_per_million'] \n",
    "                   \n",
    "#drop response columns\n",
    "df = df.drop(['new_cases_smoothed_per_million', 'new_deaths_smoothed_per_million'], axis = 1)\n",
    "train = train.drop(['new_cases_smoothed_per_million', 'new_deaths_smoothed_per_million'], axis = 1)\n",
    "test = test.drop(['new_cases_smoothed_per_million', 'new_deaths_smoothed_per_million'], axis = 1)\n",
    "\n",
    "#drop date columns\n",
    "df.drop('date', axis=1, inplace=True)\n",
    "train.drop('date', axis=1, inplace=True)\n",
    "test.drop('date', axis=1, inplace=True)\n",
    "\n",
    "#create dummy variables for categorical variables\n",
    "df_dummy = pd.get_dummies(df, drop_first=True)\n",
    "train_dummy = pd.get_dummies(train, drop_first=True)\n",
    "test_dummy = pd.get_dummies(test, drop_first=True)\n",
    "\n",
    "#drop dummy variables that do not appear in both train and test set\n",
    "test_dummy.drop(list(set(test_dummy.columns.tolist()) - set(train_dummy.columns.tolist())), axis = 1, inplace = True)\n",
    "train_dummy.drop(list(set(train_dummy.columns.tolist()) - set(test_dummy.columns.tolist())), axis = 1, inplace = True)\n",
    "\n",
    "#imputed full data set\n",
    "imputer = IterativeImputer(estimator = BayesianRidge(), max_iter = 10, min_value = df_dummy.min(axis=0), max_value = df_dummy.max(axis=0), random_state=42)\n",
    "df_imputed_full = pd.DataFrame(imputer.fit_transform(df_dummy))\n",
    "\n",
    "#imputed train/test split data\n",
    "imputer_split = IterativeImputer(estimator = BayesianRidge(), max_iter = 10, min_value = train_dummy.min(axis=0), max_value = train_dummy.max(axis=0), random_state=42)\n",
    "train_imputed_full = pd.DataFrame(imputer_split.fit_transform(train_dummy))\n",
    "test_imputed_full = pd.DataFrame(imputer_split.transform(test_dummy))"
   ]
  },
  {
   "cell_type": "code",
   "execution_count": 11,
   "metadata": {
    "id": "B-fPB0rC-MNx"
   },
   "outputs": [],
   "source": [
    "#reformat and save off imputed data frames\n",
    "\n",
    "df_imputed_full = df_imputed_full.iloc[:,:31]\n",
    "df_imputed_full.columns = df_dummy.columns[:31]\n",
    "df_imputed_full['date'] = date\n",
    "df_imputed_full['date'] = pd.to_datetime(df_imputed_full['date'])\n",
    "df_imputed_full['iso_code'] = iso_code\n",
    "df_imputed_full['new_cases_smoothed_per_million'] = cases\n",
    "df_imputed_full['new_deaths_smoothed_per_million']  = deaths\n",
    "df_imputed_full['month_yr'] = df_imputed_full['date'].apply(lambda x: x.strftime('%m-%Y'))\n",
    "df_imputed_full.to_csv(os.path.join(personal_path, 'Data/biweekly_imputed_old_fixed.csv'))\n",
    "\n",
    "train_imputed_full = train_imputed_full.iloc[:,:31]\n",
    "train_imputed_full.columns = train_dummy.columns[:31]\n",
    "train_imputed_full['date'] = train_date\n",
    "train_imputed_full['date'] = pd.to_datetime(train_imputed_full['date'])\n",
    "train_imputed_full['iso_code'] = train_iso_code\n",
    "train_imputed_full['new_cases_smoothed_per_million'] = train_cases\n",
    "train_imputed_full['new_deaths_smoothed_per_million']  = train_deaths\n",
    "train_imputed_full['month_yr'] = train_imputed_full['date'].apply(lambda x: x.strftime('%m-%Y'))\n",
    "train_imputed_full.to_csv(os.path.join(personal_path, 'Data/biweekly_train_imputed_old_fixed.csv'))\n",
    "\n",
    "test_imputed_full = test_imputed_full.iloc[:,:31]\n",
    "test_imputed_full.columns = test_dummy.columns[:31]\n",
    "test_imputed_full['date'] = test_date\n",
    "test_imputed_full['date'] = pd.to_datetime(test_imputed_full['date'])\n",
    "test_imputed_full['iso_code'] = test_iso_code\n",
    "test_imputed_full['new_cases_smoothed_per_million'] = test_cases\n",
    "test_imputed_full['new_deaths_smoothed_per_million']  = test_deaths\n",
    "test_imputed_full['month_yr'] = test_imputed_full['date'].apply(lambda x: x.strftime('%m-%Y'))\n",
    "test_imputed_full.to_csv(os.path.join(personal_path, 'Data/biweekly_test_imputed_old_fixed.csv'))"
   ]
  },
  {
   "cell_type": "markdown",
   "metadata": {
    "id": "eTOajH7X-MNz"
   },
   "source": [
    "### 1.2 Ordinary Least Squares Linear Regression Models"
   ]
  },
  {
   "cell_type": "markdown",
   "metadata": {
    "id": "VKFouGRL-MN0"
   },
   "source": [
    "To begin forming our linear regression models we load in our imputed data set."
   ]
  },
  {
   "cell_type": "code",
   "execution_count": 12,
   "metadata": {
    "id": "RWGP2fng-MN0"
   },
   "outputs": [],
   "source": [
    "path_full = os.path.join(personal_path, \"Data/biweekly_imputed_old_fixed.csv\")\n",
    "df = pd.read_csv(path_full)"
   ]
  },
  {
   "cell_type": "markdown",
   "metadata": {},
   "source": [
    "#### 1.2.1 OLS model of new COVID-19 cases per million using pairwise correlations to remove variables and p-values for variable selection"
   ]
  },
  {
   "cell_type": "markdown",
   "metadata": {
    "id": "pDsRk3sL-MN1"
   },
   "source": [
    "For our first model the reponse will be the number of new Covid cases per million people on a particular day in a particular country. For now we not interested in predicting the reponse of future data points, rather we are interested in direct interpretation of the regression coefficients. Therefore, we forgo splitting the data into a train and test set. \n",
    "\n",
    "Prior to imputing we dropped irrelevant/unineteresting features. For example, having the positive rate of Covid tests on a particular day will indeed be useful for predicting the number of new cases, but this relationship is fundamentally obvious. We want to uncover less intutive relationships.\n",
    "\n",
    "We hope most of the predictor names are sufficiently descriptive. One point of clarification is that the variant predictors such as Alpha, Mu, Delta, etc. correspond to proportion of cases in a specific country on a specific date attributed to each variant. Thus, the sum of the variant data should be 1 for every country on every date."
   ]
  },
  {
   "cell_type": "code",
   "execution_count": 14,
   "metadata": {
    "id": "XVDM57gP-MN2"
   },
   "outputs": [],
   "source": [
    "y = df['new_cases_smoothed_per_million']\n",
    "X = df.drop(['Unnamed: 0', 'date', 'iso_code','month_yr','new_cases_smoothed_per_million', 'new_deaths_smoothed_per_million'], axis = 1)"
   ]
  },
  {
   "cell_type": "markdown",
   "metadata": {
    "id": "cC3tzaAu-MN3"
   },
   "source": [
    "Next, we examine the correlation between features in our data set. Recall that in an Ordinary Least Squares Linear Regression we assume $Y_i = \\beta_0 + \\beta_1x_1 + \\beta_2x_2 +\\ldots + \\beta_kx_k + ϵ_i$ where we have $k$ features, the n data points are independent, and $\\epsilon ~ \\sim \\mathcal{N}(0, \\sigma^2)$. Under these assumptions the associated likelihhod is $\\prod_{i=1}^n p(\\vec{x_i})\\cdot \\frac{1}{(2\\sigma^2\\pi)^{\\frac{1}{2}}} \\cdot exp\\{-\\frac{(y_i-(\\beta_0 + \\sum_{j=1}^k\\beta_jx_{ij}))^2}{2\\sigma^2}\\}$ and it can be shown that maximing this expression as a function of $\\vec{\\beta}$ is equivalent to minimizing $\\sum_{i=1}^n(y_i-(\\beta_0 + \\sum_{j=1}^k\\beta_jx_{ij}))^2$ in terms of $\\vec{\\beta}$. From here it follows that the regression coefficients can solved in closed form as $\\hat{\\vec{\\beta}} = (X^TX)^{-1}X^TY$ where $X$ is our design matrix (matrix of predictors + a column of 1s for an intercept term) and $Y$ is our vector of responses. Note that $\\hat{\\vec{\\beta}}$ depends on $(X^TX)^{-1}$ and that the latter expression will not be invertible if the columns of features are linearly dependent. Thus, if the columns of the design matrix are linearly dependent the OLS estimates for the coefficients cannot be solved for. Furthermore, by noting that $\\hat{\\vec{\\beta}} \\sim \\mathcal{N}(0, (X^TX)^{-1}\\sigma^2)$ we see that large values in $(X^TX)^{-1}$ will cause our coefficient estimates to be highly variable. Thus, we must also be careful to ensure that our design matrix is not near singluar as such a design matrix would yeild abnormally large values in $(X^TX)^{-1}$ and cause our estimates to be highly variable. To avoid this situation we analyze a correlation matrix of our features. Having features that are highly correlated will result in $(X^TX)^{-1}$ being near singular and so if a pair of features is highly correlated we will remove one of them. The plot below visualizes our correlation matrix. We are concerned about off-diagonal cells which are light green/yellow."
   ]
  },
  {
   "cell_type": "code",
   "execution_count": 15,
   "metadata": {
    "id": "fHUTfFuM-MN4",
    "outputId": "320ee96d-beec-4585-c9c5-eb60f2183945"
   },
   "outputs": [
    {
     "data": {
      "image/png": "[encoded data removed]",
      "text/plain": [
       "<Figure size 576x576 with 2 Axes>"
      ]
     },
     "metadata": {
      "needs_background": "light"
     },
     "output_type": "display_data"
    }
   ],
   "source": [
    "plt.figure(figsize=(8, 8))\n",
    "plt.matshow(X.corr(), fignum = 1)\n",
    "plt.colorbar()\n",
    "plt.title('Correlation Matrix of Features')\n",
    "plt.show()"
   ]
  },
  {
   "cell_type": "markdown",
   "metadata": {
    "id": "-M5NMUlP-MN5"
   },
   "source": [
    "We now drop the highly correlated predictors from our design matrix. We use a threshold of 0.8 to identify highly correlated pairs."
   ]
  },
  {
   "cell_type": "code",
   "execution_count": 16,
   "metadata": {
    "id": "0ZuTMPr9-MN5"
   },
   "outputs": [],
   "source": [
    "X.drop(['non_who','daily_people_vaccinated_per_hundred','people_vaccinated_per_hundred',\n",
    "        'people_fully_vaccinated_per_hundred','daily_vaccinations_per_million',\n",
    "        'new_people_vaccinated_smoothed_per_hundred','life_expectancy','aged_70_older',\n",
    "        'human_development_index'], axis = 1, inplace = True)"
   ]
  },
  {
   "cell_type": "markdown",
   "metadata": {
    "id": "AE-ah_d9-MN6"
   },
   "source": [
    "We now fit our initial linear regression model. We display some verbose output from the regression below and analyze it in the proceeding cell."
   ]
  },
  {
   "cell_type": "code",
   "execution_count": 17,
   "metadata": {
    "id": "ZBYVc0jS-MN7",
    "outputId": "9ea7d54f-7c4e-4a65-e448-b3ab126d54b9"
   },
   "outputs": [
    {
     "name": "stdout",
     "output_type": "stream",
     "text": [
      "                                  OLS Regression Results                                  \n",
      "==========================================================================================\n",
      "Dep. Variable:     new_cases_smoothed_per_million   R-squared:                       0.140\n",
      "Model:                                        OLS   Adj. R-squared:                  0.131\n",
      "Method:                             Least Squares   F-statistic:                     15.82\n",
      "Date:                            Tue, 14 Dec 2021   Prob (F-statistic):           1.57e-55\n",
      "Time:                                    09:36:39   Log-Likelihood:                -14446.\n",
      "No. Observations:                            2164   AIC:                         2.894e+04\n",
      "Df Residuals:                                2141   BIC:                         2.907e+04\n",
      "Df Model:                                      22                                         \n",
      "Covariance Type:                        nonrobust                                         \n",
      "=========================================================================================================\n",
      "                                            coef    std err          t      P>|t|      [0.025      0.975]\n",
      "---------------------------------------------------------------------------------------------------------\n",
      "const                                  -297.3972     42.159     -7.054      0.000    -380.074    -214.720\n",
      "total_vaccinations_per_hundred           -0.3856      0.152     -2.544      0.011      -0.683      -0.088\n",
      "new_vaccinations_smoothed_per_million     0.0028      0.001      2.928      0.003       0.001       0.005\n",
      "stringency_index                          2.7027      0.311      8.702      0.000       2.094       3.312\n",
      "population_density                       -0.0164      0.004     -3.699      0.000      -0.025      -0.008\n",
      "median_age                                5.5278      1.991      2.776      0.006       1.623       9.432\n",
      "aged_65_older                            -3.9692      2.463     -1.611      0.107      -8.800       0.862\n",
      "gdp_per_capita                            0.0008      0.000      2.881      0.004       0.000       0.001\n",
      "extreme_poverty                          -0.1334      0.176     -0.759      0.448      -0.478       0.211\n",
      "cardiovasc_death_rate                     0.0901      0.052      1.738      0.082      -0.012       0.192\n",
      "diabetes_prevalence                       2.7115      1.632      1.662      0.097      -0.488       5.911\n",
      "female_smokers                            3.9290      0.597      6.578      0.000       2.758       5.100\n",
      "male_smokers                             -0.5878      0.428     -1.374      0.170      -1.427       0.251\n",
      "Beta                                      0.1811      0.325      0.558      0.577      -0.456       0.818\n",
      "Epsilon                                   6.2319      3.288      1.895      0.058      -0.216      12.679\n",
      "Gamma                                     1.5720      0.387      4.064      0.000       0.813       2.331\n",
      "Kappa                                    -2.5987      2.095     -1.240      0.215      -6.708       1.510\n",
      "Iota                                     -1.5390      2.436     -0.632      0.528      -6.317       3.239\n",
      "Eta                                       0.3065      1.442      0.213      0.832      -2.521       3.134\n",
      "Delta                                     1.1872      0.158      7.526      0.000       0.878       1.497\n",
      "Alpha                                     0.4325      0.151      2.873      0.004       0.137       0.728\n",
      "Lambda                                    0.4393      0.759      0.579      0.563      -1.049       1.928\n",
      "Mu                                       -2.0970      4.565     -0.459      0.646     -11.049       6.855\n",
      "==============================================================================\n",
      "Omnibus:                     1207.766   Durbin-Watson:                   0.532\n",
      "Prob(Omnibus):                  0.000   Jarque-Bera (JB):             9994.196\n",
      "Skew:                           2.546   Prob(JB):                         0.00\n",
      "Kurtosis:                      12.215   Cond. No.                     3.91e+05\n",
      "==============================================================================\n",
      "\n",
      "Notes:\n",
      "[1] Standard Errors assume that the covariance matrix of the errors is correctly specified.\n",
      "[2] The condition number is large, 3.91e+05. This might indicate that there are\n",
      "strong multicollinearity or other numerical problems.\n"
     ]
    },
    {
     "name": "stderr",
     "output_type": "stream",
     "text": [
      "C:\\Users\\tropi\\anaconda3\\lib\\site-packages\\statsmodels\\tsa\\tsatools.py:142: FutureWarning: In a future version of pandas all arguments of concat except for the argument 'objs' will be keyword-only\n",
      "  x = pd.concat(x[::order], 1)\n"
     ]
    }
   ],
   "source": [
    "import statsmodels.api as sm\n",
    "\n",
    "#add a column of ones for the intercept term\n",
    "X_full = sm.add_constant(X)\n",
    "est_full = sm.OLS(y, X_full)\n",
    "est_full_fit = est_full.fit()\n",
    "print(est_full_fit.summary())"
   ]
  },
  {
   "cell_type": "markdown",
   "metadata": {
    "id": "A4YtNB1L-MN9"
   },
   "source": [
    "The first value to consider is the $R^2$ value. This is a measure of goodness of fit and is defined as $R^2=1-\\frac{\\sum_{i=1}^n(y_i-\\hat{y_i})^2}{\\sum_{i=1}^n(y_i-\\bar{y})^2}$. Evidently the closer $R^2$ is to 1 the better the model is at explaining the response. We will consider the adjusted $R^2$ value which penalizes for having many predictors. Such a penalty is logical since adding predictors to a linear regression model will only help its explanatory ability even if the added predictor is completly irrelavent. For our model $Adj. R^2 = 0.13$ which is rather low. Such a value can roughly be interpreted as meaning that the predictor variables account for 13% of the variability in the response variable. Nonetheless the model is not worthless. The $F$-test for overall model utility which has null hypothesis $H_0:$ our model and a model consisting of only an intercept term have the same explanatory capability, has a near zero p-value. Thus, we can conclude that the predictors do indeed have an effect on the response but they do not tell the entire story. We can also examine $t$-tests for individual predictors. Each such test has the null hypothesis $H_0:$ the coefficient associated with the predictor is 0. Thus, if the p-value of such a test is large the predictor may not have any influence on the response and may be able to be removed without hindering the model. In our model, if we conduct the test at a 95% confidence level, the insignificant predictors are aged 65 older, extreme poverty, cardio vasc death rate, diabetes prevalence, male smokers, Beta, Kappa, Iota, Eta, Lambda, Epsilon and Mu. We now fit a model with these predictors removed and check to see if we can safetly justify their removal."
   ]
  },
  {
   "cell_type": "code",
   "execution_count": 18,
   "metadata": {
    "id": "RXZ4hSHJ-MN-",
    "outputId": "2aa9df12-8d7a-410b-de77-b0b68eb90506"
   },
   "outputs": [
    {
     "name": "stdout",
     "output_type": "stream",
     "text": [
      "   df_resid           ssr  df_diff        ss_diff         F   Pr(>F)\n",
      "0    2153.0  8.040017e+07      0.0            NaN       NaN      NaN\n",
      "1    2141.0  7.960578e+07     12.0  794382.943353  1.780413  0.04604\n"
     ]
    },
    {
     "name": "stderr",
     "output_type": "stream",
     "text": [
      "C:\\Users\\tropi\\anaconda3\\lib\\site-packages\\statsmodels\\tsa\\tsatools.py:142: FutureWarning: In a future version of pandas all arguments of concat except for the argument 'objs' will be keyword-only\n",
      "  x = pd.concat(x[::order], 1)\n"
     ]
    }
   ],
   "source": [
    "from statsmodels.stats.anova import anova_lm\n",
    "X_nested = X.drop(['aged_65_older','extreme_poverty','cardiovasc_death_rate','diabetes_prevalence','male_smokers','Beta','Kappa','Iota','Eta','Lambda','Mu','Epsilon'], axis = 1)\n",
    "X_nested_const = sm.add_constant(X_nested)\n",
    "est_nested = sm.OLS(y, X_nested_const)\n",
    "est_nested_fit = est_nested.fit()\n",
    "print(anova_lm(est_nested_fit, est_full_fit))"
   ]
  },
  {
   "cell_type": "markdown",
   "metadata": {
    "id": "rjpTvpms-MOA"
   },
   "source": [
    "The above output details an $F$-test for nested linear regression models. The null hypothesis is $H_0:$ all coeffcients present in the full model but not the nested model are 0. In other words the hypothesis test is detirmining if the nested model accounts for the just as much variance in the reponse as the full model. In our case the p-value is <0.05 and so we reject the null hypothesis at the 95% confidence level and cannot reduce the model. We try again but this time retaining the Epislon predictor since the associated $t$-test was nearly significant. We recognize that such a procedure may not be the most mathematically sound, a better approach for model reduction is employed in when constructing Generalized Linear Models later in this section."
   ]
  },
  {
   "cell_type": "code",
   "execution_count": 19,
   "metadata": {
    "id": "OfX_Lw64-MOA",
    "outputId": "61954dc4-861f-4a41-abc3-ef07f0b6156e"
   },
   "outputs": [
    {
     "name": "stdout",
     "output_type": "stream",
     "text": [
      "   df_resid           ssr  df_diff        ss_diff         F    Pr(>F)\n",
      "0    2152.0  8.024116e+07      0.0            NaN       NaN       NaN\n",
      "1    2141.0  7.960578e+07     11.0  635372.127025  1.553487  0.106223\n"
     ]
    },
    {
     "name": "stderr",
     "output_type": "stream",
     "text": [
      "C:\\Users\\tropi\\anaconda3\\lib\\site-packages\\statsmodels\\tsa\\tsatools.py:142: FutureWarning: In a future version of pandas all arguments of concat except for the argument 'objs' will be keyword-only\n",
      "  x = pd.concat(x[::order], 1)\n"
     ]
    }
   ],
   "source": [
    "from statsmodels.stats.anova import anova_lm\n",
    "X_nested = X.drop(['aged_65_older','extreme_poverty','cardiovasc_death_rate','diabetes_prevalence','male_smokers','Beta','Kappa','Iota','Eta','Lambda','Mu'], axis = 1)\n",
    "X_nested_const = sm.add_constant(X_nested)\n",
    "est_nested = sm.OLS(y, X_nested_const)\n",
    "est_nested_fit = est_nested.fit()\n",
    "print(anova_lm(est_nested_fit, est_full_fit))"
   ]
  },
  {
   "cell_type": "markdown",
   "metadata": {
    "id": "FATc45n1-MOC"
   },
   "source": [
    "Note the p-value associated with model reduction is 0.106, so we can justfiably reduce the model at the 95% confidence level. We now examine the coefficients of this nested model."
   ]
  },
  {
   "cell_type": "code",
   "execution_count": 20,
   "metadata": {
    "id": "42yNJvlm-MOC",
    "outputId": "3ee9bc87-4347-4c1d-e8cc-6ab354536349"
   },
   "outputs": [
    {
     "name": "stdout",
     "output_type": "stream",
     "text": [
      "                                  OLS Regression Results                                  \n",
      "==========================================================================================\n",
      "Dep. Variable:     new_cases_smoothed_per_million   R-squared:                       0.133\n",
      "Model:                                        OLS   Adj. R-squared:                  0.129\n",
      "Method:                             Least Squares   F-statistic:                     30.01\n",
      "Date:                            Tue, 14 Dec 2021   Prob (F-statistic):           2.04e-59\n",
      "Time:                                    09:39:59   Log-Likelihood:                -14454.\n",
      "No. Observations:                            2164   AIC:                         2.893e+04\n",
      "Df Residuals:                                2152   BIC:                         2.900e+04\n",
      "Df Model:                                      11                                         \n",
      "Covariance Type:                        nonrobust                                         \n",
      "=========================================================================================================\n",
      "                                            coef    std err          t      P>|t|      [0.025      0.975]\n",
      "---------------------------------------------------------------------------------------------------------\n",
      "const                                  -215.0637     29.534     -7.282      0.000    -272.981    -157.146\n",
      "total_vaccinations_per_hundred           -0.4132      0.146     -2.821      0.005      -0.700      -0.126\n",
      "new_vaccinations_smoothed_per_million     0.0029      0.001      3.036      0.002       0.001       0.005\n",
      "stringency_index                          2.8600      0.297      9.637      0.000       2.278       3.442\n",
      "population_density                       -0.0141      0.004     -3.531      0.000      -0.022      -0.006\n",
      "median_age                                2.1434      0.746      2.873      0.004       0.680       3.607\n",
      "gdp_per_capita                            0.0010      0.000      3.928      0.000       0.000       0.001\n",
      "female_smokers                            3.3959      0.518      6.561      0.000       2.381       4.411\n",
      "Epsilon                                   6.6451      3.218      2.065      0.039       0.335      12.956\n",
      "Gamma                                     1.7609      0.366      4.813      0.000       1.043       2.478\n",
      "Delta                                     1.2292      0.152      8.111      0.000       0.932       1.526\n",
      "Alpha                                     0.4189      0.149      2.820      0.005       0.128       0.710\n",
      "==============================================================================\n",
      "Omnibus:                     1214.850   Durbin-Watson:                   0.536\n",
      "Prob(Omnibus):                  0.000   Jarque-Bera (JB):            10257.756\n",
      "Skew:                           2.557   Prob(JB):                         0.00\n",
      "Kurtosis:                      12.360   Cond. No.                     2.73e+05\n",
      "==============================================================================\n",
      "\n",
      "Notes:\n",
      "[1] Standard Errors assume that the covariance matrix of the errors is correctly specified.\n",
      "[2] The condition number is large, 2.73e+05. This might indicate that there are\n",
      "strong multicollinearity or other numerical problems.\n"
     ]
    }
   ],
   "source": [
    "print(est_nested_fit.summary())"
   ]
  },
  {
   "cell_type": "markdown",
   "metadata": {
    "id": "6T4mGaHX-MOE"
   },
   "source": [
    "Interpreting regression coefficients can be tricky. One needs to resist the temptation to fit a narrative to explain why the coefficients take on certain values. For example, strigency_index is a metric developed by Our World in Data, that attempts to quantify how many restrictions a country has put in place to slow the spread of Covid-19. Countries with mask mandates, travel bans, and mandatory quarantines will have a higher strigency index than those countries which do not. The regression coefficient associated with strigency index is positive, suggesting that the more restrictions a government puts in place the more Covid-19 spreads. Of course the true relationship is likely that the governments of countries in which there is a COVID-19 outbreak, and thus lots of new cases, are more likely to implement restrictive measures to slow the spread. Other interesting findings are that the only significant variants were Epsilon, Gamma, Delta, and Alpha, all of which have positive coefficients. This could possibly suggest that these variants are more contagious. However, in the case of the Gamma and Epsilon variants the data is limited and so any conclusions should be take with a grain of salt. Another interesting note is that the female smoker predictor was significant but the male smoker predictor was not. We are hesistant to hypothesize why this is the case but perhaps the amount of female smokers in a country is a proxy for the nation's underlying ideology about government interventions. Lastly, it seems counter intuitive that the amont of new vaccinations administered on a day would be posivelty associated with the number of new cases. This may be due to more people being convinced to receive vaccines during particularly bad Covid outbreaks."
   ]
  },
  {
   "cell_type": "markdown",
   "metadata": {
    "id": "XmYK9DCU-MOF"
   },
   "source": [
    "We are also interested in directly comparing the magnitide of the effect of each predictor. To do this we standardize the predictors and re-fit the regression model. Note that with the scaled data no intercept term is necessary."
   ]
  },
  {
   "cell_type": "code",
   "execution_count": 21,
   "metadata": {
    "id": "5e7npqAa-MOG",
    "outputId": "72896a50-9f20-4443-f84d-390ce729b84c"
   },
   "outputs": [
    {
     "name": "stdout",
     "output_type": "stream",
     "text": [
      "                                 OLS Regression Results                                \n",
      "=======================================================================================\n",
      "Dep. Variable:                      y   R-squared (uncentered):                   0.133\n",
      "Model:                            OLS   Adj. R-squared (uncentered):              0.129\n",
      "Method:                 Least Squares   F-statistic:                              30.02\n",
      "Date:                Tue, 14 Dec 2021   Prob (F-statistic):                    1.90e-59\n",
      "Time:                        09:41:43   Log-Likelihood:                         -2916.2\n",
      "No. Observations:                2164   AIC:                                      5854.\n",
      "Df Residuals:                    2153   BIC:                                      5917.\n",
      "Df Model:                          11                                                  \n",
      "Covariance Type:            nonrobust                                                  \n",
      "=========================================================================================================\n",
      "                                            coef    std err          t      P>|t|      [0.025      0.975]\n",
      "---------------------------------------------------------------------------------------------------------\n",
      "total_vaccinations_per_hundred           -0.0947      0.034     -2.821      0.005      -0.160      -0.029\n",
      "new_vaccinations_smoothed_per_million     0.0778      0.026      3.037      0.002       0.028       0.128\n",
      "stringency_index                          0.2153      0.022      9.639      0.000       0.171       0.259\n",
      "population_density                       -0.0790      0.022     -3.532      0.000      -0.123      -0.035\n",
      "median_age                                0.0858      0.030      2.873      0.004       0.027       0.144\n",
      "gdp_per_capita                            0.1011      0.026      3.929      0.000       0.051       0.152\n",
      "female_smokers                            0.1772      0.027      6.562      0.000       0.124       0.230\n",
      "Epsilon                                   0.0420      0.020      2.066      0.039       0.002       0.082\n",
      "Gamma                                     0.1003      0.021      4.814      0.000       0.059       0.141\n",
      "Delta                                     0.2531      0.031      8.113      0.000       0.192       0.314\n",
      "Alpha                                     0.0619      0.022      2.821      0.005       0.019       0.105\n",
      "==============================================================================\n",
      "Omnibus:                     1214.850   Durbin-Watson:                   0.536\n",
      "Prob(Omnibus):                  0.000   Jarque-Bera (JB):            10257.756\n",
      "Skew:                           2.557   Prob(JB):                         0.00\n",
      "Kurtosis:                      12.360   Cond. No.                         3.32\n",
      "==============================================================================\n",
      "\n",
      "Notes:\n",
      "[1] R² is computed without centering (uncentered) since the model does not contain a constant.\n",
      "[2] Standard Errors assume that the covariance matrix of the errors is correctly specified.\n"
     ]
    }
   ],
   "source": [
    "from sklearn.preprocessing import StandardScaler\n",
    "\n",
    "scaler = StandardScaler()\n",
    "scaler_y = StandardScaler()\n",
    "y_scaled = scaler_y.fit_transform(np.array(y).reshape(-1,1))\n",
    "cols = X_nested.columns\n",
    "X_nested_scaled = pd.DataFrame(scaler.fit_transform(X_nested))\n",
    "X_nested_scaled.columns = cols\n",
    "est_nested_scaled = sm.OLS(y_scaled, X_nested_scaled)\n",
    "est_nested_scaled_fit = est_nested_scaled.fit()\n",
    "print(est_nested_scaled_fit.summary())"
   ]
  },
  {
   "cell_type": "markdown",
   "metadata": {
    "id": "uYQ1KvBW-MOI"
   },
   "source": [
    "From this output we can see that we see that the two non-variant related predictors with greatest positive affect on the number of cases on a given day were strigency index and female smokers. Furthermore, we can now see that the Delta variant seems to be the most contagious."
   ]
  },
  {
   "cell_type": "markdown",
   "metadata": {},
   "source": [
    "#### 1.2.2 Similar model as 1.2.1 + month and country information\n"
   ]
  },
  {
   "cell_type": "markdown",
   "metadata": {
    "id": "0Da4Yh56-MOJ"
   },
   "source": [
    "The last analysis we will perform on this model will be the addition of categorical predictors. These added predictors correspond to the country and the month-year combination corresponding to each row."
   ]
  },
  {
   "cell_type": "code",
   "execution_count": 22,
   "metadata": {
    "id": "5kzu5u2D-MOJ",
    "outputId": "e07ca63d-e729-4b66-b7dd-c736b87d7878"
   },
   "outputs": [
    {
     "name": "stdout",
     "output_type": "stream",
     "text": [
      "                                  OLS Regression Results                                  \n",
      "==========================================================================================\n",
      "Dep. Variable:     new_cases_smoothed_per_million   R-squared:                       0.471\n",
      "Model:                                        OLS   Adj. R-squared:                  0.437\n",
      "Method:                             Least Squares   F-statistic:                     13.73\n",
      "Date:                            Tue, 14 Dec 2021   Prob (F-statistic):          9.61e-198\n",
      "Time:                                    09:42:02   Log-Likelihood:                -13919.\n",
      "No. Observations:                            2164   AIC:                         2.810e+04\n",
      "Df Residuals:                                2031   BIC:                         2.886e+04\n",
      "Df Model:                                     132                                         \n",
      "Covariance Type:                        nonrobust                                         \n",
      "=========================================================================================================\n",
      "                                            coef    std err          t      P>|t|      [0.025      0.975]\n",
      "---------------------------------------------------------------------------------------------------------\n",
      "const                                  -251.9008     39.116     -6.440      0.000    -328.613    -175.188\n",
      "total_vaccinations_per_hundred           -0.7888      0.146     -5.385      0.000      -1.076      -0.502\n",
      "new_vaccinations_smoothed_per_million     0.0017      0.001      1.685      0.092      -0.000       0.004\n",
      "stringency_index                          4.4317      0.348     12.721      0.000       3.749       5.115\n",
      "population_density                       -0.0287      0.004     -7.083      0.000      -0.037      -0.021\n",
      "median_age                                6.1628      1.268      4.860      0.000       3.676       8.650\n",
      "gdp_per_capita                            0.0008      0.000      2.723      0.007       0.000       0.001\n",
      "female_smokers                           -0.6629      0.958     -0.692      0.489      -2.542       1.217\n",
      "Epsilon                                   2.0710      3.060      0.677      0.499      -3.929       8.071\n",
      "Gamma                                     2.9024      0.475      6.108      0.000       1.970       3.834\n",
      "Delta                                     1.9028      0.328      5.798      0.000       1.259       2.546\n",
      "Alpha                                     0.1695      0.233      0.728      0.467      -0.287       0.626\n",
      "iso_code_ARE                            -47.1508     39.722     -1.187      0.235    -125.051      30.749\n",
      "iso_code_ARG                            -23.4983     28.630     -0.821      0.412     -79.645      32.649\n",
      "iso_code_AUS                           -217.6922     24.732     -8.802      0.000    -266.195    -169.189\n",
      "iso_code_AUT                            -52.7865     27.142     -1.945      0.052    -106.016       0.443\n",
      "iso_code_BEL                             42.4888     25.217      1.685      0.092      -6.965      91.942\n",
      "iso_code_BGD                           -138.3139     30.094     -4.596      0.000    -197.333     -79.295\n",
      "iso_code_BGR                             -6.3701     33.925     -0.188      0.851     -72.902      60.162\n",
      "iso_code_BHR                            177.0692     41.257      4.292      0.000      96.158     257.980\n",
      "iso_code_BIH                             15.8967    106.889      0.149      0.882    -193.727     225.520\n",
      "iso_code_BLZ                            -16.9565     88.913     -0.191      0.849    -191.327     157.414\n",
      "iso_code_BRA                            -58.1012     28.241     -2.057      0.040    -113.486      -2.717\n",
      "iso_code_BWA                            208.5379     43.375      4.808      0.000     123.474     293.601\n",
      "iso_code_CAN                           -178.5945     26.283     -6.795      0.000    -230.139    -127.050\n",
      "iso_code_CHE                              9.9096     25.519      0.388      0.698     -40.136      59.956\n",
      "iso_code_CHL                            -50.7726     33.634     -1.510      0.131    -116.734      15.189\n",
      "iso_code_CMR                             31.7805     69.450      0.458      0.647    -104.421     167.982\n",
      "iso_code_COL                             56.0834     35.661      1.573      0.116     -13.853     126.019\n",
      "iso_code_CRI                            100.3335     36.816      2.725      0.006      28.133     172.534\n",
      "iso_code_CZE                            212.8053     31.573      6.740      0.000     150.886     274.725\n",
      "iso_code_DEU                           -141.8951     24.798     -5.722      0.000    -190.527     -93.263\n",
      "iso_code_DJI                             85.4879     77.587      1.102      0.271     -66.671     237.646\n",
      "iso_code_DNK                            -31.5073     24.689     -1.276      0.202     -79.926      16.912\n",
      "iso_code_DOM                            -78.5215     77.824     -1.009      0.313    -231.145      74.102\n",
      "iso_code_ECU                            -54.5704     45.007     -1.212      0.225    -142.834      33.694\n",
      "iso_code_EGY                            -76.1599     45.280     -1.682      0.093    -164.960      12.640\n",
      "iso_code_ESP                            -42.7808     24.911     -1.717      0.086     -91.634       6.072\n",
      "iso_code_EST                            273.1443     33.414      8.175      0.000     207.615     338.673\n",
      "iso_code_ETH                            -46.6897     88.614     -0.527      0.598    -220.474     127.095\n",
      "iso_code_FIN                           -108.8630     27.888     -3.904      0.000    -163.556     -54.170\n",
      "iso_code_FJI                            174.4699     90.208      1.934      0.053      -2.441     351.381\n",
      "iso_code_FRA                             -0.9391     26.146     -0.036      0.971     -52.215      50.337\n",
      "iso_code_GBR                             46.0525     24.798      1.857      0.063      -2.579      94.684\n",
      "iso_code_GEO                            552.2033     89.290      6.184      0.000     377.095     727.312\n",
      "iso_code_GHA                             10.4243     37.714      0.276      0.782     -63.538      84.387\n",
      "iso_code_GMB                             45.5568     55.392      0.822      0.411     -63.074     154.187\n",
      "iso_code_GRC                           -112.5830     31.724     -3.549      0.000    -174.797     -50.369\n",
      "iso_code_GTM                             10.5114     47.473      0.221      0.825     -82.590     103.613\n",
      "iso_code_HKG                            -86.0929     27.016     -3.187      0.001    -139.075     -33.111\n",
      "iso_code_HRV                             50.7985     36.555      1.390      0.165     -20.891     122.488\n",
      "iso_code_HUN                             46.4672     88.292      0.526      0.599    -126.685     219.619\n",
      "iso_code_IDN                           -157.4614     31.289     -5.032      0.000    -218.824     -96.099\n",
      "iso_code_IND                           -144.6601     26.419     -5.476      0.000    -196.472     -92.848\n",
      "iso_code_IRL                            -36.3529     26.964     -1.348      0.178     -89.233      16.527\n",
      "iso_code_IRQ                              8.6137    152.786      0.056      0.955    -291.020     308.248\n",
      "iso_code_ISL                            -51.7037     30.453     -1.698      0.090    -111.426       8.018\n",
      "iso_code_ISR                            190.2542     32.643      5.828      0.000     126.237     254.272\n",
      "iso_code_ITA                           -150.8229     26.996     -5.587      0.000    -203.766     -97.880\n",
      "iso_code_JAM                            -42.5469    109.087     -0.390      0.697    -256.482     171.388\n",
      "iso_code_JOR                             46.5941     54.951      0.848      0.397     -61.173     154.361\n",
      "iso_code_JPN                           -127.5343     30.698     -4.154      0.000    -187.737     -67.332\n",
      "iso_code_KAZ                             10.3178     69.559      0.148      0.882    -126.097     146.732\n",
      "iso_code_KEN                            -78.6365     27.648     -2.844      0.004    -132.857     -24.416\n",
      "iso_code_KHM                            -82.0702     40.700     -2.016      0.044    -161.888      -2.253\n",
      "iso_code_KOR                           -154.8506     30.071     -5.149      0.000    -213.824     -95.877\n",
      "iso_code_KWT                             44.8668     66.385      0.676      0.499     -85.323     175.056\n",
      "iso_code_LBN                            128.1610     52.875      2.424      0.015      24.465     231.857\n",
      "iso_code_LKA                           -154.3443     39.538     -3.904      0.000    -231.884     -76.805\n",
      "iso_code_LTU                            214.6557     31.090      6.904      0.000     153.684     275.628\n",
      "iso_code_LUX                             73.2519     29.691      2.467      0.014      15.023     131.481\n",
      "iso_code_LVA                             68.9853     41.560      1.660      0.097     -12.519     150.489\n",
      "iso_code_MAR                            -49.9251    108.335     -0.461      0.645    -262.384     162.534\n",
      "iso_code_MDG                             46.2054     70.331      0.657      0.511     -91.723     184.134\n",
      "iso_code_MDV                             35.9131     62.930      0.571      0.568     -87.500     159.327\n",
      "iso_code_MEX                            -83.7167     25.771     -3.248      0.001    -134.258     -33.176\n",
      "iso_code_MKD                             29.0672     66.061      0.440      0.660    -100.487     158.621\n",
      "iso_code_MLT                           -106.7268     68.330     -1.562      0.118    -240.732      27.278\n",
      "iso_code_MNE                            377.9625     79.392      4.761      0.000     222.265     533.660\n",
      "iso_code_MOZ                            -32.1206     50.060     -0.642      0.521    -130.296      66.054\n",
      "iso_code_MWI                             14.0040     59.312      0.236      0.813    -102.315     130.324\n",
      "iso_code_MYS                            -13.6571     31.913     -0.428      0.669     -76.243      48.929\n",
      "iso_code_NGA                            -39.2298     37.664     -1.042      0.298    -113.095      34.635\n",
      "iso_code_NLD                             52.3144     24.653      2.122      0.034       3.966     100.663\n",
      "iso_code_NOR                            -93.1086     25.700     -3.623      0.000    -143.510     -42.707\n",
      "iso_code_NPL                           -109.7417     90.358     -1.215      0.225    -286.945      67.462\n",
      "iso_code_NZL                           -225.4012     43.109     -5.229      0.000    -309.944    -140.859\n",
      "iso_code_OMN                             65.8610     76.766      0.858      0.391     -84.688     216.410\n",
      "iso_code_OWID_KOS                       320.8389     63.569      5.047      0.000     196.172     445.506\n",
      "iso_code_PAK                           -105.3992     40.751     -2.586      0.010    -185.317     -25.481\n",
      "iso_code_PER                            -80.6373     28.912     -2.789      0.005    -137.338     -23.936\n",
      "iso_code_PHL                            -80.5094     33.518     -2.402      0.016    -146.243     -14.776\n",
      "iso_code_PNG                            -21.3755     62.916     -0.340      0.734    -144.763     102.012\n",
      "iso_code_POL                            -42.6926     30.782     -1.387      0.166    -103.060      17.675\n",
      "iso_code_PRT                            -37.4043     30.282     -1.235      0.217     -96.791      21.983\n",
      "iso_code_PRY                            -46.7481     77.517     -0.603      0.547    -198.769     105.273\n",
      "iso_code_QAT                            -39.4227     31.899     -1.236      0.217    -101.981      23.135\n",
      "iso_code_ROU                            -38.2941     28.499     -1.344      0.179     -94.184      17.596\n",
      "iso_code_RUS                            -51.1349     25.914     -1.973      0.049    -101.955      -0.315\n",
      "iso_code_RWA                            -43.6788     58.671     -0.744      0.457    -158.741      71.384\n",
      "iso_code_SEN                             26.9457     58.675      0.459      0.646     -88.124     142.016\n",
      "iso_code_SGP                             83.8281     23.865      3.513      0.000      37.026     130.630\n",
      "iso_code_SUR                            -60.6617     47.301     -1.282      0.200    -153.426      32.102\n",
      "iso_code_SVK                            241.5461     32.339      7.469      0.000     178.125     304.967\n",
      "iso_code_SVN                            139.0336     26.835      5.181      0.000      86.406     191.661\n",
      "iso_code_SWE                             15.0247     24.782      0.606      0.544     -33.576      63.625\n",
      "iso_code_SYC                            453.7995     64.079      7.082      0.000     328.132     579.466\n",
      "iso_code_TGO                             36.8985     76.993      0.479      0.632    -114.096     187.893\n",
      "iso_code_THA                           -124.0086     37.924     -3.270      0.001    -198.382     -49.635\n",
      "iso_code_TTO                           -155.6354     71.762     -2.169      0.030    -296.370     -14.901\n",
      "iso_code_TUR                             34.9974     31.168      1.123      0.262     -26.127      96.122\n",
      "iso_code_UGA                            -27.5384     63.744     -0.432      0.666    -152.548      97.471\n",
      "iso_code_UKR                            -75.7479     58.372     -1.298      0.195    -190.222      38.726\n",
      "iso_code_URY                            102.6264     59.944      1.712      0.087     -14.931     220.184\n",
      "iso_code_USA                             38.7861     27.314      1.420      0.156     -14.781      92.353\n",
      "iso_code_VNM                           -213.1960     59.641     -3.575      0.000    -330.160     -96.232\n",
      "iso_code_ZAF                            -11.9244     25.453     -0.468      0.639     -61.841      37.992\n",
      "iso_code_ZMB                             66.4494     48.029      1.384      0.167     -27.741     160.640\n",
      "iso_code_ZWE                            -77.4438     55.126     -1.405      0.160    -185.553      30.665\n",
      "month_year_02-2021                      -81.1796     18.616     -4.361      0.000    -117.687     -44.672\n",
      "month_year_03-2021                      -75.9991     20.497     -3.708      0.000    -116.196     -35.802\n",
      "month_year_04-2021                      -68.7833     21.617     -3.182      0.001    -111.177     -26.389\n",
      "month_year_05-2020                     -219.7580     23.645     -9.294      0.000    -266.129    -173.387\n",
      "month_year_05-2021                     -114.4733     21.564     -5.309      0.000    -156.763     -72.184\n",
      "month_year_06-2020                     -168.8047     24.759     -6.818      0.000    -217.361    -120.248\n",
      "month_year_06-2021                     -187.1328     25.934     -7.216      0.000    -237.994    -136.272\n",
      "month_year_07-2020                     -166.8252     24.053     -6.936      0.000    -213.997    -119.654\n",
      "month_year_07-2021                     -199.7305     31.213     -6.399      0.000    -260.944    -138.517\n",
      "month_year_08-2020                     -157.3190     21.300     -7.386      0.000    -199.092    -115.546\n",
      "month_year_08-2021                     -158.9168     33.868     -4.692      0.000    -225.335     -92.498\n",
      "month_year_09-2020                     -137.9560     23.689     -5.824      0.000    -184.413     -91.499\n",
      "month_year_09-2021                     -147.1705     35.667     -4.126      0.000    -217.118     -77.223\n",
      "month_year_10-2020                      -28.7687     22.896     -1.256      0.209     -73.671      16.134\n",
      "month_year_10-2021                     -130.6299     37.108     -3.520      0.000    -203.404     -57.856\n",
      "month_year_11-2020                       12.8037     22.741      0.563      0.573     -31.795      57.402\n",
      "month_year_11-2021                        9.8882     39.376      0.251      0.802     -67.333      87.109\n",
      "month_year_12-2020                       -2.6978     22.194     -0.122      0.903     -46.223      40.827\n",
      "==============================================================================\n",
      "Omnibus:                      876.307   Durbin-Watson:                   0.786\n",
      "Prob(Omnibus):                  0.000   Jarque-Bera (JB):             6404.330\n",
      "Skew:                           1.734   Prob(JB):                         0.00\n",
      "Kurtosis:                      10.682   Cond. No.                     1.57e+20\n",
      "==============================================================================\n",
      "\n",
      "Notes:\n",
      "[1] Standard Errors assume that the covariance matrix of the errors is correctly specified.\n",
      "[2] The smallest eigenvalue is 1.29e-28. This might indicate that there are\n",
      "strong multicollinearity problems or that the design matrix is singular.\n"
     ]
    },
    {
     "name": "stderr",
     "output_type": "stream",
     "text": [
      "C:\\Users\\tropi\\anaconda3\\lib\\site-packages\\statsmodels\\tsa\\tsatools.py:142: FutureWarning: In a future version of pandas all arguments of concat except for the argument 'objs' will be keyword-only\n",
      "  x = pd.concat(x[::order], 1)\n"
     ]
    }
   ],
   "source": [
    "X_nested['iso_code'], X_nested['month_year'] = df['iso_code'], df['month_yr']\n",
    "X_nested_dummy = pd.get_dummies(X_nested, drop_first=True)\n",
    "X_nested_dummy_const = sm.add_constant(X_nested_dummy)\n",
    "est_dummy = sm.OLS(y, X_nested_dummy_const)\n",
    "est_dummy_fit_cases = est_dummy.fit()\n",
    "print(est_dummy_fit_cases.summary())"
   ]
  },
  {
   "cell_type": "markdown",
   "metadata": {
    "id": "RSX-jwOt-MOK"
   },
   "source": [
    "Including information about country and month/year drastically increases the model's explanatory ability. The model has $Adj. R^2 \\approx 0.4$. Observing the p-values associated with the $t-tests$ for these new coeficients reveals two things. First, COVID-19 has affected some countries much more than others. It is evident that there differences between countreies which affect the number of COVID-19 cases which are not present in the data set. Second, the Covid-19 pandemic has increased and decreased in severity with November, 2020 being perhaps the worst month of the pandemic from a perspective of the amount of new cases worldwide."
   ]
  },
  {
   "cell_type": "markdown",
   "metadata": {},
   "source": [
    "#### 1.2.3 OLS model of new COVID-19 *deaths* per million using pairwise correlations to remove variables and p-values for variable selection\n"
   ]
  },
  {
   "cell_type": "markdown",
   "metadata": {
    "id": "6rvHfFkb-MOL"
   },
   "source": [
    "We now conduct an entirely anaologous procedure, the only difference being that the response variable will now be new deaths smoothed per million rather than cases."
   ]
  },
  {
   "cell_type": "code",
   "execution_count": 23,
   "metadata": {
    "id": "fWJQ9O6V-MOL",
    "outputId": "a0374ea5-5e21-4650-868d-7c0d8e48a69a"
   },
   "outputs": [
    {
     "name": "stdout",
     "output_type": "stream",
     "text": [
      "                                   OLS Regression Results                                  \n",
      "===========================================================================================\n",
      "Dep. Variable:     new_deaths_smoothed_per_million   R-squared:                       0.290\n",
      "Model:                                         OLS   Adj. R-squared:                  0.283\n",
      "Method:                              Least Squares   F-statistic:                     39.84\n",
      "Date:                             Tue, 14 Dec 2021   Prob (F-statistic):          7.07e-142\n",
      "Time:                                     09:43:37   Log-Likelihood:                -5507.0\n",
      "No. Observations:                             2164   AIC:                         1.106e+04\n",
      "Df Residuals:                                 2141   BIC:                         1.119e+04\n",
      "Df Model:                                       22                                         \n",
      "Covariance Type:                         nonrobust                                         \n",
      "=========================================================================================================\n",
      "                                            coef    std err          t      P>|t|      [0.025      0.975]\n",
      "---------------------------------------------------------------------------------------------------------\n",
      "const                                    -6.9691      0.678    -10.284      0.000      -8.298      -5.640\n",
      "total_vaccinations_per_hundred           -0.0169      0.002     -6.938      0.000      -0.022      -0.012\n",
      "new_vaccinations_smoothed_per_million  8.331e-05   1.56e-05      5.347      0.000    5.28e-05       0.000\n",
      "stringency_index                          0.0596      0.005     11.939      0.000       0.050       0.069\n",
      "population_density                       -0.0002   7.11e-05     -3.479      0.001      -0.000      -0.000\n",
      "median_age                                0.1934      0.032      6.043      0.000       0.131       0.256\n",
      "aged_65_older                            -0.1353      0.040     -3.416      0.001      -0.213      -0.058\n",
      "gdp_per_capita                         -2.74e-05   4.67e-06     -5.874      0.000   -3.65e-05   -1.83e-05\n",
      "extreme_poverty                          -0.0028      0.003     -0.991      0.322      -0.008       0.003\n",
      "cardiovasc_death_rate                     0.0036      0.001      4.355      0.000       0.002       0.005\n",
      "diabetes_prevalence                       0.0384      0.026      1.466      0.143      -0.013       0.090\n",
      "female_smokers                            0.0764      0.010      7.955      0.000       0.058       0.095\n",
      "male_smokers                             -0.0290      0.007     -4.222      0.000      -0.043      -0.016\n",
      "Beta                                      0.0010      0.005      0.190      0.850      -0.009       0.011\n",
      "Epsilon                                   0.1936      0.053      3.663      0.000       0.090       0.297\n",
      "Gamma                                     0.0355      0.006      5.714      0.000       0.023       0.048\n",
      "Kappa                                    -0.0725      0.034     -2.152      0.032      -0.139      -0.006\n",
      "Iota                                     -0.0621      0.039     -1.586      0.113      -0.139       0.015\n",
      "Eta                                      -0.0008      0.023     -0.035      0.972      -0.046       0.045\n",
      "Delta                                     0.0128      0.003      5.037      0.000       0.008       0.018\n",
      "Alpha                                     0.0063      0.002      2.612      0.009       0.002       0.011\n",
      "Lambda                                    0.1367      0.012     11.208      0.000       0.113       0.161\n",
      "Mu                                       -0.0824      0.073     -1.123      0.261      -0.226       0.061\n",
      "==============================================================================\n",
      "Omnibus:                      942.828   Durbin-Watson:                   0.444\n",
      "Prob(Omnibus):                  0.000   Jarque-Bera (JB):             5060.856\n",
      "Skew:                           2.021   Prob(JB):                         0.00\n",
      "Kurtosis:                       9.308   Cond. No.                     3.91e+05\n",
      "==============================================================================\n",
      "\n",
      "Notes:\n",
      "[1] Standard Errors assume that the covariance matrix of the errors is correctly specified.\n",
      "[2] The condition number is large, 3.91e+05. This might indicate that there are\n",
      "strong multicollinearity or other numerical problems.\n"
     ]
    },
    {
     "name": "stderr",
     "output_type": "stream",
     "text": [
      "C:\\Users\\tropi\\anaconda3\\lib\\site-packages\\statsmodels\\tsa\\tsatools.py:142: FutureWarning: In a future version of pandas all arguments of concat except for the argument 'objs' will be keyword-only\n",
      "  x = pd.concat(x[::order], 1)\n"
     ]
    }
   ],
   "source": [
    "y = df['new_deaths_smoothed_per_million']\n",
    "#add a column of ones for the intercept term\n",
    "X_full = sm.add_constant(X)\n",
    "est_full = sm.OLS(y, X_full)\n",
    "est_full_fit = est_full.fit()\n",
    "print(est_full_fit.summary())"
   ]
  },
  {
   "cell_type": "markdown",
   "metadata": {
    "id": "ekI4fSkf-MOM"
   },
   "source": [
    "Compared to the initial regression on new cases the regression on new deaths provides a moderatly better fit. We have $ADJ. R^2 = 0.28$ and a near zero p-value corresponding to the $F-Test$ for overall model utility. Examining the $t-tests$ for individual coefficients we see that the following are insignificant at a $95\\%$ confidence level: diabetes prevalence, extreme poverty, Beta, Iota, Eta, and Mu. One interesting finind is that the total number of vaccinations adminitered by a country was not significant in predicting new cases but IS significant in predicting new deaths. This suggests that the vaccines may not be effective at preventing infection but are effective at limiting extreme cases. We now attempt to remove the insignificant predictors."
   ]
  },
  {
   "cell_type": "code",
   "execution_count": 24,
   "metadata": {
    "id": "vAUbuv8j-MON",
    "outputId": "a153a6e7-2b97-4bf6-f193-d9f560b8b8c6"
   },
   "outputs": [
    {
     "name": "stdout",
     "output_type": "stream",
     "text": [
      "   df_resid           ssr  df_diff   ss_diff         F    Pr(>F)\n",
      "0    2147.0  20632.575478      0.0       NaN       NaN       NaN\n",
      "1    2141.0  20567.703868      6.0  64.87161  1.125471  0.344734\n"
     ]
    },
    {
     "name": "stderr",
     "output_type": "stream",
     "text": [
      "C:\\Users\\tropi\\anaconda3\\lib\\site-packages\\statsmodels\\tsa\\tsatools.py:142: FutureWarning: In a future version of pandas all arguments of concat except for the argument 'objs' will be keyword-only\n",
      "  x = pd.concat(x[::order], 1)\n"
     ]
    }
   ],
   "source": [
    "from statsmodels.stats.anova import anova_lm\n",
    "X_nested = X.drop(['diabetes_prevalence','Beta','Iota','Eta','Mu','extreme_poverty'], axis = 1)\n",
    "X_nested_const = sm.add_constant(X_nested)\n",
    "est_nested = sm.OLS(y, X_nested_const)\n",
    "est_nested_fit = est_nested.fit()\n",
    "print(anova_lm(est_nested_fit, est_full_fit))"
   ]
  },
  {
   "cell_type": "markdown",
   "metadata": {
    "id": "qgT0V6iP-MOO"
   },
   "source": [
    "The removal of predictors is again justified by the large p-value which is greater than 0.05 in the $F-Test$ for nested linear regression models shown above. We now examine the values of the estimated parameters in the reduced model."
   ]
  },
  {
   "cell_type": "code",
   "execution_count": 25,
   "metadata": {
    "id": "P3sx3zST-MOP",
    "outputId": "af9b2abe-ea61-44d4-81b4-ab3755aa1018"
   },
   "outputs": [
    {
     "name": "stdout",
     "output_type": "stream",
     "text": [
      "                                   OLS Regression Results                                  \n",
      "===========================================================================================\n",
      "Dep. Variable:     new_deaths_smoothed_per_million   R-squared:                       0.288\n",
      "Model:                                         OLS   Adj. R-squared:                  0.283\n",
      "Method:                              Least Squares   F-statistic:                     54.35\n",
      "Date:                             Tue, 14 Dec 2021   Prob (F-statistic):          1.66e-145\n",
      "Time:                                     09:45:19   Log-Likelihood:                -5510.4\n",
      "No. Observations:                             2164   AIC:                         1.105e+04\n",
      "Df Residuals:                                 2147   BIC:                         1.115e+04\n",
      "Df Model:                                       16                                         \n",
      "Covariance Type:                         nonrobust                                         \n",
      "=========================================================================================================\n",
      "                                            coef    std err          t      P>|t|      [0.025      0.975]\n",
      "---------------------------------------------------------------------------------------------------------\n",
      "const                                    -7.1954      0.636    -11.316      0.000      -8.442      -5.948\n",
      "total_vaccinations_per_hundred           -0.0167      0.002     -6.973      0.000      -0.021      -0.012\n",
      "new_vaccinations_smoothed_per_million  8.304e-05   1.55e-05      5.363      0.000    5.27e-05       0.000\n",
      "stringency_index                          0.0607      0.005     12.329      0.000       0.051       0.070\n",
      "population_density                       -0.0003   6.72e-05     -4.053      0.000      -0.000      -0.000\n",
      "median_age                                0.2107      0.029      7.207      0.000       0.153       0.268\n",
      "aged_65_older                            -0.1583      0.036     -4.432      0.000      -0.228      -0.088\n",
      "gdp_per_capita                        -2.714e-05    4.6e-06     -5.906      0.000   -3.61e-05   -1.81e-05\n",
      "cardiovasc_death_rate                     0.0038      0.001      4.602      0.000       0.002       0.005\n",
      "female_smokers                            0.0762      0.010      8.015      0.000       0.058       0.095\n",
      "male_smokers                             -0.0285      0.007     -4.172      0.000      -0.042      -0.015\n",
      "Epsilon                                   0.1979      0.052      3.825      0.000       0.096       0.299\n",
      "Gamma                                     0.0365      0.006      5.926      0.000       0.024       0.049\n",
      "Kappa                                    -0.0709      0.034     -2.107      0.035      -0.137      -0.005\n",
      "Delta                                     0.0130      0.002      5.298      0.000       0.008       0.018\n",
      "Alpha                                     0.0061      0.002      2.514      0.012       0.001       0.011\n",
      "Lambda                                    0.1337      0.012     11.055      0.000       0.110       0.157\n",
      "==============================================================================\n",
      "Omnibus:                      945.590   Durbin-Watson:                   0.445\n",
      "Prob(Omnibus):                  0.000   Jarque-Bera (JB):             5073.948\n",
      "Skew:                           2.028   Prob(JB):                         0.00\n",
      "Kurtosis:                       9.310   Cond. No.                     3.66e+05\n",
      "==============================================================================\n",
      "\n",
      "Notes:\n",
      "[1] Standard Errors assume that the covariance matrix of the errors is correctly specified.\n",
      "[2] The condition number is large, 3.66e+05. This might indicate that there are\n",
      "strong multicollinearity or other numerical problems.\n"
     ]
    }
   ],
   "source": [
    "print(est_nested_fit.summary())"
   ]
  },
  {
   "cell_type": "markdown",
   "metadata": {
    "id": "C-fzyBmM-MOQ"
   },
   "source": [
    "We see many of the same phenomena which were present in the new cases model such as a positive coefficient associated with the stringency index. One interesting thing to note is that diabetes prevalence is not signficantly associated with new deaths despite diabetes commonly being referred to as a comorbitity. We hypothesize that this may be the case because diabetes is more prevalent in wealthier countries with better healthcare systems. This would also align with the fact that GDP per capita is also negatively associated with new deaths. Lastly, we note that Delta, Alpha, Lambda, Gamma, and Epsilon variants may be more deadly while Kappa may be less deadly though there is limited data for all but the Alpha and Delta variants."
   ]
  },
  {
   "cell_type": "markdown",
   "metadata": {
    "id": "vswsM_ah-MOR"
   },
   "source": [
    "Next we standardize the coefficients to allow for a direct comparison of their magnitude."
   ]
  },
  {
   "cell_type": "code",
   "execution_count": 26,
   "metadata": {
    "id": "9w5U6A_H-MOS",
    "outputId": "adcae8bc-adb8-4b11-f0ec-5fcd5e43fffb"
   },
   "outputs": [
    {
     "name": "stdout",
     "output_type": "stream",
     "text": [
      "                                 OLS Regression Results                                \n",
      "=======================================================================================\n",
      "Dep. Variable:                      y   R-squared (uncentered):                   0.288\n",
      "Model:                            OLS   Adj. R-squared (uncentered):              0.283\n",
      "Method:                 Least Squares   F-statistic:                              54.37\n",
      "Date:                Tue, 14 Dec 2021   Prob (F-statistic):                   1.41e-145\n",
      "Time:                        09:46:02   Log-Likelihood:                         -2702.7\n",
      "No. Observations:                2164   AIC:                                      5437.\n",
      "Df Residuals:                    2148   BIC:                                      5528.\n",
      "Df Model:                          16                                                  \n",
      "Covariance Type:            nonrobust                                                  \n",
      "=========================================================================================================\n",
      "                                            coef    std err          t      P>|t|      [0.025      0.975]\n",
      "---------------------------------------------------------------------------------------------------------\n",
      "total_vaccinations_per_hundred           -0.2165      0.031     -6.974      0.000      -0.277      -0.156\n",
      "new_vaccinations_smoothed_per_million     0.1250      0.023      5.364      0.000       0.079       0.171\n",
      "stringency_index                          0.2582      0.021     12.332      0.000       0.217       0.299\n",
      "population_density                       -0.0864      0.021     -4.054      0.000      -0.128      -0.045\n",
      "median_age                                0.4766      0.066      7.208      0.000       0.347       0.606\n",
      "aged_65_older                            -0.2898      0.065     -4.433      0.000      -0.418      -0.162\n",
      "gdp_per_capita                           -0.1626      0.028     -5.907      0.000      -0.217      -0.109\n",
      "cardiovasc_death_rate                     0.1108      0.024      4.604      0.000       0.064       0.158\n",
      "female_smokers                            0.2247      0.028      8.017      0.000       0.170       0.280\n",
      "male_smokers                             -0.1019      0.024     -4.173      0.000      -0.150      -0.054\n",
      "Epsilon                                   0.0707      0.018      3.825      0.000       0.034       0.107\n",
      "Gamma                                     0.1175      0.020      5.927      0.000       0.079       0.156\n",
      "Kappa                                    -0.0386      0.018     -2.107      0.035      -0.075      -0.003\n",
      "Delta                                     0.1515      0.029      5.299      0.000       0.095       0.208\n",
      "Alpha                                     0.0505      0.020      2.515      0.012       0.011       0.090\n",
      "Lambda                                    0.2165      0.020     11.057      0.000       0.178       0.255\n",
      "==============================================================================\n",
      "Omnibus:                      945.590   Durbin-Watson:                   0.445\n",
      "Prob(Omnibus):                  0.000   Jarque-Bera (JB):             5073.948\n",
      "Skew:                           2.028   Prob(JB):                         0.00\n",
      "Kurtosis:                       9.310   Cond. No.                         8.94\n",
      "==============================================================================\n",
      "\n",
      "Notes:\n",
      "[1] R² is computed without centering (uncentered) since the model does not contain a constant.\n",
      "[2] Standard Errors assume that the covariance matrix of the errors is correctly specified.\n"
     ]
    }
   ],
   "source": [
    "scaler = StandardScaler()\n",
    "scaler_y = StandardScaler()\n",
    "y_scaled = scaler_y.fit_transform(np.array(y).reshape(-1,1))\n",
    "cols = X_nested.columns\n",
    "X_nested_scaled = pd.DataFrame(scaler.fit_transform(X_nested))\n",
    "X_nested_scaled.columns = cols\n",
    "est_nested_scaled = sm.OLS(y_scaled, X_nested_scaled)\n",
    "est_nested_scaled_fit = est_nested_scaled.fit()\n",
    "print(est_nested_scaled_fit.summary())"
   ]
  },
  {
   "cell_type": "markdown",
   "metadata": {
    "id": "9HJWVzpR-MOT"
   },
   "source": [
    "With the data now standardized we see that the features with the greatest affect on increasing predictions about new deaths are: strigency index and median age. The features with the greatest affect on decreasing predictions about new deaths are: proportion of population older than 65 and total vaccinations per hundred. The seemingly contradictery coefficients associated with median age and aged 65 or older are perplexing. We note that the Lambda variant may be substantially more deadly than others, though the large positive coefficient could also be due to the variant being most prevalent in less-developed countries. Lastly, these regression coefficients support the notion that the more people in a population who receive vaccines the fewer deaths that population will experience."
   ]
  },
  {
   "cell_type": "markdown",
   "metadata": {},
   "source": [
    "#### 1.2.4 Similar model as 1.2.3 + month and country information\n"
   ]
  },
  {
   "cell_type": "markdown",
   "metadata": {
    "id": "aiP4T4TY-MOT"
   },
   "source": [
    "Finally, we redo the regression and include categorical variables signifying country and month/year."
   ]
  },
  {
   "cell_type": "code",
   "execution_count": 27,
   "metadata": {
    "id": "FwXq0sMq-MOU",
    "outputId": "8e6b4fb5-0fc8-48e3-a13b-5ed03fed5115"
   },
   "outputs": [
    {
     "name": "stdout",
     "output_type": "stream",
     "text": [
      "                                   OLS Regression Results                                  \n",
      "===========================================================================================\n",
      "Dep. Variable:     new_deaths_smoothed_per_million   R-squared:                       0.556\n",
      "Model:                                         OLS   Adj. R-squared:                  0.527\n",
      "Method:                              Least Squares   F-statistic:                     18.97\n",
      "Date:                             Tue, 14 Dec 2021   Prob (F-statistic):          9.36e-269\n",
      "Time:                                     09:47:00   Log-Likelihood:                -4999.5\n",
      "No. Observations:                             2164   AIC:                         1.027e+04\n",
      "Df Residuals:                                 2029   BIC:                         1.104e+04\n",
      "Df Model:                                      134                                         \n",
      "Covariance Type:                         nonrobust                                         \n",
      "=========================================================================================================\n",
      "                                            coef    std err          t      P>|t|      [0.025      0.975]\n",
      "---------------------------------------------------------------------------------------------------------\n",
      "const                                    -4.8748      0.616     -7.908      0.000      -6.084      -3.666\n",
      "total_vaccinations_per_hundred           -0.0218      0.002     -9.177      0.000      -0.026      -0.017\n",
      "new_vaccinations_smoothed_per_million   3.44e-05   1.68e-05      2.043      0.041    1.37e-06    6.74e-05\n",
      "stringency_index                          0.0868      0.006     15.334      0.000       0.076       0.098\n",
      "population_density                       -0.0004   6.56e-05     -6.377      0.000      -0.001      -0.000\n",
      "median_age                                0.0894      0.033      2.706      0.007       0.025       0.154\n",
      "aged_65_older                             0.0822      0.041      2.002      0.045       0.002       0.163\n",
      "gdp_per_capita                         -1.92e-05   5.27e-06     -3.641      0.000   -2.95e-05   -8.86e-06\n",
      "cardiovasc_death_rate                     0.0016      0.001      1.742      0.082      -0.000       0.003\n",
      "female_smokers                           -0.0087      0.015     -0.577      0.564      -0.038       0.021\n",
      "male_smokers                              0.0089      0.011      0.841      0.400      -0.012       0.030\n",
      "Epsilon                                   0.0443      0.050      0.892      0.373      -0.053       0.142\n",
      "Gamma                                     0.0587      0.008      7.543      0.000       0.043       0.074\n",
      "Kappa                                     0.0034      0.029      0.116      0.908      -0.054       0.061\n",
      "Delta                                     0.0317      0.005      5.846      0.000       0.021       0.042\n",
      "Alpha                                     0.0068      0.004      1.745      0.081      -0.001       0.014\n",
      "Lambda                                    0.0850      0.013      6.346      0.000       0.059       0.111\n",
      "iso_code_ARE                             -1.0338      0.633     -1.634      0.102      -2.275       0.207\n",
      "iso_code_ARG                             -0.4258      0.466     -0.914      0.361      -1.339       0.488\n",
      "iso_code_AUS                             -2.9972      0.410     -7.312      0.000      -3.801      -2.193\n",
      "iso_code_AUT                             -1.0647      0.439     -2.427      0.015      -1.925      -0.204\n",
      "iso_code_BEL                              0.4013      0.402      0.997      0.319      -0.388       1.190\n",
      "iso_code_BGD                             -3.0973      0.504     -6.141      0.000      -4.086      -2.108\n",
      "iso_code_BGR                              3.7484      0.554      6.766      0.000       2.662       4.835\n",
      "iso_code_BHR                              2.6854      0.666      4.035      0.000       1.380       3.991\n",
      "iso_code_BIH                              6.5287      1.727      3.779      0.000       3.141       9.916\n",
      "iso_code_BLZ                             -0.6334      1.414     -0.448      0.654      -3.406       2.139\n",
      "iso_code_BRA                              0.9019      0.488      1.849      0.065      -0.055       1.859\n",
      "iso_code_BWA                              2.3426      0.704      3.327      0.001       0.962       3.723\n",
      "iso_code_CAN                             -2.5278      0.419     -6.035      0.000      -3.349      -1.706\n",
      "iso_code_CHE                              0.2125      0.409      0.519      0.604      -0.590       1.015\n",
      "iso_code_CHL                             -0.6531      0.524     -1.246      0.213      -1.681       0.375\n",
      "iso_code_CMR                              0.9677      1.119      0.865      0.387      -1.227       3.162\n",
      "iso_code_COL                              2.9337      0.573      5.116      0.000       1.809       4.058\n",
      "iso_code_CRI                              0.8754      0.590      1.483      0.138      -0.282       2.033\n",
      "iso_code_CZE                              3.3089      0.505      6.550      0.000       2.318       4.300\n",
      "iso_code_DEU                             -1.9302      0.399     -4.832      0.000      -2.714      -1.147\n",
      "iso_code_DJI                              1.7106      1.256      1.362      0.173      -0.752       4.174\n",
      "iso_code_DNK                             -1.2810      0.395     -3.245      0.001      -2.055      -0.507\n",
      "iso_code_DOM                             -2.3058      1.262     -1.826      0.068      -4.782       0.170\n",
      "iso_code_ECU                             -0.2087      0.720     -0.290      0.772      -1.621       1.204\n",
      "iso_code_EGY                             -1.6939      0.740     -2.288      0.022      -3.146      -0.242\n",
      "iso_code_ESP                             -1.1979      0.409     -2.931      0.003      -2.000      -0.396\n",
      "iso_code_EST                              1.0138      0.535      1.895      0.058      -0.035       2.063\n",
      "iso_code_ETH                             -0.1475      1.428     -0.103      0.918      -2.948       2.653\n",
      "iso_code_FIN                             -2.0220      0.442     -4.574      0.000      -2.889      -1.155\n",
      "iso_code_FJI                             -1.7777      1.438     -1.237      0.216      -4.597       1.042\n",
      "iso_code_FRA                             -0.7039      0.416     -1.692      0.091      -1.520       0.112\n",
      "iso_code_GBR                              0.0453      0.402      0.113      0.910      -0.743       0.834\n",
      "iso_code_GEO                              4.3727      1.394      3.138      0.002       1.640       7.106\n",
      "iso_code_GHA                              0.3701      0.626      0.591      0.555      -0.858       1.599\n",
      "iso_code_GMB                              1.4289      0.889      1.608      0.108      -0.314       3.172\n",
      "iso_code_GRC                             -1.5448      0.507     -3.049      0.002      -2.538      -0.551\n",
      "iso_code_GTM                              1.1539      0.767      1.505      0.133      -0.350       2.658\n",
      "iso_code_HKG                             -1.5490      0.477     -3.245      0.001      -2.485      -0.613\n",
      "iso_code_HRV                              1.1686      0.587      1.989      0.047       0.016       2.321\n",
      "iso_code_HUN                              1.0269      1.431      0.718      0.473      -1.779       3.833\n",
      "iso_code_IDN                             -2.5080      0.645     -3.886      0.000      -3.774      -1.242\n",
      "iso_code_IND                             -2.8578      0.442     -6.468      0.000      -3.724      -1.991\n",
      "iso_code_IRL                             -0.7840      0.434     -1.808      0.071      -1.634       0.066\n",
      "iso_code_IRQ                             -1.8621      2.109     -0.883      0.377      -5.999       2.274\n",
      "iso_code_ISL                             -0.6326      0.492     -1.286      0.198      -1.597       0.332\n",
      "iso_code_ISR                              0.9109      0.539      1.691      0.091      -0.145       1.967\n",
      "iso_code_ITA                             -1.8004      0.432     -4.171      0.000      -2.647      -0.954\n",
      "iso_code_JAM                             -0.3177      1.764     -0.180      0.857      -3.777       3.142\n",
      "iso_code_JOR                              0.9554      0.893      1.069      0.285      -0.797       2.707\n",
      "iso_code_JPN                             -2.2966      0.542     -4.240      0.000      -3.359      -1.234\n",
      "iso_code_KAZ                              3.0425      1.088      2.796      0.005       0.909       5.176\n",
      "iso_code_KEN                             -1.4328      0.449     -3.194      0.001      -2.313      -0.553\n",
      "iso_code_KHM                             -0.8133      0.659     -1.233      0.218      -2.107       0.480\n",
      "iso_code_KOR                             -2.0295      0.494     -4.110      0.000      -2.998      -1.061\n",
      "iso_code_KWT                              0.8607      1.024      0.840      0.401      -1.148       2.869\n",
      "iso_code_LBN                              1.1736      0.839      1.399      0.162      -0.471       2.818\n",
      "iso_code_LKA                             -1.7254      0.620     -2.783      0.005      -2.941      -0.510\n",
      "iso_code_LTU                              2.9010      0.508      5.710      0.000       1.905       3.897\n",
      "iso_code_LUX                              1.8177      0.472      3.855      0.000       0.893       2.742\n",
      "iso_code_LVA                              0.8576      0.675      1.270      0.204      -0.467       2.182\n",
      "iso_code_MAR                             -1.0705      1.725     -0.621      0.535      -4.454       2.313\n",
      "iso_code_MDG                             -0.2946      0.962     -0.306      0.760      -2.182       1.592\n",
      "iso_code_MDV                             -0.9234      0.985     -0.938      0.348      -2.854       1.008\n",
      "iso_code_MEX                              1.9304      0.421      4.582      0.000       1.104       2.757\n",
      "iso_code_MKD                              4.7670      0.986      4.833      0.000       2.833       6.701\n",
      "iso_code_MLT                             -1.6959      1.096     -1.547      0.122      -3.846       0.454\n",
      "iso_code_MNE                              2.1757      1.266      1.718      0.086      -0.307       4.659\n",
      "iso_code_MOZ                             -0.8623      0.801     -1.077      0.282      -2.433       0.708\n",
      "iso_code_MWI                              0.5863      0.953      0.615      0.539      -1.284       2.456\n",
      "iso_code_MYS                             -0.6587      0.537     -1.227      0.220      -1.711       0.394\n",
      "iso_code_NGA                             -0.3648      0.609     -0.599      0.550      -1.560       0.830\n",
      "iso_code_NLD                             -0.9743      0.396     -2.457      0.014      -1.752      -0.197\n",
      "iso_code_NOR                             -1.0582      0.409     -2.588      0.010      -1.860      -0.256\n",
      "iso_code_NPL                             -1.3716      1.459     -0.940      0.347      -4.232       1.489\n",
      "iso_code_NZL                             -2.8268      0.697     -4.054      0.000      -4.194      -1.459\n",
      "iso_code_OMN                              1.3016      1.179      1.104      0.270      -1.010       3.613\n",
      "iso_code_OWID_KOS                         5.6500      1.018      5.551      0.000       3.654       7.646\n",
      "iso_code_PAK                             -1.8328      0.662     -2.767      0.006      -3.132      -0.534\n",
      "iso_code_PER                              4.7648      0.581      8.199      0.000       3.625       5.904\n",
      "iso_code_PHL                             -1.9399      0.550     -3.525      0.000      -3.019      -0.861\n",
      "iso_code_PNG                             -0.9611      0.963     -0.998      0.318      -2.850       0.928\n",
      "iso_code_POL                              0.9540      0.503      1.896      0.058      -0.033       1.941\n",
      "iso_code_PRT                             -0.8311      0.480     -1.733      0.083      -1.771       0.109\n",
      "iso_code_PRY                              0.8660      1.255      0.690      0.490      -1.596       3.328\n",
      "iso_code_QAT                              0.7562      0.509      1.485      0.138      -0.242       1.755\n",
      "iso_code_ROU                              1.0715      0.477      2.244      0.025       0.135       2.008\n",
      "iso_code_RUS                             -0.2124      0.449     -0.473      0.636      -1.093       0.668\n",
      "iso_code_RWA                             -0.7766      0.947     -0.820      0.412      -2.633       1.080\n",
      "iso_code_SEN                              0.6869      0.946      0.726      0.468      -1.169       2.543\n",
      "iso_code_SGP                              2.3228      0.421      5.512      0.000       1.496       3.149\n",
      "iso_code_SUR                             -0.2786      0.776     -0.359      0.719      -1.800       1.243\n",
      "iso_code_SVK                              3.5107      0.534      6.570      0.000       2.463       4.559\n",
      "iso_code_SVN                              1.3674      0.435      3.146      0.002       0.515       2.220\n",
      "iso_code_SWE                             -0.5287      0.401     -1.319      0.187      -1.315       0.258\n",
      "iso_code_SYC                             -3.1905      1.015     -3.143      0.002      -5.181      -1.200\n",
      "iso_code_TGO                              0.8859      1.246      0.711      0.477      -1.557       3.329\n",
      "iso_code_THA                             -2.5438      0.597     -4.259      0.000      -3.715      -1.372\n",
      "iso_code_TTO                             -1.5352      1.035     -1.484      0.138      -3.564       0.494\n",
      "iso_code_TUR                             -0.0724      0.513     -0.141      0.888      -1.077       0.933\n",
      "iso_code_UGA                             -0.6492      1.024     -0.634      0.526      -2.658       1.360\n",
      "iso_code_UKR                             -1.3380      0.909     -1.472      0.141      -3.121       0.445\n",
      "iso_code_URY                             -0.2183      0.971     -0.225      0.822      -2.122       1.685\n",
      "iso_code_USA                              1.2426      0.444      2.800      0.005       0.372       2.113\n",
      "iso_code_VNM                             -3.0282      0.954     -3.173      0.002      -4.900      -1.156\n",
      "iso_code_ZAF                              1.1452      0.418      2.737      0.006       0.324       1.966\n",
      "iso_code_ZMB                              1.3015      0.771      1.688      0.092      -0.211       2.814\n",
      "iso_code_ZWE                             -1.1074      0.895     -1.238      0.216      -2.862       0.647\n",
      "month_year_02-2021                       -0.9481      0.303     -3.131      0.002      -1.542      -0.354\n",
      "month_year_03-2021                       -2.0051      0.337     -5.956      0.000      -2.665      -1.345\n",
      "month_year_04-2021                       -1.8988      0.360     -5.276      0.000      -2.605      -1.193\n",
      "month_year_05-2020                       -3.2507      0.385     -8.441      0.000      -4.006      -2.495\n",
      "month_year_05-2021                       -2.5514      0.359     -7.112      0.000      -3.255      -1.848\n",
      "month_year_06-2020                       -2.7847      0.403     -6.915      0.000      -3.574      -1.995\n",
      "month_year_06-2021                       -3.3691      0.429     -7.851      0.000      -4.211      -2.528\n",
      "month_year_07-2020                       -2.7302      0.391     -6.979      0.000      -3.497      -1.963\n",
      "month_year_07-2021                       -4.0419      0.514     -7.862      0.000      -5.050      -3.034\n",
      "month_year_08-2020                       -2.8060      0.347     -8.088      0.000      -3.486      -2.126\n",
      "month_year_08-2021                       -3.6021      0.557     -6.467      0.000      -4.694      -2.510\n",
      "month_year_09-2020                       -2.8356      0.386     -7.351      0.000      -3.592      -2.079\n",
      "month_year_09-2021                       -2.8907      0.586     -4.932      0.000      -4.040      -1.741\n",
      "month_year_10-2020                       -2.2262      0.373     -5.976      0.000      -2.957      -1.496\n",
      "month_year_10-2021                       -2.4236      0.609     -3.981      0.000      -3.618      -1.230\n",
      "month_year_11-2020                       -0.3658      0.370     -0.989      0.323      -1.091       0.359\n",
      "month_year_11-2021                       -1.6595      0.645     -2.573      0.010      -2.924      -0.395\n",
      "month_year_12-2020                        0.5491      0.361      1.522      0.128      -0.158       1.256\n",
      "==============================================================================\n",
      "Omnibus:                      723.979   Durbin-Watson:                   0.669\n",
      "Prob(Omnibus):                  0.000   Jarque-Bera (JB):             4605.649\n",
      "Skew:                           1.425   Prob(JB):                         0.00\n",
      "Kurtosis:                       9.554   Cond. No.                     4.85e+19\n",
      "==============================================================================\n",
      "\n",
      "Notes:\n",
      "[1] Standard Errors assume that the covariance matrix of the errors is correctly specified.\n",
      "[2] The smallest eigenvalue is 1.35e-27. This might indicate that there are\n",
      "strong multicollinearity problems or that the design matrix is singular.\n"
     ]
    },
    {
     "name": "stderr",
     "output_type": "stream",
     "text": [
      "C:\\Users\\tropi\\anaconda3\\lib\\site-packages\\statsmodels\\tsa\\tsatools.py:142: FutureWarning: In a future version of pandas all arguments of concat except for the argument 'objs' will be keyword-only\n",
      "  x = pd.concat(x[::order], 1)\n"
     ]
    }
   ],
   "source": [
    "X_nested['iso_code'], X_nested['month_year'] = df['iso_code'], df['month_yr']\n",
    "X_nested_dummy = pd.get_dummies(X_nested, drop_first=True)\n",
    "X_nested_dummy_const = sm.add_constant(X_nested_dummy)\n",
    "est_dummy = sm.OLS(y, X_nested_dummy_const)\n",
    "est_dummy_fit_deaths = est_dummy.fit()\n",
    "print(est_dummy_fit_deaths.summary())"
   ]
  },
  {
   "cell_type": "markdown",
   "metadata": {
    "id": "an6aJJ---MOW"
   },
   "source": [
    "Again we see that the including information about countries and month/year greatly improves the model. We now have $Adj. R^2 \\approx 0.5$, meanig that roughly 50% of the variance in the response can be explained by the predictors. This again suggests that the pandemic has been worse in some countries than others. Furthermore, it seems as if there remain meaningful differences between countries which are unaccounted for by country-specific quantitative variables in the data set. Finally, we can observe the coefficients for the month/year combinations and note that December, 2020 seems to have been the most deadly month in the pandemic worldwide."
   ]
  },
  {
   "cell_type": "markdown",
   "metadata": {},
   "source": [
    "#### 1.2.5 Evaluation of OLS model assumptions \n"
   ]
  },
  {
   "cell_type": "markdown",
   "metadata": {
    "id": "E-eg__LJ-MOX"
   },
   "source": [
    "The last piece of analysis we will do concering the OLS Linear Regression models is to check the validity of the assumptions associated with the model. Recall that in addition to assuming that the correct relationship between the predictors and response was linear (inductive bias) we also assumed... \n",
    "\n",
    "1.) the observations are independent\n",
    "\n",
    "2.) the error terms $\\epsilon_i$ follow a normal disribution with mean $0$\n",
    "\n",
    "3.) the error terms $\\epsilon_i$ have a constant variance equal to $\\sigma^2$\n",
    "\n",
    "We now check each of these assumptions for both of our models. We will use the models containing dummy variables for the country and month/year to check the validity of the assumptions. Our methods for checking the assumptions rely on the residuals of our model which are actual minus the fitted values, or more formally, $e_i = Y_i-\\hat{Y_i}$."
   ]
  },
  {
   "cell_type": "code",
   "execution_count": 28,
   "metadata": {
    "id": "VEen7FgC-MOX",
    "outputId": "80c860c3-da39-420c-c96d-bde828e9e78c"
   },
   "outputs": [
    {
     "name": "stdout",
     "output_type": "stream",
     "text": [
      "Durbin-Watson Test Statistic - Cases Model: 0.7857818505610844\n",
      "Durbin-Watson Test Statistic - Deaths Model: 0.668827403409857\n"
     ]
    }
   ],
   "source": [
    "from statsmodels.stats.stattools import durbin_watson\n",
    "print('Durbin-Watson Test Statistic - Cases Model: ' + str(durbin_watson(est_dummy_fit_cases.resid)))\n",
    "print('Durbin-Watson Test Statistic - Deaths Model: ' + str(durbin_watson(est_dummy_fit_deaths.resid)))"
   ]
  },
  {
   "cell_type": "markdown",
   "metadata": {
    "id": "cmo7j8px-MOZ"
   },
   "source": [
    "Above are the test statistics for Durbin-Watson Tests for both of our linear regression models. Durbin-Watson tests are used to detirmine is a sample has autocorrelation/serial correlation. The null hypothesis is $H_0:$ no serial correlation is present. This is one way of detirmining if assumption #1, that are observations are independent, holds. The test statistic for the Durbin-Watson test looks like, $\\frac{\\sum_{i=2}^{N}(e_i-e_{i-1})^2}{\\sum_{i=1}^{N}e_i^2}$. A rule of thumb is that a Durbin-Watson test statistic value in the range $[1.5,2.5]$ signals no autocorrelation. Since both of our test statistic fall outside of this range we conclude that our data is serially correlated and thus likely to not be independent. This makes sense since our response is time series data and the number of new cases and new deaths on one day will be dependent on the number of new cases and new deaths on the previous day."
   ]
  },
  {
   "cell_type": "code",
   "execution_count": 29,
   "metadata": {
    "id": "iHRn5X37-MOZ",
    "outputId": "fd977aff-b260-4b70-82d5-c8948fcd9f3a"
   },
   "outputs": [
    {
     "name": "stderr",
     "output_type": "stream",
     "text": [
      "C:\\Users\\tropi\\anaconda3\\lib\\site-packages\\statsmodels\\graphics\\gofplots.py:993: UserWarning: marker is redundantly defined by the 'marker' keyword argument and the fmt string \"bo\" (-> marker='o'). The keyword argument will take precedence.\n",
      "  ax.plot(x, y, fmt, **plot_style)\n",
      "C:\\Users\\tropi\\anaconda3\\lib\\site-packages\\statsmodels\\graphics\\gofplots.py:993: UserWarning: marker is redundantly defined by the 'marker' keyword argument and the fmt string \"bo\" (-> marker='o'). The keyword argument will take precedence.\n",
      "  ax.plot(x, y, fmt, **plot_style)\n"
     ]
    },
    {
     "data": {
      "image/png": "[encoded data removed]",
      "text/plain": [
       "<Figure size 1152x576 with 2 Axes>"
      ]
     },
     "metadata": {
      "needs_background": "light"
     },
     "output_type": "display_data"
    }
   ],
   "source": [
    "import scipy.stats as stats\n",
    "figure, ax = plt.subplots(1, 2,figsize=(16,8))\n",
    "figure.figsize=(8, 8)\n",
    "sm.qqplot(est_dummy_fit_cases.resid, stats.norm, fit=True, line=\"45\", ax = ax[0])\n",
    "ax[0].set_title('Residual vs. Normal Quantile-Quantile Plot - Cases Model')\n",
    "ax[0].set_ylabel('Sample Residual Quantiles')\n",
    "ax[0].set_xlabel('Theoretical Normal Quantiles')\n",
    "sm.qqplot(est_dummy_fit_deaths.resid, stats.norm, fit=True, line=\"45\", ax = ax[1])\n",
    "ax[1].set_title('Residual vs. Normal Quantile-Quantile Plot - Deaths Model')\n",
    "ax[1].set_ylabel('Sample Residual Quantiles')\n",
    "ax[1].set_xlabel('Theoretical Normal Quantiles')\n",
    "plt.show()"
   ]
  },
  {
   "cell_type": "markdown",
   "metadata": {
    "id": "n1iim2tU-MOa"
   },
   "source": [
    "The plots above can be used to detirmine the validity of assumption #2. More specifically such Quantile-Quantile plots can be used as a visual guide to detirmine if a sample of points follows a given probabaility distribution. QQ-Plots accomplish this by comparing the quantiles of the sampled points with the quantiles of the given distribution. If the sample does indeed follow the distribution the points in the QQ-Plot will closely follow the $45^\\circ$ line. Here we are interested in detirmining if the residuals follow a normal distribution. It appears they do not. The points lying above the line suggest that the response variables are skewed right, rather than bell-shaped. This makes sense as the pandemic has impacted some countries to an extraordinary degree."
   ]
  },
  {
   "cell_type": "code",
   "execution_count": 30,
   "metadata": {
    "id": "-jmA61Vg-MOb",
    "outputId": "de74db10-1d17-4bd1-acfe-c46deffc4074"
   },
   "outputs": [
    {
     "data": {
      "image/png": "[encoded data removed]",
      "text/plain": [
       "<Figure size 1152x576 with 2 Axes>"
      ]
     },
     "metadata": {
      "needs_background": "light"
     },
     "output_type": "display_data"
    }
   ],
   "source": [
    "figure, ax = plt.subplots(1, 2,figsize=(16,8))\n",
    "figure.figsize=(8, 8)\n",
    "ax[0].scatter(x = est_dummy_fit_cases.fittedvalues, y = est_dummy_fit_cases.resid, s=8, alpha=0.5)\n",
    "ax[0].set_title('Residual vs. Fitted Value - Cases Model')\n",
    "ax[0].set_ylabel('Residual Value')\n",
    "ax[0].set_xlabel('Fitted Value')\n",
    "ax[1].scatter(x = est_dummy_fit_deaths.fittedvalues, y = est_dummy_fit_deaths.resid, s=8, alpha=0.5)\n",
    "ax[1].set_title('Residual vs. Fitted Value - Deaths Model')\n",
    "ax[1].set_ylabel('Residual Value')\n",
    "ax[1].set_xlabel('Fitted Value')\n",
    "plt.show()"
   ]
  },
  {
   "cell_type": "markdown",
   "metadata": {
    "id": "Xuy57L6U-MOc"
   },
   "source": [
    "The above plots can be used to check for the validity of assumption #3. We are primarily concerned about the presence of heteroscedasticity, or non-constant variance, in which case $\\epsilon_i$ do not all have the same variance of $\\sigma^2$. If the assumption is valid the residuals will look like a random scattering of points that deviate from 0 by approximately the same amount as the fitted value changes. However, the plots above do not show a random scattering, instead we see a predominant straight line, which is odd. We suspect this may be due to the response variable being constant over some domain of our predictors. For example, just as an unfounded hypothesis, there could be issues with data reliability such that countries report the same amount of new cases/new deaths multiple days in a row."
   ]
  },
  {
   "cell_type": "markdown",
   "metadata": {
    "id": "E1mp7xBu-MOd"
   },
   "source": [
    "We see that to varying degrees none of the assumptions associated with linear regression hold. While this does not completely invlidate the model it does mean that any conclusions drawn should be taken with a grain of salt. We now explore generalized linear models (GLM) which make less assumptions to see if we can acheive better results."
   ]
  },
  {
   "cell_type": "markdown",
   "metadata": {
    "id": "S7QSIJZn-MOe"
   },
   "source": [
    "### 1.3 Generalized Linear Models"
   ]
  },
  {
   "cell_type": "markdown",
   "metadata": {},
   "source": [
    "####  1.3.1 Negative binomial GLM of new COVID-19 *cases* per million with VIFs for assessing multicollinearity and AIC for model selection\n"
   ]
  },
  {
   "cell_type": "code",
   "execution_count": 3,
   "metadata": {},
   "outputs": [],
   "source": [
    "import pandas as pd\n",
    "import numpy as np\n",
    "import os\n",
    "import statsmodels.api as sm\n",
    "from statsmodels.stats.outliers_influence import variance_inflation_factor"
   ]
  },
  {
   "cell_type": "markdown",
   "metadata": {},
   "source": [
    "The link function \"links\" the predictors to the response variable, and it is sensitive to the distribution of the response variable. So, we plot the response variable distirbution below to decide what link function to use for the GLM. The histogram for the response variable \"new_cases_smoothed_per_million\" looks like a Poisson or Negative Binomial distribution, both of which are used for modeling counts data (where the outcomes are natural numbers), so at first glance either a Poisson or Negative Binomial regression might be worth exploring. However, the Poisson regression makes a strict assumption that the mean and the variance of the response are equal (which is often not true in practice), whereas the Negative Binomial distribution is more flexible by lacking this assumption. So, we proceed with a Negative Binomial regression.\n",
    "\n"
   ]
  },
  {
   "cell_type": "code",
   "execution_count": 4,
   "metadata": {},
   "outputs": [
    {
     "data": {
      "text/plain": [
       "Text(0.04, 0.5, 'Frequency')"
      ]
     },
     "execution_count": 4,
     "metadata": {},
     "output_type": "execute_result"
    },
    {
     "data": {
      "image/png": "[encoded data removed]",
      "text/plain": [
       "<Figure size 432x288 with 1 Axes>"
      ]
     },
     "metadata": {
      "needs_background": "light"
     },
     "output_type": "display_data"
    }
   ],
   "source": [
    "## GLM for naive model\n",
    "\n",
    "## Load data like for OLS\n",
    "path_full = os.path.join(personal_path, \"Data/biweekly_imputed_old_fixed.csv\")\n",
    "df = pd.read_csv(path_full)\n",
    "\n",
    "## GLM software is sensitive to presence of any NAs, so remove these\n",
    "df_cases = df.drop(['Unnamed: 0', 'date', 'iso_code','month_yr'], axis = 1)\n",
    "df_cases.replace([np.inf, -np.inf], np.nan, inplace=True)\n",
    "df_cases[df_cases < 0] = np.nan  ## All the variables in the analysis are defined as having nonnegative values, so otherwise is an error\n",
    "df_cases.dropna(inplace=True)\n",
    "\n",
    "##\n",
    "y_cases = df_cases['new_cases_smoothed_per_million']\n",
    "X_cases = df_cases.drop(['new_cases_smoothed_per_million', 'new_deaths_smoothed_per_million'], axis = 1)\n",
    "\n",
    "## Plot histogram of number of cases\n",
    "fig, axes = plt.subplots(nrows=1, ncols=1, sharex=True, sharey=True)\n",
    "y_cases.hist(bins=30)\n",
    "axes.grid(False)\n",
    "plt.suptitle('Histogram for smoothed number of new cases per million', x=0.5, y=1.05, ha='center', fontsize='xx-large')\n",
    "fig.text(0.5, 0.04, 'Number of cases', ha='center')\n",
    "fig.text(0.04, 0.5, 'Frequency', va='center', rotation='vertical')\n",
    "\n"
   ]
  },
  {
   "cell_type": "markdown",
   "metadata": {},
   "source": [
    "While pairwise correlations between variables are adequate for reducing collinearity between predictors in regression, such pairwise correlations as done with OLS may not capture multicolinearity, which is when multiple outcomes may be jointly correlated. Specifically, three outcomes may be correlated in a way so that a pairwise correlation is not evident, which would make such correlations difficult to pick up on with the pairwise correlation method. Variance inflation factors (VIFs) allow for assessing multicollinearity in the data."
   ]
  },
  {
   "cell_type": "code",
   "execution_count": 5,
   "metadata": {},
   "outputs": [
    {
     "data": {
      "text/html": [
       "<div>\n",
       "<style scoped>\n",
       "    .dataframe tbody tr th:only-of-type {\n",
       "        vertical-align: middle;\n",
       "    }\n",
       "\n",
       "    .dataframe tbody tr th {\n",
       "        vertical-align: top;\n",
       "    }\n",
       "\n",
       "    .dataframe thead th {\n",
       "        text-align: right;\n",
       "    }\n",
       "</style>\n",
       "<table border=\"1\" class=\"dataframe\">\n",
       "  <thead>\n",
       "    <tr style=\"text-align: right;\">\n",
       "      <th></th>\n",
       "      <th>VIF Factor</th>\n",
       "      <th>features</th>\n",
       "    </tr>\n",
       "  </thead>\n",
       "  <tbody>\n",
       "    <tr>\n",
       "      <th>2</th>\n",
       "      <td>4.083291</td>\n",
       "      <td>people_fully_vaccinated_per_hundred</td>\n",
       "    </tr>\n",
       "    <tr>\n",
       "      <th>3</th>\n",
       "      <td>6.723320</td>\n",
       "      <td>new_vaccinations_smoothed_per_million</td>\n",
       "    </tr>\n",
       "    <tr>\n",
       "      <th>6</th>\n",
       "      <td>1.396496</td>\n",
       "      <td>population_density</td>\n",
       "    </tr>\n",
       "    <tr>\n",
       "      <th>9</th>\n",
       "      <td>8.634682</td>\n",
       "      <td>aged_70_older</td>\n",
       "    </tr>\n",
       "    <tr>\n",
       "      <th>10</th>\n",
       "      <td>5.127084</td>\n",
       "      <td>gdp_per_capita</td>\n",
       "    </tr>\n",
       "    <tr>\n",
       "      <th>11</th>\n",
       "      <td>1.692744</td>\n",
       "      <td>extreme_poverty</td>\n",
       "    </tr>\n",
       "    <tr>\n",
       "      <th>12</th>\n",
       "      <td>6.329184</td>\n",
       "      <td>cardiovasc_death_rate</td>\n",
       "    </tr>\n",
       "    <tr>\n",
       "      <th>13</th>\n",
       "      <td>6.834470</td>\n",
       "      <td>diabetes_prevalence</td>\n",
       "    </tr>\n",
       "    <tr>\n",
       "      <th>14</th>\n",
       "      <td>7.075018</td>\n",
       "      <td>female_smokers</td>\n",
       "    </tr>\n",
       "    <tr>\n",
       "      <th>15</th>\n",
       "      <td>9.590564</td>\n",
       "      <td>male_smokers</td>\n",
       "    </tr>\n",
       "    <tr>\n",
       "      <th>18</th>\n",
       "      <td>4.589554</td>\n",
       "      <td>daily_people_vaccinated_per_hundred</td>\n",
       "    </tr>\n",
       "    <tr>\n",
       "      <th>20</th>\n",
       "      <td>1.212415</td>\n",
       "      <td>Beta</td>\n",
       "    </tr>\n",
       "    <tr>\n",
       "      <th>21</th>\n",
       "      <td>1.099474</td>\n",
       "      <td>Epsilon</td>\n",
       "    </tr>\n",
       "    <tr>\n",
       "      <th>22</th>\n",
       "      <td>1.315465</td>\n",
       "      <td>Gamma</td>\n",
       "    </tr>\n",
       "    <tr>\n",
       "      <th>23</th>\n",
       "      <td>1.025491</td>\n",
       "      <td>Kappa</td>\n",
       "    </tr>\n",
       "    <tr>\n",
       "      <th>24</th>\n",
       "      <td>1.064273</td>\n",
       "      <td>Iota</td>\n",
       "    </tr>\n",
       "    <tr>\n",
       "      <th>25</th>\n",
       "      <td>1.061968</td>\n",
       "      <td>Eta</td>\n",
       "    </tr>\n",
       "    <tr>\n",
       "      <th>26</th>\n",
       "      <td>4.507749</td>\n",
       "      <td>Delta</td>\n",
       "    </tr>\n",
       "    <tr>\n",
       "      <th>27</th>\n",
       "      <td>2.056309</td>\n",
       "      <td>Alpha</td>\n",
       "    </tr>\n",
       "    <tr>\n",
       "      <th>29</th>\n",
       "      <td>1.332195</td>\n",
       "      <td>Lambda</td>\n",
       "    </tr>\n",
       "    <tr>\n",
       "      <th>30</th>\n",
       "      <td>1.007710</td>\n",
       "      <td>Mu</td>\n",
       "    </tr>\n",
       "  </tbody>\n",
       "</table>\n",
       "</div>"
      ],
      "text/plain": [
       "    VIF Factor                               features\n",
       "2     4.083291    people_fully_vaccinated_per_hundred\n",
       "3     6.723320  new_vaccinations_smoothed_per_million\n",
       "6     1.396496                     population_density\n",
       "9     8.634682                          aged_70_older\n",
       "10    5.127084                         gdp_per_capita\n",
       "11    1.692744                        extreme_poverty\n",
       "12    6.329184                  cardiovasc_death_rate\n",
       "13    6.834470                    diabetes_prevalence\n",
       "14    7.075018                         female_smokers\n",
       "15    9.590564                           male_smokers\n",
       "18    4.589554    daily_people_vaccinated_per_hundred\n",
       "20    1.212415                                   Beta\n",
       "21    1.099474                                Epsilon\n",
       "22    1.315465                                  Gamma\n",
       "23    1.025491                                  Kappa\n",
       "24    1.064273                                   Iota\n",
       "25    1.061968                                    Eta\n",
       "26    4.507749                                  Delta\n",
       "27    2.056309                                  Alpha\n",
       "29    1.332195                                 Lambda\n",
       "30    1.007710                                     Mu"
      ]
     },
     "execution_count": 5,
     "metadata": {},
     "output_type": "execute_result"
    }
   ],
   "source": [
    "## Use variance inflation factors to remove variables with multicollinearity\n",
    "\n",
    "vif = pd.DataFrame()\n",
    "vif[\"VIF Factor\"] = [variance_inflation_factor(X_cases.values, i) for i in range(X_cases.shape[1])]\n",
    "vif[\"features\"] = X_cases.columns\n",
    "\n",
    "## Use variance inflation factor threshold of 10\n",
    "while max(vif['VIF Factor']) > 10:\n",
    "    ## Drop the variable with highest VIF value\n",
    "    X_cases.drop([vif.loc[vif['VIF Factor'].idxmax(),'features']], axis=1, inplace = True)\n",
    "    vif.drop([vif['VIF Factor'].idxmax()], axis=0, inplace = True)\n",
    "    vif[\"VIF Factor\"] = [variance_inflation_factor(X_cases.values, i) for i in range(X_cases.shape[1])]\n",
    "vif"
   ]
  },
  {
   "cell_type": "markdown",
   "metadata": {},
   "source": [
    "Stepwise AIC is used for model selection to balance model fit and parsimony. AIC allows for choosing a good fitting, parsimonious model without removing variables based on their significance, which could cause issues with multiple comparison problems. AIC is used for model selection with the \"stepAIC\" function of the MASS package in R because no Python packages were available for this procedure. The variables selected using stepwise AIC are loaded into \"X_cases_selected\" below."
   ]
  },
  {
   "cell_type": "code",
   "execution_count": 8,
   "metadata": {},
   "outputs": [],
   "source": [
    "## AIC is used for model selection with the \"stepAIC\" package in R. \n",
    "\n",
    "X_cases.to_csv(personal_path + 'Data/GLM_Xcases_before_selection1.3.1.csv')\n",
    "y_cases.to_csv(personal_path + 'Data/GLM_ycases_before_selection1.3.1.csv')\n",
    "\n",
    "## Model selection using AIC in R\n",
    "X_cases_selected = X_cases[['new_vaccinations_smoothed_per_million', 'population_density', 'aged_70_older', 'gdp_per_capita', 'cardiovasc_death_rate', 'diabetes_prevalence', 'female_smokers', 'male_smokers', 'daily_people_vaccinated_per_hundred', 'Epsilon', 'Gamma', 'Eta', 'Delta', 'Alpha', 'Lambda']]\n"
   ]
  },
  {
   "cell_type": "code",
   "execution_count": 9,
   "metadata": {},
   "outputs": [
    {
     "name": "stdout",
     "output_type": "stream",
     "text": [
      "AIC: 2589.3033381442465\n",
      "Summary:\n",
      "                  Generalized Linear Model Regression Results                  \n",
      "==============================================================================\n",
      "Dep. Variable:                      y   No. Observations:                 2151\n",
      "Model:                            GLM   Df Residuals:                     2136\n",
      "Model Family:        NegativeBinomial   Df Model:                           14\n",
      "Link Function:                    log   Scale:                          1.0000\n",
      "Method:                          IRLS   Log-Likelihood:                -1279.7\n",
      "Date:                Tue, 14 Dec 2021   Deviance:                       56793.\n",
      "Time:                        00:32:31   Pearson chi2:                 2.04e+16\n",
      "No. Iterations:                    81                                         \n",
      "Covariance Type:            nonrobust                                         \n",
      "=========================================================================================================\n",
      "                                            coef    std err          z      P>|z|      [0.025      0.975]\n",
      "---------------------------------------------------------------------------------------------------------\n",
      "new_vaccinations_smoothed_per_million    -0.1355      0.057     -2.387      0.017      -0.247      -0.024\n",
      "population_density                       -0.2729      0.040     -6.855      0.000      -0.351      -0.195\n",
      "aged_70_older                             0.2263      0.043      5.226      0.000       0.141       0.311\n",
      "gdp_per_capita                            0.2607      0.035      7.360      0.000       0.191       0.330\n",
      "cardiovasc_death_rate                     0.0342      0.037      0.925      0.355      -0.038       0.107\n",
      "diabetes_prevalence                       0.2448      0.033      7.364      0.000       0.180       0.310\n",
      "female_smokers                            0.2976      0.044      6.800      0.000       0.212       0.383\n",
      "male_smokers                             -0.0552      0.042     -1.317      0.188      -0.137       0.027\n",
      "daily_people_vaccinated_per_hundred       0.1879      0.049      3.819      0.000       0.091       0.284\n",
      "Epsilon                                   0.0355      0.026      1.344      0.179      -0.016       0.087\n",
      "Gamma                                     0.1979      0.028      7.113      0.000       0.143       0.252\n",
      "Eta                                      -4.2496      0.234    -18.160      0.000      -4.708      -3.791\n",
      "Delta                                     0.2515      0.036      7.059      0.000       0.182       0.321\n",
      "Alpha                                     0.2613      0.034      7.715      0.000       0.195       0.328\n",
      "Lambda                                    0.0803      0.031      2.598      0.009       0.020       0.141\n",
      "=========================================================================================================\n"
     ]
    }
   ],
   "source": [
    "from sklearn.preprocessing import StandardScaler\n",
    "\n",
    "scaler = StandardScaler()\n",
    "scaler_y = StandardScaler()\n",
    "y_cases_scaled = scaler_y.fit_transform(np.array(y_cases).reshape(-1,1))\n",
    "X_cases_selected_scaled = pd.DataFrame(scaler.fit_transform(X_cases_selected))\n",
    "X_cases_selected_scaled.columns = X_cases_selected.columns\n",
    "\n",
    "est_131 = sm.GLM(y_cases_scaled, X_cases_selected_scaled, family=sm.families.NegativeBinomial())\n",
    "est_131_fit = est_131.fit()\n",
    "print('AIC:', est_131_fit.aic)\n",
    "print('Summary:\\n', est_131_fit.summary())"
   ]
  },
  {
   "cell_type": "markdown",
   "metadata": {},
   "source": [
    "AIC values are used to compare the negative binomial GLM results to the analogous linear regression results. This model has an AIC value of 2589, which is smaller than the analogous OLS regression model that had an AIC of 5860. "
   ]
  },
  {
   "cell_type": "markdown",
   "metadata": {},
   "source": [
    "#### 1.3.2 Similar model as 1.3.1 + month information"
   ]
  },
  {
   "cell_type": "markdown",
   "metadata": {},
   "source": [
    "As with the OLS regressions, adding dummy variables representing month and year improves the AIC score of the model:"
   ]
  },
  {
   "cell_type": "code",
   "execution_count": 10,
   "metadata": {},
   "outputs": [
    {
     "name": "stdout",
     "output_type": "stream",
     "text": [
      "AIC: 2487.9474865067423\n",
      "Summary:\n",
      "                  Generalized Linear Model Regression Results                  \n",
      "==============================================================================\n",
      "Dep. Variable:                      y   No. Observations:                 2151\n",
      "Model:                            GLM   Df Residuals:                     2118\n",
      "Model Family:        NegativeBinomial   Df Model:                           32\n",
      "Link Function:                    log   Scale:                          1.0000\n",
      "Method:                          IRLS   Log-Likelihood:                -1211.0\n",
      "Date:                Tue, 14 Dec 2021   Deviance:                       56779.\n",
      "Time:                        00:32:33   Pearson chi2:                 1.71e+16\n",
      "No. Iterations:                    88                                         \n",
      "Covariance Type:            nonrobust                                         \n",
      "=========================================================================================================\n",
      "                                            coef    std err          z      P>|z|      [0.025      0.975]\n",
      "---------------------------------------------------------------------------------------------------------\n",
      "new_vaccinations_smoothed_per_million    -0.0328      0.058     -0.564      0.573      -0.147       0.081\n",
      "population_density                       -0.3043      0.041     -7.363      0.000      -0.385      -0.223\n",
      "aged_70_older                             0.1236      0.045      2.773      0.006       0.036       0.211\n",
      "gdp_per_capita                            0.2633      0.036      7.306      0.000       0.193       0.334\n",
      "cardiovasc_death_rate                     0.0064      0.038      0.169      0.865      -0.068       0.081\n",
      "diabetes_prevalence                       0.2493      0.033      7.452      0.000       0.184       0.315\n",
      "female_smokers                            0.2470      0.045      5.544      0.000       0.160       0.334\n",
      "male_smokers                             -0.0473      0.042     -1.128      0.259      -0.130       0.035\n",
      "daily_people_vaccinated_per_hundred       0.0995      0.049      2.022      0.043       0.003       0.196\n",
      "Epsilon                                  -0.0152      0.028     -0.551      0.581      -0.069       0.039\n",
      "Gamma                                     0.2937      0.034      8.523      0.000       0.226       0.361\n",
      "Eta                                      -3.3434      0.238    -14.048      0.000      -3.810      -2.877\n",
      "Delta                                     0.7116      0.107      6.630      0.000       0.501       0.922\n",
      "Alpha                                     0.2422      0.053      4.572      0.000       0.138       0.346\n",
      "Lambda                                    0.0870      0.032      2.731      0.006       0.025       0.149\n",
      "month_yr_02-2021                         -0.1109      0.036     -3.047      0.002      -0.182      -0.040\n",
      "month_yr_03-2021                         -0.1082      0.039     -2.783      0.005      -0.184      -0.032\n",
      "month_yr_04-2021                         -0.0937      0.041     -2.288      0.022      -0.174      -0.013\n",
      "month_yr_05-2020                         -0.3863      0.048     -8.059      0.000      -0.480      -0.292\n",
      "month_yr_05-2021                         -0.2908      0.050     -5.861      0.000      -0.388      -0.194\n",
      "month_yr_06-2020                         -0.3462      0.047     -7.396      0.000      -0.438      -0.254\n",
      "month_yr_06-2021                         -0.4802      0.053     -9.045      0.000      -0.584      -0.376\n",
      "month_yr_07-2020                         -0.3634      0.047     -7.653      0.000      -0.456      -0.270\n",
      "month_yr_07-2021                         -0.5180      0.063     -8.201      0.000      -0.642      -0.394\n",
      "month_yr_08-2020                         -0.3894      0.045     -8.678      0.000      -0.477      -0.301\n",
      "month_yr_08-2021                         -0.4381      0.066     -6.656      0.000      -0.567      -0.309\n",
      "month_yr_09-2020                         -0.2591      0.038     -6.736      0.000      -0.334      -0.184\n",
      "month_yr_09-2021                         -0.4365      0.067     -6.520      0.000      -0.568      -0.305\n",
      "month_yr_10-2020                         -0.0519      0.032     -1.622      0.105      -0.115       0.011\n",
      "month_yr_10-2021                         -0.4104      0.065     -6.356      0.000      -0.537      -0.284\n",
      "month_yr_11-2020                          0.0005      0.031      0.017      0.986      -0.061       0.062\n",
      "month_yr_11-2021                         -0.2276      0.052     -4.344      0.000      -0.330      -0.125\n",
      "month_yr_12-2020                         -0.0224      0.032     -0.694      0.488      -0.086       0.041\n",
      "=========================================================================================================\n"
     ]
    },
    {
     "name": "stderr",
     "output_type": "stream",
     "text": [
      "/var/folders/jc/bb5qmj190pl9m7_5c6v_s3wm0000gn/T/ipykernel_15054/4064270133.py:1: SettingWithCopyWarning: \n",
      "A value is trying to be set on a copy of a slice from a DataFrame.\n",
      "Try using .loc[row_indexer,col_indexer] = value instead\n",
      "\n",
      "See the caveats in the documentation: https://pandas.pydata.org/pandas-docs/stable/user_guide/indexing.html#returning-a-view-versus-a-copy\n",
      "  X_cases_selected['month_yr'] = df['month_yr']\n"
     ]
    }
   ],
   "source": [
    "X_cases_selected['month_yr'] = df['month_yr']\n",
    "X_cases_selected = pd.get_dummies(X_cases_selected, drop_first=True)\n",
    "\n",
    "scaler = StandardScaler()\n",
    "scaler_y = StandardScaler()\n",
    "y_cases_scaled = scaler_y.fit_transform(np.array(y_cases).reshape(-1,1))\n",
    "X_cases_selected_scaled = pd.DataFrame(scaler.fit_transform(X_cases_selected))\n",
    "X_cases_selected_scaled.columns = X_cases_selected.columns\n",
    "\n",
    "## With added month information\n",
    "est_132 = sm.GLM(y_cases_scaled, X_cases_selected_scaled, family=sm.families.NegativeBinomial())\n",
    "est_132_fit = est_132.fit()\n",
    "print('AIC:', est_132_fit.aic)\n",
    "print('Summary:\\n', est_132_fit.summary())"
   ]
  },
  {
   "cell_type": "markdown",
   "metadata": {},
   "source": [
    "#### 1.3.3 Similar model as 1.3.2 + centered-log ratio transformed variants data to account for compositionality\n"
   ]
  },
  {
   "cell_type": "code",
   "execution_count": 11,
   "metadata": {},
   "outputs": [],
   "source": [
    "import skbio\n",
    "from skbio.stats.composition import clr\n",
    "\n",
    "## GLM for naive model\n",
    "\n",
    "## Load data like for OLS\n",
    "path_full = os.path.join(personal_path, \"Data/biweekly_imputed_old_fixed.csv\")\n",
    "df = pd.read_csv(path_full)\n",
    "\n",
    "## GLM software is sensitive to presence of any NAs, so remove these\n",
    "df_cases = df.drop(['Unnamed: 0', 'date', 'iso_code','month_yr'], axis = 1)\n",
    "df_cases.replace([np.inf, -np.inf], np.nan, inplace=True)\n",
    "df_cases[df_cases < 0] = np.nan  ## All the variables in the analysis are defined as having nonnegative values, so otherwise is an error\n",
    "# df_cases['month_yr'] = df['month_yr'] ## FOR SOME REASON ADDING THIS LINE MESSES THINGS UP\n",
    "df_cases.dropna(inplace=True)\n",
    "\n",
    "## \n",
    "y_cases = df_cases['new_cases_smoothed_per_million']\n",
    "X_cases = df_cases.drop(['new_cases_smoothed_per_million', 'new_deaths_smoothed_per_million'], axis = 1)\n",
    "\n",
    "\n",
    "## CLR transformation\n",
    "for i in X_cases.index:\n",
    "    X_cases.loc[i,['non_who', 'Beta', 'Epsilon', 'Gamma', 'Kappa', 'Iota', 'Eta', 'Delta', 'Alpha','Lambda', 'Mu']] = clr(X_cases.loc[i,['non_who', 'Beta', 'Epsilon', 'Gamma', 'Kappa', 'Iota', 'Eta', 'Delta', 'Alpha','Lambda', 'Mu']]/100+0.00001)\n"
   ]
  },
  {
   "cell_type": "code",
   "execution_count": 12,
   "metadata": {},
   "outputs": [
    {
     "name": "stderr",
     "output_type": "stream",
     "text": [
      "/Users/dprinster/anaconda3/envs/MachineLearning/lib/python3.9/site-packages/statsmodels/stats/outliers_influence.py:193: RuntimeWarning: divide by zero encountered in double_scalars\n",
      "  vif = 1. / (1. - r_squared_i)\n"
     ]
    },
    {
     "data": {
      "text/html": [
       "<div>\n",
       "<style scoped>\n",
       "    .dataframe tbody tr th:only-of-type {\n",
       "        vertical-align: middle;\n",
       "    }\n",
       "\n",
       "    .dataframe tbody tr th {\n",
       "        vertical-align: top;\n",
       "    }\n",
       "\n",
       "    .dataframe thead th {\n",
       "        text-align: right;\n",
       "    }\n",
       "</style>\n",
       "<table border=\"1\" class=\"dataframe\">\n",
       "  <thead>\n",
       "    <tr style=\"text-align: right;\">\n",
       "      <th></th>\n",
       "      <th>VIF Factor</th>\n",
       "      <th>features</th>\n",
       "    </tr>\n",
       "  </thead>\n",
       "  <tbody>\n",
       "    <tr>\n",
       "      <th>2</th>\n",
       "      <td>3.763400</td>\n",
       "      <td>people_fully_vaccinated_per_hundred</td>\n",
       "    </tr>\n",
       "    <tr>\n",
       "      <th>3</th>\n",
       "      <td>7.065768</td>\n",
       "      <td>new_vaccinations_smoothed_per_million</td>\n",
       "    </tr>\n",
       "    <tr>\n",
       "      <th>6</th>\n",
       "      <td>1.392361</td>\n",
       "      <td>population_density</td>\n",
       "    </tr>\n",
       "    <tr>\n",
       "      <th>9</th>\n",
       "      <td>9.149825</td>\n",
       "      <td>aged_70_older</td>\n",
       "    </tr>\n",
       "    <tr>\n",
       "      <th>10</th>\n",
       "      <td>5.423169</td>\n",
       "      <td>gdp_per_capita</td>\n",
       "    </tr>\n",
       "    <tr>\n",
       "      <th>11</th>\n",
       "      <td>1.679927</td>\n",
       "      <td>extreme_poverty</td>\n",
       "    </tr>\n",
       "    <tr>\n",
       "      <th>12</th>\n",
       "      <td>6.311538</td>\n",
       "      <td>cardiovasc_death_rate</td>\n",
       "    </tr>\n",
       "    <tr>\n",
       "      <th>13</th>\n",
       "      <td>6.963256</td>\n",
       "      <td>diabetes_prevalence</td>\n",
       "    </tr>\n",
       "    <tr>\n",
       "      <th>14</th>\n",
       "      <td>6.930366</td>\n",
       "      <td>female_smokers</td>\n",
       "    </tr>\n",
       "    <tr>\n",
       "      <th>15</th>\n",
       "      <td>9.077666</td>\n",
       "      <td>male_smokers</td>\n",
       "    </tr>\n",
       "    <tr>\n",
       "      <th>18</th>\n",
       "      <td>4.691012</td>\n",
       "      <td>daily_people_vaccinated_per_hundred</td>\n",
       "    </tr>\n",
       "    <tr>\n",
       "      <th>21</th>\n",
       "      <td>2.751188</td>\n",
       "      <td>Epsilon</td>\n",
       "    </tr>\n",
       "    <tr>\n",
       "      <th>22</th>\n",
       "      <td>1.805375</td>\n",
       "      <td>Gamma</td>\n",
       "    </tr>\n",
       "    <tr>\n",
       "      <th>23</th>\n",
       "      <td>3.115954</td>\n",
       "      <td>Kappa</td>\n",
       "    </tr>\n",
       "    <tr>\n",
       "      <th>24</th>\n",
       "      <td>3.405394</td>\n",
       "      <td>Iota</td>\n",
       "    </tr>\n",
       "    <tr>\n",
       "      <th>25</th>\n",
       "      <td>1.970709</td>\n",
       "      <td>Eta</td>\n",
       "    </tr>\n",
       "    <tr>\n",
       "      <th>26</th>\n",
       "      <td>3.772519</td>\n",
       "      <td>Delta</td>\n",
       "    </tr>\n",
       "    <tr>\n",
       "      <th>27</th>\n",
       "      <td>3.560246</td>\n",
       "      <td>Alpha</td>\n",
       "    </tr>\n",
       "    <tr>\n",
       "      <th>29</th>\n",
       "      <td>3.045180</td>\n",
       "      <td>Lambda</td>\n",
       "    </tr>\n",
       "    <tr>\n",
       "      <th>30</th>\n",
       "      <td>5.686452</td>\n",
       "      <td>Mu</td>\n",
       "    </tr>\n",
       "  </tbody>\n",
       "</table>\n",
       "</div>"
      ],
      "text/plain": [
       "    VIF Factor                               features\n",
       "2     3.763400    people_fully_vaccinated_per_hundred\n",
       "3     7.065768  new_vaccinations_smoothed_per_million\n",
       "6     1.392361                     population_density\n",
       "9     9.149825                          aged_70_older\n",
       "10    5.423169                         gdp_per_capita\n",
       "11    1.679927                        extreme_poverty\n",
       "12    6.311538                  cardiovasc_death_rate\n",
       "13    6.963256                    diabetes_prevalence\n",
       "14    6.930366                         female_smokers\n",
       "15    9.077666                           male_smokers\n",
       "18    4.691012    daily_people_vaccinated_per_hundred\n",
       "21    2.751188                                Epsilon\n",
       "22    1.805375                                  Gamma\n",
       "23    3.115954                                  Kappa\n",
       "24    3.405394                                   Iota\n",
       "25    1.970709                                    Eta\n",
       "26    3.772519                                  Delta\n",
       "27    3.560246                                  Alpha\n",
       "29    3.045180                                 Lambda\n",
       "30    5.686452                                     Mu"
      ]
     },
     "execution_count": 12,
     "metadata": {},
     "output_type": "execute_result"
    }
   ],
   "source": [
    "## Use variance inflation factors to remove variables with multicollinearity\n",
    "\n",
    "vif = pd.DataFrame()\n",
    "vif[\"VIF Factor\"] = [variance_inflation_factor(X_cases.values, i) for i in range(X_cases.shape[1])]\n",
    "vif[\"features\"] = X_cases.columns\n",
    "\n",
    "## Use variance inflation factor threshold of 10\n",
    "while max(vif['VIF Factor']) > 10:\n",
    "    ## Drop the variable with highest VIF value\n",
    "    X_cases.drop([vif.loc[vif['VIF Factor'].idxmax(),'features']], axis=1, inplace = True)\n",
    "    vif.drop([vif['VIF Factor'].idxmax()], axis=0, inplace = True)\n",
    "    vif[\"VIF Factor\"] = [variance_inflation_factor(X_cases.values, i) for i in range(X_cases.shape[1])]\n",
    "    \n",
    "vif"
   ]
  },
  {
   "cell_type": "code",
   "execution_count": 13,
   "metadata": {},
   "outputs": [
    {
     "data": {
      "text/plain": [
       "Index(['people_fully_vaccinated_per_hundred', 'population_density',\n",
       "       'aged_70_older', 'gdp_per_capita', 'cardiovasc_death_rate',\n",
       "       'diabetes_prevalence', 'female_smokers', 'male_smokers',\n",
       "       'daily_people_vaccinated_per_hundred', 'Kappa', 'Eta', 'Delta', 'Alpha',\n",
       "       'Lambda', 'Mu', 'month_yr_02-2021', 'month_yr_05-2020',\n",
       "       'month_yr_05-2021', 'month_yr_06-2020', 'month_yr_06-2021',\n",
       "       'month_yr_07-2020', 'month_yr_07-2021', 'month_yr_08-2020',\n",
       "       'month_yr_08-2021', 'month_yr_09-2020', 'month_yr_09-2021',\n",
       "       'month_yr_10-2020', 'month_yr_10-2021'],\n",
       "      dtype='object')"
      ]
     },
     "execution_count": 13,
     "metadata": {},
     "output_type": "execute_result"
    }
   ],
   "source": [
    "## AIC is used for model selection with the \"stepAIC\" package in R. \n",
    "X_cases['month_yr'] = df['month_yr']\n",
    "X_cases = pd.get_dummies(X_cases, drop_first=True)\n",
    "\n",
    "X_cases.to_csv(personal_path + 'Data/GLM_Xcases_before_selection1.3.3.csv')\n",
    "y_cases.to_csv(personal_path + 'Data/GLM_ycases_before_selection1.3.3.csv')\n",
    "\n",
    "# ## Model selection using AIC in R\n",
    "X_cases_selected = X_cases[['people_fully_vaccinated_per_hundred', 'population_density', 'aged_70_older', 'gdp_per_capita', 'cardiovasc_death_rate', 'diabetes_prevalence', 'female_smokers', 'male_smokers', 'daily_people_vaccinated_per_hundred', 'Kappa', 'Eta', 'Delta', 'Alpha', 'Lambda', 'Mu', 'month_yr_02-2021', 'month_yr_05-2020', 'month_yr_05-2021', 'month_yr_06-2020', 'month_yr_06-2021', 'month_yr_07-2020', 'month_yr_07-2021', 'month_yr_08-2020', 'month_yr_08-2021', 'month_yr_09-2020', 'month_yr_09-2021', 'month_yr_10-2020', 'month_yr_10-2021']]\n",
    "\n",
    "X_cases_selected.columns"
   ]
  },
  {
   "cell_type": "code",
   "execution_count": 14,
   "metadata": {},
   "outputs": [
    {
     "name": "stdout",
     "output_type": "stream",
     "text": [
      "AIC: 2588.812346358105\n",
      "Summary:\n",
      "                  Generalized Linear Model Regression Results                  \n",
      "==============================================================================\n",
      "Dep. Variable:                      y   No. Observations:                 2151\n",
      "Model:                            GLM   Df Residuals:                     2123\n",
      "Model Family:        NegativeBinomial   Df Model:                           27\n",
      "Link Function:                    log   Scale:                          1.0000\n",
      "Method:                          IRLS   Log-Likelihood:                -1266.4\n",
      "Date:                Tue, 14 Dec 2021   Deviance:                       56501.\n",
      "Time:                        00:32:38   Pearson chi2:                 3.39e+03\n",
      "No. Iterations:                    84                                         \n",
      "Covariance Type:            nonrobust                                         \n",
      "=======================================================================================================\n",
      "                                          coef    std err          z      P>|z|      [0.025      0.975]\n",
      "-------------------------------------------------------------------------------------------------------\n",
      "people_fully_vaccinated_per_hundred    -0.0701      0.047     -1.500      0.133      -0.162       0.021\n",
      "population_density                     -0.3496      0.046     -7.681      0.000      -0.439      -0.260\n",
      "aged_70_older                           0.1583      0.046      3.447      0.001       0.068       0.248\n",
      "gdp_per_capita                          0.3395      0.038      9.010      0.000       0.266       0.413\n",
      "cardiovasc_death_rate                   0.0191      0.039      0.484      0.629      -0.058       0.096\n",
      "diabetes_prevalence                     0.3202      0.034      9.494      0.000       0.254       0.386\n",
      "female_smokers                          0.3165      0.045      6.976      0.000       0.228       0.405\n",
      "male_smokers                           -0.0716      0.041     -1.725      0.085      -0.153       0.010\n",
      "daily_people_vaccinated_per_hundred     0.1097      0.030      3.712      0.000       0.052       0.168\n",
      "Kappa                                  -0.1002      0.038     -2.630      0.009      -0.175      -0.026\n",
      "Eta                                    -0.1562      0.037     -4.248      0.000      -0.228      -0.084\n",
      "Delta                                   0.1071      0.064      1.670      0.095      -0.019       0.233\n",
      "Alpha                                   0.0013      0.047      0.028      0.977      -0.091       0.094\n",
      "Lambda                                  0.1566      0.037      4.200      0.000       0.084       0.230\n",
      "Mu                                      0.2611      0.045      5.861      0.000       0.174       0.348\n",
      "month_yr_02-2021                       -0.0559      0.032     -1.773      0.076      -0.118       0.006\n",
      "month_yr_05-2020                       -0.5839      0.062     -9.486      0.000      -0.705      -0.463\n",
      "month_yr_05-2021                       -0.0822      0.035     -2.347      0.019      -0.151      -0.014\n",
      "month_yr_06-2020                       -0.4846      0.059     -8.185      0.000      -0.601      -0.369\n",
      "month_yr_06-2021                       -0.2346      0.040     -5.813      0.000      -0.314      -0.155\n",
      "month_yr_07-2020                       -0.5178      0.061     -8.434      0.000      -0.638      -0.397\n",
      "month_yr_07-2021                       -0.2146      0.041     -5.239      0.000      -0.295      -0.134\n",
      "month_yr_08-2020                       -0.5370      0.052    -10.267      0.000      -0.640      -0.435\n",
      "month_yr_08-2021                       -0.1143      0.038     -2.982      0.003      -0.189      -0.039\n",
      "month_yr_09-2020                       -0.3437      0.042     -8.271      0.000      -0.425      -0.262\n",
      "month_yr_09-2021                       -0.1075      0.038     -2.831      0.005      -0.182      -0.033\n",
      "month_yr_10-2020                       -0.1070      0.031     -3.430      0.001      -0.168      -0.046\n",
      "month_yr_10-2021                       -0.0963      0.037     -2.575      0.010      -0.170      -0.023\n",
      "=======================================================================================================\n"
     ]
    }
   ],
   "source": [
    "\n",
    "scaler = StandardScaler()\n",
    "scaler_y = StandardScaler()\n",
    "y_cases_scaled = scaler_y.fit_transform(np.array(y_cases).reshape(-1,1))\n",
    "X_cases_selected_scaled = pd.DataFrame(scaler.fit_transform(X_cases_selected))\n",
    "X_cases_selected_scaled.columns = X_cases_selected.columns\n",
    "\n",
    "est_133 = sm.GLM(y_cases_scaled, X_cases_selected_scaled, family=sm.families.NegativeBinomial())\n",
    "est_133_fit = est_133.fit()\n",
    "print('AIC:', est_133_fit.aic)\n",
    "print('Summary:\\n', est_133_fit.summary())"
   ]
  },
  {
   "cell_type": "markdown",
   "metadata": {},
   "source": [
    "#### 1.3.4     - 1.3.4 Negative binomial GLM of new COVID-19 *deaths* per million with VIFs for assessing multicollinearity and AIC for model selection\n"
   ]
  },
  {
   "cell_type": "code",
   "execution_count": 15,
   "metadata": {},
   "outputs": [
    {
     "data": {
      "text/plain": [
       "Text(0.04, 0.5, 'Frequency')"
      ]
     },
     "execution_count": 15,
     "metadata": {},
     "output_type": "execute_result"
    },
    {
     "data": {
      "image/png": "[encoded data removed]",
      "text/plain": [
       "<Figure size 432x288 with 1 Axes>"
      ]
     },
     "metadata": {
      "needs_background": "light"
     },
     "output_type": "display_data"
    }
   ],
   "source": [
    "## GLM for naive model\n",
    "\n",
    "## Load data like for OLS\n",
    "path_full = os.path.join(personal_path, \"Data/biweekly_imputed_old_fixed.csv\")\n",
    "df = pd.read_csv(path_full)\n",
    "\n",
    "## GLM software is sensitive to presence of any NAs, so remove these\n",
    "df_deaths = df.drop(['Unnamed: 0', 'date', 'iso_code','month_yr'], axis = 1)\n",
    "df_deaths.replace([np.inf, -np.inf], np.nan, inplace=True)\n",
    "df_deaths[df_deaths < 0] = np.nan  ## All the variables in the analysis are defined as having nonnegative values, so otherwise is an error\n",
    "df_deaths.dropna(inplace=True)\n",
    "\n",
    "##\n",
    "y_deaths = df_deaths['new_deaths_smoothed_per_million']\n",
    "X_deaths = df_deaths.drop(['new_cases_smoothed_per_million', 'new_deaths_smoothed_per_million'], axis = 1)\n",
    "\n",
    "## Plot histogram of number of cases\n",
    "fig, axes = plt.subplots(nrows=1, ncols=1, sharex=True, sharey=True)\n",
    "y_deaths.hist(bins=30)\n",
    "axes.grid(False)\n",
    "plt.suptitle('Histogram for smoothed number of new deaths per million', x=0.5, y=1.05, ha='center', fontsize='xx-large')\n",
    "fig.text(0.5, 0.04, 'Number of deaths per million', ha='center')\n",
    "fig.text(0.04, 0.5, 'Frequency', va='center', rotation='vertical')\n",
    "\n"
   ]
  },
  {
   "cell_type": "code",
   "execution_count": 16,
   "metadata": {},
   "outputs": [
    {
     "data": {
      "text/html": [
       "<div>\n",
       "<style scoped>\n",
       "    .dataframe tbody tr th:only-of-type {\n",
       "        vertical-align: middle;\n",
       "    }\n",
       "\n",
       "    .dataframe tbody tr th {\n",
       "        vertical-align: top;\n",
       "    }\n",
       "\n",
       "    .dataframe thead th {\n",
       "        text-align: right;\n",
       "    }\n",
       "</style>\n",
       "<table border=\"1\" class=\"dataframe\">\n",
       "  <thead>\n",
       "    <tr style=\"text-align: right;\">\n",
       "      <th></th>\n",
       "      <th>VIF Factor</th>\n",
       "      <th>features</th>\n",
       "    </tr>\n",
       "  </thead>\n",
       "  <tbody>\n",
       "    <tr>\n",
       "      <th>2</th>\n",
       "      <td>4.083291</td>\n",
       "      <td>people_fully_vaccinated_per_hundred</td>\n",
       "    </tr>\n",
       "    <tr>\n",
       "      <th>3</th>\n",
       "      <td>6.723320</td>\n",
       "      <td>new_vaccinations_smoothed_per_million</td>\n",
       "    </tr>\n",
       "    <tr>\n",
       "      <th>6</th>\n",
       "      <td>1.396496</td>\n",
       "      <td>population_density</td>\n",
       "    </tr>\n",
       "    <tr>\n",
       "      <th>9</th>\n",
       "      <td>8.634682</td>\n",
       "      <td>aged_70_older</td>\n",
       "    </tr>\n",
       "    <tr>\n",
       "      <th>10</th>\n",
       "      <td>5.127084</td>\n",
       "      <td>gdp_per_capita</td>\n",
       "    </tr>\n",
       "    <tr>\n",
       "      <th>11</th>\n",
       "      <td>1.692744</td>\n",
       "      <td>extreme_poverty</td>\n",
       "    </tr>\n",
       "    <tr>\n",
       "      <th>12</th>\n",
       "      <td>6.329184</td>\n",
       "      <td>cardiovasc_death_rate</td>\n",
       "    </tr>\n",
       "    <tr>\n",
       "      <th>13</th>\n",
       "      <td>6.834470</td>\n",
       "      <td>diabetes_prevalence</td>\n",
       "    </tr>\n",
       "    <tr>\n",
       "      <th>14</th>\n",
       "      <td>7.075018</td>\n",
       "      <td>female_smokers</td>\n",
       "    </tr>\n",
       "    <tr>\n",
       "      <th>15</th>\n",
       "      <td>9.590564</td>\n",
       "      <td>male_smokers</td>\n",
       "    </tr>\n",
       "    <tr>\n",
       "      <th>18</th>\n",
       "      <td>4.589554</td>\n",
       "      <td>daily_people_vaccinated_per_hundred</td>\n",
       "    </tr>\n",
       "    <tr>\n",
       "      <th>20</th>\n",
       "      <td>1.212415</td>\n",
       "      <td>Beta</td>\n",
       "    </tr>\n",
       "    <tr>\n",
       "      <th>21</th>\n",
       "      <td>1.099474</td>\n",
       "      <td>Epsilon</td>\n",
       "    </tr>\n",
       "    <tr>\n",
       "      <th>22</th>\n",
       "      <td>1.315465</td>\n",
       "      <td>Gamma</td>\n",
       "    </tr>\n",
       "    <tr>\n",
       "      <th>23</th>\n",
       "      <td>1.025491</td>\n",
       "      <td>Kappa</td>\n",
       "    </tr>\n",
       "    <tr>\n",
       "      <th>24</th>\n",
       "      <td>1.064273</td>\n",
       "      <td>Iota</td>\n",
       "    </tr>\n",
       "    <tr>\n",
       "      <th>25</th>\n",
       "      <td>1.061968</td>\n",
       "      <td>Eta</td>\n",
       "    </tr>\n",
       "    <tr>\n",
       "      <th>26</th>\n",
       "      <td>4.507749</td>\n",
       "      <td>Delta</td>\n",
       "    </tr>\n",
       "    <tr>\n",
       "      <th>27</th>\n",
       "      <td>2.056309</td>\n",
       "      <td>Alpha</td>\n",
       "    </tr>\n",
       "    <tr>\n",
       "      <th>29</th>\n",
       "      <td>1.332195</td>\n",
       "      <td>Lambda</td>\n",
       "    </tr>\n",
       "    <tr>\n",
       "      <th>30</th>\n",
       "      <td>1.007710</td>\n",
       "      <td>Mu</td>\n",
       "    </tr>\n",
       "  </tbody>\n",
       "</table>\n",
       "</div>"
      ],
      "text/plain": [
       "    VIF Factor                               features\n",
       "2     4.083291    people_fully_vaccinated_per_hundred\n",
       "3     6.723320  new_vaccinations_smoothed_per_million\n",
       "6     1.396496                     population_density\n",
       "9     8.634682                          aged_70_older\n",
       "10    5.127084                         gdp_per_capita\n",
       "11    1.692744                        extreme_poverty\n",
       "12    6.329184                  cardiovasc_death_rate\n",
       "13    6.834470                    diabetes_prevalence\n",
       "14    7.075018                         female_smokers\n",
       "15    9.590564                           male_smokers\n",
       "18    4.589554    daily_people_vaccinated_per_hundred\n",
       "20    1.212415                                   Beta\n",
       "21    1.099474                                Epsilon\n",
       "22    1.315465                                  Gamma\n",
       "23    1.025491                                  Kappa\n",
       "24    1.064273                                   Iota\n",
       "25    1.061968                                    Eta\n",
       "26    4.507749                                  Delta\n",
       "27    2.056309                                  Alpha\n",
       "29    1.332195                                 Lambda\n",
       "30    1.007710                                     Mu"
      ]
     },
     "execution_count": 16,
     "metadata": {},
     "output_type": "execute_result"
    }
   ],
   "source": [
    "## Use variance inflation factors to remove variables with multicollinearity\n",
    "\n",
    "vif = pd.DataFrame()\n",
    "vif[\"VIF Factor\"] = [variance_inflation_factor(X_deaths.values, i) for i in range(X_deaths.shape[1])]\n",
    "vif[\"features\"] = X_deaths.columns\n",
    "\n",
    "## Use variance inflation factor threshold of 10\n",
    "while max(vif['VIF Factor']) > 10:\n",
    "    ## Drop the variable with highest VIF value\n",
    "    X_deaths.drop([vif.loc[vif['VIF Factor'].idxmax(),'features']], axis=1, inplace = True)\n",
    "    vif.drop([vif['VIF Factor'].idxmax()], axis=0, inplace = True)\n",
    "    vif[\"VIF Factor\"] = [variance_inflation_factor(X_deaths.values, i) for i in range(X_deaths.shape[1])]\n",
    "vif"
   ]
  },
  {
   "cell_type": "code",
   "execution_count": 17,
   "metadata": {},
   "outputs": [],
   "source": [
    "## AIC is used for model selection with the \"stepAIC\" package in R. \n",
    "\n",
    "X_deaths.to_csv(personal_path + 'Data/GLM_Xdeaths_before_selection1.3.4.csv')\n",
    "y_deaths.to_csv(personal_path + 'Data/GLM_ydeaths_before_selection1.3.4.csv')\n",
    "\n",
    "## Model selection using AIC in R\n",
    "X_deaths_selected = X_deaths[['people_fully_vaccinated_per_hundred', 'new_vaccinations_smoothed_per_million', 'population_density', 'aged_70_older', 'gdp_per_capita', 'cardiovasc_death_rate', 'diabetes_prevalence', 'female_smokers', 'daily_people_vaccinated_per_hundred', 'Epsilon', 'Gamma', 'Kappa', 'Eta', 'Delta', 'Alpha', 'Lambda']]\n"
   ]
  },
  {
   "cell_type": "code",
   "execution_count": 18,
   "metadata": {},
   "outputs": [
    {
     "name": "stdout",
     "output_type": "stream",
     "text": [
      "AIC: 2586.544413415201\n",
      "Summary:\n",
      "                  Generalized Linear Model Regression Results                  \n",
      "==============================================================================\n",
      "Dep. Variable:                      y   No. Observations:                 2151\n",
      "Model:                            GLM   Df Residuals:                     2135\n",
      "Model Family:        NegativeBinomial   Df Model:                           15\n",
      "Link Function:                    log   Scale:                          1.0000\n",
      "Method:                          IRLS   Log-Likelihood:                -1277.3\n",
      "Date:                Tue, 14 Dec 2021   Deviance:                       56996.\n",
      "Time:                        00:32:43   Pearson chi2:                 1.19e+16\n",
      "No. Iterations:                    84                                         \n",
      "Covariance Type:            nonrobust                                         \n",
      "=========================================================================================================\n",
      "                                            coef    std err          z      P>|z|      [0.025      0.975]\n",
      "---------------------------------------------------------------------------------------------------------\n",
      "people_fully_vaccinated_per_hundred      -0.2508      0.049     -5.076      0.000      -0.348      -0.154\n",
      "new_vaccinations_smoothed_per_million    -0.1253      0.064     -1.963      0.050      -0.250      -0.000\n",
      "population_density                       -0.7796      0.125     -6.254      0.000      -1.024      -0.535\n",
      "aged_70_older                             0.2469      0.043      5.708      0.000       0.162       0.332\n",
      "gdp_per_capita                           -0.2303      0.043     -5.365      0.000      -0.314      -0.146\n",
      "cardiovasc_death_rate                     0.0398      0.034      1.155      0.248      -0.028       0.107\n",
      "diabetes_prevalence                       0.2027      0.033      6.201      0.000       0.139       0.267\n",
      "female_smokers                            0.2537      0.038      6.631      0.000       0.179       0.329\n",
      "daily_people_vaccinated_per_hundred       0.1364      0.055      2.466      0.014       0.028       0.245\n",
      "Epsilon                                   0.0669      0.026      2.603      0.009       0.017       0.117\n",
      "Gamma                                     0.1596      0.027      5.810      0.000       0.106       0.213\n",
      "Kappa                                    -0.1566      0.089     -1.760      0.078      -0.331       0.018\n",
      "Eta                                      -2.6370      0.257    -10.275      0.000      -3.140      -2.134\n",
      "Delta                                     0.0254      0.051      0.501      0.616      -0.074       0.125\n",
      "Alpha                                     0.1554      0.034      4.540      0.000       0.088       0.223\n",
      "Lambda                                    0.1632      0.025      6.527      0.000       0.114       0.212\n",
      "=========================================================================================================\n"
     ]
    }
   ],
   "source": [
    "## \n",
    "\n",
    "# X_deaths_selected = sm.add_constant(X_deaths_selected_)\n",
    "\n",
    "scaler = StandardScaler()\n",
    "scaler_y = StandardScaler()\n",
    "y_deaths_scaled = scaler_y.fit_transform(np.array(y_deaths).reshape(-1,1))\n",
    "X_deaths_selected_scaled = pd.DataFrame(scaler.fit_transform(X_deaths_selected))\n",
    "X_deaths_selected_scaled.columns = X_deaths_selected.columns\n",
    "\n",
    "est_134 = sm.GLM(y_deaths_scaled, X_deaths_selected_scaled, family=sm.families.NegativeBinomial())\n",
    "est_134_fit = est_134.fit()\n",
    "print('AIC:', est_134_fit.aic)\n",
    "print('Summary:\\n', est_134_fit.summary())"
   ]
  },
  {
   "cell_type": "markdown",
   "metadata": {},
   "source": [
    "#### 1.3.5 Similar model as 1.3.4 + month information\n"
   ]
  },
  {
   "cell_type": "code",
   "execution_count": 19,
   "metadata": {},
   "outputs": [
    {
     "name": "stdout",
     "output_type": "stream",
     "text": [
      "AIC: 2527.1100792625384\n",
      "Summary:\n",
      "                  Generalized Linear Model Regression Results                  \n",
      "==============================================================================\n",
      "Dep. Variable:                      y   No. Observations:                 2151\n",
      "Model:                            GLM   Df Residuals:                     2117\n",
      "Model Family:        NegativeBinomial   Df Model:                           33\n",
      "Link Function:                    log   Scale:                          1.0000\n",
      "Method:                          IRLS   Log-Likelihood:                -1229.6\n",
      "Date:                Tue, 14 Dec 2021   Deviance:                       56973.\n",
      "Time:                        00:32:46   Pearson chi2:                 4.51e+15\n",
      "No. Iterations:                    91                                         \n",
      "Covariance Type:            nonrobust                                         \n",
      "=========================================================================================================\n",
      "                                            coef    std err          z      P>|z|      [0.025      0.975]\n",
      "---------------------------------------------------------------------------------------------------------\n",
      "people_fully_vaccinated_per_hundred      -0.3596      0.055     -6.539      0.000      -0.467      -0.252\n",
      "new_vaccinations_smoothed_per_million     0.0098      0.065      0.152      0.879      -0.117       0.137\n",
      "population_density                       -0.7616      0.120     -6.354      0.000      -0.997      -0.527\n",
      "aged_70_older                             0.1198      0.044      2.715      0.007       0.033       0.206\n",
      "gdp_per_capita                           -0.2634      0.044     -5.966      0.000      -0.350      -0.177\n",
      "cardiovasc_death_rate                    -0.0051      0.035     -0.146      0.884      -0.074       0.064\n",
      "diabetes_prevalence                       0.2086      0.033      6.341      0.000       0.144       0.273\n",
      "female_smokers                            0.2447      0.038      6.362      0.000       0.169       0.320\n",
      "daily_people_vaccinated_per_hundred       0.0466      0.055      0.850      0.395      -0.061       0.154\n",
      "Epsilon                                   0.0297      0.027      1.112      0.266      -0.023       0.082\n",
      "Gamma                                     0.2594      0.033      7.774      0.000       0.194       0.325\n",
      "Kappa                                    -0.1503      0.084     -1.799      0.072      -0.314       0.013\n",
      "Eta                                      -2.1429      0.239     -8.975      0.000      -2.611      -1.675\n",
      "Delta                                     0.3550      0.109      3.245      0.001       0.141       0.569\n",
      "Alpha                                     0.2690      0.052      5.176      0.000       0.167       0.371\n",
      "Lambda                                    0.1785      0.026      6.774      0.000       0.127       0.230\n",
      "month_yr_02-2021                         -0.0892      0.035     -2.562      0.010      -0.157      -0.021\n",
      "month_yr_03-2021                         -0.1890      0.039     -4.904      0.000      -0.265      -0.113\n",
      "month_yr_04-2021                         -0.1830      0.041     -4.459      0.000      -0.264      -0.103\n",
      "month_yr_05-2020                         -0.1193      0.033     -3.590      0.000      -0.184      -0.054\n",
      "month_yr_05-2021                         -0.3266      0.049     -6.666      0.000      -0.423      -0.231\n",
      "month_yr_06-2020                         -0.1857      0.035     -5.238      0.000      -0.255      -0.116\n",
      "month_yr_06-2021                         -0.4062      0.052     -7.746      0.000      -0.509      -0.303\n",
      "month_yr_07-2020                         -0.2159      0.037     -5.792      0.000      -0.289      -0.143\n",
      "month_yr_07-2021                         -0.4567      0.064     -7.090      0.000      -0.583      -0.330\n",
      "month_yr_08-2020                         -0.2699      0.039     -7.002      0.000      -0.345      -0.194\n",
      "month_yr_08-2021                         -0.3342      0.068     -4.895      0.000      -0.468      -0.200\n",
      "month_yr_09-2020                         -0.2630      0.038     -6.910      0.000      -0.338      -0.188\n",
      "month_yr_09-2021                         -0.2657      0.071     -3.732      0.000      -0.405      -0.126\n",
      "month_yr_10-2020                         -0.1949      0.035     -5.523      0.000      -0.264      -0.126\n",
      "month_yr_10-2021                         -0.2136      0.070     -3.048      0.002      -0.351      -0.076\n",
      "month_yr_11-2020                         -0.0074      0.031     -0.237      0.812      -0.068       0.053\n",
      "month_yr_11-2021                         -0.1122      0.059     -1.902      0.057      -0.228       0.003\n",
      "month_yr_12-2020                          0.0486      0.031      1.555      0.120      -0.013       0.110\n",
      "=========================================================================================================\n"
     ]
    },
    {
     "name": "stderr",
     "output_type": "stream",
     "text": [
      "/var/folders/jc/bb5qmj190pl9m7_5c6v_s3wm0000gn/T/ipykernel_15054/4240895847.py:1: SettingWithCopyWarning: \n",
      "A value is trying to be set on a copy of a slice from a DataFrame.\n",
      "Try using .loc[row_indexer,col_indexer] = value instead\n",
      "\n",
      "See the caveats in the documentation: https://pandas.pydata.org/pandas-docs/stable/user_guide/indexing.html#returning-a-view-versus-a-copy\n",
      "  X_deaths_selected['month_yr'] = df['month_yr']\n"
     ]
    }
   ],
   "source": [
    "X_deaths_selected['month_yr'] = df['month_yr']\n",
    "X_deaths_selected = pd.get_dummies(X_deaths_selected, drop_first=True)\n",
    "\n",
    "scaler = StandardScaler()\n",
    "X_deaths_selected_scaled = pd.DataFrame(scaler.fit_transform(X_deaths_selected))\n",
    "X_deaths_selected_scaled.columns = X_deaths_selected.columns\n",
    "\n",
    "est_135 = sm.GLM(y_deaths_scaled, X_deaths_selected_scaled, family=sm.families.NegativeBinomial())\n",
    "est_135_fit = est_135.fit()\n",
    "print('AIC:', est_135_fit.aic)\n",
    "print('Summary:\\n', est_135_fit.summary())"
   ]
  },
  {
   "cell_type": "markdown",
   "metadata": {},
   "source": [
    "#### 1.3.6 Similar model as 1.3.5 + centered-log ratio transformed variants data to account for compositionality\n"
   ]
  },
  {
   "cell_type": "code",
   "execution_count": 20,
   "metadata": {},
   "outputs": [],
   "source": [
    "import skbio\n",
    "from skbio.stats.composition import clr\n",
    "\n",
    "## GLM for naive model\n",
    "\n",
    "## Load data like for OLS\n",
    "path_full = os.path.join(personal_path, \"Data/biweekly_imputed_old_fixed.csv\")\n",
    "df = pd.read_csv(path_full)\n",
    "\n",
    "## GLM software is sensitive to presence of any NAs, so remove these\n",
    "df_deaths = df.drop(['Unnamed: 0', 'date', 'iso_code','month_yr'], axis = 1)\n",
    "df_deaths.replace([np.inf, -np.inf], np.nan, inplace=True)\n",
    "df_deaths[df_deaths < 0] = np.nan  ## All the variables in the analysis are defined as having nonnegative values, so otherwise is an error\n",
    "# df_deaths['month_yr'] = df['month_yr'] ## FOR SOME REASON ADDING THIS LINE MESSES THINGS UP\n",
    "df_deaths.dropna(inplace=True)\n",
    "\n",
    "## \n",
    "y_deaths = df_deaths['new_deaths_smoothed_per_million']\n",
    "X_deaths = df_deaths.drop(['new_cases_smoothed_per_million', 'new_deaths_smoothed_per_million'], axis = 1)\n",
    "\n",
    "\n",
    "## CLR transformation\n",
    "for i in X_deaths.index:\n",
    "    X_deaths.loc[i,['non_who', 'Beta', 'Epsilon', 'Gamma', 'Kappa', 'Iota', 'Eta', 'Delta', 'Alpha','Lambda', 'Mu']] = clr(X_deaths.loc[i,['non_who', 'Beta', 'Epsilon', 'Gamma', 'Kappa', 'Iota', 'Eta', 'Delta', 'Alpha','Lambda', 'Mu']]/100+0.00001)\n"
   ]
  },
  {
   "cell_type": "code",
   "execution_count": 21,
   "metadata": {},
   "outputs": [
    {
     "name": "stderr",
     "output_type": "stream",
     "text": [
      "/Users/dprinster/anaconda3/envs/MachineLearning/lib/python3.9/site-packages/statsmodels/stats/outliers_influence.py:193: RuntimeWarning: divide by zero encountered in double_scalars\n",
      "  vif = 1. / (1. - r_squared_i)\n"
     ]
    },
    {
     "data": {
      "text/html": [
       "<div>\n",
       "<style scoped>\n",
       "    .dataframe tbody tr th:only-of-type {\n",
       "        vertical-align: middle;\n",
       "    }\n",
       "\n",
       "    .dataframe tbody tr th {\n",
       "        vertical-align: top;\n",
       "    }\n",
       "\n",
       "    .dataframe thead th {\n",
       "        text-align: right;\n",
       "    }\n",
       "</style>\n",
       "<table border=\"1\" class=\"dataframe\">\n",
       "  <thead>\n",
       "    <tr style=\"text-align: right;\">\n",
       "      <th></th>\n",
       "      <th>VIF Factor</th>\n",
       "      <th>features</th>\n",
       "    </tr>\n",
       "  </thead>\n",
       "  <tbody>\n",
       "    <tr>\n",
       "      <th>2</th>\n",
       "      <td>3.763400</td>\n",
       "      <td>people_fully_vaccinated_per_hundred</td>\n",
       "    </tr>\n",
       "    <tr>\n",
       "      <th>3</th>\n",
       "      <td>7.065768</td>\n",
       "      <td>new_vaccinations_smoothed_per_million</td>\n",
       "    </tr>\n",
       "    <tr>\n",
       "      <th>6</th>\n",
       "      <td>1.392361</td>\n",
       "      <td>population_density</td>\n",
       "    </tr>\n",
       "    <tr>\n",
       "      <th>9</th>\n",
       "      <td>9.149825</td>\n",
       "      <td>aged_70_older</td>\n",
       "    </tr>\n",
       "    <tr>\n",
       "      <th>10</th>\n",
       "      <td>5.423169</td>\n",
       "      <td>gdp_per_capita</td>\n",
       "    </tr>\n",
       "    <tr>\n",
       "      <th>11</th>\n",
       "      <td>1.679927</td>\n",
       "      <td>extreme_poverty</td>\n",
       "    </tr>\n",
       "    <tr>\n",
       "      <th>12</th>\n",
       "      <td>6.311538</td>\n",
       "      <td>cardiovasc_death_rate</td>\n",
       "    </tr>\n",
       "    <tr>\n",
       "      <th>13</th>\n",
       "      <td>6.963256</td>\n",
       "      <td>diabetes_prevalence</td>\n",
       "    </tr>\n",
       "    <tr>\n",
       "      <th>14</th>\n",
       "      <td>6.930366</td>\n",
       "      <td>female_smokers</td>\n",
       "    </tr>\n",
       "    <tr>\n",
       "      <th>15</th>\n",
       "      <td>9.077666</td>\n",
       "      <td>male_smokers</td>\n",
       "    </tr>\n",
       "    <tr>\n",
       "      <th>18</th>\n",
       "      <td>4.691012</td>\n",
       "      <td>daily_people_vaccinated_per_hundred</td>\n",
       "    </tr>\n",
       "    <tr>\n",
       "      <th>21</th>\n",
       "      <td>2.751188</td>\n",
       "      <td>Epsilon</td>\n",
       "    </tr>\n",
       "    <tr>\n",
       "      <th>22</th>\n",
       "      <td>1.805375</td>\n",
       "      <td>Gamma</td>\n",
       "    </tr>\n",
       "    <tr>\n",
       "      <th>23</th>\n",
       "      <td>3.115954</td>\n",
       "      <td>Kappa</td>\n",
       "    </tr>\n",
       "    <tr>\n",
       "      <th>24</th>\n",
       "      <td>3.405394</td>\n",
       "      <td>Iota</td>\n",
       "    </tr>\n",
       "    <tr>\n",
       "      <th>25</th>\n",
       "      <td>1.970709</td>\n",
       "      <td>Eta</td>\n",
       "    </tr>\n",
       "    <tr>\n",
       "      <th>26</th>\n",
       "      <td>3.772519</td>\n",
       "      <td>Delta</td>\n",
       "    </tr>\n",
       "    <tr>\n",
       "      <th>27</th>\n",
       "      <td>3.560246</td>\n",
       "      <td>Alpha</td>\n",
       "    </tr>\n",
       "    <tr>\n",
       "      <th>29</th>\n",
       "      <td>3.045180</td>\n",
       "      <td>Lambda</td>\n",
       "    </tr>\n",
       "    <tr>\n",
       "      <th>30</th>\n",
       "      <td>5.686452</td>\n",
       "      <td>Mu</td>\n",
       "    </tr>\n",
       "  </tbody>\n",
       "</table>\n",
       "</div>"
      ],
      "text/plain": [
       "    VIF Factor                               features\n",
       "2     3.763400    people_fully_vaccinated_per_hundred\n",
       "3     7.065768  new_vaccinations_smoothed_per_million\n",
       "6     1.392361                     population_density\n",
       "9     9.149825                          aged_70_older\n",
       "10    5.423169                         gdp_per_capita\n",
       "11    1.679927                        extreme_poverty\n",
       "12    6.311538                  cardiovasc_death_rate\n",
       "13    6.963256                    diabetes_prevalence\n",
       "14    6.930366                         female_smokers\n",
       "15    9.077666                           male_smokers\n",
       "18    4.691012    daily_people_vaccinated_per_hundred\n",
       "21    2.751188                                Epsilon\n",
       "22    1.805375                                  Gamma\n",
       "23    3.115954                                  Kappa\n",
       "24    3.405394                                   Iota\n",
       "25    1.970709                                    Eta\n",
       "26    3.772519                                  Delta\n",
       "27    3.560246                                  Alpha\n",
       "29    3.045180                                 Lambda\n",
       "30    5.686452                                     Mu"
      ]
     },
     "execution_count": 21,
     "metadata": {},
     "output_type": "execute_result"
    }
   ],
   "source": [
    "## Use variance inflation factors to remove variables with multicollinearity\n",
    "\n",
    "vif = pd.DataFrame()\n",
    "vif[\"VIF Factor\"] = [variance_inflation_factor(X_deaths.values, i) for i in range(X_deaths.shape[1])]\n",
    "vif[\"features\"] = X_deaths.columns\n",
    "\n",
    "## Use variance inflation factor threshold of 10\n",
    "while max(vif['VIF Factor']) > 10:\n",
    "    ## Drop the variable with highest VIF value\n",
    "    X_deaths.drop([vif.loc[vif['VIF Factor'].idxmax(),'features']], axis=1, inplace = True)\n",
    "    vif.drop([vif['VIF Factor'].idxmax()], axis=0, inplace = True)\n",
    "    vif[\"VIF Factor\"] = [variance_inflation_factor(X_deaths.values, i) for i in range(X_deaths.shape[1])]\n",
    "    \n",
    "vif"
   ]
  },
  {
   "cell_type": "code",
   "execution_count": 22,
   "metadata": {},
   "outputs": [],
   "source": [
    "## AIC is used for model selection with the \"stepAIC\" package in R. \n",
    "X_deaths['month_yr'] = df['month_yr']\n",
    "X_deaths = pd.get_dummies(X_deaths, drop_first=True)\n",
    "\n",
    "X_deaths.to_csv(personal_path + 'Data/GLM_Xdeaths_before_selection1.3.6.csv')\n",
    "y_deaths.to_csv(personal_path + 'Data/GLM_ydeaths_before_selection1.3.6.csv')\n",
    "\n",
    "# ## Model selection using AIC in R\n",
    "X_deaths_selected = X_deaths[['people_fully_vaccinated_per_hundred', 'population_density', 'aged_70_older', 'gdp_per_capita', 'diabetes_prevalence', 'female_smokers', 'male_smokers', 'Gamma', 'Eta', 'Delta', 'Alpha', 'Lambda', 'Mu', 'month_yr_03-2021', 'month_yr_04-2021', 'month_yr_05-2020', 'month_yr_05-2021', 'month_yr_06-2020', 'month_yr_06-2021', 'month_yr_07-2020', 'month_yr_07-2021', 'month_yr_08-2020', 'month_yr_08-2021', 'month_yr_09-2020', 'month_yr_09-2021', 'month_yr_10-2020', 'month_yr_10-2021', 'month_yr_11-2020']]\n"
   ]
  },
  {
   "cell_type": "code",
   "execution_count": 23,
   "metadata": {},
   "outputs": [
    {
     "name": "stdout",
     "output_type": "stream",
     "text": [
      "AIC: 2555.808803737261\n",
      "Summary:\n",
      "                  Generalized Linear Model Regression Results                  \n",
      "==============================================================================\n",
      "Dep. Variable:                      y   No. Observations:                 2151\n",
      "Model:                            GLM   Df Residuals:                     2123\n",
      "Model Family:        NegativeBinomial   Df Model:                           27\n",
      "Link Function:                    log   Scale:                          1.0000\n",
      "Method:                          IRLS   Log-Likelihood:                -1249.9\n",
      "Date:                Tue, 14 Dec 2021   Deviance:                       56888.\n",
      "Time:                        00:32:50   Pearson chi2:                 1.97e+05\n",
      "No. Iterations:                    93                                         \n",
      "Covariance Type:            nonrobust                                         \n",
      "=======================================================================================================\n",
      "                                          coef    std err          z      P>|z|      [0.025      0.975]\n",
      "-------------------------------------------------------------------------------------------------------\n",
      "people_fully_vaccinated_per_hundred    -0.3944      0.052     -7.519      0.000      -0.497      -0.292\n",
      "population_density                     -1.3254      0.130    -10.161      0.000      -1.581      -1.070\n",
      "aged_70_older                           0.1902      0.044      4.358      0.000       0.105       0.276\n",
      "gdp_per_capita                         -0.1469      0.042     -3.460      0.001      -0.230      -0.064\n",
      "diabetes_prevalence                     0.2331      0.032      7.177      0.000       0.169       0.297\n",
      "female_smokers                          0.1894      0.042      4.473      0.000       0.106       0.272\n",
      "male_smokers                            0.1661      0.035      4.776      0.000       0.098       0.234\n",
      "Gamma                                   0.1790      0.037      4.845      0.000       0.107       0.251\n",
      "Eta                                    -0.1782      0.037     -4.831      0.000      -0.250      -0.106\n",
      "Delta                                   0.0362      0.067      0.540      0.589      -0.095       0.168\n",
      "Alpha                                   0.1268      0.049      2.567      0.010       0.030       0.224\n",
      "Lambda                                  0.1672      0.036      4.676      0.000       0.097       0.237\n",
      "Mu                                      0.2293      0.044      5.266      0.000       0.144       0.315\n",
      "month_yr_03-2021                       -0.0978      0.032     -3.057      0.002      -0.161      -0.035\n",
      "month_yr_04-2021                       -0.0715      0.032     -2.211      0.027      -0.135      -0.008\n",
      "month_yr_05-2020                       -0.2194      0.036     -6.032      0.000      -0.291      -0.148\n",
      "month_yr_05-2021                       -0.1685      0.037     -4.510      0.000      -0.242      -0.095\n",
      "month_yr_06-2020                       -0.2372      0.036     -6.531      0.000      -0.308      -0.166\n",
      "month_yr_06-2021                       -0.2563      0.042     -6.114      0.000      -0.339      -0.174\n",
      "month_yr_07-2020                       -0.2681      0.038     -6.993      0.000      -0.343      -0.193\n",
      "month_yr_07-2021                       -0.3012      0.045     -6.720      0.000      -0.389      -0.213\n",
      "month_yr_08-2020                       -0.3343      0.039     -8.479      0.000      -0.412      -0.257\n",
      "month_yr_08-2021                       -0.1870      0.043     -4.379      0.000      -0.271      -0.103\n",
      "month_yr_09-2020                       -0.3200      0.039     -8.204      0.000      -0.396      -0.244\n",
      "month_yr_09-2021                       -0.1287      0.042     -3.032      0.002      -0.212      -0.045\n",
      "month_yr_10-2020                       -0.2474      0.035     -7.047      0.000      -0.316      -0.179\n",
      "month_yr_10-2021                       -0.0852      0.042     -2.032      0.042      -0.167      -0.003\n",
      "month_yr_11-2020                       -0.0530      0.030     -1.791      0.073      -0.111       0.005\n",
      "=======================================================================================================\n"
     ]
    }
   ],
   "source": [
    "from sklearn.preprocessing import StandardScaler\n",
    "\n",
    "scaler = StandardScaler()\n",
    "scaler_y = StandardScaler()\n",
    "y_deaths_scaled = scaler_y.fit_transform(np.array(y_deaths).reshape(-1,1))\n",
    "X_deaths_selected_scaled = pd.DataFrame(scaler.fit_transform(X_deaths_selected))\n",
    "X_deaths_selected_scaled.columns = X_deaths_selected.columns\n",
    "\n",
    "est_136 = sm.GLM(y_deaths_scaled, X_deaths_selected_scaled, family=sm.families.NegativeBinomial())\n",
    "est_136_fit = est_136.fit()\n",
    "print('AIC:', est_136_fit.aic)\n",
    "print('Summary:\\n', est_136_fit.summary())"
   ]
  },
  {
   "cell_type": "code",
   "execution_count": 24,
   "metadata": {},
   "outputs": [
    {
     "name": "stderr",
     "output_type": "stream",
     "text": [
      "/Users/dprinster/anaconda3/envs/MachineLearning/lib/python3.9/site-packages/statsmodels/graphics/gofplots.py:993: UserWarning: marker is redundantly defined by the 'marker' keyword argument and the fmt string \"bo\" (-> marker='o'). The keyword argument will take precedence.\n",
      "  ax.plot(x, y, fmt, **plot_style)\n",
      "/Users/dprinster/anaconda3/envs/MachineLearning/lib/python3.9/site-packages/statsmodels/graphics/gofplots.py:993: UserWarning: marker is redundantly defined by the 'marker' keyword argument and the fmt string \"bo\" (-> marker='o'). The keyword argument will take precedence.\n",
      "  ax.plot(x, y, fmt, **plot_style)\n"
     ]
    },
    {
     "data": {
      "image/png": "[encoded data removed]",
      "text/plain": [
       "<Figure size 1152x576 with 2 Axes>"
      ]
     },
     "metadata": {
      "needs_background": "light"
     },
     "output_type": "display_data"
    }
   ],
   "source": [
    "import scipy.stats as stats\n",
    "figure, ax = plt.subplots(1, 2,figsize=(16,8))\n",
    "figure.figsize=(8, 8)\n",
    "sm.qqplot(est_133_fit.resid_response, stats.norm, fit=True, line=\"45\", ax = ax[0])\n",
    "ax[0].set_title('Residual vs. Normal Quantile-Quantile Plot - GLM Cases Model')\n",
    "ax[0].set_ylabel('Sample Residual Quantiles')\n",
    "ax[0].set_xlabel('Theoretical Normal Quantiles')\n",
    "sm.qqplot(est_136_fit.resid_response, stats.norm, fit=True, line=\"45\", ax = ax[1])\n",
    "ax[1].set_title('Residual vs. Normal Quantile-Quantile Plot - GLM Deaths Model')\n",
    "ax[1].set_ylabel('Sample Residual Quantiles')\n",
    "ax[1].set_xlabel('Theoretical Normal Quantiles')\n",
    "plt.show()"
   ]
  },
  {
   "cell_type": "code",
   "execution_count": 25,
   "metadata": {},
   "outputs": [
    {
     "data": {
      "image/png": "[encoded data removed]",
      "text/plain": [
       "<Figure size 1152x576 with 2 Axes>"
      ]
     },
     "metadata": {
      "needs_background": "light"
     },
     "output_type": "display_data"
    }
   ],
   "source": [
    "figure, ax = plt.subplots(1, 2,figsize=(16,8))\n",
    "figure.figsize=(8, 8)\n",
    "ax[0].scatter(x = est_133_fit.fittedvalues, y = est_133_fit.resid_response, s=8, alpha=0.5)\n",
    "ax[0].set_title('Residual vs. Fitted Value - Cases Model')\n",
    "ax[0].set_ylabel('Residual Value')\n",
    "ax[0].set_xlabel('Fitted Value')\n",
    "ax[1].scatter(x = est_136_fit.fittedvalues, y = est_136_fit.resid_response, s=8, alpha=0.5)\n",
    "ax[1].set_title('Residual vs. Fitted Value - Deaths Model')\n",
    "ax[1].set_ylabel('Residual Value')\n",
    "ax[1].set_xlabel('Fitted Value')\n",
    "plt.show()"
   ]
  },
  {
   "cell_type": "markdown",
   "metadata": {
    "id": "YIbcM2D9-MOw"
   },
   "source": [
    "## Part 2: Recurrent Neural Networks"
   ]
  },
  {
   "cell_type": "markdown",
   "metadata": {
    "id": "oTvtryob-MOw"
   },
   "source": [
    "Given the time-stepped granularity of the COVID-19 data available, we experiment with recurrent neural networks in order to determine if there is a relationship between features collected over a certain time period and the change in COVID cases over the same time period. \n",
    "\n",
    "We use RNNs to model these temporal relationships. We choose RNNs because they are a class of neural network models that are applicable to time series forecasting, a machine learning task where training occurs over a set time period and prediction occurs over a separate time period following training [5]. \n",
    "\n",
    "We now use an RNN to examine if daily COVID-19 outcomes, specifically the number of new cases per million, can be forecasted using COVID-19 data from previous days. "
   ]
  },
  {
   "cell_type": "markdown",
   "metadata": {
    "id": "AHMmh4g2-MOx"
   },
   "source": [
    "### 2.1 Imputation Methodology"
   ]
  },
  {
   "cell_type": "code",
   "execution_count": 9,
   "metadata": {
    "id": "NExFOrGR-MOy"
   },
   "outputs": [],
   "source": [
    "from sklearn.model_selection import train_test_split\n",
    "from sklearn.experimental import enable_iterative_imputer\n",
    "from sklearn.impute import IterativeImputer\n",
    "from sklearn.linear_model import BayesianRidge\n",
    "import math\n",
    "from torch.utils.data import TensorDataset, DataLoader\n",
    "import torch\n",
    "import torch.nn as nn\n",
    "import torch.optim as optim\n",
    "import os\n",
    "personal_path = ''\n",
    "import pandas as pd\n",
    "import matplotlib.pyplot as plt\n",
    "import numpy as np"
   ]
  },
  {
   "cell_type": "markdown",
   "metadata": {
    "id": "7MElWY-x-MOz"
   },
   "source": [
    "Since variant data is available only for biweekly time increments and is missing for many countries, we exclude it. The other variables in our datasets are available for each individual day, so by considering these daily variables, we will be able to provide our models are larger data sample to learn from, instead of being limited by the biweekly variant data. \n",
    "\n",
    "Below, we visualize the missing data present in the dataset over each individual date rather than sampled biweekly."
   ]
  },
  {
   "cell_type": "code",
   "execution_count": 10,
   "metadata": {
    "colab": {
     "base_uri": "https://localhost:8080/",
     "height": 390
    },
    "id": "JszM7qpB-MOz",
    "outputId": "4b288e3b-a423-4c22-f15a-ea03eac46e28"
   },
   "outputs": [
    {
     "data": {
      "image/png": "[encoded data removed]",
      "text/plain": [
       "<Figure size 864x432 with 1 Axes>"
      ]
     },
     "metadata": {
      "needs_background": "light"
     },
     "output_type": "display_data"
    }
   ],
   "source": [
    "# Read data \n",
    "path_covid = os.path.join(personal_path, \"Data/full.csv\")\n",
    "df = pd.read_csv(path_covid)\n",
    "\n",
    "# Create plot showing the missingness of each feature\n",
    "plt.figure(figsize=(12, 6))\n",
    "plt.bar(x=np.arange(0, len(df.columns)), height = np.sort(df.isna().sum() / len(df))[::-1])\n",
    "plt.title('Proportion of Missingness in Each Feature')\n",
    "plt.show()"
   ]
  },
  {
   "cell_type": "markdown",
   "metadata": {
    "id": "PulSoo-B-MO1"
   },
   "source": [
    "As we found during development of the linear regression models, there are quite a few features that are almost entirely missing or have a high proportion of their data missing. We once again choose to remove these variables from our analysis because imputation is unlikely to provide accurate values for these features considering how much data is missing. We look at the drop off in missingness between the 34rd and 35th variable, which have about 80% and 60% missing data, respectively. As a result, we again choose a threshold of 65% missingness to remove variables with a lot of missing data. "
   ]
  },
  {
   "cell_type": "code",
   "execution_count": 11,
   "metadata": {
    "colab": {
     "base_uri": "https://localhost:8080/"
    },
    "id": "F3DKcaLt-MO2",
    "outputId": "c45c7a1d-c54b-4dad-e314-aeb58a84667f"
   },
   "outputs": [
    {
     "data": {
      "text/plain": [
       "Index(['iso_code', 'date', 'continent', 'location', 'total_cases', 'new_cases',\n",
       "       'new_cases_smoothed', 'total_deaths', 'new_deaths',\n",
       "       'new_deaths_smoothed', 'total_cases_per_million',\n",
       "       'new_cases_per_million', 'new_cases_smoothed_per_million',\n",
       "       'total_deaths_per_million', 'new_deaths_per_million',\n",
       "       'new_deaths_smoothed_per_million', 'reproduction_rate', 'new_tests',\n",
       "       'total_tests', 'total_tests_per_thousand', 'new_tests_per_thousand',\n",
       "       'new_tests_smoothed', 'new_tests_smoothed_per_thousand',\n",
       "       'positive_rate', 'tests_per_case', 'tests_units',\n",
       "       'new_vaccinations_smoothed', 'new_vaccinations_smoothed_per_million',\n",
       "       'new_people_vaccinated_smoothed',\n",
       "       'new_people_vaccinated_smoothed_per_hundred', 'stringency_index',\n",
       "       'population', 'population_density', 'median_age', 'aged_65_older',\n",
       "       'aged_70_older', 'gdp_per_capita', 'extreme_poverty',\n",
       "       'cardiovasc_death_rate', 'diabetes_prevalence', 'female_smokers',\n",
       "       'male_smokers', 'handwashing_facilities', 'hospital_beds_per_thousand',\n",
       "       'life_expectancy', 'human_development_index', 'daily_people_vaccinated',\n",
       "       'daily_people_vaccinated_per_hundred', 'daily_vaccinations',\n",
       "       'daily_vaccinations_per_million'],\n",
       "      dtype='object')"
      ]
     },
     "execution_count": 11,
     "metadata": {},
     "output_type": "execute_result"
    }
   ],
   "source": [
    "# Consider only columns with less than 65% missing data, for imputation viability\n",
    "df = df.loc[:, df.isna().sum() / len(df) < 0.65]\n",
    "df.columns"
   ]
  },
  {
   "cell_type": "markdown",
   "metadata": {
    "id": "zK7DOs_a-MO3"
   },
   "source": [
    "We prepare some additional columns to help with the construction of time series data that our RNN will need. The date column will now contain a DateTime object to represent the date that is already in the dataframe, and the date_delta column calculates the number of dates between each date and the earliest date in the dataframe."
   ]
  },
  {
   "cell_type": "code",
   "execution_count": 12,
   "metadata": {
    "id": "3cIZWLoo-MO3"
   },
   "outputs": [],
   "source": [
    "# Prepare datetime and create date_delta float variable.\n",
    "df['date'] = pd.to_datetime(df['date'])\n",
    "df['date_delta'] = (df['date'] - df['date'].min())  / np.timedelta64(1,'D')\n",
    "\n",
    "# Select the relevant predictors.\n",
    "df_sub = df[['date_delta','new_tests',\n",
    "       'total_tests', 'total_tests_per_thousand', 'new_tests_per_thousand',\n",
    "       'new_tests_smoothed', 'new_tests_smoothed_per_thousand',\n",
    "       'positive_rate',\n",
    "       'new_vaccinations_smoothed', 'new_vaccinations_smoothed_per_million',\n",
    "       'new_people_vaccinated_smoothed',\n",
    "       'new_people_vaccinated_smoothed_per_hundred','daily_people_vaccinated',\n",
    "       'daily_people_vaccinated_per_hundred', 'daily_vaccinations',\n",
    "       'daily_vaccinations_per_million']]\n",
    "y = df[['new_cases_per_million']] # This is the field we want to predict"
   ]
  },
  {
   "cell_type": "markdown",
   "metadata": {
    "id": "UBFINfiv-MO5"
   },
   "source": [
    "We provide a visualization of the missingness of features we include in the RNN. Each of these features has around 50-60% missingness, so imputation will be required to fill in the missing values. "
   ]
  },
  {
   "cell_type": "code",
   "execution_count": 13,
   "metadata": {
    "colab": {
     "base_uri": "https://localhost:8080/",
     "height": 622
    },
    "id": "1lL9Vr_v-MO5",
    "outputId": "8f8f8dbb-5d32-42d2-ab7c-adc1542e6b82"
   },
   "outputs": [
    {
     "data": {
      "image/png": "[encoded data removed]",
      "text/plain": [
       "<Figure size 864x432 with 1 Axes>"
      ]
     },
     "metadata": {
      "needs_background": "light"
     },
     "output_type": "display_data"
    }
   ],
   "source": [
    "# Create a plot of the missingness of each feature in our list of predictors.\n",
    "plt.figure(figsize=(12, 6))\n",
    "plt.bar(x=df_sub.columns, height = df_sub.isna().sum() / len(df_sub))\n",
    "plt.title('Proportion of Missingness in Each Feature')\n",
    "plt.xticks(rotation=90)\n",
    "plt.show()"
   ]
  },
  {
   "cell_type": "markdown",
   "metadata": {
    "id": "lWaI7yWU-MO6"
   },
   "source": [
    "We create an 80/10/10 training/dev/test split for our time-stepped dataset.\n",
    "\n",
    "We use similar imputation methods that are similar to the ones we used for the linear regression models. This includes an IterativeImputer to impute the predictor variables. We then fill the small percentage of missing y variables with a simple forward fill. "
   ]
  },
  {
   "cell_type": "code",
   "execution_count": 15,
   "metadata": {
    "colab": {
     "base_uri": "https://localhost:8080/"
    },
    "id": "CoO2ptIP-MO7",
    "outputId": "a8ca8c85-eb62-4b61-c623-2593be5d98a0"
   },
   "outputs": [
    {
     "name": "stderr",
     "output_type": "stream",
     "text": [
      "/usr/local/lib/python3.7/dist-packages/sklearn/impute/_iterative.py:701: ConvergenceWarning: [IterativeImputer] Early stopping criterion not reached.\n",
      "  ConvergenceWarning,\n"
     ]
    }
   ],
   "source": [
    "from sklearn.model_selection import train_test_split\n",
    "from sklearn.experimental import enable_iterative_imputer\n",
    "from sklearn.impute import IterativeImputer\n",
    "from sklearn.linear_model import BayesianRidge\n",
    "import torch.nn as nn\n",
    "\n",
    "# Test-train split\n",
    "train_X, validtest_X, train_y, validtest_y = train_test_split(df_sub, y, train_size = 0.8, random_state = 42, shuffle=False)\n",
    "valid_X, test_X, valid_y, test_y = train_test_split(validtest_X, validtest_y, train_size = 0.5, random_state = 42, shuffle=False)\n",
    "\n",
    "# Impute predictor variables using IterativeImputer\n",
    "imputer_split = IterativeImputer(estimator = BayesianRidge(), max_iter = 30, min_value = df_sub.min(axis=0), max_value = df_sub.max(axis=0), random_state=42)\n",
    "train_X_imputed = pd.DataFrame(imputer_split.fit_transform(train_X))\n",
    "valid_X_imputed = pd.DataFrame(imputer_split.transform(valid_X))\n",
    "test_X_imputed = pd.DataFrame(imputer_split.transform(test_X))\n",
    "train_X_imputed.columns = df_sub.columns\n",
    "valid_X_imputed.columns = df_sub.columns\n",
    "test_X_imputed.columns = df_sub.columns"
   ]
  },
  {
   "cell_type": "code",
   "execution_count": 16,
   "metadata": {
    "id": "E-At10y5-MO8"
   },
   "outputs": [],
   "source": [
    "# Impute response variable using forward fill\n",
    "train_y_imputed = train_y.fillna(method='ffill').fillna(0)\n",
    "valid_y_imputed = valid_y.fillna(method='ffill')\n",
    "test_y_imputed = test_y.fillna(method='ffill').fillna(0)"
   ]
  },
  {
   "cell_type": "markdown",
   "metadata": {
    "id": "RF5LV15N-MO9"
   },
   "source": [
    "Now that the data has been imputed, we scale the data. Scaling is important in neural networks to improve the speed and stability of training and to avoid exploding gradients [7]. In this case, we use the MinMaxScaler from sklearn to scale the data. This scaler transforms all values to a range of [0, 1]. "
   ]
  },
  {
   "cell_type": "code",
   "execution_count": 20,
   "metadata": {
    "id": "7jYmETys-MO-"
   },
   "outputs": [],
   "source": [
    "from sklearn.preprocessing import MinMaxScaler\n",
    "scaler = MinMaxScaler()\n",
    "X_train_arr = pd.DataFrame(scaler.fit_transform(train_X_imputed), columns=df_sub.columns)\n",
    "X_val_arr = pd.DataFrame(scaler.transform(valid_X_imputed), columns=df_sub.columns)\n",
    "X_test_arr = pd.DataFrame(scaler.transform(test_X_imputed), columns=df_sub.columns)"
   ]
  },
  {
   "cell_type": "code",
   "execution_count": 21,
   "metadata": {
    "id": "6Ow7KUIr-MO_"
   },
   "outputs": [],
   "source": [
    "# These variables now contain the scaled data\n",
    "y_train_arr = scaler.fit_transform(train_y_imputed)\n",
    "y_val_arr = scaler.transform(valid_y_imputed)\n",
    "y_test_arr = scaler.transform(test_y_imputed)"
   ]
  },
  {
   "cell_type": "markdown",
   "metadata": {
    "id": "yEoA7KcR-MPA"
   },
   "source": [
    "We split the data into time stepped data that our RNN model will be able to use. We provide the model with groups of 5 days of data, so the function `make_time_stepped()` takes a parameter of `t=5`. "
   ]
  },
  {
   "cell_type": "code",
   "execution_count": 22,
   "metadata": {
    "id": "XfpiF0rL-MPB"
   },
   "outputs": [],
   "source": [
    "# Function to organize the data into time series data for a given number of timesteps `t`\n",
    "def make_time_stepped(X, X_old, y, t):\n",
    "    X_new = []\n",
    "    y_new = []\n",
    "    for i in range(math.floor(len(y) / t)):\n",
    "        start_date = X_old.iloc[t*i]['date_delta']\n",
    "        data_side = X_old.iloc[t*i:t*i + t]['date_delta']\n",
    "        check_side = [start_date + j for j in range(t)]\n",
    "        equality_condition = (data_side == check_side).all()\n",
    "        if len(X.iloc[t*i:t*i + t]) == t:\n",
    "            if equality_condition:\n",
    "                y_new.append(y[t*i:t*i + t].sum()) #delta cases\n",
    "                X_new.append(X[t*i:t*i + t])\n",
    "    return X_new, np.array(y_new)"
   ]
  },
  {
   "cell_type": "code",
   "execution_count": 23,
   "metadata": {
    "id": "-coNuN_X-MPC"
   },
   "outputs": [],
   "source": [
    "t = 5\n",
    "train_X_timed, train_y_timed = make_time_stepped(X_train_arr, train_X_imputed, y_train_arr, t)\n",
    "valid_X_timed, valid_y_timed = make_time_stepped(X_val_arr, valid_X_imputed,y_val_arr, t)\n",
    "test_X_timed, test_y_timed = make_time_stepped(X_test_arr, test_X_imputed, y_test_arr, t)"
   ]
  },
  {
   "cell_type": "code",
   "execution_count": 24,
   "metadata": {
    "id": "xtZC6MBp-MPD"
   },
   "outputs": [],
   "source": [
    "train_X_timed = np.moveaxis(np.dstack(train_X_timed), 2, 0) #move batch dimension to the front\n",
    "valid_X_timed = np.moveaxis(np.dstack(valid_X_timed), 2, 0)\n",
    "test_X_timed = np.moveaxis(np.dstack(test_X_timed), 2, 0)"
   ]
  },
  {
   "cell_type": "markdown",
   "metadata": {
    "id": "qMgXq80e-MPF"
   },
   "source": [
    "Our dataset is finally prepared for training our models. "
   ]
  },
  {
   "cell_type": "markdown",
   "metadata": {
    "id": "ejN3DM6s-MPG"
   },
   "source": [
    "### 2.2 Recurrent Neural Network Models\n",
    "\n",
    "Our RNN code is adapted from [this tutorial [6]](https://towardsdatascience.com/building-rnn-lstm-and-gru-for-time-series-using-pytorch-a46e5b094e7b).\n",
    "\n",
    "Our first step is to make the training, validation, and test sets into tensors. We then combine the predictor variable tensors and response variable tensors into TensorDatasets and load the TensorDatasets into a DataLoader."
   ]
  },
  {
   "cell_type": "code",
   "execution_count": 26,
   "metadata": {
    "id": "6oqb6hEG-MPH"
   },
   "outputs": [],
   "source": [
    "from torch.utils.data import TensorDataset, DataLoader\n",
    "import torch\n",
    "batch_size = 64\n",
    "\n",
    "# Convert all feature and outcome numpy arrays into tensors\n",
    "train_features = torch.Tensor(train_X_timed)\n",
    "train_targets = torch.Tensor(train_y_timed)\n",
    "val_features = torch.Tensor(valid_X_timed)\n",
    "val_targets = torch.Tensor(valid_y_timed)\n",
    "test_features = torch.Tensor(test_X_timed)\n",
    "test_targets = torch.Tensor(test_y_timed)\n",
    "\n",
    "# Combine feature and outcome tensors into TensorDatasets\n",
    "train = TensorDataset(train_features, train_targets)\n",
    "val = TensorDataset(val_features, val_targets)\n",
    "test = TensorDataset(test_features, test_targets)\n",
    "\n",
    "# Load TensorDatasets into DataLoader\n",
    "train_loader = DataLoader(train, batch_size=batch_size, shuffle=False, drop_last=True)\n",
    "val_loader = DataLoader(val, batch_size=batch_size, shuffle=False, drop_last=True)\n",
    "test_loader = DataLoader(test, batch_size=batch_size, shuffle=False, drop_last=True)\n",
    "test_loader_one = DataLoader(test, batch_size=1, shuffle=False, drop_last=True)"
   ]
  },
  {
   "cell_type": "markdown",
   "metadata": {
    "id": "NY_HumbL-MPI"
   },
   "source": [
    "We then define the RNN model class, which includes parameters including an input dimension, output dimension (which will be 1 for us, since we are predicting one response variable, the # of new cases per million people), hidden dimension, layer dimension, and a dropout rate. The LSTM class takes similar parameters. We also define forward propagation methods for both classes."
   ]
  },
  {
   "cell_type": "code",
   "execution_count": 32,
   "metadata": {
    "id": "xeF45rFr-MPI"
   },
   "outputs": [],
   "source": [
    "\"\"\"\n",
    "RNN Model class\n",
    "\"\"\"\n",
    "class RNNModel(nn.Module):\n",
    "    def __init__(self, input_dim, hidden_dim, layer_dim, output_dim, dropout_prob, device):\n",
    "        super(RNNModel, self).__init__()\n",
    "        # Set hidden dimension and layer dimension\n",
    "        self.hidden_dim = hidden_dim\n",
    "        self.layer_dim = layer_dim\n",
    "        self.rnn = nn.RNN(input_dim, hidden_dim, layer_dim, batch_first=True, dropout=dropout_prob) # RNN layer\n",
    "        self.fc = nn.Linear(hidden_dim, output_dim)  # Fully connected layer\n",
    "    def forward(self, x):\n",
    "        h0 = torch.zeros(self.layer_dim, x.size(0), self.hidden_dim, device=device).requires_grad_()\n",
    "        out, h0 = self.rnn(x, h0.detach())\n",
    "        out = out[:, -1, :] # Last hidden goes thru\n",
    "        out = self.fc(out)\n",
    "        return out\n",
    "  \n",
    "\"\"\"\n",
    "LSTM Model class\n",
    "\"\"\"\n",
    "class LSTMModel(nn.Module):\n",
    "    def __init__(self, input_dim, hidden_dim, layer_dim, output_dim, dropout_prob, device):\n",
    "        super(LSTMModel, self).__init__()\n",
    "        # Set hidden dimension and layer dimension\n",
    "        self.hidden_dim = hidden_dim  \n",
    "        self.layer_dim = layer_dim  \n",
    "        self.lstm = nn.LSTM(input_dim, hidden_dim, layer_dim, batch_first=True, dropout=dropout_prob) # LSTM layer\n",
    "        self.fc = nn.Linear(hidden_dim, output_dim)  # Fully connected layer\n",
    "\n",
    "    def forward(self, x):\n",
    "        # Initialize hidden state and cell state with zeros\n",
    "        h0 = torch.zeros(self.layer_dim, x.size(0), self.hidden_dim, device=device).requires_grad_()\n",
    "        c0 = torch.zeros(self.layer_dim, x.size(0), self.hidden_dim, device=device).requires_grad_()\n",
    "        # Detach in order to allow for truncated backprop\n",
    "        out, (hn, cn) = self.lstm(x, (h0.detach(), c0.detach()))\n",
    "        out = out[:, -1, :]\n",
    "        out = self.fc(out)\n",
    "        return out"
   ]
  },
  {
   "cell_type": "code",
   "execution_count": 33,
   "metadata": {
    "id": "2CU6Cp8--MPV"
   },
   "outputs": [],
   "source": [
    "# Function to return the model corresponding to the provided string (either 'rnn' or 'lstm')\n",
    "def get_model(model, model_params):\n",
    "    models = {\n",
    "        \"rnn\": RNNModel,\n",
    "        \"lstm\": LSTMModel,\n",
    "    }\n",
    "    return models.get(model.lower())(**model_params)"
   ]
  },
  {
   "cell_type": "markdown",
   "metadata": {
    "id": "8LabvaK0-MPW"
   },
   "source": [
    "We set up GPU access. "
   ]
  },
  {
   "cell_type": "code",
   "execution_count": 34,
   "metadata": {
    "id": "iJK3nqHk-MPX"
   },
   "outputs": [],
   "source": [
    "device = \"cuda\" if torch.cuda.is_available() else \"cpu\""
   ]
  },
  {
   "cell_type": "markdown",
   "metadata": {
    "id": "6aWJP7iz-MPY"
   },
   "source": [
    "We create an Optimization class to examine the loss (given a loss function `loss_fn`, which will be mean squared error), perform back propagation, and update the parameters. It also zeros the gradients before finishing the training step between batches. In the `train()` function, the loss on training data is used to update parameters, and then the model at each epoch is evaluated used validation data. We define the `evaluate()` function so that predictions can be made for the test set of data. "
   ]
  },
  {
   "cell_type": "code",
   "execution_count": 35,
   "metadata": {
    "id": "Dfz3Nitu-MPY"
   },
   "outputs": [],
   "source": [
    "class Optimization:\n",
    "    def __init__(self, model, loss_fn, optimizer):\n",
    "        self.model = model\n",
    "        self.loss_fn = loss_fn\n",
    "        self.optimizer = optimizer\n",
    "        self.train_losses = []\n",
    "        self.val_losses = []\n",
    "    \n",
    "    def train_step(self, x, yreal):\n",
    "        self.model.train()\n",
    "        yhat = self.model(x)\n",
    "        loss = self.loss_fn(yreal.view(-1,1), yhat)\n",
    "        loss.backward() # backprop \n",
    "        self.optimizer.step() # update params\n",
    "        self.optimizer.zero_grad()\n",
    "        return loss.item()\n",
    "    \n",
    "    def train(self, train_loader, val_loader, model_path, batch_size=64, n_epochs=50, n_features=1):\n",
    "        for epoch in range(1, n_epochs + 1):\n",
    "            batch_losses = []\n",
    "            for x_batch, y_batch in train_loader:\n",
    "                x_batch = x_batch.view([batch_size, -1, n_features]).to(device)\n",
    "                y_batch = y_batch.to(device)\n",
    "                loss = self.train_step(x_batch, y_batch)\n",
    "                batch_losses.append(loss)\n",
    "            training_loss = np.mean(batch_losses)\n",
    "            self.train_losses.append(training_loss)\n",
    "\n",
    "            with torch.no_grad():\n",
    "                batch_val_losses = []\n",
    "                for x_val, y_val in val_loader:\n",
    "                    x_val = x_val.view([batch_size, -1, n_features]).to(device)\n",
    "                    y_val = y_val.to(device)\n",
    "                    self.model.eval()\n",
    "                    yhat = self.model(x_val)\n",
    "                    val_loss = self.loss_fn(y_val.view(-1,1), yhat).item()\n",
    "                    batch_val_losses.append(val_loss)\n",
    "                validation_loss = np.mean(batch_val_losses)\n",
    "                self.val_losses.append(validation_loss)\n",
    "\n",
    "            if (epoch % 50 == 0):\n",
    "                print(\n",
    "                    f\"[{epoch}/{n_epochs}] Training loss: {training_loss:.4f}\\t Validation loss: {validation_loss:.4f}\"\n",
    "                )\n",
    "\n",
    "        torch.save(self.model.state_dict(), model_path)\n",
    "    \n",
    "    def evaluate(self, test_loader, batch_size=1, n_features=1):\n",
    "        with torch.no_grad():\n",
    "            predictions = []\n",
    "            values = []\n",
    "            for x_test, y_test in test_loader:\n",
    "                x_test = x_test.view([batch_size, -1, n_features]).to(device)\n",
    "                y_test = y_test.to(device)\n",
    "                self.model.eval()\n",
    "                yhat = self.model(x_test)\n",
    "                predictions.append(yhat.cpu().numpy())\n",
    "                values.append(y_test.cpu().numpy())\n",
    "\n",
    "        return predictions, values\n",
    "    \n",
    "    def plot_losses(self):\n",
    "        plt.plot(self.train_losses, label=\"Training loss\")\n",
    "        plt.plot(self.val_losses, label=\"Validation loss\")\n",
    "        plt.legend()\n",
    "        plt.title(\"Losses\")\n",
    "        plt.show()\n",
    "        plt.close()"
   ]
  },
  {
   "cell_type": "markdown",
   "metadata": {
    "id": "5_o6yYtI-MPa"
   },
   "source": [
    "We experimented with a variety of settings for the model's parameters: `hidden_dim`, `layer_dim`, `dropout`, `n_epochs`, `learning_rate`, and `weight_decay`. For each model parameter setting, we passed the parameters to an RNN model. \n",
    "\n",
    "We used mean square error as our loss function, `loss_fn`, because it is a standard loss function for regression problems like ours. This loss function was used in the `Optimization` class. As part of training, we called the methods belonging to the `Optimization` class, including `train()`, which then executed the `train_step()` function to tune the model parameters. \n",
    "\n",
    "After training, we generate a plot of the losses over the epochs to show how training loss and validation loss changed with additional training. "
   ]
  },
  {
   "cell_type": "code",
   "execution_count": 37,
   "metadata": {
    "colab": {
     "base_uri": "https://localhost:8080/",
     "height": 385
    },
    "id": "gpF-K956-MPb",
    "outputId": "5f135d78-93b2-4339-e583-91684acb9133"
   },
   "outputs": [
    {
     "name": "stdout",
     "output_type": "stream",
     "text": [
      "[50/300] Training loss: 0.0080\t Validation loss: 0.0178\n",
      "[100/300] Training loss: 0.0075\t Validation loss: 0.0162\n",
      "[150/300] Training loss: 0.0063\t Validation loss: 0.0155\n",
      "[200/300] Training loss: 0.0057\t Validation loss: 0.0156\n",
      "[250/300] Training loss: 0.0055\t Validation loss: 0.0156\n",
      "[300/300] Training loss: 0.0054\t Validation loss: 0.0151\n"
     ]
    },
    {
     "data": {
      "image/png": "[encoded data removed]",
      "text/plain": [
       "<Figure size 432x288 with 1 Axes>"
      ]
     },
     "metadata": {
      "needs_background": "light"
     },
     "output_type": "display_data"
    }
   ],
   "source": [
    "input_dim = len(train_X.columns)\n",
    "output_dim = 1\n",
    "hidden_dim = 20\n",
    "layer_dim = 3\n",
    "dropout = 0.3\n",
    "n_epochs = 300 #train for more epochs\n",
    "learning_rate = 1e-3\n",
    "weight_decay = 1e-6\n",
    "\n",
    "model_params = {'input_dim': input_dim,\n",
    "                'hidden_dim' : hidden_dim,\n",
    "                'layer_dim' : layer_dim,\n",
    "                'output_dim' : output_dim,\n",
    "                'dropout_prob' : dropout,\n",
    "                'device': device}\n",
    "\n",
    "model = get_model('rnn', model_params)  # Pass the params to RNN model\n",
    "model = model.to(device)  # Change this line if you want a different model ('rnn')\n",
    "\n",
    "loss_fn = nn.MSELoss(reduction=\"mean\")\n",
    "optimizer = optim.Adam(model.parameters(), lr=learning_rate, weight_decay=weight_decay)\n",
    "\n",
    "opt = Optimization(model=model, loss_fn=loss_fn, optimizer=optimizer)\n",
    "opt.train(train_loader, val_loader, 'models/rnn_start.pt', batch_size=batch_size, n_epochs=n_epochs, n_features=input_dim)\n",
    "opt.plot_losses()"
   ]
  },
  {
   "cell_type": "code",
   "execution_count": 39,
   "metadata": {
    "id": "Oi74oz3U-MPc"
   },
   "outputs": [],
   "source": [
    "predictions_rnn, values_rnn = opt.evaluate(test_loader_one, batch_size=1, n_features=input_dim)"
   ]
  },
  {
   "cell_type": "code",
   "execution_count": 52,
   "metadata": {
    "colab": {
     "base_uri": "https://localhost:8080/",
     "height": 385
    },
    "id": "ZQmqnLCj-MPd",
    "outputId": "ab994ae3-f8bf-49ba-e49d-b29bdb9530cd"
   },
   "outputs": [
    {
     "name": "stdout",
     "output_type": "stream",
     "text": [
      "[50/300] Training loss: 0.0075\t Validation loss: 0.0172\n",
      "[100/300] Training loss: 0.0058\t Validation loss: 0.0147\n",
      "[150/300] Training loss: 0.0052\t Validation loss: 0.0148\n",
      "[200/300] Training loss: 0.0049\t Validation loss: 0.0149\n",
      "[250/300] Training loss: 0.0046\t Validation loss: 0.0141\n",
      "[300/300] Training loss: 0.0045\t Validation loss: 0.0142\n"
     ]
    },
    {
     "data": {
      "image/png": "[encoded data removed]",
      "text/plain": [
       "<Figure size 432x288 with 1 Axes>"
      ]
     },
     "metadata": {
      "needs_background": "light"
     },
     "output_type": "display_data"
    }
   ],
   "source": [
    "input_dim = len(train_X.columns)\n",
    "output_dim = 1\n",
    "hidden_dim = 20\n",
    "layer_dim = 3\n",
    "dropout = 0.3\n",
    "n_epochs = 300 #train for more epochs\n",
    "learning_rate = 1e-3\n",
    "weight_decay = 1e-6\n",
    "\n",
    "model_params = {'input_dim': input_dim,\n",
    "                'hidden_dim' : hidden_dim,\n",
    "                'layer_dim' : layer_dim,\n",
    "                'output_dim' : output_dim,\n",
    "                'dropout_prob' : dropout,\n",
    "                'device': device}\n",
    "\n",
    "model = get_model('lstm', model_params)  # Pass the params to RNN model\n",
    "model = model.to(device)  # Change this line if you want a different model ('rnn')\n",
    "\n",
    "loss_fn = nn.MSELoss(reduction=\"mean\")\n",
    "optimizer = optim.Adam(model.parameters(), lr=learning_rate, weight_decay=weight_decay)\n",
    "\n",
    "opt = Optimization(model=model, loss_fn=loss_fn, optimizer=optimizer)\n",
    "opt.train(train_loader, val_loader, 'models/lstm_start.pt', batch_size=batch_size, n_epochs=n_epochs, n_features=input_dim)\n",
    "opt.plot_losses()"
   ]
  },
  {
   "cell_type": "code",
   "execution_count": 59,
   "metadata": {
    "id": "3xMv_Keq-MPe"
   },
   "outputs": [],
   "source": [
    "predictions_lstm, values_lstm = opt.evaluate(test_loader_one, batch_size=1, n_features=input_dim)"
   ]
  },
  {
   "cell_type": "markdown",
   "metadata": {
    "id": "Q66irR5O-MPg"
   },
   "source": [
    "We obtain predictions on the test data using the final, trained model. With these predictions, we can then further examine the performance of the model by looking at its performance on data it has never seen before. "
   ]
  },
  {
   "cell_type": "markdown",
   "metadata": {
    "id": "u1B32vem-MPh"
   },
   "source": [
    "We calculate a few metrics to assess model performance: mean absolute error, mean squared error, and $r^2$.\n",
    "The MAE computes the average absolute error between all predictions, the MSE computes the average squared error between all predictions, and $r^2$ measures how much of the variance of the predictions is accounted for by the actual outcomes."
   ]
  },
  {
   "cell_type": "code",
   "execution_count": 60,
   "metadata": {
    "id": "53rezAvU-MPi"
   },
   "outputs": [],
   "source": [
    "from sklearn.metrics import mean_absolute_error, mean_squared_error, r2_score\n",
    "def inverse_transform(scaler, df, columns):\n",
    "    for col in columns:\n",
    "        df[col] = scaler.inverse_transform(df[col])\n",
    "    return df\n",
    "\n",
    "def format_predictions(predictions, values, df_test):\n",
    "    vals = np.concatenate(values, axis=0).ravel()\n",
    "    preds = np.concatenate(predictions, axis=0).ravel()\n",
    "    df_result = pd.DataFrame(data={\"value\": vals, \"prediction\": preds}, index=df_test.head(len(vals)).index)\n",
    "    df_result = df_result.sort_index()\n",
    "    df_result = inverse_transform(scaler, df_result, [[\"value\", \"prediction\"]])\n",
    "    return df_result\n",
    "\n",
    "def calculate_metrics(df):\n",
    "    return {'mae' : mean_absolute_error(df.value, df.prediction),\n",
    "            'rmse' : mean_squared_error(df.value, df.prediction) ** 0.5,\n",
    "            'r2' : r2_score(df.value, df.prediction)}\n",
    "\n",
    "df_result_rnn = format_predictions(predictions_rnn, values_rnn, test_X)\n",
    "df_result_lstm = format_predictions(predictions_lstm, values_lstm, test_X)\n",
    "result_metric_rnn = calculate_metrics(df_result_rnn)\n",
    "result_metric_lstm = calculate_metrics(df_result_lstm)"
   ]
  },
  {
   "cell_type": "code",
   "execution_count": 61,
   "metadata": {
    "colab": {
     "base_uri": "https://localhost:8080/"
    },
    "id": "to9V6GEH-MPk",
    "outputId": "19f6d267-4cc6-4553-ca54-fbe1e1b8a526"
   },
   "outputs": [
    {
     "data": {
      "text/plain": [
       "{'mae': 244.67577, 'r2': 0.4982757023967306, 'rmse': 479.21706981283546}"
      ]
     },
     "execution_count": 61,
     "metadata": {},
     "output_type": "execute_result"
    }
   ],
   "source": [
    "result_metric_rnn"
   ]
  },
  {
   "cell_type": "code",
   "execution_count": 62,
   "metadata": {
    "colab": {
     "base_uri": "https://localhost:8080/"
    },
    "id": "w2EaKFBK-MPl",
    "outputId": "5cf267ab-5430-4376-c4a6-90b473338541"
   },
   "outputs": [
    {
     "data": {
      "text/plain": [
       "{'mae': 279.5265, 'r2': 0.4591489892720766, 'rmse': 497.5520858412715}"
      ]
     },
     "execution_count": 62,
     "metadata": {},
     "output_type": "execute_result"
    }
   ],
   "source": [
    "result_metric_lstm"
   ]
  },
  {
   "cell_type": "markdown",
   "metadata": {
    "id": "OlgS6TKy-MPm"
   },
   "source": [
    "# References\n",
    "[1] Lucas Rodés-Guirao Cameron Appel Charlie Giattino Esteban Ortiz-Ospina Joe Hasell Bobbie Macdonald Diana Beltekian Hannah Ritchie,Edouard Mathieu and Max Roser. Coronavirus pandemic (COVID-19). Our World in Data, 2020. https://ourworldindata.org/coronavirus.\n",
    "\n",
    "[2] Alistair C Darby and Julian A Hiscox. COVID-19: variants and vaccination. BMJ, 372, 2021.\n",
    "\n",
    "[3] Chris Davis, Nicola Logan, Grace Tyson, Richard Orton, William Harvey, John Haughney, Jon Perkins, The COVID-19 Genomics UK (COG-UK) Consortium, Thomas P. Peacock, Wendy S. Barclay, Peter Cherepanov, Massimo Palmarini, Pablo R. Murcia, Arvind H. Patel, David L. Robertson, Emma C. Thomson, Brian J. Willett, and on behalf of the COVID-19 Deployed Vaccine (DOVE) Cohort Study investigators. Reduced neutralisation of the delta (b.1.617.2) Sars-cov-2 variant of concern following vaccination. medRxiv, 2021.\n",
    "\n",
    "[4] Our World in Data. (2021). owid/covid-19-data. GitHub. Retrieved November 7, 2021, from https://github.com/owid/covid-19-data/tree/master/public/data. \n",
    "\n",
    "[5] Ahmed Tealab. Time series forecasting using artificial neural networks methodologies: A systematic review. Future Computing and InformaticsJournal, 3(2):334–340, 2018.\n",
    "\n",
    "[6] Kuguoglu, K. (2021, April 14). Building RNN, LSTM, and GRU for time series using pytorch. Towards Data Science. Retrieved December 4, 2021, from https://towardsdatascience.com/building-rnn-lstm-and-gru-for-time-series-using-pytorch-a46e5b094e7b. \n",
    "\n",
    "[7] Brownlee, J. (2020, August 25). How to use data scaling improve deep learning model stability and performance. Machine Learning Mastery. Retrieved December 7, 2021, from https://machinelearningmastery.com/how-to-improve-neural-network-stability-and-modeling-performance-with-data-scaling/. "
   ]
  }
 ],
 "metadata": {
  "accelerator": "GPU",
  "colab": {
   "name": "Final Project Notebook.ipynb",
   "provenance": []
  },
  "interpreter": {
   "hash": "f57d059d73ef4c451aada0e88ab41d26f66829c8e281233aea39c2964aa7cb46"
  },
  "kernelspec": {
   "display_name": "Python 3 (ipykernel)",
   "language": "python",
   "name": "python3"
  },
  "language_info": {
   "codemirror_mode": {
    "name": "ipython",
    "version": 3
   },
   "file_extension": ".py",
   "mimetype": "text/x-python",
   "name": "python",
   "nbconvert_exporter": "python",
   "pygments_lexer": "ipython3",
   "version": "3.8.11"
  }
 },
 "nbformat": 4,
 "nbformat_minor": 4
}
