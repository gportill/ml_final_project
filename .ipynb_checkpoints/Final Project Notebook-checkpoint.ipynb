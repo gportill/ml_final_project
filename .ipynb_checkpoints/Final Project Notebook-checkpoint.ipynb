{
 "cells": [
  {
   "cell_type": "markdown",
   "metadata": {},
   "source": [
    "# Introduction"
   ]
  },
  {
   "cell_type": "code",
   "execution_count": null,
   "metadata": {},
   "outputs": [],
   "source": []
  },
  {
   "cell_type": "code",
   "execution_count": null,
   "metadata": {},
   "outputs": [],
   "source": []
  },
  {
   "cell_type": "markdown",
   "metadata": {},
   "source": [
    "### Initial Data Cleaning"
   ]
  },
  {
   "cell_type": "code",
   "execution_count": 60,
   "metadata": {},
   "outputs": [],
   "source": [
    "import numpy as np\n",
    "import pandas as pd\n",
    "import matplotlib.pyplot as plt\n",
    "import os\n",
    "\n",
    "#csv files were pulled at 12:30pm 11/21/2021\n",
    "\n",
    "#set if needed\n",
    "personal_path = ''\n",
    "\n",
    "#get paths to csv files in google drive\n",
    "path_vaccine = os.path.join(personal_path, \"Data/vaccinations.csv\")\n",
    "path_covid = os.path.join(personal_path, \"Data/owid-covid-data.csv\")\n",
    "path_variant = os.path.join(personal_path, \"Data/covid-variants-area.csv\")\n",
    "\n",
    "#load csv files to dataframes\n",
    "vaccine = pd.read_csv(path_vaccine)\n",
    "covid = pd.read_csv(path_covid)\n",
    "variant = pd.read_csv(path_variant)\n",
    "\n",
    "#change date columns to datetime objects\n",
    "vaccine['date'] = vaccine['date'].astype('datetime64[ns]')\n",
    "covid['date'] = covid['date'].astype('datetime64[ns]')\n",
    "variant['Day'] = variant['Day'].astype('datetime64[ns]')\n",
    "\n",
    "#set multi-level indices, remove duplicate dates in variant data frame\n",
    "vaccine.set_index(['iso_code','date'], inplace = True)\n",
    "covid.set_index(['iso_code','date'], inplace = True)\n",
    "variant.rename(columns = {'Code':'iso_code', 'Day':'date'}, inplace=True)\n",
    "variant = variant.groupby(['iso_code','date'], as_index=False).mean()\n",
    "variant.set_index(['iso_code','date'], inplace = True)\n",
    "\n",
    "#join data frames\n",
    "non_dupes = vaccine.columns.difference(covid.columns)\n",
    "full = covid.join(vaccine[non_dupes], how='outer', lsuffix='_covid', rsuffix='_vaccine')\n",
    "full = full.join(variant, how='outer')\n",
    "\n",
    "#sort data frame using multi-level index\n",
    "full.sort_values(by = ['iso_code','date'], ascending=True, inplace = True)\n",
    "\n",
    "#save joined data set to a csv\n",
    "full.to_csv(os.path.join(personal_path, 'Data/full.csv'), sep=',')"
   ]
  },
  {
   "cell_type": "markdown",
   "metadata": {},
   "source": [
    "# Part 1: Regression Models"
   ]
  },
  {
   "cell_type": "markdown",
   "metadata": {},
   "source": [
    "### Imputation Methodology"
   ]
  },
  {
   "cell_type": "markdown",
   "metadata": {},
   "source": [
    "Our goal is to form two linear regression models, one which predicts the number of new cases per million and another which predicts the number of new deaths per million in a given country. We are particularly interested in understanding the influence which the prevalence of specific variants has on our response variables. Thus, we limit our analysis to only those rows containing variant level data which is published on a roughly biweekly basis. We load in the data set in the cell below, removing columns that are redunadant and not scaled by the country's population size."
   ]
  },
  {
   "cell_type": "code",
   "execution_count": 61,
   "metadata": {
    "tags": []
   },
   "outputs": [],
   "source": [
    "path_full = os.path.join(personal_path, \"Data/full.csv\")\n",
    "df = pd.read_csv(path_full)\n",
    "full.reset_index(inplace = True)\n",
    "df.head()\n",
    "df.drop(['continent','location','total_cases','new_cases','new_cases_smoothed','total_deaths','new_deaths',\n",
    "         'new_deaths_smoothed','new_cases_per_million','new_deaths_per_million',\n",
    "         'icu_patients','hosp_patients','weekly_icu_admissions','total_tests','new_tests',\n",
    "         'new_tests_per_thousand','new_tests_smoothed','total_vaccinations','weekly_hosp_admissions',\n",
    "         'people_vaccinated','people_fully_vaccinated','total_boosters','new_vaccinations',\n",
    "         'new_vaccinations_smoothed','new_people_vaccinated_smoothed','excess_mortality_cumulative',\n",
    "         'excess_mortality_cumulative_absolute','daily_people_vaccinated','daily_vaccinations',\n",
    "         'daily_vaccinations_raw','tests_units','Year'], axis=1, inplace=True)\n",
    "\n",
    "#get biweekly data\n",
    "df = df[df['Alpha'].notna()]"
   ]
  },
  {
   "cell_type": "markdown",
   "metadata": {},
   "source": [
    "Prior to model creation we must first examine the role which missing data plays in our data set. We begin this analysis by first examining the proportion of rows which contain missing data for each feature. "
   ]
  },
  {
   "cell_type": "code",
   "execution_count": 62,
   "metadata": {},
   "outputs": [
    {
     "data": {
      "image/png": "[encoded data removed]",
      "text/plain": [
       "<Figure size 864x432 with 1 Axes>"
      ]
     },
     "metadata": {
      "needs_background": "light"
     },
     "output_type": "display_data"
    }
   ],
   "source": [
    "plt.figure(figsize=(12, 6))\n",
    "plt.bar(x=np.arange(0, len(df.columns)), height = np.sort(df.isna().sum() / len(df))[::-1])\n",
    "plt.title('Proportion of Missingness in Each Feature')\n",
    "plt.show()"
   ]
  },
  {
   "cell_type": "markdown",
   "metadata": {},
   "source": [
    "We see that a number of features are almost entirely missing. These features should be removed from consideration as dropping all rows in which the feature is missing will result in a substantial reduction in our data set's size and imputation methods will likely be wildly inaccurate. Observing the bar chart we see a substantial drop off in the proportion of missingness between the sixth and seventh most missing features. To drop the 6 most missing features we use a threshold of 65%."
   ]
  },
  {
   "cell_type": "code",
   "execution_count": 63,
   "metadata": {},
   "outputs": [],
   "source": [
    "df = df.loc[:, df.isna().sum() / len(df) < 0.65]"
   ]
  },
  {
   "cell_type": "markdown",
   "metadata": {},
   "source": [
    "Now we must determine if the data is Missing Completly at Random (MCAR). If it is we can safetly drop the rows containing missing data and conduct our analysis on the rows which remain. To make this detirmination we first a create a binary column for each feature which denotes missingness. Using our notation from lecture these columns encode the $R_i$."
   ]
  },
  {
   "cell_type": "code",
   "execution_count": 64,
   "metadata": {
    "tags": []
   },
   "outputs": [],
   "source": [
    "df_missing = df.copy()\n",
    "\n",
    "#create the R_i columns\n",
    "Ri = []\n",
    "for column in df_missing.columns:\n",
    "    df_missing[str(column) + '_na'] = pd.isna(df[column]).astype(int)\n",
    "\n",
    "#remove Ri columns corresponding to non-missing/fully observed features\n",
    "df_missing = df_missing.loc[:, (df_missing != 0).any(axis=0)]\n",
    "Ri = df_missing.columns[46:]"
   ]
  },
  {
   "cell_type": "markdown",
   "metadata": {},
   "source": [
    "Next we look to see if there is a correlation between the country and what data is missing. Since both the country and the $R_i$ are categorical variables this can be done with a hypothesis test known as a $\\chi^2$-contigency test. The null hypothesis of this test is $H_0$: the variables are independent. In the below cell we perform 33 such tests, one for every $R_i$."
   ]
  },
  {
   "cell_type": "code",
   "execution_count": 65,
   "metadata": {},
   "outputs": [
    {
     "name": "stdout",
     "output_type": "stream",
     "text": [
      "[0.0, 0.0, 0.0, 0.0, 4.2864243497420654e-262, 0.0, 0.0, 2.119028712327211e-289, 5.824784229582191e-288, 0.0, 0.0, 2.768530927737676e-47, 4.558514093853946e-57, 2.1018706060787444e-55, 7.335415174573336e-19, 1.4935869467241454e-19, 1.347144515122251e-301, 3.001463581317831e-45, 3.001463581317831e-45, 3.524780348645179e-298, 3.524780348645179e-298, 3.524780348645179e-298, 2.9254958800787275e-274, 0.0, 0.0, 3.524780348645179e-298, 0.0, 0.0, 0.0, 2.807667089726142e-166, 0.0, 1.4935869467241454e-19, 7.335415174573336e-19]\n"
     ]
    }
   ],
   "source": [
    "import scipy.stats as ss\n",
    "\n",
    "p_vals = []\n",
    "for col in Ri:\n",
    "    M = pd.crosstab(df_missing['iso_code'], df_missing[col])\n",
    "    p_vals.append(ss.chi2_contingency(M)[1])\n",
    "print(p_vals)"
   ]
  },
  {
   "cell_type": "markdown",
   "metadata": {},
   "source": [
    "All of the p-values are extraordinarily small, practically zero. This means that every feature's missingness is correlated with the country. To be more formal we should utilize a Bonferroni Correction for simulatenous inference. Thus, instead of conducting the test at a 95% confidence level which corresponds to $\\alpha = 0.05$ we instead use $\\alpha = \\frac{0.05}{33} = 0.0016.$ However, even with this correction every p-value falls below the 0.0016 threshold."
   ]
  },
  {
   "cell_type": "markdown",
   "metadata": {},
   "source": [
    "We are also interested in detirmining if any of the continuous features are correlated with missingness. To make this detirmination we employ a Kruskal-Wallace test which takes in a quantitative and categorigal variable, splits the quantitative variable into groups based on the categorical variable's value and attempts to determine if the medians of the quantitative variables in each group differ significantly from each other. The null hypohtesis is $H_0$: medians of the groups are the same."
   ]
  },
  {
   "cell_type": "code",
   "execution_count": 66,
   "metadata": {},
   "outputs": [
    {
     "data": {
      "image/png": "[encoded data removed]",
      "text/plain": [
       "<Figure size 576x576 with 2 Axes>"
      ]
     },
     "metadata": {
      "needs_background": "light"
     },
     "output_type": "display_data"
    }
   ],
   "source": [
    "#drop categorical features\n",
    "df_missing.drop(['iso_code','date'], axis=1, inplace = True)\n",
    "#columns of quantitative features\n",
    "quant_cols = df_missing.columns[:44]\n",
    "#initialize data structure to hold p-values\n",
    "arr = np.zeros((len(Ri), len(quant_cols)))\n",
    "for i, missing_col in enumerate(Ri):\n",
    "    for j, old_col in enumerate(quant_cols):\n",
    "        #remove rows in which the quantitative predictor is missing\n",
    "        df_sub = df_missing[df_missing[old_col].notna()]\n",
    "        #group by the R_i into those rows with 0 and those with 1\n",
    "        g = df_sub.groupby(missing_col)\n",
    "        val_list = []\n",
    "        for val in df_sub[missing_col].unique():\n",
    "          #get the quantitative column of interest for each group\n",
    "          val_list.append(g.get_group(val)[old_col])\n",
    "        #if neither group is empty\n",
    "        if len(val_list) > 1: arr[i,j] = ss.kruskal(*val_list).pvalue\n",
    "        else: arr[i,j] = -1\n",
    "\n",
    "missingness_corr = pd.DataFrame(arr)\n",
    "\n",
    "plt.figure(figsize=(8, 8))\n",
    "plt.imshow(missingness_corr, cmap =\"RdYlBu\")\n",
    "plt.colorbar()\n",
    "plt.title('Heatmap of Kruskal-Wallace P-Values')\n",
    "plt.show()"
   ]
  },
  {
   "cell_type": "markdown",
   "metadata": {},
   "source": [
    "In the above heat map each cell corresponds to the p-value of a single Kruskal-Wallace test between a quantitative feature and an $R_i$. The dark red cells correspond to p-values of -1 which denote instances where the Kruskal-Wallace test could not be completed because the $R_i$ was always 0 or always 1 when the quantitative feature was present. The pale yellow cells denote near zero p-values of which there are many. These cells denote combinations of quantititave features and $R_i$ which are highly correlated. Thus, through quick visual inspection we can detirmine that there is a lot of correlation between the $R_i$ and observed data in the data set."
   ]
  },
  {
   "cell_type": "markdown",
   "metadata": {},
   "source": [
    "Through the above analysis we can firmly conclude that our data is not MCAR and so we cannot drop rows which contain missing data. This is because the data's missingness is highly correlated with the observed data. Instead we will assume for the purposes of our further analysis that our data is MAR and leverage imputation techniques to make educated guesses about the values of the underlying $X_i^{(1)}$"
   ]
  },
  {
   "cell_type": "markdown",
   "metadata": {},
   "source": [
    "Simple imputation techniques such as filling in missing values with the feature's mean, median, or mode are unlikely to sufficient given the complexity and amount of missingness present in the data set. Feed-forward imputation in which missing data is imputed with the feature's value in the last row it was present could potentially yeild usable results since our data has a time series component. However, such a technique fails to leverage information about the observed data which could have strong predictive capabilities. K-Nearest Neighbors imputation, in which missing data is filled with the data of similar/nearby points was also considered. However, while such a technique does indeed leverage observed data KNN, is not ideal in high dimensional situations such as ours since \"all points in high dimensions are lonely,\" the curse of dimensionality strikes again! Finally, we considered a iterative linear regression imputation approach in which each feature with missing data is fitted with a linear regression model which uses the other features as predicters. This is done iteratively, over many rounds, until convergence. This approach allows us to leverage our observed data while not succumbing to the curse of dimensionality."
   ]
  },
  {
   "cell_type": "markdown",
   "metadata": {},
   "source": [
    "The iterative linear regression approach is implmented in the cell below. Note that dummy variables are created for country and month/year to give the imputation model more predictive ability. Furthermore, we use our knowledge about vaccine rollout to make educated desicions about some features. For example, all values for the feature \"total_vaccinations_per_hundred\" in rows corresponding to dates prior to December, 2020 are manually set to 0. We impute the data set in its entirety and also training and testing sets, being to sure to fit the imputer using the training set prior to imputing the testing set to prevent data leakage. Lastly, because this data will be used in a linear regression model we drop any columns associated with the response to ensure that are predictors are not imputed with information from the response and vice versa."
   ]
  },
  {
   "cell_type": "code",
   "execution_count": 67,
   "metadata": {},
   "outputs": [],
   "source": [
    "#remove rows with missing response\n",
    "df = df[df['new_cases_smoothed_per_million'].notna()]\n",
    "df = df[df['new_deaths_smoothed_per_million'].notna()]\n",
    "\n",
    "#set vaccine data for dates prior to December, 2020 to 0\n",
    "df['date'] = pd.to_datetime(df['date'])\n",
    "df.loc[df['date'] < pd.Timestamp('2020-12-01 12:00:00'), ['total_vaccinations_per_hundred', \n",
    "                                                          'people_vaccinated_per_hundred',\n",
    "                                                          'people_fully_vaccinated_per_hundred',\n",
    "                                                          'new_vaccinations_smoothed_per_million',\n",
    "                                                          'new_people_vaccinated_smoothed_per_hundred',\n",
    "                                                          'daily_people_vaccinated_per_hundred',\n",
    "                                                         'daily_vaccinations_per_million']] = 0\n",
    "\n",
    "#create a column denoting month/year\n",
    "df['month_yr'] = df['date'].apply(lambda x: x.strftime('%m-%Y'))\n",
    "\n",
    "#drop columns associated with response\n",
    "df = df.drop(['total_cases_per_million','total_deaths_per_million','total_tests_per_thousand',\n",
    "              'positive_rate','tests_per_case','hospital_beds_per_thousand','icu_patients_per_million',\n",
    "              'hosp_patients_per_million','month_yr','population','reproduction_rate','new_tests_smoothed_per_thousand'], axis = 1)"
   ]
  },
  {
   "cell_type": "code",
   "execution_count": 68,
   "metadata": {},
   "outputs": [
    {
     "name": "stderr",
     "output_type": "stream",
     "text": [
      "C:\\Users\\tropi\\anaconda3\\lib\\site-packages\\sklearn\\impute\\_iterative.py:685: ConvergenceWarning: [IterativeImputer] Early stopping criterion not reached.\n",
      "  warnings.warn(\"[IterativeImputer] Early stopping criterion not\"\n",
      "C:\\Users\\tropi\\anaconda3\\lib\\site-packages\\sklearn\\impute\\_iterative.py:685: ConvergenceWarning: [IterativeImputer] Early stopping criterion not reached.\n",
      "  warnings.warn(\"[IterativeImputer] Early stopping criterion not\"\n"
     ]
    }
   ],
   "source": [
    "from sklearn.model_selection import train_test_split\n",
    "from sklearn.experimental import enable_iterative_imputer\n",
    "from sklearn.impute import IterativeImputer\n",
    "from sklearn.linear_model import BayesianRidge\n",
    "\n",
    "#split into a training and testing set\n",
    "train, test = train_test_split(df, train_size = 0.8, random_state = 42)\n",
    "df.reset_index(drop=True, inplace = True)\n",
    "train.reset_index(drop=True, inplace = True)\n",
    "test.reset_index(drop=True, inplace = True)\n",
    "\n",
    "#save these columns for later\n",
    "date = df['date']\n",
    "iso_code = df['iso_code']\n",
    "cases = df['new_cases_smoothed_per_million']\n",
    "deaths = df['new_deaths_smoothed_per_million'] \n",
    "\n",
    "train_date = train['date']\n",
    "train_iso_code = train['iso_code']\n",
    "train_cases = train['new_cases_smoothed_per_million']\n",
    "train_deaths = train['new_deaths_smoothed_per_million'] \n",
    "\n",
    "test_date = test['date']\n",
    "test_iso_code = test['iso_code']\n",
    "test_cases = test['new_cases_smoothed_per_million']\n",
    "test_deaths = test['new_deaths_smoothed_per_million'] \n",
    "                   \n",
    "#drop response columns\n",
    "df = df.drop(['new_cases_smoothed_per_million', 'new_deaths_smoothed_per_million'], axis = 1)\n",
    "train = train.drop(['new_cases_smoothed_per_million', 'new_deaths_smoothed_per_million'], axis = 1)\n",
    "test = test.drop(['new_cases_smoothed_per_million', 'new_deaths_smoothed_per_million'], axis = 1)\n",
    "\n",
    "#drop date columns\n",
    "df.drop('date', axis=1, inplace=True)\n",
    "train.drop('date', axis=1, inplace=True)\n",
    "test.drop('date', axis=1, inplace=True)\n",
    "\n",
    "#create dummy variables for categorical variables\n",
    "df_dummy = pd.get_dummies(df, drop_first=True)\n",
    "train_dummy = pd.get_dummies(train, drop_first=True)\n",
    "test_dummy = pd.get_dummies(test, drop_first=True)\n",
    "\n",
    "#drop dummy variables that do not appear in both train and test set\n",
    "test_dummy.drop(list(set(test_dummy.columns.tolist()) - set(train_dummy.columns.tolist())), axis = 1, inplace = True)\n",
    "train_dummy.drop(list(set(train_dummy.columns.tolist()) - set(test_dummy.columns.tolist())), axis = 1, inplace = True)\n",
    "\n",
    "#imputed full data set\n",
    "imputer = IterativeImputer(estimator = BayesianRidge(), max_iter = 10, min_value = df_dummy.min(axis=0), max_value = df_dummy.max(axis=0), random_state=42)\n",
    "df_imputed_full = pd.DataFrame(imputer.fit_transform(df_dummy))\n",
    "\n",
    "#imputed train/test split data\n",
    "imputer_split = IterativeImputer(estimator = BayesianRidge(), max_iter = 10, min_value = train_dummy.min(axis=0), max_value = train_dummy.max(axis=0), random_state=42)\n",
    "train_imputed_full = pd.DataFrame(imputer_split.fit_transform(train_dummy))\n",
    "test_imputed_full = pd.DataFrame(imputer_split.transform(test_dummy))"
   ]
  },
  {
   "cell_type": "code",
   "execution_count": 69,
   "metadata": {},
   "outputs": [],
   "source": [
    "df_imputed_full = df_imputed_full.iloc[:,:31]\n",
    "df_imputed_full.columns = df_dummy.columns[:31]\n",
    "df_imputed_full['date'] = date\n",
    "df_imputed_full['date'] = pd.to_datetime(df_imputed_full['date'])\n",
    "df_imputed_full['iso_code'] = iso_code\n",
    "df_imputed_full['new_cases_smoothed_per_million'] = cases\n",
    "df_imputed_full['new_deaths_smoothed_per_million']  = deaths\n",
    "df_imputed_full['month_yr'] = df_imputed_full['date'].apply(lambda x: x.strftime('%m-%Y'))\n",
    "df_imputed_full.to_csv(os.path.join(personal_path, 'Data/biweekly_imputed_old_fixed.csv'))\n",
    "\n",
    "train_imputed_full = train_imputed_full.iloc[:,:31]\n",
    "train_imputed_full.columns = train_dummy.columns[:31]\n",
    "train_imputed_full['date'] = train_date\n",
    "train_imputed_full['date'] = pd.to_datetime(train_imputed_full['date'])\n",
    "train_imputed_full['iso_code'] = train_iso_code\n",
    "train_imputed_full['new_cases_smoothed_per_million'] = train_cases\n",
    "train_imputed_full['new_deaths_smoothed_per_million']  = train_deaths\n",
    "train_imputed_full['month_yr'] = train_imputed_full['date'].apply(lambda x: x.strftime('%m-%Y'))\n",
    "train_imputed_full.to_csv(os.path.join(personal_path, 'Data/biweekly_train_imputed_old_fixed.csv'))\n",
    "\n",
    "test_imputed_full = test_imputed_full.iloc[:,:31]\n",
    "test_imputed_full.columns = test_dummy.columns[:31]\n",
    "test_imputed_full['date'] = test_date\n",
    "test_imputed_full['date'] = pd.to_datetime(test_imputed_full['date'])\n",
    "test_imputed_full['iso_code'] = test_iso_code\n",
    "test_imputed_full['new_cases_smoothed_per_million'] = test_cases\n",
    "test_imputed_full['new_deaths_smoothed_per_million']  = test_deaths\n",
    "test_imputed_full['month_yr'] = test_imputed_full['date'].apply(lambda x: x.strftime('%m-%Y'))\n",
    "test_imputed_full.to_csv(os.path.join(personal_path, 'Data/biweekly_test_imputed_old_fixed.csv'))"
   ]
  },
  {
   "cell_type": "markdown",
   "metadata": {},
   "source": [
    "### Ordinary Least Squares Linear Regression Models"
   ]
  },
  {
   "cell_type": "markdown",
   "metadata": {},
   "source": [
    "To begin forming our linear regression models we load in our imputed data set."
   ]
  },
  {
   "cell_type": "code",
   "execution_count": 81,
   "metadata": {},
   "outputs": [],
   "source": [
    "path_full = os.path.join(personal_path, \"Data/biweekly_imputed_old_fixed.csv\")\n",
    "df = pd.read_csv(path_full)"
   ]
  },
  {
   "cell_type": "markdown",
   "metadata": {},
   "source": [
    "For our first model the reponse will be the number of new Covid cases per million people on a particular day in a particular country. For now we not interested in predicting the reponse of future data points, rather we are interested in direct interpretation of the regression coefficients. Therefore, we forgo splitting the data into a train and test set. \n",
    "\n",
    "Prior to imputing we dropped irrelevant/unineteresting features. For example, having the positive rate of Covid tests on a particular day will indeed be useful for predicting the number of new cases, but this relationship is fundamentally obvious. We want to uncover less intutive relationships.\n",
    "\n",
    "We hope most of the predictor names are sufficiently descriptive. One point of clarification is for the variant predictors such as Alpha, Mu, Delta, etc. correspond to proportion of cases in a specific country on a specific date attributed to each variant. Thus, the sum of the variant data should be 1 for every country on every date."
   ]
  },
  {
   "cell_type": "code",
   "execution_count": 82,
   "metadata": {},
   "outputs": [],
   "source": [
    "y = df['new_cases_smoothed_per_million']\n",
    "X = df.drop(['Unnamed: 0', 'date', 'iso_code','month_yr','new_cases_smoothed_per_million', 'new_deaths_smoothed_per_million'], axis = 1)"
   ]
  },
  {
   "cell_type": "markdown",
   "metadata": {},
   "source": [
    "Next, we examine the correlation between features in our data set. Recall that in a an Ordinary Least Squares Linear Regression we assume $Y_i = \\beta_0 + \\beta_1x_1 + \\beta_1x_1 +\\ldots + \\beta_kx_k + ϵ_i$ where we have $k$ features, the n data points are independent, and $\\epsilon ~ \\sim \\mathcal{N}(0, \\sigma^2)$. Under these assumptions the associated likelihhod is $\\prod_i^n p(\\vec{x_i})\\cdot \\frac{1}{(2\\sigma^2\\pi)^{\\frac{1}{2}}} \\cdot exp\\{-\\frac{(y_i-(\\beta_0 + \\sum_{j=1}^k\\beta_jx_{ij}))^2}{2\\sigma^2}\\}$ and it can be shown that maximing this expression as a function of $\\vec{\\beta}$ is equivalent to minimizing $\\sum_{i=1}^n(y_i-(\\beta_0 + \\sum_{j=1}^k\\beta_jx_{ij}))^2$ in terms of $\\vec{\\beta}$. From here it follows that the regression coefficients can solved in closed form as $\\hat{\\vec{\\beta}} = (X^TX)^{-1}X^TY$ where $X$ is our design matrix (matrix of predictors + a column of 1s for an intercept term) and $Y$ is our vector of responses. Note that $\\hat{\\vec{\\beta}}$ depends on $(X^TX)^{-1}$ and that the latter expression will not be invertible if the columns of features are linearly dependent. Thus, if the columns of the design matrix are linearly dependent the OLS estimates for the coefficients cannot be solved for. Furthermore, by noting that $\\hat{\\vec{\\beta}} \\sim \\mathcal{N}(0, (X^TX)^{-1}\\sigma^2)$ we see that large values in $(X^TX)^{-1}$ will cause our coefficient estimates to be highly variable. Thus, we must also be careful to ensure that our design matrix is not near singluar as such a design matrix would yeild abnormally large values in $(X^TX)^{-1}$ and cause our estimates to be highly variable. To avoid this situation we analyze a correlation matrix of our features. Having features that are highly correlated will result in $(X^TX)^{-1}$ being near singular and so if a pair of features is highly correlated we will remove one of them. The plot below visualizes our correlation matrix. We are concerned about off-diagonal cells which are light green/yellow."
   ]
  },
  {
   "cell_type": "code",
   "execution_count": 83,
   "metadata": {},
   "outputs": [
    {
     "data": {
      "image/png": "[encoded data removed]",
      "text/plain": [
       "<Figure size 576x576 with 2 Axes>"
      ]
     },
     "metadata": {
      "needs_background": "light"
     },
     "output_type": "display_data"
    }
   ],
   "source": [
    "plt.figure(figsize=(8, 8))\n",
    "plt.matshow(X.corr(), fignum = 1)\n",
    "plt.colorbar()\n",
    "plt.title('Correlation Matrix of Features')\n",
    "plt.show()"
   ]
  },
  {
   "cell_type": "markdown",
   "metadata": {},
   "source": [
    "We now drop the highly correlated predictors from our design matrix. We use a threshold of 0.8 to identify highly correlated pairs."
   ]
  },
  {
   "cell_type": "code",
   "execution_count": 84,
   "metadata": {},
   "outputs": [],
   "source": [
    "X.drop(['non_who','daily_people_vaccinated_per_hundred','people_vaccinated_per_hundred',\n",
    "        'people_fully_vaccinated_per_hundred','daily_vaccinations_per_million',\n",
    "        'new_people_vaccinated_smoothed_per_hundred','life_expectancy','aged_70_older',\n",
    "        'human_development_index'], axis = 1, inplace = True)"
   ]
  },
  {
   "cell_type": "markdown",
   "metadata": {},
   "source": [
    "We now fit our initial linear regression model. We display some verbose output from the regression below and analyze it in the proceeding cell."
   ]
  },
  {
   "cell_type": "code",
   "execution_count": 85,
   "metadata": {},
   "outputs": [
    {
     "name": "stdout",
     "output_type": "stream",
     "text": [
      "                                  OLS Regression Results                                  \n",
      "==========================================================================================\n",
      "Dep. Variable:     new_cases_smoothed_per_million   R-squared:                       0.140\n",
      "Model:                                        OLS   Adj. R-squared:                  0.131\n",
      "Method:                             Least Squares   F-statistic:                     15.82\n",
      "Date:                            Sun, 12 Dec 2021   Prob (F-statistic):           1.57e-55\n",
      "Time:                                    14:15:38   Log-Likelihood:                -14446.\n",
      "No. Observations:                            2164   AIC:                         2.894e+04\n",
      "Df Residuals:                                2141   BIC:                         2.907e+04\n",
      "Df Model:                                      22                                         \n",
      "Covariance Type:                        nonrobust                                         \n",
      "=========================================================================================================\n",
      "                                            coef    std err          t      P>|t|      [0.025      0.975]\n",
      "---------------------------------------------------------------------------------------------------------\n",
      "const                                  -297.3972     42.159     -7.054      0.000    -380.074    -214.720\n",
      "total_vaccinations_per_hundred           -0.3856      0.152     -2.544      0.011      -0.683      -0.088\n",
      "new_vaccinations_smoothed_per_million     0.0028      0.001      2.928      0.003       0.001       0.005\n",
      "stringency_index                          2.7027      0.311      8.702      0.000       2.094       3.312\n",
      "population_density                       -0.0164      0.004     -3.699      0.000      -0.025      -0.008\n",
      "median_age                                5.5278      1.991      2.776      0.006       1.623       9.432\n",
      "aged_65_older                            -3.9692      2.463     -1.611      0.107      -8.800       0.862\n",
      "gdp_per_capita                            0.0008      0.000      2.881      0.004       0.000       0.001\n",
      "extreme_poverty                          -0.1334      0.176     -0.759      0.448      -0.478       0.211\n",
      "cardiovasc_death_rate                     0.0901      0.052      1.738      0.082      -0.012       0.192\n",
      "diabetes_prevalence                       2.7115      1.632      1.662      0.097      -0.488       5.911\n",
      "female_smokers                            3.9290      0.597      6.578      0.000       2.758       5.100\n",
      "male_smokers                             -0.5878      0.428     -1.374      0.170      -1.427       0.251\n",
      "Beta                                      0.1811      0.325      0.558      0.577      -0.456       0.818\n",
      "Epsilon                                   6.2319      3.288      1.895      0.058      -0.216      12.679\n",
      "Gamma                                     1.5720      0.387      4.064      0.000       0.813       2.331\n",
      "Kappa                                    -2.5987      2.095     -1.240      0.215      -6.708       1.510\n",
      "Iota                                     -1.5390      2.436     -0.632      0.528      -6.317       3.239\n",
      "Eta                                       0.3065      1.442      0.213      0.832      -2.521       3.134\n",
      "Delta                                     1.1872      0.158      7.526      0.000       0.878       1.497\n",
      "Alpha                                     0.4325      0.151      2.873      0.004       0.137       0.728\n",
      "Lambda                                    0.4393      0.759      0.579      0.563      -1.049       1.928\n",
      "Mu                                       -2.0970      4.565     -0.459      0.646     -11.049       6.855\n",
      "==============================================================================\n",
      "Omnibus:                     1207.766   Durbin-Watson:                   0.532\n",
      "Prob(Omnibus):                  0.000   Jarque-Bera (JB):             9994.196\n",
      "Skew:                           2.546   Prob(JB):                         0.00\n",
      "Kurtosis:                      12.215   Cond. No.                     3.91e+05\n",
      "==============================================================================\n",
      "\n",
      "Notes:\n",
      "[1] Standard Errors assume that the covariance matrix of the errors is correctly specified.\n",
      "[2] The condition number is large, 3.91e+05. This might indicate that there are\n",
      "strong multicollinearity or other numerical problems.\n"
     ]
    },
    {
     "name": "stderr",
     "output_type": "stream",
     "text": [
      "C:\\Users\\tropi\\anaconda3\\lib\\site-packages\\statsmodels\\tsa\\tsatools.py:142: FutureWarning: In a future version of pandas all arguments of concat except for the argument 'objs' will be keyword-only\n",
      "  x = pd.concat(x[::order], 1)\n"
     ]
    }
   ],
   "source": [
    "import statsmodels.api as sm\n",
    "\n",
    "#add a column of ones for the intercept term\n",
    "X_full = sm.add_constant(X)\n",
    "est_full = sm.OLS(y, X_full)\n",
    "est_full_fit = est_full.fit()\n",
    "print(est_full_fit.summary())"
   ]
  },
  {
   "cell_type": "markdown",
   "metadata": {},
   "source": [
    "The first value to consider is the $R^2$ value. This is a measure of goodeness of fit and is defined as $R^2=1-\\frac{\\sum_{i=1}^n(y_i-\\hat{y_i})^2}{\\sum_{i=1}^n(y_i-\\bar{y})^2}$. Evidently the closer $R^2$ is to 1 the better the model is at explaining the response. We will consider the adjusted $R^2$ value which penalizes for having many predictors. Such a penalty is logical since adding predictors to a linear regression model will only help its explanatory ability even if the added predictor is completly irrelavent. For our model $Adj. R^2 = 0.131$ which is rather low. Such a value can roughly be interpreted as meaning that the predictor variables account for 13.1% of the variability in the response variable. Nonetheless the model is not worthless. The $F-Test$ for overall model utility which has null hypothesis $H_0:$ our model and a model consisting of only an intercept term have the same explanatory capability, has a near zero p-value. Thus, we can conclude that the predictors do indeed have an effect on the response but they do not tell the entire story. We can also examine $t-tests$ for individual predictors. Each such test has the null hypothesis $H_0:$ the coefficient associated with the predictor is 0. Thus, if the p-value of such a test is large the predictor may not have any influence on the response and may be able to be removed without hindering the model. In our model, if we conduct the test at a 95% confidence level, the insignificant predictors are aged 65 older, extreme poverty, cardio vasc death rate, diabetes prevalence, male smokers, Beta, Kappa, Iota, Eta, Lambda, Epsilon and Mu. we now fit a model with these predictors removed and check to see if we can safetly justify their removal."
   ]
  },
  {
   "cell_type": "code",
   "execution_count": 87,
   "metadata": {},
   "outputs": [
    {
     "name": "stdout",
     "output_type": "stream",
     "text": [
      "   df_resid           ssr  df_diff        ss_diff         F   Pr(>F)\n",
      "0    2153.0  8.040017e+07      0.0            NaN       NaN      NaN\n",
      "1    2141.0  7.960578e+07     12.0  794382.943353  1.780413  0.04604\n"
     ]
    },
    {
     "name": "stderr",
     "output_type": "stream",
     "text": [
      "C:\\Users\\tropi\\anaconda3\\lib\\site-packages\\statsmodels\\tsa\\tsatools.py:142: FutureWarning: In a future version of pandas all arguments of concat except for the argument 'objs' will be keyword-only\n",
      "  x = pd.concat(x[::order], 1)\n"
     ]
    }
   ],
   "source": [
    "from statsmodels.stats.anova import anova_lm\n",
    "X_nested = X.drop(['aged_65_older','extreme_poverty','cardiovasc_death_rate','diabetes_prevalence','male_smokers','Beta','Kappa','Iota','Eta','Lambda','Mu','Epsilon'], axis = 1)\n",
    "X_nested_const = sm.add_constant(X_nested)\n",
    "est_nested = sm.OLS(y, X_nested_const)\n",
    "est_nested_fit = est_nested.fit()\n",
    "print(anova_lm(est_nested_fit, est_full_fit))"
   ]
  },
  {
   "cell_type": "markdown",
   "metadata": {},
   "source": [
    "The above output details an $F-Test$ for nested linear regression models. The null hypothesis is $H_0:$ all coeffcients present in the full model but not the nested model are 0. In other words the hypothesis test is detirmining if the nested model accounts for the just as much variance in the reponse as the full model. In our case the p-value is 0.04604 and so we reject the null hypothesis at the 95% confidence level and cannot reduce the model. We try again but this time retaining the Epislon predictor since the associated $t-test$ was nearly significant. We recognize that such a procedure may not be the most mathematically sound, a better approach for model reduction is employed in when constructing Generalized Linear Models later in this section."
   ]
  },
  {
   "cell_type": "code",
   "execution_count": 88,
   "metadata": {},
   "outputs": [
    {
     "name": "stdout",
     "output_type": "stream",
     "text": [
      "   df_resid           ssr  df_diff        ss_diff         F    Pr(>F)\n",
      "0    2152.0  8.024116e+07      0.0            NaN       NaN       NaN\n",
      "1    2141.0  7.960578e+07     11.0  635372.127025  1.553487  0.106223\n"
     ]
    },
    {
     "name": "stderr",
     "output_type": "stream",
     "text": [
      "C:\\Users\\tropi\\anaconda3\\lib\\site-packages\\statsmodels\\tsa\\tsatools.py:142: FutureWarning: In a future version of pandas all arguments of concat except for the argument 'objs' will be keyword-only\n",
      "  x = pd.concat(x[::order], 1)\n"
     ]
    }
   ],
   "source": [
    "from statsmodels.stats.anova import anova_lm\n",
    "X_nested = X.drop(['aged_65_older','extreme_poverty','cardiovasc_death_rate','diabetes_prevalence','male_smokers','Beta','Kappa','Iota','Eta','Lambda','Mu'], axis = 1)\n",
    "X_nested_const = sm.add_constant(X_nested)\n",
    "est_nested = sm.OLS(y, X_nested_const)\n",
    "est_nested_fit = est_nested.fit()\n",
    "print(anova_lm(est_nested_fit, est_full_fit))"
   ]
  },
  {
   "cell_type": "markdown",
   "metadata": {},
   "source": [
    "Noe the p-value associated with model reduction in 0.106 and so we can justfiably reduce the model at the 95% confidence level. We now examine the coefficients of this nested model."
   ]
  },
  {
   "cell_type": "code",
   "execution_count": 89,
   "metadata": {},
   "outputs": [
    {
     "name": "stdout",
     "output_type": "stream",
     "text": [
      "                                  OLS Regression Results                                  \n",
      "==========================================================================================\n",
      "Dep. Variable:     new_cases_smoothed_per_million   R-squared:                       0.133\n",
      "Model:                                        OLS   Adj. R-squared:                  0.129\n",
      "Method:                             Least Squares   F-statistic:                     30.01\n",
      "Date:                            Sun, 12 Dec 2021   Prob (F-statistic):           2.04e-59\n",
      "Time:                                    14:23:12   Log-Likelihood:                -14454.\n",
      "No. Observations:                            2164   AIC:                         2.893e+04\n",
      "Df Residuals:                                2152   BIC:                         2.900e+04\n",
      "Df Model:                                      11                                         \n",
      "Covariance Type:                        nonrobust                                         \n",
      "=========================================================================================================\n",
      "                                            coef    std err          t      P>|t|      [0.025      0.975]\n",
      "---------------------------------------------------------------------------------------------------------\n",
      "const                                  -215.0637     29.534     -7.282      0.000    -272.981    -157.146\n",
      "total_vaccinations_per_hundred           -0.4132      0.146     -2.821      0.005      -0.700      -0.126\n",
      "new_vaccinations_smoothed_per_million     0.0029      0.001      3.036      0.002       0.001       0.005\n",
      "stringency_index                          2.8600      0.297      9.637      0.000       2.278       3.442\n",
      "population_density                       -0.0141      0.004     -3.531      0.000      -0.022      -0.006\n",
      "median_age                                2.1434      0.746      2.873      0.004       0.680       3.607\n",
      "gdp_per_capita                            0.0010      0.000      3.928      0.000       0.000       0.001\n",
      "female_smokers                            3.3959      0.518      6.561      0.000       2.381       4.411\n",
      "Epsilon                                   6.6451      3.218      2.065      0.039       0.335      12.956\n",
      "Gamma                                     1.7609      0.366      4.813      0.000       1.043       2.478\n",
      "Delta                                     1.2292      0.152      8.111      0.000       0.932       1.526\n",
      "Alpha                                     0.4189      0.149      2.820      0.005       0.128       0.710\n",
      "==============================================================================\n",
      "Omnibus:                     1214.850   Durbin-Watson:                   0.536\n",
      "Prob(Omnibus):                  0.000   Jarque-Bera (JB):            10257.756\n",
      "Skew:                           2.557   Prob(JB):                         0.00\n",
      "Kurtosis:                      12.360   Cond. No.                     2.73e+05\n",
      "==============================================================================\n",
      "\n",
      "Notes:\n",
      "[1] Standard Errors assume that the covariance matrix of the errors is correctly specified.\n",
      "[2] The condition number is large, 2.73e+05. This might indicate that there are\n",
      "strong multicollinearity or other numerical problems.\n"
     ]
    }
   ],
   "source": [
    "print(est_nested_fit.summary())"
   ]
  },
  {
   "cell_type": "markdown",
   "metadata": {},
   "source": [
    "Interpreting regression coefficients can be tricky. One needs to resist the temptation to fit a narraive to explain the why the coefficients take on certain values. For example, strigency_index is a metric developed by Our World in Data, that attempts to quantify how many restrictions a country has put in place to slow the spread of Covid-19. Countries with mask mandates, travel bans, and mandatory quarantines will have a higher strigency index than those countries which do not. The regression coefficient associated with strigency index is 2.86, suggesting that the more restrictions a government puts in place the more Covid-19 spreads. Of course the true relationship is likely that the governments of countries in which there is a COVID-19 outbreak, and thus lots of new cases, are more likely to implement restrictive measures to slow the spread. Other interesting findings are that the only significant variants were Epsilon, Gamma, Delta, and Alpha, all of which have positive coefficients. This could possibly suggest that these variants are more contagious. However, in the case of the Gamma and Epsilon variants the data is limited and so any conclusions should be take with a grain of salt. Another interesting note is that the female smoker predictor was significant but the male smoker predictor was not. We are hesistant to hypothesize why this is the case but perhaps the amount of female smokers in a country is a proxy for the nation's underlying ideology about government interventions. Lastly, it seems counter intuitive that the amont of new vaccinations administered on a day would be posivelty associated with the number of new cases. This may be due to more people being convinced to receive vaccines during particularly bad Covid outbreaks."
   ]
  },
  {
   "cell_type": "markdown",
   "metadata": {},
   "source": [
    "We are also interested in directly comparing the magnitide of the effect of each predictor. To do this we standardize the predictors and re-fit the regression model. Note that with the scaled data no intercept term is necessary."
   ]
  },
  {
   "cell_type": "code",
   "execution_count": 90,
   "metadata": {},
   "outputs": [
    {
     "name": "stdout",
     "output_type": "stream",
     "text": [
      "                                 OLS Regression Results                                \n",
      "=======================================================================================\n",
      "Dep. Variable:                      y   R-squared (uncentered):                   0.133\n",
      "Model:                            OLS   Adj. R-squared (uncentered):              0.129\n",
      "Method:                 Least Squares   F-statistic:                              30.02\n",
      "Date:                Sun, 12 Dec 2021   Prob (F-statistic):                    1.90e-59\n",
      "Time:                        14:25:55   Log-Likelihood:                         -2916.2\n",
      "No. Observations:                2164   AIC:                                      5854.\n",
      "Df Residuals:                    2153   BIC:                                      5917.\n",
      "Df Model:                          11                                                  \n",
      "Covariance Type:            nonrobust                                                  \n",
      "=========================================================================================================\n",
      "                                            coef    std err          t      P>|t|      [0.025      0.975]\n",
      "---------------------------------------------------------------------------------------------------------\n",
      "total_vaccinations_per_hundred           -0.0947      0.034     -2.821      0.005      -0.160      -0.029\n",
      "new_vaccinations_smoothed_per_million     0.0778      0.026      3.037      0.002       0.028       0.128\n",
      "stringency_index                          0.2153      0.022      9.639      0.000       0.171       0.259\n",
      "population_density                       -0.0790      0.022     -3.532      0.000      -0.123      -0.035\n",
      "median_age                                0.0858      0.030      2.873      0.004       0.027       0.144\n",
      "gdp_per_capita                            0.1011      0.026      3.929      0.000       0.051       0.152\n",
      "female_smokers                            0.1772      0.027      6.562      0.000       0.124       0.230\n",
      "Epsilon                                   0.0420      0.020      2.066      0.039       0.002       0.082\n",
      "Gamma                                     0.1003      0.021      4.814      0.000       0.059       0.141\n",
      "Delta                                     0.2531      0.031      8.113      0.000       0.192       0.314\n",
      "Alpha                                     0.0619      0.022      2.821      0.005       0.019       0.105\n",
      "==============================================================================\n",
      "Omnibus:                     1214.850   Durbin-Watson:                   0.536\n",
      "Prob(Omnibus):                  0.000   Jarque-Bera (JB):            10257.756\n",
      "Skew:                           2.557   Prob(JB):                         0.00\n",
      "Kurtosis:                      12.360   Cond. No.                         3.32\n",
      "==============================================================================\n",
      "\n",
      "Notes:\n",
      "[1] R² is computed without centering (uncentered) since the model does not contain a constant.\n",
      "[2] Standard Errors assume that the covariance matrix of the errors is correctly specified.\n"
     ]
    }
   ],
   "source": [
    "from sklearn.preprocessing import StandardScaler\n",
    "\n",
    "scaler = StandardScaler()\n",
    "scaler_y = StandardScaler()\n",
    "y_scaled = scaler_y.fit_transform(np.array(y).reshape(-1,1))\n",
    "cols = X_nested.columns\n",
    "X_nested_scaled = pd.DataFrame(scaler.fit_transform(X_nested))\n",
    "X_nested_scaled.columns = cols\n",
    "est_nested_scaled = sm.OLS(y_scaled, X_nested_scaled)\n",
    "est_nested_scaled_fit = est_nested_scaled.fit()\n",
    "print(est_nested_scaled_fit.summary())"
   ]
  },
  {
   "cell_type": "markdown",
   "metadata": {},
   "source": [
    "From this output we can see that we see that the two non-variant related predictors with greatest positive affect on the number of cases on a given day were strigency index and female smokers. Furthermore, we can now see that the Delta variant seems to be the most contagious."
   ]
  },
  {
   "cell_type": "markdown",
   "metadata": {},
   "source": [
    "The last analysis we will perform on this model will be the addition of categorical predictors. These added predictors correspond to the country and the month-year combination corresponding to each row."
   ]
  },
  {
   "cell_type": "code",
   "execution_count": 91,
   "metadata": {},
   "outputs": [
    {
     "name": "stdout",
     "output_type": "stream",
     "text": [
      "                                  OLS Regression Results                                  \n",
      "==========================================================================================\n",
      "Dep. Variable:     new_cases_smoothed_per_million   R-squared:                       0.471\n",
      "Model:                                        OLS   Adj. R-squared:                  0.437\n",
      "Method:                             Least Squares   F-statistic:                     13.73\n",
      "Date:                            Sun, 12 Dec 2021   Prob (F-statistic):          9.61e-198\n",
      "Time:                                    14:29:52   Log-Likelihood:                -13919.\n",
      "No. Observations:                            2164   AIC:                         2.810e+04\n",
      "Df Residuals:                                2031   BIC:                         2.886e+04\n",
      "Df Model:                                     132                                         \n",
      "Covariance Type:                        nonrobust                                         \n",
      "=========================================================================================================\n",
      "                                            coef    std err          t      P>|t|      [0.025      0.975]\n",
      "---------------------------------------------------------------------------------------------------------\n",
      "const                                  -251.9008     39.116     -6.440      0.000    -328.613    -175.188\n",
      "total_vaccinations_per_hundred           -0.7888      0.146     -5.385      0.000      -1.076      -0.502\n",
      "new_vaccinations_smoothed_per_million     0.0017      0.001      1.685      0.092      -0.000       0.004\n",
      "stringency_index                          4.4317      0.348     12.721      0.000       3.749       5.115\n",
      "population_density                       -0.0287      0.004     -7.083      0.000      -0.037      -0.021\n",
      "median_age                                6.1628      1.268      4.860      0.000       3.676       8.650\n",
      "gdp_per_capita                            0.0008      0.000      2.723      0.007       0.000       0.001\n",
      "female_smokers                           -0.6629      0.958     -0.692      0.489      -2.542       1.217\n",
      "Epsilon                                   2.0710      3.060      0.677      0.499      -3.929       8.071\n",
      "Gamma                                     2.9024      0.475      6.108      0.000       1.970       3.834\n",
      "Delta                                     1.9028      0.328      5.798      0.000       1.259       2.546\n",
      "Alpha                                     0.1695      0.233      0.728      0.467      -0.287       0.626\n",
      "iso_code_ARE                            -47.1508     39.722     -1.187      0.235    -125.051      30.749\n",
      "iso_code_ARG                            -23.4983     28.630     -0.821      0.412     -79.645      32.649\n",
      "iso_code_AUS                           -217.6922     24.732     -8.802      0.000    -266.195    -169.189\n",
      "iso_code_AUT                            -52.7865     27.142     -1.945      0.052    -106.016       0.443\n",
      "iso_code_BEL                             42.4888     25.217      1.685      0.092      -6.965      91.942\n",
      "iso_code_BGD                           -138.3139     30.094     -4.596      0.000    -197.333     -79.295\n",
      "iso_code_BGR                             -6.3701     33.925     -0.188      0.851     -72.902      60.162\n",
      "iso_code_BHR                            177.0692     41.257      4.292      0.000      96.158     257.980\n",
      "iso_code_BIH                             15.8967    106.889      0.149      0.882    -193.727     225.520\n",
      "iso_code_BLZ                            -16.9565     88.913     -0.191      0.849    -191.327     157.414\n",
      "iso_code_BRA                            -58.1012     28.241     -2.057      0.040    -113.486      -2.717\n",
      "iso_code_BWA                            208.5379     43.375      4.808      0.000     123.474     293.601\n",
      "iso_code_CAN                           -178.5945     26.283     -6.795      0.000    -230.139    -127.050\n",
      "iso_code_CHE                              9.9096     25.519      0.388      0.698     -40.136      59.956\n",
      "iso_code_CHL                            -50.7726     33.634     -1.510      0.131    -116.734      15.189\n",
      "iso_code_CMR                             31.7805     69.450      0.458      0.647    -104.421     167.982\n",
      "iso_code_COL                             56.0834     35.661      1.573      0.116     -13.853     126.019\n",
      "iso_code_CRI                            100.3335     36.816      2.725      0.006      28.133     172.534\n",
      "iso_code_CZE                            212.8053     31.573      6.740      0.000     150.886     274.725\n",
      "iso_code_DEU                           -141.8951     24.798     -5.722      0.000    -190.527     -93.263\n",
      "iso_code_DJI                             85.4879     77.587      1.102      0.271     -66.671     237.646\n",
      "iso_code_DNK                            -31.5073     24.689     -1.276      0.202     -79.926      16.912\n",
      "iso_code_DOM                            -78.5215     77.824     -1.009      0.313    -231.145      74.102\n",
      "iso_code_ECU                            -54.5704     45.007     -1.212      0.225    -142.834      33.694\n",
      "iso_code_EGY                            -76.1599     45.280     -1.682      0.093    -164.960      12.640\n",
      "iso_code_ESP                            -42.7808     24.911     -1.717      0.086     -91.634       6.072\n",
      "iso_code_EST                            273.1443     33.414      8.175      0.000     207.615     338.673\n",
      "iso_code_ETH                            -46.6897     88.614     -0.527      0.598    -220.474     127.095\n",
      "iso_code_FIN                           -108.8630     27.888     -3.904      0.000    -163.556     -54.170\n",
      "iso_code_FJI                            174.4699     90.208      1.934      0.053      -2.441     351.381\n",
      "iso_code_FRA                             -0.9391     26.146     -0.036      0.971     -52.215      50.337\n",
      "iso_code_GBR                             46.0525     24.798      1.857      0.063      -2.579      94.684\n",
      "iso_code_GEO                            552.2033     89.290      6.184      0.000     377.095     727.312\n",
      "iso_code_GHA                             10.4243     37.714      0.276      0.782     -63.538      84.387\n",
      "iso_code_GMB                             45.5568     55.392      0.822      0.411     -63.074     154.187\n",
      "iso_code_GRC                           -112.5830     31.724     -3.549      0.000    -174.797     -50.369\n",
      "iso_code_GTM                             10.5114     47.473      0.221      0.825     -82.590     103.613\n",
      "iso_code_HKG                            -86.0929     27.016     -3.187      0.001    -139.075     -33.111\n",
      "iso_code_HRV                             50.7985     36.555      1.390      0.165     -20.891     122.488\n",
      "iso_code_HUN                             46.4672     88.292      0.526      0.599    -126.685     219.619\n",
      "iso_code_IDN                           -157.4614     31.289     -5.032      0.000    -218.824     -96.099\n",
      "iso_code_IND                           -144.6601     26.419     -5.476      0.000    -196.472     -92.848\n",
      "iso_code_IRL                            -36.3529     26.964     -1.348      0.178     -89.233      16.527\n",
      "iso_code_IRQ                              8.6137    152.786      0.056      0.955    -291.020     308.248\n",
      "iso_code_ISL                            -51.7037     30.453     -1.698      0.090    -111.426       8.018\n",
      "iso_code_ISR                            190.2542     32.643      5.828      0.000     126.237     254.272\n",
      "iso_code_ITA                           -150.8229     26.996     -5.587      0.000    -203.766     -97.880\n",
      "iso_code_JAM                            -42.5469    109.087     -0.390      0.697    -256.482     171.388\n",
      "iso_code_JOR                             46.5941     54.951      0.848      0.397     -61.173     154.361\n",
      "iso_code_JPN                           -127.5343     30.698     -4.154      0.000    -187.737     -67.332\n",
      "iso_code_KAZ                             10.3178     69.559      0.148      0.882    -126.097     146.732\n",
      "iso_code_KEN                            -78.6365     27.648     -2.844      0.004    -132.857     -24.416\n",
      "iso_code_KHM                            -82.0702     40.700     -2.016      0.044    -161.888      -2.253\n",
      "iso_code_KOR                           -154.8506     30.071     -5.149      0.000    -213.824     -95.877\n",
      "iso_code_KWT                             44.8668     66.385      0.676      0.499     -85.323     175.056\n",
      "iso_code_LBN                            128.1610     52.875      2.424      0.015      24.465     231.857\n",
      "iso_code_LKA                           -154.3443     39.538     -3.904      0.000    -231.884     -76.805\n",
      "iso_code_LTU                            214.6557     31.090      6.904      0.000     153.684     275.628\n",
      "iso_code_LUX                             73.2519     29.691      2.467      0.014      15.023     131.481\n",
      "iso_code_LVA                             68.9853     41.560      1.660      0.097     -12.519     150.489\n",
      "iso_code_MAR                            -49.9251    108.335     -0.461      0.645    -262.384     162.534\n",
      "iso_code_MDG                             46.2054     70.331      0.657      0.511     -91.723     184.134\n",
      "iso_code_MDV                             35.9131     62.930      0.571      0.568     -87.500     159.327\n",
      "iso_code_MEX                            -83.7167     25.771     -3.248      0.001    -134.258     -33.176\n",
      "iso_code_MKD                             29.0672     66.061      0.440      0.660    -100.487     158.621\n",
      "iso_code_MLT                           -106.7268     68.330     -1.562      0.118    -240.732      27.278\n",
      "iso_code_MNE                            377.9625     79.392      4.761      0.000     222.265     533.660\n",
      "iso_code_MOZ                            -32.1206     50.060     -0.642      0.521    -130.296      66.054\n",
      "iso_code_MWI                             14.0040     59.312      0.236      0.813    -102.315     130.324\n",
      "iso_code_MYS                            -13.6571     31.913     -0.428      0.669     -76.243      48.929\n",
      "iso_code_NGA                            -39.2298     37.664     -1.042      0.298    -113.095      34.635\n",
      "iso_code_NLD                             52.3144     24.653      2.122      0.034       3.966     100.663\n",
      "iso_code_NOR                            -93.1086     25.700     -3.623      0.000    -143.510     -42.707\n",
      "iso_code_NPL                           -109.7417     90.358     -1.215      0.225    -286.945      67.462\n",
      "iso_code_NZL                           -225.4012     43.109     -5.229      0.000    -309.944    -140.859\n",
      "iso_code_OMN                             65.8610     76.766      0.858      0.391     -84.688     216.410\n",
      "iso_code_OWID_KOS                       320.8389     63.569      5.047      0.000     196.172     445.506\n",
      "iso_code_PAK                           -105.3992     40.751     -2.586      0.010    -185.317     -25.481\n",
      "iso_code_PER                            -80.6373     28.912     -2.789      0.005    -137.338     -23.936\n",
      "iso_code_PHL                            -80.5094     33.518     -2.402      0.016    -146.243     -14.776\n",
      "iso_code_PNG                            -21.3755     62.916     -0.340      0.734    -144.763     102.012\n",
      "iso_code_POL                            -42.6926     30.782     -1.387      0.166    -103.060      17.675\n",
      "iso_code_PRT                            -37.4043     30.282     -1.235      0.217     -96.791      21.983\n",
      "iso_code_PRY                            -46.7481     77.517     -0.603      0.547    -198.769     105.273\n",
      "iso_code_QAT                            -39.4227     31.899     -1.236      0.217    -101.981      23.135\n",
      "iso_code_ROU                            -38.2941     28.499     -1.344      0.179     -94.184      17.596\n",
      "iso_code_RUS                            -51.1349     25.914     -1.973      0.049    -101.955      -0.315\n",
      "iso_code_RWA                            -43.6788     58.671     -0.744      0.457    -158.741      71.384\n",
      "iso_code_SEN                             26.9457     58.675      0.459      0.646     -88.124     142.016\n",
      "iso_code_SGP                             83.8281     23.865      3.513      0.000      37.026     130.630\n",
      "iso_code_SUR                            -60.6617     47.301     -1.282      0.200    -153.426      32.102\n",
      "iso_code_SVK                            241.5461     32.339      7.469      0.000     178.125     304.967\n",
      "iso_code_SVN                            139.0336     26.835      5.181      0.000      86.406     191.661\n",
      "iso_code_SWE                             15.0247     24.782      0.606      0.544     -33.576      63.625\n",
      "iso_code_SYC                            453.7995     64.079      7.082      0.000     328.132     579.466\n",
      "iso_code_TGO                             36.8985     76.993      0.479      0.632    -114.096     187.893\n",
      "iso_code_THA                           -124.0086     37.924     -3.270      0.001    -198.382     -49.635\n",
      "iso_code_TTO                           -155.6354     71.762     -2.169      0.030    -296.370     -14.901\n",
      "iso_code_TUR                             34.9974     31.168      1.123      0.262     -26.127      96.122\n",
      "iso_code_UGA                            -27.5384     63.744     -0.432      0.666    -152.548      97.471\n",
      "iso_code_UKR                            -75.7479     58.372     -1.298      0.195    -190.222      38.726\n",
      "iso_code_URY                            102.6264     59.944      1.712      0.087     -14.931     220.184\n",
      "iso_code_USA                             38.7861     27.314      1.420      0.156     -14.781      92.353\n",
      "iso_code_VNM                           -213.1960     59.641     -3.575      0.000    -330.160     -96.232\n",
      "iso_code_ZAF                            -11.9244     25.453     -0.468      0.639     -61.841      37.992\n",
      "iso_code_ZMB                             66.4494     48.029      1.384      0.167     -27.741     160.640\n",
      "iso_code_ZWE                            -77.4438     55.126     -1.405      0.160    -185.553      30.665\n",
      "month_year_02-2021                      -81.1796     18.616     -4.361      0.000    -117.687     -44.672\n",
      "month_year_03-2021                      -75.9991     20.497     -3.708      0.000    -116.196     -35.802\n",
      "month_year_04-2021                      -68.7833     21.617     -3.182      0.001    -111.177     -26.389\n",
      "month_year_05-2020                     -219.7580     23.645     -9.294      0.000    -266.129    -173.387\n",
      "month_year_05-2021                     -114.4733     21.564     -5.309      0.000    -156.763     -72.184\n",
      "month_year_06-2020                     -168.8047     24.759     -6.818      0.000    -217.361    -120.248\n",
      "month_year_06-2021                     -187.1328     25.934     -7.216      0.000    -237.994    -136.272\n",
      "month_year_07-2020                     -166.8252     24.053     -6.936      0.000    -213.997    -119.654\n",
      "month_year_07-2021                     -199.7305     31.213     -6.399      0.000    -260.944    -138.517\n",
      "month_year_08-2020                     -157.3190     21.300     -7.386      0.000    -199.092    -115.546\n",
      "month_year_08-2021                     -158.9168     33.868     -4.692      0.000    -225.335     -92.498\n",
      "month_year_09-2020                     -137.9560     23.689     -5.824      0.000    -184.413     -91.499\n",
      "month_year_09-2021                     -147.1705     35.667     -4.126      0.000    -217.118     -77.223\n",
      "month_year_10-2020                      -28.7687     22.896     -1.256      0.209     -73.671      16.134\n",
      "month_year_10-2021                     -130.6299     37.108     -3.520      0.000    -203.404     -57.856\n",
      "month_year_11-2020                       12.8037     22.741      0.563      0.573     -31.795      57.402\n",
      "month_year_11-2021                        9.8882     39.376      0.251      0.802     -67.333      87.109\n",
      "month_year_12-2020                       -2.6978     22.194     -0.122      0.903     -46.223      40.827\n",
      "==============================================================================\n",
      "Omnibus:                      876.307   Durbin-Watson:                   0.786\n",
      "Prob(Omnibus):                  0.000   Jarque-Bera (JB):             6404.330\n",
      "Skew:                           1.734   Prob(JB):                         0.00\n",
      "Kurtosis:                      10.682   Cond. No.                     1.57e+20\n",
      "==============================================================================\n",
      "\n",
      "Notes:\n",
      "[1] Standard Errors assume that the covariance matrix of the errors is correctly specified.\n",
      "[2] The smallest eigenvalue is 1.29e-28. This might indicate that there are\n",
      "strong multicollinearity problems or that the design matrix is singular.\n"
     ]
    },
    {
     "name": "stderr",
     "output_type": "stream",
     "text": [
      "C:\\Users\\tropi\\anaconda3\\lib\\site-packages\\statsmodels\\tsa\\tsatools.py:142: FutureWarning: In a future version of pandas all arguments of concat except for the argument 'objs' will be keyword-only\n",
      "  x = pd.concat(x[::order], 1)\n"
     ]
    }
   ],
   "source": [
    "X_nested['iso_code'], X_nested['month_year'] = df['iso_code'], df['month_yr']\n",
    "X_nested_dummy = pd.get_dummies(X_nested, drop_first=True)\n",
    "X_nested_dummy_const = sm.add_constant(X_nested_dummy)\n",
    "est_dummy = sm.OLS(y, X_nested_dummy_const)\n",
    "est_dummy_fit_cases = est_dummy.fit()\n",
    "print(est_dummy_fit_cases.summary())"
   ]
  },
  {
   "cell_type": "markdown",
   "metadata": {},
   "source": [
    "Including information about country and month/year drastically increases the model's explanatory ability. The model has $Adj. R^2 = 0.437$. Observing the p-values associated with the $t-tests$ for these new coeficients reveals two things. First, COVID-19 has affected some countries much more than others. It is evident that there differences between countreies which affect the number of COVID-19 cases which are not present in the data set. Second, the Covid-19 pandemic has increased and decreased in severity with November, 2020 being perhaps the worst month of the pandemic from a perspective of the amount of new cases worldwide."
   ]
  },
  {
   "cell_type": "markdown",
   "metadata": {},
   "source": [
    "We now conduct an entirely anaologous procedure, the only difference being that the response variable will now be new deaths smoothed per million rather than cases."
   ]
  },
  {
   "cell_type": "code",
   "execution_count": 93,
   "metadata": {},
   "outputs": [
    {
     "name": "stdout",
     "output_type": "stream",
     "text": [
      "                                   OLS Regression Results                                  \n",
      "===========================================================================================\n",
      "Dep. Variable:     new_deaths_smoothed_per_million   R-squared:                       0.290\n",
      "Model:                                         OLS   Adj. R-squared:                  0.283\n",
      "Method:                              Least Squares   F-statistic:                     39.84\n",
      "Date:                             Sun, 12 Dec 2021   Prob (F-statistic):          7.07e-142\n",
      "Time:                                     14:31:13   Log-Likelihood:                -5507.0\n",
      "No. Observations:                             2164   AIC:                         1.106e+04\n",
      "Df Residuals:                                 2141   BIC:                         1.119e+04\n",
      "Df Model:                                       22                                         \n",
      "Covariance Type:                         nonrobust                                         \n",
      "=========================================================================================================\n",
      "                                            coef    std err          t      P>|t|      [0.025      0.975]\n",
      "---------------------------------------------------------------------------------------------------------\n",
      "const                                    -6.9691      0.678    -10.284      0.000      -8.298      -5.640\n",
      "total_vaccinations_per_hundred           -0.0169      0.002     -6.938      0.000      -0.022      -0.012\n",
      "new_vaccinations_smoothed_per_million  8.331e-05   1.56e-05      5.347      0.000    5.28e-05       0.000\n",
      "stringency_index                          0.0596      0.005     11.939      0.000       0.050       0.069\n",
      "population_density                       -0.0002   7.11e-05     -3.479      0.001      -0.000      -0.000\n",
      "median_age                                0.1934      0.032      6.043      0.000       0.131       0.256\n",
      "aged_65_older                            -0.1353      0.040     -3.416      0.001      -0.213      -0.058\n",
      "gdp_per_capita                         -2.74e-05   4.67e-06     -5.874      0.000   -3.65e-05   -1.83e-05\n",
      "extreme_poverty                          -0.0028      0.003     -0.991      0.322      -0.008       0.003\n",
      "cardiovasc_death_rate                     0.0036      0.001      4.355      0.000       0.002       0.005\n",
      "diabetes_prevalence                       0.0384      0.026      1.466      0.143      -0.013       0.090\n",
      "female_smokers                            0.0764      0.010      7.955      0.000       0.058       0.095\n",
      "male_smokers                             -0.0290      0.007     -4.222      0.000      -0.043      -0.016\n",
      "Beta                                      0.0010      0.005      0.190      0.850      -0.009       0.011\n",
      "Epsilon                                   0.1936      0.053      3.663      0.000       0.090       0.297\n",
      "Gamma                                     0.0355      0.006      5.714      0.000       0.023       0.048\n",
      "Kappa                                    -0.0725      0.034     -2.152      0.032      -0.139      -0.006\n",
      "Iota                                     -0.0621      0.039     -1.586      0.113      -0.139       0.015\n",
      "Eta                                      -0.0008      0.023     -0.035      0.972      -0.046       0.045\n",
      "Delta                                     0.0128      0.003      5.037      0.000       0.008       0.018\n",
      "Alpha                                     0.0063      0.002      2.612      0.009       0.002       0.011\n",
      "Lambda                                    0.1367      0.012     11.208      0.000       0.113       0.161\n",
      "Mu                                       -0.0824      0.073     -1.123      0.261      -0.226       0.061\n",
      "==============================================================================\n",
      "Omnibus:                      942.828   Durbin-Watson:                   0.444\n",
      "Prob(Omnibus):                  0.000   Jarque-Bera (JB):             5060.856\n",
      "Skew:                           2.021   Prob(JB):                         0.00\n",
      "Kurtosis:                       9.308   Cond. No.                     3.91e+05\n",
      "==============================================================================\n",
      "\n",
      "Notes:\n",
      "[1] Standard Errors assume that the covariance matrix of the errors is correctly specified.\n",
      "[2] The condition number is large, 3.91e+05. This might indicate that there are\n",
      "strong multicollinearity or other numerical problems.\n"
     ]
    },
    {
     "name": "stderr",
     "output_type": "stream",
     "text": [
      "C:\\Users\\tropi\\anaconda3\\lib\\site-packages\\statsmodels\\tsa\\tsatools.py:142: FutureWarning: In a future version of pandas all arguments of concat except for the argument 'objs' will be keyword-only\n",
      "  x = pd.concat(x[::order], 1)\n"
     ]
    }
   ],
   "source": [
    "y = df['new_deaths_smoothed_per_million']\n",
    "#add a column of ones for the intercept term\n",
    "X_full = sm.add_constant(X)\n",
    "est_full = sm.OLS(y, X_full)\n",
    "est_full_fit = est_full.fit()\n",
    "print(est_full_fit.summary())"
   ]
  },
  {
   "cell_type": "markdown",
   "metadata": {},
   "source": [
    "Compared to the initial regression on new cases the regression on new deaths provides a moderatly better fit. We have $ADJ. R^2 = 0.283$ and a near zero p-value corresponding to the $F-Test$ for overall model utility. Examining the $t-tests$ for individual coefficients we see that the following are insignificant at a $95\\%$ confidence level: diabetes prevalence, extreme poverty, Beta, Iota, Eta, and Mu. One interesting finind is that the total number of vaccinations adminitered by a country was not significant in predicting new cases but IS significant in predicting new deaths. This suggests that the vaccines may not be effective at preventing infection but are effective at limiting extreme cases. We now attempt to remove the insignificant predictors."
   ]
  },
  {
   "cell_type": "code",
   "execution_count": 94,
   "metadata": {},
   "outputs": [
    {
     "name": "stdout",
     "output_type": "stream",
     "text": [
      "   df_resid           ssr  df_diff   ss_diff         F    Pr(>F)\n",
      "0    2147.0  20632.575478      0.0       NaN       NaN       NaN\n",
      "1    2141.0  20567.703868      6.0  64.87161  1.125471  0.344734\n"
     ]
    },
    {
     "name": "stderr",
     "output_type": "stream",
     "text": [
      "C:\\Users\\tropi\\anaconda3\\lib\\site-packages\\statsmodels\\tsa\\tsatools.py:142: FutureWarning: In a future version of pandas all arguments of concat except for the argument 'objs' will be keyword-only\n",
      "  x = pd.concat(x[::order], 1)\n"
     ]
    }
   ],
   "source": [
    "from statsmodels.stats.anova import anova_lm\n",
    "X_nested = X.drop(['diabetes_prevalence','Beta','Iota','Eta','Mu','extreme_poverty'], axis = 1)\n",
    "X_nested_const = sm.add_constant(X_nested)\n",
    "est_nested = sm.OLS(y, X_nested_const)\n",
    "est_nested_fit = est_nested.fit()\n",
    "print(anova_lm(est_nested_fit, est_full_fit))"
   ]
  },
  {
   "cell_type": "markdown",
   "metadata": {},
   "source": [
    "The removal of predictors is again justified by the large p-value of 0.345 in the $F-Test$ for nested linear regression models shown above. We now examine the values of the estimated parameters in the reduced model."
   ]
  },
  {
   "cell_type": "code",
   "execution_count": 95,
   "metadata": {},
   "outputs": [
    {
     "name": "stdout",
     "output_type": "stream",
     "text": [
      "                                   OLS Regression Results                                  \n",
      "===========================================================================================\n",
      "Dep. Variable:     new_deaths_smoothed_per_million   R-squared:                       0.288\n",
      "Model:                                         OLS   Adj. R-squared:                  0.283\n",
      "Method:                              Least Squares   F-statistic:                     54.35\n",
      "Date:                             Sun, 12 Dec 2021   Prob (F-statistic):          1.66e-145\n",
      "Time:                                     14:34:19   Log-Likelihood:                -5510.4\n",
      "No. Observations:                             2164   AIC:                         1.105e+04\n",
      "Df Residuals:                                 2147   BIC:                         1.115e+04\n",
      "Df Model:                                       16                                         \n",
      "Covariance Type:                         nonrobust                                         \n",
      "=========================================================================================================\n",
      "                                            coef    std err          t      P>|t|      [0.025      0.975]\n",
      "---------------------------------------------------------------------------------------------------------\n",
      "const                                    -7.1954      0.636    -11.316      0.000      -8.442      -5.948\n",
      "total_vaccinations_per_hundred           -0.0167      0.002     -6.973      0.000      -0.021      -0.012\n",
      "new_vaccinations_smoothed_per_million  8.304e-05   1.55e-05      5.363      0.000    5.27e-05       0.000\n",
      "stringency_index                          0.0607      0.005     12.329      0.000       0.051       0.070\n",
      "population_density                       -0.0003   6.72e-05     -4.053      0.000      -0.000      -0.000\n",
      "median_age                                0.2107      0.029      7.207      0.000       0.153       0.268\n",
      "aged_65_older                            -0.1583      0.036     -4.432      0.000      -0.228      -0.088\n",
      "gdp_per_capita                        -2.714e-05    4.6e-06     -5.906      0.000   -3.61e-05   -1.81e-05\n",
      "cardiovasc_death_rate                     0.0038      0.001      4.602      0.000       0.002       0.005\n",
      "female_smokers                            0.0762      0.010      8.015      0.000       0.058       0.095\n",
      "male_smokers                             -0.0285      0.007     -4.172      0.000      -0.042      -0.015\n",
      "Epsilon                                   0.1979      0.052      3.825      0.000       0.096       0.299\n",
      "Gamma                                     0.0365      0.006      5.926      0.000       0.024       0.049\n",
      "Kappa                                    -0.0709      0.034     -2.107      0.035      -0.137      -0.005\n",
      "Delta                                     0.0130      0.002      5.298      0.000       0.008       0.018\n",
      "Alpha                                     0.0061      0.002      2.514      0.012       0.001       0.011\n",
      "Lambda                                    0.1337      0.012     11.055      0.000       0.110       0.157\n",
      "==============================================================================\n",
      "Omnibus:                      945.590   Durbin-Watson:                   0.445\n",
      "Prob(Omnibus):                  0.000   Jarque-Bera (JB):             5073.948\n",
      "Skew:                           2.028   Prob(JB):                         0.00\n",
      "Kurtosis:                       9.310   Cond. No.                     3.66e+05\n",
      "==============================================================================\n",
      "\n",
      "Notes:\n",
      "[1] Standard Errors assume that the covariance matrix of the errors is correctly specified.\n",
      "[2] The condition number is large, 3.66e+05. This might indicate that there are\n",
      "strong multicollinearity or other numerical problems.\n"
     ]
    }
   ],
   "source": [
    "print(est_nested_fit.summary())"
   ]
  },
  {
   "cell_type": "markdown",
   "metadata": {},
   "source": [
    "We see many of the same phenomena which were present in the new cases model such as a positive coefficient associated with the stringency index. One interesting thing to note is that diabetes prevalence is not signficantly associated with new deaths despite diabetes commonly being referred to as a comorbitity. We hypothesize that this may be the case because diabetes is more prevalent in wealthier countries with better healthcare systems. This would also align with the fact that GDP per capita is also negatively associated with new deaths. Lastly, we note that Delta, Alpha, Lambda, Gamma, and Epsilon variants may be more deadly while Kappa may be less deadly though there is limited data for all but the Alpha and Delta variants."
   ]
  },
  {
   "cell_type": "markdown",
   "metadata": {},
   "source": [
    "Next we standardize the coefficients to allow for a direct comparison of their magnitude."
   ]
  },
  {
   "cell_type": "code",
   "execution_count": 96,
   "metadata": {},
   "outputs": [
    {
     "name": "stdout",
     "output_type": "stream",
     "text": [
      "                                 OLS Regression Results                                \n",
      "=======================================================================================\n",
      "Dep. Variable:                      y   R-squared (uncentered):                   0.288\n",
      "Model:                            OLS   Adj. R-squared (uncentered):              0.283\n",
      "Method:                 Least Squares   F-statistic:                              54.37\n",
      "Date:                Sun, 12 Dec 2021   Prob (F-statistic):                   1.41e-145\n",
      "Time:                        14:36:55   Log-Likelihood:                         -2702.7\n",
      "No. Observations:                2164   AIC:                                      5437.\n",
      "Df Residuals:                    2148   BIC:                                      5528.\n",
      "Df Model:                          16                                                  \n",
      "Covariance Type:            nonrobust                                                  \n",
      "=========================================================================================================\n",
      "                                            coef    std err          t      P>|t|      [0.025      0.975]\n",
      "---------------------------------------------------------------------------------------------------------\n",
      "total_vaccinations_per_hundred           -0.2165      0.031     -6.974      0.000      -0.277      -0.156\n",
      "new_vaccinations_smoothed_per_million     0.1250      0.023      5.364      0.000       0.079       0.171\n",
      "stringency_index                          0.2582      0.021     12.332      0.000       0.217       0.299\n",
      "population_density                       -0.0864      0.021     -4.054      0.000      -0.128      -0.045\n",
      "median_age                                0.4766      0.066      7.208      0.000       0.347       0.606\n",
      "aged_65_older                            -0.2898      0.065     -4.433      0.000      -0.418      -0.162\n",
      "gdp_per_capita                           -0.1626      0.028     -5.907      0.000      -0.217      -0.109\n",
      "cardiovasc_death_rate                     0.1108      0.024      4.604      0.000       0.064       0.158\n",
      "female_smokers                            0.2247      0.028      8.017      0.000       0.170       0.280\n",
      "male_smokers                             -0.1019      0.024     -4.173      0.000      -0.150      -0.054\n",
      "Epsilon                                   0.0707      0.018      3.825      0.000       0.034       0.107\n",
      "Gamma                                     0.1175      0.020      5.927      0.000       0.079       0.156\n",
      "Kappa                                    -0.0386      0.018     -2.107      0.035      -0.075      -0.003\n",
      "Delta                                     0.1515      0.029      5.299      0.000       0.095       0.208\n",
      "Alpha                                     0.0505      0.020      2.515      0.012       0.011       0.090\n",
      "Lambda                                    0.2165      0.020     11.057      0.000       0.178       0.255\n",
      "==============================================================================\n",
      "Omnibus:                      945.590   Durbin-Watson:                   0.445\n",
      "Prob(Omnibus):                  0.000   Jarque-Bera (JB):             5073.948\n",
      "Skew:                           2.028   Prob(JB):                         0.00\n",
      "Kurtosis:                       9.310   Cond. No.                         8.94\n",
      "==============================================================================\n",
      "\n",
      "Notes:\n",
      "[1] R² is computed without centering (uncentered) since the model does not contain a constant.\n",
      "[2] Standard Errors assume that the covariance matrix of the errors is correctly specified.\n"
     ]
    }
   ],
   "source": [
    "scaler = StandardScaler()\n",
    "scaler_y = StandardScaler()\n",
    "y_scaled = scaler_y.fit_transform(np.array(y).reshape(-1,1))\n",
    "cols = X_nested.columns\n",
    "X_nested_scaled = pd.DataFrame(scaler.fit_transform(X_nested))\n",
    "X_nested_scaled.columns = cols\n",
    "est_nested_scaled = sm.OLS(y_scaled, X_nested_scaled)\n",
    "est_nested_scaled_fit = est_nested_scaled.fit()\n",
    "print(est_nested_scaled_fit.summary())"
   ]
  },
  {
   "cell_type": "markdown",
   "metadata": {},
   "source": [
    "With the data now standardized we see that the features with the greatest affect on increasing predictions about new deaths are: strigency index and median age. The features with the greatest affect on decreasing predictions about new deaths are: proportion of population older than 65 and total vaccinations per hundred. The seemingly contradictery coefficients associated with median age and aged 65 or older are perplexing. We note that the Lambda variant may be substantially more deadly than others, though the large positive coefficient could also be due to the variant being most prevalent in under-developed countries. Lastly, these regression coefficients support the notion that the more people in a population who receive vaccines the fewer deaths that population will experience."
   ]
  },
  {
   "cell_type": "markdown",
   "metadata": {},
   "source": [
    "Finally, we redo the regression and include categorical variables signifying country and month/year."
   ]
  },
  {
   "cell_type": "code",
   "execution_count": 97,
   "metadata": {},
   "outputs": [
    {
     "name": "stdout",
     "output_type": "stream",
     "text": [
      "                                   OLS Regression Results                                  \n",
      "===========================================================================================\n",
      "Dep. Variable:     new_deaths_smoothed_per_million   R-squared:                       0.556\n",
      "Model:                                         OLS   Adj. R-squared:                  0.527\n",
      "Method:                              Least Squares   F-statistic:                     18.97\n",
      "Date:                             Sun, 12 Dec 2021   Prob (F-statistic):          9.36e-269\n",
      "Time:                                     14:39:24   Log-Likelihood:                -4999.5\n",
      "No. Observations:                             2164   AIC:                         1.027e+04\n",
      "Df Residuals:                                 2029   BIC:                         1.104e+04\n",
      "Df Model:                                      134                                         \n",
      "Covariance Type:                         nonrobust                                         \n",
      "=========================================================================================================\n",
      "                                            coef    std err          t      P>|t|      [0.025      0.975]\n",
      "---------------------------------------------------------------------------------------------------------\n",
      "const                                    -4.8748      0.616     -7.908      0.000      -6.084      -3.666\n",
      "total_vaccinations_per_hundred           -0.0218      0.002     -9.177      0.000      -0.026      -0.017\n",
      "new_vaccinations_smoothed_per_million   3.44e-05   1.68e-05      2.043      0.041    1.37e-06    6.74e-05\n",
      "stringency_index                          0.0868      0.006     15.334      0.000       0.076       0.098\n",
      "population_density                       -0.0004   6.56e-05     -6.377      0.000      -0.001      -0.000\n",
      "median_age                                0.0894      0.033      2.706      0.007       0.025       0.154\n",
      "aged_65_older                             0.0822      0.041      2.002      0.045       0.002       0.163\n",
      "gdp_per_capita                         -1.92e-05   5.27e-06     -3.641      0.000   -2.95e-05   -8.86e-06\n",
      "cardiovasc_death_rate                     0.0016      0.001      1.742      0.082      -0.000       0.003\n",
      "female_smokers                           -0.0087      0.015     -0.577      0.564      -0.038       0.021\n",
      "male_smokers                              0.0089      0.011      0.841      0.400      -0.012       0.030\n",
      "Epsilon                                   0.0443      0.050      0.892      0.373      -0.053       0.142\n",
      "Gamma                                     0.0587      0.008      7.543      0.000       0.043       0.074\n",
      "Kappa                                     0.0034      0.029      0.116      0.908      -0.054       0.061\n",
      "Delta                                     0.0317      0.005      5.846      0.000       0.021       0.042\n",
      "Alpha                                     0.0068      0.004      1.745      0.081      -0.001       0.014\n",
      "Lambda                                    0.0850      0.013      6.346      0.000       0.059       0.111\n",
      "iso_code_ARE                             -1.0338      0.633     -1.634      0.102      -2.275       0.207\n",
      "iso_code_ARG                             -0.4258      0.466     -0.914      0.361      -1.339       0.488\n",
      "iso_code_AUS                             -2.9972      0.410     -7.312      0.000      -3.801      -2.193\n",
      "iso_code_AUT                             -1.0647      0.439     -2.427      0.015      -1.925      -0.204\n",
      "iso_code_BEL                              0.4013      0.402      0.997      0.319      -0.388       1.190\n",
      "iso_code_BGD                             -3.0973      0.504     -6.141      0.000      -4.086      -2.108\n",
      "iso_code_BGR                              3.7484      0.554      6.766      0.000       2.662       4.835\n",
      "iso_code_BHR                              2.6854      0.666      4.035      0.000       1.380       3.991\n",
      "iso_code_BIH                              6.5287      1.727      3.779      0.000       3.141       9.916\n",
      "iso_code_BLZ                             -0.6334      1.414     -0.448      0.654      -3.406       2.139\n",
      "iso_code_BRA                              0.9019      0.488      1.849      0.065      -0.055       1.859\n",
      "iso_code_BWA                              2.3426      0.704      3.327      0.001       0.962       3.723\n",
      "iso_code_CAN                             -2.5278      0.419     -6.035      0.000      -3.349      -1.706\n",
      "iso_code_CHE                              0.2125      0.409      0.519      0.604      -0.590       1.015\n",
      "iso_code_CHL                             -0.6531      0.524     -1.246      0.213      -1.681       0.375\n",
      "iso_code_CMR                              0.9677      1.119      0.865      0.387      -1.227       3.162\n",
      "iso_code_COL                              2.9337      0.573      5.116      0.000       1.809       4.058\n",
      "iso_code_CRI                              0.8754      0.590      1.483      0.138      -0.282       2.033\n",
      "iso_code_CZE                              3.3089      0.505      6.550      0.000       2.318       4.300\n",
      "iso_code_DEU                             -1.9302      0.399     -4.832      0.000      -2.714      -1.147\n",
      "iso_code_DJI                              1.7106      1.256      1.362      0.173      -0.752       4.174\n",
      "iso_code_DNK                             -1.2810      0.395     -3.245      0.001      -2.055      -0.507\n",
      "iso_code_DOM                             -2.3058      1.262     -1.826      0.068      -4.782       0.170\n",
      "iso_code_ECU                             -0.2087      0.720     -0.290      0.772      -1.621       1.204\n",
      "iso_code_EGY                             -1.6939      0.740     -2.288      0.022      -3.146      -0.242\n",
      "iso_code_ESP                             -1.1979      0.409     -2.931      0.003      -2.000      -0.396\n",
      "iso_code_EST                              1.0138      0.535      1.895      0.058      -0.035       2.063\n",
      "iso_code_ETH                             -0.1475      1.428     -0.103      0.918      -2.948       2.653\n",
      "iso_code_FIN                             -2.0220      0.442     -4.574      0.000      -2.889      -1.155\n",
      "iso_code_FJI                             -1.7777      1.438     -1.237      0.216      -4.597       1.042\n",
      "iso_code_FRA                             -0.7039      0.416     -1.692      0.091      -1.520       0.112\n",
      "iso_code_GBR                              0.0453      0.402      0.113      0.910      -0.743       0.834\n",
      "iso_code_GEO                              4.3727      1.394      3.138      0.002       1.640       7.106\n",
      "iso_code_GHA                              0.3701      0.626      0.591      0.555      -0.858       1.599\n",
      "iso_code_GMB                              1.4289      0.889      1.608      0.108      -0.314       3.172\n",
      "iso_code_GRC                             -1.5448      0.507     -3.049      0.002      -2.538      -0.551\n",
      "iso_code_GTM                              1.1539      0.767      1.505      0.133      -0.350       2.658\n",
      "iso_code_HKG                             -1.5490      0.477     -3.245      0.001      -2.485      -0.613\n",
      "iso_code_HRV                              1.1686      0.587      1.989      0.047       0.016       2.321\n",
      "iso_code_HUN                              1.0269      1.431      0.718      0.473      -1.779       3.833\n",
      "iso_code_IDN                             -2.5080      0.645     -3.886      0.000      -3.774      -1.242\n",
      "iso_code_IND                             -2.8578      0.442     -6.468      0.000      -3.724      -1.991\n",
      "iso_code_IRL                             -0.7840      0.434     -1.808      0.071      -1.634       0.066\n",
      "iso_code_IRQ                             -1.8621      2.109     -0.883      0.377      -5.999       2.274\n",
      "iso_code_ISL                             -0.6326      0.492     -1.286      0.198      -1.597       0.332\n",
      "iso_code_ISR                              0.9109      0.539      1.691      0.091      -0.145       1.967\n",
      "iso_code_ITA                             -1.8004      0.432     -4.171      0.000      -2.647      -0.954\n",
      "iso_code_JAM                             -0.3177      1.764     -0.180      0.857      -3.777       3.142\n",
      "iso_code_JOR                              0.9554      0.893      1.069      0.285      -0.797       2.707\n",
      "iso_code_JPN                             -2.2966      0.542     -4.240      0.000      -3.359      -1.234\n",
      "iso_code_KAZ                              3.0425      1.088      2.796      0.005       0.909       5.176\n",
      "iso_code_KEN                             -1.4328      0.449     -3.194      0.001      -2.313      -0.553\n",
      "iso_code_KHM                             -0.8133      0.659     -1.233      0.218      -2.107       0.480\n",
      "iso_code_KOR                             -2.0295      0.494     -4.110      0.000      -2.998      -1.061\n",
      "iso_code_KWT                              0.8607      1.024      0.840      0.401      -1.148       2.869\n",
      "iso_code_LBN                              1.1736      0.839      1.399      0.162      -0.471       2.818\n",
      "iso_code_LKA                             -1.7254      0.620     -2.783      0.005      -2.941      -0.510\n",
      "iso_code_LTU                              2.9010      0.508      5.710      0.000       1.905       3.897\n",
      "iso_code_LUX                              1.8177      0.472      3.855      0.000       0.893       2.742\n",
      "iso_code_LVA                              0.8576      0.675      1.270      0.204      -0.467       2.182\n",
      "iso_code_MAR                             -1.0705      1.725     -0.621      0.535      -4.454       2.313\n",
      "iso_code_MDG                             -0.2946      0.962     -0.306      0.760      -2.182       1.592\n",
      "iso_code_MDV                             -0.9234      0.985     -0.938      0.348      -2.854       1.008\n",
      "iso_code_MEX                              1.9304      0.421      4.582      0.000       1.104       2.757\n",
      "iso_code_MKD                              4.7670      0.986      4.833      0.000       2.833       6.701\n",
      "iso_code_MLT                             -1.6959      1.096     -1.547      0.122      -3.846       0.454\n",
      "iso_code_MNE                              2.1757      1.266      1.718      0.086      -0.307       4.659\n",
      "iso_code_MOZ                             -0.8623      0.801     -1.077      0.282      -2.433       0.708\n",
      "iso_code_MWI                              0.5863      0.953      0.615      0.539      -1.284       2.456\n",
      "iso_code_MYS                             -0.6587      0.537     -1.227      0.220      -1.711       0.394\n",
      "iso_code_NGA                             -0.3648      0.609     -0.599      0.550      -1.560       0.830\n",
      "iso_code_NLD                             -0.9743      0.396     -2.457      0.014      -1.752      -0.197\n",
      "iso_code_NOR                             -1.0582      0.409     -2.588      0.010      -1.860      -0.256\n",
      "iso_code_NPL                             -1.3716      1.459     -0.940      0.347      -4.232       1.489\n",
      "iso_code_NZL                             -2.8268      0.697     -4.054      0.000      -4.194      -1.459\n",
      "iso_code_OMN                              1.3016      1.179      1.104      0.270      -1.010       3.613\n",
      "iso_code_OWID_KOS                         5.6500      1.018      5.551      0.000       3.654       7.646\n",
      "iso_code_PAK                             -1.8328      0.662     -2.767      0.006      -3.132      -0.534\n",
      "iso_code_PER                              4.7648      0.581      8.199      0.000       3.625       5.904\n",
      "iso_code_PHL                             -1.9399      0.550     -3.525      0.000      -3.019      -0.861\n",
      "iso_code_PNG                             -0.9611      0.963     -0.998      0.318      -2.850       0.928\n",
      "iso_code_POL                              0.9540      0.503      1.896      0.058      -0.033       1.941\n",
      "iso_code_PRT                             -0.8311      0.480     -1.733      0.083      -1.771       0.109\n",
      "iso_code_PRY                              0.8660      1.255      0.690      0.490      -1.596       3.328\n",
      "iso_code_QAT                              0.7562      0.509      1.485      0.138      -0.242       1.755\n",
      "iso_code_ROU                              1.0715      0.477      2.244      0.025       0.135       2.008\n",
      "iso_code_RUS                             -0.2124      0.449     -0.473      0.636      -1.093       0.668\n",
      "iso_code_RWA                             -0.7766      0.947     -0.820      0.412      -2.633       1.080\n",
      "iso_code_SEN                              0.6869      0.946      0.726      0.468      -1.169       2.543\n",
      "iso_code_SGP                              2.3228      0.421      5.512      0.000       1.496       3.149\n",
      "iso_code_SUR                             -0.2786      0.776     -0.359      0.719      -1.800       1.243\n",
      "iso_code_SVK                              3.5107      0.534      6.570      0.000       2.463       4.559\n",
      "iso_code_SVN                              1.3674      0.435      3.146      0.002       0.515       2.220\n",
      "iso_code_SWE                             -0.5287      0.401     -1.319      0.187      -1.315       0.258\n",
      "iso_code_SYC                             -3.1905      1.015     -3.143      0.002      -5.181      -1.200\n",
      "iso_code_TGO                              0.8859      1.246      0.711      0.477      -1.557       3.329\n",
      "iso_code_THA                             -2.5438      0.597     -4.259      0.000      -3.715      -1.372\n",
      "iso_code_TTO                             -1.5352      1.035     -1.484      0.138      -3.564       0.494\n",
      "iso_code_TUR                             -0.0724      0.513     -0.141      0.888      -1.077       0.933\n",
      "iso_code_UGA                             -0.6492      1.024     -0.634      0.526      -2.658       1.360\n",
      "iso_code_UKR                             -1.3380      0.909     -1.472      0.141      -3.121       0.445\n",
      "iso_code_URY                             -0.2183      0.971     -0.225      0.822      -2.122       1.685\n",
      "iso_code_USA                              1.2426      0.444      2.800      0.005       0.372       2.113\n",
      "iso_code_VNM                             -3.0282      0.954     -3.173      0.002      -4.900      -1.156\n",
      "iso_code_ZAF                              1.1452      0.418      2.737      0.006       0.324       1.966\n",
      "iso_code_ZMB                              1.3015      0.771      1.688      0.092      -0.211       2.814\n",
      "iso_code_ZWE                             -1.1074      0.895     -1.238      0.216      -2.862       0.647\n",
      "month_year_02-2021                       -0.9481      0.303     -3.131      0.002      -1.542      -0.354\n",
      "month_year_03-2021                       -2.0051      0.337     -5.956      0.000      -2.665      -1.345\n",
      "month_year_04-2021                       -1.8988      0.360     -5.276      0.000      -2.605      -1.193\n",
      "month_year_05-2020                       -3.2507      0.385     -8.441      0.000      -4.006      -2.495\n",
      "month_year_05-2021                       -2.5514      0.359     -7.112      0.000      -3.255      -1.848\n",
      "month_year_06-2020                       -2.7847      0.403     -6.915      0.000      -3.574      -1.995\n",
      "month_year_06-2021                       -3.3691      0.429     -7.851      0.000      -4.211      -2.528\n",
      "month_year_07-2020                       -2.7302      0.391     -6.979      0.000      -3.497      -1.963\n",
      "month_year_07-2021                       -4.0419      0.514     -7.862      0.000      -5.050      -3.034\n",
      "month_year_08-2020                       -2.8060      0.347     -8.088      0.000      -3.486      -2.126\n",
      "month_year_08-2021                       -3.6021      0.557     -6.467      0.000      -4.694      -2.510\n",
      "month_year_09-2020                       -2.8356      0.386     -7.351      0.000      -3.592      -2.079\n",
      "month_year_09-2021                       -2.8907      0.586     -4.932      0.000      -4.040      -1.741\n",
      "month_year_10-2020                       -2.2262      0.373     -5.976      0.000      -2.957      -1.496\n",
      "month_year_10-2021                       -2.4236      0.609     -3.981      0.000      -3.618      -1.230\n",
      "month_year_11-2020                       -0.3658      0.370     -0.989      0.323      -1.091       0.359\n",
      "month_year_11-2021                       -1.6595      0.645     -2.573      0.010      -2.924      -0.395\n",
      "month_year_12-2020                        0.5491      0.361      1.522      0.128      -0.158       1.256\n",
      "==============================================================================\n",
      "Omnibus:                      723.979   Durbin-Watson:                   0.669\n",
      "Prob(Omnibus):                  0.000   Jarque-Bera (JB):             4605.649\n",
      "Skew:                           1.425   Prob(JB):                         0.00\n",
      "Kurtosis:                       9.554   Cond. No.                     4.85e+19\n",
      "==============================================================================\n",
      "\n",
      "Notes:\n",
      "[1] Standard Errors assume that the covariance matrix of the errors is correctly specified.\n",
      "[2] The smallest eigenvalue is 1.35e-27. This might indicate that there are\n",
      "strong multicollinearity problems or that the design matrix is singular.\n"
     ]
    },
    {
     "name": "stderr",
     "output_type": "stream",
     "text": [
      "C:\\Users\\tropi\\anaconda3\\lib\\site-packages\\statsmodels\\tsa\\tsatools.py:142: FutureWarning: In a future version of pandas all arguments of concat except for the argument 'objs' will be keyword-only\n",
      "  x = pd.concat(x[::order], 1)\n"
     ]
    }
   ],
   "source": [
    "X_nested['iso_code'], X_nested['month_year'] = df['iso_code'], df['month_yr']\n",
    "X_nested_dummy = pd.get_dummies(X_nested, drop_first=True)\n",
    "X_nested_dummy_const = sm.add_constant(X_nested_dummy)\n",
    "est_dummy = sm.OLS(y, X_nested_dummy_const)\n",
    "est_dummy_fit_deaths = est_dummy.fit()\n",
    "print(est_dummy_fit_deaths.summary())"
   ]
  },
  {
   "cell_type": "markdown",
   "metadata": {},
   "source": [
    "Again we see that the including information about countries and month/year greatly improves the model. We now have $Adj. R^2 = 0.527$, meanig that 52.7% of the variance in the response can be explained by the predictors. This again suggests that the pandemic has been worse in some countries than others. Furthermore, it seems as if there remain meaningful differences between countries which are unaccounted for by country-specific quantitative variables in the data set. Finally, we can observe the coefficients for the month/year combinations and note that December, 2020 seems to have been the most deadly month in the pandemic worldwide."
   ]
  },
  {
   "cell_type": "markdown",
   "metadata": {},
   "source": [
    "The last piece of analysis we will do concering the OLS Linear Regression models is to check the validity of the assumptions associated with the model. Recall that in addition to assuming that the correct relationship between the predictors and response was linear (inductive bias) we also assumed... \n",
    "\n",
    "1.) the observations are independent\n",
    "\n",
    "2.) the error terms $\\epsilon_i$ follow a normal disribution with mean $0$\n",
    "\n",
    "3.) the error terms $\\epsilon_i$ have a constant variance equal to $\\sigma^2$\n",
    "\n",
    "We now check each of these assumptions for both of our models. We will use the models containing dummy variables for the country and month/year to check the validity of the assumptions. Our methods for checking the assumptions rely on the residuals of our model which are actual minus the fitted values, or more formally, $e_i = Y_i-\\hat{Y_i}$."
   ]
  },
  {
   "cell_type": "code",
   "execution_count": 98,
   "metadata": {},
   "outputs": [
    {
     "name": "stdout",
     "output_type": "stream",
     "text": [
      "Durbin-Watson Test Statistic - Cases Model: 0.7857818505610844\n",
      "Durbin-Watson Test Statistic - Deaths Model: 0.668827403409857\n"
     ]
    }
   ],
   "source": [
    "from statsmodels.stats.stattools import durbin_watson\n",
    "print('Durbin-Watson Test Statistic - Cases Model: ' + str(durbin_watson(est_dummy_fit_cases.resid)))\n",
    "print('Durbin-Watson Test Statistic - Deaths Model: ' + str(durbin_watson(est_dummy_fit_deaths.resid)))"
   ]
  },
  {
   "cell_type": "markdown",
   "metadata": {},
   "source": [
    "Above are the test statistics for Durbin-Watson Tests for both of our linear regression models. Durbin-Watson tests are used to detirmine is a sample has autocorrelation/serial correlation. The null hypothesis is $H_0:$ no serial correlation is present. This is one way of detirmining if assumption #1, that are observations are independent holds. The test statistic for the Durbin-Watson test looks like, $\\frac{\\sum_{i=2}^{N}(e_i-e_{i-1})^2}{\\sum_{i=1}^{N}e_i^2}$. A rule of thumb is that a Durbin-Watson test statistic value in the range $[1.5,2.5]$ signals no autocorrelation. Since both of our test statistic fall outside of this range we conclude that our data is serially correlated and thus likely to not be independent. This makes sense since our response is time series data and the number of new cases and new deaths on one day will be dependent on the number of new cases and new deaths on the previous day."
   ]
  },
  {
   "cell_type": "code",
   "execution_count": 99,
   "metadata": {},
   "outputs": [
    {
     "name": "stderr",
     "output_type": "stream",
     "text": [
      "C:\\Users\\tropi\\anaconda3\\lib\\site-packages\\statsmodels\\graphics\\gofplots.py:993: UserWarning: marker is redundantly defined by the 'marker' keyword argument and the fmt string \"bo\" (-> marker='o'). The keyword argument will take precedence.\n",
      "  ax.plot(x, y, fmt, **plot_style)\n",
      "C:\\Users\\tropi\\anaconda3\\lib\\site-packages\\statsmodels\\graphics\\gofplots.py:993: UserWarning: marker is redundantly defined by the 'marker' keyword argument and the fmt string \"bo\" (-> marker='o'). The keyword argument will take precedence.\n",
      "  ax.plot(x, y, fmt, **plot_style)\n"
     ]
    },
    {
     "data": {
      "image/png": "[encoded data removed]",
      "text/plain": [
       "<Figure size 1152x576 with 2 Axes>"
      ]
     },
     "metadata": {
      "needs_background": "light"
     },
     "output_type": "display_data"
    }
   ],
   "source": [
    "import scipy.stats as stats\n",
    "figure, ax = plt.subplots(1, 2,figsize=(16,8))\n",
    "figure.figsize=(8, 8)\n",
    "sm.qqplot(est_dummy_fit_cases.resid, stats.norm, fit=True, line=\"45\", ax = ax[0])\n",
    "ax[0].set_title('Residual vs. Normal Quantile-Quantile Plot - Cases Model')\n",
    "ax[0].set_ylabel('Sample Residual Quantiles')\n",
    "ax[0].set_xlabel('Theoretical Normal Quantiles')\n",
    "sm.qqplot(est_dummy_fit_deaths.resid, stats.norm, fit=True, line=\"45\", ax = ax[1])\n",
    "ax[1].set_title('Residual vs. Normal Quantile-Quantile Plot - Deaths Model')\n",
    "ax[1].set_ylabel('Sample Residual Quantiles')\n",
    "ax[1].set_xlabel('Theoretical Normal Quantiles')\n",
    "plt.show()"
   ]
  },
  {
   "cell_type": "markdown",
   "metadata": {},
   "source": [
    "The plots above can be used to detirmine the validity of assumption #2. More specifically such Quantile Quantile plots can be used as a visual guide to detirmine if a sample of points follows a given probabaility distribution. QQ-Plots accomplish this by comparing the quantiles of the sampled points with the quantiles of the given distribution. If the sample does indeed follow the distribution the points in the QQ-Plot will closely follow the $45^\\circ$ line. Here we are interested in detirmining if the residuals follow a normal distribution. It appears they do not. The points lying above the line suggest that the response variables are skewed right, rather than bell-shaped. This makes sense as the pandemic has impacted some countries to an extraordinary degree."
   ]
  },
  {
   "cell_type": "code",
   "execution_count": null,
   "metadata": {},
   "outputs": [
    {
     "data": {
      "image/png": "[encoded data removed]",
      "text/plain": [
       "<Figure size 1152x576 with 2 Axes>"
      ]
     },
     "metadata": {
      "needs_background": "light"
     },
     "output_type": "display_data"
    }
   ],
   "source": [
    "figure, ax = plt.subplots(1, 2,figsize=(16,8))\n",
    "figure.figsize=(8, 8)\n",
    "ax[0].scatter(x = est_dummy_fit_cases.fittedvalues, y = est_dummy_fit_cases.resid, s=8, alpha=0.5)\n",
    "ax[0].set_title('Residual vs. Fitted Value - Cases Model')\n",
    "ax[0].set_ylabel('Residual Value')\n",
    "ax[0].set_xlabel('Fitted Value')\n",
    "ax[1].scatter(x = est_dummy_fit_deaths.fittedvalues, y = est_dummy_fit_deaths.resid, s=8, alpha=0.5)\n",
    "ax[1].set_title('Residual vs. Fitted Value - Deaths Model')\n",
    "ax[1].set_ylabel('Residual Value')\n",
    "ax[1].set_xlabel('Fitted Value')\n",
    "plt.show()"
   ]
  },
  {
   "cell_type": "markdown",
   "metadata": {},
   "source": [
    "The above plots can be used to check for the validity of assumption #3. We are primarily concerned about the presence of heteroscedasticity, or non-constant variance, in which case $\\epsilon_i$ do not all have the same variance of $\\sigma^2$. If the assumption is valid the residuals will look like a random scattering of points that deviate from 0 by approximately the same amount as the fitted value changes. However, the plots above do not show a random scattering, instead we see a predominant straight line, which is odd. We suspect this may be due to the response variable being constant for over some domain of our predictors. For example, just as an unfounded hypothesis, there could be issues with data reliability such that countries report the same amount of new cases/new deaths multiple days in a row."
   ]
  },
  {
   "cell_type": "markdown",
   "metadata": {},
   "source": [
    "We see that to varying degrees none of the assumptions associated with linear regression hold. While this does not completely invlidate the model it does mean that any conclusions drawn should be taken with a grain of salt. We now explore generalized linear models (GLM) which make less assumptions to see if we can acheive better results."
   ]
  },
  {
   "cell_type": "markdown",
   "metadata": {},
   "source": [
    "# Part 2: Neural Networks"
   ]
  },
  {
   "cell_type": "code",
   "execution_count": null,
   "metadata": {},
   "outputs": [],
   "source": []
  },
  {
   "cell_type": "code",
   "execution_count": null,
   "metadata": {},
   "outputs": [],
   "source": []
  },
  {
   "cell_type": "markdown",
   "metadata": {},
   "source": [
    "# Conclusions"
   ]
  },
  {
   "cell_type": "code",
   "execution_count": null,
   "metadata": {},
   "outputs": [],
   "source": []
  },
  {
   "cell_type": "markdown",
   "metadata": {},
   "source": []
  },
  {
   "cell_type": "code",
   "execution_count": null,
   "metadata": {},
   "outputs": [],
   "source": []
  }
 ],
 "metadata": {
  "interpreter": {
   "hash": "f57d059d73ef4c451aada0e88ab41d26f66829c8e281233aea39c2964aa7cb46"
  },
  "kernelspec": {
   "display_name": "Python 3 (ipykernel)",
   "language": "python",
   "name": "python3"
  },
  "language_info": {
   "codemirror_mode": {
    "name": "ipython",
    "version": 3
   },
   "file_extension": ".py",
   "mimetype": "text/x-python",
   "name": "python",
   "nbconvert_exporter": "python",
   "pygments_lexer": "ipython3",
   "version": "3.8.11"
  }
 },
 "nbformat": 4,
 "nbformat_minor": 4
}
